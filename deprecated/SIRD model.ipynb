{
 "cells": [
  {
   "cell_type": "code",
   "execution_count": 4,
   "metadata": {},
   "outputs": [
    {
     "name": "stdout",
     "output_type": "stream",
     "text": [
      "The autoreload extension is already loaded. To reload it, use:\n",
      "  %reload_ext autoreload\n"
     ]
    }
   ],
   "source": [
    "%load_ext autoreload\n",
    "%autoreload 2\n",
    "import sys\n",
    "import os\n",
    "sys.path.append('../')\n",
    "import pandas as pd\n",
    "import numpy as np\n",
    "import matplotlib.pyplot as plt\n",
    "import matplotlib.dates as mdates\n",
    "import plotly.graph_objects as go\n",
    "import src.tools as tools\n",
    "from src.models import calibrate_SEIIIRD, SEIIIRDModel, plot_SEIIIRD\n",
    "import plotly.express as px\n",
    "from scipy.integrate import odeint\n",
    "from scipy.optimize import curve_fit\n",
    "from scipy.optimize import differential_evolution\n",
    "import scipy.integrate as integrate\n",
    "from src.data_downloader import DATA_REPOS, download_from_repo"
   ]
  },
  {
   "cell_type": "markdown",
   "metadata": {},
   "source": [
    "### update data from repos"
   ]
  },
  {
   "cell_type": "code",
   "execution_count": 5,
   "metadata": {},
   "outputs": [],
   "source": [
    "dest='/home/maurizio/Documents/projects/coronavirus/data'"
   ]
  },
  {
   "cell_type": "code",
   "execution_count": 3,
   "metadata": {
    "scrolled": true
   },
   "outputs": [
    {
     "name": "stdout",
     "output_type": "stream",
     "text": [
      "last commit  2020-04-01 02:08:36\n"
     ]
    }
   ],
   "source": [
    "download_from_repo(DATA_REPOS['world']['url'], filenames=DATA_REPOS['world']['streams'], dest=dest)"
   ]
  },
  {
   "cell_type": "code",
   "execution_count": 4,
   "metadata": {},
   "outputs": [
    {
     "name": "stdout",
     "output_type": "stream",
     "text": [
      "could not retrieve repo infos,  Error -5 while decompressing data: incomplete or truncated stream\n"
     ]
    }
   ],
   "source": [
    "download_from_repo(DATA_REPOS['italy']['url'], filenames=DATA_REPOS['italy']['streams'], dest=dest)"
   ]
  },
  {
   "cell_type": "markdown",
   "metadata": {},
   "source": [
    "## SIRD Model definition"
   ]
  },
  {
   "cell_type": "code",
   "execution_count": 6,
   "metadata": {},
   "outputs": [],
   "source": [
    "# SIR model differential equations\n",
    "def SIR_deriv(y, t, N, beta, gamma, theta):\n",
    "    S, I, R, D = y\n",
    "    dSdt = -beta * S * I / N\n",
    "    dIdt = beta * S * I / N - gamma * I\n",
    "    dRdt = gamma * I\n",
    "    dDdt = theta * I\n",
    "    return dSdt, dIdt, dRdt, dDdt\n",
    "\n",
    "def SIRModel_solver(t, beta, gamma, theta):\n",
    "    return SIRModel(t, beta, gamma, theta)[3] # returns just D for optimizer\n",
    "\n",
    "def SIRModel(t, beta, gamma, theta):\n",
    "    # Initial conditions vector\n",
    "    y0 = S0, I0, R0, D0\n",
    "    # Integrate the SIR equations over time t\n",
    "    ret = odeint(SIR_deriv, y0, t, args=(N, beta, gamma, theta))\n",
    "    S, I, R, D = ret.T\n",
    "    return S, I, R, D\n",
    "\n",
    "def diff_ev_solver(params):\n",
    "    beta, gamma, theta = params\n",
    "    return np.mean(np.abs(SIRModel_solver(x_fit, beta, gamma, theta) - y_fit))"
   ]
  },
  {
   "cell_type": "markdown",
   "metadata": {},
   "source": [
    "### toy example"
   ]
  },
  {
   "cell_type": "code",
   "execution_count": 7,
   "metadata": {},
   "outputs": [
    {
     "name": "stdout",
     "output_type": "stream",
     "text": [
      "beta:  0.2\n",
      "gamma:  0.1\n",
      "theta:  0.015\n",
      "r0:  2.0\n",
      "mean period of time of infection:  10.0\n"
     ]
    },
    {
     "data": {
      "text/plain": [
       "<matplotlib.legend.Legend at 0x7f9efa20e390>"
      ]
     },
     "execution_count": 7,
     "metadata": {},
     "output_type": "execute_result"
    },
    {
     "data": {
      "image/png": "[encoded data removed]",
      "text/plain": [
       "<Figure size 432x288 with 1 Axes>"
      ]
     },
     "metadata": {
      "needs_background": "light"
     },
     "output_type": "display_data"
    }
   ],
   "source": [
    "N = 1000 # total population Italy\n",
    "I0 = 16 # Initial number of infected people (10x official estimates hypothesis)\n",
    "R0 = 0 # Initial number of recovered\n",
    "S0 = N - I0 - R0 # Initial susceptible population to infection.\n",
    "D0 = 0 # number of deaths at initial time\n",
    "\n",
    "params = (0.2, 0.1, 0.015)\n",
    "S, I , R, D = SIRModel(range(200), *params)\n",
    "print('beta: ', params[0])\n",
    "print('gamma: ', params[1])\n",
    "print('theta: ', params[2])\n",
    "print('r0: ', params[0]/params[1])\n",
    "print('mean period of time of infection: ', 1/params[1])\n",
    "\n",
    "plt.plot(I, label='infected')\n",
    "plt.plot(D, label='deaths')\n",
    "plt.plot(R, label='recovered')\n",
    "plt.plot(S, label='susceptible')\n",
    "#plt.yscale('log')\n",
    "#ax.yaxis.set_major_formatter(ScalarFormatter())\n",
    "\n",
    "#plt.ylim(0,10000)\n",
    "plt.legend()"
   ]
  },
  {
   "cell_type": "markdown",
   "metadata": {},
   "source": [
    "### fit to official death data"
   ]
  },
  {
   "cell_type": "code",
   "execution_count": 10,
   "metadata": {
    "scrolled": false
   },
   "outputs": [
    {
     "name": "stdout",
     "output_type": "stream",
     "text": [
      "calibrating with genetic algorithm...\n",
      "beta:  2.2516497625753216\n",
      "gamma:  2.0766388387846946\n",
      "theta:  0.004442556629200349\n",
      "r0:  1.081961410801764\n",
      "mean period of time of infection:  0.4815473838412977\n",
      "max number of infections  189328.02061997738\n",
      "max number of deaths  19610.485130133886\n",
      "mae  84.34712275087908\n"
     ]
    },
    {
     "data": {
      "text/plain": [
       "<matplotlib.legend.Legend at 0x7f9ef9885610>"
      ]
     },
     "execution_count": 10,
     "metadata": {},
     "output_type": "execute_result"
    },
    {
     "data": {
      "image/png": "[encoded data removed]",
      "text/plain": [
       "<Figure size 432x288 with 2 Axes>"
      ]
     },
     "metadata": {
      "needs_background": "light"
     },
     "output_type": "display_data"
    }
   ],
   "source": [
    "use_differential_evolution = True\n",
    "cases_multiplier = 10\n",
    "df = pd.read_csv('../data/dpc-covid19-ita-andamento-nazionale.csv').drop('stato',1)\n",
    "y_fit = df['deceduti'].values#df['deceduti'].values\n",
    "x_fit = np.linspace(0, len(y_fit), len(y_fit))\n",
    "N = 60431283 # total population Italy\n",
    "I0 = cases_multiplier*df['totale_positivi'].iloc[0] # Initial number of infected people (10x official estimates hypothesis)\n",
    "R0 = 0 #df['dimessi_guariti'].iloc[0] # Initial number of recovered\n",
    "S0 = N - I0 - R0 # Initial susceptible population to infection.\n",
    "D0 = 0 # number of deaths at initial time\n",
    "\n",
    "bounds = [(-5,5), (-5, 5), (-5, 5)]\n",
    "if use_differential_evolution:\n",
    "    print('calibrating with genetic algorithm...')\n",
    "    optimization = differential_evolution(diff_ev_solver, bounds)\n",
    "    params = optimization.x\n",
    "else:\n",
    "    params, covariances = curve_fit(f=SIRModel_solver, xdata=x_fit, ydata=y_fit, method='trf', bounds=bounds[0])\n",
    "S, I , R, D = SIRModel(range(90), *params)\n",
    "print('beta: ', params[0])\n",
    "print('gamma: ', params[1])\n",
    "print('theta: ', params[2])\n",
    "print('r0: ', params[0]/(params[1]+params[2]))\n",
    "print('mean period of time of infection: ', 1/params[1])\n",
    "print('max number of infections ', np.max(I))\n",
    "print('max number of deaths ', np.max(D))\n",
    "print('mae ', np.mean(np.abs(y_fit - SIRModel_solver(x_fit, *params))))\n",
    "fig, ax1 = plt.subplots()\n",
    "ax1.plot(D,'r', label='deaths '+str(int(np.max(D))))\n",
    "ax1.plot(y_fit,'x', label='true deaths')\n",
    "ax1.legend(loc='upper left')\n",
    "ax2 = ax1.twinx()\n",
    "plt.ylim(0,1.2*np.max(I))\n",
    "ax2.plot(I,'b', label='infected '+str(int(np.max(I))))\n",
    "ax2.plot(R,'g', label='recovered')\n",
    "ax2.plot(S,'y', label='susceptible')\n",
    "\n",
    "\n",
    "ax2.legend()"
   ]
  },
  {
   "cell_type": "markdown",
   "metadata": {
    "heading_collapsed": true
   },
   "source": [
    "## SEIR Model definition"
   ]
  },
  {
   "cell_type": "code",
   "execution_count": 48,
   "metadata": {
    "hidden": true,
    "scrolled": true
   },
   "outputs": [],
   "source": [
    "def SEIRModel(t, S0, E0, I0, R0, r0, dur_inf, dur_inc):\n",
    "    # SEIR model differential equations\n",
    "    def SEIR_deriv(y, t, r0, dur_inf, dur_inc):\n",
    "        S, E, I, R = y\n",
    "        alpha = 1/dur_inc\n",
    "        gamma = 1/dur_inf\n",
    "        beta = r0 * gamma\n",
    "        dSdt = -beta * S * I/N\n",
    "        dEdt = beta * S * I/N - alpha * E\n",
    "        dIdt = alpha * E - gamma * I\n",
    "        dRdt = gamma * I\n",
    "        return dSdt, dEdt, dIdt, dRdt\n",
    "    # Initial conditions vector\n",
    "    y0 = S0, E0, I0, R0\n",
    "    # Integrate the SIR equations over time t\n",
    "    ret = odeint(SEIR_deriv, y0, t, args=(r0, dur_inf, dur_inc))\n",
    "    S, E, I, R = ret.T\n",
    "    return S, E, I, R\n",
    "\n",
    "def calibrate_SEIR(y_fit,\n",
    "                   N,\n",
    "                   I0,\n",
    "                   R0 = 0,\n",
    "                   E0 = 0,\n",
    "                   CFR = 0.02,\n",
    "                   time_horizon = 365,\n",
    "                   bounds= [(0,5), (1, 30), (1, 30)],\n",
    "                   use_differential_evolution = True):\n",
    "    \n",
    "    # SEIR model differential equations\n",
    "    def SEIR_deriv(y, t, r0, dur_inf, dur_inc):\n",
    "        S, E, I, R = y\n",
    "        alpha = 1/dur_inc\n",
    "        gamma = 1/dur_inf\n",
    "        beta = r0 * gamma\n",
    "        dSdt = -beta * S * I/N\n",
    "        dEdt = beta * S * I/N - alpha * E\n",
    "        dIdt = alpha * E - gamma * I\n",
    "        dRdt = gamma * I\n",
    "        return dSdt, dEdt, dIdt, dRdt\n",
    "\n",
    "    def SEIRModel_solver(t, r0, dur_inf, dur_inc):\n",
    "        # Initial conditions vector\n",
    "        y0 = S0, E0, I0, R0\n",
    "        # Integrate the SIR equations over time t\n",
    "        ret = odeint(SEIR_deriv, y0, t, args=(r0, dur_inf, dur_inc))\n",
    "        S, E, I, R = ret.T\n",
    "        return I\n",
    "\n",
    "    def diff_ev_solver(params):\n",
    "        r0, dur_inf, dur_inc = params\n",
    "        return np.mean(np.abs(SEIRModel_solver(x_fit, r0, dur_inf, dur_inc) - y_fit))    \n",
    "    \n",
    "    x_fit = np.linspace(0, len(y_fit), len(y_fit))\n",
    "    S0 = N - I0 - R0 - E0 # Initial susceptible population to infection.\n",
    "    if use_differential_evolution:\n",
    "        print('calibrating with genetic algorithm...')\n",
    "        optimization = differential_evolution(diff_ev_solver, bounds, popsize=150, maxiter=10000)\n",
    "        params = optimization.x\n",
    "    else:\n",
    "        lo_bound = []\n",
    "        up_bound = []\n",
    "        for bound in bounds:\n",
    "            lo_bound.append(bound[0])\n",
    "            up_bound.append(bound[1])\n",
    "        params, _ = curve_fit(f=SEIRModel_solver, xdata=x_fit, ydata=y_fit,\n",
    "                                method='trf', bounds=(lo_bound, up_bound))\n",
    "    r0, dur_inf, dur_inc = params\n",
    "    \n",
    "    total_deaths = integrate.quad(lambda x: CFR*SEIRModel((x,), S0, E0, I0, R0, r0, dur_inf, dur_inc)[2], 0, time_horizon)[0]\n",
    "\n",
    "    print('total deaths', total_deaths)\n",
    "    print('r0', params[0])\n",
    "    print('infection period in days', params[1])\n",
    "    print('incubation period in days', params[2])\n",
    "    print('mae ',int(np.mean(np.abs(y_fit-SEIRModel_solver(x_fit, *params)))))\n",
    "    return r0, dur_inf, dur_inc\n",
    "\n",
    "def plot_SEIR(time_range, E0, I0, R0, r0, dur_inf, dur_inc, y = None):\n",
    "    \n",
    "    S0 = N - I0 - R0 - E0\n",
    "    S, E, I, R = SEIRModel(time_range, S0, E0, I0, R0, r0, dur_inf, dur_inc)\n",
    "    print('max number of infections ', int(np.max(I)))\n",
    "    print('peak of infections ', np.argmax(I))\n",
    "    print('max number of exposed ', int(np.max(E)))\n",
    "    print('max number of recovered ', int(np.max(R)))\n",
    "    \n",
    "    fig, ax1 = plt.subplots()\n",
    "    if y is not None:\n",
    "        ax1.plot(y,'x', label='actual infected')\n",
    "    ax1.plot(I,'b', label='infected - max '+str(int(np.max(I))))\n",
    "    #ax1.plot(R,'g', label='recovered')\n",
    "    #x1.plot(E,'y', label='exposed')\n",
    "    ax1.legend(loc='upper left')\n",
    "\n",
    "    "
   ]
  },
  {
   "cell_type": "markdown",
   "metadata": {
    "hidden": true
   },
   "source": [
    "### check model params"
   ]
  },
  {
   "cell_type": "code",
   "execution_count": 49,
   "metadata": {
    "hidden": true
   },
   "outputs": [
    {
     "name": "stdout",
     "output_type": "stream",
     "text": [
      "max number of infections  62723\n",
      "peak of infections  72\n",
      "max number of exposed  115138\n",
      "max number of recovered  798206\n"
     ]
    },
    {
     "data": {
      "image/png": "[encoded data removed]",
      "text/plain": [
       "<Figure size 432x288 with 1 Axes>"
      ]
     },
     "metadata": {
      "needs_background": "light"
     },
     "output_type": "display_data"
    }
   ],
   "source": [
    "N = 946002\n",
    "I0 = 117\n",
    "R0 = 0\n",
    "E0 = 0\n",
    "time_range = range(250)\n",
    "r0, dur_inf, dur_inc = (2.2, 2.9, 5.2)\n",
    "plot_SEIR(time_range, E0, I0, R0, r0, dur_inf, dur_inc)"
   ]
  },
  {
   "cell_type": "markdown",
   "metadata": {
    "hidden": true
   },
   "source": [
    "### calibrate to italian case"
   ]
  },
  {
   "cell_type": "code",
   "execution_count": 50,
   "metadata": {
    "hidden": true
   },
   "outputs": [
    {
     "name": "stdout",
     "output_type": "stream",
     "text": [
      "calibrating with genetic algorithm...\n",
      "total deaths 16133.000000000002\n",
      "r0 4.985235167638902\n",
      "infection period in days 17.166740812875904\n",
      "incubation period in days 1.0012200222160006\n",
      "mae  73423\n",
      "max number of infections  27767510\n",
      "peak of infections  62\n",
      "max number of exposed  2814400\n",
      "max number of recovered  61396857\n"
     ]
    },
    {
     "data": {
      "image/png": "[encoded data removed]",
      "text/plain": [
       "<Figure size 432x288 with 1 Axes>"
      ]
     },
     "metadata": {
      "needs_background": "light"
     },
     "output_type": "display_data"
    }
   ],
   "source": [
    "cases_multiplier = 10\n",
    "df = pd.read_csv('../data/dpc-covid19-ita-andamento-nazionale.csv').drop('stato',1)\n",
    "N = 61836230# 60431283\n",
    "I0 = cases_multiplier*df['totale_attualmente_positivi'].iloc[0]\n",
    "y_fit = cases_multiplier * df['totale_attualmente_positivi'].values\n",
    "R0 = 0\n",
    "E0 = 0\n",
    "time_range = range(250)\n",
    "r0, dur_inf, dur_inc = calibrate_SEIR(y_fit = y_fit,               \n",
    "                                      N = N,\n",
    "                                      I0 = I0,\n",
    "                                      R0 = R0,\n",
    "                                      E0 = E0,\n",
    "                                      CFR = 0.02,\n",
    "                                      time_horizon = 365,\n",
    "                                      bounds= [(0,5), (1, 30), (1, 30)],\n",
    "                                      use_differential_evolution = True)\n",
    "plot_SEIR(time_range, E0, I0, R0, r0, dur_inf, dur_inc, y_fit)"
   ]
  },
  {
   "cell_type": "markdown",
   "metadata": {
    "heading_collapsed": true
   },
   "source": [
    "## SEIRD Model definition"
   ]
  },
  {
   "cell_type": "code",
   "execution_count": 88,
   "metadata": {
    "hidden": true,
    "scrolled": true
   },
   "outputs": [],
   "source": [
    "def SEIRDModel(t, S0, E0, I0, R0, D0, r0, dur_inf, dur_inc, theta):\n",
    "    # SEIR model differential equations\n",
    "    def SEIRD_deriv(y, t, r0, dur_inf, dur_inc, theta):\n",
    "        S, E, I, R, D = y\n",
    "        alpha = 1/dur_inc\n",
    "        gamma = 1/dur_inf\n",
    "        beta = r0 * (gamma)# + theta)\n",
    "        dSdt = -beta * S * I/N\n",
    "        dEdt = beta * S * I/N - alpha * E\n",
    "        dIdt = alpha * E - gamma * I# - theta * I\n",
    "        dRdt = gamma * I * (1 - theta)\n",
    "        dDdt = theta * I# * (1 - gamma)\n",
    "        return dSdt, dEdt, dIdt, dRdt, dDdt\n",
    "    # Initial conditions vector\n",
    "    y0 = S0, E0, I0, R0, D0\n",
    "    # Integrate the SIR equations over time t\n",
    "    ret = odeint(SEIRD_deriv, y0, t, args=(r0, dur_inf, dur_inc, theta))\n",
    "    S, E, I, R, D = ret.T\n",
    "    return S, E, I, R, D\n",
    "\n",
    "def calibrate_SEIRD(y_fit,\n",
    "                   N,\n",
    "                   I0,\n",
    "                   R0 = 0,\n",
    "                   E0 = 0,\n",
    "                   D0 = 0,                   \n",
    "                   time_horizon = 365,\n",
    "                   bounds= [(0,5), (1, 30), (1, 30), (0,1.)],\n",
    "                   use_differential_evolution = True):\n",
    "    \n",
    "    # SEIR model differential equations\n",
    "    def SEIRD_deriv(y, t, r0, dur_inf, dur_inc, theta):\n",
    "        S, E, I, R, D = y\n",
    "        alpha = 1/dur_inc\n",
    "        gamma = 1/dur_inf\n",
    "        beta = r0 * (gamma + theta)\n",
    "        dSdt = -beta * S * I/N\n",
    "        dEdt = beta * S * I/N - alpha * E\n",
    "        dIdt = alpha * E - gamma * I# - theta * I\n",
    "        dRdt = gamma * I * (1 - theta)\n",
    "        dDdt = theta * I# * (1 - gamma)\n",
    "        return dSdt, dEdt, dIdt, dRdt, dDdt\n",
    "\n",
    "    def SEIRDModel_solver(t, r0, dur_inf, dur_inc, theta):\n",
    "        # Initial conditions vector\n",
    "        y0 = S0, E0, I0, R0, D0\n",
    "        # Integrate the SIR equations over time t\n",
    "        ret = odeint(SEIRD_deriv, y0, t, args=(r0, dur_inf, dur_inc, theta))\n",
    "        S, E, I, R, D = ret.T\n",
    "        return D\n",
    "\n",
    "    def diff_ev_solver(params):\n",
    "        r0, dur_inf, dur_inc, theta = params\n",
    "        return np.mean(np.abs(SEIRDModel_solver(x_fit, r0, dur_inf, dur_inc, theta) - y_fit))    \n",
    "    \n",
    "    x_fit = np.linspace(0, len(y_fit), len(y_fit))\n",
    "    S0 = N - I0 - R0 - E0 - D0 # Initial susceptible population to infection.\n",
    "    if use_differential_evolution:\n",
    "        print('calibrating with genetic algorithm...')\n",
    "        optimization = differential_evolution(diff_ev_solver, bounds, popsize=150, maxiter=10000)\n",
    "        params = optimization.x\n",
    "    else:\n",
    "        lo_bound = []\n",
    "        up_bound = []\n",
    "        for bound in bounds:\n",
    "            lo_bound.append(bound[0])\n",
    "            up_bound.append(bound[1])\n",
    "        params, _ = curve_fit(f=SEIRDModel_solver, xdata=x_fit, ydata=y_fit,\n",
    "                                method='trf', bounds=(lo_bound, up_bound))\n",
    "    r0, dur_inf, dur_inc, theta = params\n",
    "    \n",
    "    #total_deaths = integrate.quad(lambda x: CFR*SEIRModel((x,), S0, E0, I0, R0, r0, dur_inf, dur_inc)[2], 0, 250)[0]\n",
    "\n",
    "    print('CFR ', theta)\n",
    "    print('r0', params[0])\n",
    "    print('infection period in days', params[1])\n",
    "    print('incubation period in days', params[2])\n",
    "    print('mae ',int(np.mean(np.abs(y_fit-SEIRDModel_solver(x_fit, *params)))))\n",
    "    return r0, dur_inf, dur_inc, theta\n",
    "\n",
    "def plot_SEIRD(time_range, E0, I0, R0, D0, r0, dur_inf, dur_inc, theta, y = None):\n",
    "    \n",
    "    S0 = N - I0 - R0 - E0 - D0\n",
    "    S, E, I, R, D = SEIRDModel(time_range, S0, E0, I0, R0, D0, r0, dur_inf, dur_inc, theta)\n",
    "    print('max number of infections ', int(np.max(I)))\n",
    "    print('peak of infections ', np.argmax(I))\n",
    "    print('max number of exposed ', int(np.max(E)))\n",
    "    print('max number of recovered ', int(np.max(R)))\n",
    "    print('max number of deaths ', int(np.max(D)))\n",
    "    \n",
    "    fig, ax1 = plt.subplots()\n",
    "    if y is not None:\n",
    "        ax1.plot(y,'x', label='actual deaths')\n",
    "    ax1.plot(I,'b', label='infected - max '+str(int(np.max(I))))\n",
    "    ax1.plot(D,'r', label='deaths - max '+str(int(np.max(D))))\n",
    "    #x1.plot(E,'y', label='exposed')\n",
    "    ax1.legend(loc='upper left')\n",
    "\n",
    "    "
   ]
  },
  {
   "cell_type": "markdown",
   "metadata": {
    "hidden": true
   },
   "source": [
    "### check model params"
   ]
  },
  {
   "cell_type": "code",
   "execution_count": 89,
   "metadata": {
    "hidden": true,
    "scrolled": true
   },
   "outputs": [
    {
     "name": "stdout",
     "output_type": "stream",
     "text": [
      "max number of infections  3150220\n",
      "peak of infections  158\n",
      "max number of exposed  5283637\n",
      "max number of recovered  46647956\n",
      "max number of deaths  2564453\n"
     ]
    },
    {
     "data": {
      "image/png": "[encoded data removed]",
      "text/plain": [
       "<Figure size 432x288 with 1 Axes>"
      ]
     },
     "metadata": {
      "needs_background": "light"
     },
     "output_type": "display_data"
    }
   ],
   "source": [
    "cases_multiplier = 10\n",
    "df = pd.read_csv('../data/dpc-covid19-ita-andamento-nazionale.csv').drop('stato',1)\n",
    "N = 61836230\n",
    "I0 = 120\n",
    "R0 = 0\n",
    "E0 = 0\n",
    "D0 = 0\n",
    "time_range = range(250)\n",
    "r0, dur_inf, dur_inc, theta = (1.9, 3.61, 5.95, 0.015)\n",
    "plot_SEIRD(time_range, E0, I0, R0, D0, r0, dur_inf, dur_inc, theta)"
   ]
  },
  {
   "cell_type": "markdown",
   "metadata": {
    "hidden": true
   },
   "source": [
    "### calibrate to italian case"
   ]
  },
  {
   "cell_type": "code",
   "execution_count": 92,
   "metadata": {
    "hidden": true
   },
   "outputs": [
    {
     "name": "stdout",
     "output_type": "stream",
     "text": [
      "calibrating with genetic algorithm...\n",
      "CFR  0.10114287871839023\n",
      "r0 1.3151951524230145\n",
      "infection period in days 26.246158584478835\n",
      "incubation period in days 1.019067149302817\n",
      "mae  231\n",
      "max number of infections  3623\n",
      "peak of infections  249\n",
      "max number of exposed  182\n",
      "max number of recovered  10230\n",
      "max number of deaths  30212\n"
     ]
    },
    {
     "data": {
      "image/png": "[encoded data removed]",
      "text/plain": [
       "<Figure size 432x288 with 1 Axes>"
      ]
     },
     "metadata": {
      "needs_background": "light"
     },
     "output_type": "display_data"
    }
   ],
   "source": [
    "cases_multiplier = 1\n",
    "df = pd.read_csv('../data/dpc-covid19-ita-andamento-nazionale.csv').drop('stato',1)\n",
    "N = 61836230# 60431283\n",
    "I0 = cases_multiplier*df['totale_attualmente_positivi'].iloc[0]\n",
    "y_fit = df['deceduti'].values\n",
    "R0 = 0\n",
    "E0 = 0\n",
    "D0 = 0\n",
    "time_range = range(250)\n",
    "r0, dur_inf, dur_inc, theta = calibrate_SEIRD(y_fit = y_fit,               \n",
    "                                      N = N,\n",
    "                                      I0 = I0,\n",
    "                                      R0 = R0,\n",
    "                                      E0 = E0,\n",
    "                                      D0 = D0,\n",
    "                                      time_horizon = 365,\n",
    "                                      bounds= [(0,5), (1, 30), (1, 30), (0,1)],\n",
    "                                      use_differential_evolution = True)\n",
    "plot_SEIRD(time_range, E0, I0, R0, D0, r0, dur_inf, dur_inc, theta, y_fit)"
   ]
  },
  {
   "cell_type": "code",
   "execution_count": null,
   "metadata": {
    "hidden": true
   },
   "outputs": [],
   "source": []
  },
  {
   "cell_type": "code",
   "execution_count": null,
   "metadata": {
    "hidden": true
   },
   "outputs": [],
   "source": []
  },
  {
   "cell_type": "code",
   "execution_count": null,
   "metadata": {
    "hidden": true
   },
   "outputs": [],
   "source": []
  },
  {
   "cell_type": "markdown",
   "metadata": {},
   "source": [
    "## SEIIIRD Model definition"
   ]
  },
  {
   "cell_type": "markdown",
   "metadata": {},
   "source": [
    "### check model params"
   ]
  },
  {
   "cell_type": "code",
   "execution_count": 5,
   "metadata": {},
   "outputs": [
    {
     "name": "stdout",
     "output_type": "stream",
     "text": [
      "mu 0.03666666666666667\n",
      "CFR 0.05500000000000001\n"
     ]
    }
   ],
   "source": [
    "FracCritical = 0.10\n",
    "DeathRateCritical = 0.55\n",
    "DurICU = 15\n",
    "CFR = DeathRateCritical*FracCritical\n",
    "mu = (1/DurICU)*(CFR/FracCritical)\n",
    "print('mu',mu)\n",
    "print('CFR', CFR)"
   ]
  },
  {
   "cell_type": "code",
   "execution_count": 6,
   "metadata": {},
   "outputs": [],
   "source": [
    "from ipywidgets import interact, interactive, fixed, interact_manual, FloatSlider, IntSlider\n",
    "import ipywidgets as widgets"
   ]
  },
  {
   "cell_type": "code",
   "execution_count": 83,
   "metadata": {},
   "outputs": [
    {
     "data": {
      "text/plain": [
       "range(1, 300)"
      ]
     },
     "execution_count": 83,
     "metadata": {},
     "output_type": "execute_result"
    }
   ],
   "source": [
    "time_range"
   ]
  },
  {
   "cell_type": "code",
   "execution_count": 89,
   "metadata": {
    "scrolled": true
   },
   "outputs": [
    {
     "data": {
      "application/vnd.jupyter.widget-view+json": {
       "model_id": "ebf95cf872d74620b4c1ff18c20c7f4f",
       "version_major": 2,
       "version_minor": 0
      },
      "text/plain": [
       "interactive(children=(FloatSlider(value=0.3, description='b1', max=0.8999999999999999, min=-0.3), IntSlider(va…"
      ]
     },
     "metadata": {},
     "output_type": "display_data"
    }
   ],
   "source": [
    "beta1slider = widgets.FloatSlider(min=0.,max=1.,step=.01,description='beta1:',value=.3)\n",
    "beta2slider = widgets.FloatSlider(min=0.,max=1.,step=.01,description='beta2:',value=.3)\n",
    "beta3slider = widgets.FloatSlider(min=0.,max=1.,step=.01,description='beta3:',value=.3)\n",
    "def sigmoid_demo(b1, b2, b3):\n",
    "    print(b1*b2*b3)\n",
    "beta1slider.observe(sigmoid_demo)\n",
    "w = interactive(sigmoid_demo, b1=beta1slider.value, b2=5, b3=3)\n",
    "\n",
    "display(w)"
   ]
  },
  {
   "cell_type": "code",
   "execution_count": 106,
   "metadata": {},
   "outputs": [
    {
     "data": {
      "application/vnd.jupyter.widget-view+json": {
       "model_id": "3d64c1d3806a4b1fb0d7c55f2d23b14e",
       "version_major": 2,
       "version_minor": 0
      },
      "text/plain": [
       "interactive(children=(IntRangeSlider(value=(1, 300), description='time_range', max=300, min=1), IntSlider(valu…"
      ]
     },
     "metadata": {},
     "output_type": "display_data"
    }
   ],
   "source": [
    "N = 1000\n",
    "I10 = 1\n",
    "I20 = 0\n",
    "I30 = 0\n",
    "R0 = 0\n",
    "E0 = 0\n",
    "D0 = 0\n",
    "S0 = N-I10-I20-I30-R0-E0-D0\n",
    "time_range = range(1,300)\n",
    "w=interactive(plot_SEIIIRD, \n",
    "              time_range = widgets.IntRangeSlider(value=(1, 3000), min=1,max=300), \n",
    "              S0=N-I10-I20-I30-R0-E0-D0,\n",
    "              E0=E0,\n",
    "              I10=I10,\n",
    "              I20=I20,\n",
    "              I30=I30,\n",
    "              R0=R0,\n",
    "              D0=D0,\n",
    "              beta1=widgets.FloatSlider(min=0.,max=1.,step=.01,description='beta1:',value=.3),\n",
    "              beta2=widgets.FloatSlider(min=0.,max=1.,step=.01,description='beta2:',value=.01), \n",
    "              beta3=widgets.FloatSlider(min=0.,max=1.,step=.01,description='beta3:',value=.01), \n",
    "              IncubPeriod = widgets.IntSlider(value=5,min=0,max=30),\n",
    "              DurMildInf = widgets.IntSlider(value=8,min=0,max=30),\n",
    "              FracSevere = widgets.FloatSlider(min=0.,max=1.,step=.01,value=.15), \n",
    "              DurHosp = widgets.IntSlider(value=8,min=0,max=30),\n",
    "              FracCritical = widgets.FloatSlider(min=0.,max=1.,step=.01,value=.05),\n",
    "              DurICU = widgets.IntSlider(value=8,min=0,max=30),\n",
    "              CFR = widgets.FloatSlider(min=0.01,max=1.,step=.01,value=.05),\n",
    "              plot_output = [['S','E','I','D']]\n",
    "             )\n",
    "w"
   ]
  },
  {
   "cell_type": "code",
   "execution_count": 102,
   "metadata": {
    "scrolled": false
   },
   "outputs": [
    {
     "name": "stdout",
     "output_type": "stream",
     "text": [
      "max number of infections  43\n",
      "peak of infections  138\n",
      "max number of exposed  29\n",
      "max number of recovered  570\n",
      "max number of deaths  11\n",
      "r0  1.5\n"
     ]
    },
    {
     "data": {
      "application/vnd.plotly.v1+json": {
       "config": {
        "plotlyServerURL": "https://plot.ly"
       },
       "data": [
        {
         "mode": "lines",
         "name": "Susceptibles",
         "type": "scatter",
         "x": [
          1,
          2,
          3,
          4,
          5,
          6,
          7,
          8,
          9,
          10,
          11,
          12,
          13,
          14,
          15,
          16,
          17,
          18,
          19,
          20,
          21,
          22,
          23,
          24,
          25,
          26,
          27,
          28,
          29,
          30,
          31,
          32,
          33,
          34,
          35,
          36,
          37,
          38,
          39,
          40,
          41,
          42,
          43,
          44,
          45,
          46,
          47,
          48,
          49,
          50,
          51,
          52,
          53,
          54,
          55,
          56,
          57,
          58,
          59,
          60,
          61,
          62,
          63,
          64,
          65,
          66,
          67,
          68,
          69,
          70,
          71,
          72,
          73,
          74,
          75,
          76,
          77,
          78,
          79,
          80,
          81,
          82,
          83,
          84,
          85,
          86,
          87,
          88,
          89,
          90,
          91,
          92,
          93,
          94,
          95,
          96,
          97,
          98,
          99,
          100,
          101,
          102,
          103,
          104,
          105,
          106,
          107,
          108,
          109,
          110,
          111,
          112,
          113,
          114,
          115,
          116,
          117,
          118,
          119,
          120,
          121,
          122,
          123,
          124,
          125,
          126,
          127,
          128,
          129,
          130,
          131,
          132,
          133,
          134,
          135,
          136,
          137,
          138,
          139,
          140,
          141,
          142,
          143,
          144,
          145,
          146,
          147,
          148,
          149,
          150,
          151,
          152,
          153,
          154,
          155,
          156,
          157,
          158,
          159,
          160,
          161,
          162,
          163,
          164,
          165,
          166,
          167,
          168,
          169,
          170,
          171,
          172,
          173,
          174,
          175,
          176,
          177,
          178,
          179,
          180,
          181,
          182,
          183,
          184,
          185,
          186,
          187,
          188,
          189,
          190,
          191,
          192,
          193,
          194,
          195,
          196,
          197,
          198,
          199,
          200,
          201,
          202,
          203,
          204,
          205,
          206,
          207,
          208,
          209,
          210,
          211,
          212,
          213,
          214,
          215,
          216,
          217,
          218,
          219,
          220,
          221,
          222,
          223,
          224,
          225,
          226,
          227,
          228,
          229,
          230,
          231,
          232,
          233,
          234,
          235,
          236,
          237,
          238,
          239,
          240,
          241,
          242,
          243,
          244,
          245,
          246,
          247,
          248,
          249,
          250,
          251,
          252,
          253,
          254,
          255,
          256,
          257,
          258,
          259,
          260,
          261,
          262,
          263,
          264,
          265,
          266,
          267,
          268,
          269,
          270,
          271,
          272,
          273,
          274,
          275,
          276,
          277,
          278,
          279,
          280,
          281,
          282,
          283,
          284,
          285,
          286,
          287,
          288,
          289,
          290,
          291,
          292,
          293,
          294,
          295,
          296,
          297,
          298,
          299
         ],
         "y": [
          999,
          998.7681546580895,
          998.5624240089466,
          998.3719315660829,
          998.189356365837,
          998.0097383224537,
          997.8296839407657,
          997.646838020108,
          997.4595321879032,
          997.2665509917655,
          997.0669761472012,
          996.8600828260043,
          996.6452704727676,
          996.4220166405914,
          996.1898461256613,
          995.9483102598996,
          995.6969729728784,
          995.435401349086,
          995.1631591666602,
          994.8798024244206,
          994.5848761813501,
          994.2779122701129,
          993.9584275851978,
          993.6259227502486,
          993.2798810467997,
          992.9197674892615,
          992.5450280156217,
          992.1550887686303,
          991.7493553794386,
          991.3272123027369,
          990.8880221620022,
          990.4311251607596,
          989.9558384001136,
          989.4614552831083,
          988.9472448998818,
          988.4124514073419,
          987.8562934405504,
          987.2779637099786,
          986.6766280085817,
          986.0514248799652,
          985.4014652718065,
          984.7258317705093,
          984.0235781749706,
          983.293729056689,
          982.5352792879517,
          981.7471937137432,
          980.9284067416662,
          980.0778221028614,
          979.1943125175229,
          978.2767196640272,
          977.3238538941232,
          976.3344943765669,
          975.3073889430448,
          974.2412544248766,
          973.1347766631026,
          971.9866110950258,
          970.7953829430838,
          969.5596880806739,
          968.2780934207213,
          966.9491381264091,
          965.5713341938864,
          964.1431680422681,
          962.6631017678898,
          961.1295745010465,
          959.5410042688989,
          957.8957899430244,
          956.1923133250206,
          954.428941565751,
          952.6040298997245,
          950.7159243740052,
          948.762965210564,
          946.7434900589183,
          944.6558377523788,
          942.4983520596807,
          940.2693862554415,
          937.9673076844786,
          935.5905023331504,
          933.1373803093257,
          930.6063811031718,
          927.9959795009671,
          925.3046915712777,
          922.5310808122402,
          919.6737650342417,
          916.7314231584181,
          913.7028024452637,
          910.5867254376512,
          907.3820979522759,
          904.0879166206838,
          900.703276715872,
          897.2273802724021,
          893.659543871776,
          889.9992062655459,
          886.2459373905331,
          882.3994474661797,
          878.4595911847858,
          874.4263781040078,
          870.2999793521541,
          866.0807346081192,
          861.769158895233,
          857.365948929994,
          852.8719885736965,
          848.288354239648,
          843.6163191936765,
          838.8573572577338,
          834.0131461826372,
          829.0855692830197,
          824.0767168351887,
          818.9888865654578,
          813.8245823600705,
          808.5865129893984,
          803.2775890941407,
          797.9009187401399,
          792.459803012034,
          786.9577292350939,
          781.3983637024411,
          775.7855436716177,
          770.1232670103944,
          764.415682235682,
          758.667076918458,
          752.8818646887365,
          747.064572991788,
          741.2198276088005,
          735.3523388519754,
          729.4668860136155,
          723.5683012117205,
          717.6614538066206,
          711.7512332972702,
          705.8425333813152,
          699.9402350084843,
          694.0491902139573,
          688.1742057503068,
          682.3200273608373,
          676.4913244167667,
          670.6926750279662,
          664.9285520888343,
          659.2033098228065,
          653.5211710620921,
          647.8862159588023,
          642.3023712572223,
          636.7734003092854,
          631.3028951618131,
          625.8942687100962,
          620.5507482132618,
          615.2753701954712,
          610.0709762191618,
          604.9402098115472,
          599.8855144366621,
          594.9091325332181,
          590.0131054792652,
          585.1992745201288,
          580.4692825328561,
          575.8245767995521,
          571.2664121770101,
          566.795855496766,
          562.4137901076979,
          558.1209211855393,
          553.9177817934132,
          549.8047389027389,
          545.7820000478698,
          541.8496203669881,
          538.0075096656036,
          534.2554398121488,
          530.5930522705063,
          527.0198655955215,
          523.535283054074,
          520.1386002392178,
          516.8290125490421,
          513.6056226453871,
          510.46744772296586,
          507.4134266973923,
          504.4424271238382,
          501.5532519681901,
          498.7446461516412,
          496.01530282792254,
          493.3638694514982,
          490.78895353397206,
          488.28912818009877,
          485.8629373303413,
          483.5089007116932,
          481.2255185394897,
          479.01127593481004,
          476.86464707987153,
          474.78409910457157,
          472.76809568994895,
          470.8151004230546,
          468.92357994313977,
          467.0920068051505,
          465.3188621501667,
          463.6026380928364,
          461.94183994090406,
          460.3349882224997,
          458.7806205000439,
          457.27729302389685,
          455.82358214131517,
          454.4180856197609,
          453.05942379600367,
          451.74624056795096,
          450.4772042282931,
          449.2510082218766,
          448.06637175427727,
          446.9220402970532,
          445.81678597185794,
          444.7494078681868,
          443.7187322593878,
          442.7236127377992,
          441.76293026435525,
          440.8355931696454,
          439.94053714361496,
          439.0767249915524,
          438.24314656012643,
          437.4388184701089,
          436.6627838553118,
          435.9141120910312,
          435.19189841181935,
          434.49526361121656,
          433.8233535871361,
          433.1753389922038,
          432.55041475282746,
          431.9477996731156,
          431.36673593120173,
          430.8064885805188,
          430.2663451812406,
          429.74561520618425,
          429.24362960157055,
          428.7597402590463,
          428.29331953599416,
          427.8437597449571,
          427.4104726595633,
          426.99288901486005,
          426.59045801112444,
          426.20264682398135,
          425.82894011603923,
          425.46883956593024,
          425.12186338209943,
          424.78754583680615,
          424.46543680012337,
          424.15510129328464,
          423.8561190343567,
          423.5680840184742,
          423.29060407612593,
          423.0233004384875,
          422.7658073453947,
          422.5177716390223,
          422.2788523699239,
          422.0487204023259,
          421.8270580593147,
          421.6135587219928,
          421.40792651436624,
          421.20987593795775,
          421.0191315289524,
          420.8354275443425,
          420.6585076267932,
          420.4881244789849,
          420.3240395708854,
          420.16602293844755,
          420.0138528000367,
          419.86731510658814,
          419.72620361824625,
          419.59031948349724,
          419.45947097445185,
          419.33347324460647,
          419.2121481140482,
          419.0953238188416,
          418.9828348058871,
          418.8745214965545,
          418.7702300999345,
          418.6698123885075,
          418.57312552904773,
          418.4800318704181,
          418.39039877714487,
          418.3040984330506,
          418.221007691072,
          418.14100788681367,
          418.0639847042593,
          417.9898279991501,
          417.9184316652139,
          417.84969347240326,
          417.7835149458278,
          417.7198012126098,
          417.65846089585546,
          417.5994059686123,
          417.5425516466941,
          417.48781625649184,
          417.4351211371721,
          417.38439051618434,
          417.3355514257407,
          417.28853358278667,
          417.24326930330267,
          417.1996933949932,
          417.1577430779346,
          417.11735788443775,
          417.07847959324897,
          417.0410521314332,
          417.0050215059465,
          416.97033571696085,
          416.93694469309924,
          416.90480021179064,
          416.873855847282,
          416.8440668908598
         ]
        },
        {
         "mode": "lines",
         "name": "Total Infections",
         "type": "scatter",
         "x": [
          1,
          2,
          3,
          4,
          5,
          6,
          7,
          8,
          9,
          10,
          11,
          12,
          13,
          14,
          15,
          16,
          17,
          18,
          19,
          20,
          21,
          22,
          23,
          24,
          25,
          26,
          27,
          28,
          29,
          30,
          31,
          32,
          33,
          34,
          35,
          36,
          37,
          38,
          39,
          40,
          41,
          42,
          43,
          44,
          45,
          46,
          47,
          48,
          49,
          50,
          51,
          52,
          53,
          54,
          55,
          56,
          57,
          58,
          59,
          60,
          61,
          62,
          63,
          64,
          65,
          66,
          67,
          68,
          69,
          70,
          71,
          72,
          73,
          74,
          75,
          76,
          77,
          78,
          79,
          80,
          81,
          82,
          83,
          84,
          85,
          86,
          87,
          88,
          89,
          90,
          91,
          92,
          93,
          94,
          95,
          96,
          97,
          98,
          99,
          100,
          101,
          102,
          103,
          104,
          105,
          106,
          107,
          108,
          109,
          110,
          111,
          112,
          113,
          114,
          115,
          116,
          117,
          118,
          119,
          120,
          121,
          122,
          123,
          124,
          125,
          126,
          127,
          128,
          129,
          130,
          131,
          132,
          133,
          134,
          135,
          136,
          137,
          138,
          139,
          140,
          141,
          142,
          143,
          144,
          145,
          146,
          147,
          148,
          149,
          150,
          151,
          152,
          153,
          154,
          155,
          156,
          157,
          158,
          159,
          160,
          161,
          162,
          163,
          164,
          165,
          166,
          167,
          168,
          169,
          170,
          171,
          172,
          173,
          174,
          175,
          176,
          177,
          178,
          179,
          180,
          181,
          182,
          183,
          184,
          185,
          186,
          187,
          188,
          189,
          190,
          191,
          192,
          193,
          194,
          195,
          196,
          197,
          198,
          199,
          200,
          201,
          202,
          203,
          204,
          205,
          206,
          207,
          208,
          209,
          210,
          211,
          212,
          213,
          214,
          215,
          216,
          217,
          218,
          219,
          220,
          221,
          222,
          223,
          224,
          225,
          226,
          227,
          228,
          229,
          230,
          231,
          232,
          233,
          234,
          235,
          236,
          237,
          238,
          239,
          240,
          241,
          242,
          243,
          244,
          245,
          246,
          247,
          248,
          249,
          250,
          251,
          252,
          253,
          254,
          255,
          256,
          257,
          258,
          259,
          260,
          261,
          262,
          263,
          264,
          265,
          266,
          267,
          268,
          269,
          270,
          271,
          272,
          273,
          274,
          275,
          276,
          277,
          278,
          279,
          280,
          281,
          282,
          283,
          284,
          285,
          286,
          287,
          288,
          289,
          290,
          291,
          292,
          293,
          294,
          295,
          296,
          297,
          298,
          299
         ],
         "y": [
          1,
          0.896523063638533,
          0.8391342451207825,
          0.8126637152998886,
          0.8070551268774021,
          0.8156521398971126,
          0.8340590016009014,
          0.8593828352365166,
          0.8897298229085284,
          0.9238702351593373,
          0.9610157336373297,
          1.0006714366161467,
          1.042537587031225,
          1.086444286020964,
          1.1323081983461767,
          1.180103843023138,
          1.2298446005947938,
          1.2815701708002825,
          1.335338306801038,
          1.3912194004309757,
          1.4492929488198105,
          1.5096452738149273,
          1.5723680651088028,
          1.6375574672041484,
          1.7053135416078051,
          1.7757399415985464,
          1.848943753910503,
          1.9250354440559918,
          2.004128848168131,
          2.0863412172985574,
          2.1717932884185958,
          2.260609350704903,
          2.3529173329656077,
          2.4488488884811392,
          2.5485394757153355,
          2.6521284337703284,
          2.759759051265757,
          2.871578610180904,
          2.9877384901196926,
          3.1083941846493905,
          3.2337053036149923,
          3.363835622922288,
          3.498953088342887,
          3.639229803361709,
          3.7848420275951122,
          3.9359701045086863,
          4.092798433348468,
          4.255515358070843,
          4.424313115886276,
          4.599387659767629,
          4.780938578479248,
          4.969168860301916,
          5.164284758073433,
          5.366495470547611,
          5.576012970046428,
          5.793051621067764,
          6.017827934417387,
          6.250560108619336,
          6.491467703499798,
          6.740771046705889,
          6.9986908690446725,
          7.265447632937861,
          7.541260932843679,
          7.826348930375428,
          8.120927592936072,
          8.42520986646885,
          8.739404830990063,
          9.063716813699207,
          9.39834441553091,
          9.74347949011686,
          10.099306115164127,
          10.465999435119976,
          10.843724185508005,
          11.232633438156924,
          11.632867377539302,
          12.044551874048393,
          12.467796663106343,
          12.90269413489001,
          13.34931741314569,
          13.807718773227881,
          14.277927863166198,
          14.759949900521285,
          15.253763809477292,
          15.759320339839395,
          16.276540115424076,
          16.805311829975036,
          17.34549019580626,
          17.896894070594847,
          18.459304571154274,
          19.032463177954817,
          19.616070000468614,
          20.209782106100608,
          20.813211660031413,
          21.4259241018624,
          22.04743770940841,
          22.677221641938957,
          23.314694962616112,
          23.959225754191824,
          24.610130508647316,
          25.266673728563124,
          25.928067852446862,
          26.593473211359083,
          27.261998487749185,
          27.93270167799228,
          28.60459101578497,
          29.27662665896686,
          29.947722378975865,
          30.61674770040317,
          31.282530899872143,
          31.943861777070612,
          32.59949516101,
          33.24815479602576,
          33.888537355774105,
          34.519317317347365,
          35.139151824173986,
          35.74668582707243,
          36.34055782880839,
          36.91940563630074,
          37.481872508893936,
          38.02661354101842,
          38.55230183930674,
          39.05763533763318,
          39.541343191464094,
          40.002192477227666,
          40.43899462482423,
          40.85061188842192,
          41.235963411980784,
          41.59403135515509,
          41.92386654129484,
          42.22459380388122,
          42.495416840068685,
          42.73562267625016,
          42.94458574120178,
          43.121771457598484,
          43.266739012960734,
          43.37914359398987,
          43.45873825479016,
          43.50537490785927,
          43.51900479214282,
          43.499678513619,
          43.44754471583239,
          43.362848967343844,
          43.24593190373715,
          43.097226489275606,
          42.91725492871479,
          42.706625005418964,
          42.466026026976905,
          42.19622439485385,
          41.89805873193761,
          41.5724346826852,
          41.22031942118453,
          40.84273604420154,
          40.44075786784284,
          40.015502358239935,
          39.56812516485576,
          39.09981407936459,
          38.611783187547516,
          38.105266942597346,
          37.58151434760876,
          37.041783367810424,
          36.48733554331886,
          35.91943078150198,
          35.33932244401091,
          34.748252626700015,
          34.14744773444768,
          33.53811455199947,
          32.92143638820839,
          32.298569584540395,
          31.670640523464897,
          31.038742673003078,
          30.403934456023578,
          29.767236785216202,
          29.129631409811825,
          28.49205930735303,
          27.855419522488745,
          27.220568203085037,
          26.588317948548706,
          25.959437417937156,
          25.334651074164725,
          24.71463926065258,
          24.10003842919958,
          23.491441590842104,
          22.88939892976308,
          22.294418490853623,
          21.70696708227141,
          21.127471295473768,
          20.556318639063328,
          19.99385874533874,
          19.440404609973005,
          18.89623389683182,
          18.361590402746106,
          17.836685490326783,
          17.32169953096775,
          16.816783319576228,
          16.322059624262046,
          15.837624662104002,
          15.363549564776447,
          14.899881813725763,
          14.446646709686494,
          14.00384878324616,
          13.571473168547833,
          13.149486941323154,
          12.737840442896962,
          12.33646854319072,
          11.945291861054232,
          11.564217934376995,
          11.193142357433988,
          10.83194990129973,
          10.480515475753128,
          10.13870517596968,
          9.806377192738996,
          9.483382691859038,
          9.169566696022446,
          8.864768816816962,
          8.568824086516505,
          8.281563562891114,
          8.002815080685561,
          7.732403784671134,
          7.470152800766283,
          7.215883673895937,
          6.96941685833316,
          6.730572307903557,
          6.499169767870459,
          6.275029237100006,
          6.057971291577263,
          5.847817433336957,
          5.644390383108171,
          5.447514350435899,
          5.257015274513874,
          5.072721050216741,
          4.894461727442537,
          4.722069685816199,
          4.5553798095746405,
          4.3942296070855456,
          4.238459328315711,
          4.08791206420807,
          3.94243384795357,
          3.801873713567846,
          3.6660837972986347,
          3.534919354960505,
          3.4082387707626034,
          3.2859036230458125,
          3.1677786983118934,
          3.053732000551599,
          2.9436347235140485,
          2.83736126679111,
          2.734789222527717,
          2.6357993554350703,
          2.540275564564264,
          2.4481048627234507,
          2.359177344204108,
          2.2733861441986667,
          2.1906273906792584,
          2.11080016092666,
          2.0338064529755147,
          1.959551116968036,
          1.8879417893286536,
          1.8188888682915332,
          1.752305446642748,
          1.6881072511156756,
          1.626212590714516,
          1.5665423069899687,
          1.5090197168396857,
          1.4535705368178358,
          1.40012283053724,
          1.3486069533342644,
          1.2989554920152524,
          1.2511032192519358,
          1.2049870323082363,
          1.1605458841038927,
          1.1177207305097299,
          1.0764544764981092,
          1.0366919184141756,
          0.9983797055026302,
          0.9614662791266521,
          0.9259018117366977,
          0.8916381577392307,
          0.8586288037958383,
          0.8268288166285486,
          0.7961948124436424,
          0.7666848992968106,
          0.7382586247382746,
          0.710876931949754,
          0.6845021147624918,
          0.6590977728000946,
          0.6346287881783923,
          0.6110612724756601,
          0.5883625230424949,
          0.5665009848060579,
          0.5454462097981854,
          0.5251688203996087,
          0.5056404921633844,
          0.4868339060482918,
          0.4687227128866212,
          0.4512815004981775,
          0.4344857572857242,
          0.41831184361904467,
          0.4027369794286545,
          0.3877392019158618
         ]
        },
        {
         "mode": "lines",
         "name": "Recovered",
         "type": "scatter",
         "x": [
          1,
          2,
          3,
          4,
          5,
          6,
          7,
          8,
          9,
          10,
          11,
          12,
          13,
          14,
          15,
          16,
          17,
          18,
          19,
          20,
          21,
          22,
          23,
          24,
          25,
          26,
          27,
          28,
          29,
          30,
          31,
          32,
          33,
          34,
          35,
          36,
          37,
          38,
          39,
          40,
          41,
          42,
          43,
          44,
          45,
          46,
          47,
          48,
          49,
          50,
          51,
          52,
          53,
          54,
          55,
          56,
          57,
          58,
          59,
          60,
          61,
          62,
          63,
          64,
          65,
          66,
          67,
          68,
          69,
          70,
          71,
          72,
          73,
          74,
          75,
          76,
          77,
          78,
          79,
          80,
          81,
          82,
          83,
          84,
          85,
          86,
          87,
          88,
          89,
          90,
          91,
          92,
          93,
          94,
          95,
          96,
          97,
          98,
          99,
          100,
          101,
          102,
          103,
          104,
          105,
          106,
          107,
          108,
          109,
          110,
          111,
          112,
          113,
          114,
          115,
          116,
          117,
          118,
          119,
          120,
          121,
          122,
          123,
          124,
          125,
          126,
          127,
          128,
          129,
          130,
          131,
          132,
          133,
          134,
          135,
          136,
          137,
          138,
          139,
          140,
          141,
          142,
          143,
          144,
          145,
          146,
          147,
          148,
          149,
          150,
          151,
          152,
          153,
          154,
          155,
          156,
          157,
          158,
          159,
          160,
          161,
          162,
          163,
          164,
          165,
          166,
          167,
          168,
          169,
          170,
          171,
          172,
          173,
          174,
          175,
          176,
          177,
          178,
          179,
          180,
          181,
          182,
          183,
          184,
          185,
          186,
          187,
          188,
          189,
          190,
          191,
          192,
          193,
          194,
          195,
          196,
          197,
          198,
          199,
          200,
          201,
          202,
          203,
          204,
          205,
          206,
          207,
          208,
          209,
          210,
          211,
          212,
          213,
          214,
          215,
          216,
          217,
          218,
          219,
          220,
          221,
          222,
          223,
          224,
          225,
          226,
          227,
          228,
          229,
          230,
          231,
          232,
          233,
          234,
          235,
          236,
          237,
          238,
          239,
          240,
          241,
          242,
          243,
          244,
          245,
          246,
          247,
          248,
          249,
          250,
          251,
          252,
          253,
          254,
          255,
          256,
          257,
          258,
          259,
          260,
          261,
          262,
          263,
          264,
          265,
          266,
          267,
          268,
          269,
          270,
          271,
          272,
          273,
          274,
          275,
          276,
          277,
          278,
          279,
          280,
          281,
          282,
          283,
          284,
          285,
          286,
          287,
          288,
          289,
          290,
          291,
          292,
          293,
          294,
          295,
          296,
          297,
          298,
          299
         ],
         "y": [
          0,
          0.12567776813470055,
          0.24056981752616904,
          0.34975207093610444,
          0.4566411765669794,
          0.5635541367356032,
          0.672080411354192,
          0.7833293343295838,
          0.8980946074952006,
          1.016963664635796,
          1.1403903933713309,
          1.2687434720803186,
          1.4023385423292989,
          1.5414596186118814,
          1.6863733580269118,
          1.837338600990865,
          1.9946127712279866,
          2.1584561997999465,
          2.3291350811166867,
          2.5069235245584975,
          2.69210501656422,
          2.8849734968177456,
          3.085834186984796,
          3.2950042620954854,
          3.512813418621209,
          3.7396043917978044,
          3.9757334351911164,
          4.221570771338753,
          4.47750106006341,
          4.743923855699013,
          5.0212540763205,
          5.309922438850476,
          5.610375977616271,
          5.92307851699359,
          6.248511170896027,
          6.587172863040778,
          6.939580836747574,
          7.306271013520104,
          7.687798893465822,
          8.084739883124717,
          8.49768968868005,
          8.92726506034918,
          9.374104267100348,
          9.838867648408923,
          10.322238150973284,
          10.824921863896671,
          11.347648550145468,
          11.891172161195474,
          12.456271356173874,
          13.043749969491158,
          13.654437517054992,
          14.289189609052078,
          14.948888427162828,
          15.634443072527073,
          16.34678999303533,
          17.086893237855126,
          17.855744828471806,
          18.654364902996203,
          19.48380201742379,
          20.345133149039444,
          21.239463927329968,
          22.16792845641439,
          23.131689301018227,
          24.131937354139545,
          25.169891561135927,
          26.246798554068107,
          27.36393222506989,
          28.522593153805254,
          29.724107835990402,
          30.969827964382826,
          32.2611293161799,
          33.59941075817632,
          34.98609289131426,
          36.422616761232455,
          37.910442074825326,
          39.45104536211424,
          41.045918173712664,
          42.69656469032108,
          44.40449942005918,
          46.17124448750299,
          47.99832681309002,
          49.88727510751177,
          51.839616420270524,
          53.8568726007913,
          55.940556416670276,
          58.09216770482917,
          60.31318880940513,
          62.60508010513468,
          64.96927520078049,
          67.4071757799017,
          69.9201464346937,
          72.50950952100015,
          75.17653861215942,
          77.92245198885576,
          80.74840868691682,
          83.65550046652203,
          86.64474590663548,
          89.71708366649628,
          92.87336590570216,
          96.11435149105132,
          99.44069921864899,
          102.8529610956516,
          106.35157559632013,
          109.93686102341468,
          113.60900894609335,
          117.36807792546414,
          121.21398742728518,
          125.14651189822847,
          129.1652753925119,
          133.26974631363723,
          137.4592327119222,
          141.7328782839693,
          146.08965838682113,
          150.52837714081446,
          155.04766497163223,
          159.64597652121478,
          164.3215900381688,
          169.0726067215413,
          173.89695112993584,
          178.79237288986968,
          183.75644791013474,
          188.78658243582325,
          193.88001614467927,
          199.0338267944287,
          204.24493639346053,
          209.5101164906436,
          214.82599663785572,
          220.18907118417079,
          225.59570876283865,
          231.0421613246984,
          236.52457467880245,
          242.0389987401742,
          247.5813989863699,
          253.14766809991514,
          258.7336381805643,
          264.33509318399086,
          269.9477815682556,
          275.56742923242683,
          281.18975239849084,
          286.8104705945486,
          292.4253195756695,
          298.0300640223369,
          303.62050987921015,
          309.1925165856198,
          314.7420089072353,
          320.2649881247912,
          325.757542928595,
          331.21585956269615,
          336.6362314083162,
          342.01506797772066,
          347.34890307832706,
          352.63440226622487,
          357.8683697661435,
          363.0477541268502,
          368.1696536082851,
          373.23132061774237,
          378.2301649851745,
          383.163757067088,
          388.02982983718334,
          392.8262799393781,
          397.5511685199387,
          402.2027211620367,
          406.779326924314,
          411.27953717075536,
          415.7020636655927,
          420.0457758638277,
          424.3096980840635,
          428.49300610770183,
          432.59502312233496,
          436.61521576742973,
          440.5531890434926,
          444.4086820408313,
          448.1815625070438,
          451.8718217025594,
          455.4795687770591,
          459.0050252589172,
          462.4485193162387,
          465.8104799810064,
          469.09143142854856,
          472.29198712741396,
          475.4128441397688,
          478.4547773711673,
          481.4186339547918,
          484.30532775121645,
          487.115833911158,
          489.85118361129514,
          492.5124588849123,
          495.10078765702343,
          497.61733894866796,
          500.06331823750446,
          502.4399630010576,
          504.7485384461946,
          506.99033341178773,
          509.1666565519111,
          511.27883261894857,
          513.3281989691823,
          515.3161022714514,
          517.2438954379884,
          519.1129346857415,
          520.9245768165295,
          522.6801766679436,
          524.3810847716977,
          526.0286451453695,
          527.6241932667352,
          529.1690542091743,
          530.6645409581506,
          532.1119528408175,
          533.5125739822832,
          534.8676722781519,
          536.1784980278453,
          537.4462829983945,
          538.672239523993,
          539.8575596136345,
          541.0034144044729,
          542.1109533705354,
          543.1813040237611,
          544.215571296153,
          545.2148373723813,
          546.1801612346557,
          547.1125786549217,
          548.0131021036599,
          548.8827203623969,
          549.7223988179032,
          550.5330793352408,
          551.3156804237074,
          552.071097318589,
          552.8002021685423,
          553.5038442206899,
          554.1828500594182,
          554.8380238659454,
          555.4701476990656,
          556.0799818136724,
          556.6682649666475,
          557.2357147899621,
          557.7830281328232,
          558.3108814592451,
          558.8199312084176,
          559.3108142150556,
          559.7841480809521,
          560.2405316030023,
          560.6805452019943,
          561.1047513173453,
          561.513694830124,
          561.9079034827492,
          562.2878883115329,
          562.6541440413745,
          563.0071495412208,
          563.3473681909708,
          563.675248313131,
          563.991223583269,
          564.2957134128524,
          564.5891233631822,
          564.8718455551468,
          565.1442590439323,
          565.4067300727824,
          565.6596125804175,
          565.9032487698892,
          566.137969045905,
          566.3640925565155,
          566.5819275583818,
          566.7917717422097,
          566.9939125385955,
          567.1886274585931,
          567.376184390935,
          567.5568419282068,
          567.7308496397717,
          567.898448386615,
          568.05987057457,
          568.2153404553303,
          568.3650743746607,
          568.5092810556479,
          568.6481618261623,
          568.7819108904878,
          568.9107155373737,
          569.0347563992519,
          569.1542076566149,
          569.2692372794467,
          569.3800072148942,
          569.4866736172936,
          569.589387016881,
          569.688292539735,
          569.783530074604,
          569.8752344755557,
          569.9635357158495,
          570.0485590797196,
          570.1304252982109,
          570.2092507334597,
          570.285147514034,
          570.3582237029534,
          570.4285834236184,
          570.4963270174526,
          570.5615511528955,
          570.6243489781666,
          570.6848102306227,
          570.7430213746948,
          570.799065705066,
          570.853023474521,
          570.9049719813894,
          570.9549856949922
         ]
        },
        {
         "mode": "lines",
         "name": "Deaths",
         "type": "scatter",
         "x": [
          1,
          2,
          3,
          4,
          5,
          6,
          7,
          8,
          9,
          10,
          11,
          12,
          13,
          14,
          15,
          16,
          17,
          18,
          19,
          20,
          21,
          22,
          23,
          24,
          25,
          26,
          27,
          28,
          29,
          30,
          31,
          32,
          33,
          34,
          35,
          36,
          37,
          38,
          39,
          40,
          41,
          42,
          43,
          44,
          45,
          46,
          47,
          48,
          49,
          50,
          51,
          52,
          53,
          54,
          55,
          56,
          57,
          58,
          59,
          60,
          61,
          62,
          63,
          64,
          65,
          66,
          67,
          68,
          69,
          70,
          71,
          72,
          73,
          74,
          75,
          76,
          77,
          78,
          79,
          80,
          81,
          82,
          83,
          84,
          85,
          86,
          87,
          88,
          89,
          90,
          91,
          92,
          93,
          94,
          95,
          96,
          97,
          98,
          99,
          100,
          101,
          102,
          103,
          104,
          105,
          106,
          107,
          108,
          109,
          110,
          111,
          112,
          113,
          114,
          115,
          116,
          117,
          118,
          119,
          120,
          121,
          122,
          123,
          124,
          125,
          126,
          127,
          128,
          129,
          130,
          131,
          132,
          133,
          134,
          135,
          136,
          137,
          138,
          139,
          140,
          141,
          142,
          143,
          144,
          145,
          146,
          147,
          148,
          149,
          150,
          151,
          152,
          153,
          154,
          155,
          156,
          157,
          158,
          159,
          160,
          161,
          162,
          163,
          164,
          165,
          166,
          167,
          168,
          169,
          170,
          171,
          172,
          173,
          174,
          175,
          176,
          177,
          178,
          179,
          180,
          181,
          182,
          183,
          184,
          185,
          186,
          187,
          188,
          189,
          190,
          191,
          192,
          193,
          194,
          195,
          196,
          197,
          198,
          199,
          200,
          201,
          202,
          203,
          204,
          205,
          206,
          207,
          208,
          209,
          210,
          211,
          212,
          213,
          214,
          215,
          216,
          217,
          218,
          219,
          220,
          221,
          222,
          223,
          224,
          225,
          226,
          227,
          228,
          229,
          230,
          231,
          232,
          233,
          234,
          235,
          236,
          237,
          238,
          239,
          240,
          241,
          242,
          243,
          244,
          245,
          246,
          247,
          248,
          249,
          250,
          251,
          252,
          253,
          254,
          255,
          256,
          257,
          258,
          259,
          260,
          261,
          262,
          263,
          264,
          265,
          266,
          267,
          268,
          269,
          270,
          271,
          272,
          273,
          274,
          275,
          276,
          277,
          278,
          279,
          280,
          281,
          282,
          283,
          284,
          285,
          286,
          287,
          288,
          289,
          290,
          291,
          292,
          293,
          294,
          295,
          296,
          297,
          298,
          299
         ],
         "y": [
          0,
          1.0351097671764907e-05,
          7.447547832641852e-05,
          0.00022725942364276732,
          0.000489484948430421,
          0.0008727917802249482,
          0.0013829790520907593,
          0.00202219891165785,
          0.0027904102126370847,
          0.003686338166756693,
          0.004708104204638632,
          0.005853635470090058,
          0.0071209277429358266,
          0.008508210604056474,
          0.010014047809109266,
          0.011637394990819701,
          0.013377629391255055,
          0.015234561565397866,
          0.01720843572739974,
          0.019299923144547298,
          0.02151011158609807,
          0.02384049278070954,
          0.026292949187896642,
          0.02886974093816362,
          0.03157349344416811,
          0.03440718607377921,
          0.03737414197517001,
          0.040478019509895526,
          0.043722804569282445,
          0.04711280447815581,
          0.05065264316990319,
          0.05434725796786393,
          0.05820189679381392,
          0.06222211717381817,
          0.06641378606424363,
          0.07078308079109372,
          0.0753364908749562,
          0.08008081966241912,
          0.08502318931146172,
          0.09017104383966085,
          0.09553215490228736,
          0.1011146266858274,
          0.10692690166894274,
          0.1129777679011369,
          0.11927636513852378,
          0.1258321935463043,
          0.1326551205154669,
          0.13975538962099687,
          0.14714362825756516,
          0.1548308577623762,
          0.16282850107970687,
          0.17114839284471797,
          0.17980278793780471,
          0.18880437158748614,
          0.19816626815971025,
          0.20790205096442563,
          0.2180257512544304,
          0.22855186746352013,
          0.2394953742832878,
          0.2508717312415138,
          0.2626968916411029,
          0.27498730968309754,
          0.2877599489720545,
          0.30103228875371535,
          0.31482233090587686,
          0.3291486054860644,
          0.34403017585525886,
          0.35948664299464195,
          0.3755381477051058,
          0.3922053738563033,
          0.40950954744345397,
          0.42747243754731085,
          0.44611635340321193,
          0.4654641424646798,
          0.485539183682821,
          0.5063653797501674,
          0.5279671501810924,
          0.5503694182343845,
          0.5735975984693212,
          0.5976775801562318,
          0.622635709105202,
          0.6484987669404755,
          0.6752939461869039,
          0.7030488232772789,
          0.7317913276240329,
          0.7615497096449978,
          0.7923525015301426,
          0.8242284770298276,
          0.8572066069555084,
          0.8913160096052911,
          0.9265858991805671,
          0.9630455336677463,
          1.0007241444941222,
          1.0396508674146077,
          1.0798546929204897,
          1.1213643761450203,
          1.1642083649598995,
          1.2084147132923357,
          1.2540109973891356,
          1.3010242247783386,
          1.3494807369340394,
          1.3994061133442293,
          1.4508250675717265,
          1.503761340988044,
          1.5582375955905845,
          1.6142752999098982,
          1.6718946166977535,
          1.7311142870282465,
          1.7919515112183468,
          1.854421831857836,
          1.9185390141210232,
          1.9843149277929566,
          2.0517594294237913,
          2.1208802457428,
          2.19168286063759,
          2.2641704029712892,
          2.3383435417007825,
          2.414200382402212,
          2.491736369453002,
          2.570944198751331,
          2.6518137278882605,
          2.734331908247971,
          2.8184827135723083,
          2.9042470806921568,
          2.991602869905364,
          3.08052481582354,
          3.1709845181524887,
          3.262950414120066,
          3.3563877870919843,
          3.4512587747236343,
          3.547522400592601,
          3.645134607589367,
          3.744048314132935,
          3.8442134788434146,
          3.9455771846468166,
          4.0480837319659875,
          4.151674743334984,
          4.256289288549753,
          4.361864015725822,
          4.46833329242077,
          4.575629370183615,
          4.6836825466004655,
          4.792421338298235,
          4.9017726685969425,
          5.011662060004741,
          5.122013832053451,
          5.232751306612072,
          5.343797015696645,
          5.45507291271542,
          5.566500586966295,
          5.678001477231593,
          5.789497085476672,
          5.900909188278584,
          6.012160045969016,
          6.1231726080037605,
          6.23387071377924,
          6.344179284043133,
          6.454024509293255,
          6.563334029767475,
          6.672037102657805,
          6.78006476487912,
          6.887349984676146,
          6.993827798416501,
          7.099435441954347,
          7.204112469582995,
          7.307800855757282,
          7.410445091662066,
          7.511992268995011,
          7.612392145277295,
          7.7115972088771,
          7.809562713381804,
          7.9062467245943395,
          8.001610137526884,
          8.095616691932673,
          8.188232971859762,
          8.27942839853958,
          8.369175212179174,
          8.457448444494426,
          8.544225884313015,
          8.629488032847263,
          8.713218053385072,
          8.795401713054035,
          8.876027319232172,
          8.955085649977441,
          9.032569878675362,
          9.108475496282143,
          9.182800227297559,
          9.255543944555537,
          9.326708580133136,
          9.396298034729766,
          9.464318085290502,
          9.530776291023681,
          9.595681899098556,
          9.659045750656015,
          9.720880185881347,
          9.781198950235375,
          9.840017101456041,
          9.8973509180809,
          9.953217808945539,
          10.007636224665156,
          10.060625571058088,
          10.112206125050706,
          10.162398952557632,
          10.211225829045866,
          10.258709162747806,
          10.30487192113974,
          10.349737559713963,
          10.39332995138182,
          10.43567332583332,
          10.476792203491458,
          10.516711337887884,
          10.555455660174031,
          10.593050223367245,
          10.629520156305526,
          10.664890611029245,
          10.699186724406898,
          10.732433570826982,
          10.764656128659384,
          10.79587923802874,
          10.826127573886993,
          10.85542561517566,
          10.88379760828046,
          10.911267549192575,
          10.937859155275255,
          10.963595845725168,
          10.988500721046288,
          11.012596545899955,
          11.035905733353735,
          11.058450331337596,
          11.080252010225356,
          11.101332052149846,
          11.121711342451823,
          11.141410361590244,
          11.16044917958867,
          11.178847450354157,
          11.19662440877354,
          11.213798867307341,
          11.230389215133396,
          11.246413416646531,
          11.261889012141383,
          11.276833119017716,
          11.291262433425896,
          11.305193232685049,
          11.318641378358924,
          11.331622320336328,
          11.344151100655965,
          11.356242358593521,
          11.367910335286332,
          11.379168879605704,
          11.390031453930662,
          11.400511140007996,
          11.410620645605205,
          11.42037231153116,
          11.429778118417358,
          11.438849691087905,
          11.447598308603105,
          11.45603491418304,
          11.464170116361794,
          11.472014198942055,
          11.479577128998148,
          11.486868563740893,
          11.493897858018697,
          11.500674071634231,
          11.507205976888146,
          11.513502065921172,
          11.519570557784347,
          11.525419405847492,
          11.531056304736296,
          11.536488697599811,
          11.541723782806695,
          11.546768521094922,
          11.551629642059137,
          11.556313651115882,
          11.56082683555388,
          11.565175271375622,
          11.569364829208002,
          11.573401180869554,
          11.57728980499277,
          11.58103599336581,
          11.584644856097249,
          11.588121327796982,
          11.591470172641815,
          11.594695990212722,
          11.597803220262609,
          11.600796148311332,
          11.603678909980223,
          11.606455496416375,
          11.60912975854409,
          11.611705412128662,
          11.614186041773875,
          11.61657510573095,
          11.618875939491101,
          11.621091760442653,
          11.623225671394383,
          11.62528066488257,
          11.62725962650102,
          11.629165338946205,
          11.631000484973177,
          11.632767651323325
         ]
        }
       ],
       "layout": {
        "font": {
         "color": "#7f7f7f",
         "family": "Courier New, monospace",
         "size": 12
        },
        "template": {
         "data": {
          "bar": [
           {
            "error_x": {
             "color": "#2a3f5f"
            },
            "error_y": {
             "color": "#2a3f5f"
            },
            "marker": {
             "line": {
              "color": "#E5ECF6",
              "width": 0.5
             }
            },
            "type": "bar"
           }
          ],
          "barpolar": [
           {
            "marker": {
             "line": {
              "color": "#E5ECF6",
              "width": 0.5
             }
            },
            "type": "barpolar"
           }
          ],
          "carpet": [
           {
            "aaxis": {
             "endlinecolor": "#2a3f5f",
             "gridcolor": "white",
             "linecolor": "white",
             "minorgridcolor": "white",
             "startlinecolor": "#2a3f5f"
            },
            "baxis": {
             "endlinecolor": "#2a3f5f",
             "gridcolor": "white",
             "linecolor": "white",
             "minorgridcolor": "white",
             "startlinecolor": "#2a3f5f"
            },
            "type": "carpet"
           }
          ],
          "choropleth": [
           {
            "colorbar": {
             "outlinewidth": 0,
             "ticks": ""
            },
            "type": "choropleth"
           }
          ],
          "contour": [
           {
            "colorbar": {
             "outlinewidth": 0,
             "ticks": ""
            },
            "colorscale": [
             [
              0,
              "#0d0887"
             ],
             [
              0.1111111111111111,
              "#46039f"
             ],
             [
              0.2222222222222222,
              "#7201a8"
             ],
             [
              0.3333333333333333,
              "#9c179e"
             ],
             [
              0.4444444444444444,
              "#bd3786"
             ],
             [
              0.5555555555555556,
              "#d8576b"
             ],
             [
              0.6666666666666666,
              "#ed7953"
             ],
             [
              0.7777777777777778,
              "#fb9f3a"
             ],
             [
              0.8888888888888888,
              "#fdca26"
             ],
             [
              1,
              "#f0f921"
             ]
            ],
            "type": "contour"
           }
          ],
          "contourcarpet": [
           {
            "colorbar": {
             "outlinewidth": 0,
             "ticks": ""
            },
            "type": "contourcarpet"
           }
          ],
          "heatmap": [
           {
            "colorbar": {
             "outlinewidth": 0,
             "ticks": ""
            },
            "colorscale": [
             [
              0,
              "#0d0887"
             ],
             [
              0.1111111111111111,
              "#46039f"
             ],
             [
              0.2222222222222222,
              "#7201a8"
             ],
             [
              0.3333333333333333,
              "#9c179e"
             ],
             [
              0.4444444444444444,
              "#bd3786"
             ],
             [
              0.5555555555555556,
              "#d8576b"
             ],
             [
              0.6666666666666666,
              "#ed7953"
             ],
             [
              0.7777777777777778,
              "#fb9f3a"
             ],
             [
              0.8888888888888888,
              "#fdca26"
             ],
             [
              1,
              "#f0f921"
             ]
            ],
            "type": "heatmap"
           }
          ],
          "heatmapgl": [
           {
            "colorbar": {
             "outlinewidth": 0,
             "ticks": ""
            },
            "colorscale": [
             [
              0,
              "#0d0887"
             ],
             [
              0.1111111111111111,
              "#46039f"
             ],
             [
              0.2222222222222222,
              "#7201a8"
             ],
             [
              0.3333333333333333,
              "#9c179e"
             ],
             [
              0.4444444444444444,
              "#bd3786"
             ],
             [
              0.5555555555555556,
              "#d8576b"
             ],
             [
              0.6666666666666666,
              "#ed7953"
             ],
             [
              0.7777777777777778,
              "#fb9f3a"
             ],
             [
              0.8888888888888888,
              "#fdca26"
             ],
             [
              1,
              "#f0f921"
             ]
            ],
            "type": "heatmapgl"
           }
          ],
          "histogram": [
           {
            "marker": {
             "colorbar": {
              "outlinewidth": 0,
              "ticks": ""
             }
            },
            "type": "histogram"
           }
          ],
          "histogram2d": [
           {
            "colorbar": {
             "outlinewidth": 0,
             "ticks": ""
            },
            "colorscale": [
             [
              0,
              "#0d0887"
             ],
             [
              0.1111111111111111,
              "#46039f"
             ],
             [
              0.2222222222222222,
              "#7201a8"
             ],
             [
              0.3333333333333333,
              "#9c179e"
             ],
             [
              0.4444444444444444,
              "#bd3786"
             ],
             [
              0.5555555555555556,
              "#d8576b"
             ],
             [
              0.6666666666666666,
              "#ed7953"
             ],
             [
              0.7777777777777778,
              "#fb9f3a"
             ],
             [
              0.8888888888888888,
              "#fdca26"
             ],
             [
              1,
              "#f0f921"
             ]
            ],
            "type": "histogram2d"
           }
          ],
          "histogram2dcontour": [
           {
            "colorbar": {
             "outlinewidth": 0,
             "ticks": ""
            },
            "colorscale": [
             [
              0,
              "#0d0887"
             ],
             [
              0.1111111111111111,
              "#46039f"
             ],
             [
              0.2222222222222222,
              "#7201a8"
             ],
             [
              0.3333333333333333,
              "#9c179e"
             ],
             [
              0.4444444444444444,
              "#bd3786"
             ],
             [
              0.5555555555555556,
              "#d8576b"
             ],
             [
              0.6666666666666666,
              "#ed7953"
             ],
             [
              0.7777777777777778,
              "#fb9f3a"
             ],
             [
              0.8888888888888888,
              "#fdca26"
             ],
             [
              1,
              "#f0f921"
             ]
            ],
            "type": "histogram2dcontour"
           }
          ],
          "mesh3d": [
           {
            "colorbar": {
             "outlinewidth": 0,
             "ticks": ""
            },
            "type": "mesh3d"
           }
          ],
          "parcoords": [
           {
            "line": {
             "colorbar": {
              "outlinewidth": 0,
              "ticks": ""
             }
            },
            "type": "parcoords"
           }
          ],
          "pie": [
           {
            "automargin": true,
            "type": "pie"
           }
          ],
          "scatter": [
           {
            "marker": {
             "colorbar": {
              "outlinewidth": 0,
              "ticks": ""
             }
            },
            "type": "scatter"
           }
          ],
          "scatter3d": [
           {
            "line": {
             "colorbar": {
              "outlinewidth": 0,
              "ticks": ""
             }
            },
            "marker": {
             "colorbar": {
              "outlinewidth": 0,
              "ticks": ""
             }
            },
            "type": "scatter3d"
           }
          ],
          "scattercarpet": [
           {
            "marker": {
             "colorbar": {
              "outlinewidth": 0,
              "ticks": ""
             }
            },
            "type": "scattercarpet"
           }
          ],
          "scattergeo": [
           {
            "marker": {
             "colorbar": {
              "outlinewidth": 0,
              "ticks": ""
             }
            },
            "type": "scattergeo"
           }
          ],
          "scattergl": [
           {
            "marker": {
             "colorbar": {
              "outlinewidth": 0,
              "ticks": ""
             }
            },
            "type": "scattergl"
           }
          ],
          "scattermapbox": [
           {
            "marker": {
             "colorbar": {
              "outlinewidth": 0,
              "ticks": ""
             }
            },
            "type": "scattermapbox"
           }
          ],
          "scatterpolar": [
           {
            "marker": {
             "colorbar": {
              "outlinewidth": 0,
              "ticks": ""
             }
            },
            "type": "scatterpolar"
           }
          ],
          "scatterpolargl": [
           {
            "marker": {
             "colorbar": {
              "outlinewidth": 0,
              "ticks": ""
             }
            },
            "type": "scatterpolargl"
           }
          ],
          "scatterternary": [
           {
            "marker": {
             "colorbar": {
              "outlinewidth": 0,
              "ticks": ""
             }
            },
            "type": "scatterternary"
           }
          ],
          "surface": [
           {
            "colorbar": {
             "outlinewidth": 0,
             "ticks": ""
            },
            "colorscale": [
             [
              0,
              "#0d0887"
             ],
             [
              0.1111111111111111,
              "#46039f"
             ],
             [
              0.2222222222222222,
              "#7201a8"
             ],
             [
              0.3333333333333333,
              "#9c179e"
             ],
             [
              0.4444444444444444,
              "#bd3786"
             ],
             [
              0.5555555555555556,
              "#d8576b"
             ],
             [
              0.6666666666666666,
              "#ed7953"
             ],
             [
              0.7777777777777778,
              "#fb9f3a"
             ],
             [
              0.8888888888888888,
              "#fdca26"
             ],
             [
              1,
              "#f0f921"
             ]
            ],
            "type": "surface"
           }
          ],
          "table": [
           {
            "cells": {
             "fill": {
              "color": "#EBF0F8"
             },
             "line": {
              "color": "white"
             }
            },
            "header": {
             "fill": {
              "color": "#C8D4E3"
             },
             "line": {
              "color": "white"
             }
            },
            "type": "table"
           }
          ]
         },
         "layout": {
          "annotationdefaults": {
           "arrowcolor": "#2a3f5f",
           "arrowhead": 0,
           "arrowwidth": 1
          },
          "coloraxis": {
           "colorbar": {
            "outlinewidth": 0,
            "ticks": ""
           }
          },
          "colorscale": {
           "diverging": [
            [
             0,
             "#8e0152"
            ],
            [
             0.1,
             "#c51b7d"
            ],
            [
             0.2,
             "#de77ae"
            ],
            [
             0.3,
             "#f1b6da"
            ],
            [
             0.4,
             "#fde0ef"
            ],
            [
             0.5,
             "#f7f7f7"
            ],
            [
             0.6,
             "#e6f5d0"
            ],
            [
             0.7,
             "#b8e186"
            ],
            [
             0.8,
             "#7fbc41"
            ],
            [
             0.9,
             "#4d9221"
            ],
            [
             1,
             "#276419"
            ]
           ],
           "sequential": [
            [
             0,
             "#0d0887"
            ],
            [
             0.1111111111111111,
             "#46039f"
            ],
            [
             0.2222222222222222,
             "#7201a8"
            ],
            [
             0.3333333333333333,
             "#9c179e"
            ],
            [
             0.4444444444444444,
             "#bd3786"
            ],
            [
             0.5555555555555556,
             "#d8576b"
            ],
            [
             0.6666666666666666,
             "#ed7953"
            ],
            [
             0.7777777777777778,
             "#fb9f3a"
            ],
            [
             0.8888888888888888,
             "#fdca26"
            ],
            [
             1,
             "#f0f921"
            ]
           ],
           "sequentialminus": [
            [
             0,
             "#0d0887"
            ],
            [
             0.1111111111111111,
             "#46039f"
            ],
            [
             0.2222222222222222,
             "#7201a8"
            ],
            [
             0.3333333333333333,
             "#9c179e"
            ],
            [
             0.4444444444444444,
             "#bd3786"
            ],
            [
             0.5555555555555556,
             "#d8576b"
            ],
            [
             0.6666666666666666,
             "#ed7953"
            ],
            [
             0.7777777777777778,
             "#fb9f3a"
            ],
            [
             0.8888888888888888,
             "#fdca26"
            ],
            [
             1,
             "#f0f921"
            ]
           ]
          },
          "colorway": [
           "#636efa",
           "#EF553B",
           "#00cc96",
           "#ab63fa",
           "#FFA15A",
           "#19d3f3",
           "#FF6692",
           "#B6E880",
           "#FF97FF",
           "#FECB52"
          ],
          "font": {
           "color": "#2a3f5f"
          },
          "geo": {
           "bgcolor": "white",
           "lakecolor": "white",
           "landcolor": "#E5ECF6",
           "showlakes": true,
           "showland": true,
           "subunitcolor": "white"
          },
          "hoverlabel": {
           "align": "left"
          },
          "hovermode": "closest",
          "mapbox": {
           "style": "light"
          },
          "paper_bgcolor": "white",
          "plot_bgcolor": "#E5ECF6",
          "polar": {
           "angularaxis": {
            "gridcolor": "white",
            "linecolor": "white",
            "ticks": ""
           },
           "bgcolor": "#E5ECF6",
           "radialaxis": {
            "gridcolor": "white",
            "linecolor": "white",
            "ticks": ""
           }
          },
          "scene": {
           "xaxis": {
            "backgroundcolor": "#E5ECF6",
            "gridcolor": "white",
            "gridwidth": 2,
            "linecolor": "white",
            "showbackground": true,
            "ticks": "",
            "zerolinecolor": "white"
           },
           "yaxis": {
            "backgroundcolor": "#E5ECF6",
            "gridcolor": "white",
            "gridwidth": 2,
            "linecolor": "white",
            "showbackground": true,
            "ticks": "",
            "zerolinecolor": "white"
           },
           "zaxis": {
            "backgroundcolor": "#E5ECF6",
            "gridcolor": "white",
            "gridwidth": 2,
            "linecolor": "white",
            "showbackground": true,
            "ticks": "",
            "zerolinecolor": "white"
           }
          },
          "shapedefaults": {
           "line": {
            "color": "#2a3f5f"
           }
          },
          "ternary": {
           "aaxis": {
            "gridcolor": "white",
            "linecolor": "white",
            "ticks": ""
           },
           "baxis": {
            "gridcolor": "white",
            "linecolor": "white",
            "ticks": ""
           },
           "bgcolor": "#E5ECF6",
           "caxis": {
            "gridcolor": "white",
            "linecolor": "white",
            "ticks": ""
           }
          },
          "title": {
           "x": 0.05
          },
          "xaxis": {
           "automargin": true,
           "gridcolor": "white",
           "linecolor": "white",
           "ticks": "",
           "title": {
            "standoff": 15
           },
           "zerolinecolor": "white",
           "zerolinewidth": 2
          },
          "yaxis": {
           "automargin": true,
           "gridcolor": "white",
           "linecolor": "white",
           "ticks": "",
           "title": {
            "standoff": 15
           },
           "zerolinecolor": "white",
           "zerolinewidth": 2
          }
         }
        },
        "title": {
         "text": "extended SEIRD Model"
        },
        "xaxis": {
         "title": {
          "text": "days of spreading"
         }
        },
        "yaxis": {
         "title": {
          "text": "population"
         }
        }
       }
      },
      "text/html": [
       "<div>\n",
       "        \n",
       "        \n",
       "            <div id=\"0b065b62-df8c-411e-bf7e-a61c2f4ab981\" class=\"plotly-graph-div\" style=\"height:525px; width:100%;\"></div>\n",
       "            <script type=\"text/javascript\">\n",
       "                require([\"plotly\"], function(Plotly) {\n",
       "                    window.PLOTLYENV=window.PLOTLYENV || {};\n",
       "                    \n",
       "                if (document.getElementById(\"0b065b62-df8c-411e-bf7e-a61c2f4ab981\")) {\n",
       "                    Plotly.newPlot(\n",
       "                        '0b065b62-df8c-411e-bf7e-a61c2f4ab981',\n",
       "                        [{\"mode\": \"lines\", \"name\": \"Susceptibles\", \"type\": \"scatter\", \"x\": [1, 2, 3, 4, 5, 6, 7, 8, 9, 10, 11, 12, 13, 14, 15, 16, 17, 18, 19, 20, 21, 22, 23, 24, 25, 26, 27, 28, 29, 30, 31, 32, 33, 34, 35, 36, 37, 38, 39, 40, 41, 42, 43, 44, 45, 46, 47, 48, 49, 50, 51, 52, 53, 54, 55, 56, 57, 58, 59, 60, 61, 62, 63, 64, 65, 66, 67, 68, 69, 70, 71, 72, 73, 74, 75, 76, 77, 78, 79, 80, 81, 82, 83, 84, 85, 86, 87, 88, 89, 90, 91, 92, 93, 94, 95, 96, 97, 98, 99, 100, 101, 102, 103, 104, 105, 106, 107, 108, 109, 110, 111, 112, 113, 114, 115, 116, 117, 118, 119, 120, 121, 122, 123, 124, 125, 126, 127, 128, 129, 130, 131, 132, 133, 134, 135, 136, 137, 138, 139, 140, 141, 142, 143, 144, 145, 146, 147, 148, 149, 150, 151, 152, 153, 154, 155, 156, 157, 158, 159, 160, 161, 162, 163, 164, 165, 166, 167, 168, 169, 170, 171, 172, 173, 174, 175, 176, 177, 178, 179, 180, 181, 182, 183, 184, 185, 186, 187, 188, 189, 190, 191, 192, 193, 194, 195, 196, 197, 198, 199, 200, 201, 202, 203, 204, 205, 206, 207, 208, 209, 210, 211, 212, 213, 214, 215, 216, 217, 218, 219, 220, 221, 222, 223, 224, 225, 226, 227, 228, 229, 230, 231, 232, 233, 234, 235, 236, 237, 238, 239, 240, 241, 242, 243, 244, 245, 246, 247, 248, 249, 250, 251, 252, 253, 254, 255, 256, 257, 258, 259, 260, 261, 262, 263, 264, 265, 266, 267, 268, 269, 270, 271, 272, 273, 274, 275, 276, 277, 278, 279, 280, 281, 282, 283, 284, 285, 286, 287, 288, 289, 290, 291, 292, 293, 294, 295, 296, 297, 298, 299], \"y\": [999.0, 998.7681546580895, 998.5624240089466, 998.3719315660829, 998.189356365837, 998.0097383224537, 997.8296839407657, 997.646838020108, 997.4595321879032, 997.2665509917655, 997.0669761472012, 996.8600828260043, 996.6452704727676, 996.4220166405914, 996.1898461256613, 995.9483102598996, 995.6969729728784, 995.435401349086, 995.1631591666602, 994.8798024244206, 994.5848761813501, 994.2779122701129, 993.9584275851978, 993.6259227502486, 993.2798810467997, 992.9197674892615, 992.5450280156217, 992.1550887686303, 991.7493553794386, 991.3272123027369, 990.8880221620022, 990.4311251607596, 989.9558384001136, 989.4614552831083, 988.9472448998818, 988.4124514073419, 987.8562934405504, 987.2779637099786, 986.6766280085817, 986.0514248799652, 985.4014652718065, 984.7258317705093, 984.0235781749706, 983.293729056689, 982.5352792879517, 981.7471937137432, 980.9284067416662, 980.0778221028614, 979.1943125175229, 978.2767196640272, 977.3238538941232, 976.3344943765669, 975.3073889430448, 974.2412544248766, 973.1347766631026, 971.9866110950258, 970.7953829430838, 969.5596880806739, 968.2780934207213, 966.9491381264091, 965.5713341938864, 964.1431680422681, 962.6631017678898, 961.1295745010465, 959.5410042688989, 957.8957899430244, 956.1923133250206, 954.428941565751, 952.6040298997245, 950.7159243740052, 948.762965210564, 946.7434900589183, 944.6558377523788, 942.4983520596807, 940.2693862554415, 937.9673076844786, 935.5905023331504, 933.1373803093257, 930.6063811031718, 927.9959795009671, 925.3046915712777, 922.5310808122402, 919.6737650342417, 916.7314231584181, 913.7028024452637, 910.5867254376512, 907.3820979522759, 904.0879166206838, 900.703276715872, 897.2273802724021, 893.659543871776, 889.9992062655459, 886.2459373905331, 882.3994474661797, 878.4595911847858, 874.4263781040078, 870.2999793521541, 866.0807346081192, 861.769158895233, 857.365948929994, 852.8719885736965, 848.288354239648, 843.6163191936765, 838.8573572577338, 834.0131461826372, 829.0855692830197, 824.0767168351887, 818.9888865654578, 813.8245823600705, 808.5865129893984, 803.2775890941407, 797.9009187401399, 792.459803012034, 786.9577292350939, 781.3983637024411, 775.7855436716177, 770.1232670103944, 764.415682235682, 758.667076918458, 752.8818646887365, 747.064572991788, 741.2198276088005, 735.3523388519754, 729.4668860136155, 723.5683012117205, 717.6614538066206, 711.7512332972702, 705.8425333813152, 699.9402350084843, 694.0491902139573, 688.1742057503068, 682.3200273608373, 676.4913244167667, 670.6926750279662, 664.9285520888343, 659.2033098228065, 653.5211710620921, 647.8862159588023, 642.3023712572223, 636.7734003092854, 631.3028951618131, 625.8942687100962, 620.5507482132618, 615.2753701954712, 610.0709762191618, 604.9402098115472, 599.8855144366621, 594.9091325332181, 590.0131054792652, 585.1992745201288, 580.4692825328561, 575.8245767995521, 571.2664121770101, 566.795855496766, 562.4137901076979, 558.1209211855393, 553.9177817934132, 549.8047389027389, 545.7820000478698, 541.8496203669881, 538.0075096656036, 534.2554398121488, 530.5930522705063, 527.0198655955215, 523.535283054074, 520.1386002392178, 516.8290125490421, 513.6056226453871, 510.46744772296586, 507.4134266973923, 504.4424271238382, 501.5532519681901, 498.7446461516412, 496.01530282792254, 493.3638694514982, 490.78895353397206, 488.28912818009877, 485.8629373303413, 483.5089007116932, 481.2255185394897, 479.01127593481004, 476.86464707987153, 474.78409910457157, 472.76809568994895, 470.8151004230546, 468.92357994313977, 467.0920068051505, 465.3188621501667, 463.6026380928364, 461.94183994090406, 460.3349882224997, 458.7806205000439, 457.27729302389685, 455.82358214131517, 454.4180856197609, 453.05942379600367, 451.74624056795096, 450.4772042282931, 449.2510082218766, 448.06637175427727, 446.9220402970532, 445.81678597185794, 444.7494078681868, 443.7187322593878, 442.7236127377992, 441.76293026435525, 440.8355931696454, 439.94053714361496, 439.0767249915524, 438.24314656012643, 437.4388184701089, 436.6627838553118, 435.9141120910312, 435.19189841181935, 434.49526361121656, 433.8233535871361, 433.1753389922038, 432.55041475282746, 431.9477996731156, 431.36673593120173, 430.8064885805188, 430.2663451812406, 429.74561520618425, 429.24362960157055, 428.7597402590463, 428.29331953599416, 427.8437597449571, 427.4104726595633, 426.99288901486005, 426.59045801112444, 426.20264682398135, 425.82894011603923, 425.46883956593024, 425.12186338209943, 424.78754583680615, 424.46543680012337, 424.15510129328464, 423.8561190343567, 423.5680840184742, 423.29060407612593, 423.0233004384875, 422.7658073453947, 422.5177716390223, 422.2788523699239, 422.0487204023259, 421.8270580593147, 421.6135587219928, 421.40792651436624, 421.20987593795775, 421.0191315289524, 420.8354275443425, 420.6585076267932, 420.4881244789849, 420.3240395708854, 420.16602293844755, 420.0138528000367, 419.86731510658814, 419.72620361824625, 419.59031948349724, 419.45947097445185, 419.33347324460647, 419.2121481140482, 419.0953238188416, 418.9828348058871, 418.8745214965545, 418.7702300999345, 418.6698123885075, 418.57312552904773, 418.4800318704181, 418.39039877714487, 418.3040984330506, 418.221007691072, 418.14100788681367, 418.0639847042593, 417.9898279991501, 417.9184316652139, 417.84969347240326, 417.7835149458278, 417.7198012126098, 417.65846089585546, 417.5994059686123, 417.5425516466941, 417.48781625649184, 417.4351211371721, 417.38439051618434, 417.3355514257407, 417.28853358278667, 417.24326930330267, 417.1996933949932, 417.1577430779346, 417.11735788443775, 417.07847959324897, 417.0410521314332, 417.0050215059465, 416.97033571696085, 416.93694469309924, 416.90480021179064, 416.873855847282, 416.8440668908598]}, {\"mode\": \"lines\", \"name\": \"Total Infections\", \"type\": \"scatter\", \"x\": [1, 2, 3, 4, 5, 6, 7, 8, 9, 10, 11, 12, 13, 14, 15, 16, 17, 18, 19, 20, 21, 22, 23, 24, 25, 26, 27, 28, 29, 30, 31, 32, 33, 34, 35, 36, 37, 38, 39, 40, 41, 42, 43, 44, 45, 46, 47, 48, 49, 50, 51, 52, 53, 54, 55, 56, 57, 58, 59, 60, 61, 62, 63, 64, 65, 66, 67, 68, 69, 70, 71, 72, 73, 74, 75, 76, 77, 78, 79, 80, 81, 82, 83, 84, 85, 86, 87, 88, 89, 90, 91, 92, 93, 94, 95, 96, 97, 98, 99, 100, 101, 102, 103, 104, 105, 106, 107, 108, 109, 110, 111, 112, 113, 114, 115, 116, 117, 118, 119, 120, 121, 122, 123, 124, 125, 126, 127, 128, 129, 130, 131, 132, 133, 134, 135, 136, 137, 138, 139, 140, 141, 142, 143, 144, 145, 146, 147, 148, 149, 150, 151, 152, 153, 154, 155, 156, 157, 158, 159, 160, 161, 162, 163, 164, 165, 166, 167, 168, 169, 170, 171, 172, 173, 174, 175, 176, 177, 178, 179, 180, 181, 182, 183, 184, 185, 186, 187, 188, 189, 190, 191, 192, 193, 194, 195, 196, 197, 198, 199, 200, 201, 202, 203, 204, 205, 206, 207, 208, 209, 210, 211, 212, 213, 214, 215, 216, 217, 218, 219, 220, 221, 222, 223, 224, 225, 226, 227, 228, 229, 230, 231, 232, 233, 234, 235, 236, 237, 238, 239, 240, 241, 242, 243, 244, 245, 246, 247, 248, 249, 250, 251, 252, 253, 254, 255, 256, 257, 258, 259, 260, 261, 262, 263, 264, 265, 266, 267, 268, 269, 270, 271, 272, 273, 274, 275, 276, 277, 278, 279, 280, 281, 282, 283, 284, 285, 286, 287, 288, 289, 290, 291, 292, 293, 294, 295, 296, 297, 298, 299], \"y\": [1.0, 0.896523063638533, 0.8391342451207825, 0.8126637152998886, 0.8070551268774021, 0.8156521398971126, 0.8340590016009014, 0.8593828352365166, 0.8897298229085284, 0.9238702351593373, 0.9610157336373297, 1.0006714366161467, 1.042537587031225, 1.086444286020964, 1.1323081983461767, 1.180103843023138, 1.2298446005947938, 1.2815701708002825, 1.335338306801038, 1.3912194004309757, 1.4492929488198105, 1.5096452738149273, 1.5723680651088028, 1.6375574672041484, 1.7053135416078051, 1.7757399415985464, 1.848943753910503, 1.9250354440559918, 2.004128848168131, 2.0863412172985574, 2.1717932884185958, 2.260609350704903, 2.3529173329656077, 2.4488488884811392, 2.5485394757153355, 2.6521284337703284, 2.759759051265757, 2.871578610180904, 2.9877384901196926, 3.1083941846493905, 3.2337053036149923, 3.363835622922288, 3.498953088342887, 3.639229803361709, 3.7848420275951122, 3.9359701045086863, 4.092798433348468, 4.255515358070843, 4.424313115886276, 4.599387659767629, 4.780938578479248, 4.969168860301916, 5.164284758073433, 5.366495470547611, 5.576012970046428, 5.793051621067764, 6.017827934417387, 6.250560108619336, 6.491467703499798, 6.740771046705889, 6.9986908690446725, 7.265447632937861, 7.541260932843679, 7.826348930375428, 8.120927592936072, 8.42520986646885, 8.739404830990063, 9.063716813699207, 9.39834441553091, 9.74347949011686, 10.099306115164127, 10.465999435119976, 10.843724185508005, 11.232633438156924, 11.632867377539302, 12.044551874048393, 12.467796663106343, 12.90269413489001, 13.34931741314569, 13.807718773227881, 14.277927863166198, 14.759949900521285, 15.253763809477292, 15.759320339839395, 16.276540115424076, 16.805311829975036, 17.34549019580626, 17.896894070594847, 18.459304571154274, 19.032463177954817, 19.616070000468614, 20.209782106100608, 20.813211660031413, 21.4259241018624, 22.04743770940841, 22.677221641938957, 23.314694962616112, 23.959225754191824, 24.610130508647316, 25.266673728563124, 25.928067852446862, 26.593473211359083, 27.261998487749185, 27.93270167799228, 28.60459101578497, 29.27662665896686, 29.947722378975865, 30.61674770040317, 31.282530899872143, 31.943861777070612, 32.59949516101, 33.24815479602576, 33.888537355774105, 34.519317317347365, 35.139151824173986, 35.74668582707243, 36.34055782880839, 36.91940563630074, 37.481872508893936, 38.02661354101842, 38.55230183930674, 39.05763533763318, 39.541343191464094, 40.002192477227666, 40.43899462482423, 40.85061188842192, 41.235963411980784, 41.59403135515509, 41.92386654129484, 42.22459380388122, 42.495416840068685, 42.73562267625016, 42.94458574120178, 43.121771457598484, 43.266739012960734, 43.37914359398987, 43.45873825479016, 43.50537490785927, 43.51900479214282, 43.499678513619, 43.44754471583239, 43.362848967343844, 43.24593190373715, 43.097226489275606, 42.91725492871479, 42.706625005418964, 42.466026026976905, 42.19622439485385, 41.89805873193761, 41.5724346826852, 41.22031942118453, 40.84273604420154, 40.44075786784284, 40.015502358239935, 39.56812516485576, 39.09981407936459, 38.611783187547516, 38.105266942597346, 37.58151434760876, 37.041783367810424, 36.48733554331886, 35.91943078150198, 35.33932244401091, 34.748252626700015, 34.14744773444768, 33.53811455199947, 32.92143638820839, 32.298569584540395, 31.670640523464897, 31.038742673003078, 30.403934456023578, 29.767236785216202, 29.129631409811825, 28.49205930735303, 27.855419522488745, 27.220568203085037, 26.588317948548706, 25.959437417937156, 25.334651074164725, 24.71463926065258, 24.10003842919958, 23.491441590842104, 22.88939892976308, 22.294418490853623, 21.70696708227141, 21.127471295473768, 20.556318639063328, 19.99385874533874, 19.440404609973005, 18.89623389683182, 18.361590402746106, 17.836685490326783, 17.32169953096775, 16.816783319576228, 16.322059624262046, 15.837624662104002, 15.363549564776447, 14.899881813725763, 14.446646709686494, 14.00384878324616, 13.571473168547833, 13.149486941323154, 12.737840442896962, 12.33646854319072, 11.945291861054232, 11.564217934376995, 11.193142357433988, 10.83194990129973, 10.480515475753128, 10.13870517596968, 9.806377192738996, 9.483382691859038, 9.169566696022446, 8.864768816816962, 8.568824086516505, 8.281563562891114, 8.002815080685561, 7.732403784671134, 7.470152800766283, 7.215883673895937, 6.96941685833316, 6.730572307903557, 6.499169767870459, 6.275029237100006, 6.057971291577263, 5.847817433336957, 5.644390383108171, 5.447514350435899, 5.257015274513874, 5.072721050216741, 4.894461727442537, 4.722069685816199, 4.5553798095746405, 4.3942296070855456, 4.238459328315711, 4.08791206420807, 3.94243384795357, 3.801873713567846, 3.6660837972986347, 3.534919354960505, 3.4082387707626034, 3.2859036230458125, 3.1677786983118934, 3.053732000551599, 2.9436347235140485, 2.83736126679111, 2.734789222527717, 2.6357993554350703, 2.540275564564264, 2.4481048627234507, 2.359177344204108, 2.2733861441986667, 2.1906273906792584, 2.11080016092666, 2.0338064529755147, 1.959551116968036, 1.8879417893286536, 1.8188888682915332, 1.752305446642748, 1.6881072511156756, 1.626212590714516, 1.5665423069899687, 1.5090197168396857, 1.4535705368178358, 1.40012283053724, 1.3486069533342644, 1.2989554920152524, 1.2511032192519358, 1.2049870323082363, 1.1605458841038927, 1.1177207305097299, 1.0764544764981092, 1.0366919184141756, 0.9983797055026302, 0.9614662791266521, 0.9259018117366977, 0.8916381577392307, 0.8586288037958383, 0.8268288166285486, 0.7961948124436424, 0.7666848992968106, 0.7382586247382746, 0.710876931949754, 0.6845021147624918, 0.6590977728000946, 0.6346287881783923, 0.6110612724756601, 0.5883625230424949, 0.5665009848060579, 0.5454462097981854, 0.5251688203996087, 0.5056404921633844, 0.4868339060482918, 0.4687227128866212, 0.4512815004981775, 0.4344857572857242, 0.41831184361904467, 0.4027369794286545, 0.3877392019158618]}, {\"mode\": \"lines\", \"name\": \"Recovered\", \"type\": \"scatter\", \"x\": [1, 2, 3, 4, 5, 6, 7, 8, 9, 10, 11, 12, 13, 14, 15, 16, 17, 18, 19, 20, 21, 22, 23, 24, 25, 26, 27, 28, 29, 30, 31, 32, 33, 34, 35, 36, 37, 38, 39, 40, 41, 42, 43, 44, 45, 46, 47, 48, 49, 50, 51, 52, 53, 54, 55, 56, 57, 58, 59, 60, 61, 62, 63, 64, 65, 66, 67, 68, 69, 70, 71, 72, 73, 74, 75, 76, 77, 78, 79, 80, 81, 82, 83, 84, 85, 86, 87, 88, 89, 90, 91, 92, 93, 94, 95, 96, 97, 98, 99, 100, 101, 102, 103, 104, 105, 106, 107, 108, 109, 110, 111, 112, 113, 114, 115, 116, 117, 118, 119, 120, 121, 122, 123, 124, 125, 126, 127, 128, 129, 130, 131, 132, 133, 134, 135, 136, 137, 138, 139, 140, 141, 142, 143, 144, 145, 146, 147, 148, 149, 150, 151, 152, 153, 154, 155, 156, 157, 158, 159, 160, 161, 162, 163, 164, 165, 166, 167, 168, 169, 170, 171, 172, 173, 174, 175, 176, 177, 178, 179, 180, 181, 182, 183, 184, 185, 186, 187, 188, 189, 190, 191, 192, 193, 194, 195, 196, 197, 198, 199, 200, 201, 202, 203, 204, 205, 206, 207, 208, 209, 210, 211, 212, 213, 214, 215, 216, 217, 218, 219, 220, 221, 222, 223, 224, 225, 226, 227, 228, 229, 230, 231, 232, 233, 234, 235, 236, 237, 238, 239, 240, 241, 242, 243, 244, 245, 246, 247, 248, 249, 250, 251, 252, 253, 254, 255, 256, 257, 258, 259, 260, 261, 262, 263, 264, 265, 266, 267, 268, 269, 270, 271, 272, 273, 274, 275, 276, 277, 278, 279, 280, 281, 282, 283, 284, 285, 286, 287, 288, 289, 290, 291, 292, 293, 294, 295, 296, 297, 298, 299], \"y\": [0.0, 0.12567776813470055, 0.24056981752616904, 0.34975207093610444, 0.4566411765669794, 0.5635541367356032, 0.672080411354192, 0.7833293343295838, 0.8980946074952006, 1.016963664635796, 1.1403903933713309, 1.2687434720803186, 1.4023385423292989, 1.5414596186118814, 1.6863733580269118, 1.837338600990865, 1.9946127712279866, 2.1584561997999465, 2.3291350811166867, 2.5069235245584975, 2.69210501656422, 2.8849734968177456, 3.085834186984796, 3.2950042620954854, 3.512813418621209, 3.7396043917978044, 3.9757334351911164, 4.221570771338753, 4.47750106006341, 4.743923855699013, 5.0212540763205, 5.309922438850476, 5.610375977616271, 5.92307851699359, 6.248511170896027, 6.587172863040778, 6.939580836747574, 7.306271013520104, 7.687798893465822, 8.084739883124717, 8.49768968868005, 8.92726506034918, 9.374104267100348, 9.838867648408923, 10.322238150973284, 10.824921863896671, 11.347648550145468, 11.891172161195474, 12.456271356173874, 13.043749969491158, 13.654437517054992, 14.289189609052078, 14.948888427162828, 15.634443072527073, 16.34678999303533, 17.086893237855126, 17.855744828471806, 18.654364902996203, 19.48380201742379, 20.345133149039444, 21.239463927329968, 22.16792845641439, 23.131689301018227, 24.131937354139545, 25.169891561135927, 26.246798554068107, 27.36393222506989, 28.522593153805254, 29.724107835990402, 30.969827964382826, 32.2611293161799, 33.59941075817632, 34.98609289131426, 36.422616761232455, 37.910442074825326, 39.45104536211424, 41.045918173712664, 42.69656469032108, 44.40449942005918, 46.17124448750299, 47.99832681309002, 49.88727510751177, 51.839616420270524, 53.8568726007913, 55.940556416670276, 58.09216770482917, 60.31318880940513, 62.60508010513468, 64.96927520078049, 67.4071757799017, 69.9201464346937, 72.50950952100015, 75.17653861215942, 77.92245198885576, 80.74840868691682, 83.65550046652203, 86.64474590663548, 89.71708366649628, 92.87336590570216, 96.11435149105132, 99.44069921864899, 102.8529610956516, 106.35157559632013, 109.93686102341468, 113.60900894609335, 117.36807792546414, 121.21398742728518, 125.14651189822847, 129.1652753925119, 133.26974631363723, 137.4592327119222, 141.7328782839693, 146.08965838682113, 150.52837714081446, 155.04766497163223, 159.64597652121478, 164.3215900381688, 169.0726067215413, 173.89695112993584, 178.79237288986968, 183.75644791013474, 188.78658243582325, 193.88001614467927, 199.0338267944287, 204.24493639346053, 209.5101164906436, 214.82599663785572, 220.18907118417079, 225.59570876283865, 231.0421613246984, 236.52457467880245, 242.0389987401742, 247.5813989863699, 253.14766809991514, 258.7336381805643, 264.33509318399086, 269.9477815682556, 275.56742923242683, 281.18975239849084, 286.8104705945486, 292.4253195756695, 298.0300640223369, 303.62050987921015, 309.1925165856198, 314.7420089072353, 320.2649881247912, 325.757542928595, 331.21585956269615, 336.6362314083162, 342.01506797772066, 347.34890307832706, 352.63440226622487, 357.8683697661435, 363.0477541268502, 368.1696536082851, 373.23132061774237, 378.2301649851745, 383.163757067088, 388.02982983718334, 392.8262799393781, 397.5511685199387, 402.2027211620367, 406.779326924314, 411.27953717075536, 415.7020636655927, 420.0457758638277, 424.3096980840635, 428.49300610770183, 432.59502312233496, 436.61521576742973, 440.5531890434926, 444.4086820408313, 448.1815625070438, 451.8718217025594, 455.4795687770591, 459.0050252589172, 462.4485193162387, 465.8104799810064, 469.09143142854856, 472.29198712741396, 475.4128441397688, 478.4547773711673, 481.4186339547918, 484.30532775121645, 487.115833911158, 489.85118361129514, 492.5124588849123, 495.10078765702343, 497.61733894866796, 500.06331823750446, 502.4399630010576, 504.7485384461946, 506.99033341178773, 509.1666565519111, 511.27883261894857, 513.3281989691823, 515.3161022714514, 517.2438954379884, 519.1129346857415, 520.9245768165295, 522.6801766679436, 524.3810847716977, 526.0286451453695, 527.6241932667352, 529.1690542091743, 530.6645409581506, 532.1119528408175, 533.5125739822832, 534.8676722781519, 536.1784980278453, 537.4462829983945, 538.672239523993, 539.8575596136345, 541.0034144044729, 542.1109533705354, 543.1813040237611, 544.215571296153, 545.2148373723813, 546.1801612346557, 547.1125786549217, 548.0131021036599, 548.8827203623969, 549.7223988179032, 550.5330793352408, 551.3156804237074, 552.071097318589, 552.8002021685423, 553.5038442206899, 554.1828500594182, 554.8380238659454, 555.4701476990656, 556.0799818136724, 556.6682649666475, 557.2357147899621, 557.7830281328232, 558.3108814592451, 558.8199312084176, 559.3108142150556, 559.7841480809521, 560.2405316030023, 560.6805452019943, 561.1047513173453, 561.513694830124, 561.9079034827492, 562.2878883115329, 562.6541440413745, 563.0071495412208, 563.3473681909708, 563.675248313131, 563.991223583269, 564.2957134128524, 564.5891233631822, 564.8718455551468, 565.1442590439323, 565.4067300727824, 565.6596125804175, 565.9032487698892, 566.137969045905, 566.3640925565155, 566.5819275583818, 566.7917717422097, 566.9939125385955, 567.1886274585931, 567.376184390935, 567.5568419282068, 567.7308496397717, 567.898448386615, 568.05987057457, 568.2153404553303, 568.3650743746607, 568.5092810556479, 568.6481618261623, 568.7819108904878, 568.9107155373737, 569.0347563992519, 569.1542076566149, 569.2692372794467, 569.3800072148942, 569.4866736172936, 569.589387016881, 569.688292539735, 569.783530074604, 569.8752344755557, 569.9635357158495, 570.0485590797196, 570.1304252982109, 570.2092507334597, 570.285147514034, 570.3582237029534, 570.4285834236184, 570.4963270174526, 570.5615511528955, 570.6243489781666, 570.6848102306227, 570.7430213746948, 570.799065705066, 570.853023474521, 570.9049719813894, 570.9549856949922]}, {\"mode\": \"lines\", \"name\": \"Deaths\", \"type\": \"scatter\", \"x\": [1, 2, 3, 4, 5, 6, 7, 8, 9, 10, 11, 12, 13, 14, 15, 16, 17, 18, 19, 20, 21, 22, 23, 24, 25, 26, 27, 28, 29, 30, 31, 32, 33, 34, 35, 36, 37, 38, 39, 40, 41, 42, 43, 44, 45, 46, 47, 48, 49, 50, 51, 52, 53, 54, 55, 56, 57, 58, 59, 60, 61, 62, 63, 64, 65, 66, 67, 68, 69, 70, 71, 72, 73, 74, 75, 76, 77, 78, 79, 80, 81, 82, 83, 84, 85, 86, 87, 88, 89, 90, 91, 92, 93, 94, 95, 96, 97, 98, 99, 100, 101, 102, 103, 104, 105, 106, 107, 108, 109, 110, 111, 112, 113, 114, 115, 116, 117, 118, 119, 120, 121, 122, 123, 124, 125, 126, 127, 128, 129, 130, 131, 132, 133, 134, 135, 136, 137, 138, 139, 140, 141, 142, 143, 144, 145, 146, 147, 148, 149, 150, 151, 152, 153, 154, 155, 156, 157, 158, 159, 160, 161, 162, 163, 164, 165, 166, 167, 168, 169, 170, 171, 172, 173, 174, 175, 176, 177, 178, 179, 180, 181, 182, 183, 184, 185, 186, 187, 188, 189, 190, 191, 192, 193, 194, 195, 196, 197, 198, 199, 200, 201, 202, 203, 204, 205, 206, 207, 208, 209, 210, 211, 212, 213, 214, 215, 216, 217, 218, 219, 220, 221, 222, 223, 224, 225, 226, 227, 228, 229, 230, 231, 232, 233, 234, 235, 236, 237, 238, 239, 240, 241, 242, 243, 244, 245, 246, 247, 248, 249, 250, 251, 252, 253, 254, 255, 256, 257, 258, 259, 260, 261, 262, 263, 264, 265, 266, 267, 268, 269, 270, 271, 272, 273, 274, 275, 276, 277, 278, 279, 280, 281, 282, 283, 284, 285, 286, 287, 288, 289, 290, 291, 292, 293, 294, 295, 296, 297, 298, 299], \"y\": [0.0, 1.0351097671764907e-05, 7.447547832641852e-05, 0.00022725942364276732, 0.000489484948430421, 0.0008727917802249482, 0.0013829790520907593, 0.00202219891165785, 0.0027904102126370847, 0.003686338166756693, 0.004708104204638632, 0.005853635470090058, 0.0071209277429358266, 0.008508210604056474, 0.010014047809109266, 0.011637394990819701, 0.013377629391255055, 0.015234561565397866, 0.01720843572739974, 0.019299923144547298, 0.02151011158609807, 0.02384049278070954, 0.026292949187896642, 0.02886974093816362, 0.03157349344416811, 0.03440718607377921, 0.03737414197517001, 0.040478019509895526, 0.043722804569282445, 0.04711280447815581, 0.05065264316990319, 0.05434725796786393, 0.05820189679381392, 0.06222211717381817, 0.06641378606424363, 0.07078308079109372, 0.0753364908749562, 0.08008081966241912, 0.08502318931146172, 0.09017104383966085, 0.09553215490228736, 0.1011146266858274, 0.10692690166894274, 0.1129777679011369, 0.11927636513852378, 0.1258321935463043, 0.1326551205154669, 0.13975538962099687, 0.14714362825756516, 0.1548308577623762, 0.16282850107970687, 0.17114839284471797, 0.17980278793780471, 0.18880437158748614, 0.19816626815971025, 0.20790205096442563, 0.2180257512544304, 0.22855186746352013, 0.2394953742832878, 0.2508717312415138, 0.2626968916411029, 0.27498730968309754, 0.2877599489720545, 0.30103228875371535, 0.31482233090587686, 0.3291486054860644, 0.34403017585525886, 0.35948664299464195, 0.3755381477051058, 0.3922053738563033, 0.40950954744345397, 0.42747243754731085, 0.44611635340321193, 0.4654641424646798, 0.485539183682821, 0.5063653797501674, 0.5279671501810924, 0.5503694182343845, 0.5735975984693212, 0.5976775801562318, 0.622635709105202, 0.6484987669404755, 0.6752939461869039, 0.7030488232772789, 0.7317913276240329, 0.7615497096449978, 0.7923525015301426, 0.8242284770298276, 0.8572066069555084, 0.8913160096052911, 0.9265858991805671, 0.9630455336677463, 1.0007241444941222, 1.0396508674146077, 1.0798546929204897, 1.1213643761450203, 1.1642083649598995, 1.2084147132923357, 1.2540109973891356, 1.3010242247783386, 1.3494807369340394, 1.3994061133442293, 1.4508250675717265, 1.503761340988044, 1.5582375955905845, 1.6142752999098982, 1.6718946166977535, 1.7311142870282465, 1.7919515112183468, 1.854421831857836, 1.9185390141210232, 1.9843149277929566, 2.0517594294237913, 2.1208802457428, 2.19168286063759, 2.2641704029712892, 2.3383435417007825, 2.414200382402212, 2.491736369453002, 2.570944198751331, 2.6518137278882605, 2.734331908247971, 2.8184827135723083, 2.9042470806921568, 2.991602869905364, 3.08052481582354, 3.1709845181524887, 3.262950414120066, 3.3563877870919843, 3.4512587747236343, 3.547522400592601, 3.645134607589367, 3.744048314132935, 3.8442134788434146, 3.9455771846468166, 4.0480837319659875, 4.151674743334984, 4.256289288549753, 4.361864015725822, 4.46833329242077, 4.575629370183615, 4.6836825466004655, 4.792421338298235, 4.9017726685969425, 5.011662060004741, 5.122013832053451, 5.232751306612072, 5.343797015696645, 5.45507291271542, 5.566500586966295, 5.678001477231593, 5.789497085476672, 5.900909188278584, 6.012160045969016, 6.1231726080037605, 6.23387071377924, 6.344179284043133, 6.454024509293255, 6.563334029767475, 6.672037102657805, 6.78006476487912, 6.887349984676146, 6.993827798416501, 7.099435441954347, 7.204112469582995, 7.307800855757282, 7.410445091662066, 7.511992268995011, 7.612392145277295, 7.7115972088771, 7.809562713381804, 7.9062467245943395, 8.001610137526884, 8.095616691932673, 8.188232971859762, 8.27942839853958, 8.369175212179174, 8.457448444494426, 8.544225884313015, 8.629488032847263, 8.713218053385072, 8.795401713054035, 8.876027319232172, 8.955085649977441, 9.032569878675362, 9.108475496282143, 9.182800227297559, 9.255543944555537, 9.326708580133136, 9.396298034729766, 9.464318085290502, 9.530776291023681, 9.595681899098556, 9.659045750656015, 9.720880185881347, 9.781198950235375, 9.840017101456041, 9.8973509180809, 9.953217808945539, 10.007636224665156, 10.060625571058088, 10.112206125050706, 10.162398952557632, 10.211225829045866, 10.258709162747806, 10.30487192113974, 10.349737559713963, 10.39332995138182, 10.43567332583332, 10.476792203491458, 10.516711337887884, 10.555455660174031, 10.593050223367245, 10.629520156305526, 10.664890611029245, 10.699186724406898, 10.732433570826982, 10.764656128659384, 10.79587923802874, 10.826127573886993, 10.85542561517566, 10.88379760828046, 10.911267549192575, 10.937859155275255, 10.963595845725168, 10.988500721046288, 11.012596545899955, 11.035905733353735, 11.058450331337596, 11.080252010225356, 11.101332052149846, 11.121711342451823, 11.141410361590244, 11.16044917958867, 11.178847450354157, 11.19662440877354, 11.213798867307341, 11.230389215133396, 11.246413416646531, 11.261889012141383, 11.276833119017716, 11.291262433425896, 11.305193232685049, 11.318641378358924, 11.331622320336328, 11.344151100655965, 11.356242358593521, 11.367910335286332, 11.379168879605704, 11.390031453930662, 11.400511140007996, 11.410620645605205, 11.42037231153116, 11.429778118417358, 11.438849691087905, 11.447598308603105, 11.45603491418304, 11.464170116361794, 11.472014198942055, 11.479577128998148, 11.486868563740893, 11.493897858018697, 11.500674071634231, 11.507205976888146, 11.513502065921172, 11.519570557784347, 11.525419405847492, 11.531056304736296, 11.536488697599811, 11.541723782806695, 11.546768521094922, 11.551629642059137, 11.556313651115882, 11.56082683555388, 11.565175271375622, 11.569364829208002, 11.573401180869554, 11.57728980499277, 11.58103599336581, 11.584644856097249, 11.588121327796982, 11.591470172641815, 11.594695990212722, 11.597803220262609, 11.600796148311332, 11.603678909980223, 11.606455496416375, 11.60912975854409, 11.611705412128662, 11.614186041773875, 11.61657510573095, 11.618875939491101, 11.621091760442653, 11.623225671394383, 11.62528066488257, 11.62725962650102, 11.629165338946205, 11.631000484973177, 11.632767651323325]}],\n",
       "                        {\"font\": {\"color\": \"#7f7f7f\", \"family\": \"Courier New, monospace\", \"size\": 12}, \"template\": {\"data\": {\"bar\": [{\"error_x\": {\"color\": \"#2a3f5f\"}, \"error_y\": {\"color\": \"#2a3f5f\"}, \"marker\": {\"line\": {\"color\": \"#E5ECF6\", \"width\": 0.5}}, \"type\": \"bar\"}], \"barpolar\": [{\"marker\": {\"line\": {\"color\": \"#E5ECF6\", \"width\": 0.5}}, \"type\": \"barpolar\"}], \"carpet\": [{\"aaxis\": {\"endlinecolor\": \"#2a3f5f\", \"gridcolor\": \"white\", \"linecolor\": \"white\", \"minorgridcolor\": \"white\", \"startlinecolor\": \"#2a3f5f\"}, \"baxis\": {\"endlinecolor\": \"#2a3f5f\", \"gridcolor\": \"white\", \"linecolor\": \"white\", \"minorgridcolor\": \"white\", \"startlinecolor\": \"#2a3f5f\"}, \"type\": \"carpet\"}], \"choropleth\": [{\"colorbar\": {\"outlinewidth\": 0, \"ticks\": \"\"}, \"type\": \"choropleth\"}], \"contour\": [{\"colorbar\": {\"outlinewidth\": 0, \"ticks\": \"\"}, \"colorscale\": [[0.0, \"#0d0887\"], [0.1111111111111111, \"#46039f\"], [0.2222222222222222, \"#7201a8\"], [0.3333333333333333, \"#9c179e\"], [0.4444444444444444, \"#bd3786\"], [0.5555555555555556, \"#d8576b\"], [0.6666666666666666, \"#ed7953\"], [0.7777777777777778, \"#fb9f3a\"], [0.8888888888888888, \"#fdca26\"], [1.0, \"#f0f921\"]], \"type\": \"contour\"}], \"contourcarpet\": [{\"colorbar\": {\"outlinewidth\": 0, \"ticks\": \"\"}, \"type\": \"contourcarpet\"}], \"heatmap\": [{\"colorbar\": {\"outlinewidth\": 0, \"ticks\": \"\"}, \"colorscale\": [[0.0, \"#0d0887\"], [0.1111111111111111, \"#46039f\"], [0.2222222222222222, \"#7201a8\"], [0.3333333333333333, \"#9c179e\"], [0.4444444444444444, \"#bd3786\"], [0.5555555555555556, \"#d8576b\"], [0.6666666666666666, \"#ed7953\"], [0.7777777777777778, \"#fb9f3a\"], [0.8888888888888888, \"#fdca26\"], [1.0, \"#f0f921\"]], \"type\": \"heatmap\"}], \"heatmapgl\": [{\"colorbar\": {\"outlinewidth\": 0, \"ticks\": \"\"}, \"colorscale\": [[0.0, \"#0d0887\"], [0.1111111111111111, \"#46039f\"], [0.2222222222222222, \"#7201a8\"], [0.3333333333333333, \"#9c179e\"], [0.4444444444444444, \"#bd3786\"], [0.5555555555555556, \"#d8576b\"], [0.6666666666666666, \"#ed7953\"], [0.7777777777777778, \"#fb9f3a\"], [0.8888888888888888, \"#fdca26\"], [1.0, \"#f0f921\"]], \"type\": \"heatmapgl\"}], \"histogram\": [{\"marker\": {\"colorbar\": {\"outlinewidth\": 0, \"ticks\": \"\"}}, \"type\": \"histogram\"}], \"histogram2d\": [{\"colorbar\": {\"outlinewidth\": 0, \"ticks\": \"\"}, \"colorscale\": [[0.0, \"#0d0887\"], [0.1111111111111111, \"#46039f\"], [0.2222222222222222, \"#7201a8\"], [0.3333333333333333, \"#9c179e\"], [0.4444444444444444, \"#bd3786\"], [0.5555555555555556, \"#d8576b\"], [0.6666666666666666, \"#ed7953\"], [0.7777777777777778, \"#fb9f3a\"], [0.8888888888888888, \"#fdca26\"], [1.0, \"#f0f921\"]], \"type\": \"histogram2d\"}], \"histogram2dcontour\": [{\"colorbar\": {\"outlinewidth\": 0, \"ticks\": \"\"}, \"colorscale\": [[0.0, \"#0d0887\"], [0.1111111111111111, \"#46039f\"], [0.2222222222222222, \"#7201a8\"], [0.3333333333333333, \"#9c179e\"], [0.4444444444444444, \"#bd3786\"], [0.5555555555555556, \"#d8576b\"], [0.6666666666666666, \"#ed7953\"], [0.7777777777777778, \"#fb9f3a\"], [0.8888888888888888, \"#fdca26\"], [1.0, \"#f0f921\"]], \"type\": \"histogram2dcontour\"}], \"mesh3d\": [{\"colorbar\": {\"outlinewidth\": 0, \"ticks\": \"\"}, \"type\": \"mesh3d\"}], \"parcoords\": [{\"line\": {\"colorbar\": {\"outlinewidth\": 0, \"ticks\": \"\"}}, \"type\": \"parcoords\"}], \"pie\": [{\"automargin\": true, \"type\": \"pie\"}], \"scatter\": [{\"marker\": {\"colorbar\": {\"outlinewidth\": 0, \"ticks\": \"\"}}, \"type\": \"scatter\"}], \"scatter3d\": [{\"line\": {\"colorbar\": {\"outlinewidth\": 0, \"ticks\": \"\"}}, \"marker\": {\"colorbar\": {\"outlinewidth\": 0, \"ticks\": \"\"}}, \"type\": \"scatter3d\"}], \"scattercarpet\": [{\"marker\": {\"colorbar\": {\"outlinewidth\": 0, \"ticks\": \"\"}}, \"type\": \"scattercarpet\"}], \"scattergeo\": [{\"marker\": {\"colorbar\": {\"outlinewidth\": 0, \"ticks\": \"\"}}, \"type\": \"scattergeo\"}], \"scattergl\": [{\"marker\": {\"colorbar\": {\"outlinewidth\": 0, \"ticks\": \"\"}}, \"type\": \"scattergl\"}], \"scattermapbox\": [{\"marker\": {\"colorbar\": {\"outlinewidth\": 0, \"ticks\": \"\"}}, \"type\": \"scattermapbox\"}], \"scatterpolar\": [{\"marker\": {\"colorbar\": {\"outlinewidth\": 0, \"ticks\": \"\"}}, \"type\": \"scatterpolar\"}], \"scatterpolargl\": [{\"marker\": {\"colorbar\": {\"outlinewidth\": 0, \"ticks\": \"\"}}, \"type\": \"scatterpolargl\"}], \"scatterternary\": [{\"marker\": {\"colorbar\": {\"outlinewidth\": 0, \"ticks\": \"\"}}, \"type\": \"scatterternary\"}], \"surface\": [{\"colorbar\": {\"outlinewidth\": 0, \"ticks\": \"\"}, \"colorscale\": [[0.0, \"#0d0887\"], [0.1111111111111111, \"#46039f\"], [0.2222222222222222, \"#7201a8\"], [0.3333333333333333, \"#9c179e\"], [0.4444444444444444, \"#bd3786\"], [0.5555555555555556, \"#d8576b\"], [0.6666666666666666, \"#ed7953\"], [0.7777777777777778, \"#fb9f3a\"], [0.8888888888888888, \"#fdca26\"], [1.0, \"#f0f921\"]], \"type\": \"surface\"}], \"table\": [{\"cells\": {\"fill\": {\"color\": \"#EBF0F8\"}, \"line\": {\"color\": \"white\"}}, \"header\": {\"fill\": {\"color\": \"#C8D4E3\"}, \"line\": {\"color\": \"white\"}}, \"type\": \"table\"}]}, \"layout\": {\"annotationdefaults\": {\"arrowcolor\": \"#2a3f5f\", \"arrowhead\": 0, \"arrowwidth\": 1}, \"coloraxis\": {\"colorbar\": {\"outlinewidth\": 0, \"ticks\": \"\"}}, \"colorscale\": {\"diverging\": [[0, \"#8e0152\"], [0.1, \"#c51b7d\"], [0.2, \"#de77ae\"], [0.3, \"#f1b6da\"], [0.4, \"#fde0ef\"], [0.5, \"#f7f7f7\"], [0.6, \"#e6f5d0\"], [0.7, \"#b8e186\"], [0.8, \"#7fbc41\"], [0.9, \"#4d9221\"], [1, \"#276419\"]], \"sequential\": [[0.0, \"#0d0887\"], [0.1111111111111111, \"#46039f\"], [0.2222222222222222, \"#7201a8\"], [0.3333333333333333, \"#9c179e\"], [0.4444444444444444, \"#bd3786\"], [0.5555555555555556, \"#d8576b\"], [0.6666666666666666, \"#ed7953\"], [0.7777777777777778, \"#fb9f3a\"], [0.8888888888888888, \"#fdca26\"], [1.0, \"#f0f921\"]], \"sequentialminus\": [[0.0, \"#0d0887\"], [0.1111111111111111, \"#46039f\"], [0.2222222222222222, \"#7201a8\"], [0.3333333333333333, \"#9c179e\"], [0.4444444444444444, \"#bd3786\"], [0.5555555555555556, \"#d8576b\"], [0.6666666666666666, \"#ed7953\"], [0.7777777777777778, \"#fb9f3a\"], [0.8888888888888888, \"#fdca26\"], [1.0, \"#f0f921\"]]}, \"colorway\": [\"#636efa\", \"#EF553B\", \"#00cc96\", \"#ab63fa\", \"#FFA15A\", \"#19d3f3\", \"#FF6692\", \"#B6E880\", \"#FF97FF\", \"#FECB52\"], \"font\": {\"color\": \"#2a3f5f\"}, \"geo\": {\"bgcolor\": \"white\", \"lakecolor\": \"white\", \"landcolor\": \"#E5ECF6\", \"showlakes\": true, \"showland\": true, \"subunitcolor\": \"white\"}, \"hoverlabel\": {\"align\": \"left\"}, \"hovermode\": \"closest\", \"mapbox\": {\"style\": \"light\"}, \"paper_bgcolor\": \"white\", \"plot_bgcolor\": \"#E5ECF6\", \"polar\": {\"angularaxis\": {\"gridcolor\": \"white\", \"linecolor\": \"white\", \"ticks\": \"\"}, \"bgcolor\": \"#E5ECF6\", \"radialaxis\": {\"gridcolor\": \"white\", \"linecolor\": \"white\", \"ticks\": \"\"}}, \"scene\": {\"xaxis\": {\"backgroundcolor\": \"#E5ECF6\", \"gridcolor\": \"white\", \"gridwidth\": 2, \"linecolor\": \"white\", \"showbackground\": true, \"ticks\": \"\", \"zerolinecolor\": \"white\"}, \"yaxis\": {\"backgroundcolor\": \"#E5ECF6\", \"gridcolor\": \"white\", \"gridwidth\": 2, \"linecolor\": \"white\", \"showbackground\": true, \"ticks\": \"\", \"zerolinecolor\": \"white\"}, \"zaxis\": {\"backgroundcolor\": \"#E5ECF6\", \"gridcolor\": \"white\", \"gridwidth\": 2, \"linecolor\": \"white\", \"showbackground\": true, \"ticks\": \"\", \"zerolinecolor\": \"white\"}}, \"shapedefaults\": {\"line\": {\"color\": \"#2a3f5f\"}}, \"ternary\": {\"aaxis\": {\"gridcolor\": \"white\", \"linecolor\": \"white\", \"ticks\": \"\"}, \"baxis\": {\"gridcolor\": \"white\", \"linecolor\": \"white\", \"ticks\": \"\"}, \"bgcolor\": \"#E5ECF6\", \"caxis\": {\"gridcolor\": \"white\", \"linecolor\": \"white\", \"ticks\": \"\"}}, \"title\": {\"x\": 0.05}, \"xaxis\": {\"automargin\": true, \"gridcolor\": \"white\", \"linecolor\": \"white\", \"ticks\": \"\", \"title\": {\"standoff\": 15}, \"zerolinecolor\": \"white\", \"zerolinewidth\": 2}, \"yaxis\": {\"automargin\": true, \"gridcolor\": \"white\", \"linecolor\": \"white\", \"ticks\": \"\", \"title\": {\"standoff\": 15}, \"zerolinecolor\": \"white\", \"zerolinewidth\": 2}}}, \"title\": {\"text\": \"extended SEIRD Model\"}, \"xaxis\": {\"title\": {\"text\": \"days of spreading\"}}, \"yaxis\": {\"title\": {\"text\": \"population\"}}},\n",
       "                        {\"responsive\": true}\n",
       "                    ).then(function(){\n",
       "                            \n",
       "var gd = document.getElementById('0b065b62-df8c-411e-bf7e-a61c2f4ab981');\n",
       "var x = new MutationObserver(function (mutations, observer) {{\n",
       "        var display = window.getComputedStyle(gd).display;\n",
       "        if (!display || display === 'none') {{\n",
       "            console.log([gd, 'removed!']);\n",
       "            Plotly.purge(gd);\n",
       "            observer.disconnect();\n",
       "        }}\n",
       "}});\n",
       "\n",
       "// Listen for the removal of the full notebook cells\n",
       "var notebookContainer = gd.closest('#notebook-container');\n",
       "if (notebookContainer) {{\n",
       "    x.observe(notebookContainer, {childList: true});\n",
       "}}\n",
       "\n",
       "// Listen for the clearing of the current output cell\n",
       "var outputEl = gd.closest('.output');\n",
       "if (outputEl) {{\n",
       "    x.observe(outputEl, {childList: true});\n",
       "}}\n",
       "\n",
       "                        })\n",
       "                };\n",
       "                });\n",
       "            </script>\n",
       "        </div>"
      ]
     },
     "metadata": {},
     "output_type": "display_data"
    }
   ],
   "source": [
    "N = 1000\n",
    "I10 = 1\n",
    "I20 = 0\n",
    "I30 = 0\n",
    "R0 = 0\n",
    "E0 = 0\n",
    "D0 = 0\n",
    "S0 = N-I10-I20-I30-R0-E0-D0\n",
    "time_range = range(1,300)\n",
    "beta1 = 0.25\n",
    "beta2 = 0.\n",
    "beta3 = 0.\n",
    "IncubPeriod = 5\n",
    "DurMildInf = 6\n",
    "FracSevere = 0.15\n",
    "DurHosp = 6\n",
    "FracCritical = 0.05\n",
    "DurICU = 8\n",
    "CFR = 0.02\n",
    "\n",
    "cases = plot_SEIIIRD(time_range, S0, E0, I10, I20, I30, \n",
    "                                          R0, D0, beta1, beta2, beta3, \n",
    "                                          IncubPeriod, DurMildInf, \n",
    "                                          FracSevere, FracCritical,  \n",
    "                                          DurHosp, DurICU, CFR, plot_output=['S','I','R','D'])"
   ]
  },
  {
   "cell_type": "markdown",
   "metadata": {},
   "source": [
    "### calibrate to italian case"
   ]
  },
  {
   "cell_type": "code",
   "execution_count": 122,
   "metadata": {
    "scrolled": false
   },
   "outputs": [
    {
     "name": "stdout",
     "output_type": "stream",
     "text": [
      "beta1 0.585262478294922\n",
      "beta2 0.09999999999999999\n",
      "beta3 0.09999999999999999\n",
      "IncubPeriod 1.000000000000034\n",
      "DurMildInf 29.999999999999964\n",
      "FracSevere 0.010000000000000002\n",
      "FracCritical 0.09999999999999999\n",
      "DurHosp 29.999999999999996\n",
      "DurICU 29.999999999999996\n",
      "CFR 0.05099999291246472\n",
      "r0 53.90227990686886\n",
      "mae  239\n"
     ]
    },
    {
     "name": "stderr",
     "output_type": "stream",
     "text": [
      "c:\\anaconda3\\envs\\coronavirus\\lib\\site-packages\\scipy\\optimize\\minpack.py:808: OptimizeWarning:\n",
      "\n",
      "Covariance of the parameters could not be estimated\n",
      "\n"
     ]
    },
    {
     "data": {
      "application/vnd.plotly.v1+json": {
       "config": {
        "plotlyServerURL": "https://plot.ly"
       },
       "data": [
        {
         "mode": "lines",
         "name": "Total Infections",
         "type": "scatter",
         "x": [
          0,
          1,
          2,
          3,
          4,
          5,
          6,
          7,
          8,
          9,
          10,
          11,
          12,
          13,
          14,
          15,
          16,
          17,
          18,
          19,
          20,
          21,
          22,
          23,
          24,
          25,
          26,
          27,
          28,
          29,
          30,
          31,
          32,
          33,
          34,
          35,
          36,
          37,
          38,
          39,
          40,
          41,
          42,
          43,
          44,
          45,
          46,
          47,
          48,
          49,
          50,
          51,
          52,
          53,
          54,
          55,
          56,
          57,
          58,
          59,
          60,
          61,
          62,
          63,
          64,
          65,
          66,
          67,
          68,
          69,
          70,
          71,
          72,
          73,
          74,
          75,
          76,
          77,
          78,
          79,
          80,
          81,
          82,
          83,
          84,
          85,
          86,
          87,
          88,
          89,
          90,
          91,
          92,
          93,
          94,
          95,
          96,
          97,
          98,
          99
         ],
         "y": [
          221,
          242.57992603153798,
          299.93622607625895,
          391.0690899621788,
          527.4596367403158,
          729.525598432876,
          1028.2243971329503,
          1469.422458689938,
          2120.823557413447,
          3082.303745922687,
          4501.180269495329,
          6594.7319316674375,
          9683.398593706914,
          14239.705882477623,
          20960.327980503167,
          30872.154416716978,
          45488.24016874108,
          67036.7381128321,
          98796.18315842163,
          145584.83050373054,
          214471.13515354772,
          315797.3020312162,
          464636.55817535234,
          682830.6251292449,
          1001758.2797388894,
          1465925.9686428485,
          2137259.181089881,
          3099450.1400473807,
          4460650.513145184,
          6350985.95658959,
          8909051.636236044,
          12250315.38346418,
          16414161.450577091,
          21300144.16423398,
          26626243.46799119,
          31953364.701074544,
          36792745.511896804,
          40751252.12180095,
          43632594.17357185,
          45446066.722446576,
          46342316.076205336,
          46529925.583859995,
          46212828.366576195,
          45559164.75067917,
          44693957.44047263,
          43704103.4216242,
          42647317.710381635,
          41560751.51346785,
          40467782.50970403,
          39382849.296543464,
          38314698.55582132,
          37268491.582010314,
          36247143.42583565,
          35252165.082499824,
          34284190.86378912,
          33343308.638267543,
          32429267.22890374,
          31541607.266978122,
          30679744.204199076,
          29843021.2646535,
          29030743.38428004,
          28242199.03547379,
          27476674.27170616,
          26733461.737009954,
          26011866.392167684,
          25311209.085173946,
          24630828.697798617,
          23970083.347158752,
          23328350.95828697,
          22705029.417760085,
          22099536.44909816,
          21511309.30480318,
          20939804.33939616,
          20384496.50733725,
          19844878.815874323,
          19320461.75344491,
          18810772.70779932,
          18315355.38356017,
          17833769.225844555,
          17365588.854421094,
          16910403.5113653,
          16467816.524116054,
          16037444.785088107,
          15618918.248467855,
          15211879.444447389,
          14815983.010889966,
          14430895.24223691,
          14056293.655339487,
          13691866.571814543,
          13337312.716457497,
          12992340.831231592,
          12656669.304301297,
          12330025.813602382,
          12012146.984405797,
          11702778.060365135,
          11401672.58753194,
          11108592.11083359,
          10823305.882525494,
          10545590.582144981,
          10275230.047505591
         ]
        },
        {
         "mode": "lines",
         "name": "Deaths",
         "type": "scatter",
         "x": [
          0,
          1,
          2,
          3,
          4,
          5,
          6,
          7,
          8,
          9,
          10,
          11,
          12,
          13,
          14,
          15,
          16,
          17,
          18,
          19,
          20,
          21,
          22,
          23,
          24,
          25,
          26,
          27,
          28,
          29,
          30,
          31,
          32,
          33,
          34,
          35,
          36,
          37,
          38,
          39,
          40,
          41,
          42,
          43,
          44,
          45,
          46,
          47,
          48,
          49,
          50,
          51,
          52,
          53,
          54,
          55,
          56,
          57,
          58,
          59,
          60,
          61,
          62,
          63,
          64,
          65,
          66,
          67,
          68,
          69,
          70,
          71,
          72,
          73,
          74,
          75,
          76,
          77,
          78,
          79,
          80,
          81,
          82,
          83,
          84,
          85,
          86,
          87,
          88,
          89,
          90,
          91,
          92,
          93,
          94,
          95,
          96,
          97,
          98,
          99
         ],
         "y": [
          7,
          7.460188408500156,
          7.954977153193628,
          8.481869463088644,
          9.038632174270475,
          9.62335298514982,
          10.234522550200827,
          10.871157431289811,
          11.532984236942074,
          12.220714142198617,
          12.936450661966127,
          13.68429387306799,
          14.471234265106107,
          15.308473634059807,
          16.21337561216869,
          17.212344429789795,
          18.34507184375878,
          19.670800003778304,
          21.277553193294942,
          23.295738506910414,
          25.918168448653315,
          29.429507130021662,
          34.24951043923473,
          40.99638245711134,
          50.57930786628295,
          64.33295649736539,
          84.21163855513252,
          113.06670225850071,
          155.0369283192478,
          216.08590340033925,
          304.71798400841215,
          432.88740484647894,
          617.0725824054683,
          879.412132690466,
          1248.699560714295,
          1760.9514137201331,
          2459.268204176092,
          3392.848369442294,
          4615.257450733527,
          6182.2735990013425,
          8149.70854693623,
          10571.524298526367,
          13498.40852767025,
          16976.827103563963,
          21048.485279240085,
          25750.0984537537,
          31113.37777927702,
          37165.15478082705,
          43927.59012973104,
          51418.42935066092,
          59651.28128438312,
          68635.90409237433,
          78378.48948159648,
          88881.939597476,
          100146.13340320627,
          112168.18083936517,
          124942.66396932979,
          138461.86487597565,
          152715.98041592026,
          167693.32414197776,
          183380.51582371246,
          199762.65906194792,
          216823.50752556862,
          234545.62035049795,
          252910.5072390948,
          271898.76378841524,
          291490.1975610663,
          311663.9453946685,
          332398.5824267141,
          353672.2232915524,
          375462.6159260514,
          397747.2284004569,
          420503.329171328,
          443708.0611343565,
          467338.5098363999,
          491371.7661882925,
          515784.9840029121,
          540555.4326666095,
          565660.5452364386,
          591077.9622406448,
          616785.571445557,
          642761.5438383819,
          668984.3660623633,
          695432.8695283587,
          722086.2564150437,
          748924.122758683,
          775926.478822666,
          803073.7669267767,
          830346.8769062484,
          857727.1593625237,
          885196.4368560193,
          912737.0131868885,
          940331.6808974118,
          967963.7271263192,
          995616.937934622,
          1023275.6012174981,
          1050924.5083101923,
          1078548.954389315,
          1106134.7377649257,
          1133668.1581536331
         ]
        },
        {
         "mode": "lines",
         "name": "Actual",
         "type": "scatter",
         "x": [
          0,
          1,
          2,
          3,
          4,
          5,
          6,
          7,
          8,
          9
         ],
         "y": [
          221,
          311,
          385,
          588,
          821,
          1049,
          1577,
          1835,
          2263,
          2706
         ]
        }
       ],
       "layout": {
        "font": {
         "color": "#7f7f7f",
         "family": "Courier New, monospace",
         "size": 12
        },
        "template": {
         "data": {
          "bar": [
           {
            "error_x": {
             "color": "#2a3f5f"
            },
            "error_y": {
             "color": "#2a3f5f"
            },
            "marker": {
             "line": {
              "color": "#E5ECF6",
              "width": 0.5
             }
            },
            "type": "bar"
           }
          ],
          "barpolar": [
           {
            "marker": {
             "line": {
              "color": "#E5ECF6",
              "width": 0.5
             }
            },
            "type": "barpolar"
           }
          ],
          "carpet": [
           {
            "aaxis": {
             "endlinecolor": "#2a3f5f",
             "gridcolor": "white",
             "linecolor": "white",
             "minorgridcolor": "white",
             "startlinecolor": "#2a3f5f"
            },
            "baxis": {
             "endlinecolor": "#2a3f5f",
             "gridcolor": "white",
             "linecolor": "white",
             "minorgridcolor": "white",
             "startlinecolor": "#2a3f5f"
            },
            "type": "carpet"
           }
          ],
          "choropleth": [
           {
            "colorbar": {
             "outlinewidth": 0,
             "ticks": ""
            },
            "type": "choropleth"
           }
          ],
          "contour": [
           {
            "colorbar": {
             "outlinewidth": 0,
             "ticks": ""
            },
            "colorscale": [
             [
              0,
              "#0d0887"
             ],
             [
              0.1111111111111111,
              "#46039f"
             ],
             [
              0.2222222222222222,
              "#7201a8"
             ],
             [
              0.3333333333333333,
              "#9c179e"
             ],
             [
              0.4444444444444444,
              "#bd3786"
             ],
             [
              0.5555555555555556,
              "#d8576b"
             ],
             [
              0.6666666666666666,
              "#ed7953"
             ],
             [
              0.7777777777777778,
              "#fb9f3a"
             ],
             [
              0.8888888888888888,
              "#fdca26"
             ],
             [
              1,
              "#f0f921"
             ]
            ],
            "type": "contour"
           }
          ],
          "contourcarpet": [
           {
            "colorbar": {
             "outlinewidth": 0,
             "ticks": ""
            },
            "type": "contourcarpet"
           }
          ],
          "heatmap": [
           {
            "colorbar": {
             "outlinewidth": 0,
             "ticks": ""
            },
            "colorscale": [
             [
              0,
              "#0d0887"
             ],
             [
              0.1111111111111111,
              "#46039f"
             ],
             [
              0.2222222222222222,
              "#7201a8"
             ],
             [
              0.3333333333333333,
              "#9c179e"
             ],
             [
              0.4444444444444444,
              "#bd3786"
             ],
             [
              0.5555555555555556,
              "#d8576b"
             ],
             [
              0.6666666666666666,
              "#ed7953"
             ],
             [
              0.7777777777777778,
              "#fb9f3a"
             ],
             [
              0.8888888888888888,
              "#fdca26"
             ],
             [
              1,
              "#f0f921"
             ]
            ],
            "type": "heatmap"
           }
          ],
          "heatmapgl": [
           {
            "colorbar": {
             "outlinewidth": 0,
             "ticks": ""
            },
            "colorscale": [
             [
              0,
              "#0d0887"
             ],
             [
              0.1111111111111111,
              "#46039f"
             ],
             [
              0.2222222222222222,
              "#7201a8"
             ],
             [
              0.3333333333333333,
              "#9c179e"
             ],
             [
              0.4444444444444444,
              "#bd3786"
             ],
             [
              0.5555555555555556,
              "#d8576b"
             ],
             [
              0.6666666666666666,
              "#ed7953"
             ],
             [
              0.7777777777777778,
              "#fb9f3a"
             ],
             [
              0.8888888888888888,
              "#fdca26"
             ],
             [
              1,
              "#f0f921"
             ]
            ],
            "type": "heatmapgl"
           }
          ],
          "histogram": [
           {
            "marker": {
             "colorbar": {
              "outlinewidth": 0,
              "ticks": ""
             }
            },
            "type": "histogram"
           }
          ],
          "histogram2d": [
           {
            "colorbar": {
             "outlinewidth": 0,
             "ticks": ""
            },
            "colorscale": [
             [
              0,
              "#0d0887"
             ],
             [
              0.1111111111111111,
              "#46039f"
             ],
             [
              0.2222222222222222,
              "#7201a8"
             ],
             [
              0.3333333333333333,
              "#9c179e"
             ],
             [
              0.4444444444444444,
              "#bd3786"
             ],
             [
              0.5555555555555556,
              "#d8576b"
             ],
             [
              0.6666666666666666,
              "#ed7953"
             ],
             [
              0.7777777777777778,
              "#fb9f3a"
             ],
             [
              0.8888888888888888,
              "#fdca26"
             ],
             [
              1,
              "#f0f921"
             ]
            ],
            "type": "histogram2d"
           }
          ],
          "histogram2dcontour": [
           {
            "colorbar": {
             "outlinewidth": 0,
             "ticks": ""
            },
            "colorscale": [
             [
              0,
              "#0d0887"
             ],
             [
              0.1111111111111111,
              "#46039f"
             ],
             [
              0.2222222222222222,
              "#7201a8"
             ],
             [
              0.3333333333333333,
              "#9c179e"
             ],
             [
              0.4444444444444444,
              "#bd3786"
             ],
             [
              0.5555555555555556,
              "#d8576b"
             ],
             [
              0.6666666666666666,
              "#ed7953"
             ],
             [
              0.7777777777777778,
              "#fb9f3a"
             ],
             [
              0.8888888888888888,
              "#fdca26"
             ],
             [
              1,
              "#f0f921"
             ]
            ],
            "type": "histogram2dcontour"
           }
          ],
          "mesh3d": [
           {
            "colorbar": {
             "outlinewidth": 0,
             "ticks": ""
            },
            "type": "mesh3d"
           }
          ],
          "parcoords": [
           {
            "line": {
             "colorbar": {
              "outlinewidth": 0,
              "ticks": ""
             }
            },
            "type": "parcoords"
           }
          ],
          "pie": [
           {
            "automargin": true,
            "type": "pie"
           }
          ],
          "scatter": [
           {
            "marker": {
             "colorbar": {
              "outlinewidth": 0,
              "ticks": ""
             }
            },
            "type": "scatter"
           }
          ],
          "scatter3d": [
           {
            "line": {
             "colorbar": {
              "outlinewidth": 0,
              "ticks": ""
             }
            },
            "marker": {
             "colorbar": {
              "outlinewidth": 0,
              "ticks": ""
             }
            },
            "type": "scatter3d"
           }
          ],
          "scattercarpet": [
           {
            "marker": {
             "colorbar": {
              "outlinewidth": 0,
              "ticks": ""
             }
            },
            "type": "scattercarpet"
           }
          ],
          "scattergeo": [
           {
            "marker": {
             "colorbar": {
              "outlinewidth": 0,
              "ticks": ""
             }
            },
            "type": "scattergeo"
           }
          ],
          "scattergl": [
           {
            "marker": {
             "colorbar": {
              "outlinewidth": 0,
              "ticks": ""
             }
            },
            "type": "scattergl"
           }
          ],
          "scattermapbox": [
           {
            "marker": {
             "colorbar": {
              "outlinewidth": 0,
              "ticks": ""
             }
            },
            "type": "scattermapbox"
           }
          ],
          "scatterpolar": [
           {
            "marker": {
             "colorbar": {
              "outlinewidth": 0,
              "ticks": ""
             }
            },
            "type": "scatterpolar"
           }
          ],
          "scatterpolargl": [
           {
            "marker": {
             "colorbar": {
              "outlinewidth": 0,
              "ticks": ""
             }
            },
            "type": "scatterpolargl"
           }
          ],
          "scatterternary": [
           {
            "marker": {
             "colorbar": {
              "outlinewidth": 0,
              "ticks": ""
             }
            },
            "type": "scatterternary"
           }
          ],
          "surface": [
           {
            "colorbar": {
             "outlinewidth": 0,
             "ticks": ""
            },
            "colorscale": [
             [
              0,
              "#0d0887"
             ],
             [
              0.1111111111111111,
              "#46039f"
             ],
             [
              0.2222222222222222,
              "#7201a8"
             ],
             [
              0.3333333333333333,
              "#9c179e"
             ],
             [
              0.4444444444444444,
              "#bd3786"
             ],
             [
              0.5555555555555556,
              "#d8576b"
             ],
             [
              0.6666666666666666,
              "#ed7953"
             ],
             [
              0.7777777777777778,
              "#fb9f3a"
             ],
             [
              0.8888888888888888,
              "#fdca26"
             ],
             [
              1,
              "#f0f921"
             ]
            ],
            "type": "surface"
           }
          ],
          "table": [
           {
            "cells": {
             "fill": {
              "color": "#EBF0F8"
             },
             "line": {
              "color": "white"
             }
            },
            "header": {
             "fill": {
              "color": "#C8D4E3"
             },
             "line": {
              "color": "white"
             }
            },
            "type": "table"
           }
          ]
         },
         "layout": {
          "annotationdefaults": {
           "arrowcolor": "#2a3f5f",
           "arrowhead": 0,
           "arrowwidth": 1
          },
          "coloraxis": {
           "colorbar": {
            "outlinewidth": 0,
            "ticks": ""
           }
          },
          "colorscale": {
           "diverging": [
            [
             0,
             "#8e0152"
            ],
            [
             0.1,
             "#c51b7d"
            ],
            [
             0.2,
             "#de77ae"
            ],
            [
             0.3,
             "#f1b6da"
            ],
            [
             0.4,
             "#fde0ef"
            ],
            [
             0.5,
             "#f7f7f7"
            ],
            [
             0.6,
             "#e6f5d0"
            ],
            [
             0.7,
             "#b8e186"
            ],
            [
             0.8,
             "#7fbc41"
            ],
            [
             0.9,
             "#4d9221"
            ],
            [
             1,
             "#276419"
            ]
           ],
           "sequential": [
            [
             0,
             "#0d0887"
            ],
            [
             0.1111111111111111,
             "#46039f"
            ],
            [
             0.2222222222222222,
             "#7201a8"
            ],
            [
             0.3333333333333333,
             "#9c179e"
            ],
            [
             0.4444444444444444,
             "#bd3786"
            ],
            [
             0.5555555555555556,
             "#d8576b"
            ],
            [
             0.6666666666666666,
             "#ed7953"
            ],
            [
             0.7777777777777778,
             "#fb9f3a"
            ],
            [
             0.8888888888888888,
             "#fdca26"
            ],
            [
             1,
             "#f0f921"
            ]
           ],
           "sequentialminus": [
            [
             0,
             "#0d0887"
            ],
            [
             0.1111111111111111,
             "#46039f"
            ],
            [
             0.2222222222222222,
             "#7201a8"
            ],
            [
             0.3333333333333333,
             "#9c179e"
            ],
            [
             0.4444444444444444,
             "#bd3786"
            ],
            [
             0.5555555555555556,
             "#d8576b"
            ],
            [
             0.6666666666666666,
             "#ed7953"
            ],
            [
             0.7777777777777778,
             "#fb9f3a"
            ],
            [
             0.8888888888888888,
             "#fdca26"
            ],
            [
             1,
             "#f0f921"
            ]
           ]
          },
          "colorway": [
           "#636efa",
           "#EF553B",
           "#00cc96",
           "#ab63fa",
           "#FFA15A",
           "#19d3f3",
           "#FF6692",
           "#B6E880",
           "#FF97FF",
           "#FECB52"
          ],
          "font": {
           "color": "#2a3f5f"
          },
          "geo": {
           "bgcolor": "white",
           "lakecolor": "white",
           "landcolor": "#E5ECF6",
           "showlakes": true,
           "showland": true,
           "subunitcolor": "white"
          },
          "hoverlabel": {
           "align": "left"
          },
          "hovermode": "closest",
          "mapbox": {
           "style": "light"
          },
          "paper_bgcolor": "white",
          "plot_bgcolor": "#E5ECF6",
          "polar": {
           "angularaxis": {
            "gridcolor": "white",
            "linecolor": "white",
            "ticks": ""
           },
           "bgcolor": "#E5ECF6",
           "radialaxis": {
            "gridcolor": "white",
            "linecolor": "white",
            "ticks": ""
           }
          },
          "scene": {
           "xaxis": {
            "backgroundcolor": "#E5ECF6",
            "gridcolor": "white",
            "gridwidth": 2,
            "linecolor": "white",
            "showbackground": true,
            "ticks": "",
            "zerolinecolor": "white"
           },
           "yaxis": {
            "backgroundcolor": "#E5ECF6",
            "gridcolor": "white",
            "gridwidth": 2,
            "linecolor": "white",
            "showbackground": true,
            "ticks": "",
            "zerolinecolor": "white"
           },
           "zaxis": {
            "backgroundcolor": "#E5ECF6",
            "gridcolor": "white",
            "gridwidth": 2,
            "linecolor": "white",
            "showbackground": true,
            "ticks": "",
            "zerolinecolor": "white"
           }
          },
          "shapedefaults": {
           "line": {
            "color": "#2a3f5f"
           }
          },
          "ternary": {
           "aaxis": {
            "gridcolor": "white",
            "linecolor": "white",
            "ticks": ""
           },
           "baxis": {
            "gridcolor": "white",
            "linecolor": "white",
            "ticks": ""
           },
           "bgcolor": "#E5ECF6",
           "caxis": {
            "gridcolor": "white",
            "linecolor": "white",
            "ticks": ""
           }
          },
          "title": {
           "x": 0.05
          },
          "xaxis": {
           "automargin": true,
           "gridcolor": "white",
           "linecolor": "white",
           "ticks": "",
           "title": {
            "standoff": 15
           },
           "zerolinecolor": "white",
           "zerolinewidth": 2
          },
          "yaxis": {
           "automargin": true,
           "gridcolor": "white",
           "linecolor": "white",
           "ticks": "",
           "title": {
            "standoff": 15
           },
           "zerolinecolor": "white",
           "zerolinewidth": 2
          }
         }
        },
        "title": {
         "text": "extended SEIRD Model"
        },
        "xaxis": {
         "title": {
          "text": "days of spreading"
         }
        },
        "yaxis": {
         "title": {
          "text": "population"
         }
        }
       }
      },
      "text/html": [
       "<div>\n",
       "        \n",
       "        \n",
       "            <div id=\"bc294980-b121-4596-897b-a72697fb5428\" class=\"plotly-graph-div\" style=\"height:525px; width:100%;\"></div>\n",
       "            <script type=\"text/javascript\">\n",
       "                require([\"plotly\"], function(Plotly) {\n",
       "                    window.PLOTLYENV=window.PLOTLYENV || {};\n",
       "                    \n",
       "                if (document.getElementById(\"bc294980-b121-4596-897b-a72697fb5428\")) {\n",
       "                    Plotly.newPlot(\n",
       "                        'bc294980-b121-4596-897b-a72697fb5428',\n",
       "                        [{\"mode\": \"lines\", \"name\": \"Total Infections\", \"type\": \"scatter\", \"x\": [0, 1, 2, 3, 4, 5, 6, 7, 8, 9, 10, 11, 12, 13, 14, 15, 16, 17, 18, 19, 20, 21, 22, 23, 24, 25, 26, 27, 28, 29, 30, 31, 32, 33, 34, 35, 36, 37, 38, 39, 40, 41, 42, 43, 44, 45, 46, 47, 48, 49, 50, 51, 52, 53, 54, 55, 56, 57, 58, 59, 60, 61, 62, 63, 64, 65, 66, 67, 68, 69, 70, 71, 72, 73, 74, 75, 76, 77, 78, 79, 80, 81, 82, 83, 84, 85, 86, 87, 88, 89, 90, 91, 92, 93, 94, 95, 96, 97, 98, 99], \"y\": [221.0, 242.57992603153798, 299.93622607625895, 391.0690899621788, 527.4596367403158, 729.525598432876, 1028.2243971329503, 1469.422458689938, 2120.823557413447, 3082.303745922687, 4501.180269495329, 6594.7319316674375, 9683.398593706914, 14239.705882477623, 20960.327980503167, 30872.154416716978, 45488.24016874108, 67036.7381128321, 98796.18315842163, 145584.83050373054, 214471.13515354772, 315797.3020312162, 464636.55817535234, 682830.6251292449, 1001758.2797388894, 1465925.9686428485, 2137259.181089881, 3099450.1400473807, 4460650.513145184, 6350985.95658959, 8909051.636236044, 12250315.38346418, 16414161.450577091, 21300144.16423398, 26626243.46799119, 31953364.701074544, 36792745.511896804, 40751252.12180095, 43632594.17357185, 45446066.722446576, 46342316.076205336, 46529925.583859995, 46212828.366576195, 45559164.75067917, 44693957.44047263, 43704103.4216242, 42647317.710381635, 41560751.51346785, 40467782.50970403, 39382849.296543464, 38314698.55582132, 37268491.582010314, 36247143.42583565, 35252165.082499824, 34284190.86378912, 33343308.638267543, 32429267.22890374, 31541607.266978122, 30679744.204199076, 29843021.2646535, 29030743.38428004, 28242199.03547379, 27476674.27170616, 26733461.737009954, 26011866.392167684, 25311209.085173946, 24630828.697798617, 23970083.347158752, 23328350.95828697, 22705029.417760085, 22099536.44909816, 21511309.30480318, 20939804.33939616, 20384496.50733725, 19844878.815874323, 19320461.75344491, 18810772.70779932, 18315355.38356017, 17833769.225844555, 17365588.854421094, 16910403.5113653, 16467816.524116054, 16037444.785088107, 15618918.248467855, 15211879.444447389, 14815983.010889966, 14430895.24223691, 14056293.655339487, 13691866.571814543, 13337312.716457497, 12992340.831231592, 12656669.304301297, 12330025.813602382, 12012146.984405797, 11702778.060365135, 11401672.58753194, 11108592.11083359, 10823305.882525494, 10545590.582144981, 10275230.047505591]}, {\"mode\": \"lines\", \"name\": \"Deaths\", \"type\": \"scatter\", \"x\": [0, 1, 2, 3, 4, 5, 6, 7, 8, 9, 10, 11, 12, 13, 14, 15, 16, 17, 18, 19, 20, 21, 22, 23, 24, 25, 26, 27, 28, 29, 30, 31, 32, 33, 34, 35, 36, 37, 38, 39, 40, 41, 42, 43, 44, 45, 46, 47, 48, 49, 50, 51, 52, 53, 54, 55, 56, 57, 58, 59, 60, 61, 62, 63, 64, 65, 66, 67, 68, 69, 70, 71, 72, 73, 74, 75, 76, 77, 78, 79, 80, 81, 82, 83, 84, 85, 86, 87, 88, 89, 90, 91, 92, 93, 94, 95, 96, 97, 98, 99], \"y\": [7.0, 7.460188408500156, 7.954977153193628, 8.481869463088644, 9.038632174270475, 9.62335298514982, 10.234522550200827, 10.871157431289811, 11.532984236942074, 12.220714142198617, 12.936450661966127, 13.68429387306799, 14.471234265106107, 15.308473634059807, 16.21337561216869, 17.212344429789795, 18.34507184375878, 19.670800003778304, 21.277553193294942, 23.295738506910414, 25.918168448653315, 29.429507130021662, 34.24951043923473, 40.99638245711134, 50.57930786628295, 64.33295649736539, 84.21163855513252, 113.06670225850071, 155.0369283192478, 216.08590340033925, 304.71798400841215, 432.88740484647894, 617.0725824054683, 879.412132690466, 1248.699560714295, 1760.9514137201331, 2459.268204176092, 3392.848369442294, 4615.257450733527, 6182.2735990013425, 8149.70854693623, 10571.524298526367, 13498.40852767025, 16976.827103563963, 21048.485279240085, 25750.0984537537, 31113.37777927702, 37165.15478082705, 43927.59012973104, 51418.42935066092, 59651.28128438312, 68635.90409237433, 78378.48948159648, 88881.939597476, 100146.13340320627, 112168.18083936517, 124942.66396932979, 138461.86487597565, 152715.98041592026, 167693.32414197776, 183380.51582371246, 199762.65906194792, 216823.50752556862, 234545.62035049795, 252910.5072390948, 271898.76378841524, 291490.1975610663, 311663.9453946685, 332398.5824267141, 353672.2232915524, 375462.6159260514, 397747.2284004569, 420503.329171328, 443708.0611343565, 467338.5098363999, 491371.7661882925, 515784.9840029121, 540555.4326666095, 565660.5452364386, 591077.9622406448, 616785.571445557, 642761.5438383819, 668984.3660623633, 695432.8695283587, 722086.2564150437, 748924.122758683, 775926.478822666, 803073.7669267767, 830346.8769062484, 857727.1593625237, 885196.4368560193, 912737.0131868885, 940331.6808974118, 967963.7271263192, 995616.937934622, 1023275.6012174981, 1050924.5083101923, 1078548.954389315, 1106134.7377649257, 1133668.1581536331]}, {\"mode\": \"lines\", \"name\": \"Actual\", \"type\": \"scatter\", \"x\": [0, 1, 2, 3, 4, 5, 6, 7, 8, 9], \"y\": [221, 311, 385, 588, 821, 1049, 1577, 1835, 2263, 2706]}],\n",
       "                        {\"font\": {\"color\": \"#7f7f7f\", \"family\": \"Courier New, monospace\", \"size\": 12}, \"template\": {\"data\": {\"bar\": [{\"error_x\": {\"color\": \"#2a3f5f\"}, \"error_y\": {\"color\": \"#2a3f5f\"}, \"marker\": {\"line\": {\"color\": \"#E5ECF6\", \"width\": 0.5}}, \"type\": \"bar\"}], \"barpolar\": [{\"marker\": {\"line\": {\"color\": \"#E5ECF6\", \"width\": 0.5}}, \"type\": \"barpolar\"}], \"carpet\": [{\"aaxis\": {\"endlinecolor\": \"#2a3f5f\", \"gridcolor\": \"white\", \"linecolor\": \"white\", \"minorgridcolor\": \"white\", \"startlinecolor\": \"#2a3f5f\"}, \"baxis\": {\"endlinecolor\": \"#2a3f5f\", \"gridcolor\": \"white\", \"linecolor\": \"white\", \"minorgridcolor\": \"white\", \"startlinecolor\": \"#2a3f5f\"}, \"type\": \"carpet\"}], \"choropleth\": [{\"colorbar\": {\"outlinewidth\": 0, \"ticks\": \"\"}, \"type\": \"choropleth\"}], \"contour\": [{\"colorbar\": {\"outlinewidth\": 0, \"ticks\": \"\"}, \"colorscale\": [[0.0, \"#0d0887\"], [0.1111111111111111, \"#46039f\"], [0.2222222222222222, \"#7201a8\"], [0.3333333333333333, \"#9c179e\"], [0.4444444444444444, \"#bd3786\"], [0.5555555555555556, \"#d8576b\"], [0.6666666666666666, \"#ed7953\"], [0.7777777777777778, \"#fb9f3a\"], [0.8888888888888888, \"#fdca26\"], [1.0, \"#f0f921\"]], \"type\": \"contour\"}], \"contourcarpet\": [{\"colorbar\": {\"outlinewidth\": 0, \"ticks\": \"\"}, \"type\": \"contourcarpet\"}], \"heatmap\": [{\"colorbar\": {\"outlinewidth\": 0, \"ticks\": \"\"}, \"colorscale\": [[0.0, \"#0d0887\"], [0.1111111111111111, \"#46039f\"], [0.2222222222222222, \"#7201a8\"], [0.3333333333333333, \"#9c179e\"], [0.4444444444444444, \"#bd3786\"], [0.5555555555555556, \"#d8576b\"], [0.6666666666666666, \"#ed7953\"], [0.7777777777777778, \"#fb9f3a\"], [0.8888888888888888, \"#fdca26\"], [1.0, \"#f0f921\"]], \"type\": \"heatmap\"}], \"heatmapgl\": [{\"colorbar\": {\"outlinewidth\": 0, \"ticks\": \"\"}, \"colorscale\": [[0.0, \"#0d0887\"], [0.1111111111111111, \"#46039f\"], [0.2222222222222222, \"#7201a8\"], [0.3333333333333333, \"#9c179e\"], [0.4444444444444444, \"#bd3786\"], [0.5555555555555556, \"#d8576b\"], [0.6666666666666666, \"#ed7953\"], [0.7777777777777778, \"#fb9f3a\"], [0.8888888888888888, \"#fdca26\"], [1.0, \"#f0f921\"]], \"type\": \"heatmapgl\"}], \"histogram\": [{\"marker\": {\"colorbar\": {\"outlinewidth\": 0, \"ticks\": \"\"}}, \"type\": \"histogram\"}], \"histogram2d\": [{\"colorbar\": {\"outlinewidth\": 0, \"ticks\": \"\"}, \"colorscale\": [[0.0, \"#0d0887\"], [0.1111111111111111, \"#46039f\"], [0.2222222222222222, \"#7201a8\"], [0.3333333333333333, \"#9c179e\"], [0.4444444444444444, \"#bd3786\"], [0.5555555555555556, \"#d8576b\"], [0.6666666666666666, \"#ed7953\"], [0.7777777777777778, \"#fb9f3a\"], [0.8888888888888888, \"#fdca26\"], [1.0, \"#f0f921\"]], \"type\": \"histogram2d\"}], \"histogram2dcontour\": [{\"colorbar\": {\"outlinewidth\": 0, \"ticks\": \"\"}, \"colorscale\": [[0.0, \"#0d0887\"], [0.1111111111111111, \"#46039f\"], [0.2222222222222222, \"#7201a8\"], [0.3333333333333333, \"#9c179e\"], [0.4444444444444444, \"#bd3786\"], [0.5555555555555556, \"#d8576b\"], [0.6666666666666666, \"#ed7953\"], [0.7777777777777778, \"#fb9f3a\"], [0.8888888888888888, \"#fdca26\"], [1.0, \"#f0f921\"]], \"type\": \"histogram2dcontour\"}], \"mesh3d\": [{\"colorbar\": {\"outlinewidth\": 0, \"ticks\": \"\"}, \"type\": \"mesh3d\"}], \"parcoords\": [{\"line\": {\"colorbar\": {\"outlinewidth\": 0, \"ticks\": \"\"}}, \"type\": \"parcoords\"}], \"pie\": [{\"automargin\": true, \"type\": \"pie\"}], \"scatter\": [{\"marker\": {\"colorbar\": {\"outlinewidth\": 0, \"ticks\": \"\"}}, \"type\": \"scatter\"}], \"scatter3d\": [{\"line\": {\"colorbar\": {\"outlinewidth\": 0, \"ticks\": \"\"}}, \"marker\": {\"colorbar\": {\"outlinewidth\": 0, \"ticks\": \"\"}}, \"type\": \"scatter3d\"}], \"scattercarpet\": [{\"marker\": {\"colorbar\": {\"outlinewidth\": 0, \"ticks\": \"\"}}, \"type\": \"scattercarpet\"}], \"scattergeo\": [{\"marker\": {\"colorbar\": {\"outlinewidth\": 0, \"ticks\": \"\"}}, \"type\": \"scattergeo\"}], \"scattergl\": [{\"marker\": {\"colorbar\": {\"outlinewidth\": 0, \"ticks\": \"\"}}, \"type\": \"scattergl\"}], \"scattermapbox\": [{\"marker\": {\"colorbar\": {\"outlinewidth\": 0, \"ticks\": \"\"}}, \"type\": \"scattermapbox\"}], \"scatterpolar\": [{\"marker\": {\"colorbar\": {\"outlinewidth\": 0, \"ticks\": \"\"}}, \"type\": \"scatterpolar\"}], \"scatterpolargl\": [{\"marker\": {\"colorbar\": {\"outlinewidth\": 0, \"ticks\": \"\"}}, \"type\": \"scatterpolargl\"}], \"scatterternary\": [{\"marker\": {\"colorbar\": {\"outlinewidth\": 0, \"ticks\": \"\"}}, \"type\": \"scatterternary\"}], \"surface\": [{\"colorbar\": {\"outlinewidth\": 0, \"ticks\": \"\"}, \"colorscale\": [[0.0, \"#0d0887\"], [0.1111111111111111, \"#46039f\"], [0.2222222222222222, \"#7201a8\"], [0.3333333333333333, \"#9c179e\"], [0.4444444444444444, \"#bd3786\"], [0.5555555555555556, \"#d8576b\"], [0.6666666666666666, \"#ed7953\"], [0.7777777777777778, \"#fb9f3a\"], [0.8888888888888888, \"#fdca26\"], [1.0, \"#f0f921\"]], \"type\": \"surface\"}], \"table\": [{\"cells\": {\"fill\": {\"color\": \"#EBF0F8\"}, \"line\": {\"color\": \"white\"}}, \"header\": {\"fill\": {\"color\": \"#C8D4E3\"}, \"line\": {\"color\": \"white\"}}, \"type\": \"table\"}]}, \"layout\": {\"annotationdefaults\": {\"arrowcolor\": \"#2a3f5f\", \"arrowhead\": 0, \"arrowwidth\": 1}, \"coloraxis\": {\"colorbar\": {\"outlinewidth\": 0, \"ticks\": \"\"}}, \"colorscale\": {\"diverging\": [[0, \"#8e0152\"], [0.1, \"#c51b7d\"], [0.2, \"#de77ae\"], [0.3, \"#f1b6da\"], [0.4, \"#fde0ef\"], [0.5, \"#f7f7f7\"], [0.6, \"#e6f5d0\"], [0.7, \"#b8e186\"], [0.8, \"#7fbc41\"], [0.9, \"#4d9221\"], [1, \"#276419\"]], \"sequential\": [[0.0, \"#0d0887\"], [0.1111111111111111, \"#46039f\"], [0.2222222222222222, \"#7201a8\"], [0.3333333333333333, \"#9c179e\"], [0.4444444444444444, \"#bd3786\"], [0.5555555555555556, \"#d8576b\"], [0.6666666666666666, \"#ed7953\"], [0.7777777777777778, \"#fb9f3a\"], [0.8888888888888888, \"#fdca26\"], [1.0, \"#f0f921\"]], \"sequentialminus\": [[0.0, \"#0d0887\"], [0.1111111111111111, \"#46039f\"], [0.2222222222222222, \"#7201a8\"], [0.3333333333333333, \"#9c179e\"], [0.4444444444444444, \"#bd3786\"], [0.5555555555555556, \"#d8576b\"], [0.6666666666666666, \"#ed7953\"], [0.7777777777777778, \"#fb9f3a\"], [0.8888888888888888, \"#fdca26\"], [1.0, \"#f0f921\"]]}, \"colorway\": [\"#636efa\", \"#EF553B\", \"#00cc96\", \"#ab63fa\", \"#FFA15A\", \"#19d3f3\", \"#FF6692\", \"#B6E880\", \"#FF97FF\", \"#FECB52\"], \"font\": {\"color\": \"#2a3f5f\"}, \"geo\": {\"bgcolor\": \"white\", \"lakecolor\": \"white\", \"landcolor\": \"#E5ECF6\", \"showlakes\": true, \"showland\": true, \"subunitcolor\": \"white\"}, \"hoverlabel\": {\"align\": \"left\"}, \"hovermode\": \"closest\", \"mapbox\": {\"style\": \"light\"}, \"paper_bgcolor\": \"white\", \"plot_bgcolor\": \"#E5ECF6\", \"polar\": {\"angularaxis\": {\"gridcolor\": \"white\", \"linecolor\": \"white\", \"ticks\": \"\"}, \"bgcolor\": \"#E5ECF6\", \"radialaxis\": {\"gridcolor\": \"white\", \"linecolor\": \"white\", \"ticks\": \"\"}}, \"scene\": {\"xaxis\": {\"backgroundcolor\": \"#E5ECF6\", \"gridcolor\": \"white\", \"gridwidth\": 2, \"linecolor\": \"white\", \"showbackground\": true, \"ticks\": \"\", \"zerolinecolor\": \"white\"}, \"yaxis\": {\"backgroundcolor\": \"#E5ECF6\", \"gridcolor\": \"white\", \"gridwidth\": 2, \"linecolor\": \"white\", \"showbackground\": true, \"ticks\": \"\", \"zerolinecolor\": \"white\"}, \"zaxis\": {\"backgroundcolor\": \"#E5ECF6\", \"gridcolor\": \"white\", \"gridwidth\": 2, \"linecolor\": \"white\", \"showbackground\": true, \"ticks\": \"\", \"zerolinecolor\": \"white\"}}, \"shapedefaults\": {\"line\": {\"color\": \"#2a3f5f\"}}, \"ternary\": {\"aaxis\": {\"gridcolor\": \"white\", \"linecolor\": \"white\", \"ticks\": \"\"}, \"baxis\": {\"gridcolor\": \"white\", \"linecolor\": \"white\", \"ticks\": \"\"}, \"bgcolor\": \"#E5ECF6\", \"caxis\": {\"gridcolor\": \"white\", \"linecolor\": \"white\", \"ticks\": \"\"}}, \"title\": {\"x\": 0.05}, \"xaxis\": {\"automargin\": true, \"gridcolor\": \"white\", \"linecolor\": \"white\", \"ticks\": \"\", \"title\": {\"standoff\": 15}, \"zerolinecolor\": \"white\", \"zerolinewidth\": 2}, \"yaxis\": {\"automargin\": true, \"gridcolor\": \"white\", \"linecolor\": \"white\", \"ticks\": \"\", \"title\": {\"standoff\": 15}, \"zerolinecolor\": \"white\", \"zerolinewidth\": 2}}}, \"title\": {\"text\": \"extended SEIRD Model\"}, \"xaxis\": {\"title\": {\"text\": \"days of spreading\"}}, \"yaxis\": {\"title\": {\"text\": \"population\"}}},\n",
       "                        {\"responsive\": true}\n",
       "                    ).then(function(){\n",
       "                            \n",
       "var gd = document.getElementById('bc294980-b121-4596-897b-a72697fb5428');\n",
       "var x = new MutationObserver(function (mutations, observer) {{\n",
       "        var display = window.getComputedStyle(gd).display;\n",
       "        if (!display || display === 'none') {{\n",
       "            console.log([gd, 'removed!']);\n",
       "            Plotly.purge(gd);\n",
       "            observer.disconnect();\n",
       "        }}\n",
       "}});\n",
       "\n",
       "// Listen for the removal of the full notebook cells\n",
       "var notebookContainer = gd.closest('#notebook-container');\n",
       "if (notebookContainer) {{\n",
       "    x.observe(notebookContainer, {childList: true});\n",
       "}}\n",
       "\n",
       "// Listen for the clearing of the current output cell\n",
       "var outputEl = gd.closest('.output');\n",
       "if (outputEl) {{\n",
       "    x.observe(outputEl, {childList: true});\n",
       "}}\n",
       "\n",
       "                        })\n",
       "                };\n",
       "                });\n",
       "            </script>\n",
       "        </div>"
      ]
     },
     "metadata": {},
     "output_type": "display_data"
    },
    {
     "data": {
      "image/png": "[encoded data removed]",
      "text/plain": [
       "<Figure size 432x288 with 1 Axes>"
      ]
     },
     "metadata": {
      "needs_background": "light"
     },
     "output_type": "display_data"
    }
   ],
   "source": [
    "ENERGY = 'I'\n",
    "cases_multiplier = 1\n",
    "deaths_multiplier = 1\n",
    "exposed_multiplier = 0\n",
    "fit_range = (0, 10)\n",
    "df = pd.read_csv('../data/dpc-covid19-ita-andamento-nazionale.csv').drop('stato',1)\n",
    "df['D'] = deaths_multiplier*df['deceduti']\n",
    "df['I'] = cases_multiplier*df['totale_positivi']\n",
    "df['I1'] = df['isolamento_domiciliare'] # mild infected\n",
    "df['I2'] = df['ricoverati_con_sintomi'] # severe infected\n",
    "df['I3'] = df['terapia_intensiva'] # critical infected\n",
    "df['R'] = df['dimessi_guariti'] # recovered\n",
    "N = 60431283 # population\n",
    "y_fit = df[ENERGY].values # variable to fit\n",
    "I10 = df['I1'].iloc[fit_range[0]]\n",
    "I20 = df['I2'].iloc[fit_range[0]]\n",
    "I30 = df['I3'].iloc[fit_range[0]]\n",
    "R0 = df['R'].iloc[fit_range[0]]\n",
    "E0 = exposed_multiplier * df['I'].iloc[fit_range[0]]\n",
    "D0 = df['D'].iloc[fit_range[0]]\n",
    "S0 = N - E0 - I10 - I20 - I30 - R0 - D0 \n",
    "time_range = 300\n",
    "beta1, beta2, beta3, IncubPeriod, DurMildInf, FracSevere, FracCritical,  DurHosp, DurICU, CFR = calibrate_SEIIIRD(\n",
    "    ENERGY = ENERGY,\n",
    "    y = y_fit,\n",
    "    fit_range = fit_range,\n",
    "    S0 = S0,\n",
    "    I10 = I10,\n",
    "    I20 = I20,\n",
    "    I30 = I30,\n",
    "    R0 = R0,\n",
    "    E0 = E0,\n",
    "    D0 = D0,\n",
    "    bounds= [\n",
    "        (0, .9), #beta1\n",
    "        (0, .1),#beta2\n",
    "        (0, .1),#beta3\n",
    "        (1, 30), #IncubPeriod\n",
    "        (1, 30), #DurMildInf\n",
    "        (0.01, 0.3), #FracSevere\n",
    "        (0.01, 0.1),#FracCritical\n",
    "        (1, 30), #DurHosp\n",
    "        (1, 30), #DurICU\n",
    "        (0, 0.051), #CFR\n",
    "       ],\n",
    "    use_differential_evolution = False,\n",
    "    plot_range = 100,\n",
    "    plot_output = ['I','D']\n",
    ")"
   ]
  },
  {
   "cell_type": "code",
   "execution_count": 38,
   "metadata": {},
   "outputs": [
    {
     "name": "stdout",
     "output_type": "stream",
     "text": [
      "max number of infections  20051350\n",
      "peak of infections  37\n",
      "max number of exposed  11994014\n",
      "max number of recovered  55266712\n",
      "max number of deaths  4936635\n",
      "r0  -3.7825005957961957\n"
     ]
    }
   ],
   "source": [
    "S, E, I1, I2, I3, R, D = SEIIIRDModel(range(time_range), S0, E0, I10, I20, I30,\n",
    "                                          R0, D0, beta1, beta2, beta3,\n",
    "                                          IncubPeriod, DurMildInf,\n",
    "                                          FracSevere, FracCritical,\n",
    "                                          DurHosp, DurICU, CFR)\n",
    "I = I1 + I2 + I3\n",
    "FracMild = 1. - FracSevere - FracCritical\n",
    "alpha = 1 / IncubPeriod\n",
    "gamma1 = (1 / DurMildInf) * FracMild\n",
    "p1 = (1 / DurMildInf) - gamma1\n",
    "p2 = (1 / DurHosp) * (FracCritical / (FracSevere + FracCritical))\n",
    "gamma2 = (1 / DurHosp) - p2\n",
    "mu = (1 / DurICU) * (CFR / FracCritical)\n",
    "gamma3 = (1 / DurICU) - mu\n",
    "r0 = 1 / (p1 + gamma1) * (beta1 + p1 / (p2 + gamma2) * (beta2 + beta3 * p2 / (mu * gamma3)))\n",
    "print('max number of infections ', int(np.max(I)))\n",
    "print('peak of infections ', np.argmax(I))\n",
    "print('max number of exposed ', int(np.max(E)))\n",
    "print('max number of recovered ', int(np.max(R)))\n",
    "print('max number of deaths ', int(np.max(D)))\n",
    "print('r0 ', r0)\n",
    "cases = {'I': I, 'I1': I1, 'I2': I2, 'I3': I3, 'S': S, 'E': E, 'R': R, 'D': D}"
   ]
  },
  {
   "cell_type": "code",
   "execution_count": 47,
   "metadata": {},
   "outputs": [
    {
     "data": {
      "application/vnd.plotly.v1+json": {
       "config": {
        "plotlyServerURL": "https://plot.ly"
       },
       "data": [
        {
         "mode": "lines",
         "name": "Total Infections",
         "type": "scatter",
         "x": [
          0,
          1,
          2,
          3,
          4,
          5,
          6,
          7,
          8,
          9,
          10,
          11,
          12,
          13,
          14,
          15,
          16,
          17,
          18,
          19,
          20,
          21,
          22,
          23,
          24,
          25,
          26,
          27,
          28,
          29,
          30,
          31,
          32,
          33,
          34,
          35,
          36,
          37,
          38,
          39,
          40,
          41,
          42,
          43,
          44,
          45,
          46,
          47,
          48,
          49,
          50,
          51,
          52,
          53,
          54,
          55,
          56,
          57,
          58,
          59,
          60,
          61,
          62,
          63,
          64,
          65,
          66,
          67,
          68,
          69,
          70,
          71,
          72,
          73,
          74,
          75,
          76,
          77,
          78,
          79,
          80,
          81,
          82,
          83,
          84,
          85,
          86,
          87,
          88,
          89,
          90,
          91,
          92,
          93,
          94,
          95,
          96,
          97,
          98,
          99,
          100,
          101,
          102,
          103,
          104,
          105,
          106,
          107,
          108,
          109,
          110,
          111,
          112,
          113,
          114,
          115,
          116,
          117,
          118,
          119,
          120,
          121,
          122,
          123,
          124,
          125,
          126,
          127,
          128,
          129,
          130,
          131,
          132,
          133,
          134,
          135,
          136,
          137,
          138,
          139,
          140,
          141,
          142,
          143,
          144,
          145,
          146,
          147,
          148,
          149,
          150,
          151,
          152,
          153,
          154,
          155,
          156,
          157,
          158,
          159,
          160,
          161,
          162,
          163,
          164,
          165,
          166,
          167,
          168,
          169,
          170,
          171,
          172,
          173,
          174,
          175,
          176,
          177,
          178,
          179,
          180,
          181,
          182,
          183,
          184,
          185,
          186,
          187,
          188,
          189,
          190,
          191,
          192,
          193,
          194,
          195,
          196,
          197,
          198,
          199,
          200,
          201,
          202,
          203,
          204,
          205,
          206,
          207,
          208,
          209,
          210,
          211,
          212,
          213,
          214,
          215,
          216,
          217,
          218,
          219,
          220,
          221,
          222,
          223,
          224,
          225,
          226,
          227,
          228,
          229,
          230,
          231,
          232,
          233,
          234,
          235,
          236,
          237,
          238,
          239,
          240,
          241,
          242,
          243,
          244,
          245,
          246,
          247,
          248,
          249,
          250,
          251,
          252,
          253,
          254,
          255,
          256,
          257,
          258,
          259,
          260,
          261,
          262,
          263,
          264,
          265,
          266,
          267,
          268,
          269,
          270,
          271,
          272,
          273,
          274,
          275,
          276,
          277,
          278,
          279,
          280,
          281,
          282,
          283,
          284,
          285,
          286,
          287,
          288,
          289,
          290,
          291,
          292,
          293,
          294,
          295,
          296,
          297,
          298,
          299
         ],
         "y": [
          20603,
          21015.63573965992,
          24361.736106316235,
          30047.484474368444,
          38018.56320631339,
          48561.35470437874,
          62221.38129887467,
          79786.00879987737,
          102305.89266625352,
          131143.73944925828,
          168046.30690086572,
          215239.45168712008,
          275548.036057635,
          352543.2915671648,
          450719.8880457753,
          575703.1918802324,
          734483.3002050333,
          935665.3083812235,
          1189713.3662992988,
          1509147.554910277,
          1908625.7476279463,
          2404806.9055626155,
          3015850.539057268,
          3760369.044467884,
          4655636.241140243,
          5714901.90547345,
          6943814.1873639645,
          8336245.045412505,
          9870235.9108274,
          11505214.713129923,
          13181845.123330576,
          14825575.286224911,
          16354030.258387098,
          17687076.775300182,
          18757273.352792896,
          19518126.819404986,
          19948307.90283026,
          20051350.10632018,
          19851676.00106246,
          19388534.31249776,
          18709477.507583387,
          17864583.867068354,
          16902054.183307108,
          15865322.754562765,
          14791512.135253131,
          13710922.4624431,
          12647227.058571525,
          11618091.122581568,
          10635997.915339086,
          9709134.438601779,
          8842243.955907738,
          8037394.3084461875,
          7294639.426408189,
          6612569.521017477,
          5988755.98635235,
          5420102.437824422,
          4903115.38479561,
          4434108.1873391,
          4009350.8909317134,
          3625177.080645738,
          3278057.194578128,
          2964646.161061559,
          2681811.6595953093,
          2426648.0911082258,
          2196480.230344815,
          1988859.6242500618,
          1801556.0581274398,
          1632545.9085373203,
          1479998.641762472,
          1342262.4291922688,
          1217849.557569535,
          1105422.1009867091,
          1003778.1709095284,
          911838.9391972614,
          828636.5474869885,
          753302.9529655768,
          685059.7180718624,
          623208.7224102581,
          567123.7552268143,
          516242.93554897397,
          470061.90019317355,
          428127.69750446425,
          390033.32468156726,
          355412.84842224047,
          323937.051722736,
          295309.5533304876,
          269263.35049479257,
          245557.7397991133,
          223975.57504749644,
          204320.82512116112,
          186416.39851426423,
          170102.20471666445,
          155233.4258502725,
          141678.97483456045,
          129320.11922022825,
          118049.2516793895,
          107768.79098512811,
          98390.198644389,
          89833.09845890192,
          82024.48713513304,
          74898.02643675444,
          68393.40746309719,
          62455.77938367163,
          57035.235569486525,
          52086.35103334593,
          47567.76531756592,
          43441.80678192519,
          39674.15318975321,
          36233.525101941676,
          33091.40875000435,
          30221.805276262305,
          27601.00372266353,
          25207.37532613316,
          23021.187039557895,
          21024.43234711007,
          19200.677694234168,
          17534.923012588763,
          16013.474966118001,
          14623.831720752532,
          13354.578122869025,
          12195.290319635937,
          11136.448921073148,
          10169.3599236719,
          9286.082666952192,
          8479.364178825615,
          7742.579327837784,
          7069.676249146577,
          6455.1265709511945,
          5893.880009338377,
          5381.322932954742,
          4913.2405505580855,
          4485.782394920766,
          4095.430816809973,
          3738.972202950207,
          3413.470710068936,
          3116.24427049567,
          2844.8426727760907,
          2597.0275424382617,
          2370.754053096134,
          2164.1542194072003,
          1975.5216300602106,
          1803.2975026233134,
          1646.057938820382,
          1502.502279857274,
          1371.4424660941022,
          1251.7933143679577,
          1142.5636331156145,
          1042.8481033092671,
          951.8198594094761,
          868.7237098407007,
          792.8699418823345,
          723.6286606113308,
          660.4246159012467,
          602.7324755726271,
          550.0725061457614,
          502.00662624476155,
          458.1348008402734,
          418.09174617093566,
          381.54391940298433,
          348.18676831540154,
          317.74221847363765,
          289.9563773867836,
          264.59743740733904,
          241.45375969203155,
          220.3321238716182,
          201.05612917422494,
          183.46473420964327,
          167.41092262459563,
          152.76048472269449,
          139.39090448323302,
          127.19034305427974,
          116.05671029310943,
          105.89681685807767,
          96.62559987054593,
          88.16541571294573,
          80.44539424363234,
          73.40084904946252,
          66.97273894182199,
          61.10717621584016,
          55.75497756555159,
          50.8712544170949,
          46.41503814200369,
          42.3489384850187,
          38.638831536425506,
          35.25357492856364,
          32.16474759408146,
          29.346412378537885,
          26.77489924632123,
          24.42860739961026,
          22.287824672793853,
          20.33456245065255,
          18.552405403243522,
          16.926373866945063,
          15.442798521255805,
          14.089205891381837,
          12.854213770269965,
          11.727435973984,
          10.699395176402604,
          9.761443465907167,
          8.905689892508448,
          8.124934192644762,
          7.412606442198777,
          6.762711912532498,
          6.169780708058825,
          5.628821935923185,
          5.135281729565724,
          4.685005021606878,
          4.274200669106133,
          3.8994095595235585,
          3.55747559816204,
          3.245519152640981,
          2.9609128402007086,
          2.701259477752296,
          2.464371894971836,
          2.24825456845495,
          2.051086822436506,
          1.8712075161703186,
          1.7071010811438203,
          1.557384770702063,
          1.4207970197284867,
          1.2961868123065554,
          1.182504029827191,
          1.0787906086633194,
          0.98417244419152,
          0.8978520489836003,
          0.8191018415020174,
          0.7472580552917617,
          0.6817150738059743,
          0.6219203935901993,
          0.5673699388713038,
          0.5176038354106032,
          0.4722025235684681,
          0.4307832340397313,
          0.39299675758061364,
          0.35852450029967414,
          0.3270758063284514,
          0.2983855064337459,
          0.2722116857165323,
          0.24833363815326392,
          0.22655001371028294,
          0.20667712015212783,
          0.18854737344527134,
          0.17200788618282487,
          0.15691917864941307,
          0.14315400593271652,
          0.13059626801635132,
          0.11914006713728142,
          0.10868879025808613,
          0.09915429177649945,
          0.09045615436307543,
          0.08252101697304151,
          0.07528195377250364,
          0.06867790755775595,
          0.06265317645545883,
          0.057156941837856606,
          0.0521428506649662,
          0.0475686069499827,
          0.04339563057639457,
          0.039588719144224606,
          0.036115764793745404,
          0.03294746961303395,
          0.03005711175098112,
          0.027420307617381092,
          0.025014816995596312,
          0.022820347068891956,
          0.02081838777956753,
          0.01899205082119891,
          0.017325930456689682,
          0.015805971549704322,
          0.014419354719147773,
          0.01315438177700433,
          0.012000378271145723,
          0.010947612092406843,
          0.009987200215356633,
          0.009111042413977127,
          0.008311747299371057,
          0.007582572432723897,
          0.006917366020863543,
          0.006310516045086374,
          0.005756903515682971,
          0.0052518583867101985,
          0.0047911200273382856,
          0.004370801295978562,
          0.003987356417203805,
          0.0036375499345777957,
          0.0033184315720618304,
          0.0030273087864312806,
          0.0027617258023347677,
          0.002519442021645856,
          0.002298413449377211,
          0.00209677544315233,
          0.0019128268791147932,
          0.0017450159100181146,
          0.00159192681946224,
          0.0014522680697291628,
          0.001324861421563913,
          0.001208632062235509,
          0.0011025991785103449,
          0.0010058680741193724,
          0.0009176230070698693
         ]
        }
       ],
       "layout": {
        "template": {
         "data": {
          "bar": [
           {
            "error_x": {
             "color": "#2a3f5f"
            },
            "error_y": {
             "color": "#2a3f5f"
            },
            "marker": {
             "line": {
              "color": "#E5ECF6",
              "width": 0.5
             }
            },
            "type": "bar"
           }
          ],
          "barpolar": [
           {
            "marker": {
             "line": {
              "color": "#E5ECF6",
              "width": 0.5
             }
            },
            "type": "barpolar"
           }
          ],
          "carpet": [
           {
            "aaxis": {
             "endlinecolor": "#2a3f5f",
             "gridcolor": "white",
             "linecolor": "white",
             "minorgridcolor": "white",
             "startlinecolor": "#2a3f5f"
            },
            "baxis": {
             "endlinecolor": "#2a3f5f",
             "gridcolor": "white",
             "linecolor": "white",
             "minorgridcolor": "white",
             "startlinecolor": "#2a3f5f"
            },
            "type": "carpet"
           }
          ],
          "choropleth": [
           {
            "colorbar": {
             "outlinewidth": 0,
             "ticks": ""
            },
            "type": "choropleth"
           }
          ],
          "contour": [
           {
            "colorbar": {
             "outlinewidth": 0,
             "ticks": ""
            },
            "colorscale": [
             [
              0,
              "#0d0887"
             ],
             [
              0.1111111111111111,
              "#46039f"
             ],
             [
              0.2222222222222222,
              "#7201a8"
             ],
             [
              0.3333333333333333,
              "#9c179e"
             ],
             [
              0.4444444444444444,
              "#bd3786"
             ],
             [
              0.5555555555555556,
              "#d8576b"
             ],
             [
              0.6666666666666666,
              "#ed7953"
             ],
             [
              0.7777777777777778,
              "#fb9f3a"
             ],
             [
              0.8888888888888888,
              "#fdca26"
             ],
             [
              1,
              "#f0f921"
             ]
            ],
            "type": "contour"
           }
          ],
          "contourcarpet": [
           {
            "colorbar": {
             "outlinewidth": 0,
             "ticks": ""
            },
            "type": "contourcarpet"
           }
          ],
          "heatmap": [
           {
            "colorbar": {
             "outlinewidth": 0,
             "ticks": ""
            },
            "colorscale": [
             [
              0,
              "#0d0887"
             ],
             [
              0.1111111111111111,
              "#46039f"
             ],
             [
              0.2222222222222222,
              "#7201a8"
             ],
             [
              0.3333333333333333,
              "#9c179e"
             ],
             [
              0.4444444444444444,
              "#bd3786"
             ],
             [
              0.5555555555555556,
              "#d8576b"
             ],
             [
              0.6666666666666666,
              "#ed7953"
             ],
             [
              0.7777777777777778,
              "#fb9f3a"
             ],
             [
              0.8888888888888888,
              "#fdca26"
             ],
             [
              1,
              "#f0f921"
             ]
            ],
            "type": "heatmap"
           }
          ],
          "heatmapgl": [
           {
            "colorbar": {
             "outlinewidth": 0,
             "ticks": ""
            },
            "colorscale": [
             [
              0,
              "#0d0887"
             ],
             [
              0.1111111111111111,
              "#46039f"
             ],
             [
              0.2222222222222222,
              "#7201a8"
             ],
             [
              0.3333333333333333,
              "#9c179e"
             ],
             [
              0.4444444444444444,
              "#bd3786"
             ],
             [
              0.5555555555555556,
              "#d8576b"
             ],
             [
              0.6666666666666666,
              "#ed7953"
             ],
             [
              0.7777777777777778,
              "#fb9f3a"
             ],
             [
              0.8888888888888888,
              "#fdca26"
             ],
             [
              1,
              "#f0f921"
             ]
            ],
            "type": "heatmapgl"
           }
          ],
          "histogram": [
           {
            "marker": {
             "colorbar": {
              "outlinewidth": 0,
              "ticks": ""
             }
            },
            "type": "histogram"
           }
          ],
          "histogram2d": [
           {
            "colorbar": {
             "outlinewidth": 0,
             "ticks": ""
            },
            "colorscale": [
             [
              0,
              "#0d0887"
             ],
             [
              0.1111111111111111,
              "#46039f"
             ],
             [
              0.2222222222222222,
              "#7201a8"
             ],
             [
              0.3333333333333333,
              "#9c179e"
             ],
             [
              0.4444444444444444,
              "#bd3786"
             ],
             [
              0.5555555555555556,
              "#d8576b"
             ],
             [
              0.6666666666666666,
              "#ed7953"
             ],
             [
              0.7777777777777778,
              "#fb9f3a"
             ],
             [
              0.8888888888888888,
              "#fdca26"
             ],
             [
              1,
              "#f0f921"
             ]
            ],
            "type": "histogram2d"
           }
          ],
          "histogram2dcontour": [
           {
            "colorbar": {
             "outlinewidth": 0,
             "ticks": ""
            },
            "colorscale": [
             [
              0,
              "#0d0887"
             ],
             [
              0.1111111111111111,
              "#46039f"
             ],
             [
              0.2222222222222222,
              "#7201a8"
             ],
             [
              0.3333333333333333,
              "#9c179e"
             ],
             [
              0.4444444444444444,
              "#bd3786"
             ],
             [
              0.5555555555555556,
              "#d8576b"
             ],
             [
              0.6666666666666666,
              "#ed7953"
             ],
             [
              0.7777777777777778,
              "#fb9f3a"
             ],
             [
              0.8888888888888888,
              "#fdca26"
             ],
             [
              1,
              "#f0f921"
             ]
            ],
            "type": "histogram2dcontour"
           }
          ],
          "mesh3d": [
           {
            "colorbar": {
             "outlinewidth": 0,
             "ticks": ""
            },
            "type": "mesh3d"
           }
          ],
          "parcoords": [
           {
            "line": {
             "colorbar": {
              "outlinewidth": 0,
              "ticks": ""
             }
            },
            "type": "parcoords"
           }
          ],
          "pie": [
           {
            "automargin": true,
            "type": "pie"
           }
          ],
          "scatter": [
           {
            "marker": {
             "colorbar": {
              "outlinewidth": 0,
              "ticks": ""
             }
            },
            "type": "scatter"
           }
          ],
          "scatter3d": [
           {
            "line": {
             "colorbar": {
              "outlinewidth": 0,
              "ticks": ""
             }
            },
            "marker": {
             "colorbar": {
              "outlinewidth": 0,
              "ticks": ""
             }
            },
            "type": "scatter3d"
           }
          ],
          "scattercarpet": [
           {
            "marker": {
             "colorbar": {
              "outlinewidth": 0,
              "ticks": ""
             }
            },
            "type": "scattercarpet"
           }
          ],
          "scattergeo": [
           {
            "marker": {
             "colorbar": {
              "outlinewidth": 0,
              "ticks": ""
             }
            },
            "type": "scattergeo"
           }
          ],
          "scattergl": [
           {
            "marker": {
             "colorbar": {
              "outlinewidth": 0,
              "ticks": ""
             }
            },
            "type": "scattergl"
           }
          ],
          "scattermapbox": [
           {
            "marker": {
             "colorbar": {
              "outlinewidth": 0,
              "ticks": ""
             }
            },
            "type": "scattermapbox"
           }
          ],
          "scatterpolar": [
           {
            "marker": {
             "colorbar": {
              "outlinewidth": 0,
              "ticks": ""
             }
            },
            "type": "scatterpolar"
           }
          ],
          "scatterpolargl": [
           {
            "marker": {
             "colorbar": {
              "outlinewidth": 0,
              "ticks": ""
             }
            },
            "type": "scatterpolargl"
           }
          ],
          "scatterternary": [
           {
            "marker": {
             "colorbar": {
              "outlinewidth": 0,
              "ticks": ""
             }
            },
            "type": "scatterternary"
           }
          ],
          "surface": [
           {
            "colorbar": {
             "outlinewidth": 0,
             "ticks": ""
            },
            "colorscale": [
             [
              0,
              "#0d0887"
             ],
             [
              0.1111111111111111,
              "#46039f"
             ],
             [
              0.2222222222222222,
              "#7201a8"
             ],
             [
              0.3333333333333333,
              "#9c179e"
             ],
             [
              0.4444444444444444,
              "#bd3786"
             ],
             [
              0.5555555555555556,
              "#d8576b"
             ],
             [
              0.6666666666666666,
              "#ed7953"
             ],
             [
              0.7777777777777778,
              "#fb9f3a"
             ],
             [
              0.8888888888888888,
              "#fdca26"
             ],
             [
              1,
              "#f0f921"
             ]
            ],
            "type": "surface"
           }
          ],
          "table": [
           {
            "cells": {
             "fill": {
              "color": "#EBF0F8"
             },
             "line": {
              "color": "white"
             }
            },
            "header": {
             "fill": {
              "color": "#C8D4E3"
             },
             "line": {
              "color": "white"
             }
            },
            "type": "table"
           }
          ]
         },
         "layout": {
          "annotationdefaults": {
           "arrowcolor": "#2a3f5f",
           "arrowhead": 0,
           "arrowwidth": 1
          },
          "coloraxis": {
           "colorbar": {
            "outlinewidth": 0,
            "ticks": ""
           }
          },
          "colorscale": {
           "diverging": [
            [
             0,
             "#8e0152"
            ],
            [
             0.1,
             "#c51b7d"
            ],
            [
             0.2,
             "#de77ae"
            ],
            [
             0.3,
             "#f1b6da"
            ],
            [
             0.4,
             "#fde0ef"
            ],
            [
             0.5,
             "#f7f7f7"
            ],
            [
             0.6,
             "#e6f5d0"
            ],
            [
             0.7,
             "#b8e186"
            ],
            [
             0.8,
             "#7fbc41"
            ],
            [
             0.9,
             "#4d9221"
            ],
            [
             1,
             "#276419"
            ]
           ],
           "sequential": [
            [
             0,
             "#0d0887"
            ],
            [
             0.1111111111111111,
             "#46039f"
            ],
            [
             0.2222222222222222,
             "#7201a8"
            ],
            [
             0.3333333333333333,
             "#9c179e"
            ],
            [
             0.4444444444444444,
             "#bd3786"
            ],
            [
             0.5555555555555556,
             "#d8576b"
            ],
            [
             0.6666666666666666,
             "#ed7953"
            ],
            [
             0.7777777777777778,
             "#fb9f3a"
            ],
            [
             0.8888888888888888,
             "#fdca26"
            ],
            [
             1,
             "#f0f921"
            ]
           ],
           "sequentialminus": [
            [
             0,
             "#0d0887"
            ],
            [
             0.1111111111111111,
             "#46039f"
            ],
            [
             0.2222222222222222,
             "#7201a8"
            ],
            [
             0.3333333333333333,
             "#9c179e"
            ],
            [
             0.4444444444444444,
             "#bd3786"
            ],
            [
             0.5555555555555556,
             "#d8576b"
            ],
            [
             0.6666666666666666,
             "#ed7953"
            ],
            [
             0.7777777777777778,
             "#fb9f3a"
            ],
            [
             0.8888888888888888,
             "#fdca26"
            ],
            [
             1,
             "#f0f921"
            ]
           ]
          },
          "colorway": [
           "#636efa",
           "#EF553B",
           "#00cc96",
           "#ab63fa",
           "#FFA15A",
           "#19d3f3",
           "#FF6692",
           "#B6E880",
           "#FF97FF",
           "#FECB52"
          ],
          "font": {
           "color": "#2a3f5f"
          },
          "geo": {
           "bgcolor": "white",
           "lakecolor": "white",
           "landcolor": "#E5ECF6",
           "showlakes": true,
           "showland": true,
           "subunitcolor": "white"
          },
          "hoverlabel": {
           "align": "left"
          },
          "hovermode": "closest",
          "mapbox": {
           "style": "light"
          },
          "paper_bgcolor": "white",
          "plot_bgcolor": "#E5ECF6",
          "polar": {
           "angularaxis": {
            "gridcolor": "white",
            "linecolor": "white",
            "ticks": ""
           },
           "bgcolor": "#E5ECF6",
           "radialaxis": {
            "gridcolor": "white",
            "linecolor": "white",
            "ticks": ""
           }
          },
          "scene": {
           "xaxis": {
            "backgroundcolor": "#E5ECF6",
            "gridcolor": "white",
            "gridwidth": 2,
            "linecolor": "white",
            "showbackground": true,
            "ticks": "",
            "zerolinecolor": "white"
           },
           "yaxis": {
            "backgroundcolor": "#E5ECF6",
            "gridcolor": "white",
            "gridwidth": 2,
            "linecolor": "white",
            "showbackground": true,
            "ticks": "",
            "zerolinecolor": "white"
           },
           "zaxis": {
            "backgroundcolor": "#E5ECF6",
            "gridcolor": "white",
            "gridwidth": 2,
            "linecolor": "white",
            "showbackground": true,
            "ticks": "",
            "zerolinecolor": "white"
           }
          },
          "shapedefaults": {
           "line": {
            "color": "#2a3f5f"
           }
          },
          "ternary": {
           "aaxis": {
            "gridcolor": "white",
            "linecolor": "white",
            "ticks": ""
           },
           "baxis": {
            "gridcolor": "white",
            "linecolor": "white",
            "ticks": ""
           },
           "bgcolor": "#E5ECF6",
           "caxis": {
            "gridcolor": "white",
            "linecolor": "white",
            "ticks": ""
           }
          },
          "title": {
           "x": 0.05
          },
          "xaxis": {
           "automargin": true,
           "gridcolor": "white",
           "linecolor": "white",
           "ticks": "",
           "title": {
            "standoff": 15
           },
           "zerolinecolor": "white",
           "zerolinewidth": 2
          },
          "yaxis": {
           "automargin": true,
           "gridcolor": "white",
           "linecolor": "white",
           "ticks": "",
           "title": {
            "standoff": 15
           },
           "zerolinecolor": "white",
           "zerolinewidth": 2
          }
         }
        }
       }
      },
      "text/html": [
       "<div>\n",
       "        \n",
       "        \n",
       "            <div id=\"b7c8f93b-f9e9-4418-bb70-880c1351932a\" class=\"plotly-graph-div\" style=\"height:525px; width:100%;\"></div>\n",
       "            <script type=\"text/javascript\">\n",
       "                require([\"plotly\"], function(Plotly) {\n",
       "                    window.PLOTLYENV=window.PLOTLYENV || {};\n",
       "                    \n",
       "                if (document.getElementById(\"b7c8f93b-f9e9-4418-bb70-880c1351932a\")) {\n",
       "                    Plotly.newPlot(\n",
       "                        'b7c8f93b-f9e9-4418-bb70-880c1351932a',\n",
       "                        [{\"mode\": \"lines\", \"name\": \"Total Infections\", \"type\": \"scatter\", \"x\": [0, 1, 2, 3, 4, 5, 6, 7, 8, 9, 10, 11, 12, 13, 14, 15, 16, 17, 18, 19, 20, 21, 22, 23, 24, 25, 26, 27, 28, 29, 30, 31, 32, 33, 34, 35, 36, 37, 38, 39, 40, 41, 42, 43, 44, 45, 46, 47, 48, 49, 50, 51, 52, 53, 54, 55, 56, 57, 58, 59, 60, 61, 62, 63, 64, 65, 66, 67, 68, 69, 70, 71, 72, 73, 74, 75, 76, 77, 78, 79, 80, 81, 82, 83, 84, 85, 86, 87, 88, 89, 90, 91, 92, 93, 94, 95, 96, 97, 98, 99, 100, 101, 102, 103, 104, 105, 106, 107, 108, 109, 110, 111, 112, 113, 114, 115, 116, 117, 118, 119, 120, 121, 122, 123, 124, 125, 126, 127, 128, 129, 130, 131, 132, 133, 134, 135, 136, 137, 138, 139, 140, 141, 142, 143, 144, 145, 146, 147, 148, 149, 150, 151, 152, 153, 154, 155, 156, 157, 158, 159, 160, 161, 162, 163, 164, 165, 166, 167, 168, 169, 170, 171, 172, 173, 174, 175, 176, 177, 178, 179, 180, 181, 182, 183, 184, 185, 186, 187, 188, 189, 190, 191, 192, 193, 194, 195, 196, 197, 198, 199, 200, 201, 202, 203, 204, 205, 206, 207, 208, 209, 210, 211, 212, 213, 214, 215, 216, 217, 218, 219, 220, 221, 222, 223, 224, 225, 226, 227, 228, 229, 230, 231, 232, 233, 234, 235, 236, 237, 238, 239, 240, 241, 242, 243, 244, 245, 246, 247, 248, 249, 250, 251, 252, 253, 254, 255, 256, 257, 258, 259, 260, 261, 262, 263, 264, 265, 266, 267, 268, 269, 270, 271, 272, 273, 274, 275, 276, 277, 278, 279, 280, 281, 282, 283, 284, 285, 286, 287, 288, 289, 290, 291, 292, 293, 294, 295, 296, 297, 298, 299], \"y\": [20603.0, 21015.63573965992, 24361.736106316235, 30047.484474368444, 38018.56320631339, 48561.35470437874, 62221.38129887467, 79786.00879987737, 102305.89266625352, 131143.73944925828, 168046.30690086572, 215239.45168712008, 275548.036057635, 352543.2915671648, 450719.8880457753, 575703.1918802324, 734483.3002050333, 935665.3083812235, 1189713.3662992988, 1509147.554910277, 1908625.7476279463, 2404806.9055626155, 3015850.539057268, 3760369.044467884, 4655636.241140243, 5714901.90547345, 6943814.1873639645, 8336245.045412505, 9870235.9108274, 11505214.713129923, 13181845.123330576, 14825575.286224911, 16354030.258387098, 17687076.775300182, 18757273.352792896, 19518126.819404986, 19948307.90283026, 20051350.10632018, 19851676.00106246, 19388534.31249776, 18709477.507583387, 17864583.867068354, 16902054.183307108, 15865322.754562765, 14791512.135253131, 13710922.4624431, 12647227.058571525, 11618091.122581568, 10635997.915339086, 9709134.438601779, 8842243.955907738, 8037394.3084461875, 7294639.426408189, 6612569.521017477, 5988755.98635235, 5420102.437824422, 4903115.38479561, 4434108.1873391, 4009350.8909317134, 3625177.080645738, 3278057.194578128, 2964646.161061559, 2681811.6595953093, 2426648.0911082258, 2196480.230344815, 1988859.6242500618, 1801556.0581274398, 1632545.9085373203, 1479998.641762472, 1342262.4291922688, 1217849.557569535, 1105422.1009867091, 1003778.1709095284, 911838.9391972614, 828636.5474869885, 753302.9529655768, 685059.7180718624, 623208.7224102581, 567123.7552268143, 516242.93554897397, 470061.90019317355, 428127.69750446425, 390033.32468156726, 355412.84842224047, 323937.051722736, 295309.5533304876, 269263.35049479257, 245557.7397991133, 223975.57504749644, 204320.82512116112, 186416.39851426423, 170102.20471666445, 155233.4258502725, 141678.97483456045, 129320.11922022825, 118049.2516793895, 107768.79098512811, 98390.198644389, 89833.09845890192, 82024.48713513304, 74898.02643675444, 68393.40746309719, 62455.77938367163, 57035.235569486525, 52086.35103334593, 47567.76531756592, 43441.80678192519, 39674.15318975321, 36233.525101941676, 33091.40875000435, 30221.805276262305, 27601.00372266353, 25207.37532613316, 23021.187039557895, 21024.43234711007, 19200.677694234168, 17534.923012588763, 16013.474966118001, 14623.831720752532, 13354.578122869025, 12195.290319635937, 11136.448921073148, 10169.3599236719, 9286.082666952192, 8479.364178825615, 7742.579327837784, 7069.676249146577, 6455.1265709511945, 5893.880009338377, 5381.322932954742, 4913.2405505580855, 4485.782394920766, 4095.430816809973, 3738.972202950207, 3413.470710068936, 3116.24427049567, 2844.8426727760907, 2597.0275424382617, 2370.754053096134, 2164.1542194072003, 1975.5216300602106, 1803.2975026233134, 1646.057938820382, 1502.502279857274, 1371.4424660941022, 1251.7933143679577, 1142.5636331156145, 1042.8481033092671, 951.8198594094761, 868.7237098407007, 792.8699418823345, 723.6286606113308, 660.4246159012467, 602.7324755726271, 550.0725061457614, 502.00662624476155, 458.1348008402734, 418.09174617093566, 381.54391940298433, 348.18676831540154, 317.74221847363765, 289.9563773867836, 264.59743740733904, 241.45375969203155, 220.3321238716182, 201.05612917422494, 183.46473420964327, 167.41092262459563, 152.76048472269449, 139.39090448323302, 127.19034305427974, 116.05671029310943, 105.89681685807767, 96.62559987054593, 88.16541571294573, 80.44539424363234, 73.40084904946252, 66.97273894182199, 61.10717621584016, 55.75497756555159, 50.8712544170949, 46.41503814200369, 42.3489384850187, 38.638831536425506, 35.25357492856364, 32.16474759408146, 29.346412378537885, 26.77489924632123, 24.42860739961026, 22.287824672793853, 20.33456245065255, 18.552405403243522, 16.926373866945063, 15.442798521255805, 14.089205891381837, 12.854213770269965, 11.727435973984, 10.699395176402604, 9.761443465907167, 8.905689892508448, 8.124934192644762, 7.412606442198777, 6.762711912532498, 6.169780708058825, 5.628821935923185, 5.135281729565724, 4.685005021606878, 4.274200669106133, 3.8994095595235585, 3.55747559816204, 3.245519152640981, 2.9609128402007086, 2.701259477752296, 2.464371894971836, 2.24825456845495, 2.051086822436506, 1.8712075161703186, 1.7071010811438203, 1.557384770702063, 1.4207970197284867, 1.2961868123065554, 1.182504029827191, 1.0787906086633194, 0.98417244419152, 0.8978520489836003, 0.8191018415020174, 0.7472580552917617, 0.6817150738059743, 0.6219203935901993, 0.5673699388713038, 0.5176038354106032, 0.4722025235684681, 0.4307832340397313, 0.39299675758061364, 0.35852450029967414, 0.3270758063284514, 0.2983855064337459, 0.2722116857165323, 0.24833363815326392, 0.22655001371028294, 0.20667712015212783, 0.18854737344527134, 0.17200788618282487, 0.15691917864941307, 0.14315400593271652, 0.13059626801635132, 0.11914006713728142, 0.10868879025808613, 0.09915429177649945, 0.09045615436307543, 0.08252101697304151, 0.07528195377250364, 0.06867790755775595, 0.06265317645545883, 0.057156941837856606, 0.0521428506649662, 0.0475686069499827, 0.04339563057639457, 0.039588719144224606, 0.036115764793745404, 0.03294746961303395, 0.03005711175098112, 0.027420307617381092, 0.025014816995596312, 0.022820347068891956, 0.02081838777956753, 0.01899205082119891, 0.017325930456689682, 0.015805971549704322, 0.014419354719147773, 0.01315438177700433, 0.012000378271145723, 0.010947612092406843, 0.009987200215356633, 0.009111042413977127, 0.008311747299371057, 0.007582572432723897, 0.006917366020863543, 0.006310516045086374, 0.005756903515682971, 0.0052518583867101985, 0.0047911200273382856, 0.004370801295978562, 0.003987356417203805, 0.0036375499345777957, 0.0033184315720618304, 0.0030273087864312806, 0.0027617258023347677, 0.002519442021645856, 0.002298413449377211, 0.00209677544315233, 0.0019128268791147932, 0.0017450159100181146, 0.00159192681946224, 0.0014522680697291628, 0.001324861421563913, 0.001208632062235509, 0.0011025991785103449, 0.0010058680741193724, 0.0009176230070698693]}],\n",
       "                        {\"template\": {\"data\": {\"bar\": [{\"error_x\": {\"color\": \"#2a3f5f\"}, \"error_y\": {\"color\": \"#2a3f5f\"}, \"marker\": {\"line\": {\"color\": \"#E5ECF6\", \"width\": 0.5}}, \"type\": \"bar\"}], \"barpolar\": [{\"marker\": {\"line\": {\"color\": \"#E5ECF6\", \"width\": 0.5}}, \"type\": \"barpolar\"}], \"carpet\": [{\"aaxis\": {\"endlinecolor\": \"#2a3f5f\", \"gridcolor\": \"white\", \"linecolor\": \"white\", \"minorgridcolor\": \"white\", \"startlinecolor\": \"#2a3f5f\"}, \"baxis\": {\"endlinecolor\": \"#2a3f5f\", \"gridcolor\": \"white\", \"linecolor\": \"white\", \"minorgridcolor\": \"white\", \"startlinecolor\": \"#2a3f5f\"}, \"type\": \"carpet\"}], \"choropleth\": [{\"colorbar\": {\"outlinewidth\": 0, \"ticks\": \"\"}, \"type\": \"choropleth\"}], \"contour\": [{\"colorbar\": {\"outlinewidth\": 0, \"ticks\": \"\"}, \"colorscale\": [[0.0, \"#0d0887\"], [0.1111111111111111, \"#46039f\"], [0.2222222222222222, \"#7201a8\"], [0.3333333333333333, \"#9c179e\"], [0.4444444444444444, \"#bd3786\"], [0.5555555555555556, \"#d8576b\"], [0.6666666666666666, \"#ed7953\"], [0.7777777777777778, \"#fb9f3a\"], [0.8888888888888888, \"#fdca26\"], [1.0, \"#f0f921\"]], \"type\": \"contour\"}], \"contourcarpet\": [{\"colorbar\": {\"outlinewidth\": 0, \"ticks\": \"\"}, \"type\": \"contourcarpet\"}], \"heatmap\": [{\"colorbar\": {\"outlinewidth\": 0, \"ticks\": \"\"}, \"colorscale\": [[0.0, \"#0d0887\"], [0.1111111111111111, \"#46039f\"], [0.2222222222222222, \"#7201a8\"], [0.3333333333333333, \"#9c179e\"], [0.4444444444444444, \"#bd3786\"], [0.5555555555555556, \"#d8576b\"], [0.6666666666666666, \"#ed7953\"], [0.7777777777777778, \"#fb9f3a\"], [0.8888888888888888, \"#fdca26\"], [1.0, \"#f0f921\"]], \"type\": \"heatmap\"}], \"heatmapgl\": [{\"colorbar\": {\"outlinewidth\": 0, \"ticks\": \"\"}, \"colorscale\": [[0.0, \"#0d0887\"], [0.1111111111111111, \"#46039f\"], [0.2222222222222222, \"#7201a8\"], [0.3333333333333333, \"#9c179e\"], [0.4444444444444444, \"#bd3786\"], [0.5555555555555556, \"#d8576b\"], [0.6666666666666666, \"#ed7953\"], [0.7777777777777778, \"#fb9f3a\"], [0.8888888888888888, \"#fdca26\"], [1.0, \"#f0f921\"]], \"type\": \"heatmapgl\"}], \"histogram\": [{\"marker\": {\"colorbar\": {\"outlinewidth\": 0, \"ticks\": \"\"}}, \"type\": \"histogram\"}], \"histogram2d\": [{\"colorbar\": {\"outlinewidth\": 0, \"ticks\": \"\"}, \"colorscale\": [[0.0, \"#0d0887\"], [0.1111111111111111, \"#46039f\"], [0.2222222222222222, \"#7201a8\"], [0.3333333333333333, \"#9c179e\"], [0.4444444444444444, \"#bd3786\"], [0.5555555555555556, \"#d8576b\"], [0.6666666666666666, \"#ed7953\"], [0.7777777777777778, \"#fb9f3a\"], [0.8888888888888888, \"#fdca26\"], [1.0, \"#f0f921\"]], \"type\": \"histogram2d\"}], \"histogram2dcontour\": [{\"colorbar\": {\"outlinewidth\": 0, \"ticks\": \"\"}, \"colorscale\": [[0.0, \"#0d0887\"], [0.1111111111111111, \"#46039f\"], [0.2222222222222222, \"#7201a8\"], [0.3333333333333333, \"#9c179e\"], [0.4444444444444444, \"#bd3786\"], [0.5555555555555556, \"#d8576b\"], [0.6666666666666666, \"#ed7953\"], [0.7777777777777778, \"#fb9f3a\"], [0.8888888888888888, \"#fdca26\"], [1.0, \"#f0f921\"]], \"type\": \"histogram2dcontour\"}], \"mesh3d\": [{\"colorbar\": {\"outlinewidth\": 0, \"ticks\": \"\"}, \"type\": \"mesh3d\"}], \"parcoords\": [{\"line\": {\"colorbar\": {\"outlinewidth\": 0, \"ticks\": \"\"}}, \"type\": \"parcoords\"}], \"pie\": [{\"automargin\": true, \"type\": \"pie\"}], \"scatter\": [{\"marker\": {\"colorbar\": {\"outlinewidth\": 0, \"ticks\": \"\"}}, \"type\": \"scatter\"}], \"scatter3d\": [{\"line\": {\"colorbar\": {\"outlinewidth\": 0, \"ticks\": \"\"}}, \"marker\": {\"colorbar\": {\"outlinewidth\": 0, \"ticks\": \"\"}}, \"type\": \"scatter3d\"}], \"scattercarpet\": [{\"marker\": {\"colorbar\": {\"outlinewidth\": 0, \"ticks\": \"\"}}, \"type\": \"scattercarpet\"}], \"scattergeo\": [{\"marker\": {\"colorbar\": {\"outlinewidth\": 0, \"ticks\": \"\"}}, \"type\": \"scattergeo\"}], \"scattergl\": [{\"marker\": {\"colorbar\": {\"outlinewidth\": 0, \"ticks\": \"\"}}, \"type\": \"scattergl\"}], \"scattermapbox\": [{\"marker\": {\"colorbar\": {\"outlinewidth\": 0, \"ticks\": \"\"}}, \"type\": \"scattermapbox\"}], \"scatterpolar\": [{\"marker\": {\"colorbar\": {\"outlinewidth\": 0, \"ticks\": \"\"}}, \"type\": \"scatterpolar\"}], \"scatterpolargl\": [{\"marker\": {\"colorbar\": {\"outlinewidth\": 0, \"ticks\": \"\"}}, \"type\": \"scatterpolargl\"}], \"scatterternary\": [{\"marker\": {\"colorbar\": {\"outlinewidth\": 0, \"ticks\": \"\"}}, \"type\": \"scatterternary\"}], \"surface\": [{\"colorbar\": {\"outlinewidth\": 0, \"ticks\": \"\"}, \"colorscale\": [[0.0, \"#0d0887\"], [0.1111111111111111, \"#46039f\"], [0.2222222222222222, \"#7201a8\"], [0.3333333333333333, \"#9c179e\"], [0.4444444444444444, \"#bd3786\"], [0.5555555555555556, \"#d8576b\"], [0.6666666666666666, \"#ed7953\"], [0.7777777777777778, \"#fb9f3a\"], [0.8888888888888888, \"#fdca26\"], [1.0, \"#f0f921\"]], \"type\": \"surface\"}], \"table\": [{\"cells\": {\"fill\": {\"color\": \"#EBF0F8\"}, \"line\": {\"color\": \"white\"}}, \"header\": {\"fill\": {\"color\": \"#C8D4E3\"}, \"line\": {\"color\": \"white\"}}, \"type\": \"table\"}]}, \"layout\": {\"annotationdefaults\": {\"arrowcolor\": \"#2a3f5f\", \"arrowhead\": 0, \"arrowwidth\": 1}, \"coloraxis\": {\"colorbar\": {\"outlinewidth\": 0, \"ticks\": \"\"}}, \"colorscale\": {\"diverging\": [[0, \"#8e0152\"], [0.1, \"#c51b7d\"], [0.2, \"#de77ae\"], [0.3, \"#f1b6da\"], [0.4, \"#fde0ef\"], [0.5, \"#f7f7f7\"], [0.6, \"#e6f5d0\"], [0.7, \"#b8e186\"], [0.8, \"#7fbc41\"], [0.9, \"#4d9221\"], [1, \"#276419\"]], \"sequential\": [[0.0, \"#0d0887\"], [0.1111111111111111, \"#46039f\"], [0.2222222222222222, \"#7201a8\"], [0.3333333333333333, \"#9c179e\"], [0.4444444444444444, \"#bd3786\"], [0.5555555555555556, \"#d8576b\"], [0.6666666666666666, \"#ed7953\"], [0.7777777777777778, \"#fb9f3a\"], [0.8888888888888888, \"#fdca26\"], [1.0, \"#f0f921\"]], \"sequentialminus\": [[0.0, \"#0d0887\"], [0.1111111111111111, \"#46039f\"], [0.2222222222222222, \"#7201a8\"], [0.3333333333333333, \"#9c179e\"], [0.4444444444444444, \"#bd3786\"], [0.5555555555555556, \"#d8576b\"], [0.6666666666666666, \"#ed7953\"], [0.7777777777777778, \"#fb9f3a\"], [0.8888888888888888, \"#fdca26\"], [1.0, \"#f0f921\"]]}, \"colorway\": [\"#636efa\", \"#EF553B\", \"#00cc96\", \"#ab63fa\", \"#FFA15A\", \"#19d3f3\", \"#FF6692\", \"#B6E880\", \"#FF97FF\", \"#FECB52\"], \"font\": {\"color\": \"#2a3f5f\"}, \"geo\": {\"bgcolor\": \"white\", \"lakecolor\": \"white\", \"landcolor\": \"#E5ECF6\", \"showlakes\": true, \"showland\": true, \"subunitcolor\": \"white\"}, \"hoverlabel\": {\"align\": \"left\"}, \"hovermode\": \"closest\", \"mapbox\": {\"style\": \"light\"}, \"paper_bgcolor\": \"white\", \"plot_bgcolor\": \"#E5ECF6\", \"polar\": {\"angularaxis\": {\"gridcolor\": \"white\", \"linecolor\": \"white\", \"ticks\": \"\"}, \"bgcolor\": \"#E5ECF6\", \"radialaxis\": {\"gridcolor\": \"white\", \"linecolor\": \"white\", \"ticks\": \"\"}}, \"scene\": {\"xaxis\": {\"backgroundcolor\": \"#E5ECF6\", \"gridcolor\": \"white\", \"gridwidth\": 2, \"linecolor\": \"white\", \"showbackground\": true, \"ticks\": \"\", \"zerolinecolor\": \"white\"}, \"yaxis\": {\"backgroundcolor\": \"#E5ECF6\", \"gridcolor\": \"white\", \"gridwidth\": 2, \"linecolor\": \"white\", \"showbackground\": true, \"ticks\": \"\", \"zerolinecolor\": \"white\"}, \"zaxis\": {\"backgroundcolor\": \"#E5ECF6\", \"gridcolor\": \"white\", \"gridwidth\": 2, \"linecolor\": \"white\", \"showbackground\": true, \"ticks\": \"\", \"zerolinecolor\": \"white\"}}, \"shapedefaults\": {\"line\": {\"color\": \"#2a3f5f\"}}, \"ternary\": {\"aaxis\": {\"gridcolor\": \"white\", \"linecolor\": \"white\", \"ticks\": \"\"}, \"baxis\": {\"gridcolor\": \"white\", \"linecolor\": \"white\", \"ticks\": \"\"}, \"bgcolor\": \"#E5ECF6\", \"caxis\": {\"gridcolor\": \"white\", \"linecolor\": \"white\", \"ticks\": \"\"}}, \"title\": {\"x\": 0.05}, \"xaxis\": {\"automargin\": true, \"gridcolor\": \"white\", \"linecolor\": \"white\", \"ticks\": \"\", \"title\": {\"standoff\": 15}, \"zerolinecolor\": \"white\", \"zerolinewidth\": 2}, \"yaxis\": {\"automargin\": true, \"gridcolor\": \"white\", \"linecolor\": \"white\", \"ticks\": \"\", \"title\": {\"standoff\": 15}, \"zerolinecolor\": \"white\", \"zerolinewidth\": 2}}}},\n",
       "                        {\"responsive\": true}\n",
       "                    ).then(function(){\n",
       "                            \n",
       "var gd = document.getElementById('b7c8f93b-f9e9-4418-bb70-880c1351932a');\n",
       "var x = new MutationObserver(function (mutations, observer) {{\n",
       "        var display = window.getComputedStyle(gd).display;\n",
       "        if (!display || display === 'none') {{\n",
       "            console.log([gd, 'removed!']);\n",
       "            Plotly.purge(gd);\n",
       "            observer.disconnect();\n",
       "        }}\n",
       "}});\n",
       "\n",
       "// Listen for the removal of the full notebook cells\n",
       "var notebookContainer = gd.closest('#notebook-container');\n",
       "if (notebookContainer) {{\n",
       "    x.observe(notebookContainer, {childList: true});\n",
       "}}\n",
       "\n",
       "// Listen for the clearing of the current output cell\n",
       "var outputEl = gd.closest('.output');\n",
       "if (outputEl) {{\n",
       "    x.observe(outputEl, {childList: true});\n",
       "}}\n",
       "\n",
       "                        })\n",
       "                };\n",
       "                });\n",
       "            </script>\n",
       "        </div>"
      ]
     },
     "metadata": {},
     "output_type": "display_data"
    }
   ],
   "source": [
    "fig.add_trace(go.Scatter(x=list(range(time_range)), y=I, mode='lines', name='Total Infections'))"
   ]
  },
  {
   "cell_type": "code",
   "execution_count": 50,
   "metadata": {},
   "outputs": [
    {
     "data": {
      "text/plain": [
       "array([    7,    10,    12,    17,    21,    29,    34,    52,    79,\n",
       "         107,   148,   197,   233,   366,   463,   631,   827,  1016,\n",
       "        1266,  1441,  1809,  2158,  2503,  2978,  3405,  4032,  4825,\n",
       "        5476,  6077,  6820,  7503,  8165,  9134, 10023, 10779, 11591,\n",
       "       12428], dtype=int64)"
      ]
     },
     "execution_count": 50,
     "metadata": {},
     "output_type": "execute_result"
    }
   ],
   "source": [
    "y_fit"
   ]
  },
  {
   "cell_type": "code",
   "execution_count": 52,
   "metadata": {},
   "outputs": [
    {
     "data": {
      "text/plain": [
       "array([2.06030000e+04, 2.10156357e+04, 2.43617361e+04, 3.00474845e+04,\n",
       "       3.80185632e+04, 4.85613547e+04, 6.22213813e+04, 7.97860088e+04,\n",
       "       1.02305893e+05, 1.31143739e+05, 1.68046307e+05, 2.15239452e+05,\n",
       "       2.75548036e+05, 3.52543292e+05, 4.50719888e+05, 5.75703192e+05,\n",
       "       7.34483300e+05, 9.35665308e+05, 1.18971337e+06, 1.50914755e+06,\n",
       "       1.90862575e+06, 2.40480691e+06, 3.01585054e+06, 3.76036904e+06,\n",
       "       4.65563624e+06, 5.71490191e+06, 6.94381419e+06, 8.33624505e+06,\n",
       "       9.87023591e+06, 1.15052147e+07, 1.31818451e+07, 1.48255753e+07,\n",
       "       1.63540303e+07, 1.76870768e+07, 1.87572734e+07, 1.95181268e+07,\n",
       "       1.99483079e+07, 2.00513501e+07, 1.98516760e+07, 1.93885343e+07,\n",
       "       1.87094775e+07, 1.78645839e+07, 1.69020542e+07, 1.58653228e+07,\n",
       "       1.47915121e+07, 1.37109225e+07, 1.26472271e+07, 1.16180911e+07,\n",
       "       1.06359979e+07, 9.70913444e+06, 8.84224396e+06, 8.03739431e+06,\n",
       "       7.29463943e+06, 6.61256952e+06, 5.98875599e+06, 5.42010244e+06,\n",
       "       4.90311538e+06, 4.43410819e+06, 4.00935089e+06, 3.62517708e+06,\n",
       "       3.27805719e+06, 2.96464616e+06, 2.68181166e+06, 2.42664809e+06,\n",
       "       2.19648023e+06, 1.98885962e+06, 1.80155606e+06, 1.63254591e+06,\n",
       "       1.47999864e+06, 1.34226243e+06, 1.21784956e+06, 1.10542210e+06,\n",
       "       1.00377817e+06, 9.11838939e+05, 8.28636547e+05, 7.53302953e+05,\n",
       "       6.85059718e+05, 6.23208722e+05, 5.67123755e+05, 5.16242936e+05,\n",
       "       4.70061900e+05, 4.28127698e+05, 3.90033325e+05, 3.55412848e+05,\n",
       "       3.23937052e+05, 2.95309553e+05, 2.69263350e+05, 2.45557740e+05,\n",
       "       2.23975575e+05, 2.04320825e+05, 1.86416399e+05, 1.70102205e+05,\n",
       "       1.55233426e+05, 1.41678975e+05, 1.29320119e+05, 1.18049252e+05,\n",
       "       1.07768791e+05, 9.83901986e+04, 8.98330985e+04, 8.20244871e+04,\n",
       "       7.48980264e+04, 6.83934075e+04, 6.24557794e+04, 5.70352356e+04,\n",
       "       5.20863510e+04, 4.75677653e+04, 4.34418068e+04, 3.96741532e+04,\n",
       "       3.62335251e+04, 3.30914088e+04, 3.02218053e+04, 2.76010037e+04,\n",
       "       2.52073753e+04, 2.30211870e+04, 2.10244323e+04, 1.92006777e+04,\n",
       "       1.75349230e+04, 1.60134750e+04, 1.46238317e+04, 1.33545781e+04,\n",
       "       1.21952903e+04, 1.11364489e+04, 1.01693599e+04, 9.28608267e+03,\n",
       "       8.47936418e+03, 7.74257933e+03, 7.06967625e+03, 6.45512657e+03,\n",
       "       5.89388001e+03, 5.38132293e+03, 4.91324055e+03, 4.48578239e+03,\n",
       "       4.09543082e+03, 3.73897220e+03, 3.41347071e+03, 3.11624427e+03,\n",
       "       2.84484267e+03, 2.59702754e+03, 2.37075405e+03, 2.16415422e+03,\n",
       "       1.97552163e+03, 1.80329750e+03, 1.64605794e+03, 1.50250228e+03,\n",
       "       1.37144247e+03, 1.25179331e+03, 1.14256363e+03, 1.04284810e+03,\n",
       "       9.51819859e+02, 8.68723710e+02, 7.92869942e+02, 7.23628661e+02,\n",
       "       6.60424616e+02, 6.02732476e+02, 5.50072506e+02, 5.02006626e+02,\n",
       "       4.58134801e+02, 4.18091746e+02, 3.81543919e+02, 3.48186768e+02,\n",
       "       3.17742218e+02, 2.89956377e+02, 2.64597437e+02, 2.41453760e+02,\n",
       "       2.20332124e+02, 2.01056129e+02, 1.83464734e+02, 1.67410923e+02,\n",
       "       1.52760485e+02, 1.39390904e+02, 1.27190343e+02, 1.16056710e+02,\n",
       "       1.05896817e+02, 9.66255999e+01, 8.81654157e+01, 8.04453942e+01,\n",
       "       7.34008490e+01, 6.69727389e+01, 6.11071762e+01, 5.57549776e+01,\n",
       "       5.08712544e+01, 4.64150381e+01, 4.23489385e+01, 3.86388315e+01,\n",
       "       3.52535749e+01, 3.21647476e+01, 2.93464124e+01, 2.67748992e+01,\n",
       "       2.44286074e+01, 2.22878247e+01, 2.03345625e+01, 1.85524054e+01,\n",
       "       1.69263739e+01, 1.54427985e+01, 1.40892059e+01, 1.28542138e+01,\n",
       "       1.17274360e+01, 1.06993952e+01, 9.76144347e+00, 8.90568989e+00,\n",
       "       8.12493419e+00, 7.41260644e+00, 6.76271191e+00, 6.16978071e+00,\n",
       "       5.62882194e+00, 5.13528173e+00, 4.68500502e+00, 4.27420067e+00,\n",
       "       3.89940956e+00, 3.55747560e+00, 3.24551915e+00, 2.96091284e+00,\n",
       "       2.70125948e+00, 2.46437189e+00, 2.24825457e+00, 2.05108682e+00,\n",
       "       1.87120752e+00, 1.70710108e+00, 1.55738477e+00, 1.42079702e+00,\n",
       "       1.29618681e+00, 1.18250403e+00, 1.07879061e+00, 9.84172444e-01,\n",
       "       8.97852049e-01, 8.19101842e-01, 7.47258055e-01, 6.81715074e-01,\n",
       "       6.21920394e-01, 5.67369939e-01, 5.17603835e-01, 4.72202524e-01,\n",
       "       4.30783234e-01, 3.92996758e-01, 3.58524500e-01, 3.27075806e-01,\n",
       "       2.98385506e-01, 2.72211686e-01, 2.48333638e-01, 2.26550014e-01,\n",
       "       2.06677120e-01, 1.88547373e-01, 1.72007886e-01, 1.56919179e-01,\n",
       "       1.43154006e-01, 1.30596268e-01, 1.19140067e-01, 1.08688790e-01,\n",
       "       9.91542918e-02, 9.04561544e-02, 8.25210170e-02, 7.52819538e-02,\n",
       "       6.86779076e-02, 6.26531765e-02, 5.71569418e-02, 5.21428507e-02,\n",
       "       4.75686069e-02, 4.33956306e-02, 3.95887191e-02, 3.61157648e-02,\n",
       "       3.29474696e-02, 3.00571118e-02, 2.74203076e-02, 2.50148170e-02,\n",
       "       2.28203471e-02, 2.08183878e-02, 1.89920508e-02, 1.73259305e-02,\n",
       "       1.58059715e-02, 1.44193547e-02, 1.31543818e-02, 1.20003783e-02,\n",
       "       1.09476121e-02, 9.98720022e-03, 9.11104241e-03, 8.31174730e-03,\n",
       "       7.58257243e-03, 6.91736602e-03, 6.31051605e-03, 5.75690352e-03,\n",
       "       5.25185839e-03, 4.79112003e-03, 4.37080130e-03, 3.98735642e-03,\n",
       "       3.63754993e-03, 3.31843157e-03, 3.02730879e-03, 2.76172580e-03,\n",
       "       2.51944202e-03, 2.29841345e-03, 2.09677544e-03, 1.91282688e-03,\n",
       "       1.74501591e-03, 1.59192682e-03, 1.45226807e-03, 1.32486142e-03,\n",
       "       1.20863206e-03, 1.10259918e-03, 1.00586807e-03, 9.17623007e-04])"
      ]
     },
     "execution_count": 52,
     "metadata": {},
     "output_type": "execute_result"
    }
   ],
   "source": [
    "cases['I']"
   ]
  },
  {
   "cell_type": "code",
   "execution_count": null,
   "metadata": {},
   "outputs": [],
   "source": []
  }
 ],
 "metadata": {
  "hide_input": false,
  "kernelspec": {
   "display_name": "Python 3",
   "language": "python",
   "name": "python3"
  },
  "language_info": {
   "codemirror_mode": {
    "name": "ipython",
    "version": 3
   },
   "file_extension": ".py",
   "mimetype": "text/x-python",
   "name": "python",
   "nbconvert_exporter": "python",
   "pygments_lexer": "ipython3",
   "version": "3.7.6"
  },
  "toc": {
   "base_numbering": 1,
   "nav_menu": {},
   "number_sections": true,
   "sideBar": true,
   "skip_h1_title": false,
   "title_cell": "Table of Contents",
   "title_sidebar": "Contents",
   "toc_cell": false,
   "toc_position": {},
   "toc_section_display": true,
   "toc_window_display": false
  },
  "varInspector": {
   "cols": {
    "lenName": 16,
    "lenType": 16,
    "lenVar": 40
   },
   "kernels_config": {
    "python": {
     "delete_cmd_postfix": "",
     "delete_cmd_prefix": "del ",
     "library": "var_list.py",
     "varRefreshCmd": "print(var_dic_list())"
    },
    "r": {
     "delete_cmd_postfix": ") ",
     "delete_cmd_prefix": "rm(",
     "library": "var_list.r",
     "varRefreshCmd": "cat(var_dic_list()) "
    }
   },
   "types_to_exclude": [
    "module",
    "function",
    "builtin_function_or_method",
    "instance",
    "_Feature"
   ],
   "window_display": false
  }
 },
 "nbformat": 4,
 "nbformat_minor": 4
}
