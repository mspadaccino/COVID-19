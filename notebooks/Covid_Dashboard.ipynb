{
 "cells": [
  {
   "cell_type": "code",
   "execution_count": 21,
   "metadata": {},
   "outputs": [
    {
     "name": "stdout",
     "output_type": "stream",
     "text": [
      "The autoreload extension is already loaded. To reload it, use:\n",
      "  %reload_ext autoreload\n"
     ]
    }
   ],
   "source": [
    "%load_ext autoreload\n",
    "%autoreload 2\n",
    "import sys\n",
    "import os\n",
    "import time\n",
    "import types\n",
    "sys.path.append('../')\n",
    "import pandas as pd\n",
    "import numpy as np\n",
    "import ipywidgets as widgets\n",
    "from ipywidgets import interact, interactive\n",
    "from traitlets import traitlets\n",
    "import matplotlib.pyplot as plt\n",
    "from fbprophet import Prophet\n",
    "import yaml\n",
    "from src.data_downloader import DATA_REPOS, download_from_repo, get_dataframes\n",
    "import plotly.graph_objects as go\n",
    "from plotly.graph_objs import Layout\n",
    "from plotly.subplots import make_subplots\n",
    "import plotly.express as px\n",
    "from IPython.display import display, clear_output\n",
    "with open(\"columns_names.yaml\", 'r') as stream:\n",
    "    out = yaml.load(stream)\n",
    "    orig_data_columns = out['LABELS']['orig_data_columns']\n",
    "    trend_labels = out['LABELS']['trend_labels']\n",
    "import warnings\n",
    "warnings.filterwarnings('ignore')\n",
    "dest='../data'"
   ]
  },
  {
   "cell_type": "code",
   "execution_count": 2,
   "metadata": {},
   "outputs": [],
   "source": [
    "# first, set the main page as a Tab container\n",
    "main_tab = widgets.Tab()\n",
    "main_tab.children=[]"
   ]
  },
  {
   "cell_type": "code",
   "execution_count": 3,
   "metadata": {},
   "outputs": [],
   "source": [
    "# first tab is for data download\n",
    "\n",
    "main_tab.set_title(0, 'Italy')\n",
    "download_tab = widgets.VBox()\n",
    "\n",
    "download_out = widgets.Output(layout={'border': '1px solid black'})\n",
    "\n",
    "@download_out.on_displayed\n",
    "def check_creation_date(b=None):\n",
    "    file1 = 'dpc-covid19-ita-regioni.csv'\n",
    "    file2 = 'time_series_covid19_confirmed_global.csv'\n",
    "    file_path1 = os.path.join(dest,file1)\n",
    "    file_path2 = os.path.join(dest,file2)\n",
    "    (mode, ino, dev, nlink, uid, gid, size, atime, mtime1, ctime) = os.stat(file_path1)\n",
    "    (mode, ino, dev, nlink, uid, gid, size, atime, mtime2, ctime) = os.stat(file_path2)\n",
    "    download_out.append_display_data(\"{} last modified: {}\".format(file1, time.ctime(mtime1)))\n",
    "    download_out.append_display_data(\"{} last modified: {}\".format(file2, time.ctime(mtime2)))\n",
    "    \n",
    "\n",
    "update_button = widgets.Button(description='Update data from repos')\n",
    "@update_button.on_click\n",
    "def update_repo(b=None):\n",
    "    download_out.append_display_data('downloading Italian data')\n",
    "    download_from_repo(DATA_REPOS['italy']['url'], filenames=DATA_REPOS['italy']['streams'], dest=dest)\n",
    "    download_out.append_display_data('downloading world data')\n",
    "    download_from_repo(DATA_REPOS['world']['url'], filenames=DATA_REPOS['world']['streams'], dest=dest)  \n",
    "    df_naz, reg, prov, df_reg, df_prov, df_world_confirmed, df_world_deaths, df_world_recovered, populations, ita_populations, df_comuni_sett = get_dataframes(dest, npt_rth=5, smooth=True)\n",
    "\n",
    "\n",
    "download_tab.children = [widgets.HBox(children=[download_out, update_button])]"
   ]
  },
  {
   "cell_type": "code",
   "execution_count": 4,
   "metadata": {},
   "outputs": [],
   "source": [
    "with download_out:\n",
    "    df_naz, reg, prov, df_reg, df_prov, df_world_confirmed, df_world_deaths, df_world_recovered, populations, ita_populations, df_comuni_sett = get_dataframes(dest, npt_rth=5, smooth=True)\n",
    "    "
   ]
  },
  {
   "cell_type": "code",
   "execution_count": 5,
   "metadata": {},
   "outputs": [],
   "source": [
    "# second tab for italy\n",
    "main_tab.set_title(1, \"Download\")\n",
    "italy_tab = widgets.Tab()"
   ]
  },
  {
   "cell_type": "code",
   "execution_count": 111,
   "metadata": {},
   "outputs": [],
   "source": [
    "prov_tab = widgets.VBox()\n",
    "italy_tab.set_title(0, 'provinces')\n",
    "\n",
    "province_out = widgets.Output(layout = {\n",
    "            'width': '100%',\n",
    "            'height': '900px',\n",
    "            'border': '1px solid black'\n",
    "        })\n",
    "prov_data_columns = ['totale_casi', 'daily_totale_casi', '%daily_totale_casi', 'growth_factor']\n",
    "\n",
    "label=widgets.Select(options=prov_data_columns)\n",
    "top_prov=widgets.IntSlider(min=1,max=50,step=1,value=20)\n",
    "date=widgets.DatePicker(description='Pick a Date',value=pd.to_datetime(df_prov.index.max()))\n",
    "show_map=widgets.Checkbox(value=True)\n",
    "show_grid=widgets.Checkbox(value=True)\n",
    "\n",
    "def get_top_provinces(label, top_prov,date, show_map, show_grid):    \n",
    "    with province_out:\n",
    "        clear_output()\n",
    "        label = [label]\n",
    "        df_prov.index = pd.to_datetime(df_prov.index)\n",
    "        tempdf = df_prov.loc[str(date)][['sigla_provincia','denominazione_provincia', 'lat', 'long']+ label].sort_values(by=label, \n",
    "             ascending=False)[:top_prov].set_index('sigla_provincia')\n",
    "\n",
    "        if show_map:\n",
    "            fig = px.choropleth(tempdf, \n",
    "                                geojson='https://raw.githubusercontent.com/openpolis/geojson-italy/master/geojson/limits_IT_provinces.geojson', \n",
    "                                locations='denominazione_provincia', \n",
    "                                color=label[0], \n",
    "                                color_continuous_scale='Reds',\n",
    "                                featureidkey='properties.prov_name',                                   \n",
    "                                range_color=(0, max(tempdf[label[0]])))\n",
    "            # fig.update_layout(margin={\"r\": 0, \"t\": 0, \"l\": 0, \"b\": 0})\n",
    "            fig.update_layout(showlegend=True,title='italian provinces',\n",
    "                              paper_bgcolor='rgba(0,0,0,0)',font = dict(color = 'lightgray'),plot_bgcolor='rgba(0,0,0,0)')\n",
    "            fig.update_geos(resolution=50, showcountries=True, countrycolor=\"lightgray\", showland=True, \n",
    "                            landcolor=\"Black\", showsubunits=True, subunitcolor=\"Blue\", showocean=True, oceancolor=\"Black\",)\n",
    "            fig.update_geos(fitbounds=\"locations\", visible=False)\n",
    "            fig.show()            \n",
    "#             fig = px.scatter_mapbox(tempdf, \n",
    "#                         lat='lat', lon='long', color=label[0], size=label[0],\n",
    "#                         labels = label[0],\n",
    "#                         hover_name='denominazione_provincia',\n",
    "#                         zoom=4.5,  height=800,\n",
    "#                         mapbox_style=\"open-street-map\",                        \n",
    "#                         title='top {} provinces on day {} for {}'.format(top_prov, date.strftime(\"%m/%d/%Y\"), label[0]),\n",
    "#                )\n",
    "#             fig.update_layout(paper_bgcolor='rgba(0,0,0,0)',font = dict(color = 'lightgray'))\n",
    "#             fig.show()\n",
    "        else:\n",
    "            fig = px.bar(tempdf[label].reset_index(), x=label[0], y='sigla_provincia', orientation='h')\n",
    "            fig.update_layout(showlegend=True,title='top {} provinces on day {}'.format(top_prov, date.strftime(\"%m/%d/%Y\")),\n",
    "                             paper_bgcolor='rgba(0,0,0,0)',font = dict(color = 'lightgray'),plot_bgcolor='rgba(0,0,0,0)')\n",
    "            fig.update_xaxes(showgrid=show_grid, gridwidth=1, gridcolor='gray')\n",
    "            fig.update_yaxes(showgrid=show_grid, gridwidth=1, gridcolor='gray')\n",
    "\n",
    "            fig.show()\n",
    "\n",
    "        \n",
    "prov_widget = interactive(get_top_provinces,label=widgets.Select(options=prov_data_columns),\n",
    "                            top_prov=widgets.IntSlider(min=1,max=50,step=1,value=20),\n",
    "                            date=widgets.DatePicker(description='Pick a Date',value=pd.to_datetime(df_prov.index.max())),\n",
    "                            show_map=widgets.Checkbox(value=True),\n",
    "                            show_grid=widgets.Checkbox(value=True),\n",
    "                            )\n",
    "prov_box = widgets.HBox(prov_widget.children[:-1], layout = widgets.Layout(flex_flow='row wrap'))\n",
    "prov_tab.children = [prov_box, province_out]"
   ]
  },
  {
   "cell_type": "code",
   "execution_count": 107,
   "metadata": {},
   "outputs": [],
   "source": [
    "regions_tab = widgets.VBox()\n",
    "italy_tab.set_title(1, 'forecast')\n",
    "forecast_out = widgets.Output(layout = {\n",
    "            'width': '100%',\n",
    "            'height': '600px',\n",
    "            'border': '1px solid black'\n",
    "        })\n",
    "\n",
    "def get_forecast(region,start_fit,end_fit,label,forecast_periods,smoothing):\n",
    "    with forecast_out:\n",
    "        clear_output()\n",
    "        df = df_reg[region][label].rolling(smoothing).mean()\n",
    "        y = label\n",
    "        train_data = pd.DataFrame()\n",
    "        train_data['ds']=pd.to_datetime(df.index)\n",
    "        train_data['y']=np.log1p(df.reset_index(drop=True).values)\n",
    "        train_data['floor'] = 0.\n",
    "        m = Prophet(growth='linear', daily_seasonality=True, weekly_seasonality=True, yearly_seasonality=False)\n",
    "        m.fit(train_data.set_index('ds').loc[start_fit:end_fit].reset_index())\n",
    "        future = m.make_future_dataframe(periods=forecast_periods)\n",
    "        future['floor'] = train_data['floor']\n",
    "        forecast = m.predict(future)\n",
    "        forecast['yhat'] = np.expm1(forecast['yhat'])\n",
    "        forecast['yhat_lower'] = np.expm1(forecast['yhat_lower'])\n",
    "        forecast['yhat_upper'] = np.expm1(forecast['yhat_upper'])\n",
    "        train_data['y'] = np.expm1(train_data['y'])\n",
    "        df = pd.merge(left=train_data, right=forecast, on='ds', how='outer').set_index('ds')\n",
    "        df.index = pd.to_datetime(df.index)\n",
    "        fig = go.Figure()\n",
    "        fig.add_trace(go.Scatter(x=df.index, y=df['yhat_lower'],fill=None,mode='lines',line_color='lightgrey',name='confidence_lev_down'))\n",
    "        fig.add_trace(go.Scatter(x=df.index, y=df['yhat_upper'],fill='tonexty',mode='lines',line_color='lightgrey', name='confidence_lev_up'))\n",
    "        fig.add_traces(go.Scatter(x=df.index, y=df['y'], name='{}'.format(y), mode='lines+markers', marker=dict(size=5)))\n",
    "        fig.add_traces(go.Scatter(x=df.loc[start_fit:end_fit].index, y=df['yhat'].loc[start_fit:end_fit], line_color='goldenrod',\n",
    "                                  mode='lines',name='model fit'))\n",
    "        fig.add_traces(go.Scatter(x=df.loc[end_fit:].index, y=df['yhat'].loc[end_fit:], line_color='darkblue', mode='markers',\n",
    "                                  marker=dict(size=2), name='forecast'))\n",
    "        fig.update_layout(title={'text':label.replace('_', ' ') + ' for ' + region, 'xanchor': 'left'})\n",
    "        fig.update_layout(showlegend=True,paper_bgcolor='rgba(0,0,0,0)',font = dict(color = 'lightgray'),\n",
    "                          plot_bgcolor='rgba(0,0,0,0)')\n",
    "        fig.update_xaxes(showgrid=False, gridwidth=1, gridcolor='gray')\n",
    "        fig.update_yaxes(showgrid=False, gridwidth=1, gridcolor='gray')\n",
    "        fig.show()\n",
    "        \n",
    "\n",
    "\n",
    "forecast_widget=interactive(get_forecast,region=widgets.Dropdown(options=df_reg.keys(), value='Italy'), \n",
    "              start_fit=widgets.DatePicker(value=pd.to_datetime(df_naz.index[0])), \n",
    "              end_fit=widgets.DatePicker(value=pd.to_datetime(df_naz.index[-1])), \n",
    "              label = widgets.Dropdown(options=trend_labels, value='nuovi_positivi'),\n",
    "              forecast_periods=50, smoothing=widgets.IntText(1))\n",
    "forecast_box = widgets.HBox(forecast_widget.children[:-1], layout = widgets.Layout(flex_flow='row wrap'))\n",
    "\n",
    "regions_tab.children = [forecast_box, forecast_out]"
   ]
  },
  {
   "cell_type": "code",
   "execution_count": 112,
   "metadata": {},
   "outputs": [],
   "source": [
    "italy_tab.children = [prov_tab, regions_tab]"
   ]
  },
  {
   "cell_type": "code",
   "execution_count": 113,
   "metadata": {},
   "outputs": [],
   "source": [
    "# add all components to main_tab page\n",
    "main_tab.children=[italy_tab, download_tab]"
   ]
  },
  {
   "cell_type": "code",
   "execution_count": 114,
   "metadata": {},
   "outputs": [
    {
     "data": {
      "application/vnd.jupyter.widget-view+json": {
       "model_id": "0bbcac368e8348ad9e3ea20188dfd65c",
       "version_major": 2,
       "version_minor": 0
      },
      "text/plain": [
       "Tab(children=(Tab(children=(VBox(children=(HBox(children=(Select(description='label', options=('totale_casi', …"
      ]
     },
     "metadata": {},
     "output_type": "display_data"
    }
   ],
   "source": [
    "main_tab"
   ]
  },
  {
   "cell_type": "code",
   "execution_count": null,
   "metadata": {},
   "outputs": [],
   "source": []
  }
 ],
 "metadata": {
  "kernelspec": {
   "display_name": "Python 3",
   "language": "python",
   "name": "python3"
  },
  "language_info": {
   "codemirror_mode": {
    "name": "ipython",
    "version": 3
   },
   "file_extension": ".py",
   "mimetype": "text/x-python",
   "name": "python",
   "nbconvert_exporter": "python",
   "pygments_lexer": "ipython3",
   "version": "3.7.6"
  },
  "toc": {
   "base_numbering": 1,
   "nav_menu": {},
   "number_sections": true,
   "sideBar": true,
   "skip_h1_title": false,
   "title_cell": "Table of Contents",
   "title_sidebar": "Contents",
   "toc_cell": false,
   "toc_position": {},
   "toc_section_display": true,
   "toc_window_display": false
  },
  "varInspector": {
   "cols": {
    "lenName": 16,
    "lenType": 16,
    "lenVar": 40
   },
   "kernels_config": {
    "python": {
     "delete_cmd_postfix": "",
     "delete_cmd_prefix": "del ",
     "library": "var_list.py",
     "varRefreshCmd": "print(var_dic_list())"
    },
    "r": {
     "delete_cmd_postfix": ") ",
     "delete_cmd_prefix": "rm(",
     "library": "var_list.r",
     "varRefreshCmd": "cat(var_dic_list()) "
    }
   },
   "types_to_exclude": [
    "module",
    "function",
    "builtin_function_or_method",
    "instance",
    "_Feature"
   ],
   "window_display": false
  }
 },
 "nbformat": 4,
 "nbformat_minor": 4
}
