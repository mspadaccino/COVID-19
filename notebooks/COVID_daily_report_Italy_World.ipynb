{
 "cells": [
  {
   "cell_type": "markdown",
   "metadata": {},
   "source": [
    "# COVID19 evolution analysis"
   ]
  },
  {
   "cell_type": "markdown",
   "metadata": {},
   "source": [
    "#### data loading"
   ]
  },
  {
   "cell_type": "code",
   "execution_count": 17,
   "metadata": {},
   "outputs": [
    {
     "name": "stdout",
     "output_type": "stream",
     "text": [
      "The autoreload extension is already loaded. To reload it, use:\n",
      "  %reload_ext autoreload\n"
     ]
    }
   ],
   "source": [
    "%load_ext autoreload\n",
    "%autoreload 2\n",
    "import pandas as pd\n",
    "import matplotlib.pyplot as plt\n",
    "import matplotlib.dates as mdates\n",
    "import tools\n",
    "import plotly.express as px"
   ]
  },
  {
   "cell_type": "code",
   "execution_count": 18,
   "metadata": {},
   "outputs": [],
   "source": [
    "df_naz = pd.read_csv('../dati-andamento-nazionale/dpc-covid19-ita-andamento-nazionale.csv').drop('stato',1)\n",
    "reg = pd.read_csv('../dati-regioni/dpc-covid19-ita-regioni.csv')\n",
    "prov = pd.read_csv('../dati-province/dpc-covid19-ita-province.csv').drop('stato',1)\n",
    "df_world_confirmed = pd.read_csv('../JohnHopkins_repo/COVID-19/csse_covid_19_data/csse_covid_19_time_series/time_series_19-covid-Confirmed.csv')\n",
    "df_world_deaths = pd.read_csv('../JohnHopkins_repo/COVID-19/csse_covid_19_data/csse_covid_19_time_series/time_series_19-covid-Deaths.csv')\n",
    "df_world_recovered = pd.read_csv('../JohnHopkins_repo/COVID-19/csse_covid_19_data/csse_covid_19_time_series/time_series_19-covid-Recovered.csv')\n",
    "df_naz = tools.add_extra_features(df_naz)\n",
    "regions = reg.groupby('denominazione_regione')\n",
    "df_reg = {}\n",
    "for item in regions.groups:\n",
    "    df_reg[item] = tools.add_extra_features(regions.get_group(item)).replace((np.inf, np.nan), 0)\n",
    "provinces = prov.groupby('sigla_provincia')\n",
    "df_prov = pd.DataFrame()\n",
    "for item in provinces.groups:\n",
    "    df_prov = pd.concat((df_prov,tools.add_extra_features(provinces.get_group(item)).replace((np.inf, np.nan), 0)),0)"
   ]
  },
  {
   "cell_type": "code",
   "execution_count": 19,
   "metadata": {},
   "outputs": [
    {
     "data": {
      "text/html": [
       "<div>\n",
       "<style scoped>\n",
       "    .dataframe tbody tr th:only-of-type {\n",
       "        vertical-align: middle;\n",
       "    }\n",
       "\n",
       "    .dataframe tbody tr th {\n",
       "        vertical-align: top;\n",
       "    }\n",
       "\n",
       "    .dataframe thead th {\n",
       "        text-align: right;\n",
       "    }\n",
       "</style>\n",
       "<table border=\"1\" class=\"dataframe\">\n",
       "  <thead>\n",
       "    <tr style=\"text-align: right;\">\n",
       "      <th></th>\n",
       "      <th>codice_regione</th>\n",
       "      <th>denominazione_regione</th>\n",
       "      <th>codice_provincia</th>\n",
       "      <th>denominazione_provincia</th>\n",
       "      <th>sigla_provincia</th>\n",
       "      <th>lat</th>\n",
       "      <th>long</th>\n",
       "      <th>totale_casi</th>\n",
       "      <th>delta_totale_casi</th>\n",
       "      <th>%delta_totale_casi</th>\n",
       "      <th>growth_factor</th>\n",
       "    </tr>\n",
       "    <tr>\n",
       "      <th>data</th>\n",
       "      <th></th>\n",
       "      <th></th>\n",
       "      <th></th>\n",
       "      <th></th>\n",
       "      <th></th>\n",
       "      <th></th>\n",
       "      <th></th>\n",
       "      <th></th>\n",
       "      <th></th>\n",
       "      <th></th>\n",
       "      <th></th>\n",
       "    </tr>\n",
       "  </thead>\n",
       "  <tbody>\n",
       "    <tr>\n",
       "      <th>03/16/2020</th>\n",
       "      <td>19</td>\n",
       "      <td>Sicilia</td>\n",
       "      <td>84</td>\n",
       "      <td>Agrigento</td>\n",
       "      <td>AG</td>\n",
       "      <td>37.309711</td>\n",
       "      <td>13.584575</td>\n",
       "      <td>22</td>\n",
       "      <td>2.0</td>\n",
       "      <td>0.100000</td>\n",
       "      <td>0.666667</td>\n",
       "    </tr>\n",
       "    <tr>\n",
       "      <th>03/16/2020</th>\n",
       "      <td>1</td>\n",
       "      <td>Piemonte</td>\n",
       "      <td>6</td>\n",
       "      <td>Alessandria</td>\n",
       "      <td>AL</td>\n",
       "      <td>44.912974</td>\n",
       "      <td>8.615401</td>\n",
       "      <td>273</td>\n",
       "      <td>66.0</td>\n",
       "      <td>0.318841</td>\n",
       "      <td>2.640000</td>\n",
       "    </tr>\n",
       "    <tr>\n",
       "      <th>03/16/2020</th>\n",
       "      <td>11</td>\n",
       "      <td>Marche</td>\n",
       "      <td>42</td>\n",
       "      <td>Ancona</td>\n",
       "      <td>AN</td>\n",
       "      <td>43.616760</td>\n",
       "      <td>13.518875</td>\n",
       "      <td>323</td>\n",
       "      <td>56.0</td>\n",
       "      <td>0.209738</td>\n",
       "      <td>1.076923</td>\n",
       "    </tr>\n",
       "    <tr>\n",
       "      <th>03/16/2020</th>\n",
       "      <td>2</td>\n",
       "      <td>Valle d'Aosta</td>\n",
       "      <td>7</td>\n",
       "      <td>Aosta</td>\n",
       "      <td>AO</td>\n",
       "      <td>45.737503</td>\n",
       "      <td>7.320149</td>\n",
       "      <td>105</td>\n",
       "      <td>48.0</td>\n",
       "      <td>0.842105</td>\n",
       "      <td>3.200000</td>\n",
       "    </tr>\n",
       "    <tr>\n",
       "      <th>03/16/2020</th>\n",
       "      <td>11</td>\n",
       "      <td>Marche</td>\n",
       "      <td>44</td>\n",
       "      <td>Ascoli Piceno</td>\n",
       "      <td>AP</td>\n",
       "      <td>42.853223</td>\n",
       "      <td>13.576911</td>\n",
       "      <td>21</td>\n",
       "      <td>7.0</td>\n",
       "      <td>0.500000</td>\n",
       "      <td>1.000000</td>\n",
       "    </tr>\n",
       "    <tr>\n",
       "      <th>...</th>\n",
       "      <td>...</td>\n",
       "      <td>...</td>\n",
       "      <td>...</td>\n",
       "      <td>...</td>\n",
       "      <td>...</td>\n",
       "      <td>...</td>\n",
       "      <td>...</td>\n",
       "      <td>...</td>\n",
       "      <td>...</td>\n",
       "      <td>...</td>\n",
       "      <td>...</td>\n",
       "    </tr>\n",
       "    <tr>\n",
       "      <th>03/16/2020</th>\n",
       "      <td>5</td>\n",
       "      <td>Veneto</td>\n",
       "      <td>27</td>\n",
       "      <td>Venezia</td>\n",
       "      <td>VE</td>\n",
       "      <td>45.434905</td>\n",
       "      <td>12.338452</td>\n",
       "      <td>356</td>\n",
       "      <td>28.0</td>\n",
       "      <td>0.085366</td>\n",
       "      <td>0.608696</td>\n",
       "    </tr>\n",
       "    <tr>\n",
       "      <th>03/16/2020</th>\n",
       "      <td>5</td>\n",
       "      <td>Veneto</td>\n",
       "      <td>24</td>\n",
       "      <td>Vicenza</td>\n",
       "      <td>VI</td>\n",
       "      <td>45.547497</td>\n",
       "      <td>11.545971</td>\n",
       "      <td>287</td>\n",
       "      <td>52.0</td>\n",
       "      <td>0.221277</td>\n",
       "      <td>0.732394</td>\n",
       "    </tr>\n",
       "    <tr>\n",
       "      <th>03/16/2020</th>\n",
       "      <td>5</td>\n",
       "      <td>Veneto</td>\n",
       "      <td>23</td>\n",
       "      <td>Verona</td>\n",
       "      <td>VR</td>\n",
       "      <td>45.438390</td>\n",
       "      <td>10.993527</td>\n",
       "      <td>425</td>\n",
       "      <td>90.0</td>\n",
       "      <td>0.268657</td>\n",
       "      <td>1.500000</td>\n",
       "    </tr>\n",
       "    <tr>\n",
       "      <th>03/16/2020</th>\n",
       "      <td>12</td>\n",
       "      <td>Lazio</td>\n",
       "      <td>56</td>\n",
       "      <td>Viterbo</td>\n",
       "      <td>VT</td>\n",
       "      <td>42.417383</td>\n",
       "      <td>12.104734</td>\n",
       "      <td>27</td>\n",
       "      <td>12.0</td>\n",
       "      <td>0.800000</td>\n",
       "      <td>6.000000</td>\n",
       "    </tr>\n",
       "    <tr>\n",
       "      <th>03/16/2020</th>\n",
       "      <td>18</td>\n",
       "      <td>Calabria</td>\n",
       "      <td>102</td>\n",
       "      <td>Vibo Valentia</td>\n",
       "      <td>VV</td>\n",
       "      <td>38.676241</td>\n",
       "      <td>16.101574</td>\n",
       "      <td>6</td>\n",
       "      <td>0.0</td>\n",
       "      <td>0.000000</td>\n",
       "      <td>-0.000000</td>\n",
       "    </tr>\n",
       "  </tbody>\n",
       "</table>\n",
       "<p>106 rows × 11 columns</p>\n",
       "</div>"
      ],
      "text/plain": [
       "            codice_regione denominazione_regione  codice_provincia  \\\n",
       "data                                                                 \n",
       "03/16/2020              19               Sicilia                84   \n",
       "03/16/2020               1              Piemonte                 6   \n",
       "03/16/2020              11                Marche                42   \n",
       "03/16/2020               2         Valle d'Aosta                 7   \n",
       "03/16/2020              11                Marche                44   \n",
       "...                    ...                   ...               ...   \n",
       "03/16/2020               5                Veneto                27   \n",
       "03/16/2020               5                Veneto                24   \n",
       "03/16/2020               5                Veneto                23   \n",
       "03/16/2020              12                 Lazio                56   \n",
       "03/16/2020              18              Calabria               102   \n",
       "\n",
       "           denominazione_provincia sigla_provincia        lat       long  \\\n",
       "data                                                                       \n",
       "03/16/2020               Agrigento              AG  37.309711  13.584575   \n",
       "03/16/2020             Alessandria              AL  44.912974   8.615401   \n",
       "03/16/2020                  Ancona              AN  43.616760  13.518875   \n",
       "03/16/2020                   Aosta              AO  45.737503   7.320149   \n",
       "03/16/2020           Ascoli Piceno              AP  42.853223  13.576911   \n",
       "...                            ...             ...        ...        ...   \n",
       "03/16/2020                 Venezia              VE  45.434905  12.338452   \n",
       "03/16/2020                 Vicenza              VI  45.547497  11.545971   \n",
       "03/16/2020                  Verona              VR  45.438390  10.993527   \n",
       "03/16/2020                 Viterbo              VT  42.417383  12.104734   \n",
       "03/16/2020           Vibo Valentia              VV  38.676241  16.101574   \n",
       "\n",
       "            totale_casi  delta_totale_casi  %delta_totale_casi  growth_factor  \n",
       "data                                                                           \n",
       "03/16/2020           22                2.0            0.100000       0.666667  \n",
       "03/16/2020          273               66.0            0.318841       2.640000  \n",
       "03/16/2020          323               56.0            0.209738       1.076923  \n",
       "03/16/2020          105               48.0            0.842105       3.200000  \n",
       "03/16/2020           21                7.0            0.500000       1.000000  \n",
       "...                 ...                ...                 ...            ...  \n",
       "03/16/2020          356               28.0            0.085366       0.608696  \n",
       "03/16/2020          287               52.0            0.221277       0.732394  \n",
       "03/16/2020          425               90.0            0.268657       1.500000  \n",
       "03/16/2020           27               12.0            0.800000       6.000000  \n",
       "03/16/2020            6                0.0            0.000000      -0.000000  \n",
       "\n",
       "[106 rows x 11 columns]"
      ]
     },
     "execution_count": 19,
     "metadata": {},
     "output_type": "execute_result"
    }
   ],
   "source": [
    "df_prov[df_prov.index==df_prov.index.max()]"
   ]
  },
  {
   "cell_type": "markdown",
   "metadata": {},
   "source": [
    "## Italy"
   ]
  },
  {
   "cell_type": "markdown",
   "metadata": {},
   "source": [
    "### diffusion heatmap for provinces"
   ]
  },
  {
   "cell_type": "code",
   "execution_count": 20,
   "metadata": {},
   "outputs": [
    {
     "data": {
      "text/html": [
       "<div>\n",
       "<style scoped>\n",
       "    .dataframe tbody tr th:only-of-type {\n",
       "        vertical-align: middle;\n",
       "    }\n",
       "\n",
       "    .dataframe tbody tr th {\n",
       "        vertical-align: top;\n",
       "    }\n",
       "\n",
       "    .dataframe thead th {\n",
       "        text-align: right;\n",
       "    }\n",
       "</style>\n",
       "<table border=\"1\" class=\"dataframe\">\n",
       "  <thead>\n",
       "    <tr style=\"text-align: right;\">\n",
       "      <th></th>\n",
       "      <th>data</th>\n",
       "      <th>codice_regione</th>\n",
       "      <th>denominazione_regione</th>\n",
       "      <th>codice_provincia</th>\n",
       "      <th>denominazione_provincia</th>\n",
       "      <th>sigla_provincia</th>\n",
       "      <th>lat</th>\n",
       "      <th>long</th>\n",
       "      <th>totale_casi</th>\n",
       "    </tr>\n",
       "  </thead>\n",
       "  <tbody>\n",
       "    <tr>\n",
       "      <th>2560</th>\n",
       "      <td>2020-03-15 17:00:00</td>\n",
       "      <td>13</td>\n",
       "      <td>Abruzzo</td>\n",
       "      <td>69</td>\n",
       "      <td>Chieti</td>\n",
       "      <td>CH</td>\n",
       "      <td>42.351032</td>\n",
       "      <td>14.167546</td>\n",
       "      <td>30</td>\n",
       "    </tr>\n",
       "    <tr>\n",
       "      <th>2561</th>\n",
       "      <td>2020-03-15 17:00:00</td>\n",
       "      <td>13</td>\n",
       "      <td>Abruzzo</td>\n",
       "      <td>66</td>\n",
       "      <td>L'Aquila</td>\n",
       "      <td>AQ</td>\n",
       "      <td>42.351222</td>\n",
       "      <td>13.398438</td>\n",
       "      <td>15</td>\n",
       "    </tr>\n",
       "    <tr>\n",
       "      <th>2562</th>\n",
       "      <td>2020-03-15 17:00:00</td>\n",
       "      <td>13</td>\n",
       "      <td>Abruzzo</td>\n",
       "      <td>68</td>\n",
       "      <td>Pescara</td>\n",
       "      <td>PE</td>\n",
       "      <td>42.464584</td>\n",
       "      <td>14.213648</td>\n",
       "      <td>82</td>\n",
       "    </tr>\n",
       "    <tr>\n",
       "      <th>2563</th>\n",
       "      <td>2020-03-15 17:00:00</td>\n",
       "      <td>13</td>\n",
       "      <td>Abruzzo</td>\n",
       "      <td>67</td>\n",
       "      <td>Teramo</td>\n",
       "      <td>TE</td>\n",
       "      <td>42.658918</td>\n",
       "      <td>13.704400</td>\n",
       "      <td>10</td>\n",
       "    </tr>\n",
       "    <tr>\n",
       "      <th>2564</th>\n",
       "      <td>2020-03-15 17:00:00</td>\n",
       "      <td>13</td>\n",
       "      <td>Abruzzo</td>\n",
       "      <td>979</td>\n",
       "      <td>In fase di definizione/aggiornamento</td>\n",
       "      <td>NaN</td>\n",
       "      <td>0.000000</td>\n",
       "      <td>0.000000</td>\n",
       "      <td>0</td>\n",
       "    </tr>\n",
       "    <tr>\n",
       "      <th>...</th>\n",
       "      <td>...</td>\n",
       "      <td>...</td>\n",
       "      <td>...</td>\n",
       "      <td>...</td>\n",
       "      <td>...</td>\n",
       "      <td>...</td>\n",
       "      <td>...</td>\n",
       "      <td>...</td>\n",
       "      <td>...</td>\n",
       "    </tr>\n",
       "    <tr>\n",
       "      <th>2683</th>\n",
       "      <td>2020-03-15 17:00:00</td>\n",
       "      <td>5</td>\n",
       "      <td>Veneto</td>\n",
       "      <td>26</td>\n",
       "      <td>Treviso</td>\n",
       "      <td>TV</td>\n",
       "      <td>45.667546</td>\n",
       "      <td>12.245074</td>\n",
       "      <td>413</td>\n",
       "    </tr>\n",
       "    <tr>\n",
       "      <th>2684</th>\n",
       "      <td>2020-03-15 17:00:00</td>\n",
       "      <td>5</td>\n",
       "      <td>Veneto</td>\n",
       "      <td>27</td>\n",
       "      <td>Venezia</td>\n",
       "      <td>VE</td>\n",
       "      <td>45.434905</td>\n",
       "      <td>12.338452</td>\n",
       "      <td>328</td>\n",
       "    </tr>\n",
       "    <tr>\n",
       "      <th>2685</th>\n",
       "      <td>2020-03-15 17:00:00</td>\n",
       "      <td>5</td>\n",
       "      <td>Veneto</td>\n",
       "      <td>23</td>\n",
       "      <td>Verona</td>\n",
       "      <td>VR</td>\n",
       "      <td>45.438390</td>\n",
       "      <td>10.993527</td>\n",
       "      <td>335</td>\n",
       "    </tr>\n",
       "    <tr>\n",
       "      <th>2686</th>\n",
       "      <td>2020-03-15 17:00:00</td>\n",
       "      <td>5</td>\n",
       "      <td>Veneto</td>\n",
       "      <td>24</td>\n",
       "      <td>Vicenza</td>\n",
       "      <td>VI</td>\n",
       "      <td>45.547497</td>\n",
       "      <td>11.545971</td>\n",
       "      <td>235</td>\n",
       "    </tr>\n",
       "    <tr>\n",
       "      <th>2687</th>\n",
       "      <td>2020-03-15 17:00:00</td>\n",
       "      <td>5</td>\n",
       "      <td>Veneto</td>\n",
       "      <td>999</td>\n",
       "      <td>In fase di definizione/aggiornamento</td>\n",
       "      <td>NaN</td>\n",
       "      <td>0.000000</td>\n",
       "      <td>0.000000</td>\n",
       "      <td>94</td>\n",
       "    </tr>\n",
       "  </tbody>\n",
       "</table>\n",
       "<p>128 rows × 9 columns</p>\n",
       "</div>"
      ],
      "text/plain": [
       "                     data  codice_regione denominazione_regione  \\\n",
       "2560  2020-03-15 17:00:00              13               Abruzzo   \n",
       "2561  2020-03-15 17:00:00              13               Abruzzo   \n",
       "2562  2020-03-15 17:00:00              13               Abruzzo   \n",
       "2563  2020-03-15 17:00:00              13               Abruzzo   \n",
       "2564  2020-03-15 17:00:00              13               Abruzzo   \n",
       "...                   ...             ...                   ...   \n",
       "2683  2020-03-15 17:00:00               5                Veneto   \n",
       "2684  2020-03-15 17:00:00               5                Veneto   \n",
       "2685  2020-03-15 17:00:00               5                Veneto   \n",
       "2686  2020-03-15 17:00:00               5                Veneto   \n",
       "2687  2020-03-15 17:00:00               5                Veneto   \n",
       "\n",
       "      codice_provincia               denominazione_provincia sigla_provincia  \\\n",
       "2560                69                                Chieti              CH   \n",
       "2561                66                              L'Aquila              AQ   \n",
       "2562                68                               Pescara              PE   \n",
       "2563                67                                Teramo              TE   \n",
       "2564               979  In fase di definizione/aggiornamento             NaN   \n",
       "...                ...                                   ...             ...   \n",
       "2683                26                               Treviso              TV   \n",
       "2684                27                               Venezia              VE   \n",
       "2685                23                                Verona              VR   \n",
       "2686                24                               Vicenza              VI   \n",
       "2687               999  In fase di definizione/aggiornamento             NaN   \n",
       "\n",
       "            lat       long  totale_casi  \n",
       "2560  42.351032  14.167546           30  \n",
       "2561  42.351222  13.398438           15  \n",
       "2562  42.464584  14.213648           82  \n",
       "2563  42.658918  13.704400           10  \n",
       "2564   0.000000   0.000000            0  \n",
       "...         ...        ...          ...  \n",
       "2683  45.667546  12.245074          413  \n",
       "2684  45.434905  12.338452          328  \n",
       "2685  45.438390  10.993527          335  \n",
       "2686  45.547497  11.545971          235  \n",
       "2687   0.000000   0.000000           94  \n",
       "\n",
       "[128 rows x 9 columns]"
      ]
     },
     "execution_count": 20,
     "metadata": {},
     "output_type": "execute_result"
    }
   ],
   "source": [
    "prov.groupby('data').get_group('2020-03-15 17:00:00')"
   ]
  },
  {
   "cell_type": "code",
   "execution_count": 21,
   "metadata": {},
   "outputs": [
    {
     "data": {
      "application/vnd.plotly.v1+json": {
       "config": {
        "plotlyServerURL": "https://plot.ly"
       },
       "data": [
        {
         "coloraxis": "coloraxis",
         "hoverlabel": {
          "namelength": 0
         },
         "hovertemplate": "<b>%{hovertext}</b><br><br>totale_casi=%{z}<br>lat=%{lat}<br>long=%{lon}",
         "hovertext": [
          "Chieti",
          "L'Aquila",
          "Pescara",
          "Teramo",
          "In fase di definizione/aggiornamento",
          "Matera",
          "Potenza",
          "In fase di definizione/aggiornamento",
          "Bolzano",
          "In fase di definizione/aggiornamento",
          "Catanzaro",
          "Cosenza",
          "Crotone",
          "Reggio di Calabria",
          "Vibo Valentia",
          "In fase di definizione/aggiornamento",
          "Avellino",
          "Benevento",
          "Caserta",
          "Napoli",
          "Salerno",
          "In fase di definizione/aggiornamento",
          "Bologna",
          "Ferrara",
          "Forlì-Cesena",
          "Modena",
          "Parma",
          "Piacenza",
          "Ravenna",
          "Reggio nell'Emilia",
          "Rimini",
          "In fase di definizione/aggiornamento",
          "Gorizia",
          "Pordenone",
          "Trieste",
          "Udine",
          "In fase di definizione/aggiornamento",
          "Frosinone",
          "Latina",
          "Rieti",
          "Roma",
          "Viterbo",
          "In fase di definizione/aggiornamento",
          "Genova",
          "Imperia",
          "La Spezia",
          "Savona",
          "In fase di definizione/aggiornamento",
          "Bergamo",
          "Brescia",
          "Como",
          "Cremona",
          "Lecco",
          "Lodi",
          "Mantova",
          "Milano",
          "Monza e della Brianza",
          "Pavia",
          "Sondrio",
          "Varese",
          "In fase di definizione/aggiornamento",
          "Ancona",
          "Ascoli Piceno",
          "Fermo",
          "Macerata",
          "Pesaro e Urbino",
          "In fase di definizione/aggiornamento",
          "Campobasso",
          "Isernia",
          "In fase di definizione/aggiornamento",
          "Alessandria",
          "Asti",
          "Biella",
          "Cuneo",
          "Novara",
          "Torino",
          "Verbano-Cusio-Ossola",
          "Vercelli",
          "In fase di definizione/aggiornamento",
          "Bari",
          "Barletta-Andria-Trani",
          "Brindisi",
          "Foggia",
          "Lecce",
          "Taranto",
          "In fase di definizione/aggiornamento",
          "Cagliari",
          "Nuoro",
          "Oristano",
          "Sassari",
          "Sud Sardegna",
          "In fase di definizione/aggiornamento",
          "Agrigento",
          "Caltanissetta",
          "Catania",
          "Enna",
          "Messina",
          "Palermo",
          "Ragusa",
          "Siracusa",
          "Trapani",
          "In fase di definizione/aggiornamento",
          "Arezzo",
          "Firenze",
          "Grosseto",
          "Livorno",
          "Lucca",
          "Massa Carrara",
          "Pisa",
          "Pistoia",
          "Prato",
          "Siena",
          "In fase di definizione/aggiornamento",
          "Trento",
          "In fase di definizione/aggiornamento",
          "Perugia",
          "Terni",
          "In fase di definizione/aggiornamento",
          "Aosta",
          "In fase di definizione/aggiornamento",
          "Belluno",
          "Padova",
          "Rovigo",
          "Treviso",
          "Venezia",
          "Verona",
          "Vicenza",
          "In fase di definizione/aggiornamento"
         ],
         "lat": [
          42.35103167,
          42.35122196,
          42.46458398,
          42.6589177,
          0,
          40.66751177,
          40.63947052,
          0,
          46.49933453,
          0,
          38.90597598,
          39.29308681,
          39.08036878,
          38.10922769,
          38.67624147,
          0,
          40.91404699,
          41.12969987,
          41.07465878,
          40.83956555,
          40.67821961,
          0,
          44.49436681,
          44.83599085,
          44.22268559,
          44.64600009,
          44.80107394,
          45.05193462,
          44.41722493,
          44.69735289,
          44.06090087,
          0,
          45.94149817,
          45.95443546,
          45.6494354,
          46.06255516,
          0,
          41.63964569,
          41.46759465,
          42.40488444,
          41.89277044,
          42.4173828,
          0,
          44.41149314,
          43.88570648,
          44.10704991,
          44.30750461,
          0,
          45.69441368,
          45.53993052,
          45.8099912,
          45.13336675,
          45.85575781,
          45.31440693,
          45.15726772,
          45.46679409,
          45.58439043,
          45.18509264,
          46.17099261,
          45.81701677,
          0,
          43.61675973,
          42.85322304,
          43.16058534,
          43.30023926,
          43.91014021,
          0,
          41.55774754,
          41.58800826,
          0,
          44.91297351,
          44.89912921,
          45.5665112,
          44.39329625,
          45.44588506,
          45.0732745,
          45.921445500000004,
          45.32398135,
          0,
          41.12559576,
          41.22705039,
          40.63848545,
          41.46226865,
          40.35354285,
          40.47354739,
          0,
          39.21531192,
          40.32318834,
          39.90381075,
          40.72667657,
          39.16641462,
          0,
          37.30971088,
          37.49213171,
          37.50287803,
          37.56705701,
          38.19395845,
          38.11569725,
          36.92509198,
          37.05991687,
          38.01850065,
          0,
          43.46642752,
          43.76923077,
          42.76026758,
          43.55234873,
          43.84432283,
          44.03674425,
          43.71553206,
          43.933465000000005,
          43.88062274,
          43.31816374,
          0,
          46.06893511,
          0,
          43.10675841,
          42.56071258,
          0,
          45.73750286,
          0,
          46.13837528,
          45.40692987,
          45.07107289,
          45.66754571,
          45.43490485,
          45.43839046,
          45.547497,
          0
         ],
         "lon": [
          14.16754574,
          13.39843823,
          14.21364822,
          13.70439971,
          0,
          16.59792442,
          15.80514834,
          0,
          11.35662422,
          0,
          16.59440194,
          16.25609692,
          17.12538864,
          15.643452700000001,
          16.10157414,
          0,
          14.79528803,
          14.78151683,
          14.33240464,
          14.25084984,
          14.759402599999998,
          0,
          11.341720800000001,
          11.61868934,
          12.04068608,
          10.92615487,
          10.32834985,
          9.692632596000001,
          12.19913936,
          10.63007973,
          12.5656295,
          0,
          13.62212502,
          12.66002909,
          13.76813649,
          13.2348383,
          0,
          13.35117161,
          12.90368482,
          12.86205939,
          12.48366722,
          12.10473416,
          0,
          8.9326992,
          8.027850297999999,
          9.8281897,
          8.481108654,
          0,
          9.668424528,
          10.21910323,
          9.085159546,
          10.02420865,
          9.393392246,
          9.503720769,
          10.79277363,
          9.190347404,
          9.273582472000001,
          9.160157191,
          9.87147489,
          8.822868344,
          0,
          13.5188753,
          13.57691127,
          13.71839535,
          13.45307182,
          12.91345989,
          0,
          14.65916051,
          14.22575407,
          0,
          8.615401155,
          8.204142547,
          8.054082167,
          7.551171632000001,
          8.621915884,
          7.680687483,
          8.551078752999999,
          8.423234312,
          0,
          16.86736689,
          16.29520432,
          17.94601575,
          15.54305094,
          18.1718973,
          17.23237181,
          0,
          9.110616306,
          9.330296393,
          8.591183151000001,
          8.559667131,
          8.526242676,
          0,
          13.584574900000002,
          14.06184973,
          15.08704691,
          14.27909375,
          15.55572302,
          13.362356699999998,
          14.73069891,
          15.29333182,
          12.51365684,
          0,
          11.88228844,
          11.25588885,
          11.11356398,
          10.3086781,
          10.50151366,
          10.14173829,
          10.40127259,
          10.91734146,
          11.09703315,
          11.33190988,
          0,
          11.12123097,
          0,
          12.38824698,
          12.6466875,
          0,
          7.320149366,
          0,
          12.21704167,
          11.87608718,
          11.79007,
          12.24507363,
          12.33845213,
          10.99352685,
          11.54597109,
          0
         ],
         "name": "",
         "radius": 10,
         "subplot": "mapbox",
         "type": "densitymapbox",
         "z": [
          30,
          15,
          82,
          10,
          0,
          4,
          7,
          0,
          204,
          0,
          6,
          17,
          17,
          22,
          6,
          0,
          37,
          4,
          45,
          188,
          49,
          10,
          230,
          34,
          78,
          367,
          662,
          1012,
          100,
          185,
          425,
          0,
          31,
          42,
          140,
          129,
          5,
          34,
          23,
          4,
          354,
          15,
          6,
          274,
          78,
          60,
          96,
          51,
          3416,
          2473,
          184,
          1792,
          344,
          1320,
          339,
          1750,
          327,
          722,
          45,
          184,
          376,
          267,
          14,
          36,
          94,
          712,
          10,
          17,
          0,
          0,
          207,
          87,
          50,
          61,
          71,
          359,
          50,
          84,
          142,
          58,
          22,
          40,
          62,
          38,
          10,
          0,
          18,
          19,
          2,
          35,
          3,
          0,
          20,
          2,
          91,
          2,
          10,
          33,
          4,
          15,
          11,
          0,
          41,
          162,
          38,
          50,
          130,
          108,
          71,
          79,
          42,
          60,
          0,
          378,
          0,
          86,
          57,
          0,
          57,
          0,
          82,
          658,
          27,
          413,
          328,
          335,
          235,
          94
         ]
        }
       ],
       "layout": {
        "coloraxis": {
         "colorbar": {
          "title": {
           "text": "totale_casi"
          }
         },
         "colorscale": [
          [
           0,
           "#0d0887"
          ],
          [
           0.1111111111111111,
           "#46039f"
          ],
          [
           0.2222222222222222,
           "#7201a8"
          ],
          [
           0.3333333333333333,
           "#9c179e"
          ],
          [
           0.4444444444444444,
           "#bd3786"
          ],
          [
           0.5555555555555556,
           "#d8576b"
          ],
          [
           0.6666666666666666,
           "#ed7953"
          ],
          [
           0.7777777777777778,
           "#fb9f3a"
          ],
          [
           0.8888888888888888,
           "#fdca26"
          ],
          [
           1,
           "#f0f921"
          ]
         ]
        },
        "height": 800,
        "legend": {
         "tracegroupgap": 0
        },
        "mapbox": {
         "center": {
          "lat": 35.86884263648437,
          "lon": 10.112000369484374
         },
         "domain": {
          "x": [
           0,
           1
          ],
          "y": [
           0,
           1
          ]
         },
         "style": "stamen-terrain",
         "zoom": 5
        },
        "template": {
         "data": {
          "bar": [
           {
            "error_x": {
             "color": "#2a3f5f"
            },
            "error_y": {
             "color": "#2a3f5f"
            },
            "marker": {
             "line": {
              "color": "#E5ECF6",
              "width": 0.5
             }
            },
            "type": "bar"
           }
          ],
          "barpolar": [
           {
            "marker": {
             "line": {
              "color": "#E5ECF6",
              "width": 0.5
             }
            },
            "type": "barpolar"
           }
          ],
          "carpet": [
           {
            "aaxis": {
             "endlinecolor": "#2a3f5f",
             "gridcolor": "white",
             "linecolor": "white",
             "minorgridcolor": "white",
             "startlinecolor": "#2a3f5f"
            },
            "baxis": {
             "endlinecolor": "#2a3f5f",
             "gridcolor": "white",
             "linecolor": "white",
             "minorgridcolor": "white",
             "startlinecolor": "#2a3f5f"
            },
            "type": "carpet"
           }
          ],
          "choropleth": [
           {
            "colorbar": {
             "outlinewidth": 0,
             "ticks": ""
            },
            "type": "choropleth"
           }
          ],
          "contour": [
           {
            "colorbar": {
             "outlinewidth": 0,
             "ticks": ""
            },
            "colorscale": [
             [
              0,
              "#0d0887"
             ],
             [
              0.1111111111111111,
              "#46039f"
             ],
             [
              0.2222222222222222,
              "#7201a8"
             ],
             [
              0.3333333333333333,
              "#9c179e"
             ],
             [
              0.4444444444444444,
              "#bd3786"
             ],
             [
              0.5555555555555556,
              "#d8576b"
             ],
             [
              0.6666666666666666,
              "#ed7953"
             ],
             [
              0.7777777777777778,
              "#fb9f3a"
             ],
             [
              0.8888888888888888,
              "#fdca26"
             ],
             [
              1,
              "#f0f921"
             ]
            ],
            "type": "contour"
           }
          ],
          "contourcarpet": [
           {
            "colorbar": {
             "outlinewidth": 0,
             "ticks": ""
            },
            "type": "contourcarpet"
           }
          ],
          "heatmap": [
           {
            "colorbar": {
             "outlinewidth": 0,
             "ticks": ""
            },
            "colorscale": [
             [
              0,
              "#0d0887"
             ],
             [
              0.1111111111111111,
              "#46039f"
             ],
             [
              0.2222222222222222,
              "#7201a8"
             ],
             [
              0.3333333333333333,
              "#9c179e"
             ],
             [
              0.4444444444444444,
              "#bd3786"
             ],
             [
              0.5555555555555556,
              "#d8576b"
             ],
             [
              0.6666666666666666,
              "#ed7953"
             ],
             [
              0.7777777777777778,
              "#fb9f3a"
             ],
             [
              0.8888888888888888,
              "#fdca26"
             ],
             [
              1,
              "#f0f921"
             ]
            ],
            "type": "heatmap"
           }
          ],
          "heatmapgl": [
           {
            "colorbar": {
             "outlinewidth": 0,
             "ticks": ""
            },
            "colorscale": [
             [
              0,
              "#0d0887"
             ],
             [
              0.1111111111111111,
              "#46039f"
             ],
             [
              0.2222222222222222,
              "#7201a8"
             ],
             [
              0.3333333333333333,
              "#9c179e"
             ],
             [
              0.4444444444444444,
              "#bd3786"
             ],
             [
              0.5555555555555556,
              "#d8576b"
             ],
             [
              0.6666666666666666,
              "#ed7953"
             ],
             [
              0.7777777777777778,
              "#fb9f3a"
             ],
             [
              0.8888888888888888,
              "#fdca26"
             ],
             [
              1,
              "#f0f921"
             ]
            ],
            "type": "heatmapgl"
           }
          ],
          "histogram": [
           {
            "marker": {
             "colorbar": {
              "outlinewidth": 0,
              "ticks": ""
             }
            },
            "type": "histogram"
           }
          ],
          "histogram2d": [
           {
            "colorbar": {
             "outlinewidth": 0,
             "ticks": ""
            },
            "colorscale": [
             [
              0,
              "#0d0887"
             ],
             [
              0.1111111111111111,
              "#46039f"
             ],
             [
              0.2222222222222222,
              "#7201a8"
             ],
             [
              0.3333333333333333,
              "#9c179e"
             ],
             [
              0.4444444444444444,
              "#bd3786"
             ],
             [
              0.5555555555555556,
              "#d8576b"
             ],
             [
              0.6666666666666666,
              "#ed7953"
             ],
             [
              0.7777777777777778,
              "#fb9f3a"
             ],
             [
              0.8888888888888888,
              "#fdca26"
             ],
             [
              1,
              "#f0f921"
             ]
            ],
            "type": "histogram2d"
           }
          ],
          "histogram2dcontour": [
           {
            "colorbar": {
             "outlinewidth": 0,
             "ticks": ""
            },
            "colorscale": [
             [
              0,
              "#0d0887"
             ],
             [
              0.1111111111111111,
              "#46039f"
             ],
             [
              0.2222222222222222,
              "#7201a8"
             ],
             [
              0.3333333333333333,
              "#9c179e"
             ],
             [
              0.4444444444444444,
              "#bd3786"
             ],
             [
              0.5555555555555556,
              "#d8576b"
             ],
             [
              0.6666666666666666,
              "#ed7953"
             ],
             [
              0.7777777777777778,
              "#fb9f3a"
             ],
             [
              0.8888888888888888,
              "#fdca26"
             ],
             [
              1,
              "#f0f921"
             ]
            ],
            "type": "histogram2dcontour"
           }
          ],
          "mesh3d": [
           {
            "colorbar": {
             "outlinewidth": 0,
             "ticks": ""
            },
            "type": "mesh3d"
           }
          ],
          "parcoords": [
           {
            "line": {
             "colorbar": {
              "outlinewidth": 0,
              "ticks": ""
             }
            },
            "type": "parcoords"
           }
          ],
          "pie": [
           {
            "automargin": true,
            "type": "pie"
           }
          ],
          "scatter": [
           {
            "marker": {
             "colorbar": {
              "outlinewidth": 0,
              "ticks": ""
             }
            },
            "type": "scatter"
           }
          ],
          "scatter3d": [
           {
            "line": {
             "colorbar": {
              "outlinewidth": 0,
              "ticks": ""
             }
            },
            "marker": {
             "colorbar": {
              "outlinewidth": 0,
              "ticks": ""
             }
            },
            "type": "scatter3d"
           }
          ],
          "scattercarpet": [
           {
            "marker": {
             "colorbar": {
              "outlinewidth": 0,
              "ticks": ""
             }
            },
            "type": "scattercarpet"
           }
          ],
          "scattergeo": [
           {
            "marker": {
             "colorbar": {
              "outlinewidth": 0,
              "ticks": ""
             }
            },
            "type": "scattergeo"
           }
          ],
          "scattergl": [
           {
            "marker": {
             "colorbar": {
              "outlinewidth": 0,
              "ticks": ""
             }
            },
            "type": "scattergl"
           }
          ],
          "scattermapbox": [
           {
            "marker": {
             "colorbar": {
              "outlinewidth": 0,
              "ticks": ""
             }
            },
            "type": "scattermapbox"
           }
          ],
          "scatterpolar": [
           {
            "marker": {
             "colorbar": {
              "outlinewidth": 0,
              "ticks": ""
             }
            },
            "type": "scatterpolar"
           }
          ],
          "scatterpolargl": [
           {
            "marker": {
             "colorbar": {
              "outlinewidth": 0,
              "ticks": ""
             }
            },
            "type": "scatterpolargl"
           }
          ],
          "scatterternary": [
           {
            "marker": {
             "colorbar": {
              "outlinewidth": 0,
              "ticks": ""
             }
            },
            "type": "scatterternary"
           }
          ],
          "surface": [
           {
            "colorbar": {
             "outlinewidth": 0,
             "ticks": ""
            },
            "colorscale": [
             [
              0,
              "#0d0887"
             ],
             [
              0.1111111111111111,
              "#46039f"
             ],
             [
              0.2222222222222222,
              "#7201a8"
             ],
             [
              0.3333333333333333,
              "#9c179e"
             ],
             [
              0.4444444444444444,
              "#bd3786"
             ],
             [
              0.5555555555555556,
              "#d8576b"
             ],
             [
              0.6666666666666666,
              "#ed7953"
             ],
             [
              0.7777777777777778,
              "#fb9f3a"
             ],
             [
              0.8888888888888888,
              "#fdca26"
             ],
             [
              1,
              "#f0f921"
             ]
            ],
            "type": "surface"
           }
          ],
          "table": [
           {
            "cells": {
             "fill": {
              "color": "#EBF0F8"
             },
             "line": {
              "color": "white"
             }
            },
            "header": {
             "fill": {
              "color": "#C8D4E3"
             },
             "line": {
              "color": "white"
             }
            },
            "type": "table"
           }
          ]
         },
         "layout": {
          "annotationdefaults": {
           "arrowcolor": "#2a3f5f",
           "arrowhead": 0,
           "arrowwidth": 1
          },
          "coloraxis": {
           "colorbar": {
            "outlinewidth": 0,
            "ticks": ""
           }
          },
          "colorscale": {
           "diverging": [
            [
             0,
             "#8e0152"
            ],
            [
             0.1,
             "#c51b7d"
            ],
            [
             0.2,
             "#de77ae"
            ],
            [
             0.3,
             "#f1b6da"
            ],
            [
             0.4,
             "#fde0ef"
            ],
            [
             0.5,
             "#f7f7f7"
            ],
            [
             0.6,
             "#e6f5d0"
            ],
            [
             0.7,
             "#b8e186"
            ],
            [
             0.8,
             "#7fbc41"
            ],
            [
             0.9,
             "#4d9221"
            ],
            [
             1,
             "#276419"
            ]
           ],
           "sequential": [
            [
             0,
             "#0d0887"
            ],
            [
             0.1111111111111111,
             "#46039f"
            ],
            [
             0.2222222222222222,
             "#7201a8"
            ],
            [
             0.3333333333333333,
             "#9c179e"
            ],
            [
             0.4444444444444444,
             "#bd3786"
            ],
            [
             0.5555555555555556,
             "#d8576b"
            ],
            [
             0.6666666666666666,
             "#ed7953"
            ],
            [
             0.7777777777777778,
             "#fb9f3a"
            ],
            [
             0.8888888888888888,
             "#fdca26"
            ],
            [
             1,
             "#f0f921"
            ]
           ],
           "sequentialminus": [
            [
             0,
             "#0d0887"
            ],
            [
             0.1111111111111111,
             "#46039f"
            ],
            [
             0.2222222222222222,
             "#7201a8"
            ],
            [
             0.3333333333333333,
             "#9c179e"
            ],
            [
             0.4444444444444444,
             "#bd3786"
            ],
            [
             0.5555555555555556,
             "#d8576b"
            ],
            [
             0.6666666666666666,
             "#ed7953"
            ],
            [
             0.7777777777777778,
             "#fb9f3a"
            ],
            [
             0.8888888888888888,
             "#fdca26"
            ],
            [
             1,
             "#f0f921"
            ]
           ]
          },
          "colorway": [
           "#636efa",
           "#EF553B",
           "#00cc96",
           "#ab63fa",
           "#FFA15A",
           "#19d3f3",
           "#FF6692",
           "#B6E880",
           "#FF97FF",
           "#FECB52"
          ],
          "font": {
           "color": "#2a3f5f"
          },
          "geo": {
           "bgcolor": "white",
           "lakecolor": "white",
           "landcolor": "#E5ECF6",
           "showlakes": true,
           "showland": true,
           "subunitcolor": "white"
          },
          "hoverlabel": {
           "align": "left"
          },
          "hovermode": "closest",
          "mapbox": {
           "style": "light"
          },
          "paper_bgcolor": "white",
          "plot_bgcolor": "#E5ECF6",
          "polar": {
           "angularaxis": {
            "gridcolor": "white",
            "linecolor": "white",
            "ticks": ""
           },
           "bgcolor": "#E5ECF6",
           "radialaxis": {
            "gridcolor": "white",
            "linecolor": "white",
            "ticks": ""
           }
          },
          "scene": {
           "xaxis": {
            "backgroundcolor": "#E5ECF6",
            "gridcolor": "white",
            "gridwidth": 2,
            "linecolor": "white",
            "showbackground": true,
            "ticks": "",
            "zerolinecolor": "white"
           },
           "yaxis": {
            "backgroundcolor": "#E5ECF6",
            "gridcolor": "white",
            "gridwidth": 2,
            "linecolor": "white",
            "showbackground": true,
            "ticks": "",
            "zerolinecolor": "white"
           },
           "zaxis": {
            "backgroundcolor": "#E5ECF6",
            "gridcolor": "white",
            "gridwidth": 2,
            "linecolor": "white",
            "showbackground": true,
            "ticks": "",
            "zerolinecolor": "white"
           }
          },
          "shapedefaults": {
           "line": {
            "color": "#2a3f5f"
           }
          },
          "ternary": {
           "aaxis": {
            "gridcolor": "white",
            "linecolor": "white",
            "ticks": ""
           },
           "baxis": {
            "gridcolor": "white",
            "linecolor": "white",
            "ticks": ""
           },
           "bgcolor": "#E5ECF6",
           "caxis": {
            "gridcolor": "white",
            "linecolor": "white",
            "ticks": ""
           }
          },
          "title": {
           "x": 0.05
          },
          "xaxis": {
           "automargin": true,
           "gridcolor": "white",
           "linecolor": "white",
           "ticks": "",
           "title": {
            "standoff": 15
           },
           "zerolinecolor": "white",
           "zerolinewidth": 2
          },
          "yaxis": {
           "automargin": true,
           "gridcolor": "white",
           "linecolor": "white",
           "ticks": "",
           "title": {
            "standoff": 15
           },
           "zerolinecolor": "white",
           "zerolinewidth": 2
          }
         }
        },
        "title": {
         "text": "totale_casi"
        }
       }
      },
      "text/html": [
       "<div>\n",
       "        \n",
       "        \n",
       "            <div id=\"68b2d8b9-1567-47cb-b921-536f80e7d1a6\" class=\"plotly-graph-div\" style=\"height:800px; width:100%;\"></div>\n",
       "            <script type=\"text/javascript\">\n",
       "                require([\"plotly\"], function(Plotly) {\n",
       "                    window.PLOTLYENV=window.PLOTLYENV || {};\n",
       "                    \n",
       "                if (document.getElementById(\"68b2d8b9-1567-47cb-b921-536f80e7d1a6\")) {\n",
       "                    Plotly.newPlot(\n",
       "                        '68b2d8b9-1567-47cb-b921-536f80e7d1a6',\n",
       "                        [{\"coloraxis\": \"coloraxis\", \"hoverlabel\": {\"namelength\": 0}, \"hovertemplate\": \"<b>%{hovertext}</b><br><br>totale_casi=%{z}<br>lat=%{lat}<br>long=%{lon}\", \"hovertext\": [\"Chieti\", \"L'Aquila\", \"Pescara\", \"Teramo\", \"In fase di definizione/aggiornamento\", \"Matera\", \"Potenza\", \"In fase di definizione/aggiornamento\", \"Bolzano\", \"In fase di definizione/aggiornamento\", \"Catanzaro\", \"Cosenza\", \"Crotone\", \"Reggio di Calabria\", \"Vibo Valentia\", \"In fase di definizione/aggiornamento\", \"Avellino\", \"Benevento\", \"Caserta\", \"Napoli\", \"Salerno\", \"In fase di definizione/aggiornamento\", \"Bologna\", \"Ferrara\", \"Forl\\u00ec-Cesena\", \"Modena\", \"Parma\", \"Piacenza\", \"Ravenna\", \"Reggio nell'Emilia\", \"Rimini\", \"In fase di definizione/aggiornamento\", \"Gorizia\", \"Pordenone\", \"Trieste\", \"Udine\", \"In fase di definizione/aggiornamento\", \"Frosinone\", \"Latina\", \"Rieti\", \"Roma\", \"Viterbo\", \"In fase di definizione/aggiornamento\", \"Genova\", \"Imperia\", \"La Spezia\", \"Savona\", \"In fase di definizione/aggiornamento\", \"Bergamo\", \"Brescia\", \"Como\", \"Cremona\", \"Lecco\", \"Lodi\", \"Mantova\", \"Milano\", \"Monza e della Brianza\", \"Pavia\", \"Sondrio\", \"Varese\", \"In fase di definizione/aggiornamento\", \"Ancona\", \"Ascoli Piceno\", \"Fermo\", \"Macerata\", \"Pesaro e Urbino\", \"In fase di definizione/aggiornamento\", \"Campobasso\", \"Isernia\", \"In fase di definizione/aggiornamento\", \"Alessandria\", \"Asti\", \"Biella\", \"Cuneo\", \"Novara\", \"Torino\", \"Verbano-Cusio-Ossola\", \"Vercelli\", \"In fase di definizione/aggiornamento\", \"Bari\", \"Barletta-Andria-Trani\", \"Brindisi\", \"Foggia\", \"Lecce\", \"Taranto\", \"In fase di definizione/aggiornamento\", \"Cagliari\", \"Nuoro\", \"Oristano\", \"Sassari\", \"Sud Sardegna\", \"In fase di definizione/aggiornamento\", \"Agrigento\", \"Caltanissetta\", \"Catania\", \"Enna\", \"Messina\", \"Palermo\", \"Ragusa\", \"Siracusa\", \"Trapani\", \"In fase di definizione/aggiornamento\", \"Arezzo\", \"Firenze\", \"Grosseto\", \"Livorno\", \"Lucca\", \"Massa Carrara\", \"Pisa\", \"Pistoia\", \"Prato\", \"Siena\", \"In fase di definizione/aggiornamento\", \"Trento\", \"In fase di definizione/aggiornamento\", \"Perugia\", \"Terni\", \"In fase di definizione/aggiornamento\", \"Aosta\", \"In fase di definizione/aggiornamento\", \"Belluno\", \"Padova\", \"Rovigo\", \"Treviso\", \"Venezia\", \"Verona\", \"Vicenza\", \"In fase di definizione/aggiornamento\"], \"lat\": [42.35103167, 42.35122196, 42.46458398, 42.6589177, 0.0, 40.66751177, 40.63947052, 0.0, 46.49933453, 0.0, 38.90597598, 39.29308681, 39.08036878, 38.10922769, 38.67624147, 0.0, 40.91404699, 41.12969987, 41.07465878, 40.83956555, 40.67821961, 0.0, 44.49436681, 44.83599085, 44.22268559, 44.64600009, 44.80107394, 45.05193462, 44.41722493, 44.69735289, 44.06090087, 0.0, 45.94149817, 45.95443546, 45.6494354, 46.06255516, 0.0, 41.63964569, 41.46759465, 42.40488444, 41.89277044, 42.4173828, 0.0, 44.41149314, 43.88570648, 44.10704991, 44.30750461, 0.0, 45.69441368, 45.53993052, 45.8099912, 45.13336675, 45.85575781, 45.31440693, 45.15726772, 45.46679409, 45.58439043, 45.18509264, 46.17099261, 45.81701677, 0.0, 43.61675973, 42.85322304, 43.16058534, 43.30023926, 43.91014021, 0.0, 41.55774754, 41.58800826, 0.0, 44.91297351, 44.89912921, 45.5665112, 44.39329625, 45.44588506, 45.0732745, 45.921445500000004, 45.32398135, 0.0, 41.12559576, 41.22705039, 40.63848545, 41.46226865, 40.35354285, 40.47354739, 0.0, 39.21531192, 40.32318834, 39.90381075, 40.72667657, 39.16641462, 0.0, 37.30971088, 37.49213171, 37.50287803, 37.56705701, 38.19395845, 38.11569725, 36.92509198, 37.05991687, 38.01850065, 0.0, 43.46642752, 43.76923077, 42.76026758, 43.55234873, 43.84432283, 44.03674425, 43.71553206, 43.933465000000005, 43.88062274, 43.31816374, 0.0, 46.06893511, 0.0, 43.10675841, 42.56071258, 0.0, 45.73750286, 0.0, 46.13837528, 45.40692987, 45.07107289, 45.66754571, 45.43490485, 45.43839046, 45.547497, 0.0], \"lon\": [14.16754574, 13.39843823, 14.21364822, 13.70439971, 0.0, 16.59792442, 15.80514834, 0.0, 11.35662422, 0.0, 16.59440194, 16.25609692, 17.12538864, 15.643452700000001, 16.10157414, 0.0, 14.79528803, 14.78151683, 14.33240464, 14.25084984, 14.759402599999998, 0.0, 11.341720800000001, 11.61868934, 12.04068608, 10.92615487, 10.32834985, 9.692632596000001, 12.19913936, 10.63007973, 12.5656295, 0.0, 13.62212502, 12.66002909, 13.76813649, 13.2348383, 0.0, 13.35117161, 12.90368482, 12.86205939, 12.48366722, 12.10473416, 0.0, 8.9326992, 8.027850297999999, 9.8281897, 8.481108654, 0.0, 9.668424528, 10.21910323, 9.085159546, 10.02420865, 9.393392246, 9.503720769, 10.79277363, 9.190347404, 9.273582472000001, 9.160157191, 9.87147489, 8.822868344, 0.0, 13.5188753, 13.57691127, 13.71839535, 13.45307182, 12.91345989, 0.0, 14.65916051, 14.22575407, 0.0, 8.615401155, 8.204142547, 8.054082167, 7.551171632000001, 8.621915884, 7.680687483, 8.551078752999999, 8.423234312, 0.0, 16.86736689, 16.29520432, 17.94601575, 15.54305094, 18.1718973, 17.23237181, 0.0, 9.110616306, 9.330296393, 8.591183151000001, 8.559667131, 8.526242676, 0.0, 13.584574900000002, 14.06184973, 15.08704691, 14.27909375, 15.55572302, 13.362356699999998, 14.73069891, 15.29333182, 12.51365684, 0.0, 11.88228844, 11.25588885, 11.11356398, 10.3086781, 10.50151366, 10.14173829, 10.40127259, 10.91734146, 11.09703315, 11.33190988, 0.0, 11.12123097, 0.0, 12.38824698, 12.6466875, 0.0, 7.320149366, 0.0, 12.21704167, 11.87608718, 11.79007, 12.24507363, 12.33845213, 10.99352685, 11.54597109, 0.0], \"name\": \"\", \"radius\": 10, \"subplot\": \"mapbox\", \"type\": \"densitymapbox\", \"z\": [30, 15, 82, 10, 0, 4, 7, 0, 204, 0, 6, 17, 17, 22, 6, 0, 37, 4, 45, 188, 49, 10, 230, 34, 78, 367, 662, 1012, 100, 185, 425, 0, 31, 42, 140, 129, 5, 34, 23, 4, 354, 15, 6, 274, 78, 60, 96, 51, 3416, 2473, 184, 1792, 344, 1320, 339, 1750, 327, 722, 45, 184, 376, 267, 14, 36, 94, 712, 10, 17, 0, 0, 207, 87, 50, 61, 71, 359, 50, 84, 142, 58, 22, 40, 62, 38, 10, 0, 18, 19, 2, 35, 3, 0, 20, 2, 91, 2, 10, 33, 4, 15, 11, 0, 41, 162, 38, 50, 130, 108, 71, 79, 42, 60, 0, 378, 0, 86, 57, 0, 57, 0, 82, 658, 27, 413, 328, 335, 235, 94]}],\n",
       "                        {\"coloraxis\": {\"colorbar\": {\"title\": {\"text\": \"totale_casi\"}}, \"colorscale\": [[0.0, \"#0d0887\"], [0.1111111111111111, \"#46039f\"], [0.2222222222222222, \"#7201a8\"], [0.3333333333333333, \"#9c179e\"], [0.4444444444444444, \"#bd3786\"], [0.5555555555555556, \"#d8576b\"], [0.6666666666666666, \"#ed7953\"], [0.7777777777777778, \"#fb9f3a\"], [0.8888888888888888, \"#fdca26\"], [1.0, \"#f0f921\"]]}, \"height\": 800, \"legend\": {\"tracegroupgap\": 0}, \"mapbox\": {\"center\": {\"lat\": 35.86884263648437, \"lon\": 10.112000369484374}, \"domain\": {\"x\": [0.0, 1.0], \"y\": [0.0, 1.0]}, \"style\": \"stamen-terrain\", \"zoom\": 5}, \"template\": {\"data\": {\"bar\": [{\"error_x\": {\"color\": \"#2a3f5f\"}, \"error_y\": {\"color\": \"#2a3f5f\"}, \"marker\": {\"line\": {\"color\": \"#E5ECF6\", \"width\": 0.5}}, \"type\": \"bar\"}], \"barpolar\": [{\"marker\": {\"line\": {\"color\": \"#E5ECF6\", \"width\": 0.5}}, \"type\": \"barpolar\"}], \"carpet\": [{\"aaxis\": {\"endlinecolor\": \"#2a3f5f\", \"gridcolor\": \"white\", \"linecolor\": \"white\", \"minorgridcolor\": \"white\", \"startlinecolor\": \"#2a3f5f\"}, \"baxis\": {\"endlinecolor\": \"#2a3f5f\", \"gridcolor\": \"white\", \"linecolor\": \"white\", \"minorgridcolor\": \"white\", \"startlinecolor\": \"#2a3f5f\"}, \"type\": \"carpet\"}], \"choropleth\": [{\"colorbar\": {\"outlinewidth\": 0, \"ticks\": \"\"}, \"type\": \"choropleth\"}], \"contour\": [{\"colorbar\": {\"outlinewidth\": 0, \"ticks\": \"\"}, \"colorscale\": [[0.0, \"#0d0887\"], [0.1111111111111111, \"#46039f\"], [0.2222222222222222, \"#7201a8\"], [0.3333333333333333, \"#9c179e\"], [0.4444444444444444, \"#bd3786\"], [0.5555555555555556, \"#d8576b\"], [0.6666666666666666, \"#ed7953\"], [0.7777777777777778, \"#fb9f3a\"], [0.8888888888888888, \"#fdca26\"], [1.0, \"#f0f921\"]], \"type\": \"contour\"}], \"contourcarpet\": [{\"colorbar\": {\"outlinewidth\": 0, \"ticks\": \"\"}, \"type\": \"contourcarpet\"}], \"heatmap\": [{\"colorbar\": {\"outlinewidth\": 0, \"ticks\": \"\"}, \"colorscale\": [[0.0, \"#0d0887\"], [0.1111111111111111, \"#46039f\"], [0.2222222222222222, \"#7201a8\"], [0.3333333333333333, \"#9c179e\"], [0.4444444444444444, \"#bd3786\"], [0.5555555555555556, \"#d8576b\"], [0.6666666666666666, \"#ed7953\"], [0.7777777777777778, \"#fb9f3a\"], [0.8888888888888888, \"#fdca26\"], [1.0, \"#f0f921\"]], \"type\": \"heatmap\"}], \"heatmapgl\": [{\"colorbar\": {\"outlinewidth\": 0, \"ticks\": \"\"}, \"colorscale\": [[0.0, \"#0d0887\"], [0.1111111111111111, \"#46039f\"], [0.2222222222222222, \"#7201a8\"], [0.3333333333333333, \"#9c179e\"], [0.4444444444444444, \"#bd3786\"], [0.5555555555555556, \"#d8576b\"], [0.6666666666666666, \"#ed7953\"], [0.7777777777777778, \"#fb9f3a\"], [0.8888888888888888, \"#fdca26\"], [1.0, \"#f0f921\"]], \"type\": \"heatmapgl\"}], \"histogram\": [{\"marker\": {\"colorbar\": {\"outlinewidth\": 0, \"ticks\": \"\"}}, \"type\": \"histogram\"}], \"histogram2d\": [{\"colorbar\": {\"outlinewidth\": 0, \"ticks\": \"\"}, \"colorscale\": [[0.0, \"#0d0887\"], [0.1111111111111111, \"#46039f\"], [0.2222222222222222, \"#7201a8\"], [0.3333333333333333, \"#9c179e\"], [0.4444444444444444, \"#bd3786\"], [0.5555555555555556, \"#d8576b\"], [0.6666666666666666, \"#ed7953\"], [0.7777777777777778, \"#fb9f3a\"], [0.8888888888888888, \"#fdca26\"], [1.0, \"#f0f921\"]], \"type\": \"histogram2d\"}], \"histogram2dcontour\": [{\"colorbar\": {\"outlinewidth\": 0, \"ticks\": \"\"}, \"colorscale\": [[0.0, \"#0d0887\"], [0.1111111111111111, \"#46039f\"], [0.2222222222222222, \"#7201a8\"], [0.3333333333333333, \"#9c179e\"], [0.4444444444444444, \"#bd3786\"], [0.5555555555555556, \"#d8576b\"], [0.6666666666666666, \"#ed7953\"], [0.7777777777777778, \"#fb9f3a\"], [0.8888888888888888, \"#fdca26\"], [1.0, \"#f0f921\"]], \"type\": \"histogram2dcontour\"}], \"mesh3d\": [{\"colorbar\": {\"outlinewidth\": 0, \"ticks\": \"\"}, \"type\": \"mesh3d\"}], \"parcoords\": [{\"line\": {\"colorbar\": {\"outlinewidth\": 0, \"ticks\": \"\"}}, \"type\": \"parcoords\"}], \"pie\": [{\"automargin\": true, \"type\": \"pie\"}], \"scatter\": [{\"marker\": {\"colorbar\": {\"outlinewidth\": 0, \"ticks\": \"\"}}, \"type\": \"scatter\"}], \"scatter3d\": [{\"line\": {\"colorbar\": {\"outlinewidth\": 0, \"ticks\": \"\"}}, \"marker\": {\"colorbar\": {\"outlinewidth\": 0, \"ticks\": \"\"}}, \"type\": \"scatter3d\"}], \"scattercarpet\": [{\"marker\": {\"colorbar\": {\"outlinewidth\": 0, \"ticks\": \"\"}}, \"type\": \"scattercarpet\"}], \"scattergeo\": [{\"marker\": {\"colorbar\": {\"outlinewidth\": 0, \"ticks\": \"\"}}, \"type\": \"scattergeo\"}], \"scattergl\": [{\"marker\": {\"colorbar\": {\"outlinewidth\": 0, \"ticks\": \"\"}}, \"type\": \"scattergl\"}], \"scattermapbox\": [{\"marker\": {\"colorbar\": {\"outlinewidth\": 0, \"ticks\": \"\"}}, \"type\": \"scattermapbox\"}], \"scatterpolar\": [{\"marker\": {\"colorbar\": {\"outlinewidth\": 0, \"ticks\": \"\"}}, \"type\": \"scatterpolar\"}], \"scatterpolargl\": [{\"marker\": {\"colorbar\": {\"outlinewidth\": 0, \"ticks\": \"\"}}, \"type\": \"scatterpolargl\"}], \"scatterternary\": [{\"marker\": {\"colorbar\": {\"outlinewidth\": 0, \"ticks\": \"\"}}, \"type\": \"scatterternary\"}], \"surface\": [{\"colorbar\": {\"outlinewidth\": 0, \"ticks\": \"\"}, \"colorscale\": [[0.0, \"#0d0887\"], [0.1111111111111111, \"#46039f\"], [0.2222222222222222, \"#7201a8\"], [0.3333333333333333, \"#9c179e\"], [0.4444444444444444, \"#bd3786\"], [0.5555555555555556, \"#d8576b\"], [0.6666666666666666, \"#ed7953\"], [0.7777777777777778, \"#fb9f3a\"], [0.8888888888888888, \"#fdca26\"], [1.0, \"#f0f921\"]], \"type\": \"surface\"}], \"table\": [{\"cells\": {\"fill\": {\"color\": \"#EBF0F8\"}, \"line\": {\"color\": \"white\"}}, \"header\": {\"fill\": {\"color\": \"#C8D4E3\"}, \"line\": {\"color\": \"white\"}}, \"type\": \"table\"}]}, \"layout\": {\"annotationdefaults\": {\"arrowcolor\": \"#2a3f5f\", \"arrowhead\": 0, \"arrowwidth\": 1}, \"coloraxis\": {\"colorbar\": {\"outlinewidth\": 0, \"ticks\": \"\"}}, \"colorscale\": {\"diverging\": [[0, \"#8e0152\"], [0.1, \"#c51b7d\"], [0.2, \"#de77ae\"], [0.3, \"#f1b6da\"], [0.4, \"#fde0ef\"], [0.5, \"#f7f7f7\"], [0.6, \"#e6f5d0\"], [0.7, \"#b8e186\"], [0.8, \"#7fbc41\"], [0.9, \"#4d9221\"], [1, \"#276419\"]], \"sequential\": [[0.0, \"#0d0887\"], [0.1111111111111111, \"#46039f\"], [0.2222222222222222, \"#7201a8\"], [0.3333333333333333, \"#9c179e\"], [0.4444444444444444, \"#bd3786\"], [0.5555555555555556, \"#d8576b\"], [0.6666666666666666, \"#ed7953\"], [0.7777777777777778, \"#fb9f3a\"], [0.8888888888888888, \"#fdca26\"], [1.0, \"#f0f921\"]], \"sequentialminus\": [[0.0, \"#0d0887\"], [0.1111111111111111, \"#46039f\"], [0.2222222222222222, \"#7201a8\"], [0.3333333333333333, \"#9c179e\"], [0.4444444444444444, \"#bd3786\"], [0.5555555555555556, \"#d8576b\"], [0.6666666666666666, \"#ed7953\"], [0.7777777777777778, \"#fb9f3a\"], [0.8888888888888888, \"#fdca26\"], [1.0, \"#f0f921\"]]}, \"colorway\": [\"#636efa\", \"#EF553B\", \"#00cc96\", \"#ab63fa\", \"#FFA15A\", \"#19d3f3\", \"#FF6692\", \"#B6E880\", \"#FF97FF\", \"#FECB52\"], \"font\": {\"color\": \"#2a3f5f\"}, \"geo\": {\"bgcolor\": \"white\", \"lakecolor\": \"white\", \"landcolor\": \"#E5ECF6\", \"showlakes\": true, \"showland\": true, \"subunitcolor\": \"white\"}, \"hoverlabel\": {\"align\": \"left\"}, \"hovermode\": \"closest\", \"mapbox\": {\"style\": \"light\"}, \"paper_bgcolor\": \"white\", \"plot_bgcolor\": \"#E5ECF6\", \"polar\": {\"angularaxis\": {\"gridcolor\": \"white\", \"linecolor\": \"white\", \"ticks\": \"\"}, \"bgcolor\": \"#E5ECF6\", \"radialaxis\": {\"gridcolor\": \"white\", \"linecolor\": \"white\", \"ticks\": \"\"}}, \"scene\": {\"xaxis\": {\"backgroundcolor\": \"#E5ECF6\", \"gridcolor\": \"white\", \"gridwidth\": 2, \"linecolor\": \"white\", \"showbackground\": true, \"ticks\": \"\", \"zerolinecolor\": \"white\"}, \"yaxis\": {\"backgroundcolor\": \"#E5ECF6\", \"gridcolor\": \"white\", \"gridwidth\": 2, \"linecolor\": \"white\", \"showbackground\": true, \"ticks\": \"\", \"zerolinecolor\": \"white\"}, \"zaxis\": {\"backgroundcolor\": \"#E5ECF6\", \"gridcolor\": \"white\", \"gridwidth\": 2, \"linecolor\": \"white\", \"showbackground\": true, \"ticks\": \"\", \"zerolinecolor\": \"white\"}}, \"shapedefaults\": {\"line\": {\"color\": \"#2a3f5f\"}}, \"ternary\": {\"aaxis\": {\"gridcolor\": \"white\", \"linecolor\": \"white\", \"ticks\": \"\"}, \"baxis\": {\"gridcolor\": \"white\", \"linecolor\": \"white\", \"ticks\": \"\"}, \"bgcolor\": \"#E5ECF6\", \"caxis\": {\"gridcolor\": \"white\", \"linecolor\": \"white\", \"ticks\": \"\"}}, \"title\": {\"x\": 0.05}, \"xaxis\": {\"automargin\": true, \"gridcolor\": \"white\", \"linecolor\": \"white\", \"ticks\": \"\", \"title\": {\"standoff\": 15}, \"zerolinecolor\": \"white\", \"zerolinewidth\": 2}, \"yaxis\": {\"automargin\": true, \"gridcolor\": \"white\", \"linecolor\": \"white\", \"ticks\": \"\", \"title\": {\"standoff\": 15}, \"zerolinecolor\": \"white\", \"zerolinewidth\": 2}}}, \"title\": {\"text\": \"totale_casi\"}},\n",
       "                        {\"responsive\": true}\n",
       "                    ).then(function(){\n",
       "                            \n",
       "var gd = document.getElementById('68b2d8b9-1567-47cb-b921-536f80e7d1a6');\n",
       "var x = new MutationObserver(function (mutations, observer) {{\n",
       "        var display = window.getComputedStyle(gd).display;\n",
       "        if (!display || display === 'none') {{\n",
       "            console.log([gd, 'removed!']);\n",
       "            Plotly.purge(gd);\n",
       "            observer.disconnect();\n",
       "        }}\n",
       "}});\n",
       "\n",
       "// Listen for the removal of the full notebook cells\n",
       "var notebookContainer = gd.closest('#notebook-container');\n",
       "if (notebookContainer) {{\n",
       "    x.observe(notebookContainer, {childList: true});\n",
       "}}\n",
       "\n",
       "// Listen for the clearing of the current output cell\n",
       "var outputEl = gd.closest('.output');\n",
       "if (outputEl) {{\n",
       "    x.observe(outputEl, {childList: true});\n",
       "}}\n",
       "\n",
       "                        })\n",
       "                };\n",
       "                });\n",
       "            </script>\n",
       "        </div>"
      ]
     },
     "metadata": {},
     "output_type": "display_data"
    }
   ],
   "source": [
    "col = 'totale_casi'\n",
    "fig = px.density_mapbox(prov.groupby('data').get_group('2020-03-15 17:00:00'), \n",
    "                        lat='lat', lon='long', z=col, radius=10, \n",
    "                        hover_name='denominazione_provincia',\n",
    "                        zoom=5,  height=800,\n",
    "                        #animation_frame=df_prov.index,\n",
    "                        mapbox_style=\"stamen-terrain\",\n",
    "                        title = col)\n",
    "fig.show()"
   ]
  },
  {
   "cell_type": "code",
   "execution_count": 22,
   "metadata": {},
   "outputs": [
    {
     "data": {
      "application/vnd.plotly.v1+json": {
       "config": {
        "plotlyServerURL": "https://plot.ly"
       },
       "data": [
        {
         "coloraxis": "coloraxis",
         "hoverlabel": {
          "namelength": 0
         },
         "hovertemplate": "<b>%{hovertext}</b><br><br>%delta_totale_casi=%{z}<br>lat=%{lat}<br>long=%{lon}",
         "hovertext": [
          "Agrigento",
          "Alessandria",
          "Ancona",
          "Aosta",
          "Ascoli Piceno",
          "L'Aquila",
          "Arezzo",
          "Asti",
          "Avellino",
          "Bari",
          "Bergamo",
          "Biella",
          "Belluno",
          "Benevento",
          "Bologna",
          "Brindisi",
          "Brescia",
          "Barletta-Andria-Trani",
          "Bolzano",
          "Cagliari",
          "Campobasso",
          "Caserta",
          "Chieti",
          "Caltanissetta",
          "Cuneo",
          "Como",
          "Cremona",
          "Cosenza",
          "Catania",
          "Catanzaro",
          "Enna",
          "Forlì-Cesena",
          "Ferrara",
          "Foggia",
          "Firenze",
          "Fermo",
          "Frosinone",
          "Genova",
          "Gorizia",
          "Grosseto",
          "Imperia",
          "Isernia",
          "Crotone",
          "Lecco",
          "Lecce",
          "Livorno",
          "Lodi",
          "Latina",
          "Lucca",
          "Monza e della Brianza",
          "Macerata",
          "Messina",
          "Milano",
          "Mantova",
          "Modena",
          "Massa Carrara",
          "Matera",
          "Novara",
          "Nuoro",
          "Oristano",
          "Palermo",
          "Piacenza",
          "Padova",
          "Pescara",
          "Perugia",
          "Pisa",
          "Pordenone",
          "Prato",
          "Parma",
          "Pistoia",
          "Pesaro e Urbino",
          "Pavia",
          "Potenza",
          "Ravenna",
          "Reggio di Calabria",
          "Reggio nell'Emilia",
          "Ragusa",
          "Rieti",
          "Roma",
          "Rimini",
          "Rovigo",
          "Salerno",
          "Siena",
          "Sondrio",
          "La Spezia",
          "Siracusa",
          "Sassari",
          "Sud Sardegna",
          "Savona",
          "Taranto",
          "Teramo",
          "Trento",
          "Torino",
          "Trapani",
          "Terni",
          "Trieste",
          "Treviso",
          "Udine",
          "Varese",
          "Verbano-Cusio-Ossola",
          "Vercelli",
          "Venezia",
          "Vicenza",
          "Verona",
          "Viterbo",
          "Vibo Valentia"
         ],
         "lat": [
          37.30971088,
          44.91297351,
          43.61675973,
          45.73750286,
          42.85322304,
          42.35122196,
          43.46642752,
          44.89912921,
          40.91404699,
          41.12559576,
          45.69441368,
          45.5665112,
          46.13837528,
          41.12969987,
          44.49436681,
          40.63848545,
          45.53993052,
          41.22705039,
          46.49933453,
          39.21531192,
          41.55774754,
          41.07465878,
          42.35103167,
          37.49213171,
          44.39329625,
          45.8099912,
          45.13336675,
          39.29308681,
          37.50287803,
          38.90597598,
          37.56705701,
          44.22268559,
          44.83599085,
          41.46226865,
          43.76923077,
          43.16058534,
          41.63964569,
          44.41149314,
          45.94149817,
          42.76026758,
          43.88570648,
          41.58800826,
          39.08036878,
          45.85575781,
          40.35354285,
          43.55234873,
          45.31440693,
          41.46759465,
          43.84432283,
          45.58439043,
          43.30023926,
          38.19395845,
          45.46679409,
          45.15726772,
          44.64600009,
          44.03674425,
          40.66751177,
          45.44588506,
          40.32318834,
          39.90381075,
          38.11569725,
          45.05193462,
          45.40692987,
          42.46458398,
          43.10675841,
          43.71553206,
          45.95443546,
          43.88062274,
          44.80107394,
          43.933465000000005,
          43.91014021,
          45.18509264,
          40.63947052,
          44.41722493,
          38.10922769,
          44.69735289,
          36.92509198,
          42.40488444,
          41.89277044,
          44.06090087,
          45.07107289,
          40.67821961,
          43.31816374,
          46.17099261,
          44.10704991,
          37.05991687,
          40.72667657,
          39.16641462,
          44.30750461,
          40.47354739,
          42.6589177,
          46.06893511,
          45.0732745,
          38.01850065,
          42.56071258,
          45.6494354,
          45.66754571,
          46.06255516,
          45.81701677,
          45.921445500000004,
          45.32398135,
          45.43490485,
          45.547497,
          45.43839046,
          42.4173828,
          38.67624147
         ],
         "lon": [
          13.584574900000002,
          8.615401155,
          13.5188753,
          7.320149366,
          13.57691127,
          13.39843823,
          11.88228844,
          8.204142547,
          14.79528803,
          16.86736689,
          9.668424528,
          8.054082167,
          12.21704167,
          14.78151683,
          11.341720800000001,
          17.94601575,
          10.21910323,
          16.29520432,
          11.35662422,
          9.110616306,
          14.65916051,
          14.33240464,
          14.16754574,
          14.06184973,
          7.551171632000001,
          9.085159546,
          10.02420865,
          16.25609692,
          15.08704691,
          16.59440194,
          14.27909375,
          12.04068608,
          11.61868934,
          15.54305094,
          11.25588885,
          13.71839535,
          13.35117161,
          8.9326992,
          13.62212502,
          11.11356398,
          8.027850297999999,
          14.22575407,
          17.12538864,
          9.393392246,
          18.1718973,
          10.3086781,
          9.503720769,
          12.90368482,
          10.50151366,
          9.273582472000001,
          13.45307182,
          15.55572302,
          9.190347404,
          10.79277363,
          10.92615487,
          10.14173829,
          16.59792442,
          8.621915884,
          9.330296393,
          8.591183151000001,
          13.362356699999998,
          9.692632596000001,
          11.87608718,
          14.21364822,
          12.38824698,
          10.40127259,
          12.66002909,
          11.09703315,
          10.32834985,
          10.91734146,
          12.91345989,
          9.160157191,
          15.80514834,
          12.19913936,
          15.643452700000001,
          10.63007973,
          14.73069891,
          12.86205939,
          12.48366722,
          12.5656295,
          11.79007,
          14.759402599999998,
          11.33190988,
          9.87147489,
          9.8281897,
          15.29333182,
          8.559667131,
          8.526242676,
          8.481108654,
          17.23237181,
          13.70439971,
          11.12123097,
          7.680687483,
          12.51365684,
          12.6466875,
          13.76813649,
          12.24507363,
          13.2348383,
          8.822868344,
          8.551078752999999,
          8.423234312,
          12.33845213,
          11.54597109,
          10.99352685,
          12.10473416,
          16.10157414
         ],
         "name": "",
         "radius": 10,
         "subplot": "mapbox",
         "type": "densitymapbox",
         "z": [
          0.1,
          0.3188405797101449,
          0.20973782771535582,
          0.8421052631578947,
          0.5,
          0.2,
          0.04878048780487805,
          0,
          0.32432432432432434,
          0,
          0.10070257611241218,
          0.34,
          0.23170731707317074,
          0,
          0.26521739130434785,
          0,
          0.17994338859684594,
          0,
          0.18137254901960784,
          0.3333333333333333,
          0.23529411764705882,
          0.3333333333333333,
          0.26666666666666666,
          1,
          0.4918032786885246,
          0.1956521739130435,
          0.04966517857142857,
          0,
          0.054945054945054944,
          0,
          1.5,
          0.32051282051282054,
          0.29411764705882354,
          0,
          0.14814814814814814,
          0,
          0.29411764705882354,
          0,
          -0.4838709677419355,
          0.3157894736842105,
          0,
          0,
          0,
          0.12209302325581395,
          0,
          0.06,
          0.031818181818181815,
          0,
          0.06153846153846154,
          0.0581039755351682,
          0.24468085106382978,
          0.1,
          0.13314285714285715,
          0.12684365781710916,
          0.1989100817438692,
          0.08333333333333333,
          0,
          0.5352112676056338,
          0,
          0,
          0.12121212121212122,
          0.06027667984189723,
          0.08662613981762918,
          0.23170731707317074,
          0.20930232558139536,
          0.09859154929577464,
          0.2857142857142857,
          0.07142857142857142,
          0.06797583081570997,
          0.13924050632911392,
          0.02949438202247191,
          0.10941828254847645,
          0.14285714285714285,
          0.14,
          0,
          0.3027027027027027,
          0,
          1.75,
          0.1638418079096045,
          0.1976470588235294,
          0,
          0.16326530612244897,
          0.1,
          0.022222222222222223,
          0,
          0.4,
          0.6285714285714286,
          0.6666666666666666,
          0,
          0,
          0.9,
          0,
          0.5097493036211699,
          0.18181818181818182,
          0.05263157894736842,
          0.17142857142857143,
          0.09443099273607748,
          0.17829457364341086,
          0.09782608695652174,
          0.16,
          0.17857142857142858,
          0.08536585365853659,
          0.22127659574468084,
          0.26865671641791045,
          0.8,
          0
         ]
        }
       ],
       "layout": {
        "coloraxis": {
         "colorbar": {
          "title": {
           "text": "%delta_totale_casi"
          }
         },
         "colorscale": [
          [
           0,
           "#0d0887"
          ],
          [
           0.1111111111111111,
           "#46039f"
          ],
          [
           0.2222222222222222,
           "#7201a8"
          ],
          [
           0.3333333333333333,
           "#9c179e"
          ],
          [
           0.4444444444444444,
           "#bd3786"
          ],
          [
           0.5555555555555556,
           "#d8576b"
          ],
          [
           0.6666666666666666,
           "#ed7953"
          ],
          [
           0.7777777777777778,
           "#fb9f3a"
          ],
          [
           0.8888888888888888,
           "#fdca26"
          ],
          [
           1,
           "#f0f921"
          ]
         ]
        },
        "height": 800,
        "legend": {
         "tracegroupgap": 0
        },
        "mapbox": {
         "center": {
          "lat": 42.92804048981132,
          "lon": 12.076275447679244
         },
         "domain": {
          "x": [
           0,
           1
          ],
          "y": [
           0,
           1
          ]
         },
         "style": "stamen-terrain",
         "zoom": 5
        },
        "template": {
         "data": {
          "bar": [
           {
            "error_x": {
             "color": "#2a3f5f"
            },
            "error_y": {
             "color": "#2a3f5f"
            },
            "marker": {
             "line": {
              "color": "#E5ECF6",
              "width": 0.5
             }
            },
            "type": "bar"
           }
          ],
          "barpolar": [
           {
            "marker": {
             "line": {
              "color": "#E5ECF6",
              "width": 0.5
             }
            },
            "type": "barpolar"
           }
          ],
          "carpet": [
           {
            "aaxis": {
             "endlinecolor": "#2a3f5f",
             "gridcolor": "white",
             "linecolor": "white",
             "minorgridcolor": "white",
             "startlinecolor": "#2a3f5f"
            },
            "baxis": {
             "endlinecolor": "#2a3f5f",
             "gridcolor": "white",
             "linecolor": "white",
             "minorgridcolor": "white",
             "startlinecolor": "#2a3f5f"
            },
            "type": "carpet"
           }
          ],
          "choropleth": [
           {
            "colorbar": {
             "outlinewidth": 0,
             "ticks": ""
            },
            "type": "choropleth"
           }
          ],
          "contour": [
           {
            "colorbar": {
             "outlinewidth": 0,
             "ticks": ""
            },
            "colorscale": [
             [
              0,
              "#0d0887"
             ],
             [
              0.1111111111111111,
              "#46039f"
             ],
             [
              0.2222222222222222,
              "#7201a8"
             ],
             [
              0.3333333333333333,
              "#9c179e"
             ],
             [
              0.4444444444444444,
              "#bd3786"
             ],
             [
              0.5555555555555556,
              "#d8576b"
             ],
             [
              0.6666666666666666,
              "#ed7953"
             ],
             [
              0.7777777777777778,
              "#fb9f3a"
             ],
             [
              0.8888888888888888,
              "#fdca26"
             ],
             [
              1,
              "#f0f921"
             ]
            ],
            "type": "contour"
           }
          ],
          "contourcarpet": [
           {
            "colorbar": {
             "outlinewidth": 0,
             "ticks": ""
            },
            "type": "contourcarpet"
           }
          ],
          "heatmap": [
           {
            "colorbar": {
             "outlinewidth": 0,
             "ticks": ""
            },
            "colorscale": [
             [
              0,
              "#0d0887"
             ],
             [
              0.1111111111111111,
              "#46039f"
             ],
             [
              0.2222222222222222,
              "#7201a8"
             ],
             [
              0.3333333333333333,
              "#9c179e"
             ],
             [
              0.4444444444444444,
              "#bd3786"
             ],
             [
              0.5555555555555556,
              "#d8576b"
             ],
             [
              0.6666666666666666,
              "#ed7953"
             ],
             [
              0.7777777777777778,
              "#fb9f3a"
             ],
             [
              0.8888888888888888,
              "#fdca26"
             ],
             [
              1,
              "#f0f921"
             ]
            ],
            "type": "heatmap"
           }
          ],
          "heatmapgl": [
           {
            "colorbar": {
             "outlinewidth": 0,
             "ticks": ""
            },
            "colorscale": [
             [
              0,
              "#0d0887"
             ],
             [
              0.1111111111111111,
              "#46039f"
             ],
             [
              0.2222222222222222,
              "#7201a8"
             ],
             [
              0.3333333333333333,
              "#9c179e"
             ],
             [
              0.4444444444444444,
              "#bd3786"
             ],
             [
              0.5555555555555556,
              "#d8576b"
             ],
             [
              0.6666666666666666,
              "#ed7953"
             ],
             [
              0.7777777777777778,
              "#fb9f3a"
             ],
             [
              0.8888888888888888,
              "#fdca26"
             ],
             [
              1,
              "#f0f921"
             ]
            ],
            "type": "heatmapgl"
           }
          ],
          "histogram": [
           {
            "marker": {
             "colorbar": {
              "outlinewidth": 0,
              "ticks": ""
             }
            },
            "type": "histogram"
           }
          ],
          "histogram2d": [
           {
            "colorbar": {
             "outlinewidth": 0,
             "ticks": ""
            },
            "colorscale": [
             [
              0,
              "#0d0887"
             ],
             [
              0.1111111111111111,
              "#46039f"
             ],
             [
              0.2222222222222222,
              "#7201a8"
             ],
             [
              0.3333333333333333,
              "#9c179e"
             ],
             [
              0.4444444444444444,
              "#bd3786"
             ],
             [
              0.5555555555555556,
              "#d8576b"
             ],
             [
              0.6666666666666666,
              "#ed7953"
             ],
             [
              0.7777777777777778,
              "#fb9f3a"
             ],
             [
              0.8888888888888888,
              "#fdca26"
             ],
             [
              1,
              "#f0f921"
             ]
            ],
            "type": "histogram2d"
           }
          ],
          "histogram2dcontour": [
           {
            "colorbar": {
             "outlinewidth": 0,
             "ticks": ""
            },
            "colorscale": [
             [
              0,
              "#0d0887"
             ],
             [
              0.1111111111111111,
              "#46039f"
             ],
             [
              0.2222222222222222,
              "#7201a8"
             ],
             [
              0.3333333333333333,
              "#9c179e"
             ],
             [
              0.4444444444444444,
              "#bd3786"
             ],
             [
              0.5555555555555556,
              "#d8576b"
             ],
             [
              0.6666666666666666,
              "#ed7953"
             ],
             [
              0.7777777777777778,
              "#fb9f3a"
             ],
             [
              0.8888888888888888,
              "#fdca26"
             ],
             [
              1,
              "#f0f921"
             ]
            ],
            "type": "histogram2dcontour"
           }
          ],
          "mesh3d": [
           {
            "colorbar": {
             "outlinewidth": 0,
             "ticks": ""
            },
            "type": "mesh3d"
           }
          ],
          "parcoords": [
           {
            "line": {
             "colorbar": {
              "outlinewidth": 0,
              "ticks": ""
             }
            },
            "type": "parcoords"
           }
          ],
          "pie": [
           {
            "automargin": true,
            "type": "pie"
           }
          ],
          "scatter": [
           {
            "marker": {
             "colorbar": {
              "outlinewidth": 0,
              "ticks": ""
             }
            },
            "type": "scatter"
           }
          ],
          "scatter3d": [
           {
            "line": {
             "colorbar": {
              "outlinewidth": 0,
              "ticks": ""
             }
            },
            "marker": {
             "colorbar": {
              "outlinewidth": 0,
              "ticks": ""
             }
            },
            "type": "scatter3d"
           }
          ],
          "scattercarpet": [
           {
            "marker": {
             "colorbar": {
              "outlinewidth": 0,
              "ticks": ""
             }
            },
            "type": "scattercarpet"
           }
          ],
          "scattergeo": [
           {
            "marker": {
             "colorbar": {
              "outlinewidth": 0,
              "ticks": ""
             }
            },
            "type": "scattergeo"
           }
          ],
          "scattergl": [
           {
            "marker": {
             "colorbar": {
              "outlinewidth": 0,
              "ticks": ""
             }
            },
            "type": "scattergl"
           }
          ],
          "scattermapbox": [
           {
            "marker": {
             "colorbar": {
              "outlinewidth": 0,
              "ticks": ""
             }
            },
            "type": "scattermapbox"
           }
          ],
          "scatterpolar": [
           {
            "marker": {
             "colorbar": {
              "outlinewidth": 0,
              "ticks": ""
             }
            },
            "type": "scatterpolar"
           }
          ],
          "scatterpolargl": [
           {
            "marker": {
             "colorbar": {
              "outlinewidth": 0,
              "ticks": ""
             }
            },
            "type": "scatterpolargl"
           }
          ],
          "scatterternary": [
           {
            "marker": {
             "colorbar": {
              "outlinewidth": 0,
              "ticks": ""
             }
            },
            "type": "scatterternary"
           }
          ],
          "surface": [
           {
            "colorbar": {
             "outlinewidth": 0,
             "ticks": ""
            },
            "colorscale": [
             [
              0,
              "#0d0887"
             ],
             [
              0.1111111111111111,
              "#46039f"
             ],
             [
              0.2222222222222222,
              "#7201a8"
             ],
             [
              0.3333333333333333,
              "#9c179e"
             ],
             [
              0.4444444444444444,
              "#bd3786"
             ],
             [
              0.5555555555555556,
              "#d8576b"
             ],
             [
              0.6666666666666666,
              "#ed7953"
             ],
             [
              0.7777777777777778,
              "#fb9f3a"
             ],
             [
              0.8888888888888888,
              "#fdca26"
             ],
             [
              1,
              "#f0f921"
             ]
            ],
            "type": "surface"
           }
          ],
          "table": [
           {
            "cells": {
             "fill": {
              "color": "#EBF0F8"
             },
             "line": {
              "color": "white"
             }
            },
            "header": {
             "fill": {
              "color": "#C8D4E3"
             },
             "line": {
              "color": "white"
             }
            },
            "type": "table"
           }
          ]
         },
         "layout": {
          "annotationdefaults": {
           "arrowcolor": "#2a3f5f",
           "arrowhead": 0,
           "arrowwidth": 1
          },
          "coloraxis": {
           "colorbar": {
            "outlinewidth": 0,
            "ticks": ""
           }
          },
          "colorscale": {
           "diverging": [
            [
             0,
             "#8e0152"
            ],
            [
             0.1,
             "#c51b7d"
            ],
            [
             0.2,
             "#de77ae"
            ],
            [
             0.3,
             "#f1b6da"
            ],
            [
             0.4,
             "#fde0ef"
            ],
            [
             0.5,
             "#f7f7f7"
            ],
            [
             0.6,
             "#e6f5d0"
            ],
            [
             0.7,
             "#b8e186"
            ],
            [
             0.8,
             "#7fbc41"
            ],
            [
             0.9,
             "#4d9221"
            ],
            [
             1,
             "#276419"
            ]
           ],
           "sequential": [
            [
             0,
             "#0d0887"
            ],
            [
             0.1111111111111111,
             "#46039f"
            ],
            [
             0.2222222222222222,
             "#7201a8"
            ],
            [
             0.3333333333333333,
             "#9c179e"
            ],
            [
             0.4444444444444444,
             "#bd3786"
            ],
            [
             0.5555555555555556,
             "#d8576b"
            ],
            [
             0.6666666666666666,
             "#ed7953"
            ],
            [
             0.7777777777777778,
             "#fb9f3a"
            ],
            [
             0.8888888888888888,
             "#fdca26"
            ],
            [
             1,
             "#f0f921"
            ]
           ],
           "sequentialminus": [
            [
             0,
             "#0d0887"
            ],
            [
             0.1111111111111111,
             "#46039f"
            ],
            [
             0.2222222222222222,
             "#7201a8"
            ],
            [
             0.3333333333333333,
             "#9c179e"
            ],
            [
             0.4444444444444444,
             "#bd3786"
            ],
            [
             0.5555555555555556,
             "#d8576b"
            ],
            [
             0.6666666666666666,
             "#ed7953"
            ],
            [
             0.7777777777777778,
             "#fb9f3a"
            ],
            [
             0.8888888888888888,
             "#fdca26"
            ],
            [
             1,
             "#f0f921"
            ]
           ]
          },
          "colorway": [
           "#636efa",
           "#EF553B",
           "#00cc96",
           "#ab63fa",
           "#FFA15A",
           "#19d3f3",
           "#FF6692",
           "#B6E880",
           "#FF97FF",
           "#FECB52"
          ],
          "font": {
           "color": "#2a3f5f"
          },
          "geo": {
           "bgcolor": "white",
           "lakecolor": "white",
           "landcolor": "#E5ECF6",
           "showlakes": true,
           "showland": true,
           "subunitcolor": "white"
          },
          "hoverlabel": {
           "align": "left"
          },
          "hovermode": "closest",
          "mapbox": {
           "style": "light"
          },
          "paper_bgcolor": "white",
          "plot_bgcolor": "#E5ECF6",
          "polar": {
           "angularaxis": {
            "gridcolor": "white",
            "linecolor": "white",
            "ticks": ""
           },
           "bgcolor": "#E5ECF6",
           "radialaxis": {
            "gridcolor": "white",
            "linecolor": "white",
            "ticks": ""
           }
          },
          "scene": {
           "xaxis": {
            "backgroundcolor": "#E5ECF6",
            "gridcolor": "white",
            "gridwidth": 2,
            "linecolor": "white",
            "showbackground": true,
            "ticks": "",
            "zerolinecolor": "white"
           },
           "yaxis": {
            "backgroundcolor": "#E5ECF6",
            "gridcolor": "white",
            "gridwidth": 2,
            "linecolor": "white",
            "showbackground": true,
            "ticks": "",
            "zerolinecolor": "white"
           },
           "zaxis": {
            "backgroundcolor": "#E5ECF6",
            "gridcolor": "white",
            "gridwidth": 2,
            "linecolor": "white",
            "showbackground": true,
            "ticks": "",
            "zerolinecolor": "white"
           }
          },
          "shapedefaults": {
           "line": {
            "color": "#2a3f5f"
           }
          },
          "ternary": {
           "aaxis": {
            "gridcolor": "white",
            "linecolor": "white",
            "ticks": ""
           },
           "baxis": {
            "gridcolor": "white",
            "linecolor": "white",
            "ticks": ""
           },
           "bgcolor": "#E5ECF6",
           "caxis": {
            "gridcolor": "white",
            "linecolor": "white",
            "ticks": ""
           }
          },
          "title": {
           "x": 0.05
          },
          "xaxis": {
           "automargin": true,
           "gridcolor": "white",
           "linecolor": "white",
           "ticks": "",
           "title": {
            "standoff": 15
           },
           "zerolinecolor": "white",
           "zerolinewidth": 2
          },
          "yaxis": {
           "automargin": true,
           "gridcolor": "white",
           "linecolor": "white",
           "ticks": "",
           "title": {
            "standoff": 15
           },
           "zerolinecolor": "white",
           "zerolinewidth": 2
          }
         }
        },
        "title": {
         "text": "%delta_totale_casi"
        }
       }
      },
      "text/html": [
       "<div>\n",
       "        \n",
       "        \n",
       "            <div id=\"1f408525-eace-4b82-a540-bb0c3c082634\" class=\"plotly-graph-div\" style=\"height:800px; width:100%;\"></div>\n",
       "            <script type=\"text/javascript\">\n",
       "                require([\"plotly\"], function(Plotly) {\n",
       "                    window.PLOTLYENV=window.PLOTLYENV || {};\n",
       "                    \n",
       "                if (document.getElementById(\"1f408525-eace-4b82-a540-bb0c3c082634\")) {\n",
       "                    Plotly.newPlot(\n",
       "                        '1f408525-eace-4b82-a540-bb0c3c082634',\n",
       "                        [{\"coloraxis\": \"coloraxis\", \"hoverlabel\": {\"namelength\": 0}, \"hovertemplate\": \"<b>%{hovertext}</b><br><br>%delta_totale_casi=%{z}<br>lat=%{lat}<br>long=%{lon}\", \"hovertext\": [\"Agrigento\", \"Alessandria\", \"Ancona\", \"Aosta\", \"Ascoli Piceno\", \"L'Aquila\", \"Arezzo\", \"Asti\", \"Avellino\", \"Bari\", \"Bergamo\", \"Biella\", \"Belluno\", \"Benevento\", \"Bologna\", \"Brindisi\", \"Brescia\", \"Barletta-Andria-Trani\", \"Bolzano\", \"Cagliari\", \"Campobasso\", \"Caserta\", \"Chieti\", \"Caltanissetta\", \"Cuneo\", \"Como\", \"Cremona\", \"Cosenza\", \"Catania\", \"Catanzaro\", \"Enna\", \"Forl\\u00ec-Cesena\", \"Ferrara\", \"Foggia\", \"Firenze\", \"Fermo\", \"Frosinone\", \"Genova\", \"Gorizia\", \"Grosseto\", \"Imperia\", \"Isernia\", \"Crotone\", \"Lecco\", \"Lecce\", \"Livorno\", \"Lodi\", \"Latina\", \"Lucca\", \"Monza e della Brianza\", \"Macerata\", \"Messina\", \"Milano\", \"Mantova\", \"Modena\", \"Massa Carrara\", \"Matera\", \"Novara\", \"Nuoro\", \"Oristano\", \"Palermo\", \"Piacenza\", \"Padova\", \"Pescara\", \"Perugia\", \"Pisa\", \"Pordenone\", \"Prato\", \"Parma\", \"Pistoia\", \"Pesaro e Urbino\", \"Pavia\", \"Potenza\", \"Ravenna\", \"Reggio di Calabria\", \"Reggio nell'Emilia\", \"Ragusa\", \"Rieti\", \"Roma\", \"Rimini\", \"Rovigo\", \"Salerno\", \"Siena\", \"Sondrio\", \"La Spezia\", \"Siracusa\", \"Sassari\", \"Sud Sardegna\", \"Savona\", \"Taranto\", \"Teramo\", \"Trento\", \"Torino\", \"Trapani\", \"Terni\", \"Trieste\", \"Treviso\", \"Udine\", \"Varese\", \"Verbano-Cusio-Ossola\", \"Vercelli\", \"Venezia\", \"Vicenza\", \"Verona\", \"Viterbo\", \"Vibo Valentia\"], \"lat\": [37.30971088, 44.91297351, 43.61675973, 45.73750286, 42.85322304, 42.35122196, 43.46642752, 44.89912921, 40.91404699, 41.12559576, 45.69441368, 45.5665112, 46.13837528, 41.12969987, 44.49436681, 40.63848545, 45.53993052, 41.22705039, 46.49933453, 39.21531192, 41.55774754, 41.07465878, 42.35103167, 37.49213171, 44.39329625, 45.8099912, 45.13336675, 39.29308681, 37.50287803, 38.90597598, 37.56705701, 44.22268559, 44.83599085, 41.46226865, 43.76923077, 43.16058534, 41.63964569, 44.41149314, 45.94149817, 42.76026758, 43.88570648, 41.58800826, 39.08036878, 45.85575781, 40.35354285, 43.55234873, 45.31440693, 41.46759465, 43.84432283, 45.58439043, 43.30023926, 38.19395845, 45.46679409, 45.15726772, 44.64600009, 44.03674425, 40.66751177, 45.44588506, 40.32318834, 39.90381075, 38.11569725, 45.05193462, 45.40692987, 42.46458398, 43.10675841, 43.71553206, 45.95443546, 43.88062274, 44.80107394, 43.933465000000005, 43.91014021, 45.18509264, 40.63947052, 44.41722493, 38.10922769, 44.69735289, 36.92509198, 42.40488444, 41.89277044, 44.06090087, 45.07107289, 40.67821961, 43.31816374, 46.17099261, 44.10704991, 37.05991687, 40.72667657, 39.16641462, 44.30750461, 40.47354739, 42.6589177, 46.06893511, 45.0732745, 38.01850065, 42.56071258, 45.6494354, 45.66754571, 46.06255516, 45.81701677, 45.921445500000004, 45.32398135, 45.43490485, 45.547497, 45.43839046, 42.4173828, 38.67624147], \"lon\": [13.584574900000002, 8.615401155, 13.5188753, 7.320149366, 13.57691127, 13.39843823, 11.88228844, 8.204142547, 14.79528803, 16.86736689, 9.668424528, 8.054082167, 12.21704167, 14.78151683, 11.341720800000001, 17.94601575, 10.21910323, 16.29520432, 11.35662422, 9.110616306, 14.65916051, 14.33240464, 14.16754574, 14.06184973, 7.551171632000001, 9.085159546, 10.02420865, 16.25609692, 15.08704691, 16.59440194, 14.27909375, 12.04068608, 11.61868934, 15.54305094, 11.25588885, 13.71839535, 13.35117161, 8.9326992, 13.62212502, 11.11356398, 8.027850297999999, 14.22575407, 17.12538864, 9.393392246, 18.1718973, 10.3086781, 9.503720769, 12.90368482, 10.50151366, 9.273582472000001, 13.45307182, 15.55572302, 9.190347404, 10.79277363, 10.92615487, 10.14173829, 16.59792442, 8.621915884, 9.330296393, 8.591183151000001, 13.362356699999998, 9.692632596000001, 11.87608718, 14.21364822, 12.38824698, 10.40127259, 12.66002909, 11.09703315, 10.32834985, 10.91734146, 12.91345989, 9.160157191, 15.80514834, 12.19913936, 15.643452700000001, 10.63007973, 14.73069891, 12.86205939, 12.48366722, 12.5656295, 11.79007, 14.759402599999998, 11.33190988, 9.87147489, 9.8281897, 15.29333182, 8.559667131, 8.526242676, 8.481108654, 17.23237181, 13.70439971, 11.12123097, 7.680687483, 12.51365684, 12.6466875, 13.76813649, 12.24507363, 13.2348383, 8.822868344, 8.551078752999999, 8.423234312, 12.33845213, 11.54597109, 10.99352685, 12.10473416, 16.10157414], \"name\": \"\", \"radius\": 10, \"subplot\": \"mapbox\", \"type\": \"densitymapbox\", \"z\": [0.1, 0.3188405797101449, 0.20973782771535582, 0.8421052631578947, 0.5, 0.2, 0.04878048780487805, 0.0, 0.32432432432432434, 0.0, 0.10070257611241218, 0.34, 0.23170731707317074, 0.0, 0.26521739130434785, 0.0, 0.17994338859684594, 0.0, 0.18137254901960784, 0.3333333333333333, 0.23529411764705882, 0.3333333333333333, 0.26666666666666666, 1.0, 0.4918032786885246, 0.1956521739130435, 0.04966517857142857, 0.0, 0.054945054945054944, 0.0, 1.5, 0.32051282051282054, 0.29411764705882354, 0.0, 0.14814814814814814, 0.0, 0.29411764705882354, 0.0, -0.4838709677419355, 0.3157894736842105, 0.0, 0.0, 0.0, 0.12209302325581395, 0.0, 0.06, 0.031818181818181815, 0.0, 0.06153846153846154, 0.0581039755351682, 0.24468085106382978, 0.1, 0.13314285714285715, 0.12684365781710916, 0.1989100817438692, 0.08333333333333333, 0.0, 0.5352112676056338, 0.0, 0.0, 0.12121212121212122, 0.06027667984189723, 0.08662613981762918, 0.23170731707317074, 0.20930232558139536, 0.09859154929577464, 0.2857142857142857, 0.07142857142857142, 0.06797583081570997, 0.13924050632911392, 0.02949438202247191, 0.10941828254847645, 0.14285714285714285, 0.14, 0.0, 0.3027027027027027, 0.0, 1.75, 0.1638418079096045, 0.1976470588235294, 0.0, 0.16326530612244897, 0.1, 0.022222222222222223, 0.0, 0.4, 0.6285714285714286, 0.6666666666666666, 0.0, 0.0, 0.9, 0.0, 0.5097493036211699, 0.18181818181818182, 0.05263157894736842, 0.17142857142857143, 0.09443099273607748, 0.17829457364341086, 0.09782608695652174, 0.16, 0.17857142857142858, 0.08536585365853659, 0.22127659574468084, 0.26865671641791045, 0.8, 0.0]}],\n",
       "                        {\"coloraxis\": {\"colorbar\": {\"title\": {\"text\": \"%delta_totale_casi\"}}, \"colorscale\": [[0.0, \"#0d0887\"], [0.1111111111111111, \"#46039f\"], [0.2222222222222222, \"#7201a8\"], [0.3333333333333333, \"#9c179e\"], [0.4444444444444444, \"#bd3786\"], [0.5555555555555556, \"#d8576b\"], [0.6666666666666666, \"#ed7953\"], [0.7777777777777778, \"#fb9f3a\"], [0.8888888888888888, \"#fdca26\"], [1.0, \"#f0f921\"]]}, \"height\": 800, \"legend\": {\"tracegroupgap\": 0}, \"mapbox\": {\"center\": {\"lat\": 42.92804048981132, \"lon\": 12.076275447679244}, \"domain\": {\"x\": [0.0, 1.0], \"y\": [0.0, 1.0]}, \"style\": \"stamen-terrain\", \"zoom\": 5}, \"template\": {\"data\": {\"bar\": [{\"error_x\": {\"color\": \"#2a3f5f\"}, \"error_y\": {\"color\": \"#2a3f5f\"}, \"marker\": {\"line\": {\"color\": \"#E5ECF6\", \"width\": 0.5}}, \"type\": \"bar\"}], \"barpolar\": [{\"marker\": {\"line\": {\"color\": \"#E5ECF6\", \"width\": 0.5}}, \"type\": \"barpolar\"}], \"carpet\": [{\"aaxis\": {\"endlinecolor\": \"#2a3f5f\", \"gridcolor\": \"white\", \"linecolor\": \"white\", \"minorgridcolor\": \"white\", \"startlinecolor\": \"#2a3f5f\"}, \"baxis\": {\"endlinecolor\": \"#2a3f5f\", \"gridcolor\": \"white\", \"linecolor\": \"white\", \"minorgridcolor\": \"white\", \"startlinecolor\": \"#2a3f5f\"}, \"type\": \"carpet\"}], \"choropleth\": [{\"colorbar\": {\"outlinewidth\": 0, \"ticks\": \"\"}, \"type\": \"choropleth\"}], \"contour\": [{\"colorbar\": {\"outlinewidth\": 0, \"ticks\": \"\"}, \"colorscale\": [[0.0, \"#0d0887\"], [0.1111111111111111, \"#46039f\"], [0.2222222222222222, \"#7201a8\"], [0.3333333333333333, \"#9c179e\"], [0.4444444444444444, \"#bd3786\"], [0.5555555555555556, \"#d8576b\"], [0.6666666666666666, \"#ed7953\"], [0.7777777777777778, \"#fb9f3a\"], [0.8888888888888888, \"#fdca26\"], [1.0, \"#f0f921\"]], \"type\": \"contour\"}], \"contourcarpet\": [{\"colorbar\": {\"outlinewidth\": 0, \"ticks\": \"\"}, \"type\": \"contourcarpet\"}], \"heatmap\": [{\"colorbar\": {\"outlinewidth\": 0, \"ticks\": \"\"}, \"colorscale\": [[0.0, \"#0d0887\"], [0.1111111111111111, \"#46039f\"], [0.2222222222222222, \"#7201a8\"], [0.3333333333333333, \"#9c179e\"], [0.4444444444444444, \"#bd3786\"], [0.5555555555555556, \"#d8576b\"], [0.6666666666666666, \"#ed7953\"], [0.7777777777777778, \"#fb9f3a\"], [0.8888888888888888, \"#fdca26\"], [1.0, \"#f0f921\"]], \"type\": \"heatmap\"}], \"heatmapgl\": [{\"colorbar\": {\"outlinewidth\": 0, \"ticks\": \"\"}, \"colorscale\": [[0.0, \"#0d0887\"], [0.1111111111111111, \"#46039f\"], [0.2222222222222222, \"#7201a8\"], [0.3333333333333333, \"#9c179e\"], [0.4444444444444444, \"#bd3786\"], [0.5555555555555556, \"#d8576b\"], [0.6666666666666666, \"#ed7953\"], [0.7777777777777778, \"#fb9f3a\"], [0.8888888888888888, \"#fdca26\"], [1.0, \"#f0f921\"]], \"type\": \"heatmapgl\"}], \"histogram\": [{\"marker\": {\"colorbar\": {\"outlinewidth\": 0, \"ticks\": \"\"}}, \"type\": \"histogram\"}], \"histogram2d\": [{\"colorbar\": {\"outlinewidth\": 0, \"ticks\": \"\"}, \"colorscale\": [[0.0, \"#0d0887\"], [0.1111111111111111, \"#46039f\"], [0.2222222222222222, \"#7201a8\"], [0.3333333333333333, \"#9c179e\"], [0.4444444444444444, \"#bd3786\"], [0.5555555555555556, \"#d8576b\"], [0.6666666666666666, \"#ed7953\"], [0.7777777777777778, \"#fb9f3a\"], [0.8888888888888888, \"#fdca26\"], [1.0, \"#f0f921\"]], \"type\": \"histogram2d\"}], \"histogram2dcontour\": [{\"colorbar\": {\"outlinewidth\": 0, \"ticks\": \"\"}, \"colorscale\": [[0.0, \"#0d0887\"], [0.1111111111111111, \"#46039f\"], [0.2222222222222222, \"#7201a8\"], [0.3333333333333333, \"#9c179e\"], [0.4444444444444444, \"#bd3786\"], [0.5555555555555556, \"#d8576b\"], [0.6666666666666666, \"#ed7953\"], [0.7777777777777778, \"#fb9f3a\"], [0.8888888888888888, \"#fdca26\"], [1.0, \"#f0f921\"]], \"type\": \"histogram2dcontour\"}], \"mesh3d\": [{\"colorbar\": {\"outlinewidth\": 0, \"ticks\": \"\"}, \"type\": \"mesh3d\"}], \"parcoords\": [{\"line\": {\"colorbar\": {\"outlinewidth\": 0, \"ticks\": \"\"}}, \"type\": \"parcoords\"}], \"pie\": [{\"automargin\": true, \"type\": \"pie\"}], \"scatter\": [{\"marker\": {\"colorbar\": {\"outlinewidth\": 0, \"ticks\": \"\"}}, \"type\": \"scatter\"}], \"scatter3d\": [{\"line\": {\"colorbar\": {\"outlinewidth\": 0, \"ticks\": \"\"}}, \"marker\": {\"colorbar\": {\"outlinewidth\": 0, \"ticks\": \"\"}}, \"type\": \"scatter3d\"}], \"scattercarpet\": [{\"marker\": {\"colorbar\": {\"outlinewidth\": 0, \"ticks\": \"\"}}, \"type\": \"scattercarpet\"}], \"scattergeo\": [{\"marker\": {\"colorbar\": {\"outlinewidth\": 0, \"ticks\": \"\"}}, \"type\": \"scattergeo\"}], \"scattergl\": [{\"marker\": {\"colorbar\": {\"outlinewidth\": 0, \"ticks\": \"\"}}, \"type\": \"scattergl\"}], \"scattermapbox\": [{\"marker\": {\"colorbar\": {\"outlinewidth\": 0, \"ticks\": \"\"}}, \"type\": \"scattermapbox\"}], \"scatterpolar\": [{\"marker\": {\"colorbar\": {\"outlinewidth\": 0, \"ticks\": \"\"}}, \"type\": \"scatterpolar\"}], \"scatterpolargl\": [{\"marker\": {\"colorbar\": {\"outlinewidth\": 0, \"ticks\": \"\"}}, \"type\": \"scatterpolargl\"}], \"scatterternary\": [{\"marker\": {\"colorbar\": {\"outlinewidth\": 0, \"ticks\": \"\"}}, \"type\": \"scatterternary\"}], \"surface\": [{\"colorbar\": {\"outlinewidth\": 0, \"ticks\": \"\"}, \"colorscale\": [[0.0, \"#0d0887\"], [0.1111111111111111, \"#46039f\"], [0.2222222222222222, \"#7201a8\"], [0.3333333333333333, \"#9c179e\"], [0.4444444444444444, \"#bd3786\"], [0.5555555555555556, \"#d8576b\"], [0.6666666666666666, \"#ed7953\"], [0.7777777777777778, \"#fb9f3a\"], [0.8888888888888888, \"#fdca26\"], [1.0, \"#f0f921\"]], \"type\": \"surface\"}], \"table\": [{\"cells\": {\"fill\": {\"color\": \"#EBF0F8\"}, \"line\": {\"color\": \"white\"}}, \"header\": {\"fill\": {\"color\": \"#C8D4E3\"}, \"line\": {\"color\": \"white\"}}, \"type\": \"table\"}]}, \"layout\": {\"annotationdefaults\": {\"arrowcolor\": \"#2a3f5f\", \"arrowhead\": 0, \"arrowwidth\": 1}, \"coloraxis\": {\"colorbar\": {\"outlinewidth\": 0, \"ticks\": \"\"}}, \"colorscale\": {\"diverging\": [[0, \"#8e0152\"], [0.1, \"#c51b7d\"], [0.2, \"#de77ae\"], [0.3, \"#f1b6da\"], [0.4, \"#fde0ef\"], [0.5, \"#f7f7f7\"], [0.6, \"#e6f5d0\"], [0.7, \"#b8e186\"], [0.8, \"#7fbc41\"], [0.9, \"#4d9221\"], [1, \"#276419\"]], \"sequential\": [[0.0, \"#0d0887\"], [0.1111111111111111, \"#46039f\"], [0.2222222222222222, \"#7201a8\"], [0.3333333333333333, \"#9c179e\"], [0.4444444444444444, \"#bd3786\"], [0.5555555555555556, \"#d8576b\"], [0.6666666666666666, \"#ed7953\"], [0.7777777777777778, \"#fb9f3a\"], [0.8888888888888888, \"#fdca26\"], [1.0, \"#f0f921\"]], \"sequentialminus\": [[0.0, \"#0d0887\"], [0.1111111111111111, \"#46039f\"], [0.2222222222222222, \"#7201a8\"], [0.3333333333333333, \"#9c179e\"], [0.4444444444444444, \"#bd3786\"], [0.5555555555555556, \"#d8576b\"], [0.6666666666666666, \"#ed7953\"], [0.7777777777777778, \"#fb9f3a\"], [0.8888888888888888, \"#fdca26\"], [1.0, \"#f0f921\"]]}, \"colorway\": [\"#636efa\", \"#EF553B\", \"#00cc96\", \"#ab63fa\", \"#FFA15A\", \"#19d3f3\", \"#FF6692\", \"#B6E880\", \"#FF97FF\", \"#FECB52\"], \"font\": {\"color\": \"#2a3f5f\"}, \"geo\": {\"bgcolor\": \"white\", \"lakecolor\": \"white\", \"landcolor\": \"#E5ECF6\", \"showlakes\": true, \"showland\": true, \"subunitcolor\": \"white\"}, \"hoverlabel\": {\"align\": \"left\"}, \"hovermode\": \"closest\", \"mapbox\": {\"style\": \"light\"}, \"paper_bgcolor\": \"white\", \"plot_bgcolor\": \"#E5ECF6\", \"polar\": {\"angularaxis\": {\"gridcolor\": \"white\", \"linecolor\": \"white\", \"ticks\": \"\"}, \"bgcolor\": \"#E5ECF6\", \"radialaxis\": {\"gridcolor\": \"white\", \"linecolor\": \"white\", \"ticks\": \"\"}}, \"scene\": {\"xaxis\": {\"backgroundcolor\": \"#E5ECF6\", \"gridcolor\": \"white\", \"gridwidth\": 2, \"linecolor\": \"white\", \"showbackground\": true, \"ticks\": \"\", \"zerolinecolor\": \"white\"}, \"yaxis\": {\"backgroundcolor\": \"#E5ECF6\", \"gridcolor\": \"white\", \"gridwidth\": 2, \"linecolor\": \"white\", \"showbackground\": true, \"ticks\": \"\", \"zerolinecolor\": \"white\"}, \"zaxis\": {\"backgroundcolor\": \"#E5ECF6\", \"gridcolor\": \"white\", \"gridwidth\": 2, \"linecolor\": \"white\", \"showbackground\": true, \"ticks\": \"\", \"zerolinecolor\": \"white\"}}, \"shapedefaults\": {\"line\": {\"color\": \"#2a3f5f\"}}, \"ternary\": {\"aaxis\": {\"gridcolor\": \"white\", \"linecolor\": \"white\", \"ticks\": \"\"}, \"baxis\": {\"gridcolor\": \"white\", \"linecolor\": \"white\", \"ticks\": \"\"}, \"bgcolor\": \"#E5ECF6\", \"caxis\": {\"gridcolor\": \"white\", \"linecolor\": \"white\", \"ticks\": \"\"}}, \"title\": {\"x\": 0.05}, \"xaxis\": {\"automargin\": true, \"gridcolor\": \"white\", \"linecolor\": \"white\", \"ticks\": \"\", \"title\": {\"standoff\": 15}, \"zerolinecolor\": \"white\", \"zerolinewidth\": 2}, \"yaxis\": {\"automargin\": true, \"gridcolor\": \"white\", \"linecolor\": \"white\", \"ticks\": \"\", \"title\": {\"standoff\": 15}, \"zerolinecolor\": \"white\", \"zerolinewidth\": 2}}}, \"title\": {\"text\": \"%delta_totale_casi\"}},\n",
       "                        {\"responsive\": true}\n",
       "                    ).then(function(){\n",
       "                            \n",
       "var gd = document.getElementById('1f408525-eace-4b82-a540-bb0c3c082634');\n",
       "var x = new MutationObserver(function (mutations, observer) {{\n",
       "        var display = window.getComputedStyle(gd).display;\n",
       "        if (!display || display === 'none') {{\n",
       "            console.log([gd, 'removed!']);\n",
       "            Plotly.purge(gd);\n",
       "            observer.disconnect();\n",
       "        }}\n",
       "}});\n",
       "\n",
       "// Listen for the removal of the full notebook cells\n",
       "var notebookContainer = gd.closest('#notebook-container');\n",
       "if (notebookContainer) {{\n",
       "    x.observe(notebookContainer, {childList: true});\n",
       "}}\n",
       "\n",
       "// Listen for the clearing of the current output cell\n",
       "var outputEl = gd.closest('.output');\n",
       "if (outputEl) {{\n",
       "    x.observe(outputEl, {childList: true});\n",
       "}}\n",
       "\n",
       "                        })\n",
       "                };\n",
       "                });\n",
       "            </script>\n",
       "        </div>"
      ]
     },
     "metadata": {},
     "output_type": "display_data"
    }
   ],
   "source": [
    "col = '%delta_totale_casi'\n",
    "fig = px.density_mapbox(df_prov[df_prov.index==df_prov.index.max()], \n",
    "                        lat='lat', lon='long', z=col, radius=10, \n",
    "                        hover_name='denominazione_provincia',\n",
    "                        zoom=5,  height=800,\n",
    "                        #animation_frame=df_prov.index,\n",
    "                        mapbox_style=\"stamen-terrain\",\n",
    "                        title = col)\n",
    "fig.show()"
   ]
  },
  {
   "cell_type": "markdown",
   "metadata": {},
   "source": [
    "### National evolution"
   ]
  },
  {
   "cell_type": "code",
   "execution_count": 23,
   "metadata": {
    "scrolled": true
   },
   "outputs": [
    {
     "data": {
      "image/png": "[encoded data removed]",
      "text/plain": [
       "<Figure size 432x288 with 1 Axes>"
      ]
     },
     "metadata": {
      "needs_background": "light"
     },
     "output_type": "display_data"
    },
    {
     "data": {
      "image/png": "[encoded data removed]",
      "text/plain": [
       "<Figure size 432x288 with 1 Axes>"
      ]
     },
     "metadata": {
      "needs_background": "light"
     },
     "output_type": "display_data"
    },
    {
     "data": {
      "image/png": "[encoded data removed]",
      "text/plain": [
       "<Figure size 432x288 with 1 Axes>"
      ]
     },
     "metadata": {
      "needs_background": "light"
     },
     "output_type": "display_data"
    },
    {
     "data": {
      "image/png": "[encoded data removed]",
      "text/plain": [
       "<Figure size 432x288 with 1 Axes>"
      ]
     },
     "metadata": {
      "needs_background": "light"
     },
     "output_type": "display_data"
    },
    {
     "data": {
      "image/png": "[encoded data removed]",
      "text/plain": [
       "<Figure size 432x288 with 1 Axes>"
      ]
     },
     "metadata": {
      "needs_background": "light"
     },
     "output_type": "display_data"
    },
    {
     "data": {
      "image/png": "[encoded data removed]",
      "text/plain": [
       "<Figure size 432x288 with 1 Axes>"
      ]
     },
     "metadata": {
      "needs_background": "light"
     },
     "output_type": "display_data"
    },
    {
     "data": {
      "image/png": "[encoded data removed]",
      "text/plain": [
       "<Figure size 432x288 with 1 Axes>"
      ]
     },
     "metadata": {
      "needs_background": "light"
     },
     "output_type": "display_data"
    },
    {
     "data": {
      "image/png": "[encoded data removed]",
      "text/plain": [
       "<Figure size 432x288 with 1 Axes>"
      ]
     },
     "metadata": {
      "needs_background": "light"
     },
     "output_type": "display_data"
    },
    {
     "data": {
      "image/png": "[encoded data removed]",
      "text/plain": [
       "<Figure size 432x288 with 1 Axes>"
      ]
     },
     "metadata": {
      "needs_background": "light"
     },
     "output_type": "display_data"
    },
    {
     "data": {
      "image/png": "[encoded data removed]",
      "text/plain": [
       "<Figure size 432x288 with 1 Axes>"
      ]
     },
     "metadata": {
      "needs_background": "light"
     },
     "output_type": "display_data"
    },
    {
     "data": {
      "image/png": "[encoded data removed]",
      "text/plain": [
       "<Figure size 432x288 with 1 Axes>"
      ]
     },
     "metadata": {
      "needs_background": "light"
     },
     "output_type": "display_data"
    },
    {
     "data": {
      "image/png": "[encoded data removed]",
      "text/plain": [
       "<Figure size 432x288 with 1 Axes>"
      ]
     },
     "metadata": {
      "needs_background": "light"
     },
     "output_type": "display_data"
    },
    {
     "data": {
      "image/png": "[encoded data removed]",
      "text/plain": [
       "<Figure size 432x288 with 1 Axes>"
      ]
     },
     "metadata": {
      "needs_background": "light"
     },
     "output_type": "display_data"
    },
    {
     "data": {
      "image/png": "[encoded data removed]",
      "text/plain": [
       "<Figure size 432x288 with 1 Axes>"
      ]
     },
     "metadata": {
      "needs_background": "light"
     },
     "output_type": "display_data"
    },
    {
     "data": {
      "image/png": "[encoded data removed]",
      "text/plain": [
       "<Figure size 432x288 with 1 Axes>"
      ]
     },
     "metadata": {
      "needs_background": "light"
     },
     "output_type": "display_data"
    },
    {
     "data": {
      "image/png": "[encoded data removed]",
      "text/plain": [
       "<Figure size 432x288 with 1 Axes>"
      ]
     },
     "metadata": {
      "needs_background": "light"
     },
     "output_type": "display_data"
    },
    {
     "data": {
      "image/png": "[encoded data removed]",
      "text/plain": [
       "<Figure size 432x288 with 1 Axes>"
      ]
     },
     "metadata": {
      "needs_background": "light"
     },
     "output_type": "display_data"
    },
    {
     "data": {
      "image/png": "[encoded data removed]",
      "text/plain": [
       "<Figure size 432x288 with 1 Axes>"
      ]
     },
     "metadata": {
      "needs_background": "light"
     },
     "output_type": "display_data"
    },
    {
     "data": {
      "image/png": "[encoded data removed]",
      "text/plain": [
       "<Figure size 432x288 with 1 Axes>"
      ]
     },
     "metadata": {
      "needs_background": "light"
     },
     "output_type": "display_data"
    }
   ],
   "source": [
    "for col in df_naz.columns:\n",
    "    plt.figure()\n",
    "    df_naz[col].plot(kind='bar', title=col)    "
   ]
  },
  {
   "cell_type": "code",
   "execution_count": 25,
   "metadata": {},
   "outputs": [
    {
     "data": {
      "text/plain": [
       "<matplotlib.axes._subplots.AxesSubplot at 0x1e2546661c8>"
      ]
     },
     "execution_count": 25,
     "metadata": {},
     "output_type": "execute_result"
    },
    {
     "data": {
      "image/png": "[encoded data removed]",
      "text/plain": [
       "<Figure size 432x288 with 1 Axes>"
      ]
     },
     "metadata": {
      "needs_background": "light"
     },
     "output_type": "display_data"
    }
   ],
   "source": [
    "df_naz[['nuovi_attualmente_positivi', 'delta_totale_casi','delta_dimessi_guariti','delta_deceduti']].plot(kind='bar')"
   ]
  },
  {
   "cell_type": "code",
   "execution_count": 26,
   "metadata": {},
   "outputs": [
    {
     "data": {
      "text/plain": [
       "<matplotlib.axes._subplots.AxesSubplot at 0x1e2508c8608>"
      ]
     },
     "execution_count": 26,
     "metadata": {},
     "output_type": "execute_result"
    },
    {
     "data": {
      "image/png": "[encoded data removed]",
      "text/plain": [
       "<Figure size 432x288 with 1 Axes>"
      ]
     },
     "metadata": {
      "needs_background": "light"
     },
     "output_type": "display_data"
    }
   ],
   "source": [
    "df_naz[['nuovi_attualmente_positivi', 'delta_totale_casi','delta_dimessi_guariti','delta_deceduti']].iloc[-1].plot(kind='barh')"
   ]
  },
  {
   "cell_type": "code",
   "execution_count": 33,
   "metadata": {},
   "outputs": [
    {
     "data": {
      "text/plain": [
       "Text(0.5, 1.0, \"variazione giornaliera nuovi casi per l'Abruzzo\")"
      ]
     },
     "execution_count": 33,
     "metadata": {},
     "output_type": "execute_result"
    },
    {
     "data": {
      "image/png": "[encoded data removed]",
      "text/plain": [
       "<Figure size 432x288 with 1 Axes>"
      ]
     },
     "metadata": {
      "needs_background": "light"
     },
     "output_type": "display_data"
    }
   ],
   "source": [
    "df_reg['Abruzzo']['delta_totale_casi'].plot(kind='bar')\n",
    "plt.title(\"variazione giornaliera nuovi casi per l'Abruzzo\")"
   ]
  },
  {
   "cell_type": "code",
   "execution_count": 34,
   "metadata": {},
   "outputs": [
    {
     "name": "stderr",
     "output_type": "stream",
     "text": [
      "C:\\Anaconda3\\envs\\weiszbot\\lib\\site-packages\\scipy\\optimize\\minpack.py:795: OptimizeWarning:\n",
      "\n",
      "Covariance of the parameters could not be estimated\n",
      "\n",
      "C:\\Users\\Maurizio Spadaccino\\Documents\\projects\\COVID-19\\notebooks\\tools.py:18: RuntimeWarning:\n",
      "\n",
      "invalid value encountered in power\n",
      "\n",
      "C:\\Users\\Maurizio Spadaccino\\Documents\\projects\\COVID-19\\notebooks\\tools.py:18: RuntimeWarning:\n",
      "\n",
      "divide by zero encountered in true_divide\n",
      "\n"
     ]
    },
    {
     "data": {
      "image/png": "[encoded data removed]",
      "text/plain": [
       "<Figure size 864x864 with 3 Axes>"
      ]
     },
     "metadata": {
      "needs_background": "light"
     },
     "output_type": "display_data"
    },
    {
     "name": "stdout",
     "output_type": "stream",
     "text": [
      "next day prediction for log model:  2661\n",
      "next day prediction for pol model:  2534\n",
      "data\n",
      "03/12/2020    1016\n",
      "03/13/2020    1266\n",
      "03/14/2020    1441\n",
      "03/15/2020    1809\n",
      "03/16/2020    2158\n",
      "Name: deceduti, dtype: int64\n"
     ]
    }
   ],
   "source": [
    "tools.plot_model(df_naz.replace(0,0.01), 'deceduti', backward_fit=0, forward_look=1, showlimit=True)"
   ]
  },
  {
   "cell_type": "code",
   "execution_count": 32,
   "metadata": {},
   "outputs": [
    {
     "data": {
      "image/png": "[encoded data removed]",
      "text/plain": [
       "<Figure size 864x864 with 3 Axes>"
      ]
     },
     "metadata": {
      "needs_background": "light"
     },
     "output_type": "display_data"
    },
    {
     "name": "stdout",
     "output_type": "stream",
     "text": [
      "next day prediction for log model:  32772\n",
      "next day prediction for exp model:  33762\n",
      "next day prediction for pol model:  32470\n",
      "data\n",
      "03/12/2020    15113\n",
      "03/13/2020    17660\n",
      "03/14/2020    21157\n",
      "03/15/2020    24747\n",
      "03/16/2020    27980\n",
      "Name: totale_casi, dtype: int64\n"
     ]
    }
   ],
   "source": [
    "tools.plot_model(df_naz.replace(0,0.01), 'totale_casi', backward_fit=0, forward_look=1, showlimit=False)"
   ]
  },
  {
   "cell_type": "code",
   "execution_count": null,
   "metadata": {},
   "outputs": [],
   "source": []
  }
 ],
 "metadata": {
  "kernelspec": {
   "display_name": "Python 3",
   "language": "python",
   "name": "python3"
  },
  "language_info": {
   "codemirror_mode": {
    "name": "ipython",
    "version": 3
   },
   "file_extension": ".py",
   "mimetype": "text/x-python",
   "name": "python",
   "nbconvert_exporter": "python",
   "pygments_lexer": "ipython3",
   "version": "3.7.6"
  },
  "toc": {
   "base_numbering": 1,
   "nav_menu": {},
   "number_sections": true,
   "sideBar": true,
   "skip_h1_title": false,
   "title_cell": "Table of Contents",
   "title_sidebar": "Contents",
   "toc_cell": false,
   "toc_position": {},
   "toc_section_display": true,
   "toc_window_display": false
  },
  "varInspector": {
   "cols": {
    "lenName": 16,
    "lenType": 16,
    "lenVar": 40
   },
   "kernels_config": {
    "python": {
     "delete_cmd_postfix": "",
     "delete_cmd_prefix": "del ",
     "library": "var_list.py",
     "varRefreshCmd": "print(var_dic_list())"
    },
    "r": {
     "delete_cmd_postfix": ") ",
     "delete_cmd_prefix": "rm(",
     "library": "var_list.r",
     "varRefreshCmd": "cat(var_dic_list()) "
    }
   },
   "types_to_exclude": [
    "module",
    "function",
    "builtin_function_or_method",
    "instance",
    "_Feature"
   ],
   "window_display": false
  }
 },
 "nbformat": 4,
 "nbformat_minor": 2
}
