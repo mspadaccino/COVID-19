{
 "cells": [
  {
   "cell_type": "markdown",
   "metadata": {},
   "source": [
    "# COVID19 evolution analysis"
   ]
  },
  {
   "cell_type": "markdown",
   "metadata": {},
   "source": [
    "#### data loading"
   ]
  },
  {
   "cell_type": "code",
   "execution_count": 1,
   "metadata": {},
   "outputs": [],
   "source": [
    "%load_ext autoreload\n",
    "%autoreload 2\n",
    "import pandas as pd\n",
    "import numpy as np\n",
    "import matplotlib.pyplot as plt\n",
    "import matplotlib.dates as mdates\n",
    "import tools\n",
    "import plotly.express as px"
   ]
  },
  {
   "cell_type": "code",
   "execution_count": 4,
   "metadata": {},
   "outputs": [],
   "source": [
    "df_naz = pd.read_csv('../external_data/ProtezioneCivile/COVID-19/dati-andamento-nazionale/dpc-covid19-ita-andamento-nazionale.csv').drop('stato',1)\n",
    "reg = pd.read_csv('../external_data/ProtezioneCivile/COVID-19/dati-regioni/dpc-covid19-ita-regioni.csv')\n",
    "prov = pd.read_csv('../external_data/ProtezioneCivile/COVID-19/dati-province/dpc-covid19-ita-province.csv').drop('stato',1)\n",
    "df_world_confirmed = pd.read_csv('../external_data/JohnHopkins/COVID-19/csse_covid_19_data/csse_covid_19_time_series/time_series_19-covid-Confirmed.csv')\n",
    "df_world_deaths = pd.read_csv('../external_data/JohnHopkins/COVID-19/csse_covid_19_data/csse_covid_19_time_series/time_series_19-covid-Deaths.csv')\n",
    "df_world_recovered = pd.read_csv('../external_data/JohnHopkins/COVID-19/csse_covid_19_data/csse_covid_19_time_series/time_series_19-covid-Recovered.csv')\n",
    "df_naz = tools.add_extra_features(df_naz)\n",
    "regions = reg.groupby('denominazione_regione')\n",
    "df_reg = {}\n",
    "for item in regions.groups:\n",
    "    df_reg[item] = tools.add_extra_features(regions.get_group(item)).replace((np.inf, np.nan), 0)\n",
    "provinces = prov.groupby('sigla_provincia')\n",
    "df_prov = pd.DataFrame()\n",
    "for item in provinces.groups:\n",
    "    df_prov = pd.concat((df_prov,tools.add_extra_features(provinces.get_group(item)).replace((np.inf, np.nan), 0)),0)"
   ]
  },
  {
   "cell_type": "code",
   "execution_count": 5,
   "metadata": {},
   "outputs": [
    {
     "data": {
      "text/html": [
       "<div>\n",
       "<style scoped>\n",
       "    .dataframe tbody tr th:only-of-type {\n",
       "        vertical-align: middle;\n",
       "    }\n",
       "\n",
       "    .dataframe tbody tr th {\n",
       "        vertical-align: top;\n",
       "    }\n",
       "\n",
       "    .dataframe thead th {\n",
       "        text-align: right;\n",
       "    }\n",
       "</style>\n",
       "<table border=\"1\" class=\"dataframe\">\n",
       "  <thead>\n",
       "    <tr style=\"text-align: right;\">\n",
       "      <th></th>\n",
       "      <th>codice_regione</th>\n",
       "      <th>denominazione_regione</th>\n",
       "      <th>codice_provincia</th>\n",
       "      <th>denominazione_provincia</th>\n",
       "      <th>sigla_provincia</th>\n",
       "      <th>lat</th>\n",
       "      <th>long</th>\n",
       "      <th>totale_casi</th>\n",
       "      <th>delta_totale_casi</th>\n",
       "      <th>%delta_totale_casi</th>\n",
       "      <th>growth_factor</th>\n",
       "    </tr>\n",
       "    <tr>\n",
       "      <th>data</th>\n",
       "      <th></th>\n",
       "      <th></th>\n",
       "      <th></th>\n",
       "      <th></th>\n",
       "      <th></th>\n",
       "      <th></th>\n",
       "      <th></th>\n",
       "      <th></th>\n",
       "      <th></th>\n",
       "      <th></th>\n",
       "      <th></th>\n",
       "    </tr>\n",
       "  </thead>\n",
       "  <tbody>\n",
       "    <tr>\n",
       "      <th>03/16/2020</th>\n",
       "      <td>19</td>\n",
       "      <td>Sicilia</td>\n",
       "      <td>84</td>\n",
       "      <td>Agrigento</td>\n",
       "      <td>AG</td>\n",
       "      <td>37.309711</td>\n",
       "      <td>13.584575</td>\n",
       "      <td>22</td>\n",
       "      <td>2.0</td>\n",
       "      <td>0.100000</td>\n",
       "      <td>0.666667</td>\n",
       "    </tr>\n",
       "    <tr>\n",
       "      <th>03/16/2020</th>\n",
       "      <td>1</td>\n",
       "      <td>Piemonte</td>\n",
       "      <td>6</td>\n",
       "      <td>Alessandria</td>\n",
       "      <td>AL</td>\n",
       "      <td>44.912974</td>\n",
       "      <td>8.615401</td>\n",
       "      <td>273</td>\n",
       "      <td>66.0</td>\n",
       "      <td>0.318841</td>\n",
       "      <td>2.640000</td>\n",
       "    </tr>\n",
       "    <tr>\n",
       "      <th>03/16/2020</th>\n",
       "      <td>11</td>\n",
       "      <td>Marche</td>\n",
       "      <td>42</td>\n",
       "      <td>Ancona</td>\n",
       "      <td>AN</td>\n",
       "      <td>43.616760</td>\n",
       "      <td>13.518875</td>\n",
       "      <td>323</td>\n",
       "      <td>56.0</td>\n",
       "      <td>0.209738</td>\n",
       "      <td>1.076923</td>\n",
       "    </tr>\n",
       "    <tr>\n",
       "      <th>03/16/2020</th>\n",
       "      <td>2</td>\n",
       "      <td>Valle d'Aosta</td>\n",
       "      <td>7</td>\n",
       "      <td>Aosta</td>\n",
       "      <td>AO</td>\n",
       "      <td>45.737503</td>\n",
       "      <td>7.320149</td>\n",
       "      <td>105</td>\n",
       "      <td>48.0</td>\n",
       "      <td>0.842105</td>\n",
       "      <td>3.200000</td>\n",
       "    </tr>\n",
       "    <tr>\n",
       "      <th>03/16/2020</th>\n",
       "      <td>11</td>\n",
       "      <td>Marche</td>\n",
       "      <td>44</td>\n",
       "      <td>Ascoli Piceno</td>\n",
       "      <td>AP</td>\n",
       "      <td>42.853223</td>\n",
       "      <td>13.576911</td>\n",
       "      <td>21</td>\n",
       "      <td>7.0</td>\n",
       "      <td>0.500000</td>\n",
       "      <td>1.000000</td>\n",
       "    </tr>\n",
       "    <tr>\n",
       "      <th>...</th>\n",
       "      <td>...</td>\n",
       "      <td>...</td>\n",
       "      <td>...</td>\n",
       "      <td>...</td>\n",
       "      <td>...</td>\n",
       "      <td>...</td>\n",
       "      <td>...</td>\n",
       "      <td>...</td>\n",
       "      <td>...</td>\n",
       "      <td>...</td>\n",
       "      <td>...</td>\n",
       "    </tr>\n",
       "    <tr>\n",
       "      <th>03/16/2020</th>\n",
       "      <td>5</td>\n",
       "      <td>Veneto</td>\n",
       "      <td>27</td>\n",
       "      <td>Venezia</td>\n",
       "      <td>VE</td>\n",
       "      <td>45.434905</td>\n",
       "      <td>12.338452</td>\n",
       "      <td>356</td>\n",
       "      <td>28.0</td>\n",
       "      <td>0.085366</td>\n",
       "      <td>0.608696</td>\n",
       "    </tr>\n",
       "    <tr>\n",
       "      <th>03/16/2020</th>\n",
       "      <td>5</td>\n",
       "      <td>Veneto</td>\n",
       "      <td>24</td>\n",
       "      <td>Vicenza</td>\n",
       "      <td>VI</td>\n",
       "      <td>45.547497</td>\n",
       "      <td>11.545971</td>\n",
       "      <td>287</td>\n",
       "      <td>52.0</td>\n",
       "      <td>0.221277</td>\n",
       "      <td>0.732394</td>\n",
       "    </tr>\n",
       "    <tr>\n",
       "      <th>03/16/2020</th>\n",
       "      <td>5</td>\n",
       "      <td>Veneto</td>\n",
       "      <td>23</td>\n",
       "      <td>Verona</td>\n",
       "      <td>VR</td>\n",
       "      <td>45.438390</td>\n",
       "      <td>10.993527</td>\n",
       "      <td>425</td>\n",
       "      <td>90.0</td>\n",
       "      <td>0.268657</td>\n",
       "      <td>1.500000</td>\n",
       "    </tr>\n",
       "    <tr>\n",
       "      <th>03/16/2020</th>\n",
       "      <td>12</td>\n",
       "      <td>Lazio</td>\n",
       "      <td>56</td>\n",
       "      <td>Viterbo</td>\n",
       "      <td>VT</td>\n",
       "      <td>42.417383</td>\n",
       "      <td>12.104734</td>\n",
       "      <td>27</td>\n",
       "      <td>12.0</td>\n",
       "      <td>0.800000</td>\n",
       "      <td>6.000000</td>\n",
       "    </tr>\n",
       "    <tr>\n",
       "      <th>03/16/2020</th>\n",
       "      <td>18</td>\n",
       "      <td>Calabria</td>\n",
       "      <td>102</td>\n",
       "      <td>Vibo Valentia</td>\n",
       "      <td>VV</td>\n",
       "      <td>38.676241</td>\n",
       "      <td>16.101574</td>\n",
       "      <td>6</td>\n",
       "      <td>0.0</td>\n",
       "      <td>0.000000</td>\n",
       "      <td>-0.000000</td>\n",
       "    </tr>\n",
       "  </tbody>\n",
       "</table>\n",
       "<p>106 rows × 11 columns</p>\n",
       "</div>"
      ],
      "text/plain": [
       "            codice_regione denominazione_regione  codice_provincia  \\\n",
       "data                                                                 \n",
       "03/16/2020              19               Sicilia                84   \n",
       "03/16/2020               1              Piemonte                 6   \n",
       "03/16/2020              11                Marche                42   \n",
       "03/16/2020               2         Valle d'Aosta                 7   \n",
       "03/16/2020              11                Marche                44   \n",
       "...                    ...                   ...               ...   \n",
       "03/16/2020               5                Veneto                27   \n",
       "03/16/2020               5                Veneto                24   \n",
       "03/16/2020               5                Veneto                23   \n",
       "03/16/2020              12                 Lazio                56   \n",
       "03/16/2020              18              Calabria               102   \n",
       "\n",
       "           denominazione_provincia sigla_provincia        lat       long  \\\n",
       "data                                                                       \n",
       "03/16/2020               Agrigento              AG  37.309711  13.584575   \n",
       "03/16/2020             Alessandria              AL  44.912974   8.615401   \n",
       "03/16/2020                  Ancona              AN  43.616760  13.518875   \n",
       "03/16/2020                   Aosta              AO  45.737503   7.320149   \n",
       "03/16/2020           Ascoli Piceno              AP  42.853223  13.576911   \n",
       "...                            ...             ...        ...        ...   \n",
       "03/16/2020                 Venezia              VE  45.434905  12.338452   \n",
       "03/16/2020                 Vicenza              VI  45.547497  11.545971   \n",
       "03/16/2020                  Verona              VR  45.438390  10.993527   \n",
       "03/16/2020                 Viterbo              VT  42.417383  12.104734   \n",
       "03/16/2020           Vibo Valentia              VV  38.676241  16.101574   \n",
       "\n",
       "            totale_casi  delta_totale_casi  %delta_totale_casi  growth_factor  \n",
       "data                                                                           \n",
       "03/16/2020           22                2.0            0.100000       0.666667  \n",
       "03/16/2020          273               66.0            0.318841       2.640000  \n",
       "03/16/2020          323               56.0            0.209738       1.076923  \n",
       "03/16/2020          105               48.0            0.842105       3.200000  \n",
       "03/16/2020           21                7.0            0.500000       1.000000  \n",
       "...                 ...                ...                 ...            ...  \n",
       "03/16/2020          356               28.0            0.085366       0.608696  \n",
       "03/16/2020          287               52.0            0.221277       0.732394  \n",
       "03/16/2020          425               90.0            0.268657       1.500000  \n",
       "03/16/2020           27               12.0            0.800000       6.000000  \n",
       "03/16/2020            6                0.0            0.000000      -0.000000  \n",
       "\n",
       "[106 rows x 11 columns]"
      ]
     },
     "execution_count": 5,
     "metadata": {},
     "output_type": "execute_result"
    }
   ],
   "source": [
    "df_prov[df_prov.index==df_prov.index.max()]"
   ]
  },
  {
   "cell_type": "markdown",
   "metadata": {},
   "source": [
    "## Italy"
   ]
  },
  {
   "cell_type": "markdown",
   "metadata": {},
   "source": [
    "### diffusion heatmap for provinces"
   ]
  },
  {
   "cell_type": "code",
   "execution_count": 12,
   "metadata": {},
   "outputs": [
    {
     "data": {
      "application/vnd.plotly.v1+json": {
       "config": {
        "plotlyServerURL": "https://plot.ly"
       },
       "data": [
        {
         "coloraxis": "coloraxis",
         "hoverlabel": {
          "namelength": 0
         },
         "hovertemplate": "<b>%{hovertext}</b><br><br>totale_casi=%{z}<br>lat=%{lat}<br>long=%{lon}",
         "hovertext": [
          "Agrigento",
          "Alessandria",
          "Ancona",
          "Aosta",
          "Ascoli Piceno",
          "L'Aquila",
          "Arezzo",
          "Asti",
          "Avellino",
          "Bari",
          "Bergamo",
          "Biella",
          "Belluno",
          "Benevento",
          "Bologna",
          "Brindisi",
          "Brescia",
          "Barletta-Andria-Trani",
          "Bolzano",
          "Cagliari",
          "Campobasso",
          "Caserta",
          "Chieti",
          "Caltanissetta",
          "Cuneo",
          "Como",
          "Cremona",
          "Cosenza",
          "Catania",
          "Catanzaro",
          "Enna",
          "Forlì-Cesena",
          "Ferrara",
          "Foggia",
          "Firenze",
          "Fermo",
          "Frosinone",
          "Genova",
          "Gorizia",
          "Grosseto",
          "Imperia",
          "Isernia",
          "Crotone",
          "Lecco",
          "Lecce",
          "Livorno",
          "Lodi",
          "Latina",
          "Lucca",
          "Monza e della Brianza",
          "Macerata",
          "Messina",
          "Milano",
          "Mantova",
          "Modena",
          "Massa Carrara",
          "Matera",
          "Novara",
          "Nuoro",
          "Oristano",
          "Palermo",
          "Piacenza",
          "Padova",
          "Pescara",
          "Perugia",
          "Pisa",
          "Pordenone",
          "Prato",
          "Parma",
          "Pistoia",
          "Pesaro e Urbino",
          "Pavia",
          "Potenza",
          "Ravenna",
          "Reggio di Calabria",
          "Reggio nell'Emilia",
          "Ragusa",
          "Rieti",
          "Roma",
          "Rimini",
          "Rovigo",
          "Salerno",
          "Siena",
          "Sondrio",
          "La Spezia",
          "Siracusa",
          "Sassari",
          "Sud Sardegna",
          "Savona",
          "Taranto",
          "Teramo",
          "Trento",
          "Torino",
          "Trapani",
          "Terni",
          "Trieste",
          "Treviso",
          "Udine",
          "Varese",
          "Verbano-Cusio-Ossola",
          "Vercelli",
          "Venezia",
          "Vicenza",
          "Verona",
          "Viterbo",
          "Vibo Valentia"
         ],
         "lat": [
          37.30971088,
          44.91297351,
          43.61675973,
          45.73750286,
          42.85322304,
          42.35122196,
          43.46642752,
          44.89912921,
          40.91404699,
          41.12559576,
          45.69441368,
          45.5665112,
          46.13837528,
          41.12969987,
          44.49436681,
          40.63848545,
          45.53993052,
          41.22705039,
          46.49933453,
          39.21531192,
          41.55774754,
          41.07465878,
          42.35103167,
          37.49213171,
          44.39329625,
          45.8099912,
          45.13336675,
          39.29308681,
          37.50287803,
          38.90597598,
          37.56705701,
          44.22268559,
          44.83599085,
          41.46226865,
          43.76923077,
          43.16058534,
          41.63964569,
          44.41149314,
          45.94149817,
          42.76026758,
          43.88570648,
          41.58800826,
          39.08036878,
          45.85575781,
          40.35354285,
          43.55234873,
          45.31440693,
          41.46759465,
          43.84432283,
          45.58439043,
          43.30023926,
          38.19395845,
          45.46679409,
          45.15726772,
          44.64600009,
          44.03674425,
          40.66751177,
          45.44588506,
          40.32318834,
          39.90381075,
          38.11569725,
          45.05193462,
          45.40692987,
          42.46458398,
          43.10675841,
          43.71553206,
          45.95443546,
          43.88062274,
          44.80107394,
          43.933465000000005,
          43.91014021,
          45.18509264,
          40.63947052,
          44.41722493,
          38.10922769,
          44.69735289,
          36.92509198,
          42.40488444,
          41.89277044,
          44.06090087,
          45.07107289,
          40.67821961,
          43.31816374,
          46.17099261,
          44.10704991,
          37.05991687,
          40.72667657,
          39.16641462,
          44.30750461,
          40.47354739,
          42.6589177,
          46.06893511,
          45.0732745,
          38.01850065,
          42.56071258,
          45.6494354,
          45.66754571,
          46.06255516,
          45.81701677,
          45.921445500000004,
          45.32398135,
          45.43490485,
          45.547497,
          45.43839046,
          42.4173828,
          38.67624147
         ],
         "lon": [
          13.584574900000002,
          8.615401155,
          13.5188753,
          7.320149366,
          13.57691127,
          13.39843823,
          11.88228844,
          8.204142547,
          14.79528803,
          16.86736689,
          9.668424528,
          8.054082167,
          12.21704167,
          14.78151683,
          11.341720800000001,
          17.94601575,
          10.21910323,
          16.29520432,
          11.35662422,
          9.110616306,
          14.65916051,
          14.33240464,
          14.16754574,
          14.06184973,
          7.551171632000001,
          9.085159546,
          10.02420865,
          16.25609692,
          15.08704691,
          16.59440194,
          14.27909375,
          12.04068608,
          11.61868934,
          15.54305094,
          11.25588885,
          13.71839535,
          13.35117161,
          8.9326992,
          13.62212502,
          11.11356398,
          8.027850297999999,
          14.22575407,
          17.12538864,
          9.393392246,
          18.1718973,
          10.3086781,
          9.503720769,
          12.90368482,
          10.50151366,
          9.273582472000001,
          13.45307182,
          15.55572302,
          9.190347404,
          10.79277363,
          10.92615487,
          10.14173829,
          16.59792442,
          8.621915884,
          9.330296393,
          8.591183151000001,
          13.362356699999998,
          9.692632596000001,
          11.87608718,
          14.21364822,
          12.38824698,
          10.40127259,
          12.66002909,
          11.09703315,
          10.32834985,
          10.91734146,
          12.91345989,
          9.160157191,
          15.80514834,
          12.19913936,
          15.643452700000001,
          10.63007973,
          14.73069891,
          12.86205939,
          12.48366722,
          12.5656295,
          11.79007,
          14.759402599999998,
          11.33190988,
          9.87147489,
          9.8281897,
          15.29333182,
          8.559667131,
          8.526242676,
          8.481108654,
          17.23237181,
          13.70439971,
          11.12123097,
          7.680687483,
          12.51365684,
          12.6466875,
          13.76813649,
          12.24507363,
          13.2348383,
          8.822868344,
          8.551078752999999,
          8.423234312,
          12.33845213,
          11.54597109,
          10.99352685,
          12.10473416,
          16.10157414
         ],
         "name": "",
         "radius": 10,
         "subplot": "mapbox",
         "type": "densitymapbox",
         "z": [
          22,
          273,
          323,
          105,
          21,
          18,
          43,
          87,
          49,
          58,
          3760,
          67,
          101,
          4,
          291,
          40,
          2918,
          22,
          241,
          24,
          21,
          60,
          38,
          4,
          91,
          220,
          1881,
          17,
          96,
          6,
          5,
          103,
          44,
          62,
          186,
          36,
          44,
          274,
          16,
          50,
          78,
          0,
          17,
          386,
          38,
          53,
          1362,
          23,
          138,
          346,
          117,
          11,
          1983,
          382,
          440,
          117,
          4,
          109,
          19,
          2,
          37,
          1073,
          715,
          101,
          104,
          78,
          54,
          45,
          707,
          90,
          733,
          801,
          8,
          114,
          22,
          241,
          4,
          11,
          412,
          509,
          27,
          57,
          66,
          46,
          60,
          21,
          57,
          5,
          96,
          10,
          19,
          378,
          542,
          13,
          60,
          164,
          452,
          152,
          202,
          58,
          99,
          356,
          287,
          425,
          27,
          6
         ]
        }
       ],
       "layout": {
        "coloraxis": {
         "colorbar": {
          "title": {
           "text": "totale_casi"
          }
         },
         "colorscale": [
          [
           0,
           "#0d0887"
          ],
          [
           0.1111111111111111,
           "#46039f"
          ],
          [
           0.2222222222222222,
           "#7201a8"
          ],
          [
           0.3333333333333333,
           "#9c179e"
          ],
          [
           0.4444444444444444,
           "#bd3786"
          ],
          [
           0.5555555555555556,
           "#d8576b"
          ],
          [
           0.6666666666666666,
           "#ed7953"
          ],
          [
           0.7777777777777778,
           "#fb9f3a"
          ],
          [
           0.8888888888888888,
           "#fdca26"
          ],
          [
           1,
           "#f0f921"
          ]
         ]
        },
        "height": 800,
        "legend": {
         "tracegroupgap": 0
        },
        "mapbox": {
         "center": {
          "lat": 42.92804048981132,
          "lon": 12.076275447679244
         },
         "domain": {
          "x": [
           0,
           1
          ],
          "y": [
           0,
           1
          ]
         },
         "style": "stamen-terrain",
         "zoom": 5
        },
        "template": {
         "data": {
          "bar": [
           {
            "error_x": {
             "color": "#2a3f5f"
            },
            "error_y": {
             "color": "#2a3f5f"
            },
            "marker": {
             "line": {
              "color": "#E5ECF6",
              "width": 0.5
             }
            },
            "type": "bar"
           }
          ],
          "barpolar": [
           {
            "marker": {
             "line": {
              "color": "#E5ECF6",
              "width": 0.5
             }
            },
            "type": "barpolar"
           }
          ],
          "carpet": [
           {
            "aaxis": {
             "endlinecolor": "#2a3f5f",
             "gridcolor": "white",
             "linecolor": "white",
             "minorgridcolor": "white",
             "startlinecolor": "#2a3f5f"
            },
            "baxis": {
             "endlinecolor": "#2a3f5f",
             "gridcolor": "white",
             "linecolor": "white",
             "minorgridcolor": "white",
             "startlinecolor": "#2a3f5f"
            },
            "type": "carpet"
           }
          ],
          "choropleth": [
           {
            "colorbar": {
             "outlinewidth": 0,
             "ticks": ""
            },
            "type": "choropleth"
           }
          ],
          "contour": [
           {
            "colorbar": {
             "outlinewidth": 0,
             "ticks": ""
            },
            "colorscale": [
             [
              0,
              "#0d0887"
             ],
             [
              0.1111111111111111,
              "#46039f"
             ],
             [
              0.2222222222222222,
              "#7201a8"
             ],
             [
              0.3333333333333333,
              "#9c179e"
             ],
             [
              0.4444444444444444,
              "#bd3786"
             ],
             [
              0.5555555555555556,
              "#d8576b"
             ],
             [
              0.6666666666666666,
              "#ed7953"
             ],
             [
              0.7777777777777778,
              "#fb9f3a"
             ],
             [
              0.8888888888888888,
              "#fdca26"
             ],
             [
              1,
              "#f0f921"
             ]
            ],
            "type": "contour"
           }
          ],
          "contourcarpet": [
           {
            "colorbar": {
             "outlinewidth": 0,
             "ticks": ""
            },
            "type": "contourcarpet"
           }
          ],
          "heatmap": [
           {
            "colorbar": {
             "outlinewidth": 0,
             "ticks": ""
            },
            "colorscale": [
             [
              0,
              "#0d0887"
             ],
             [
              0.1111111111111111,
              "#46039f"
             ],
             [
              0.2222222222222222,
              "#7201a8"
             ],
             [
              0.3333333333333333,
              "#9c179e"
             ],
             [
              0.4444444444444444,
              "#bd3786"
             ],
             [
              0.5555555555555556,
              "#d8576b"
             ],
             [
              0.6666666666666666,
              "#ed7953"
             ],
             [
              0.7777777777777778,
              "#fb9f3a"
             ],
             [
              0.8888888888888888,
              "#fdca26"
             ],
             [
              1,
              "#f0f921"
             ]
            ],
            "type": "heatmap"
           }
          ],
          "heatmapgl": [
           {
            "colorbar": {
             "outlinewidth": 0,
             "ticks": ""
            },
            "colorscale": [
             [
              0,
              "#0d0887"
             ],
             [
              0.1111111111111111,
              "#46039f"
             ],
             [
              0.2222222222222222,
              "#7201a8"
             ],
             [
              0.3333333333333333,
              "#9c179e"
             ],
             [
              0.4444444444444444,
              "#bd3786"
             ],
             [
              0.5555555555555556,
              "#d8576b"
             ],
             [
              0.6666666666666666,
              "#ed7953"
             ],
             [
              0.7777777777777778,
              "#fb9f3a"
             ],
             [
              0.8888888888888888,
              "#fdca26"
             ],
             [
              1,
              "#f0f921"
             ]
            ],
            "type": "heatmapgl"
           }
          ],
          "histogram": [
           {
            "marker": {
             "colorbar": {
              "outlinewidth": 0,
              "ticks": ""
             }
            },
            "type": "histogram"
           }
          ],
          "histogram2d": [
           {
            "colorbar": {
             "outlinewidth": 0,
             "ticks": ""
            },
            "colorscale": [
             [
              0,
              "#0d0887"
             ],
             [
              0.1111111111111111,
              "#46039f"
             ],
             [
              0.2222222222222222,
              "#7201a8"
             ],
             [
              0.3333333333333333,
              "#9c179e"
             ],
             [
              0.4444444444444444,
              "#bd3786"
             ],
             [
              0.5555555555555556,
              "#d8576b"
             ],
             [
              0.6666666666666666,
              "#ed7953"
             ],
             [
              0.7777777777777778,
              "#fb9f3a"
             ],
             [
              0.8888888888888888,
              "#fdca26"
             ],
             [
              1,
              "#f0f921"
             ]
            ],
            "type": "histogram2d"
           }
          ],
          "histogram2dcontour": [
           {
            "colorbar": {
             "outlinewidth": 0,
             "ticks": ""
            },
            "colorscale": [
             [
              0,
              "#0d0887"
             ],
             [
              0.1111111111111111,
              "#46039f"
             ],
             [
              0.2222222222222222,
              "#7201a8"
             ],
             [
              0.3333333333333333,
              "#9c179e"
             ],
             [
              0.4444444444444444,
              "#bd3786"
             ],
             [
              0.5555555555555556,
              "#d8576b"
             ],
             [
              0.6666666666666666,
              "#ed7953"
             ],
             [
              0.7777777777777778,
              "#fb9f3a"
             ],
             [
              0.8888888888888888,
              "#fdca26"
             ],
             [
              1,
              "#f0f921"
             ]
            ],
            "type": "histogram2dcontour"
           }
          ],
          "mesh3d": [
           {
            "colorbar": {
             "outlinewidth": 0,
             "ticks": ""
            },
            "type": "mesh3d"
           }
          ],
          "parcoords": [
           {
            "line": {
             "colorbar": {
              "outlinewidth": 0,
              "ticks": ""
             }
            },
            "type": "parcoords"
           }
          ],
          "pie": [
           {
            "automargin": true,
            "type": "pie"
           }
          ],
          "scatter": [
           {
            "marker": {
             "colorbar": {
              "outlinewidth": 0,
              "ticks": ""
             }
            },
            "type": "scatter"
           }
          ],
          "scatter3d": [
           {
            "line": {
             "colorbar": {
              "outlinewidth": 0,
              "ticks": ""
             }
            },
            "marker": {
             "colorbar": {
              "outlinewidth": 0,
              "ticks": ""
             }
            },
            "type": "scatter3d"
           }
          ],
          "scattercarpet": [
           {
            "marker": {
             "colorbar": {
              "outlinewidth": 0,
              "ticks": ""
             }
            },
            "type": "scattercarpet"
           }
          ],
          "scattergeo": [
           {
            "marker": {
             "colorbar": {
              "outlinewidth": 0,
              "ticks": ""
             }
            },
            "type": "scattergeo"
           }
          ],
          "scattergl": [
           {
            "marker": {
             "colorbar": {
              "outlinewidth": 0,
              "ticks": ""
             }
            },
            "type": "scattergl"
           }
          ],
          "scattermapbox": [
           {
            "marker": {
             "colorbar": {
              "outlinewidth": 0,
              "ticks": ""
             }
            },
            "type": "scattermapbox"
           }
          ],
          "scatterpolar": [
           {
            "marker": {
             "colorbar": {
              "outlinewidth": 0,
              "ticks": ""
             }
            },
            "type": "scatterpolar"
           }
          ],
          "scatterpolargl": [
           {
            "marker": {
             "colorbar": {
              "outlinewidth": 0,
              "ticks": ""
             }
            },
            "type": "scatterpolargl"
           }
          ],
          "scatterternary": [
           {
            "marker": {
             "colorbar": {
              "outlinewidth": 0,
              "ticks": ""
             }
            },
            "type": "scatterternary"
           }
          ],
          "surface": [
           {
            "colorbar": {
             "outlinewidth": 0,
             "ticks": ""
            },
            "colorscale": [
             [
              0,
              "#0d0887"
             ],
             [
              0.1111111111111111,
              "#46039f"
             ],
             [
              0.2222222222222222,
              "#7201a8"
             ],
             [
              0.3333333333333333,
              "#9c179e"
             ],
             [
              0.4444444444444444,
              "#bd3786"
             ],
             [
              0.5555555555555556,
              "#d8576b"
             ],
             [
              0.6666666666666666,
              "#ed7953"
             ],
             [
              0.7777777777777778,
              "#fb9f3a"
             ],
             [
              0.8888888888888888,
              "#fdca26"
             ],
             [
              1,
              "#f0f921"
             ]
            ],
            "type": "surface"
           }
          ],
          "table": [
           {
            "cells": {
             "fill": {
              "color": "#EBF0F8"
             },
             "line": {
              "color": "white"
             }
            },
            "header": {
             "fill": {
              "color": "#C8D4E3"
             },
             "line": {
              "color": "white"
             }
            },
            "type": "table"
           }
          ]
         },
         "layout": {
          "annotationdefaults": {
           "arrowcolor": "#2a3f5f",
           "arrowhead": 0,
           "arrowwidth": 1
          },
          "coloraxis": {
           "colorbar": {
            "outlinewidth": 0,
            "ticks": ""
           }
          },
          "colorscale": {
           "diverging": [
            [
             0,
             "#8e0152"
            ],
            [
             0.1,
             "#c51b7d"
            ],
            [
             0.2,
             "#de77ae"
            ],
            [
             0.3,
             "#f1b6da"
            ],
            [
             0.4,
             "#fde0ef"
            ],
            [
             0.5,
             "#f7f7f7"
            ],
            [
             0.6,
             "#e6f5d0"
            ],
            [
             0.7,
             "#b8e186"
            ],
            [
             0.8,
             "#7fbc41"
            ],
            [
             0.9,
             "#4d9221"
            ],
            [
             1,
             "#276419"
            ]
           ],
           "sequential": [
            [
             0,
             "#0d0887"
            ],
            [
             0.1111111111111111,
             "#46039f"
            ],
            [
             0.2222222222222222,
             "#7201a8"
            ],
            [
             0.3333333333333333,
             "#9c179e"
            ],
            [
             0.4444444444444444,
             "#bd3786"
            ],
            [
             0.5555555555555556,
             "#d8576b"
            ],
            [
             0.6666666666666666,
             "#ed7953"
            ],
            [
             0.7777777777777778,
             "#fb9f3a"
            ],
            [
             0.8888888888888888,
             "#fdca26"
            ],
            [
             1,
             "#f0f921"
            ]
           ],
           "sequentialminus": [
            [
             0,
             "#0d0887"
            ],
            [
             0.1111111111111111,
             "#46039f"
            ],
            [
             0.2222222222222222,
             "#7201a8"
            ],
            [
             0.3333333333333333,
             "#9c179e"
            ],
            [
             0.4444444444444444,
             "#bd3786"
            ],
            [
             0.5555555555555556,
             "#d8576b"
            ],
            [
             0.6666666666666666,
             "#ed7953"
            ],
            [
             0.7777777777777778,
             "#fb9f3a"
            ],
            [
             0.8888888888888888,
             "#fdca26"
            ],
            [
             1,
             "#f0f921"
            ]
           ]
          },
          "colorway": [
           "#636efa",
           "#EF553B",
           "#00cc96",
           "#ab63fa",
           "#FFA15A",
           "#19d3f3",
           "#FF6692",
           "#B6E880",
           "#FF97FF",
           "#FECB52"
          ],
          "font": {
           "color": "#2a3f5f"
          },
          "geo": {
           "bgcolor": "white",
           "lakecolor": "white",
           "landcolor": "#E5ECF6",
           "showlakes": true,
           "showland": true,
           "subunitcolor": "white"
          },
          "hoverlabel": {
           "align": "left"
          },
          "hovermode": "closest",
          "mapbox": {
           "style": "light"
          },
          "paper_bgcolor": "white",
          "plot_bgcolor": "#E5ECF6",
          "polar": {
           "angularaxis": {
            "gridcolor": "white",
            "linecolor": "white",
            "ticks": ""
           },
           "bgcolor": "#E5ECF6",
           "radialaxis": {
            "gridcolor": "white",
            "linecolor": "white",
            "ticks": ""
           }
          },
          "scene": {
           "xaxis": {
            "backgroundcolor": "#E5ECF6",
            "gridcolor": "white",
            "gridwidth": 2,
            "linecolor": "white",
            "showbackground": true,
            "ticks": "",
            "zerolinecolor": "white"
           },
           "yaxis": {
            "backgroundcolor": "#E5ECF6",
            "gridcolor": "white",
            "gridwidth": 2,
            "linecolor": "white",
            "showbackground": true,
            "ticks": "",
            "zerolinecolor": "white"
           },
           "zaxis": {
            "backgroundcolor": "#E5ECF6",
            "gridcolor": "white",
            "gridwidth": 2,
            "linecolor": "white",
            "showbackground": true,
            "ticks": "",
            "zerolinecolor": "white"
           }
          },
          "shapedefaults": {
           "line": {
            "color": "#2a3f5f"
           }
          },
          "ternary": {
           "aaxis": {
            "gridcolor": "white",
            "linecolor": "white",
            "ticks": ""
           },
           "baxis": {
            "gridcolor": "white",
            "linecolor": "white",
            "ticks": ""
           },
           "bgcolor": "#E5ECF6",
           "caxis": {
            "gridcolor": "white",
            "linecolor": "white",
            "ticks": ""
           }
          },
          "title": {
           "x": 0.05
          },
          "xaxis": {
           "automargin": true,
           "gridcolor": "white",
           "linecolor": "white",
           "ticks": "",
           "title": {
            "standoff": 15
           },
           "zerolinecolor": "white",
           "zerolinewidth": 2
          },
          "yaxis": {
           "automargin": true,
           "gridcolor": "white",
           "linecolor": "white",
           "ticks": "",
           "title": {
            "standoff": 15
           },
           "zerolinecolor": "white",
           "zerolinewidth": 2
          }
         }
        },
        "title": {
         "text": "totale_casi on 03/16/2020"
        }
       }
      },
      "text/html": [
       "<div>\n",
       "        \n",
       "        \n",
       "            <div id=\"29dc9c20-04f0-4362-baa4-138854abe132\" class=\"plotly-graph-div\" style=\"height:800px; width:100%;\"></div>\n",
       "            <script type=\"text/javascript\">\n",
       "                require([\"plotly\"], function(Plotly) {\n",
       "                    window.PLOTLYENV=window.PLOTLYENV || {};\n",
       "                    \n",
       "                if (document.getElementById(\"29dc9c20-04f0-4362-baa4-138854abe132\")) {\n",
       "                    Plotly.newPlot(\n",
       "                        '29dc9c20-04f0-4362-baa4-138854abe132',\n",
       "                        [{\"coloraxis\": \"coloraxis\", \"hoverlabel\": {\"namelength\": 0}, \"hovertemplate\": \"<b>%{hovertext}</b><br><br>totale_casi=%{z}<br>lat=%{lat}<br>long=%{lon}\", \"hovertext\": [\"Agrigento\", \"Alessandria\", \"Ancona\", \"Aosta\", \"Ascoli Piceno\", \"L'Aquila\", \"Arezzo\", \"Asti\", \"Avellino\", \"Bari\", \"Bergamo\", \"Biella\", \"Belluno\", \"Benevento\", \"Bologna\", \"Brindisi\", \"Brescia\", \"Barletta-Andria-Trani\", \"Bolzano\", \"Cagliari\", \"Campobasso\", \"Caserta\", \"Chieti\", \"Caltanissetta\", \"Cuneo\", \"Como\", \"Cremona\", \"Cosenza\", \"Catania\", \"Catanzaro\", \"Enna\", \"Forl\\u00ec-Cesena\", \"Ferrara\", \"Foggia\", \"Firenze\", \"Fermo\", \"Frosinone\", \"Genova\", \"Gorizia\", \"Grosseto\", \"Imperia\", \"Isernia\", \"Crotone\", \"Lecco\", \"Lecce\", \"Livorno\", \"Lodi\", \"Latina\", \"Lucca\", \"Monza e della Brianza\", \"Macerata\", \"Messina\", \"Milano\", \"Mantova\", \"Modena\", \"Massa Carrara\", \"Matera\", \"Novara\", \"Nuoro\", \"Oristano\", \"Palermo\", \"Piacenza\", \"Padova\", \"Pescara\", \"Perugia\", \"Pisa\", \"Pordenone\", \"Prato\", \"Parma\", \"Pistoia\", \"Pesaro e Urbino\", \"Pavia\", \"Potenza\", \"Ravenna\", \"Reggio di Calabria\", \"Reggio nell'Emilia\", \"Ragusa\", \"Rieti\", \"Roma\", \"Rimini\", \"Rovigo\", \"Salerno\", \"Siena\", \"Sondrio\", \"La Spezia\", \"Siracusa\", \"Sassari\", \"Sud Sardegna\", \"Savona\", \"Taranto\", \"Teramo\", \"Trento\", \"Torino\", \"Trapani\", \"Terni\", \"Trieste\", \"Treviso\", \"Udine\", \"Varese\", \"Verbano-Cusio-Ossola\", \"Vercelli\", \"Venezia\", \"Vicenza\", \"Verona\", \"Viterbo\", \"Vibo Valentia\"], \"lat\": [37.30971088, 44.91297351, 43.61675973, 45.73750286, 42.85322304, 42.35122196, 43.46642752, 44.89912921, 40.91404699, 41.12559576, 45.69441368, 45.5665112, 46.13837528, 41.12969987, 44.49436681, 40.63848545, 45.53993052, 41.22705039, 46.49933453, 39.21531192, 41.55774754, 41.07465878, 42.35103167, 37.49213171, 44.39329625, 45.8099912, 45.13336675, 39.29308681, 37.50287803, 38.90597598, 37.56705701, 44.22268559, 44.83599085, 41.46226865, 43.76923077, 43.16058534, 41.63964569, 44.41149314, 45.94149817, 42.76026758, 43.88570648, 41.58800826, 39.08036878, 45.85575781, 40.35354285, 43.55234873, 45.31440693, 41.46759465, 43.84432283, 45.58439043, 43.30023926, 38.19395845, 45.46679409, 45.15726772, 44.64600009, 44.03674425, 40.66751177, 45.44588506, 40.32318834, 39.90381075, 38.11569725, 45.05193462, 45.40692987, 42.46458398, 43.10675841, 43.71553206, 45.95443546, 43.88062274, 44.80107394, 43.933465000000005, 43.91014021, 45.18509264, 40.63947052, 44.41722493, 38.10922769, 44.69735289, 36.92509198, 42.40488444, 41.89277044, 44.06090087, 45.07107289, 40.67821961, 43.31816374, 46.17099261, 44.10704991, 37.05991687, 40.72667657, 39.16641462, 44.30750461, 40.47354739, 42.6589177, 46.06893511, 45.0732745, 38.01850065, 42.56071258, 45.6494354, 45.66754571, 46.06255516, 45.81701677, 45.921445500000004, 45.32398135, 45.43490485, 45.547497, 45.43839046, 42.4173828, 38.67624147], \"lon\": [13.584574900000002, 8.615401155, 13.5188753, 7.320149366, 13.57691127, 13.39843823, 11.88228844, 8.204142547, 14.79528803, 16.86736689, 9.668424528, 8.054082167, 12.21704167, 14.78151683, 11.341720800000001, 17.94601575, 10.21910323, 16.29520432, 11.35662422, 9.110616306, 14.65916051, 14.33240464, 14.16754574, 14.06184973, 7.551171632000001, 9.085159546, 10.02420865, 16.25609692, 15.08704691, 16.59440194, 14.27909375, 12.04068608, 11.61868934, 15.54305094, 11.25588885, 13.71839535, 13.35117161, 8.9326992, 13.62212502, 11.11356398, 8.027850297999999, 14.22575407, 17.12538864, 9.393392246, 18.1718973, 10.3086781, 9.503720769, 12.90368482, 10.50151366, 9.273582472000001, 13.45307182, 15.55572302, 9.190347404, 10.79277363, 10.92615487, 10.14173829, 16.59792442, 8.621915884, 9.330296393, 8.591183151000001, 13.362356699999998, 9.692632596000001, 11.87608718, 14.21364822, 12.38824698, 10.40127259, 12.66002909, 11.09703315, 10.32834985, 10.91734146, 12.91345989, 9.160157191, 15.80514834, 12.19913936, 15.643452700000001, 10.63007973, 14.73069891, 12.86205939, 12.48366722, 12.5656295, 11.79007, 14.759402599999998, 11.33190988, 9.87147489, 9.8281897, 15.29333182, 8.559667131, 8.526242676, 8.481108654, 17.23237181, 13.70439971, 11.12123097, 7.680687483, 12.51365684, 12.6466875, 13.76813649, 12.24507363, 13.2348383, 8.822868344, 8.551078752999999, 8.423234312, 12.33845213, 11.54597109, 10.99352685, 12.10473416, 16.10157414], \"name\": \"\", \"radius\": 10, \"subplot\": \"mapbox\", \"type\": \"densitymapbox\", \"z\": [22, 273, 323, 105, 21, 18, 43, 87, 49, 58, 3760, 67, 101, 4, 291, 40, 2918, 22, 241, 24, 21, 60, 38, 4, 91, 220, 1881, 17, 96, 6, 5, 103, 44, 62, 186, 36, 44, 274, 16, 50, 78, 0, 17, 386, 38, 53, 1362, 23, 138, 346, 117, 11, 1983, 382, 440, 117, 4, 109, 19, 2, 37, 1073, 715, 101, 104, 78, 54, 45, 707, 90, 733, 801, 8, 114, 22, 241, 4, 11, 412, 509, 27, 57, 66, 46, 60, 21, 57, 5, 96, 10, 19, 378, 542, 13, 60, 164, 452, 152, 202, 58, 99, 356, 287, 425, 27, 6]}],\n",
       "                        {\"coloraxis\": {\"colorbar\": {\"title\": {\"text\": \"totale_casi\"}}, \"colorscale\": [[0.0, \"#0d0887\"], [0.1111111111111111, \"#46039f\"], [0.2222222222222222, \"#7201a8\"], [0.3333333333333333, \"#9c179e\"], [0.4444444444444444, \"#bd3786\"], [0.5555555555555556, \"#d8576b\"], [0.6666666666666666, \"#ed7953\"], [0.7777777777777778, \"#fb9f3a\"], [0.8888888888888888, \"#fdca26\"], [1.0, \"#f0f921\"]]}, \"height\": 800, \"legend\": {\"tracegroupgap\": 0}, \"mapbox\": {\"center\": {\"lat\": 42.92804048981132, \"lon\": 12.076275447679244}, \"domain\": {\"x\": [0.0, 1.0], \"y\": [0.0, 1.0]}, \"style\": \"stamen-terrain\", \"zoom\": 5}, \"template\": {\"data\": {\"bar\": [{\"error_x\": {\"color\": \"#2a3f5f\"}, \"error_y\": {\"color\": \"#2a3f5f\"}, \"marker\": {\"line\": {\"color\": \"#E5ECF6\", \"width\": 0.5}}, \"type\": \"bar\"}], \"barpolar\": [{\"marker\": {\"line\": {\"color\": \"#E5ECF6\", \"width\": 0.5}}, \"type\": \"barpolar\"}], \"carpet\": [{\"aaxis\": {\"endlinecolor\": \"#2a3f5f\", \"gridcolor\": \"white\", \"linecolor\": \"white\", \"minorgridcolor\": \"white\", \"startlinecolor\": \"#2a3f5f\"}, \"baxis\": {\"endlinecolor\": \"#2a3f5f\", \"gridcolor\": \"white\", \"linecolor\": \"white\", \"minorgridcolor\": \"white\", \"startlinecolor\": \"#2a3f5f\"}, \"type\": \"carpet\"}], \"choropleth\": [{\"colorbar\": {\"outlinewidth\": 0, \"ticks\": \"\"}, \"type\": \"choropleth\"}], \"contour\": [{\"colorbar\": {\"outlinewidth\": 0, \"ticks\": \"\"}, \"colorscale\": [[0.0, \"#0d0887\"], [0.1111111111111111, \"#46039f\"], [0.2222222222222222, \"#7201a8\"], [0.3333333333333333, \"#9c179e\"], [0.4444444444444444, \"#bd3786\"], [0.5555555555555556, \"#d8576b\"], [0.6666666666666666, \"#ed7953\"], [0.7777777777777778, \"#fb9f3a\"], [0.8888888888888888, \"#fdca26\"], [1.0, \"#f0f921\"]], \"type\": \"contour\"}], \"contourcarpet\": [{\"colorbar\": {\"outlinewidth\": 0, \"ticks\": \"\"}, \"type\": \"contourcarpet\"}], \"heatmap\": [{\"colorbar\": {\"outlinewidth\": 0, \"ticks\": \"\"}, \"colorscale\": [[0.0, \"#0d0887\"], [0.1111111111111111, \"#46039f\"], [0.2222222222222222, \"#7201a8\"], [0.3333333333333333, \"#9c179e\"], [0.4444444444444444, \"#bd3786\"], [0.5555555555555556, \"#d8576b\"], [0.6666666666666666, \"#ed7953\"], [0.7777777777777778, \"#fb9f3a\"], [0.8888888888888888, \"#fdca26\"], [1.0, \"#f0f921\"]], \"type\": \"heatmap\"}], \"heatmapgl\": [{\"colorbar\": {\"outlinewidth\": 0, \"ticks\": \"\"}, \"colorscale\": [[0.0, \"#0d0887\"], [0.1111111111111111, \"#46039f\"], [0.2222222222222222, \"#7201a8\"], [0.3333333333333333, \"#9c179e\"], [0.4444444444444444, \"#bd3786\"], [0.5555555555555556, \"#d8576b\"], [0.6666666666666666, \"#ed7953\"], [0.7777777777777778, \"#fb9f3a\"], [0.8888888888888888, \"#fdca26\"], [1.0, \"#f0f921\"]], \"type\": \"heatmapgl\"}], \"histogram\": [{\"marker\": {\"colorbar\": {\"outlinewidth\": 0, \"ticks\": \"\"}}, \"type\": \"histogram\"}], \"histogram2d\": [{\"colorbar\": {\"outlinewidth\": 0, \"ticks\": \"\"}, \"colorscale\": [[0.0, \"#0d0887\"], [0.1111111111111111, \"#46039f\"], [0.2222222222222222, \"#7201a8\"], [0.3333333333333333, \"#9c179e\"], [0.4444444444444444, \"#bd3786\"], [0.5555555555555556, \"#d8576b\"], [0.6666666666666666, \"#ed7953\"], [0.7777777777777778, \"#fb9f3a\"], [0.8888888888888888, \"#fdca26\"], [1.0, \"#f0f921\"]], \"type\": \"histogram2d\"}], \"histogram2dcontour\": [{\"colorbar\": {\"outlinewidth\": 0, \"ticks\": \"\"}, \"colorscale\": [[0.0, \"#0d0887\"], [0.1111111111111111, \"#46039f\"], [0.2222222222222222, \"#7201a8\"], [0.3333333333333333, \"#9c179e\"], [0.4444444444444444, \"#bd3786\"], [0.5555555555555556, \"#d8576b\"], [0.6666666666666666, \"#ed7953\"], [0.7777777777777778, \"#fb9f3a\"], [0.8888888888888888, \"#fdca26\"], [1.0, \"#f0f921\"]], \"type\": \"histogram2dcontour\"}], \"mesh3d\": [{\"colorbar\": {\"outlinewidth\": 0, \"ticks\": \"\"}, \"type\": \"mesh3d\"}], \"parcoords\": [{\"line\": {\"colorbar\": {\"outlinewidth\": 0, \"ticks\": \"\"}}, \"type\": \"parcoords\"}], \"pie\": [{\"automargin\": true, \"type\": \"pie\"}], \"scatter\": [{\"marker\": {\"colorbar\": {\"outlinewidth\": 0, \"ticks\": \"\"}}, \"type\": \"scatter\"}], \"scatter3d\": [{\"line\": {\"colorbar\": {\"outlinewidth\": 0, \"ticks\": \"\"}}, \"marker\": {\"colorbar\": {\"outlinewidth\": 0, \"ticks\": \"\"}}, \"type\": \"scatter3d\"}], \"scattercarpet\": [{\"marker\": {\"colorbar\": {\"outlinewidth\": 0, \"ticks\": \"\"}}, \"type\": \"scattercarpet\"}], \"scattergeo\": [{\"marker\": {\"colorbar\": {\"outlinewidth\": 0, \"ticks\": \"\"}}, \"type\": \"scattergeo\"}], \"scattergl\": [{\"marker\": {\"colorbar\": {\"outlinewidth\": 0, \"ticks\": \"\"}}, \"type\": \"scattergl\"}], \"scattermapbox\": [{\"marker\": {\"colorbar\": {\"outlinewidth\": 0, \"ticks\": \"\"}}, \"type\": \"scattermapbox\"}], \"scatterpolar\": [{\"marker\": {\"colorbar\": {\"outlinewidth\": 0, \"ticks\": \"\"}}, \"type\": \"scatterpolar\"}], \"scatterpolargl\": [{\"marker\": {\"colorbar\": {\"outlinewidth\": 0, \"ticks\": \"\"}}, \"type\": \"scatterpolargl\"}], \"scatterternary\": [{\"marker\": {\"colorbar\": {\"outlinewidth\": 0, \"ticks\": \"\"}}, \"type\": \"scatterternary\"}], \"surface\": [{\"colorbar\": {\"outlinewidth\": 0, \"ticks\": \"\"}, \"colorscale\": [[0.0, \"#0d0887\"], [0.1111111111111111, \"#46039f\"], [0.2222222222222222, \"#7201a8\"], [0.3333333333333333, \"#9c179e\"], [0.4444444444444444, \"#bd3786\"], [0.5555555555555556, \"#d8576b\"], [0.6666666666666666, \"#ed7953\"], [0.7777777777777778, \"#fb9f3a\"], [0.8888888888888888, \"#fdca26\"], [1.0, \"#f0f921\"]], \"type\": \"surface\"}], \"table\": [{\"cells\": {\"fill\": {\"color\": \"#EBF0F8\"}, \"line\": {\"color\": \"white\"}}, \"header\": {\"fill\": {\"color\": \"#C8D4E3\"}, \"line\": {\"color\": \"white\"}}, \"type\": \"table\"}]}, \"layout\": {\"annotationdefaults\": {\"arrowcolor\": \"#2a3f5f\", \"arrowhead\": 0, \"arrowwidth\": 1}, \"coloraxis\": {\"colorbar\": {\"outlinewidth\": 0, \"ticks\": \"\"}}, \"colorscale\": {\"diverging\": [[0, \"#8e0152\"], [0.1, \"#c51b7d\"], [0.2, \"#de77ae\"], [0.3, \"#f1b6da\"], [0.4, \"#fde0ef\"], [0.5, \"#f7f7f7\"], [0.6, \"#e6f5d0\"], [0.7, \"#b8e186\"], [0.8, \"#7fbc41\"], [0.9, \"#4d9221\"], [1, \"#276419\"]], \"sequential\": [[0.0, \"#0d0887\"], [0.1111111111111111, \"#46039f\"], [0.2222222222222222, \"#7201a8\"], [0.3333333333333333, \"#9c179e\"], [0.4444444444444444, \"#bd3786\"], [0.5555555555555556, \"#d8576b\"], [0.6666666666666666, \"#ed7953\"], [0.7777777777777778, \"#fb9f3a\"], [0.8888888888888888, \"#fdca26\"], [1.0, \"#f0f921\"]], \"sequentialminus\": [[0.0, \"#0d0887\"], [0.1111111111111111, \"#46039f\"], [0.2222222222222222, \"#7201a8\"], [0.3333333333333333, \"#9c179e\"], [0.4444444444444444, \"#bd3786\"], [0.5555555555555556, \"#d8576b\"], [0.6666666666666666, \"#ed7953\"], [0.7777777777777778, \"#fb9f3a\"], [0.8888888888888888, \"#fdca26\"], [1.0, \"#f0f921\"]]}, \"colorway\": [\"#636efa\", \"#EF553B\", \"#00cc96\", \"#ab63fa\", \"#FFA15A\", \"#19d3f3\", \"#FF6692\", \"#B6E880\", \"#FF97FF\", \"#FECB52\"], \"font\": {\"color\": \"#2a3f5f\"}, \"geo\": {\"bgcolor\": \"white\", \"lakecolor\": \"white\", \"landcolor\": \"#E5ECF6\", \"showlakes\": true, \"showland\": true, \"subunitcolor\": \"white\"}, \"hoverlabel\": {\"align\": \"left\"}, \"hovermode\": \"closest\", \"mapbox\": {\"style\": \"light\"}, \"paper_bgcolor\": \"white\", \"plot_bgcolor\": \"#E5ECF6\", \"polar\": {\"angularaxis\": {\"gridcolor\": \"white\", \"linecolor\": \"white\", \"ticks\": \"\"}, \"bgcolor\": \"#E5ECF6\", \"radialaxis\": {\"gridcolor\": \"white\", \"linecolor\": \"white\", \"ticks\": \"\"}}, \"scene\": {\"xaxis\": {\"backgroundcolor\": \"#E5ECF6\", \"gridcolor\": \"white\", \"gridwidth\": 2, \"linecolor\": \"white\", \"showbackground\": true, \"ticks\": \"\", \"zerolinecolor\": \"white\"}, \"yaxis\": {\"backgroundcolor\": \"#E5ECF6\", \"gridcolor\": \"white\", \"gridwidth\": 2, \"linecolor\": \"white\", \"showbackground\": true, \"ticks\": \"\", \"zerolinecolor\": \"white\"}, \"zaxis\": {\"backgroundcolor\": \"#E5ECF6\", \"gridcolor\": \"white\", \"gridwidth\": 2, \"linecolor\": \"white\", \"showbackground\": true, \"ticks\": \"\", \"zerolinecolor\": \"white\"}}, \"shapedefaults\": {\"line\": {\"color\": \"#2a3f5f\"}}, \"ternary\": {\"aaxis\": {\"gridcolor\": \"white\", \"linecolor\": \"white\", \"ticks\": \"\"}, \"baxis\": {\"gridcolor\": \"white\", \"linecolor\": \"white\", \"ticks\": \"\"}, \"bgcolor\": \"#E5ECF6\", \"caxis\": {\"gridcolor\": \"white\", \"linecolor\": \"white\", \"ticks\": \"\"}}, \"title\": {\"x\": 0.05}, \"xaxis\": {\"automargin\": true, \"gridcolor\": \"white\", \"linecolor\": \"white\", \"ticks\": \"\", \"title\": {\"standoff\": 15}, \"zerolinecolor\": \"white\", \"zerolinewidth\": 2}, \"yaxis\": {\"automargin\": true, \"gridcolor\": \"white\", \"linecolor\": \"white\", \"ticks\": \"\", \"title\": {\"standoff\": 15}, \"zerolinecolor\": \"white\", \"zerolinewidth\": 2}}}, \"title\": {\"text\": \"totale_casi on 03/16/2020\"}},\n",
       "                        {\"responsive\": true}\n",
       "                    ).then(function(){\n",
       "                            \n",
       "var gd = document.getElementById('29dc9c20-04f0-4362-baa4-138854abe132');\n",
       "var x = new MutationObserver(function (mutations, observer) {{\n",
       "        var display = window.getComputedStyle(gd).display;\n",
       "        if (!display || display === 'none') {{\n",
       "            console.log([gd, 'removed!']);\n",
       "            Plotly.purge(gd);\n",
       "            observer.disconnect();\n",
       "        }}\n",
       "}});\n",
       "\n",
       "// Listen for the removal of the full notebook cells\n",
       "var notebookContainer = gd.closest('#notebook-container');\n",
       "if (notebookContainer) {{\n",
       "    x.observe(notebookContainer, {childList: true});\n",
       "}}\n",
       "\n",
       "// Listen for the clearing of the current output cell\n",
       "var outputEl = gd.closest('.output');\n",
       "if (outputEl) {{\n",
       "    x.observe(outputEl, {childList: true});\n",
       "}}\n",
       "\n",
       "                        })\n",
       "                };\n",
       "                });\n",
       "            </script>\n",
       "        </div>"
      ]
     },
     "metadata": {},
     "output_type": "display_data"
    }
   ],
   "source": [
    "col = 'totale_casi'\n",
    "fig = px.density_mapbox(df_prov[df_prov.index==df_prov.index.max()], \n",
    "                        lat='lat', lon='long', z=col, radius=10, \n",
    "                        hover_name='denominazione_provincia',\n",
    "                        zoom=5,  height=800,\n",
    "                        #animation_frame=df_prov[df_prov.index==df_prov.index.max()].index,\n",
    "                        mapbox_style=\"stamen-terrain\",\n",
    "                        title = col + ' on ' + str(df_prov.index.max()))\n",
    "fig.show()"
   ]
  },
  {
   "cell_type": "code",
   "execution_count": 13,
   "metadata": {},
   "outputs": [
    {
     "data": {
      "application/vnd.plotly.v1+json": {
       "config": {
        "plotlyServerURL": "https://plot.ly"
       },
       "data": [
        {
         "coloraxis": "coloraxis",
         "hoverlabel": {
          "namelength": 0
         },
         "hovertemplate": "<b>%{hovertext}</b><br><br>%delta_totale_casi=%{z}<br>lat=%{lat}<br>long=%{lon}",
         "hovertext": [
          "Agrigento",
          "Alessandria",
          "Ancona",
          "Aosta",
          "Ascoli Piceno",
          "L'Aquila",
          "Arezzo",
          "Asti",
          "Avellino",
          "Bari",
          "Bergamo",
          "Biella",
          "Belluno",
          "Benevento",
          "Bologna",
          "Brindisi",
          "Brescia",
          "Barletta-Andria-Trani",
          "Bolzano",
          "Cagliari",
          "Campobasso",
          "Caserta",
          "Chieti",
          "Caltanissetta",
          "Cuneo",
          "Como",
          "Cremona",
          "Cosenza",
          "Catania",
          "Catanzaro",
          "Enna",
          "Forlì-Cesena",
          "Ferrara",
          "Foggia",
          "Firenze",
          "Fermo",
          "Frosinone",
          "Genova",
          "Gorizia",
          "Grosseto",
          "Imperia",
          "Isernia",
          "Crotone",
          "Lecco",
          "Lecce",
          "Livorno",
          "Lodi",
          "Latina",
          "Lucca",
          "Monza e della Brianza",
          "Macerata",
          "Messina",
          "Milano",
          "Mantova",
          "Modena",
          "Massa Carrara",
          "Matera",
          "Novara",
          "Nuoro",
          "Oristano",
          "Palermo",
          "Piacenza",
          "Padova",
          "Pescara",
          "Perugia",
          "Pisa",
          "Pordenone",
          "Prato",
          "Parma",
          "Pistoia",
          "Pesaro e Urbino",
          "Pavia",
          "Potenza",
          "Ravenna",
          "Reggio di Calabria",
          "Reggio nell'Emilia",
          "Ragusa",
          "Rieti",
          "Roma",
          "Rimini",
          "Rovigo",
          "Salerno",
          "Siena",
          "Sondrio",
          "La Spezia",
          "Siracusa",
          "Sassari",
          "Sud Sardegna",
          "Savona",
          "Taranto",
          "Teramo",
          "Trento",
          "Torino",
          "Trapani",
          "Terni",
          "Trieste",
          "Treviso",
          "Udine",
          "Varese",
          "Verbano-Cusio-Ossola",
          "Vercelli",
          "Venezia",
          "Vicenza",
          "Verona",
          "Viterbo",
          "Vibo Valentia"
         ],
         "lat": [
          37.30971088,
          44.91297351,
          43.61675973,
          45.73750286,
          42.85322304,
          42.35122196,
          43.46642752,
          44.89912921,
          40.91404699,
          41.12559576,
          45.69441368,
          45.5665112,
          46.13837528,
          41.12969987,
          44.49436681,
          40.63848545,
          45.53993052,
          41.22705039,
          46.49933453,
          39.21531192,
          41.55774754,
          41.07465878,
          42.35103167,
          37.49213171,
          44.39329625,
          45.8099912,
          45.13336675,
          39.29308681,
          37.50287803,
          38.90597598,
          37.56705701,
          44.22268559,
          44.83599085,
          41.46226865,
          43.76923077,
          43.16058534,
          41.63964569,
          44.41149314,
          45.94149817,
          42.76026758,
          43.88570648,
          41.58800826,
          39.08036878,
          45.85575781,
          40.35354285,
          43.55234873,
          45.31440693,
          41.46759465,
          43.84432283,
          45.58439043,
          43.30023926,
          38.19395845,
          45.46679409,
          45.15726772,
          44.64600009,
          44.03674425,
          40.66751177,
          45.44588506,
          40.32318834,
          39.90381075,
          38.11569725,
          45.05193462,
          45.40692987,
          42.46458398,
          43.10675841,
          43.71553206,
          45.95443546,
          43.88062274,
          44.80107394,
          43.933465000000005,
          43.91014021,
          45.18509264,
          40.63947052,
          44.41722493,
          38.10922769,
          44.69735289,
          36.92509198,
          42.40488444,
          41.89277044,
          44.06090087,
          45.07107289,
          40.67821961,
          43.31816374,
          46.17099261,
          44.10704991,
          37.05991687,
          40.72667657,
          39.16641462,
          44.30750461,
          40.47354739,
          42.6589177,
          46.06893511,
          45.0732745,
          38.01850065,
          42.56071258,
          45.6494354,
          45.66754571,
          46.06255516,
          45.81701677,
          45.921445500000004,
          45.32398135,
          45.43490485,
          45.547497,
          45.43839046,
          42.4173828,
          38.67624147
         ],
         "lon": [
          13.584574900000002,
          8.615401155,
          13.5188753,
          7.320149366,
          13.57691127,
          13.39843823,
          11.88228844,
          8.204142547,
          14.79528803,
          16.86736689,
          9.668424528,
          8.054082167,
          12.21704167,
          14.78151683,
          11.341720800000001,
          17.94601575,
          10.21910323,
          16.29520432,
          11.35662422,
          9.110616306,
          14.65916051,
          14.33240464,
          14.16754574,
          14.06184973,
          7.551171632000001,
          9.085159546,
          10.02420865,
          16.25609692,
          15.08704691,
          16.59440194,
          14.27909375,
          12.04068608,
          11.61868934,
          15.54305094,
          11.25588885,
          13.71839535,
          13.35117161,
          8.9326992,
          13.62212502,
          11.11356398,
          8.027850297999999,
          14.22575407,
          17.12538864,
          9.393392246,
          18.1718973,
          10.3086781,
          9.503720769,
          12.90368482,
          10.50151366,
          9.273582472000001,
          13.45307182,
          15.55572302,
          9.190347404,
          10.79277363,
          10.92615487,
          10.14173829,
          16.59792442,
          8.621915884,
          9.330296393,
          8.591183151000001,
          13.362356699999998,
          9.692632596000001,
          11.87608718,
          14.21364822,
          12.38824698,
          10.40127259,
          12.66002909,
          11.09703315,
          10.32834985,
          10.91734146,
          12.91345989,
          9.160157191,
          15.80514834,
          12.19913936,
          15.643452700000001,
          10.63007973,
          14.73069891,
          12.86205939,
          12.48366722,
          12.5656295,
          11.79007,
          14.759402599999998,
          11.33190988,
          9.87147489,
          9.8281897,
          15.29333182,
          8.559667131,
          8.526242676,
          8.481108654,
          17.23237181,
          13.70439971,
          11.12123097,
          7.680687483,
          12.51365684,
          12.6466875,
          13.76813649,
          12.24507363,
          13.2348383,
          8.822868344,
          8.551078752999999,
          8.423234312,
          12.33845213,
          11.54597109,
          10.99352685,
          12.10473416,
          16.10157414
         ],
         "name": "",
         "radius": 10,
         "subplot": "mapbox",
         "type": "densitymapbox",
         "z": [
          0.1,
          0.3188405797101449,
          0.20973782771535582,
          0.8421052631578947,
          0.5,
          0.2,
          0.04878048780487805,
          0,
          0.32432432432432434,
          0,
          0.10070257611241218,
          0.34,
          0.23170731707317074,
          0,
          0.26521739130434785,
          0,
          0.17994338859684594,
          0,
          0.18137254901960784,
          0.3333333333333333,
          0.23529411764705882,
          0.3333333333333333,
          0.26666666666666666,
          1,
          0.4918032786885246,
          0.1956521739130435,
          0.04966517857142857,
          0,
          0.054945054945054944,
          0,
          1.5,
          0.32051282051282054,
          0.29411764705882354,
          0,
          0.14814814814814814,
          0,
          0.29411764705882354,
          0,
          -0.4838709677419355,
          0.3157894736842105,
          0,
          0,
          0,
          0.12209302325581395,
          0,
          0.06,
          0.031818181818181815,
          0,
          0.06153846153846154,
          0.0581039755351682,
          0.24468085106382978,
          0.1,
          0.13314285714285715,
          0.12684365781710916,
          0.1989100817438692,
          0.08333333333333333,
          0,
          0.5352112676056338,
          0,
          0,
          0.12121212121212122,
          0.06027667984189723,
          0.08662613981762918,
          0.23170731707317074,
          0.20930232558139536,
          0.09859154929577464,
          0.2857142857142857,
          0.07142857142857142,
          0.06797583081570997,
          0.13924050632911392,
          0.02949438202247191,
          0.10941828254847645,
          0.14285714285714285,
          0.14,
          0,
          0.3027027027027027,
          0,
          1.75,
          0.1638418079096045,
          0.1976470588235294,
          0,
          0.16326530612244897,
          0.1,
          0.022222222222222223,
          0,
          0.4,
          0.6285714285714286,
          0.6666666666666666,
          0,
          0,
          0.9,
          0,
          0.5097493036211699,
          0.18181818181818182,
          0.05263157894736842,
          0.17142857142857143,
          0.09443099273607748,
          0.17829457364341086,
          0.09782608695652174,
          0.16,
          0.17857142857142858,
          0.08536585365853659,
          0.22127659574468084,
          0.26865671641791045,
          0.8,
          0
         ]
        }
       ],
       "layout": {
        "coloraxis": {
         "colorbar": {
          "title": {
           "text": "%delta_totale_casi"
          }
         },
         "colorscale": [
          [
           0,
           "#0d0887"
          ],
          [
           0.1111111111111111,
           "#46039f"
          ],
          [
           0.2222222222222222,
           "#7201a8"
          ],
          [
           0.3333333333333333,
           "#9c179e"
          ],
          [
           0.4444444444444444,
           "#bd3786"
          ],
          [
           0.5555555555555556,
           "#d8576b"
          ],
          [
           0.6666666666666666,
           "#ed7953"
          ],
          [
           0.7777777777777778,
           "#fb9f3a"
          ],
          [
           0.8888888888888888,
           "#fdca26"
          ],
          [
           1,
           "#f0f921"
          ]
         ]
        },
        "height": 800,
        "legend": {
         "tracegroupgap": 0
        },
        "mapbox": {
         "center": {
          "lat": 42.92804048981132,
          "lon": 12.076275447679244
         },
         "domain": {
          "x": [
           0,
           1
          ],
          "y": [
           0,
           1
          ]
         },
         "style": "stamen-terrain",
         "zoom": 5
        },
        "template": {
         "data": {
          "bar": [
           {
            "error_x": {
             "color": "#2a3f5f"
            },
            "error_y": {
             "color": "#2a3f5f"
            },
            "marker": {
             "line": {
              "color": "#E5ECF6",
              "width": 0.5
             }
            },
            "type": "bar"
           }
          ],
          "barpolar": [
           {
            "marker": {
             "line": {
              "color": "#E5ECF6",
              "width": 0.5
             }
            },
            "type": "barpolar"
           }
          ],
          "carpet": [
           {
            "aaxis": {
             "endlinecolor": "#2a3f5f",
             "gridcolor": "white",
             "linecolor": "white",
             "minorgridcolor": "white",
             "startlinecolor": "#2a3f5f"
            },
            "baxis": {
             "endlinecolor": "#2a3f5f",
             "gridcolor": "white",
             "linecolor": "white",
             "minorgridcolor": "white",
             "startlinecolor": "#2a3f5f"
            },
            "type": "carpet"
           }
          ],
          "choropleth": [
           {
            "colorbar": {
             "outlinewidth": 0,
             "ticks": ""
            },
            "type": "choropleth"
           }
          ],
          "contour": [
           {
            "colorbar": {
             "outlinewidth": 0,
             "ticks": ""
            },
            "colorscale": [
             [
              0,
              "#0d0887"
             ],
             [
              0.1111111111111111,
              "#46039f"
             ],
             [
              0.2222222222222222,
              "#7201a8"
             ],
             [
              0.3333333333333333,
              "#9c179e"
             ],
             [
              0.4444444444444444,
              "#bd3786"
             ],
             [
              0.5555555555555556,
              "#d8576b"
             ],
             [
              0.6666666666666666,
              "#ed7953"
             ],
             [
              0.7777777777777778,
              "#fb9f3a"
             ],
             [
              0.8888888888888888,
              "#fdca26"
             ],
             [
              1,
              "#f0f921"
             ]
            ],
            "type": "contour"
           }
          ],
          "contourcarpet": [
           {
            "colorbar": {
             "outlinewidth": 0,
             "ticks": ""
            },
            "type": "contourcarpet"
           }
          ],
          "heatmap": [
           {
            "colorbar": {
             "outlinewidth": 0,
             "ticks": ""
            },
            "colorscale": [
             [
              0,
              "#0d0887"
             ],
             [
              0.1111111111111111,
              "#46039f"
             ],
             [
              0.2222222222222222,
              "#7201a8"
             ],
             [
              0.3333333333333333,
              "#9c179e"
             ],
             [
              0.4444444444444444,
              "#bd3786"
             ],
             [
              0.5555555555555556,
              "#d8576b"
             ],
             [
              0.6666666666666666,
              "#ed7953"
             ],
             [
              0.7777777777777778,
              "#fb9f3a"
             ],
             [
              0.8888888888888888,
              "#fdca26"
             ],
             [
              1,
              "#f0f921"
             ]
            ],
            "type": "heatmap"
           }
          ],
          "heatmapgl": [
           {
            "colorbar": {
             "outlinewidth": 0,
             "ticks": ""
            },
            "colorscale": [
             [
              0,
              "#0d0887"
             ],
             [
              0.1111111111111111,
              "#46039f"
             ],
             [
              0.2222222222222222,
              "#7201a8"
             ],
             [
              0.3333333333333333,
              "#9c179e"
             ],
             [
              0.4444444444444444,
              "#bd3786"
             ],
             [
              0.5555555555555556,
              "#d8576b"
             ],
             [
              0.6666666666666666,
              "#ed7953"
             ],
             [
              0.7777777777777778,
              "#fb9f3a"
             ],
             [
              0.8888888888888888,
              "#fdca26"
             ],
             [
              1,
              "#f0f921"
             ]
            ],
            "type": "heatmapgl"
           }
          ],
          "histogram": [
           {
            "marker": {
             "colorbar": {
              "outlinewidth": 0,
              "ticks": ""
             }
            },
            "type": "histogram"
           }
          ],
          "histogram2d": [
           {
            "colorbar": {
             "outlinewidth": 0,
             "ticks": ""
            },
            "colorscale": [
             [
              0,
              "#0d0887"
             ],
             [
              0.1111111111111111,
              "#46039f"
             ],
             [
              0.2222222222222222,
              "#7201a8"
             ],
             [
              0.3333333333333333,
              "#9c179e"
             ],
             [
              0.4444444444444444,
              "#bd3786"
             ],
             [
              0.5555555555555556,
              "#d8576b"
             ],
             [
              0.6666666666666666,
              "#ed7953"
             ],
             [
              0.7777777777777778,
              "#fb9f3a"
             ],
             [
              0.8888888888888888,
              "#fdca26"
             ],
             [
              1,
              "#f0f921"
             ]
            ],
            "type": "histogram2d"
           }
          ],
          "histogram2dcontour": [
           {
            "colorbar": {
             "outlinewidth": 0,
             "ticks": ""
            },
            "colorscale": [
             [
              0,
              "#0d0887"
             ],
             [
              0.1111111111111111,
              "#46039f"
             ],
             [
              0.2222222222222222,
              "#7201a8"
             ],
             [
              0.3333333333333333,
              "#9c179e"
             ],
             [
              0.4444444444444444,
              "#bd3786"
             ],
             [
              0.5555555555555556,
              "#d8576b"
             ],
             [
              0.6666666666666666,
              "#ed7953"
             ],
             [
              0.7777777777777778,
              "#fb9f3a"
             ],
             [
              0.8888888888888888,
              "#fdca26"
             ],
             [
              1,
              "#f0f921"
             ]
            ],
            "type": "histogram2dcontour"
           }
          ],
          "mesh3d": [
           {
            "colorbar": {
             "outlinewidth": 0,
             "ticks": ""
            },
            "type": "mesh3d"
           }
          ],
          "parcoords": [
           {
            "line": {
             "colorbar": {
              "outlinewidth": 0,
              "ticks": ""
             }
            },
            "type": "parcoords"
           }
          ],
          "pie": [
           {
            "automargin": true,
            "type": "pie"
           }
          ],
          "scatter": [
           {
            "marker": {
             "colorbar": {
              "outlinewidth": 0,
              "ticks": ""
             }
            },
            "type": "scatter"
           }
          ],
          "scatter3d": [
           {
            "line": {
             "colorbar": {
              "outlinewidth": 0,
              "ticks": ""
             }
            },
            "marker": {
             "colorbar": {
              "outlinewidth": 0,
              "ticks": ""
             }
            },
            "type": "scatter3d"
           }
          ],
          "scattercarpet": [
           {
            "marker": {
             "colorbar": {
              "outlinewidth": 0,
              "ticks": ""
             }
            },
            "type": "scattercarpet"
           }
          ],
          "scattergeo": [
           {
            "marker": {
             "colorbar": {
              "outlinewidth": 0,
              "ticks": ""
             }
            },
            "type": "scattergeo"
           }
          ],
          "scattergl": [
           {
            "marker": {
             "colorbar": {
              "outlinewidth": 0,
              "ticks": ""
             }
            },
            "type": "scattergl"
           }
          ],
          "scattermapbox": [
           {
            "marker": {
             "colorbar": {
              "outlinewidth": 0,
              "ticks": ""
             }
            },
            "type": "scattermapbox"
           }
          ],
          "scatterpolar": [
           {
            "marker": {
             "colorbar": {
              "outlinewidth": 0,
              "ticks": ""
             }
            },
            "type": "scatterpolar"
           }
          ],
          "scatterpolargl": [
           {
            "marker": {
             "colorbar": {
              "outlinewidth": 0,
              "ticks": ""
             }
            },
            "type": "scatterpolargl"
           }
          ],
          "scatterternary": [
           {
            "marker": {
             "colorbar": {
              "outlinewidth": 0,
              "ticks": ""
             }
            },
            "type": "scatterternary"
           }
          ],
          "surface": [
           {
            "colorbar": {
             "outlinewidth": 0,
             "ticks": ""
            },
            "colorscale": [
             [
              0,
              "#0d0887"
             ],
             [
              0.1111111111111111,
              "#46039f"
             ],
             [
              0.2222222222222222,
              "#7201a8"
             ],
             [
              0.3333333333333333,
              "#9c179e"
             ],
             [
              0.4444444444444444,
              "#bd3786"
             ],
             [
              0.5555555555555556,
              "#d8576b"
             ],
             [
              0.6666666666666666,
              "#ed7953"
             ],
             [
              0.7777777777777778,
              "#fb9f3a"
             ],
             [
              0.8888888888888888,
              "#fdca26"
             ],
             [
              1,
              "#f0f921"
             ]
            ],
            "type": "surface"
           }
          ],
          "table": [
           {
            "cells": {
             "fill": {
              "color": "#EBF0F8"
             },
             "line": {
              "color": "white"
             }
            },
            "header": {
             "fill": {
              "color": "#C8D4E3"
             },
             "line": {
              "color": "white"
             }
            },
            "type": "table"
           }
          ]
         },
         "layout": {
          "annotationdefaults": {
           "arrowcolor": "#2a3f5f",
           "arrowhead": 0,
           "arrowwidth": 1
          },
          "coloraxis": {
           "colorbar": {
            "outlinewidth": 0,
            "ticks": ""
           }
          },
          "colorscale": {
           "diverging": [
            [
             0,
             "#8e0152"
            ],
            [
             0.1,
             "#c51b7d"
            ],
            [
             0.2,
             "#de77ae"
            ],
            [
             0.3,
             "#f1b6da"
            ],
            [
             0.4,
             "#fde0ef"
            ],
            [
             0.5,
             "#f7f7f7"
            ],
            [
             0.6,
             "#e6f5d0"
            ],
            [
             0.7,
             "#b8e186"
            ],
            [
             0.8,
             "#7fbc41"
            ],
            [
             0.9,
             "#4d9221"
            ],
            [
             1,
             "#276419"
            ]
           ],
           "sequential": [
            [
             0,
             "#0d0887"
            ],
            [
             0.1111111111111111,
             "#46039f"
            ],
            [
             0.2222222222222222,
             "#7201a8"
            ],
            [
             0.3333333333333333,
             "#9c179e"
            ],
            [
             0.4444444444444444,
             "#bd3786"
            ],
            [
             0.5555555555555556,
             "#d8576b"
            ],
            [
             0.6666666666666666,
             "#ed7953"
            ],
            [
             0.7777777777777778,
             "#fb9f3a"
            ],
            [
             0.8888888888888888,
             "#fdca26"
            ],
            [
             1,
             "#f0f921"
            ]
           ],
           "sequentialminus": [
            [
             0,
             "#0d0887"
            ],
            [
             0.1111111111111111,
             "#46039f"
            ],
            [
             0.2222222222222222,
             "#7201a8"
            ],
            [
             0.3333333333333333,
             "#9c179e"
            ],
            [
             0.4444444444444444,
             "#bd3786"
            ],
            [
             0.5555555555555556,
             "#d8576b"
            ],
            [
             0.6666666666666666,
             "#ed7953"
            ],
            [
             0.7777777777777778,
             "#fb9f3a"
            ],
            [
             0.8888888888888888,
             "#fdca26"
            ],
            [
             1,
             "#f0f921"
            ]
           ]
          },
          "colorway": [
           "#636efa",
           "#EF553B",
           "#00cc96",
           "#ab63fa",
           "#FFA15A",
           "#19d3f3",
           "#FF6692",
           "#B6E880",
           "#FF97FF",
           "#FECB52"
          ],
          "font": {
           "color": "#2a3f5f"
          },
          "geo": {
           "bgcolor": "white",
           "lakecolor": "white",
           "landcolor": "#E5ECF6",
           "showlakes": true,
           "showland": true,
           "subunitcolor": "white"
          },
          "hoverlabel": {
           "align": "left"
          },
          "hovermode": "closest",
          "mapbox": {
           "style": "light"
          },
          "paper_bgcolor": "white",
          "plot_bgcolor": "#E5ECF6",
          "polar": {
           "angularaxis": {
            "gridcolor": "white",
            "linecolor": "white",
            "ticks": ""
           },
           "bgcolor": "#E5ECF6",
           "radialaxis": {
            "gridcolor": "white",
            "linecolor": "white",
            "ticks": ""
           }
          },
          "scene": {
           "xaxis": {
            "backgroundcolor": "#E5ECF6",
            "gridcolor": "white",
            "gridwidth": 2,
            "linecolor": "white",
            "showbackground": true,
            "ticks": "",
            "zerolinecolor": "white"
           },
           "yaxis": {
            "backgroundcolor": "#E5ECF6",
            "gridcolor": "white",
            "gridwidth": 2,
            "linecolor": "white",
            "showbackground": true,
            "ticks": "",
            "zerolinecolor": "white"
           },
           "zaxis": {
            "backgroundcolor": "#E5ECF6",
            "gridcolor": "white",
            "gridwidth": 2,
            "linecolor": "white",
            "showbackground": true,
            "ticks": "",
            "zerolinecolor": "white"
           }
          },
          "shapedefaults": {
           "line": {
            "color": "#2a3f5f"
           }
          },
          "ternary": {
           "aaxis": {
            "gridcolor": "white",
            "linecolor": "white",
            "ticks": ""
           },
           "baxis": {
            "gridcolor": "white",
            "linecolor": "white",
            "ticks": ""
           },
           "bgcolor": "#E5ECF6",
           "caxis": {
            "gridcolor": "white",
            "linecolor": "white",
            "ticks": ""
           }
          },
          "title": {
           "x": 0.05
          },
          "xaxis": {
           "automargin": true,
           "gridcolor": "white",
           "linecolor": "white",
           "ticks": "",
           "title": {
            "standoff": 15
           },
           "zerolinecolor": "white",
           "zerolinewidth": 2
          },
          "yaxis": {
           "automargin": true,
           "gridcolor": "white",
           "linecolor": "white",
           "ticks": "",
           "title": {
            "standoff": 15
           },
           "zerolinecolor": "white",
           "zerolinewidth": 2
          }
         }
        },
        "title": {
         "text": "%delta_totale_casi on 03/16/2020"
        }
       }
      },
      "text/html": [
       "<div>\n",
       "        \n",
       "        \n",
       "            <div id=\"a2335033-4113-492d-9890-1d5d80691c4e\" class=\"plotly-graph-div\" style=\"height:800px; width:100%;\"></div>\n",
       "            <script type=\"text/javascript\">\n",
       "                require([\"plotly\"], function(Plotly) {\n",
       "                    window.PLOTLYENV=window.PLOTLYENV || {};\n",
       "                    \n",
       "                if (document.getElementById(\"a2335033-4113-492d-9890-1d5d80691c4e\")) {\n",
       "                    Plotly.newPlot(\n",
       "                        'a2335033-4113-492d-9890-1d5d80691c4e',\n",
       "                        [{\"coloraxis\": \"coloraxis\", \"hoverlabel\": {\"namelength\": 0}, \"hovertemplate\": \"<b>%{hovertext}</b><br><br>%delta_totale_casi=%{z}<br>lat=%{lat}<br>long=%{lon}\", \"hovertext\": [\"Agrigento\", \"Alessandria\", \"Ancona\", \"Aosta\", \"Ascoli Piceno\", \"L'Aquila\", \"Arezzo\", \"Asti\", \"Avellino\", \"Bari\", \"Bergamo\", \"Biella\", \"Belluno\", \"Benevento\", \"Bologna\", \"Brindisi\", \"Brescia\", \"Barletta-Andria-Trani\", \"Bolzano\", \"Cagliari\", \"Campobasso\", \"Caserta\", \"Chieti\", \"Caltanissetta\", \"Cuneo\", \"Como\", \"Cremona\", \"Cosenza\", \"Catania\", \"Catanzaro\", \"Enna\", \"Forl\\u00ec-Cesena\", \"Ferrara\", \"Foggia\", \"Firenze\", \"Fermo\", \"Frosinone\", \"Genova\", \"Gorizia\", \"Grosseto\", \"Imperia\", \"Isernia\", \"Crotone\", \"Lecco\", \"Lecce\", \"Livorno\", \"Lodi\", \"Latina\", \"Lucca\", \"Monza e della Brianza\", \"Macerata\", \"Messina\", \"Milano\", \"Mantova\", \"Modena\", \"Massa Carrara\", \"Matera\", \"Novara\", \"Nuoro\", \"Oristano\", \"Palermo\", \"Piacenza\", \"Padova\", \"Pescara\", \"Perugia\", \"Pisa\", \"Pordenone\", \"Prato\", \"Parma\", \"Pistoia\", \"Pesaro e Urbino\", \"Pavia\", \"Potenza\", \"Ravenna\", \"Reggio di Calabria\", \"Reggio nell'Emilia\", \"Ragusa\", \"Rieti\", \"Roma\", \"Rimini\", \"Rovigo\", \"Salerno\", \"Siena\", \"Sondrio\", \"La Spezia\", \"Siracusa\", \"Sassari\", \"Sud Sardegna\", \"Savona\", \"Taranto\", \"Teramo\", \"Trento\", \"Torino\", \"Trapani\", \"Terni\", \"Trieste\", \"Treviso\", \"Udine\", \"Varese\", \"Verbano-Cusio-Ossola\", \"Vercelli\", \"Venezia\", \"Vicenza\", \"Verona\", \"Viterbo\", \"Vibo Valentia\"], \"lat\": [37.30971088, 44.91297351, 43.61675973, 45.73750286, 42.85322304, 42.35122196, 43.46642752, 44.89912921, 40.91404699, 41.12559576, 45.69441368, 45.5665112, 46.13837528, 41.12969987, 44.49436681, 40.63848545, 45.53993052, 41.22705039, 46.49933453, 39.21531192, 41.55774754, 41.07465878, 42.35103167, 37.49213171, 44.39329625, 45.8099912, 45.13336675, 39.29308681, 37.50287803, 38.90597598, 37.56705701, 44.22268559, 44.83599085, 41.46226865, 43.76923077, 43.16058534, 41.63964569, 44.41149314, 45.94149817, 42.76026758, 43.88570648, 41.58800826, 39.08036878, 45.85575781, 40.35354285, 43.55234873, 45.31440693, 41.46759465, 43.84432283, 45.58439043, 43.30023926, 38.19395845, 45.46679409, 45.15726772, 44.64600009, 44.03674425, 40.66751177, 45.44588506, 40.32318834, 39.90381075, 38.11569725, 45.05193462, 45.40692987, 42.46458398, 43.10675841, 43.71553206, 45.95443546, 43.88062274, 44.80107394, 43.933465000000005, 43.91014021, 45.18509264, 40.63947052, 44.41722493, 38.10922769, 44.69735289, 36.92509198, 42.40488444, 41.89277044, 44.06090087, 45.07107289, 40.67821961, 43.31816374, 46.17099261, 44.10704991, 37.05991687, 40.72667657, 39.16641462, 44.30750461, 40.47354739, 42.6589177, 46.06893511, 45.0732745, 38.01850065, 42.56071258, 45.6494354, 45.66754571, 46.06255516, 45.81701677, 45.921445500000004, 45.32398135, 45.43490485, 45.547497, 45.43839046, 42.4173828, 38.67624147], \"lon\": [13.584574900000002, 8.615401155, 13.5188753, 7.320149366, 13.57691127, 13.39843823, 11.88228844, 8.204142547, 14.79528803, 16.86736689, 9.668424528, 8.054082167, 12.21704167, 14.78151683, 11.341720800000001, 17.94601575, 10.21910323, 16.29520432, 11.35662422, 9.110616306, 14.65916051, 14.33240464, 14.16754574, 14.06184973, 7.551171632000001, 9.085159546, 10.02420865, 16.25609692, 15.08704691, 16.59440194, 14.27909375, 12.04068608, 11.61868934, 15.54305094, 11.25588885, 13.71839535, 13.35117161, 8.9326992, 13.62212502, 11.11356398, 8.027850297999999, 14.22575407, 17.12538864, 9.393392246, 18.1718973, 10.3086781, 9.503720769, 12.90368482, 10.50151366, 9.273582472000001, 13.45307182, 15.55572302, 9.190347404, 10.79277363, 10.92615487, 10.14173829, 16.59792442, 8.621915884, 9.330296393, 8.591183151000001, 13.362356699999998, 9.692632596000001, 11.87608718, 14.21364822, 12.38824698, 10.40127259, 12.66002909, 11.09703315, 10.32834985, 10.91734146, 12.91345989, 9.160157191, 15.80514834, 12.19913936, 15.643452700000001, 10.63007973, 14.73069891, 12.86205939, 12.48366722, 12.5656295, 11.79007, 14.759402599999998, 11.33190988, 9.87147489, 9.8281897, 15.29333182, 8.559667131, 8.526242676, 8.481108654, 17.23237181, 13.70439971, 11.12123097, 7.680687483, 12.51365684, 12.6466875, 13.76813649, 12.24507363, 13.2348383, 8.822868344, 8.551078752999999, 8.423234312, 12.33845213, 11.54597109, 10.99352685, 12.10473416, 16.10157414], \"name\": \"\", \"radius\": 10, \"subplot\": \"mapbox\", \"type\": \"densitymapbox\", \"z\": [0.1, 0.3188405797101449, 0.20973782771535582, 0.8421052631578947, 0.5, 0.2, 0.04878048780487805, 0.0, 0.32432432432432434, 0.0, 0.10070257611241218, 0.34, 0.23170731707317074, 0.0, 0.26521739130434785, 0.0, 0.17994338859684594, 0.0, 0.18137254901960784, 0.3333333333333333, 0.23529411764705882, 0.3333333333333333, 0.26666666666666666, 1.0, 0.4918032786885246, 0.1956521739130435, 0.04966517857142857, 0.0, 0.054945054945054944, 0.0, 1.5, 0.32051282051282054, 0.29411764705882354, 0.0, 0.14814814814814814, 0.0, 0.29411764705882354, 0.0, -0.4838709677419355, 0.3157894736842105, 0.0, 0.0, 0.0, 0.12209302325581395, 0.0, 0.06, 0.031818181818181815, 0.0, 0.06153846153846154, 0.0581039755351682, 0.24468085106382978, 0.1, 0.13314285714285715, 0.12684365781710916, 0.1989100817438692, 0.08333333333333333, 0.0, 0.5352112676056338, 0.0, 0.0, 0.12121212121212122, 0.06027667984189723, 0.08662613981762918, 0.23170731707317074, 0.20930232558139536, 0.09859154929577464, 0.2857142857142857, 0.07142857142857142, 0.06797583081570997, 0.13924050632911392, 0.02949438202247191, 0.10941828254847645, 0.14285714285714285, 0.14, 0.0, 0.3027027027027027, 0.0, 1.75, 0.1638418079096045, 0.1976470588235294, 0.0, 0.16326530612244897, 0.1, 0.022222222222222223, 0.0, 0.4, 0.6285714285714286, 0.6666666666666666, 0.0, 0.0, 0.9, 0.0, 0.5097493036211699, 0.18181818181818182, 0.05263157894736842, 0.17142857142857143, 0.09443099273607748, 0.17829457364341086, 0.09782608695652174, 0.16, 0.17857142857142858, 0.08536585365853659, 0.22127659574468084, 0.26865671641791045, 0.8, 0.0]}],\n",
       "                        {\"coloraxis\": {\"colorbar\": {\"title\": {\"text\": \"%delta_totale_casi\"}}, \"colorscale\": [[0.0, \"#0d0887\"], [0.1111111111111111, \"#46039f\"], [0.2222222222222222, \"#7201a8\"], [0.3333333333333333, \"#9c179e\"], [0.4444444444444444, \"#bd3786\"], [0.5555555555555556, \"#d8576b\"], [0.6666666666666666, \"#ed7953\"], [0.7777777777777778, \"#fb9f3a\"], [0.8888888888888888, \"#fdca26\"], [1.0, \"#f0f921\"]]}, \"height\": 800, \"legend\": {\"tracegroupgap\": 0}, \"mapbox\": {\"center\": {\"lat\": 42.92804048981132, \"lon\": 12.076275447679244}, \"domain\": {\"x\": [0.0, 1.0], \"y\": [0.0, 1.0]}, \"style\": \"stamen-terrain\", \"zoom\": 5}, \"template\": {\"data\": {\"bar\": [{\"error_x\": {\"color\": \"#2a3f5f\"}, \"error_y\": {\"color\": \"#2a3f5f\"}, \"marker\": {\"line\": {\"color\": \"#E5ECF6\", \"width\": 0.5}}, \"type\": \"bar\"}], \"barpolar\": [{\"marker\": {\"line\": {\"color\": \"#E5ECF6\", \"width\": 0.5}}, \"type\": \"barpolar\"}], \"carpet\": [{\"aaxis\": {\"endlinecolor\": \"#2a3f5f\", \"gridcolor\": \"white\", \"linecolor\": \"white\", \"minorgridcolor\": \"white\", \"startlinecolor\": \"#2a3f5f\"}, \"baxis\": {\"endlinecolor\": \"#2a3f5f\", \"gridcolor\": \"white\", \"linecolor\": \"white\", \"minorgridcolor\": \"white\", \"startlinecolor\": \"#2a3f5f\"}, \"type\": \"carpet\"}], \"choropleth\": [{\"colorbar\": {\"outlinewidth\": 0, \"ticks\": \"\"}, \"type\": \"choropleth\"}], \"contour\": [{\"colorbar\": {\"outlinewidth\": 0, \"ticks\": \"\"}, \"colorscale\": [[0.0, \"#0d0887\"], [0.1111111111111111, \"#46039f\"], [0.2222222222222222, \"#7201a8\"], [0.3333333333333333, \"#9c179e\"], [0.4444444444444444, \"#bd3786\"], [0.5555555555555556, \"#d8576b\"], [0.6666666666666666, \"#ed7953\"], [0.7777777777777778, \"#fb9f3a\"], [0.8888888888888888, \"#fdca26\"], [1.0, \"#f0f921\"]], \"type\": \"contour\"}], \"contourcarpet\": [{\"colorbar\": {\"outlinewidth\": 0, \"ticks\": \"\"}, \"type\": \"contourcarpet\"}], \"heatmap\": [{\"colorbar\": {\"outlinewidth\": 0, \"ticks\": \"\"}, \"colorscale\": [[0.0, \"#0d0887\"], [0.1111111111111111, \"#46039f\"], [0.2222222222222222, \"#7201a8\"], [0.3333333333333333, \"#9c179e\"], [0.4444444444444444, \"#bd3786\"], [0.5555555555555556, \"#d8576b\"], [0.6666666666666666, \"#ed7953\"], [0.7777777777777778, \"#fb9f3a\"], [0.8888888888888888, \"#fdca26\"], [1.0, \"#f0f921\"]], \"type\": \"heatmap\"}], \"heatmapgl\": [{\"colorbar\": {\"outlinewidth\": 0, \"ticks\": \"\"}, \"colorscale\": [[0.0, \"#0d0887\"], [0.1111111111111111, \"#46039f\"], [0.2222222222222222, \"#7201a8\"], [0.3333333333333333, \"#9c179e\"], [0.4444444444444444, \"#bd3786\"], [0.5555555555555556, \"#d8576b\"], [0.6666666666666666, \"#ed7953\"], [0.7777777777777778, \"#fb9f3a\"], [0.8888888888888888, \"#fdca26\"], [1.0, \"#f0f921\"]], \"type\": \"heatmapgl\"}], \"histogram\": [{\"marker\": {\"colorbar\": {\"outlinewidth\": 0, \"ticks\": \"\"}}, \"type\": \"histogram\"}], \"histogram2d\": [{\"colorbar\": {\"outlinewidth\": 0, \"ticks\": \"\"}, \"colorscale\": [[0.0, \"#0d0887\"], [0.1111111111111111, \"#46039f\"], [0.2222222222222222, \"#7201a8\"], [0.3333333333333333, \"#9c179e\"], [0.4444444444444444, \"#bd3786\"], [0.5555555555555556, \"#d8576b\"], [0.6666666666666666, \"#ed7953\"], [0.7777777777777778, \"#fb9f3a\"], [0.8888888888888888, \"#fdca26\"], [1.0, \"#f0f921\"]], \"type\": \"histogram2d\"}], \"histogram2dcontour\": [{\"colorbar\": {\"outlinewidth\": 0, \"ticks\": \"\"}, \"colorscale\": [[0.0, \"#0d0887\"], [0.1111111111111111, \"#46039f\"], [0.2222222222222222, \"#7201a8\"], [0.3333333333333333, \"#9c179e\"], [0.4444444444444444, \"#bd3786\"], [0.5555555555555556, \"#d8576b\"], [0.6666666666666666, \"#ed7953\"], [0.7777777777777778, \"#fb9f3a\"], [0.8888888888888888, \"#fdca26\"], [1.0, \"#f0f921\"]], \"type\": \"histogram2dcontour\"}], \"mesh3d\": [{\"colorbar\": {\"outlinewidth\": 0, \"ticks\": \"\"}, \"type\": \"mesh3d\"}], \"parcoords\": [{\"line\": {\"colorbar\": {\"outlinewidth\": 0, \"ticks\": \"\"}}, \"type\": \"parcoords\"}], \"pie\": [{\"automargin\": true, \"type\": \"pie\"}], \"scatter\": [{\"marker\": {\"colorbar\": {\"outlinewidth\": 0, \"ticks\": \"\"}}, \"type\": \"scatter\"}], \"scatter3d\": [{\"line\": {\"colorbar\": {\"outlinewidth\": 0, \"ticks\": \"\"}}, \"marker\": {\"colorbar\": {\"outlinewidth\": 0, \"ticks\": \"\"}}, \"type\": \"scatter3d\"}], \"scattercarpet\": [{\"marker\": {\"colorbar\": {\"outlinewidth\": 0, \"ticks\": \"\"}}, \"type\": \"scattercarpet\"}], \"scattergeo\": [{\"marker\": {\"colorbar\": {\"outlinewidth\": 0, \"ticks\": \"\"}}, \"type\": \"scattergeo\"}], \"scattergl\": [{\"marker\": {\"colorbar\": {\"outlinewidth\": 0, \"ticks\": \"\"}}, \"type\": \"scattergl\"}], \"scattermapbox\": [{\"marker\": {\"colorbar\": {\"outlinewidth\": 0, \"ticks\": \"\"}}, \"type\": \"scattermapbox\"}], \"scatterpolar\": [{\"marker\": {\"colorbar\": {\"outlinewidth\": 0, \"ticks\": \"\"}}, \"type\": \"scatterpolar\"}], \"scatterpolargl\": [{\"marker\": {\"colorbar\": {\"outlinewidth\": 0, \"ticks\": \"\"}}, \"type\": \"scatterpolargl\"}], \"scatterternary\": [{\"marker\": {\"colorbar\": {\"outlinewidth\": 0, \"ticks\": \"\"}}, \"type\": \"scatterternary\"}], \"surface\": [{\"colorbar\": {\"outlinewidth\": 0, \"ticks\": \"\"}, \"colorscale\": [[0.0, \"#0d0887\"], [0.1111111111111111, \"#46039f\"], [0.2222222222222222, \"#7201a8\"], [0.3333333333333333, \"#9c179e\"], [0.4444444444444444, \"#bd3786\"], [0.5555555555555556, \"#d8576b\"], [0.6666666666666666, \"#ed7953\"], [0.7777777777777778, \"#fb9f3a\"], [0.8888888888888888, \"#fdca26\"], [1.0, \"#f0f921\"]], \"type\": \"surface\"}], \"table\": [{\"cells\": {\"fill\": {\"color\": \"#EBF0F8\"}, \"line\": {\"color\": \"white\"}}, \"header\": {\"fill\": {\"color\": \"#C8D4E3\"}, \"line\": {\"color\": \"white\"}}, \"type\": \"table\"}]}, \"layout\": {\"annotationdefaults\": {\"arrowcolor\": \"#2a3f5f\", \"arrowhead\": 0, \"arrowwidth\": 1}, \"coloraxis\": {\"colorbar\": {\"outlinewidth\": 0, \"ticks\": \"\"}}, \"colorscale\": {\"diverging\": [[0, \"#8e0152\"], [0.1, \"#c51b7d\"], [0.2, \"#de77ae\"], [0.3, \"#f1b6da\"], [0.4, \"#fde0ef\"], [0.5, \"#f7f7f7\"], [0.6, \"#e6f5d0\"], [0.7, \"#b8e186\"], [0.8, \"#7fbc41\"], [0.9, \"#4d9221\"], [1, \"#276419\"]], \"sequential\": [[0.0, \"#0d0887\"], [0.1111111111111111, \"#46039f\"], [0.2222222222222222, \"#7201a8\"], [0.3333333333333333, \"#9c179e\"], [0.4444444444444444, \"#bd3786\"], [0.5555555555555556, \"#d8576b\"], [0.6666666666666666, \"#ed7953\"], [0.7777777777777778, \"#fb9f3a\"], [0.8888888888888888, \"#fdca26\"], [1.0, \"#f0f921\"]], \"sequentialminus\": [[0.0, \"#0d0887\"], [0.1111111111111111, \"#46039f\"], [0.2222222222222222, \"#7201a8\"], [0.3333333333333333, \"#9c179e\"], [0.4444444444444444, \"#bd3786\"], [0.5555555555555556, \"#d8576b\"], [0.6666666666666666, \"#ed7953\"], [0.7777777777777778, \"#fb9f3a\"], [0.8888888888888888, \"#fdca26\"], [1.0, \"#f0f921\"]]}, \"colorway\": [\"#636efa\", \"#EF553B\", \"#00cc96\", \"#ab63fa\", \"#FFA15A\", \"#19d3f3\", \"#FF6692\", \"#B6E880\", \"#FF97FF\", \"#FECB52\"], \"font\": {\"color\": \"#2a3f5f\"}, \"geo\": {\"bgcolor\": \"white\", \"lakecolor\": \"white\", \"landcolor\": \"#E5ECF6\", \"showlakes\": true, \"showland\": true, \"subunitcolor\": \"white\"}, \"hoverlabel\": {\"align\": \"left\"}, \"hovermode\": \"closest\", \"mapbox\": {\"style\": \"light\"}, \"paper_bgcolor\": \"white\", \"plot_bgcolor\": \"#E5ECF6\", \"polar\": {\"angularaxis\": {\"gridcolor\": \"white\", \"linecolor\": \"white\", \"ticks\": \"\"}, \"bgcolor\": \"#E5ECF6\", \"radialaxis\": {\"gridcolor\": \"white\", \"linecolor\": \"white\", \"ticks\": \"\"}}, \"scene\": {\"xaxis\": {\"backgroundcolor\": \"#E5ECF6\", \"gridcolor\": \"white\", \"gridwidth\": 2, \"linecolor\": \"white\", \"showbackground\": true, \"ticks\": \"\", \"zerolinecolor\": \"white\"}, \"yaxis\": {\"backgroundcolor\": \"#E5ECF6\", \"gridcolor\": \"white\", \"gridwidth\": 2, \"linecolor\": \"white\", \"showbackground\": true, \"ticks\": \"\", \"zerolinecolor\": \"white\"}, \"zaxis\": {\"backgroundcolor\": \"#E5ECF6\", \"gridcolor\": \"white\", \"gridwidth\": 2, \"linecolor\": \"white\", \"showbackground\": true, \"ticks\": \"\", \"zerolinecolor\": \"white\"}}, \"shapedefaults\": {\"line\": {\"color\": \"#2a3f5f\"}}, \"ternary\": {\"aaxis\": {\"gridcolor\": \"white\", \"linecolor\": \"white\", \"ticks\": \"\"}, \"baxis\": {\"gridcolor\": \"white\", \"linecolor\": \"white\", \"ticks\": \"\"}, \"bgcolor\": \"#E5ECF6\", \"caxis\": {\"gridcolor\": \"white\", \"linecolor\": \"white\", \"ticks\": \"\"}}, \"title\": {\"x\": 0.05}, \"xaxis\": {\"automargin\": true, \"gridcolor\": \"white\", \"linecolor\": \"white\", \"ticks\": \"\", \"title\": {\"standoff\": 15}, \"zerolinecolor\": \"white\", \"zerolinewidth\": 2}, \"yaxis\": {\"automargin\": true, \"gridcolor\": \"white\", \"linecolor\": \"white\", \"ticks\": \"\", \"title\": {\"standoff\": 15}, \"zerolinecolor\": \"white\", \"zerolinewidth\": 2}}}, \"title\": {\"text\": \"%delta_totale_casi on 03/16/2020\"}},\n",
       "                        {\"responsive\": true}\n",
       "                    ).then(function(){\n",
       "                            \n",
       "var gd = document.getElementById('a2335033-4113-492d-9890-1d5d80691c4e');\n",
       "var x = new MutationObserver(function (mutations, observer) {{\n",
       "        var display = window.getComputedStyle(gd).display;\n",
       "        if (!display || display === 'none') {{\n",
       "            console.log([gd, 'removed!']);\n",
       "            Plotly.purge(gd);\n",
       "            observer.disconnect();\n",
       "        }}\n",
       "}});\n",
       "\n",
       "// Listen for the removal of the full notebook cells\n",
       "var notebookContainer = gd.closest('#notebook-container');\n",
       "if (notebookContainer) {{\n",
       "    x.observe(notebookContainer, {childList: true});\n",
       "}}\n",
       "\n",
       "// Listen for the clearing of the current output cell\n",
       "var outputEl = gd.closest('.output');\n",
       "if (outputEl) {{\n",
       "    x.observe(outputEl, {childList: true});\n",
       "}}\n",
       "\n",
       "                        })\n",
       "                };\n",
       "                });\n",
       "            </script>\n",
       "        </div>"
      ]
     },
     "metadata": {},
     "output_type": "display_data"
    }
   ],
   "source": [
    "col = '%delta_totale_casi'\n",
    "fig = px.density_mapbox(df_prov[df_prov.index==df_prov.index.max()], \n",
    "                        lat='lat', lon='long', z=col, radius=10, \n",
    "                        hover_name='denominazione_provincia',\n",
    "                        zoom=5,  height=800,\n",
    "                        #animation_frame=df_prov.index,\n",
    "                        mapbox_style=\"stamen-terrain\",\n",
    "                        title = col + ' on ' + str(df_prov.index.max()))\n",
    "fig.show()"
   ]
  },
  {
   "cell_type": "markdown",
   "metadata": {},
   "source": [
    "### National evolution"
   ]
  },
  {
   "cell_type": "code",
   "execution_count": 14,
   "metadata": {
    "scrolled": true
   },
   "outputs": [
    {
     "data": {
      "image/png": "[encoded data removed]",
      "text/plain": [
       "<Figure size 432x288 with 1 Axes>"
      ]
     },
     "metadata": {
      "needs_background": "light"
     },
     "output_type": "display_data"
    },
    {
     "data": {
      "image/png": "[encoded data removed]",
      "text/plain": [
       "<Figure size 432x288 with 1 Axes>"
      ]
     },
     "metadata": {
      "needs_background": "light"
     },
     "output_type": "display_data"
    },
    {
     "data": {
      "image/png": "[encoded data removed]",
      "text/plain": [
       "<Figure size 432x288 with 1 Axes>"
      ]
     },
     "metadata": {
      "needs_background": "light"
     },
     "output_type": "display_data"
    },
    {
     "data": {
      "image/png": "[encoded data removed]",
      "text/plain": [
       "<Figure size 432x288 with 1 Axes>"
      ]
     },
     "metadata": {
      "needs_background": "light"
     },
     "output_type": "display_data"
    },
    {
     "data": {
      "image/png": "[encoded data removed]",
      "text/plain": [
       "<Figure size 432x288 with 1 Axes>"
      ]
     },
     "metadata": {
      "needs_background": "light"
     },
     "output_type": "display_data"
    },
    {
     "data": {
      "image/png": "[encoded data removed]",
      "text/plain": [
       "<Figure size 432x288 with 1 Axes>"
      ]
     },
     "metadata": {
      "needs_background": "light"
     },
     "output_type": "display_data"
    },
    {
     "data": {
      "image/png": "[encoded data removed]",
      "text/plain": [
       "<Figure size 432x288 with 1 Axes>"
      ]
     },
     "metadata": {
      "needs_background": "light"
     },
     "output_type": "display_data"
    },
    {
     "data": {
      "image/png": "[encoded data removed]",
      "text/plain": [
       "<Figure size 432x288 with 1 Axes>"
      ]
     },
     "metadata": {
      "needs_background": "light"
     },
     "output_type": "display_data"
    },
    {
     "data": {
      "image/png": "[encoded data removed]",
      "text/plain": [
       "<Figure size 432x288 with 1 Axes>"
      ]
     },
     "metadata": {
      "needs_background": "light"
     },
     "output_type": "display_data"
    },
    {
     "data": {
      "image/png": "[encoded data removed]",
      "text/plain": [
       "<Figure size 432x288 with 1 Axes>"
      ]
     },
     "metadata": {
      "needs_background": "light"
     },
     "output_type": "display_data"
    },
    {
     "data": {
      "image/png": "[encoded data removed]",
      "text/plain": [
       "<Figure size 432x288 with 1 Axes>"
      ]
     },
     "metadata": {
      "needs_background": "light"
     },
     "output_type": "display_data"
    },
    {
     "data": {
      "image/png": "[encoded data removed]",
      "text/plain": [
       "<Figure size 432x288 with 1 Axes>"
      ]
     },
     "metadata": {
      "needs_background": "light"
     },
     "output_type": "display_data"
    },
    {
     "data": {
      "image/png": "[encoded data removed]",
      "text/plain": [
       "<Figure size 432x288 with 1 Axes>"
      ]
     },
     "metadata": {
      "needs_background": "light"
     },
     "output_type": "display_data"
    },
    {
     "data": {
      "image/png": "[encoded data removed]",
      "text/plain": [
       "<Figure size 432x288 with 1 Axes>"
      ]
     },
     "metadata": {
      "needs_background": "light"
     },
     "output_type": "display_data"
    },
    {
     "data": {
      "image/png": "[encoded data removed]",
      "text/plain": [
       "<Figure size 432x288 with 1 Axes>"
      ]
     },
     "metadata": {
      "needs_background": "light"
     },
     "output_type": "display_data"
    },
    {
     "data": {
      "image/png": "[encoded data removed]",
      "text/plain": [
       "<Figure size 432x288 with 1 Axes>"
      ]
     },
     "metadata": {
      "needs_background": "light"
     },
     "output_type": "display_data"
    },
    {
     "data": {
      "image/png": "[encoded data removed]",
      "text/plain": [
       "<Figure size 432x288 with 1 Axes>"
      ]
     },
     "metadata": {
      "needs_background": "light"
     },
     "output_type": "display_data"
    },
    {
     "data": {
      "image/png": "[encoded data removed]",
      "text/plain": [
       "<Figure size 432x288 with 1 Axes>"
      ]
     },
     "metadata": {
      "needs_background": "light"
     },
     "output_type": "display_data"
    },
    {
     "data": {
      "image/png": "[encoded data removed]",
      "text/plain": [
       "<Figure size 432x288 with 1 Axes>"
      ]
     },
     "metadata": {
      "needs_background": "light"
     },
     "output_type": "display_data"
    }
   ],
   "source": [
    "for col in df_naz.columns:\n",
    "    plt.figure()\n",
    "    df_naz[col].plot(kind='bar', title=col)    "
   ]
  },
  {
   "cell_type": "code",
   "execution_count": 15,
   "metadata": {},
   "outputs": [
    {
     "data": {
      "text/plain": [
       "<matplotlib.axes._subplots.AxesSubplot at 0x1c6e1222fc8>"
      ]
     },
     "execution_count": 15,
     "metadata": {},
     "output_type": "execute_result"
    },
    {
     "data": {
      "image/png": "[encoded data removed]",
      "text/plain": [
       "<Figure size 432x288 with 1 Axes>"
      ]
     },
     "metadata": {
      "needs_background": "light"
     },
     "output_type": "display_data"
    }
   ],
   "source": [
    "df_naz[['nuovi_attualmente_positivi', 'delta_totale_casi','delta_dimessi_guariti','delta_deceduti']].plot(kind='bar')"
   ]
  },
  {
   "cell_type": "code",
   "execution_count": 16,
   "metadata": {},
   "outputs": [
    {
     "data": {
      "text/plain": [
       "<matplotlib.axes._subplots.AxesSubplot at 0x1c6e10a4148>"
      ]
     },
     "execution_count": 16,
     "metadata": {},
     "output_type": "execute_result"
    },
    {
     "data": {
      "image/png": "[encoded data removed]",
      "text/plain": [
       "<Figure size 432x288 with 1 Axes>"
      ]
     },
     "metadata": {
      "needs_background": "light"
     },
     "output_type": "display_data"
    }
   ],
   "source": [
    "df_naz[['nuovi_attualmente_positivi', 'delta_totale_casi','delta_dimessi_guariti','delta_deceduti']].iloc[-1].plot(kind='barh')"
   ]
  },
  {
   "cell_type": "code",
   "execution_count": 17,
   "metadata": {},
   "outputs": [
    {
     "data": {
      "text/plain": [
       "Text(0.5, 1.0, \"variazione giornaliera nuovi casi per l'Abruzzo\")"
      ]
     },
     "execution_count": 17,
     "metadata": {},
     "output_type": "execute_result"
    },
    {
     "data": {
      "image/png": "[encoded data removed]",
      "text/plain": [
       "<Figure size 432x288 with 1 Axes>"
      ]
     },
     "metadata": {
      "needs_background": "light"
     },
     "output_type": "display_data"
    }
   ],
   "source": [
    "df_reg['Abruzzo']['delta_totale_casi'].plot(kind='bar')\n",
    "plt.title(\"variazione giornaliera nuovi casi per l'Abruzzo\")"
   ]
  },
  {
   "cell_type": "markdown",
   "metadata": {},
   "source": [
    "### Logistic model evolution"
   ]
  },
  {
   "cell_type": "code",
   "execution_count": 69,
   "metadata": {
    "scrolled": false
   },
   "outputs": [
    {
     "data": {
      "image/png": "[encoded data removed]",
      "text/plain": [
       "<Figure size 864x864 with 3 Axes>"
      ]
     },
     "metadata": {
      "needs_background": "light"
     },
     "output_type": "display_data"
    },
    {
     "name": "stdout",
     "output_type": "stream",
     "text": [
      "next day prediction for log model:  2436\n",
      "next day prediction for exp model:  2701\n",
      "next day prediction for pol model:  2537\n",
      "data\n",
      "03/12/2020    1016\n",
      "03/13/2020    1266\n",
      "03/14/2020    1441\n",
      "03/15/2020    1809\n",
      "03/16/2020    2158\n",
      "Name: deceduti, dtype: int64\n"
     ]
    }
   ],
   "source": [
    "tools.plot_model(df_naz, 'deceduti', backward_fit=-1, forward_look=5, plotlimit=True, show_pol=False)"
   ]
  },
  {
   "cell_type": "code",
   "execution_count": 70,
   "metadata": {},
   "outputs": [
    {
     "data": {
      "image/png": "[encoded data removed]",
      "text/plain": [
       "<Figure size 864x864 with 3 Axes>"
      ]
     },
     "metadata": {
      "needs_background": "light"
     },
     "output_type": "display_data"
    },
    {
     "name": "stdout",
     "output_type": "stream",
     "text": [
      "next day prediction for log model:  31869\n",
      "next day prediction for exp model:  33697\n",
      "next day prediction for pol model:  32532\n",
      "data\n",
      "03/12/2020    15113\n",
      "03/13/2020    17660\n",
      "03/14/2020    21157\n",
      "03/15/2020    24747\n",
      "03/16/2020    27980\n",
      "Name: totale_casi, dtype: int64\n"
     ]
    }
   ],
   "source": [
    "tools.plot_model(df_naz, 'totale_casi', backward_fit=-1, forward_look=10, plotlimit=True, show_pol=False)"
   ]
  },
  {
   "cell_type": "code",
   "execution_count": 114,
   "metadata": {},
   "outputs": [
    {
     "data": {
      "image/png": "[encoded data removed]",
      "text/plain": [
       "<Figure size 864x864 with 3 Axes>"
      ]
     },
     "metadata": {
      "needs_background": "light"
     },
     "output_type": "display_data"
    },
    {
     "name": "stdout",
     "output_type": "stream",
     "text": [
      "next day prediction for log model:  1537\n",
      "data\n",
      "03/12/2020     744\n",
      "03/13/2020     890\n",
      "03/14/2020     966\n",
      "03/15/2020    1218\n",
      "03/16/2020    1420\n",
      "Name: deceduti, dtype: int64\n"
     ]
    }
   ],
   "source": [
    "tools.plot_model(df_reg['Lombardia'], 'deceduti', backward_fit=-1, forward_look=10, plotlimit=True, show_pol=False, show_exp=False)"
   ]
  },
  {
   "cell_type": "code",
   "execution_count": 172,
   "metadata": {},
   "outputs": [],
   "source": [
    "china_deaths = df_world_deaths[df_world_deaths['Country/Region']=='China'].groupby('Country/Region').sum().drop('Lat',1).drop('Long',1).T#\n",
    "china_deaths.index = pd.to_datetime(china_deaths.index)"
   ]
  },
  {
   "cell_type": "code",
   "execution_count": 173,
   "metadata": {},
   "outputs": [
    {
     "data": {
      "image/png": "[encoded data removed]",
      "text/plain": [
       "<Figure size 864x864 with 3 Axes>"
      ]
     },
     "metadata": {
      "needs_background": "light"
     },
     "output_type": "display_data"
    },
    {
     "name": "stdout",
     "output_type": "stream",
     "text": [
      "next day prediction for log model:  3162\n",
      "2020-03-12    3172\n",
      "2020-03-13    3180\n",
      "2020-03-14    3193\n",
      "2020-03-15    3203\n",
      "2020-03-16    3217\n",
      "Name: China, dtype: int64\n"
     ]
    }
   ],
   "source": [
    "tools.plot_model(china_deaths, 'China', backward_fit=-0, forward_look=50, plotlimit=True, show_pol=False, show_exp=False)"
   ]
  },
  {
   "cell_type": "code",
   "execution_count": 180,
   "metadata": {},
   "outputs": [
    {
     "data": {
      "text/html": [
       "<div>\n",
       "<style scoped>\n",
       "    .dataframe tbody tr th:only-of-type {\n",
       "        vertical-align: middle;\n",
       "    }\n",
       "\n",
       "    .dataframe tbody tr th {\n",
       "        vertical-align: top;\n",
       "    }\n",
       "\n",
       "    .dataframe thead th {\n",
       "        text-align: right;\n",
       "    }\n",
       "</style>\n",
       "<table border=\"1\" class=\"dataframe\">\n",
       "  <thead>\n",
       "    <tr style=\"text-align: right;\">\n",
       "      <th></th>\n",
       "      <th>ricoverati_con_sintomi</th>\n",
       "      <th>terapia_intensiva</th>\n",
       "      <th>totale_ospedalizzati</th>\n",
       "      <th>isolamento_domiciliare</th>\n",
       "      <th>totale_attualmente_positivi</th>\n",
       "      <th>nuovi_attualmente_positivi</th>\n",
       "      <th>dimessi_guariti</th>\n",
       "      <th>deceduti</th>\n",
       "      <th>totale_casi</th>\n",
       "      <th>tamponi</th>\n",
       "      <th>delta_totale_casi</th>\n",
       "      <th>%delta_totale_casi</th>\n",
       "      <th>growth_factor</th>\n",
       "      <th>delta_dimessi_guariti</th>\n",
       "      <th>%delta_dimessi_guariti</th>\n",
       "      <th>delta_deceduti</th>\n",
       "      <th>%delta_deceduti</th>\n",
       "      <th>deceduti_su_tot</th>\n",
       "      <th>deceduti_su_dimessi</th>\n",
       "    </tr>\n",
       "    <tr>\n",
       "      <th>data</th>\n",
       "      <th></th>\n",
       "      <th></th>\n",
       "      <th></th>\n",
       "      <th></th>\n",
       "      <th></th>\n",
       "      <th></th>\n",
       "      <th></th>\n",
       "      <th></th>\n",
       "      <th></th>\n",
       "      <th></th>\n",
       "      <th></th>\n",
       "      <th></th>\n",
       "      <th></th>\n",
       "      <th></th>\n",
       "      <th></th>\n",
       "      <th></th>\n",
       "      <th></th>\n",
       "      <th></th>\n",
       "      <th></th>\n",
       "    </tr>\n",
       "  </thead>\n",
       "  <tbody>\n",
       "    <tr>\n",
       "      <th>02/24/2020</th>\n",
       "      <td>101</td>\n",
       "      <td>26</td>\n",
       "      <td>127</td>\n",
       "      <td>94</td>\n",
       "      <td>221</td>\n",
       "      <td>221</td>\n",
       "      <td>1</td>\n",
       "      <td>7</td>\n",
       "      <td>229</td>\n",
       "      <td>4324</td>\n",
       "      <td>NaN</td>\n",
       "      <td>NaN</td>\n",
       "      <td>NaN</td>\n",
       "      <td>NaN</td>\n",
       "      <td>NaN</td>\n",
       "      <td>NaN</td>\n",
       "      <td>NaN</td>\n",
       "      <td>0.030568</td>\n",
       "      <td>7.000000</td>\n",
       "    </tr>\n",
       "    <tr>\n",
       "      <th>02/25/2020</th>\n",
       "      <td>114</td>\n",
       "      <td>35</td>\n",
       "      <td>150</td>\n",
       "      <td>162</td>\n",
       "      <td>311</td>\n",
       "      <td>90</td>\n",
       "      <td>1</td>\n",
       "      <td>10</td>\n",
       "      <td>322</td>\n",
       "      <td>8623</td>\n",
       "      <td>93.0</td>\n",
       "      <td>0.406114</td>\n",
       "      <td>NaN</td>\n",
       "      <td>0.0</td>\n",
       "      <td>0.000000</td>\n",
       "      <td>3.0</td>\n",
       "      <td>0.428571</td>\n",
       "      <td>0.031056</td>\n",
       "      <td>10.000000</td>\n",
       "    </tr>\n",
       "    <tr>\n",
       "      <th>02/26/2020</th>\n",
       "      <td>128</td>\n",
       "      <td>36</td>\n",
       "      <td>164</td>\n",
       "      <td>221</td>\n",
       "      <td>385</td>\n",
       "      <td>74</td>\n",
       "      <td>3</td>\n",
       "      <td>12</td>\n",
       "      <td>400</td>\n",
       "      <td>9587</td>\n",
       "      <td>78.0</td>\n",
       "      <td>0.242236</td>\n",
       "      <td>0.838710</td>\n",
       "      <td>2.0</td>\n",
       "      <td>2.000000</td>\n",
       "      <td>2.0</td>\n",
       "      <td>0.200000</td>\n",
       "      <td>0.030000</td>\n",
       "      <td>4.000000</td>\n",
       "    </tr>\n",
       "    <tr>\n",
       "      <th>02/27/2020</th>\n",
       "      <td>248</td>\n",
       "      <td>56</td>\n",
       "      <td>304</td>\n",
       "      <td>284</td>\n",
       "      <td>588</td>\n",
       "      <td>203</td>\n",
       "      <td>45</td>\n",
       "      <td>17</td>\n",
       "      <td>650</td>\n",
       "      <td>12014</td>\n",
       "      <td>250.0</td>\n",
       "      <td>0.625000</td>\n",
       "      <td>3.205128</td>\n",
       "      <td>42.0</td>\n",
       "      <td>14.000000</td>\n",
       "      <td>5.0</td>\n",
       "      <td>0.416667</td>\n",
       "      <td>0.026154</td>\n",
       "      <td>0.377778</td>\n",
       "    </tr>\n",
       "    <tr>\n",
       "      <th>02/28/2020</th>\n",
       "      <td>345</td>\n",
       "      <td>64</td>\n",
       "      <td>409</td>\n",
       "      <td>412</td>\n",
       "      <td>821</td>\n",
       "      <td>233</td>\n",
       "      <td>46</td>\n",
       "      <td>21</td>\n",
       "      <td>888</td>\n",
       "      <td>15695</td>\n",
       "      <td>238.0</td>\n",
       "      <td>0.366154</td>\n",
       "      <td>0.952000</td>\n",
       "      <td>1.0</td>\n",
       "      <td>0.022222</td>\n",
       "      <td>4.0</td>\n",
       "      <td>0.235294</td>\n",
       "      <td>0.023649</td>\n",
       "      <td>0.456522</td>\n",
       "    </tr>\n",
       "    <tr>\n",
       "      <th>02/29/2020</th>\n",
       "      <td>401</td>\n",
       "      <td>105</td>\n",
       "      <td>506</td>\n",
       "      <td>543</td>\n",
       "      <td>1049</td>\n",
       "      <td>228</td>\n",
       "      <td>50</td>\n",
       "      <td>29</td>\n",
       "      <td>1128</td>\n",
       "      <td>18661</td>\n",
       "      <td>240.0</td>\n",
       "      <td>0.270270</td>\n",
       "      <td>1.008403</td>\n",
       "      <td>4.0</td>\n",
       "      <td>0.086957</td>\n",
       "      <td>8.0</td>\n",
       "      <td>0.380952</td>\n",
       "      <td>0.025709</td>\n",
       "      <td>0.580000</td>\n",
       "    </tr>\n",
       "    <tr>\n",
       "      <th>03/01/2020</th>\n",
       "      <td>639</td>\n",
       "      <td>140</td>\n",
       "      <td>779</td>\n",
       "      <td>798</td>\n",
       "      <td>1577</td>\n",
       "      <td>528</td>\n",
       "      <td>83</td>\n",
       "      <td>34</td>\n",
       "      <td>1694</td>\n",
       "      <td>21127</td>\n",
       "      <td>566.0</td>\n",
       "      <td>0.501773</td>\n",
       "      <td>2.358333</td>\n",
       "      <td>33.0</td>\n",
       "      <td>0.660000</td>\n",
       "      <td>5.0</td>\n",
       "      <td>0.172414</td>\n",
       "      <td>0.020071</td>\n",
       "      <td>0.409639</td>\n",
       "    </tr>\n",
       "    <tr>\n",
       "      <th>03/02/2020</th>\n",
       "      <td>742</td>\n",
       "      <td>166</td>\n",
       "      <td>908</td>\n",
       "      <td>927</td>\n",
       "      <td>1835</td>\n",
       "      <td>258</td>\n",
       "      <td>149</td>\n",
       "      <td>52</td>\n",
       "      <td>2036</td>\n",
       "      <td>23345</td>\n",
       "      <td>342.0</td>\n",
       "      <td>0.201889</td>\n",
       "      <td>0.604240</td>\n",
       "      <td>66.0</td>\n",
       "      <td>0.795181</td>\n",
       "      <td>18.0</td>\n",
       "      <td>0.529412</td>\n",
       "      <td>0.025540</td>\n",
       "      <td>0.348993</td>\n",
       "    </tr>\n",
       "    <tr>\n",
       "      <th>03/03/2020</th>\n",
       "      <td>1034</td>\n",
       "      <td>229</td>\n",
       "      <td>1263</td>\n",
       "      <td>1000</td>\n",
       "      <td>2263</td>\n",
       "      <td>428</td>\n",
       "      <td>160</td>\n",
       "      <td>79</td>\n",
       "      <td>2502</td>\n",
       "      <td>25856</td>\n",
       "      <td>466.0</td>\n",
       "      <td>0.228880</td>\n",
       "      <td>1.362573</td>\n",
       "      <td>11.0</td>\n",
       "      <td>0.073826</td>\n",
       "      <td>27.0</td>\n",
       "      <td>0.519231</td>\n",
       "      <td>0.031575</td>\n",
       "      <td>0.493750</td>\n",
       "    </tr>\n",
       "    <tr>\n",
       "      <th>03/04/2020</th>\n",
       "      <td>1346</td>\n",
       "      <td>295</td>\n",
       "      <td>1641</td>\n",
       "      <td>1065</td>\n",
       "      <td>2706</td>\n",
       "      <td>443</td>\n",
       "      <td>276</td>\n",
       "      <td>107</td>\n",
       "      <td>3089</td>\n",
       "      <td>29837</td>\n",
       "      <td>587.0</td>\n",
       "      <td>0.234612</td>\n",
       "      <td>1.259657</td>\n",
       "      <td>116.0</td>\n",
       "      <td>0.725000</td>\n",
       "      <td>28.0</td>\n",
       "      <td>0.354430</td>\n",
       "      <td>0.034639</td>\n",
       "      <td>0.387681</td>\n",
       "    </tr>\n",
       "    <tr>\n",
       "      <th>03/05/2020</th>\n",
       "      <td>1790</td>\n",
       "      <td>351</td>\n",
       "      <td>2141</td>\n",
       "      <td>1155</td>\n",
       "      <td>3296</td>\n",
       "      <td>590</td>\n",
       "      <td>414</td>\n",
       "      <td>148</td>\n",
       "      <td>3858</td>\n",
       "      <td>32362</td>\n",
       "      <td>769.0</td>\n",
       "      <td>0.248948</td>\n",
       "      <td>1.310051</td>\n",
       "      <td>138.0</td>\n",
       "      <td>0.500000</td>\n",
       "      <td>41.0</td>\n",
       "      <td>0.383178</td>\n",
       "      <td>0.038362</td>\n",
       "      <td>0.357488</td>\n",
       "    </tr>\n",
       "    <tr>\n",
       "      <th>03/06/2020</th>\n",
       "      <td>2394</td>\n",
       "      <td>462</td>\n",
       "      <td>2856</td>\n",
       "      <td>1060</td>\n",
       "      <td>3916</td>\n",
       "      <td>620</td>\n",
       "      <td>523</td>\n",
       "      <td>197</td>\n",
       "      <td>4636</td>\n",
       "      <td>36359</td>\n",
       "      <td>778.0</td>\n",
       "      <td>0.201659</td>\n",
       "      <td>1.011704</td>\n",
       "      <td>109.0</td>\n",
       "      <td>0.263285</td>\n",
       "      <td>49.0</td>\n",
       "      <td>0.331081</td>\n",
       "      <td>0.042494</td>\n",
       "      <td>0.376673</td>\n",
       "    </tr>\n",
       "    <tr>\n",
       "      <th>03/07/2020</th>\n",
       "      <td>2651</td>\n",
       "      <td>567</td>\n",
       "      <td>3218</td>\n",
       "      <td>1843</td>\n",
       "      <td>5061</td>\n",
       "      <td>1145</td>\n",
       "      <td>589</td>\n",
       "      <td>233</td>\n",
       "      <td>5883</td>\n",
       "      <td>42062</td>\n",
       "      <td>1247.0</td>\n",
       "      <td>0.268982</td>\n",
       "      <td>1.602828</td>\n",
       "      <td>66.0</td>\n",
       "      <td>0.126195</td>\n",
       "      <td>36.0</td>\n",
       "      <td>0.182741</td>\n",
       "      <td>0.039606</td>\n",
       "      <td>0.395586</td>\n",
       "    </tr>\n",
       "    <tr>\n",
       "      <th>03/08/2020</th>\n",
       "      <td>3557</td>\n",
       "      <td>650</td>\n",
       "      <td>4207</td>\n",
       "      <td>2180</td>\n",
       "      <td>6387</td>\n",
       "      <td>1326</td>\n",
       "      <td>622</td>\n",
       "      <td>366</td>\n",
       "      <td>7375</td>\n",
       "      <td>49937</td>\n",
       "      <td>1492.0</td>\n",
       "      <td>0.253612</td>\n",
       "      <td>1.196472</td>\n",
       "      <td>33.0</td>\n",
       "      <td>0.056027</td>\n",
       "      <td>133.0</td>\n",
       "      <td>0.570815</td>\n",
       "      <td>0.049627</td>\n",
       "      <td>0.588424</td>\n",
       "    </tr>\n",
       "    <tr>\n",
       "      <th>03/09/2020</th>\n",
       "      <td>4316</td>\n",
       "      <td>733</td>\n",
       "      <td>5049</td>\n",
       "      <td>2936</td>\n",
       "      <td>7985</td>\n",
       "      <td>1598</td>\n",
       "      <td>724</td>\n",
       "      <td>463</td>\n",
       "      <td>9172</td>\n",
       "      <td>53826</td>\n",
       "      <td>1797.0</td>\n",
       "      <td>0.243661</td>\n",
       "      <td>1.204424</td>\n",
       "      <td>102.0</td>\n",
       "      <td>0.163987</td>\n",
       "      <td>97.0</td>\n",
       "      <td>0.265027</td>\n",
       "      <td>0.050480</td>\n",
       "      <td>0.639503</td>\n",
       "    </tr>\n",
       "    <tr>\n",
       "      <th>03/10/2020</th>\n",
       "      <td>5038</td>\n",
       "      <td>877</td>\n",
       "      <td>5915</td>\n",
       "      <td>2599</td>\n",
       "      <td>8514</td>\n",
       "      <td>529</td>\n",
       "      <td>1004</td>\n",
       "      <td>631</td>\n",
       "      <td>10149</td>\n",
       "      <td>60761</td>\n",
       "      <td>977.0</td>\n",
       "      <td>0.106520</td>\n",
       "      <td>0.543684</td>\n",
       "      <td>280.0</td>\n",
       "      <td>0.386740</td>\n",
       "      <td>168.0</td>\n",
       "      <td>0.362851</td>\n",
       "      <td>0.062174</td>\n",
       "      <td>0.628486</td>\n",
       "    </tr>\n",
       "    <tr>\n",
       "      <th>03/11/2020</th>\n",
       "      <td>5838</td>\n",
       "      <td>1028</td>\n",
       "      <td>6866</td>\n",
       "      <td>3724</td>\n",
       "      <td>10590</td>\n",
       "      <td>2076</td>\n",
       "      <td>1045</td>\n",
       "      <td>827</td>\n",
       "      <td>12462</td>\n",
       "      <td>73154</td>\n",
       "      <td>2313.0</td>\n",
       "      <td>0.227904</td>\n",
       "      <td>2.367451</td>\n",
       "      <td>41.0</td>\n",
       "      <td>0.040837</td>\n",
       "      <td>196.0</td>\n",
       "      <td>0.310618</td>\n",
       "      <td>0.066362</td>\n",
       "      <td>0.791388</td>\n",
       "    </tr>\n",
       "    <tr>\n",
       "      <th>03/12/2020</th>\n",
       "      <td>6650</td>\n",
       "      <td>1153</td>\n",
       "      <td>7803</td>\n",
       "      <td>5036</td>\n",
       "      <td>12839</td>\n",
       "      <td>2249</td>\n",
       "      <td>1258</td>\n",
       "      <td>1016</td>\n",
       "      <td>15113</td>\n",
       "      <td>86011</td>\n",
       "      <td>2651.0</td>\n",
       "      <td>0.212727</td>\n",
       "      <td>1.146131</td>\n",
       "      <td>213.0</td>\n",
       "      <td>0.203828</td>\n",
       "      <td>189.0</td>\n",
       "      <td>0.228537</td>\n",
       "      <td>0.067227</td>\n",
       "      <td>0.807631</td>\n",
       "    </tr>\n",
       "    <tr>\n",
       "      <th>03/13/2020</th>\n",
       "      <td>7426</td>\n",
       "      <td>1328</td>\n",
       "      <td>8754</td>\n",
       "      <td>6201</td>\n",
       "      <td>14955</td>\n",
       "      <td>2116</td>\n",
       "      <td>1439</td>\n",
       "      <td>1266</td>\n",
       "      <td>17660</td>\n",
       "      <td>97488</td>\n",
       "      <td>2547.0</td>\n",
       "      <td>0.168530</td>\n",
       "      <td>0.960770</td>\n",
       "      <td>181.0</td>\n",
       "      <td>0.143879</td>\n",
       "      <td>250.0</td>\n",
       "      <td>0.246063</td>\n",
       "      <td>0.071687</td>\n",
       "      <td>0.879778</td>\n",
       "    </tr>\n",
       "    <tr>\n",
       "      <th>03/14/2020</th>\n",
       "      <td>8372</td>\n",
       "      <td>1518</td>\n",
       "      <td>9890</td>\n",
       "      <td>7860</td>\n",
       "      <td>17750</td>\n",
       "      <td>2795</td>\n",
       "      <td>1966</td>\n",
       "      <td>1441</td>\n",
       "      <td>21157</td>\n",
       "      <td>109170</td>\n",
       "      <td>3497.0</td>\n",
       "      <td>0.198018</td>\n",
       "      <td>1.372988</td>\n",
       "      <td>527.0</td>\n",
       "      <td>0.366227</td>\n",
       "      <td>175.0</td>\n",
       "      <td>0.138231</td>\n",
       "      <td>0.068110</td>\n",
       "      <td>0.732960</td>\n",
       "    </tr>\n",
       "    <tr>\n",
       "      <th>03/15/2020</th>\n",
       "      <td>9663</td>\n",
       "      <td>1672</td>\n",
       "      <td>11335</td>\n",
       "      <td>9268</td>\n",
       "      <td>20603</td>\n",
       "      <td>2853</td>\n",
       "      <td>2335</td>\n",
       "      <td>1809</td>\n",
       "      <td>24747</td>\n",
       "      <td>124899</td>\n",
       "      <td>3590.0</td>\n",
       "      <td>0.169684</td>\n",
       "      <td>1.026594</td>\n",
       "      <td>369.0</td>\n",
       "      <td>0.187691</td>\n",
       "      <td>368.0</td>\n",
       "      <td>0.255378</td>\n",
       "      <td>0.073100</td>\n",
       "      <td>0.774732</td>\n",
       "    </tr>\n",
       "    <tr>\n",
       "      <th>03/16/2020</th>\n",
       "      <td>11025</td>\n",
       "      <td>1851</td>\n",
       "      <td>12876</td>\n",
       "      <td>10197</td>\n",
       "      <td>23073</td>\n",
       "      <td>2470</td>\n",
       "      <td>2749</td>\n",
       "      <td>2158</td>\n",
       "      <td>27980</td>\n",
       "      <td>137962</td>\n",
       "      <td>3233.0</td>\n",
       "      <td>0.130642</td>\n",
       "      <td>0.900557</td>\n",
       "      <td>414.0</td>\n",
       "      <td>0.177302</td>\n",
       "      <td>349.0</td>\n",
       "      <td>0.192924</td>\n",
       "      <td>0.077127</td>\n",
       "      <td>0.785013</td>\n",
       "    </tr>\n",
       "  </tbody>\n",
       "</table>\n",
       "</div>"
      ],
      "text/plain": [
       "            ricoverati_con_sintomi  terapia_intensiva  totale_ospedalizzati  \\\n",
       "data                                                                          \n",
       "02/24/2020                     101                 26                   127   \n",
       "02/25/2020                     114                 35                   150   \n",
       "02/26/2020                     128                 36                   164   \n",
       "02/27/2020                     248                 56                   304   \n",
       "02/28/2020                     345                 64                   409   \n",
       "02/29/2020                     401                105                   506   \n",
       "03/01/2020                     639                140                   779   \n",
       "03/02/2020                     742                166                   908   \n",
       "03/03/2020                    1034                229                  1263   \n",
       "03/04/2020                    1346                295                  1641   \n",
       "03/05/2020                    1790                351                  2141   \n",
       "03/06/2020                    2394                462                  2856   \n",
       "03/07/2020                    2651                567                  3218   \n",
       "03/08/2020                    3557                650                  4207   \n",
       "03/09/2020                    4316                733                  5049   \n",
       "03/10/2020                    5038                877                  5915   \n",
       "03/11/2020                    5838               1028                  6866   \n",
       "03/12/2020                    6650               1153                  7803   \n",
       "03/13/2020                    7426               1328                  8754   \n",
       "03/14/2020                    8372               1518                  9890   \n",
       "03/15/2020                    9663               1672                 11335   \n",
       "03/16/2020                   11025               1851                 12876   \n",
       "\n",
       "            isolamento_domiciliare  totale_attualmente_positivi  \\\n",
       "data                                                              \n",
       "02/24/2020                      94                          221   \n",
       "02/25/2020                     162                          311   \n",
       "02/26/2020                     221                          385   \n",
       "02/27/2020                     284                          588   \n",
       "02/28/2020                     412                          821   \n",
       "02/29/2020                     543                         1049   \n",
       "03/01/2020                     798                         1577   \n",
       "03/02/2020                     927                         1835   \n",
       "03/03/2020                    1000                         2263   \n",
       "03/04/2020                    1065                         2706   \n",
       "03/05/2020                    1155                         3296   \n",
       "03/06/2020                    1060                         3916   \n",
       "03/07/2020                    1843                         5061   \n",
       "03/08/2020                    2180                         6387   \n",
       "03/09/2020                    2936                         7985   \n",
       "03/10/2020                    2599                         8514   \n",
       "03/11/2020                    3724                        10590   \n",
       "03/12/2020                    5036                        12839   \n",
       "03/13/2020                    6201                        14955   \n",
       "03/14/2020                    7860                        17750   \n",
       "03/15/2020                    9268                        20603   \n",
       "03/16/2020                   10197                        23073   \n",
       "\n",
       "            nuovi_attualmente_positivi  dimessi_guariti  deceduti  \\\n",
       "data                                                                \n",
       "02/24/2020                         221                1         7   \n",
       "02/25/2020                          90                1        10   \n",
       "02/26/2020                          74                3        12   \n",
       "02/27/2020                         203               45        17   \n",
       "02/28/2020                         233               46        21   \n",
       "02/29/2020                         228               50        29   \n",
       "03/01/2020                         528               83        34   \n",
       "03/02/2020                         258              149        52   \n",
       "03/03/2020                         428              160        79   \n",
       "03/04/2020                         443              276       107   \n",
       "03/05/2020                         590              414       148   \n",
       "03/06/2020                         620              523       197   \n",
       "03/07/2020                        1145              589       233   \n",
       "03/08/2020                        1326              622       366   \n",
       "03/09/2020                        1598              724       463   \n",
       "03/10/2020                         529             1004       631   \n",
       "03/11/2020                        2076             1045       827   \n",
       "03/12/2020                        2249             1258      1016   \n",
       "03/13/2020                        2116             1439      1266   \n",
       "03/14/2020                        2795             1966      1441   \n",
       "03/15/2020                        2853             2335      1809   \n",
       "03/16/2020                        2470             2749      2158   \n",
       "\n",
       "            totale_casi  tamponi  delta_totale_casi  %delta_totale_casi  \\\n",
       "data                                                                      \n",
       "02/24/2020          229     4324                NaN                 NaN   \n",
       "02/25/2020          322     8623               93.0            0.406114   \n",
       "02/26/2020          400     9587               78.0            0.242236   \n",
       "02/27/2020          650    12014              250.0            0.625000   \n",
       "02/28/2020          888    15695              238.0            0.366154   \n",
       "02/29/2020         1128    18661              240.0            0.270270   \n",
       "03/01/2020         1694    21127              566.0            0.501773   \n",
       "03/02/2020         2036    23345              342.0            0.201889   \n",
       "03/03/2020         2502    25856              466.0            0.228880   \n",
       "03/04/2020         3089    29837              587.0            0.234612   \n",
       "03/05/2020         3858    32362              769.0            0.248948   \n",
       "03/06/2020         4636    36359              778.0            0.201659   \n",
       "03/07/2020         5883    42062             1247.0            0.268982   \n",
       "03/08/2020         7375    49937             1492.0            0.253612   \n",
       "03/09/2020         9172    53826             1797.0            0.243661   \n",
       "03/10/2020        10149    60761              977.0            0.106520   \n",
       "03/11/2020        12462    73154             2313.0            0.227904   \n",
       "03/12/2020        15113    86011             2651.0            0.212727   \n",
       "03/13/2020        17660    97488             2547.0            0.168530   \n",
       "03/14/2020        21157   109170             3497.0            0.198018   \n",
       "03/15/2020        24747   124899             3590.0            0.169684   \n",
       "03/16/2020        27980   137962             3233.0            0.130642   \n",
       "\n",
       "            growth_factor  delta_dimessi_guariti  %delta_dimessi_guariti  \\\n",
       "data                                                                       \n",
       "02/24/2020            NaN                    NaN                     NaN   \n",
       "02/25/2020            NaN                    0.0                0.000000   \n",
       "02/26/2020       0.838710                    2.0                2.000000   \n",
       "02/27/2020       3.205128                   42.0               14.000000   \n",
       "02/28/2020       0.952000                    1.0                0.022222   \n",
       "02/29/2020       1.008403                    4.0                0.086957   \n",
       "03/01/2020       2.358333                   33.0                0.660000   \n",
       "03/02/2020       0.604240                   66.0                0.795181   \n",
       "03/03/2020       1.362573                   11.0                0.073826   \n",
       "03/04/2020       1.259657                  116.0                0.725000   \n",
       "03/05/2020       1.310051                  138.0                0.500000   \n",
       "03/06/2020       1.011704                  109.0                0.263285   \n",
       "03/07/2020       1.602828                   66.0                0.126195   \n",
       "03/08/2020       1.196472                   33.0                0.056027   \n",
       "03/09/2020       1.204424                  102.0                0.163987   \n",
       "03/10/2020       0.543684                  280.0                0.386740   \n",
       "03/11/2020       2.367451                   41.0                0.040837   \n",
       "03/12/2020       1.146131                  213.0                0.203828   \n",
       "03/13/2020       0.960770                  181.0                0.143879   \n",
       "03/14/2020       1.372988                  527.0                0.366227   \n",
       "03/15/2020       1.026594                  369.0                0.187691   \n",
       "03/16/2020       0.900557                  414.0                0.177302   \n",
       "\n",
       "            delta_deceduti  %delta_deceduti  deceduti_su_tot  \\\n",
       "data                                                           \n",
       "02/24/2020             NaN              NaN         0.030568   \n",
       "02/25/2020             3.0         0.428571         0.031056   \n",
       "02/26/2020             2.0         0.200000         0.030000   \n",
       "02/27/2020             5.0         0.416667         0.026154   \n",
       "02/28/2020             4.0         0.235294         0.023649   \n",
       "02/29/2020             8.0         0.380952         0.025709   \n",
       "03/01/2020             5.0         0.172414         0.020071   \n",
       "03/02/2020            18.0         0.529412         0.025540   \n",
       "03/03/2020            27.0         0.519231         0.031575   \n",
       "03/04/2020            28.0         0.354430         0.034639   \n",
       "03/05/2020            41.0         0.383178         0.038362   \n",
       "03/06/2020            49.0         0.331081         0.042494   \n",
       "03/07/2020            36.0         0.182741         0.039606   \n",
       "03/08/2020           133.0         0.570815         0.049627   \n",
       "03/09/2020            97.0         0.265027         0.050480   \n",
       "03/10/2020           168.0         0.362851         0.062174   \n",
       "03/11/2020           196.0         0.310618         0.066362   \n",
       "03/12/2020           189.0         0.228537         0.067227   \n",
       "03/13/2020           250.0         0.246063         0.071687   \n",
       "03/14/2020           175.0         0.138231         0.068110   \n",
       "03/15/2020           368.0         0.255378         0.073100   \n",
       "03/16/2020           349.0         0.192924         0.077127   \n",
       "\n",
       "            deceduti_su_dimessi  \n",
       "data                             \n",
       "02/24/2020             7.000000  \n",
       "02/25/2020            10.000000  \n",
       "02/26/2020             4.000000  \n",
       "02/27/2020             0.377778  \n",
       "02/28/2020             0.456522  \n",
       "02/29/2020             0.580000  \n",
       "03/01/2020             0.409639  \n",
       "03/02/2020             0.348993  \n",
       "03/03/2020             0.493750  \n",
       "03/04/2020             0.387681  \n",
       "03/05/2020             0.357488  \n",
       "03/06/2020             0.376673  \n",
       "03/07/2020             0.395586  \n",
       "03/08/2020             0.588424  \n",
       "03/09/2020             0.639503  \n",
       "03/10/2020             0.628486  \n",
       "03/11/2020             0.791388  \n",
       "03/12/2020             0.807631  \n",
       "03/13/2020             0.879778  \n",
       "03/14/2020             0.732960  \n",
       "03/15/2020             0.774732  \n",
       "03/16/2020             0.785013  "
      ]
     },
     "execution_count": 180,
     "metadata": {},
     "output_type": "execute_result"
    }
   ],
   "source": [
    "df_naz"
   ]
  },
  {
   "cell_type": "code",
   "execution_count": 177,
   "metadata": {},
   "outputs": [],
   "source": [
    "china_deaths['shifted'] = china_deaths.shift(36).values\n",
    "df_compare = pd.concat((china_deaths['shifted'],df_naz['deceduti']),1).dropna()\n",
    "df_compare.columns = ['Italy', 'China']\n",
    "df_compare.reset_index(drop=True, inplace=True)"
   ]
  },
  {
   "cell_type": "code",
   "execution_count": 189,
   "metadata": {},
   "outputs": [
    {
     "data": {
      "text/plain": [
       "<matplotlib.legend.Legend at 0x1c6e6550f48>"
      ]
     },
     "execution_count": 189,
     "metadata": {},
     "output_type": "execute_result"
    },
    {
     "data": {
      "image/png": "[encoded data removed]",
      "text/plain": [
       "<Figure size 432x288 with 1 Axes>"
      ]
     },
     "metadata": {
      "needs_background": "light"
     },
     "output_type": "display_data"
    }
   ],
   "source": [
    "df_compare.plot()\n",
    "plt.axvline(x=15, label='italy lockdown', alpha=0.2, color='b', linestyle='--')\n",
    "plt.axvline(x=11, label='china lockdown', alpha=0.2, color='y', linestyle='--')\n",
    "plt.legend()"
   ]
  },
  {
   "cell_type": "code",
   "execution_count": 108,
   "metadata": {},
   "outputs": [],
   "source": [
    "from fbprophet import Prophet"
   ]
  },
  {
   "cell_type": "code",
   "execution_count": null,
   "metadata": {},
   "outputs": [],
   "source": []
  }
 ],
 "metadata": {
  "kernelspec": {
   "display_name": "Python 3",
   "language": "python",
   "name": "python3"
  },
  "toc": {
   "base_numbering": 1,
   "nav_menu": {},
   "number_sections": true,
   "sideBar": true,
   "skip_h1_title": false,
   "title_cell": "Table of Contents",
   "title_sidebar": "Contents",
   "toc_cell": false,
   "toc_position": {},
   "toc_section_display": true,
   "toc_window_display": false
  },
  "varInspector": {
   "cols": {
    "lenName": 16,
    "lenType": 16,
    "lenVar": 40
   },
   "kernels_config": {
    "python": {
     "delete_cmd_postfix": "",
     "delete_cmd_prefix": "del ",
     "library": "var_list.py",
     "varRefreshCmd": "print(var_dic_list())"
    },
    "r": {
     "delete_cmd_postfix": ") ",
     "delete_cmd_prefix": "rm(",
     "library": "var_list.r",
     "varRefreshCmd": "cat(var_dic_list()) "
    }
   },
   "types_to_exclude": [
    "module",
    "function",
    "builtin_function_or_method",
    "instance",
    "_Feature"
   ],
   "window_display": false
  }
 },
 "nbformat": 4,
 "nbformat_minor": 2
}
