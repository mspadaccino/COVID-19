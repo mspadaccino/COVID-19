{
 "cells": [
  {
   "cell_type": "markdown",
   "metadata": {},
   "source": [
    "# COVID19 evolution analysis"
   ]
  },
  {
   "cell_type": "markdown",
   "metadata": {},
   "source": [
    "#### data loading"
   ]
  },
  {
   "cell_type": "code",
   "execution_count": 1,
   "metadata": {},
   "outputs": [],
   "source": [
    "%load_ext autoreload\n",
    "%autoreload 2\n",
    "import pandas as pd\n",
    "import numpy as np\n",
    "import matplotlib.pyplot as plt\n",
    "import matplotlib.dates as mdates\n",
    "import tools\n",
    "import plotly.express as px"
   ]
  },
  {
   "cell_type": "code",
   "execution_count": 4,
   "metadata": {},
   "outputs": [],
   "source": [
    "df_naz = pd.read_csv('../external_data/ProtezioneCivile/COVID-19/dati-andamento-nazionale/dpc-covid19-ita-andamento-nazionale.csv').drop('stato',1)\n",
    "reg = pd.read_csv('../external_data/ProtezioneCivile/COVID-19/dati-regioni/dpc-covid19-ita-regioni.csv')\n",
    "prov = pd.read_csv('../external_data/ProtezioneCivile/COVID-19/dati-province/dpc-covid19-ita-province.csv').drop('stato',1)\n",
    "df_world_confirmed = pd.read_csv('../external_data/JohnHopkins/COVID-19/csse_covid_19_data/csse_covid_19_time_series/time_series_19-covid-Confirmed.csv')\n",
    "df_world_deaths = pd.read_csv('../external_data/JohnHopkins/COVID-19/csse_covid_19_data/csse_covid_19_time_series/time_series_19-covid-Deaths.csv')\n",
    "df_world_recovered = pd.read_csv('../external_data/JohnHopkins/COVID-19/csse_covid_19_data/csse_covid_19_time_series/time_series_19-covid-Recovered.csv')\n",
    "df_naz = tools.add_extra_features(df_naz)\n",
    "regions = reg.groupby('denominazione_regione')\n",
    "df_reg = {}\n",
    "for item in regions.groups:\n",
    "    df_reg[item] = tools.add_extra_features(regions.get_group(item)).replace((np.inf, np.nan), 0)\n",
    "provinces = prov.groupby('sigla_provincia')\n",
    "df_prov = pd.DataFrame()\n",
    "for item in provinces.groups:\n",
    "    df_prov = pd.concat((df_prov,tools.add_extra_features(provinces.get_group(item)).replace((np.inf, np.nan), 0)),0)"
   ]
  },
  {
   "cell_type": "code",
   "execution_count": 5,
   "metadata": {},
   "outputs": [
    {
     "data": {
      "text/html": [
       "<div>\n",
       "<style scoped>\n",
       "    .dataframe tbody tr th:only-of-type {\n",
       "        vertical-align: middle;\n",
       "    }\n",
       "\n",
       "    .dataframe tbody tr th {\n",
       "        vertical-align: top;\n",
       "    }\n",
       "\n",
       "    .dataframe thead th {\n",
       "        text-align: right;\n",
       "    }\n",
       "</style>\n",
       "<table border=\"1\" class=\"dataframe\">\n",
       "  <thead>\n",
       "    <tr style=\"text-align: right;\">\n",
       "      <th></th>\n",
       "      <th>codice_regione</th>\n",
       "      <th>denominazione_regione</th>\n",
       "      <th>codice_provincia</th>\n",
       "      <th>denominazione_provincia</th>\n",
       "      <th>sigla_provincia</th>\n",
       "      <th>lat</th>\n",
       "      <th>long</th>\n",
       "      <th>totale_casi</th>\n",
       "      <th>delta_totale_casi</th>\n",
       "      <th>%delta_totale_casi</th>\n",
       "      <th>growth_factor</th>\n",
       "    </tr>\n",
       "    <tr>\n",
       "      <th>data</th>\n",
       "      <th></th>\n",
       "      <th></th>\n",
       "      <th></th>\n",
       "      <th></th>\n",
       "      <th></th>\n",
       "      <th></th>\n",
       "      <th></th>\n",
       "      <th></th>\n",
       "      <th></th>\n",
       "      <th></th>\n",
       "      <th></th>\n",
       "    </tr>\n",
       "  </thead>\n",
       "  <tbody>\n",
       "    <tr>\n",
       "      <th>03/16/2020</th>\n",
       "      <td>19</td>\n",
       "      <td>Sicilia</td>\n",
       "      <td>84</td>\n",
       "      <td>Agrigento</td>\n",
       "      <td>AG</td>\n",
       "      <td>37.309711</td>\n",
       "      <td>13.584575</td>\n",
       "      <td>22</td>\n",
       "      <td>2.0</td>\n",
       "      <td>0.100000</td>\n",
       "      <td>0.666667</td>\n",
       "    </tr>\n",
       "    <tr>\n",
       "      <th>03/16/2020</th>\n",
       "      <td>1</td>\n",
       "      <td>Piemonte</td>\n",
       "      <td>6</td>\n",
       "      <td>Alessandria</td>\n",
       "      <td>AL</td>\n",
       "      <td>44.912974</td>\n",
       "      <td>8.615401</td>\n",
       "      <td>273</td>\n",
       "      <td>66.0</td>\n",
       "      <td>0.318841</td>\n",
       "      <td>2.640000</td>\n",
       "    </tr>\n",
       "    <tr>\n",
       "      <th>03/16/2020</th>\n",
       "      <td>11</td>\n",
       "      <td>Marche</td>\n",
       "      <td>42</td>\n",
       "      <td>Ancona</td>\n",
       "      <td>AN</td>\n",
       "      <td>43.616760</td>\n",
       "      <td>13.518875</td>\n",
       "      <td>323</td>\n",
       "      <td>56.0</td>\n",
       "      <td>0.209738</td>\n",
       "      <td>1.076923</td>\n",
       "    </tr>\n",
       "    <tr>\n",
       "      <th>03/16/2020</th>\n",
       "      <td>2</td>\n",
       "      <td>Valle d'Aosta</td>\n",
       "      <td>7</td>\n",
       "      <td>Aosta</td>\n",
       "      <td>AO</td>\n",
       "      <td>45.737503</td>\n",
       "      <td>7.320149</td>\n",
       "      <td>105</td>\n",
       "      <td>48.0</td>\n",
       "      <td>0.842105</td>\n",
       "      <td>3.200000</td>\n",
       "    </tr>\n",
       "    <tr>\n",
       "      <th>03/16/2020</th>\n",
       "      <td>11</td>\n",
       "      <td>Marche</td>\n",
       "      <td>44</td>\n",
       "      <td>Ascoli Piceno</td>\n",
       "      <td>AP</td>\n",
       "      <td>42.853223</td>\n",
       "      <td>13.576911</td>\n",
       "      <td>21</td>\n",
       "      <td>7.0</td>\n",
       "      <td>0.500000</td>\n",
       "      <td>1.000000</td>\n",
       "    </tr>\n",
       "    <tr>\n",
       "      <th>...</th>\n",
       "      <td>...</td>\n",
       "      <td>...</td>\n",
       "      <td>...</td>\n",
       "      <td>...</td>\n",
       "      <td>...</td>\n",
       "      <td>...</td>\n",
       "      <td>...</td>\n",
       "      <td>...</td>\n",
       "      <td>...</td>\n",
       "      <td>...</td>\n",
       "      <td>...</td>\n",
       "    </tr>\n",
       "    <tr>\n",
       "      <th>03/16/2020</th>\n",
       "      <td>5</td>\n",
       "      <td>Veneto</td>\n",
       "      <td>27</td>\n",
       "      <td>Venezia</td>\n",
       "      <td>VE</td>\n",
       "      <td>45.434905</td>\n",
       "      <td>12.338452</td>\n",
       "      <td>356</td>\n",
       "      <td>28.0</td>\n",
       "      <td>0.085366</td>\n",
       "      <td>0.608696</td>\n",
       "    </tr>\n",
       "    <tr>\n",
       "      <th>03/16/2020</th>\n",
       "      <td>5</td>\n",
       "      <td>Veneto</td>\n",
       "      <td>24</td>\n",
       "      <td>Vicenza</td>\n",
       "      <td>VI</td>\n",
       "      <td>45.547497</td>\n",
       "      <td>11.545971</td>\n",
       "      <td>287</td>\n",
       "      <td>52.0</td>\n",
       "      <td>0.221277</td>\n",
       "      <td>0.732394</td>\n",
       "    </tr>\n",
       "    <tr>\n",
       "      <th>03/16/2020</th>\n",
       "      <td>5</td>\n",
       "      <td>Veneto</td>\n",
       "      <td>23</td>\n",
       "      <td>Verona</td>\n",
       "      <td>VR</td>\n",
       "      <td>45.438390</td>\n",
       "      <td>10.993527</td>\n",
       "      <td>425</td>\n",
       "      <td>90.0</td>\n",
       "      <td>0.268657</td>\n",
       "      <td>1.500000</td>\n",
       "    </tr>\n",
       "    <tr>\n",
       "      <th>03/16/2020</th>\n",
       "      <td>12</td>\n",
       "      <td>Lazio</td>\n",
       "      <td>56</td>\n",
       "      <td>Viterbo</td>\n",
       "      <td>VT</td>\n",
       "      <td>42.417383</td>\n",
       "      <td>12.104734</td>\n",
       "      <td>27</td>\n",
       "      <td>12.0</td>\n",
       "      <td>0.800000</td>\n",
       "      <td>6.000000</td>\n",
       "    </tr>\n",
       "    <tr>\n",
       "      <th>03/16/2020</th>\n",
       "      <td>18</td>\n",
       "      <td>Calabria</td>\n",
       "      <td>102</td>\n",
       "      <td>Vibo Valentia</td>\n",
       "      <td>VV</td>\n",
       "      <td>38.676241</td>\n",
       "      <td>16.101574</td>\n",
       "      <td>6</td>\n",
       "      <td>0.0</td>\n",
       "      <td>0.000000</td>\n",
       "      <td>-0.000000</td>\n",
       "    </tr>\n",
       "  </tbody>\n",
       "</table>\n",
       "<p>106 rows × 11 columns</p>\n",
       "</div>"
      ],
      "text/plain": [
       "            codice_regione denominazione_regione  codice_provincia  \\\n",
       "data                                                                 \n",
       "03/16/2020              19               Sicilia                84   \n",
       "03/16/2020               1              Piemonte                 6   \n",
       "03/16/2020              11                Marche                42   \n",
       "03/16/2020               2         Valle d'Aosta                 7   \n",
       "03/16/2020              11                Marche                44   \n",
       "...                    ...                   ...               ...   \n",
       "03/16/2020               5                Veneto                27   \n",
       "03/16/2020               5                Veneto                24   \n",
       "03/16/2020               5                Veneto                23   \n",
       "03/16/2020              12                 Lazio                56   \n",
       "03/16/2020              18              Calabria               102   \n",
       "\n",
       "           denominazione_provincia sigla_provincia        lat       long  \\\n",
       "data                                                                       \n",
       "03/16/2020               Agrigento              AG  37.309711  13.584575   \n",
       "03/16/2020             Alessandria              AL  44.912974   8.615401   \n",
       "03/16/2020                  Ancona              AN  43.616760  13.518875   \n",
       "03/16/2020                   Aosta              AO  45.737503   7.320149   \n",
       "03/16/2020           Ascoli Piceno              AP  42.853223  13.576911   \n",
       "...                            ...             ...        ...        ...   \n",
       "03/16/2020                 Venezia              VE  45.434905  12.338452   \n",
       "03/16/2020                 Vicenza              VI  45.547497  11.545971   \n",
       "03/16/2020                  Verona              VR  45.438390  10.993527   \n",
       "03/16/2020                 Viterbo              VT  42.417383  12.104734   \n",
       "03/16/2020           Vibo Valentia              VV  38.676241  16.101574   \n",
       "\n",
       "            totale_casi  delta_totale_casi  %delta_totale_casi  growth_factor  \n",
       "data                                                                           \n",
       "03/16/2020           22                2.0            0.100000       0.666667  \n",
       "03/16/2020          273               66.0            0.318841       2.640000  \n",
       "03/16/2020          323               56.0            0.209738       1.076923  \n",
       "03/16/2020          105               48.0            0.842105       3.200000  \n",
       "03/16/2020           21                7.0            0.500000       1.000000  \n",
       "...                 ...                ...                 ...            ...  \n",
       "03/16/2020          356               28.0            0.085366       0.608696  \n",
       "03/16/2020          287               52.0            0.221277       0.732394  \n",
       "03/16/2020          425               90.0            0.268657       1.500000  \n",
       "03/16/2020           27               12.0            0.800000       6.000000  \n",
       "03/16/2020            6                0.0            0.000000      -0.000000  \n",
       "\n",
       "[106 rows x 11 columns]"
      ]
     },
     "execution_count": 5,
     "metadata": {},
     "output_type": "execute_result"
    }
   ],
   "source": [
    "df_prov[df_prov.index==df_prov.index.max()]"
   ]
  },
  {
   "cell_type": "markdown",
   "metadata": {},
   "source": [
    "## Italy"
   ]
  },
  {
   "cell_type": "markdown",
   "metadata": {},
   "source": [
    "### diffusion heatmap for provinces"
   ]
  },
  {
   "cell_type": "code",
   "execution_count": 12,
   "metadata": {},
   "outputs": [
    {
     "data": {
      "application/vnd.plotly.v1+json": {
       "config": {
        "plotlyServerURL": "https://plot.ly"
       },
       "data": [
        {
         "coloraxis": "coloraxis",
         "hoverlabel": {
          "namelength": 0
         },
         "hovertemplate": "<b>%{hovertext}</b><br><br>totale_casi=%{z}<br>lat=%{lat}<br>long=%{lon}",
         "hovertext": [
          "Agrigento",
          "Alessandria",
          "Ancona",
          "Aosta",
          "Ascoli Piceno",
          "L'Aquila",
          "Arezzo",
          "Asti",
          "Avellino",
          "Bari",
          "Bergamo",
          "Biella",
          "Belluno",
          "Benevento",
          "Bologna",
          "Brindisi",
          "Brescia",
          "Barletta-Andria-Trani",
          "Bolzano",
          "Cagliari",
          "Campobasso",
          "Caserta",
          "Chieti",
          "Caltanissetta",
          "Cuneo",
          "Como",
          "Cremona",
          "Cosenza",
          "Catania",
          "Catanzaro",
          "Enna",
          "Forlì-Cesena",
          "Ferrara",
          "Foggia",
          "Firenze",
          "Fermo",
          "Frosinone",
          "Genova",
          "Gorizia",
          "Grosseto",
          "Imperia",
          "Isernia",
          "Crotone",
          "Lecco",
          "Lecce",
          "Livorno",
          "Lodi",
          "Latina",
          "Lucca",
          "Monza e della Brianza",
          "Macerata",
          "Messina",
          "Milano",
          "Mantova",
          "Modena",
          "Massa Carrara",
          "Matera",
          "Novara",
          "Nuoro",
          "Oristano",
          "Palermo",
          "Piacenza",
          "Padova",
          "Pescara",
          "Perugia",
          "Pisa",
          "Pordenone",
          "Prato",
          "Parma",
          "Pistoia",
          "Pesaro e Urbino",
          "Pavia",
          "Potenza",
          "Ravenna",
          "Reggio di Calabria",
          "Reggio nell'Emilia",
          "Ragusa",
          "Rieti",
          "Roma",
          "Rimini",
          "Rovigo",
          "Salerno",
          "Siena",
          "Sondrio",
          "La Spezia",
          "Siracusa",
          "Sassari",
          "Sud Sardegna",
          "Savona",
          "Taranto",
          "Teramo",
          "Trento",
          "Torino",
          "Trapani",
          "Terni",
          "Trieste",
          "Treviso",
          "Udine",
          "Varese",
          "Verbano-Cusio-Ossola",
          "Vercelli",
          "Venezia",
          "Vicenza",
          "Verona",
          "Viterbo",
          "Vibo Valentia"
         ],
         "lat": [
          37.30971088,
          44.91297351,
          43.61675973,
          45.73750286,
          42.85322304,
          42.35122196,
          43.46642752,
          44.89912921,
          40.91404699,
          41.12559576,
          45.69441368,
          45.5665112,
          46.13837528,
          41.12969987,
          44.49436681,
          40.63848545,
          45.53993052,
          41.22705039,
          46.49933453,
          39.21531192,
          41.55774754,
          41.07465878,
          42.35103167,
          37.49213171,
          44.39329625,
          45.8099912,
          45.13336675,
          39.29308681,
          37.50287803,
          38.90597598,
          37.56705701,
          44.22268559,
          44.83599085,
          41.46226865,
          43.76923077,
          43.16058534,
          41.63964569,
          44.41149314,
          45.94149817,
          42.76026758,
          43.88570648,
          41.58800826,
          39.08036878,
          45.85575781,
          40.35354285,
          43.55234873,
          45.31440693,
          41.46759465,
          43.84432283,
          45.58439043,
          43.30023926,
          38.19395845,
          45.46679409,
          45.15726772,
          44.64600009,
          44.03674425,
          40.66751177,
          45.44588506,
          40.32318834,
          39.90381075,
          38.11569725,
          45.05193462,
          45.40692987,
          42.46458398,
          43.10675841,
          43.71553206,
          45.95443546,
          43.88062274,
          44.80107394,
          43.933465000000005,
          43.91014021,
          45.18509264,
          40.63947052,
          44.41722493,
          38.10922769,
          44.69735289,
          36.92509198,
          42.40488444,
          41.89277044,
          44.06090087,
          45.07107289,
          40.67821961,
          43.31816374,
          46.17099261,
          44.10704991,
          37.05991687,
          40.72667657,
          39.16641462,
          44.30750461,
          40.47354739,
          42.6589177,
          46.06893511,
          45.0732745,
          38.01850065,
          42.56071258,
          45.6494354,
          45.66754571,
          46.06255516,
          45.81701677,
          45.921445500000004,
          45.32398135,
          45.43490485,
          45.547497,
          45.43839046,
          42.4173828,
          38.67624147
         ],
         "lon": [
          13.584574900000002,
          8.615401155,
          13.5188753,
          7.320149366,
          13.57691127,
          13.39843823,
          11.88228844,
          8.204142547,
          14.79528803,
          16.86736689,
          9.668424528,
          8.054082167,
          12.21704167,
          14.78151683,
          11.341720800000001,
          17.94601575,
          10.21910323,
          16.29520432,
          11.35662422,
          9.110616306,
          14.65916051,
          14.33240464,
          14.16754574,
          14.06184973,
          7.551171632000001,
          9.085159546,
          10.02420865,
          16.25609692,
          15.08704691,
          16.59440194,
          14.27909375,
          12.04068608,
          11.61868934,
          15.54305094,
          11.25588885,
          13.71839535,
          13.35117161,
          8.9326992,
          13.62212502,
          11.11356398,
          8.027850297999999,
          14.22575407,
          17.12538864,
          9.393392246,
          18.1718973,
          10.3086781,
          9.503720769,
          12.90368482,
          10.50151366,
          9.273582472000001,
          13.45307182,
          15.55572302,
          9.190347404,
          10.79277363,
          10.92615487,
          10.14173829,
          16.59792442,
          8.621915884,
          9.330296393,
          8.591183151000001,
          13.362356699999998,
          9.692632596000001,
          11.87608718,
          14.21364822,
          12.38824698,
          10.40127259,
          12.66002909,
          11.09703315,
          10.32834985,
          10.91734146,
          12.91345989,
          9.160157191,
          15.80514834,
          12.19913936,
          15.643452700000001,
          10.63007973,
          14.73069891,
          12.86205939,
          12.48366722,
          12.5656295,
          11.79007,
          14.759402599999998,
          11.33190988,
          9.87147489,
          9.8281897,
          15.29333182,
          8.559667131,
          8.526242676,
          8.481108654,
          17.23237181,
          13.70439971,
          11.12123097,
          7.680687483,
          12.51365684,
          12.6466875,
          13.76813649,
          12.24507363,
          13.2348383,
          8.822868344,
          8.551078752999999,
          8.423234312,
          12.33845213,
          11.54597109,
          10.99352685,
          12.10473416,
          16.10157414
         ],
         "name": "",
         "radius": 10,
         "subplot": "mapbox",
         "type": "densitymapbox",
         "z": [
          22,
          273,
          323,
          105,
          21,
          18,
          43,
          87,
          49,
          58,
          3760,
          67,
          101,
          4,
          291,
          40,
          2918,
          22,
          241,
          24,
          21,
          60,
          38,
          4,
          91,
          220,
          1881,
          17,
          96,
          6,
          5,
          103,
          44,
          62,
          186,
          36,
          44,
          274,
          16,
          50,
          78,
          0,
          17,
          386,
          38,
          53,
          1362,
          23,
          138,
          346,
          117,
          11,
          1983,
          382,
          440,
          117,
          4,
          109,
          19,
          2,
          37,
          1073,
          715,
          101,
          104,
          78,
          54,
          45,
          707,
          90,
          733,
          801,
          8,
          114,
          22,
          241,
          4,
          11,
          412,
          509,
          27,
          57,
          66,
          46,
          60,
          21,
          57,
          5,
          96,
          10,
          19,
          378,
          542,
          13,
          60,
          164,
          452,
          152,
          202,
          58,
          99,
          356,
          287,
          425,
          27,
          6
         ]
        }
       ],
       "layout": {
        "coloraxis": {
         "colorbar": {
          "title": {
           "text": "totale_casi"
          }
         },
         "colorscale": [
          [
           0,
           "#0d0887"
          ],
          [
           0.1111111111111111,
           "#46039f"
          ],
          [
           0.2222222222222222,
           "#7201a8"
          ],
          [
           0.3333333333333333,
           "#9c179e"
          ],
          [
           0.4444444444444444,
           "#bd3786"
          ],
          [
           0.5555555555555556,
           "#d8576b"
          ],
          [
           0.6666666666666666,
           "#ed7953"
          ],
          [
           0.7777777777777778,
           "#fb9f3a"
          ],
          [
           0.8888888888888888,
           "#fdca26"
          ],
          [
           1,
           "#f0f921"
          ]
         ]
        },
        "height": 800,
        "legend": {
         "tracegroupgap": 0
        },
        "mapbox": {
         "center": {
          "lat": 42.92804048981132,
          "lon": 12.076275447679244
         },
         "domain": {
          "x": [
           0,
           1
          ],
          "y": [
           0,
           1
          ]
         },
         "style": "stamen-terrain",
         "zoom": 5
        },
        "template": {
         "data": {
          "bar": [
           {
            "error_x": {
             "color": "#2a3f5f"
            },
            "error_y": {
             "color": "#2a3f5f"
            },
            "marker": {
             "line": {
              "color": "#E5ECF6",
              "width": 0.5
             }
            },
            "type": "bar"
           }
          ],
          "barpolar": [
           {
            "marker": {
             "line": {
              "color": "#E5ECF6",
              "width": 0.5
             }
            },
            "type": "barpolar"
           }
          ],
          "carpet": [
           {
            "aaxis": {
             "endlinecolor": "#2a3f5f",
             "gridcolor": "white",
             "linecolor": "white",
             "minorgridcolor": "white",
             "startlinecolor": "#2a3f5f"
            },
            "baxis": {
             "endlinecolor": "#2a3f5f",
             "gridcolor": "white",
             "linecolor": "white",
             "minorgridcolor": "white",
             "startlinecolor": "#2a3f5f"
            },
            "type": "carpet"
           }
          ],
          "choropleth": [
           {
            "colorbar": {
             "outlinewidth": 0,
             "ticks": ""
            },
            "type": "choropleth"
           }
          ],
          "contour": [
           {
            "colorbar": {
             "outlinewidth": 0,
             "ticks": ""
            },
            "colorscale": [
             [
              0,
              "#0d0887"
             ],
             [
              0.1111111111111111,
              "#46039f"
             ],
             [
              0.2222222222222222,
              "#7201a8"
             ],
             [
              0.3333333333333333,
              "#9c179e"
             ],
             [
              0.4444444444444444,
              "#bd3786"
             ],
             [
              0.5555555555555556,
              "#d8576b"
             ],
             [
              0.6666666666666666,
              "#ed7953"
             ],
             [
              0.7777777777777778,
              "#fb9f3a"
             ],
             [
              0.8888888888888888,
              "#fdca26"
             ],
             [
              1,
              "#f0f921"
             ]
            ],
            "type": "contour"
           }
          ],
          "contourcarpet": [
           {
            "colorbar": {
             "outlinewidth": 0,
             "ticks": ""
            },
            "type": "contourcarpet"
           }
          ],
          "heatmap": [
           {
            "colorbar": {
             "outlinewidth": 0,
             "ticks": ""
            },
            "colorscale": [
             [
              0,
              "#0d0887"
             ],
             [
              0.1111111111111111,
              "#46039f"
             ],
             [
              0.2222222222222222,
              "#7201a8"
             ],
             [
              0.3333333333333333,
              "#9c179e"
             ],
             [
              0.4444444444444444,
              "#bd3786"
             ],
             [
              0.5555555555555556,
              "#d8576b"
             ],
             [
              0.6666666666666666,
              "#ed7953"
             ],
             [
              0.7777777777777778,
              "#fb9f3a"
             ],
             [
              0.8888888888888888,
              "#fdca26"
             ],
             [
              1,
              "#f0f921"
             ]
            ],
            "type": "heatmap"
           }
          ],
          "heatmapgl": [
           {
            "colorbar": {
             "outlinewidth": 0,
             "ticks": ""
            },
            "colorscale": [
             [
              0,
              "#0d0887"
             ],
             [
              0.1111111111111111,
              "#46039f"
             ],
             [
              0.2222222222222222,
              "#7201a8"
             ],
             [
              0.3333333333333333,
              "#9c179e"
             ],
             [
              0.4444444444444444,
              "#bd3786"
             ],
             [
              0.5555555555555556,
              "#d8576b"
             ],
             [
              0.6666666666666666,
              "#ed7953"
             ],
             [
              0.7777777777777778,
              "#fb9f3a"
             ],
             [
              0.8888888888888888,
              "#fdca26"
             ],
             [
              1,
              "#f0f921"
             ]
            ],
            "type": "heatmapgl"
           }
          ],
          "histogram": [
           {
            "marker": {
             "colorbar": {
              "outlinewidth": 0,
              "ticks": ""
             }
            },
            "type": "histogram"
           }
          ],
          "histogram2d": [
           {
            "colorbar": {
             "outlinewidth": 0,
             "ticks": ""
            },
            "colorscale": [
             [
              0,
              "#0d0887"
             ],
             [
              0.1111111111111111,
              "#46039f"
             ],
             [
              0.2222222222222222,
              "#7201a8"
             ],
             [
              0.3333333333333333,
              "#9c179e"
             ],
             [
              0.4444444444444444,
              "#bd3786"
             ],
             [
              0.5555555555555556,
              "#d8576b"
             ],
             [
              0.6666666666666666,
              "#ed7953"
             ],
             [
              0.7777777777777778,
              "#fb9f3a"
             ],
             [
              0.8888888888888888,
              "#fdca26"
             ],
             [
              1,
              "#f0f921"
             ]
            ],
            "type": "histogram2d"
           }
          ],
          "histogram2dcontour": [
           {
            "colorbar": {
             "outlinewidth": 0,
             "ticks": ""
            },
            "colorscale": [
             [
              0,
              "#0d0887"
             ],
             [
              0.1111111111111111,
              "#46039f"
             ],
             [
              0.2222222222222222,
              "#7201a8"
             ],
             [
              0.3333333333333333,
              "#9c179e"
             ],
             [
              0.4444444444444444,
              "#bd3786"
             ],
             [
              0.5555555555555556,
              "#d8576b"
             ],
             [
              0.6666666666666666,
              "#ed7953"
             ],
             [
              0.7777777777777778,
              "#fb9f3a"
             ],
             [
              0.8888888888888888,
              "#fdca26"
             ],
             [
              1,
              "#f0f921"
             ]
            ],
            "type": "histogram2dcontour"
           }
          ],
          "mesh3d": [
           {
            "colorbar": {
             "outlinewidth": 0,
             "ticks": ""
            },
            "type": "mesh3d"
           }
          ],
          "parcoords": [
           {
            "line": {
             "colorbar": {
              "outlinewidth": 0,
              "ticks": ""
             }
            },
            "type": "parcoords"
           }
          ],
          "pie": [
           {
            "automargin": true,
            "type": "pie"
           }
          ],
          "scatter": [
           {
            "marker": {
             "colorbar": {
              "outlinewidth": 0,
              "ticks": ""
             }
            },
            "type": "scatter"
           }
          ],
          "scatter3d": [
           {
            "line": {
             "colorbar": {
              "outlinewidth": 0,
              "ticks": ""
             }
            },
            "marker": {
             "colorbar": {
              "outlinewidth": 0,
              "ticks": ""
             }
            },
            "type": "scatter3d"
           }
          ],
          "scattercarpet": [
           {
            "marker": {
             "colorbar": {
              "outlinewidth": 0,
              "ticks": ""
             }
            },
            "type": "scattercarpet"
           }
          ],
          "scattergeo": [
           {
            "marker": {
             "colorbar": {
              "outlinewidth": 0,
              "ticks": ""
             }
            },
            "type": "scattergeo"
           }
          ],
          "scattergl": [
           {
            "marker": {
             "colorbar": {
              "outlinewidth": 0,
              "ticks": ""
             }
            },
            "type": "scattergl"
           }
          ],
          "scattermapbox": [
           {
            "marker": {
             "colorbar": {
              "outlinewidth": 0,
              "ticks": ""
             }
            },
            "type": "scattermapbox"
           }
          ],
          "scatterpolar": [
           {
            "marker": {
             "colorbar": {
              "outlinewidth": 0,
              "ticks": ""
             }
            },
            "type": "scatterpolar"
           }
          ],
          "scatterpolargl": [
           {
            "marker": {
             "colorbar": {
              "outlinewidth": 0,
              "ticks": ""
             }
            },
            "type": "scatterpolargl"
           }
          ],
          "scatterternary": [
           {
            "marker": {
             "colorbar": {
              "outlinewidth": 0,
              "ticks": ""
             }
            },
            "type": "scatterternary"
           }
          ],
          "surface": [
           {
            "colorbar": {
             "outlinewidth": 0,
             "ticks": ""
            },
            "colorscale": [
             [
              0,
              "#0d0887"
             ],
             [
              0.1111111111111111,
              "#46039f"
             ],
             [
              0.2222222222222222,
              "#7201a8"
             ],
             [
              0.3333333333333333,
              "#9c179e"
             ],
             [
              0.4444444444444444,
              "#bd3786"
             ],
             [
              0.5555555555555556,
              "#d8576b"
             ],
             [
              0.6666666666666666,
              "#ed7953"
             ],
             [
              0.7777777777777778,
              "#fb9f3a"
             ],
             [
              0.8888888888888888,
              "#fdca26"
             ],
             [
              1,
              "#f0f921"
             ]
            ],
            "type": "surface"
           }
          ],
          "table": [
           {
            "cells": {
             "fill": {
              "color": "#EBF0F8"
             },
             "line": {
              "color": "white"
             }
            },
            "header": {
             "fill": {
              "color": "#C8D4E3"
             },
             "line": {
              "color": "white"
             }
            },
            "type": "table"
           }
          ]
         },
         "layout": {
          "annotationdefaults": {
           "arrowcolor": "#2a3f5f",
           "arrowhead": 0,
           "arrowwidth": 1
          },
          "coloraxis": {
           "colorbar": {
            "outlinewidth": 0,
            "ticks": ""
           }
          },
          "colorscale": {
           "diverging": [
            [
             0,
             "#8e0152"
            ],
            [
             0.1,
             "#c51b7d"
            ],
            [
             0.2,
             "#de77ae"
            ],
            [
             0.3,
             "#f1b6da"
            ],
            [
             0.4,
             "#fde0ef"
            ],
            [
             0.5,
             "#f7f7f7"
            ],
            [
             0.6,
             "#e6f5d0"
            ],
            [
             0.7,
             "#b8e186"
            ],
            [
             0.8,
             "#7fbc41"
            ],
            [
             0.9,
             "#4d9221"
            ],
            [
             1,
             "#276419"
            ]
           ],
           "sequential": [
            [
             0,
             "#0d0887"
            ],
            [
             0.1111111111111111,
             "#46039f"
            ],
            [
             0.2222222222222222,
             "#7201a8"
            ],
            [
             0.3333333333333333,
             "#9c179e"
            ],
            [
             0.4444444444444444,
             "#bd3786"
            ],
            [
             0.5555555555555556,
             "#d8576b"
            ],
            [
             0.6666666666666666,
             "#ed7953"
            ],
            [
             0.7777777777777778,
             "#fb9f3a"
            ],
            [
             0.8888888888888888,
             "#fdca26"
            ],
            [
             1,
             "#f0f921"
            ]
           ],
           "sequentialminus": [
            [
             0,
             "#0d0887"
            ],
            [
             0.1111111111111111,
             "#46039f"
            ],
            [
             0.2222222222222222,
             "#7201a8"
            ],
            [
             0.3333333333333333,
             "#9c179e"
            ],
            [
             0.4444444444444444,
             "#bd3786"
            ],
            [
             0.5555555555555556,
             "#d8576b"
            ],
            [
             0.6666666666666666,
             "#ed7953"
            ],
            [
             0.7777777777777778,
             "#fb9f3a"
            ],
            [
             0.8888888888888888,
             "#fdca26"
            ],
            [
             1,
             "#f0f921"
            ]
           ]
          },
          "colorway": [
           "#636efa",
           "#EF553B",
           "#00cc96",
           "#ab63fa",
           "#FFA15A",
           "#19d3f3",
           "#FF6692",
           "#B6E880",
           "#FF97FF",
           "#FECB52"
          ],
          "font": {
           "color": "#2a3f5f"
          },
          "geo": {
           "bgcolor": "white",
           "lakecolor": "white",
           "landcolor": "#E5ECF6",
           "showlakes": true,
           "showland": true,
           "subunitcolor": "white"
          },
          "hoverlabel": {
           "align": "left"
          },
          "hovermode": "closest",
          "mapbox": {
           "style": "light"
          },
          "paper_bgcolor": "white",
          "plot_bgcolor": "#E5ECF6",
          "polar": {
           "angularaxis": {
            "gridcolor": "white",
            "linecolor": "white",
            "ticks": ""
           },
           "bgcolor": "#E5ECF6",
           "radialaxis": {
            "gridcolor": "white",
            "linecolor": "white",
            "ticks": ""
           }
          },
          "scene": {
           "xaxis": {
            "backgroundcolor": "#E5ECF6",
            "gridcolor": "white",
            "gridwidth": 2,
            "linecolor": "white",
            "showbackground": true,
            "ticks": "",
            "zerolinecolor": "white"
           },
           "yaxis": {
            "backgroundcolor": "#E5ECF6",
            "gridcolor": "white",
            "gridwidth": 2,
            "linecolor": "white",
            "showbackground": true,
            "ticks": "",
            "zerolinecolor": "white"
           },
           "zaxis": {
            "backgroundcolor": "#E5ECF6",
            "gridcolor": "white",
            "gridwidth": 2,
            "linecolor": "white",
            "showbackground": true,
            "ticks": "",
            "zerolinecolor": "white"
           }
          },
          "shapedefaults": {
           "line": {
            "color": "#2a3f5f"
           }
          },
          "ternary": {
           "aaxis": {
            "gridcolor": "white",
            "linecolor": "white",
            "ticks": ""
           },
           "baxis": {
            "gridcolor": "white",
            "linecolor": "white",
            "ticks": ""
           },
           "bgcolor": "#E5ECF6",
           "caxis": {
            "gridcolor": "white",
            "linecolor": "white",
            "ticks": ""
           }
          },
          "title": {
           "x": 0.05
          },
          "xaxis": {
           "automargin": true,
           "gridcolor": "white",
           "linecolor": "white",
           "ticks": "",
           "title": {
            "standoff": 15
           },
           "zerolinecolor": "white",
           "zerolinewidth": 2
          },
          "yaxis": {
           "automargin": true,
           "gridcolor": "white",
           "linecolor": "white",
           "ticks": "",
           "title": {
            "standoff": 15
           },
           "zerolinecolor": "white",
           "zerolinewidth": 2
          }
         }
        },
        "title": {
         "text": "totale_casi on 03/16/2020"
        }
       }
      },
      "text/html": [
       "<div>\n",
       "        \n",
       "        \n",
       "            <div id=\"29dc9c20-04f0-4362-baa4-138854abe132\" class=\"plotly-graph-div\" style=\"height:800px; width:100%;\"></div>\n",
       "            <script type=\"text/javascript\">\n",
       "                require([\"plotly\"], function(Plotly) {\n",
       "                    window.PLOTLYENV=window.PLOTLYENV || {};\n",
       "                    \n",
       "                if (document.getElementById(\"29dc9c20-04f0-4362-baa4-138854abe132\")) {\n",
       "                    Plotly.newPlot(\n",
       "                        '29dc9c20-04f0-4362-baa4-138854abe132',\n",
       "                        [{\"coloraxis\": \"coloraxis\", \"hoverlabel\": {\"namelength\": 0}, \"hovertemplate\": \"<b>%{hovertext}</b><br><br>totale_casi=%{z}<br>lat=%{lat}<br>long=%{lon}\", \"hovertext\": [\"Agrigento\", \"Alessandria\", \"Ancona\", \"Aosta\", \"Ascoli Piceno\", \"L'Aquila\", \"Arezzo\", \"Asti\", \"Avellino\", \"Bari\", \"Bergamo\", \"Biella\", \"Belluno\", \"Benevento\", \"Bologna\", \"Brindisi\", \"Brescia\", \"Barletta-Andria-Trani\", \"Bolzano\", \"Cagliari\", \"Campobasso\", \"Caserta\", \"Chieti\", \"Caltanissetta\", \"Cuneo\", \"Como\", \"Cremona\", \"Cosenza\", \"Catania\", \"Catanzaro\", \"Enna\", \"Forl\\u00ec-Cesena\", \"Ferrara\", \"Foggia\", \"Firenze\", \"Fermo\", \"Frosinone\", \"Genova\", \"Gorizia\", \"Grosseto\", \"Imperia\", \"Isernia\", \"Crotone\", \"Lecco\", \"Lecce\", \"Livorno\", \"Lodi\", \"Latina\", \"Lucca\", \"Monza e della Brianza\", \"Macerata\", \"Messina\", \"Milano\", \"Mantova\", \"Modena\", \"Massa Carrara\", \"Matera\", \"Novara\", \"Nuoro\", \"Oristano\", \"Palermo\", \"Piacenza\", \"Padova\", \"Pescara\", \"Perugia\", \"Pisa\", \"Pordenone\", \"Prato\", \"Parma\", \"Pistoia\", \"Pesaro e Urbino\", \"Pavia\", \"Potenza\", \"Ravenna\", \"Reggio di Calabria\", \"Reggio nell'Emilia\", \"Ragusa\", \"Rieti\", \"Roma\", \"Rimini\", \"Rovigo\", \"Salerno\", \"Siena\", \"Sondrio\", \"La Spezia\", \"Siracusa\", \"Sassari\", \"Sud Sardegna\", \"Savona\", \"Taranto\", \"Teramo\", \"Trento\", \"Torino\", \"Trapani\", \"Terni\", \"Trieste\", \"Treviso\", \"Udine\", \"Varese\", \"Verbano-Cusio-Ossola\", \"Vercelli\", \"Venezia\", \"Vicenza\", \"Verona\", \"Viterbo\", \"Vibo Valentia\"], \"lat\": [37.30971088, 44.91297351, 43.61675973, 45.73750286, 42.85322304, 42.35122196, 43.46642752, 44.89912921, 40.91404699, 41.12559576, 45.69441368, 45.5665112, 46.13837528, 41.12969987, 44.49436681, 40.63848545, 45.53993052, 41.22705039, 46.49933453, 39.21531192, 41.55774754, 41.07465878, 42.35103167, 37.49213171, 44.39329625, 45.8099912, 45.13336675, 39.29308681, 37.50287803, 38.90597598, 37.56705701, 44.22268559, 44.83599085, 41.46226865, 43.76923077, 43.16058534, 41.63964569, 44.41149314, 45.94149817, 42.76026758, 43.88570648, 41.58800826, 39.08036878, 45.85575781, 40.35354285, 43.55234873, 45.31440693, 41.46759465, 43.84432283, 45.58439043, 43.30023926, 38.19395845, 45.46679409, 45.15726772, 44.64600009, 44.03674425, 40.66751177, 45.44588506, 40.32318834, 39.90381075, 38.11569725, 45.05193462, 45.40692987, 42.46458398, 43.10675841, 43.71553206, 45.95443546, 43.88062274, 44.80107394, 43.933465000000005, 43.91014021, 45.18509264, 40.63947052, 44.41722493, 38.10922769, 44.69735289, 36.92509198, 42.40488444, 41.89277044, 44.06090087, 45.07107289, 40.67821961, 43.31816374, 46.17099261, 44.10704991, 37.05991687, 40.72667657, 39.16641462, 44.30750461, 40.47354739, 42.6589177, 46.06893511, 45.0732745, 38.01850065, 42.56071258, 45.6494354, 45.66754571, 46.06255516, 45.81701677, 45.921445500000004, 45.32398135, 45.43490485, 45.547497, 45.43839046, 42.4173828, 38.67624147], \"lon\": [13.584574900000002, 8.615401155, 13.5188753, 7.320149366, 13.57691127, 13.39843823, 11.88228844, 8.204142547, 14.79528803, 16.86736689, 9.668424528, 8.054082167, 12.21704167, 14.78151683, 11.341720800000001, 17.94601575, 10.21910323, 16.29520432, 11.35662422, 9.110616306, 14.65916051, 14.33240464, 14.16754574, 14.06184973, 7.551171632000001, 9.085159546, 10.02420865, 16.25609692, 15.08704691, 16.59440194, 14.27909375, 12.04068608, 11.61868934, 15.54305094, 11.25588885, 13.71839535, 13.35117161, 8.9326992, 13.62212502, 11.11356398, 8.027850297999999, 14.22575407, 17.12538864, 9.393392246, 18.1718973, 10.3086781, 9.503720769, 12.90368482, 10.50151366, 9.273582472000001, 13.45307182, 15.55572302, 9.190347404, 10.79277363, 10.92615487, 10.14173829, 16.59792442, 8.621915884, 9.330296393, 8.591183151000001, 13.362356699999998, 9.692632596000001, 11.87608718, 14.21364822, 12.38824698, 10.40127259, 12.66002909, 11.09703315, 10.32834985, 10.91734146, 12.91345989, 9.160157191, 15.80514834, 12.19913936, 15.643452700000001, 10.63007973, 14.73069891, 12.86205939, 12.48366722, 12.5656295, 11.79007, 14.759402599999998, 11.33190988, 9.87147489, 9.8281897, 15.29333182, 8.559667131, 8.526242676, 8.481108654, 17.23237181, 13.70439971, 11.12123097, 7.680687483, 12.51365684, 12.6466875, 13.76813649, 12.24507363, 13.2348383, 8.822868344, 8.551078752999999, 8.423234312, 12.33845213, 11.54597109, 10.99352685, 12.10473416, 16.10157414], \"name\": \"\", \"radius\": 10, \"subplot\": \"mapbox\", \"type\": \"densitymapbox\", \"z\": [22, 273, 323, 105, 21, 18, 43, 87, 49, 58, 3760, 67, 101, 4, 291, 40, 2918, 22, 241, 24, 21, 60, 38, 4, 91, 220, 1881, 17, 96, 6, 5, 103, 44, 62, 186, 36, 44, 274, 16, 50, 78, 0, 17, 386, 38, 53, 1362, 23, 138, 346, 117, 11, 1983, 382, 440, 117, 4, 109, 19, 2, 37, 1073, 715, 101, 104, 78, 54, 45, 707, 90, 733, 801, 8, 114, 22, 241, 4, 11, 412, 509, 27, 57, 66, 46, 60, 21, 57, 5, 96, 10, 19, 378, 542, 13, 60, 164, 452, 152, 202, 58, 99, 356, 287, 425, 27, 6]}],\n",
       "                        {\"coloraxis\": {\"colorbar\": {\"title\": {\"text\": \"totale_casi\"}}, \"colorscale\": [[0.0, \"#0d0887\"], [0.1111111111111111, \"#46039f\"], [0.2222222222222222, \"#7201a8\"], [0.3333333333333333, \"#9c179e\"], [0.4444444444444444, \"#bd3786\"], [0.5555555555555556, \"#d8576b\"], [0.6666666666666666, \"#ed7953\"], [0.7777777777777778, \"#fb9f3a\"], [0.8888888888888888, \"#fdca26\"], [1.0, \"#f0f921\"]]}, \"height\": 800, \"legend\": {\"tracegroupgap\": 0}, \"mapbox\": {\"center\": {\"lat\": 42.92804048981132, \"lon\": 12.076275447679244}, \"domain\": {\"x\": [0.0, 1.0], \"y\": [0.0, 1.0]}, \"style\": \"stamen-terrain\", \"zoom\": 5}, \"template\": {\"data\": {\"bar\": [{\"error_x\": {\"color\": \"#2a3f5f\"}, \"error_y\": {\"color\": \"#2a3f5f\"}, \"marker\": {\"line\": {\"color\": \"#E5ECF6\", \"width\": 0.5}}, \"type\": \"bar\"}], \"barpolar\": [{\"marker\": {\"line\": {\"color\": \"#E5ECF6\", \"width\": 0.5}}, \"type\": \"barpolar\"}], \"carpet\": [{\"aaxis\": {\"endlinecolor\": \"#2a3f5f\", \"gridcolor\": \"white\", \"linecolor\": \"white\", \"minorgridcolor\": \"white\", \"startlinecolor\": \"#2a3f5f\"}, \"baxis\": {\"endlinecolor\": \"#2a3f5f\", \"gridcolor\": \"white\", \"linecolor\": \"white\", \"minorgridcolor\": \"white\", \"startlinecolor\": \"#2a3f5f\"}, \"type\": \"carpet\"}], \"choropleth\": [{\"colorbar\": {\"outlinewidth\": 0, \"ticks\": \"\"}, \"type\": \"choropleth\"}], \"contour\": [{\"colorbar\": {\"outlinewidth\": 0, \"ticks\": \"\"}, \"colorscale\": [[0.0, \"#0d0887\"], [0.1111111111111111, \"#46039f\"], [0.2222222222222222, \"#7201a8\"], [0.3333333333333333, \"#9c179e\"], [0.4444444444444444, \"#bd3786\"], [0.5555555555555556, \"#d8576b\"], [0.6666666666666666, \"#ed7953\"], [0.7777777777777778, \"#fb9f3a\"], [0.8888888888888888, \"#fdca26\"], [1.0, \"#f0f921\"]], \"type\": \"contour\"}], \"contourcarpet\": [{\"colorbar\": {\"outlinewidth\": 0, \"ticks\": \"\"}, \"type\": \"contourcarpet\"}], \"heatmap\": [{\"colorbar\": {\"outlinewidth\": 0, \"ticks\": \"\"}, \"colorscale\": [[0.0, \"#0d0887\"], [0.1111111111111111, \"#46039f\"], [0.2222222222222222, \"#7201a8\"], [0.3333333333333333, \"#9c179e\"], [0.4444444444444444, \"#bd3786\"], [0.5555555555555556, \"#d8576b\"], [0.6666666666666666, \"#ed7953\"], [0.7777777777777778, \"#fb9f3a\"], [0.8888888888888888, \"#fdca26\"], [1.0, \"#f0f921\"]], \"type\": \"heatmap\"}], \"heatmapgl\": [{\"colorbar\": {\"outlinewidth\": 0, \"ticks\": \"\"}, \"colorscale\": [[0.0, \"#0d0887\"], [0.1111111111111111, \"#46039f\"], [0.2222222222222222, \"#7201a8\"], [0.3333333333333333, \"#9c179e\"], [0.4444444444444444, \"#bd3786\"], [0.5555555555555556, \"#d8576b\"], [0.6666666666666666, \"#ed7953\"], [0.7777777777777778, \"#fb9f3a\"], [0.8888888888888888, \"#fdca26\"], [1.0, \"#f0f921\"]], \"type\": \"heatmapgl\"}], \"histogram\": [{\"marker\": {\"colorbar\": {\"outlinewidth\": 0, \"ticks\": \"\"}}, \"type\": \"histogram\"}], \"histogram2d\": [{\"colorbar\": {\"outlinewidth\": 0, \"ticks\": \"\"}, \"colorscale\": [[0.0, \"#0d0887\"], [0.1111111111111111, \"#46039f\"], [0.2222222222222222, \"#7201a8\"], [0.3333333333333333, \"#9c179e\"], [0.4444444444444444, \"#bd3786\"], [0.5555555555555556, \"#d8576b\"], [0.6666666666666666, \"#ed7953\"], [0.7777777777777778, \"#fb9f3a\"], [0.8888888888888888, \"#fdca26\"], [1.0, \"#f0f921\"]], \"type\": \"histogram2d\"}], \"histogram2dcontour\": [{\"colorbar\": {\"outlinewidth\": 0, \"ticks\": \"\"}, \"colorscale\": [[0.0, \"#0d0887\"], [0.1111111111111111, \"#46039f\"], [0.2222222222222222, \"#7201a8\"], [0.3333333333333333, \"#9c179e\"], [0.4444444444444444, \"#bd3786\"], [0.5555555555555556, \"#d8576b\"], [0.6666666666666666, \"#ed7953\"], [0.7777777777777778, \"#fb9f3a\"], [0.8888888888888888, \"#fdca26\"], [1.0, \"#f0f921\"]], \"type\": \"histogram2dcontour\"}], \"mesh3d\": [{\"colorbar\": {\"outlinewidth\": 0, \"ticks\": \"\"}, \"type\": \"mesh3d\"}], \"parcoords\": [{\"line\": {\"colorbar\": {\"outlinewidth\": 0, \"ticks\": \"\"}}, \"type\": \"parcoords\"}], \"pie\": [{\"automargin\": true, \"type\": \"pie\"}], \"scatter\": [{\"marker\": {\"colorbar\": {\"outlinewidth\": 0, \"ticks\": \"\"}}, \"type\": \"scatter\"}], \"scatter3d\": [{\"line\": {\"colorbar\": {\"outlinewidth\": 0, \"ticks\": \"\"}}, \"marker\": {\"colorbar\": {\"outlinewidth\": 0, \"ticks\": \"\"}}, \"type\": \"scatter3d\"}], \"scattercarpet\": [{\"marker\": {\"colorbar\": {\"outlinewidth\": 0, \"ticks\": \"\"}}, \"type\": \"scattercarpet\"}], \"scattergeo\": [{\"marker\": {\"colorbar\": {\"outlinewidth\": 0, \"ticks\": \"\"}}, \"type\": \"scattergeo\"}], \"scattergl\": [{\"marker\": {\"colorbar\": {\"outlinewidth\": 0, \"ticks\": \"\"}}, \"type\": \"scattergl\"}], \"scattermapbox\": [{\"marker\": {\"colorbar\": {\"outlinewidth\": 0, \"ticks\": \"\"}}, \"type\": \"scattermapbox\"}], \"scatterpolar\": [{\"marker\": {\"colorbar\": {\"outlinewidth\": 0, \"ticks\": \"\"}}, \"type\": \"scatterpolar\"}], \"scatterpolargl\": [{\"marker\": {\"colorbar\": {\"outlinewidth\": 0, \"ticks\": \"\"}}, \"type\": \"scatterpolargl\"}], \"scatterternary\": [{\"marker\": {\"colorbar\": {\"outlinewidth\": 0, \"ticks\": \"\"}}, \"type\": \"scatterternary\"}], \"surface\": [{\"colorbar\": {\"outlinewidth\": 0, \"ticks\": \"\"}, \"colorscale\": [[0.0, \"#0d0887\"], [0.1111111111111111, \"#46039f\"], [0.2222222222222222, \"#7201a8\"], [0.3333333333333333, \"#9c179e\"], [0.4444444444444444, \"#bd3786\"], [0.5555555555555556, \"#d8576b\"], [0.6666666666666666, \"#ed7953\"], [0.7777777777777778, \"#fb9f3a\"], [0.8888888888888888, \"#fdca26\"], [1.0, \"#f0f921\"]], \"type\": \"surface\"}], \"table\": [{\"cells\": {\"fill\": {\"color\": \"#EBF0F8\"}, \"line\": {\"color\": \"white\"}}, \"header\": {\"fill\": {\"color\": \"#C8D4E3\"}, \"line\": {\"color\": \"white\"}}, \"type\": \"table\"}]}, \"layout\": {\"annotationdefaults\": {\"arrowcolor\": \"#2a3f5f\", \"arrowhead\": 0, \"arrowwidth\": 1}, \"coloraxis\": {\"colorbar\": {\"outlinewidth\": 0, \"ticks\": \"\"}}, \"colorscale\": {\"diverging\": [[0, \"#8e0152\"], [0.1, \"#c51b7d\"], [0.2, \"#de77ae\"], [0.3, \"#f1b6da\"], [0.4, \"#fde0ef\"], [0.5, \"#f7f7f7\"], [0.6, \"#e6f5d0\"], [0.7, \"#b8e186\"], [0.8, \"#7fbc41\"], [0.9, \"#4d9221\"], [1, \"#276419\"]], \"sequential\": [[0.0, \"#0d0887\"], [0.1111111111111111, \"#46039f\"], [0.2222222222222222, \"#7201a8\"], [0.3333333333333333, \"#9c179e\"], [0.4444444444444444, \"#bd3786\"], [0.5555555555555556, \"#d8576b\"], [0.6666666666666666, \"#ed7953\"], [0.7777777777777778, \"#fb9f3a\"], [0.8888888888888888, \"#fdca26\"], [1.0, \"#f0f921\"]], \"sequentialminus\": [[0.0, \"#0d0887\"], [0.1111111111111111, \"#46039f\"], [0.2222222222222222, \"#7201a8\"], [0.3333333333333333, \"#9c179e\"], [0.4444444444444444, \"#bd3786\"], [0.5555555555555556, \"#d8576b\"], [0.6666666666666666, \"#ed7953\"], [0.7777777777777778, \"#fb9f3a\"], [0.8888888888888888, \"#fdca26\"], [1.0, \"#f0f921\"]]}, \"colorway\": [\"#636efa\", \"#EF553B\", \"#00cc96\", \"#ab63fa\", \"#FFA15A\", \"#19d3f3\", \"#FF6692\", \"#B6E880\", \"#FF97FF\", \"#FECB52\"], \"font\": {\"color\": \"#2a3f5f\"}, \"geo\": {\"bgcolor\": \"white\", \"lakecolor\": \"white\", \"landcolor\": \"#E5ECF6\", \"showlakes\": true, \"showland\": true, \"subunitcolor\": \"white\"}, \"hoverlabel\": {\"align\": \"left\"}, \"hovermode\": \"closest\", \"mapbox\": {\"style\": \"light\"}, \"paper_bgcolor\": \"white\", \"plot_bgcolor\": \"#E5ECF6\", \"polar\": {\"angularaxis\": {\"gridcolor\": \"white\", \"linecolor\": \"white\", \"ticks\": \"\"}, \"bgcolor\": \"#E5ECF6\", \"radialaxis\": {\"gridcolor\": \"white\", \"linecolor\": \"white\", \"ticks\": \"\"}}, \"scene\": {\"xaxis\": {\"backgroundcolor\": \"#E5ECF6\", \"gridcolor\": \"white\", \"gridwidth\": 2, \"linecolor\": \"white\", \"showbackground\": true, \"ticks\": \"\", \"zerolinecolor\": \"white\"}, \"yaxis\": {\"backgroundcolor\": \"#E5ECF6\", \"gridcolor\": \"white\", \"gridwidth\": 2, \"linecolor\": \"white\", \"showbackground\": true, \"ticks\": \"\", \"zerolinecolor\": \"white\"}, \"zaxis\": {\"backgroundcolor\": \"#E5ECF6\", \"gridcolor\": \"white\", \"gridwidth\": 2, \"linecolor\": \"white\", \"showbackground\": true, \"ticks\": \"\", \"zerolinecolor\": \"white\"}}, \"shapedefaults\": {\"line\": {\"color\": \"#2a3f5f\"}}, \"ternary\": {\"aaxis\": {\"gridcolor\": \"white\", \"linecolor\": \"white\", \"ticks\": \"\"}, \"baxis\": {\"gridcolor\": \"white\", \"linecolor\": \"white\", \"ticks\": \"\"}, \"bgcolor\": \"#E5ECF6\", \"caxis\": {\"gridcolor\": \"white\", \"linecolor\": \"white\", \"ticks\": \"\"}}, \"title\": {\"x\": 0.05}, \"xaxis\": {\"automargin\": true, \"gridcolor\": \"white\", \"linecolor\": \"white\", \"ticks\": \"\", \"title\": {\"standoff\": 15}, \"zerolinecolor\": \"white\", \"zerolinewidth\": 2}, \"yaxis\": {\"automargin\": true, \"gridcolor\": \"white\", \"linecolor\": \"white\", \"ticks\": \"\", \"title\": {\"standoff\": 15}, \"zerolinecolor\": \"white\", \"zerolinewidth\": 2}}}, \"title\": {\"text\": \"totale_casi on 03/16/2020\"}},\n",
       "                        {\"responsive\": true}\n",
       "                    ).then(function(){\n",
       "                            \n",
       "var gd = document.getElementById('29dc9c20-04f0-4362-baa4-138854abe132');\n",
       "var x = new MutationObserver(function (mutations, observer) {{\n",
       "        var display = window.getComputedStyle(gd).display;\n",
       "        if (!display || display === 'none') {{\n",
       "            console.log([gd, 'removed!']);\n",
       "            Plotly.purge(gd);\n",
       "            observer.disconnect();\n",
       "        }}\n",
       "}});\n",
       "\n",
       "// Listen for the removal of the full notebook cells\n",
       "var notebookContainer = gd.closest('#notebook-container');\n",
       "if (notebookContainer) {{\n",
       "    x.observe(notebookContainer, {childList: true});\n",
       "}}\n",
       "\n",
       "// Listen for the clearing of the current output cell\n",
       "var outputEl = gd.closest('.output');\n",
       "if (outputEl) {{\n",
       "    x.observe(outputEl, {childList: true});\n",
       "}}\n",
       "\n",
       "                        })\n",
       "                };\n",
       "                });\n",
       "            </script>\n",
       "        </div>"
      ]
     },
     "metadata": {},
     "output_type": "display_data"
    }
   ],
   "source": [
    "col = 'totale_casi'\n",
    "fig = px.density_mapbox(df_prov[df_prov.index==df_prov.index.max()], \n",
    "                        lat='lat', lon='long', z=col, radius=10, \n",
    "                        hover_name='denominazione_provincia',\n",
    "                        zoom=5,  height=800,\n",
    "                        #animation_frame=df_prov[df_prov.index==df_prov.index.max()].index,\n",
    "                        mapbox_style=\"stamen-terrain\",\n",
    "                        title = col + ' on ' + str(df_prov.index.max()))\n",
    "fig.show()"
   ]
  },
  {
   "cell_type": "code",
   "execution_count": 13,
   "metadata": {},
   "outputs": [
    {
     "data": {
      "application/vnd.plotly.v1+json": {
       "config": {
        "plotlyServerURL": "https://plot.ly"
       },
       "data": [
        {
         "coloraxis": "coloraxis",
         "hoverlabel": {
          "namelength": 0
         },
         "hovertemplate": "<b>%{hovertext}</b><br><br>%delta_totale_casi=%{z}<br>lat=%{lat}<br>long=%{lon}",
         "hovertext": [
          "Agrigento",
          "Alessandria",
          "Ancona",
          "Aosta",
          "Ascoli Piceno",
          "L'Aquila",
          "Arezzo",
          "Asti",
          "Avellino",
          "Bari",
          "Bergamo",
          "Biella",
          "Belluno",
          "Benevento",
          "Bologna",
          "Brindisi",
          "Brescia",
          "Barletta-Andria-Trani",
          "Bolzano",
          "Cagliari",
          "Campobasso",
          "Caserta",
          "Chieti",
          "Caltanissetta",
          "Cuneo",
          "Como",
          "Cremona",
          "Cosenza",
          "Catania",
          "Catanzaro",
          "Enna",
          "Forlì-Cesena",
          "Ferrara",
          "Foggia",
          "Firenze",
          "Fermo",
          "Frosinone",
          "Genova",
          "Gorizia",
          "Grosseto",
          "Imperia",
          "Isernia",
          "Crotone",
          "Lecco",
          "Lecce",
          "Livorno",
          "Lodi",
          "Latina",
          "Lucca",
          "Monza e della Brianza",
          "Macerata",
          "Messina",
          "Milano",
          "Mantova",
          "Modena",
          "Massa Carrara",
          "Matera",
          "Novara",
          "Nuoro",
          "Oristano",
          "Palermo",
          "Piacenza",
          "Padova",
          "Pescara",
          "Perugia",
          "Pisa",
          "Pordenone",
          "Prato",
          "Parma",
          "Pistoia",
          "Pesaro e Urbino",
          "Pavia",
          "Potenza",
          "Ravenna",
          "Reggio di Calabria",
          "Reggio nell'Emilia",
          "Ragusa",
          "Rieti",
          "Roma",
          "Rimini",
          "Rovigo",
          "Salerno",
          "Siena",
          "Sondrio",
          "La Spezia",
          "Siracusa",
          "Sassari",
          "Sud Sardegna",
          "Savona",
          "Taranto",
          "Teramo",
          "Trento",
          "Torino",
          "Trapani",
          "Terni",
          "Trieste",
          "Treviso",
          "Udine",
          "Varese",
          "Verbano-Cusio-Ossola",
          "Vercelli",
          "Venezia",
          "Vicenza",
          "Verona",
          "Viterbo",
          "Vibo Valentia"
         ],
         "lat": [
          37.30971088,
          44.91297351,
          43.61675973,
          45.73750286,
          42.85322304,
          42.35122196,
          43.46642752,
          44.89912921,
          40.91404699,
          41.12559576,
          45.69441368,
          45.5665112,
          46.13837528,
          41.12969987,
          44.49436681,
          40.63848545,
          45.53993052,
          41.22705039,
          46.49933453,
          39.21531192,
          41.55774754,
          41.07465878,
          42.35103167,
          37.49213171,
          44.39329625,
          45.8099912,
          45.13336675,
          39.29308681,
          37.50287803,
          38.90597598,
          37.56705701,
          44.22268559,
          44.83599085,
          41.46226865,
          43.76923077,
          43.16058534,
          41.63964569,
          44.41149314,
          45.94149817,
          42.76026758,
          43.88570648,
          41.58800826,
          39.08036878,
          45.85575781,
          40.35354285,
          43.55234873,
          45.31440693,
          41.46759465,
          43.84432283,
          45.58439043,
          43.30023926,
          38.19395845,
          45.46679409,
          45.15726772,
          44.64600009,
          44.03674425,
          40.66751177,
          45.44588506,
          40.32318834,
          39.90381075,
          38.11569725,
          45.05193462,
          45.40692987,
          42.46458398,
          43.10675841,
          43.71553206,
          45.95443546,
          43.88062274,
          44.80107394,
          43.933465000000005,
          43.91014021,
          45.18509264,
          40.63947052,
          44.41722493,
          38.10922769,
          44.69735289,
          36.92509198,
          42.40488444,
          41.89277044,
          44.06090087,
          45.07107289,
          40.67821961,
          43.31816374,
          46.17099261,
          44.10704991,
          37.05991687,
          40.72667657,
          39.16641462,
          44.30750461,
          40.47354739,
          42.6589177,
          46.06893511,
          45.0732745,
          38.01850065,
          42.56071258,
          45.6494354,
          45.66754571,
          46.06255516,
          45.81701677,
          45.921445500000004,
          45.32398135,
          45.43490485,
          45.547497,
          45.43839046,
          42.4173828,
          38.67624147
         ],
         "lon": [
          13.584574900000002,
          8.615401155,
          13.5188753,
          7.320149366,
          13.57691127,
          13.39843823,
          11.88228844,
          8.204142547,
          14.79528803,
          16.86736689,
          9.668424528,
          8.054082167,
          12.21704167,
          14.78151683,
          11.341720800000001,
          17.94601575,
          10.21910323,
          16.29520432,
          11.35662422,
          9.110616306,
          14.65916051,
          14.33240464,
          14.16754574,
          14.06184973,
          7.551171632000001,
          9.085159546,
          10.02420865,
          16.25609692,
          15.08704691,
          16.59440194,
          14.27909375,
          12.04068608,
          11.61868934,
          15.54305094,
          11.25588885,
          13.71839535,
          13.35117161,
          8.9326992,
          13.62212502,
          11.11356398,
          8.027850297999999,
          14.22575407,
          17.12538864,
          9.393392246,
          18.1718973,
          10.3086781,
          9.503720769,
          12.90368482,
          10.50151366,
          9.273582472000001,
          13.45307182,
          15.55572302,
          9.190347404,
          10.79277363,
          10.92615487,
          10.14173829,
          16.59792442,
          8.621915884,
          9.330296393,
          8.591183151000001,
          13.362356699999998,
          9.692632596000001,
          11.87608718,
          14.21364822,
          12.38824698,
          10.40127259,
          12.66002909,
          11.09703315,
          10.32834985,
          10.91734146,
          12.91345989,
          9.160157191,
          15.80514834,
          12.19913936,
          15.643452700000001,
          10.63007973,
          14.73069891,
          12.86205939,
          12.48366722,
          12.5656295,
          11.79007,
          14.759402599999998,
          11.33190988,
          9.87147489,
          9.8281897,
          15.29333182,
          8.559667131,
          8.526242676,
          8.481108654,
          17.23237181,
          13.70439971,
          11.12123097,
          7.680687483,
          12.51365684,
          12.6466875,
          13.76813649,
          12.24507363,
          13.2348383,
          8.822868344,
          8.551078752999999,
          8.423234312,
          12.33845213,
          11.54597109,
          10.99352685,
          12.10473416,
          16.10157414
         ],
         "name": "",
         "radius": 10,
         "subplot": "mapbox",
         "type": "densitymapbox",
         "z": [
          0.1,
          0.3188405797101449,
          0.20973782771535582,
          0.8421052631578947,
          0.5,
          0.2,
          0.04878048780487805,
          0,
          0.32432432432432434,
          0,
          0.10070257611241218,
          0.34,
          0.23170731707317074,
          0,
          0.26521739130434785,
          0,
          0.17994338859684594,
          0,
          0.18137254901960784,
          0.3333333333333333,
          0.23529411764705882,
          0.3333333333333333,
          0.26666666666666666,
          1,
          0.4918032786885246,
          0.1956521739130435,
          0.04966517857142857,
          0,
          0.054945054945054944,
          0,
          1.5,
          0.32051282051282054,
          0.29411764705882354,
          0,
          0.14814814814814814,
          0,
          0.29411764705882354,
          0,
          -0.4838709677419355,
          0.3157894736842105,
          0,
          0,
          0,
          0.12209302325581395,
          0,
          0.06,
          0.031818181818181815,
          0,
          0.06153846153846154,
          0.0581039755351682,
          0.24468085106382978,
          0.1,
          0.13314285714285715,
          0.12684365781710916,
          0.1989100817438692,
          0.08333333333333333,
          0,
          0.5352112676056338,
          0,
          0,
          0.12121212121212122,
          0.06027667984189723,
          0.08662613981762918,
          0.23170731707317074,
          0.20930232558139536,
          0.09859154929577464,
          0.2857142857142857,
          0.07142857142857142,
          0.06797583081570997,
          0.13924050632911392,
          0.02949438202247191,
          0.10941828254847645,
          0.14285714285714285,
          0.14,
          0,
          0.3027027027027027,
          0,
          1.75,
          0.1638418079096045,
          0.1976470588235294,
          0,
          0.16326530612244897,
          0.1,
          0.022222222222222223,
          0,
          0.4,
          0.6285714285714286,
          0.6666666666666666,
          0,
          0,
          0.9,
          0,
          0.5097493036211699,
          0.18181818181818182,
          0.05263157894736842,
          0.17142857142857143,
          0.09443099273607748,
          0.17829457364341086,
          0.09782608695652174,
          0.16,
          0.17857142857142858,
          0.08536585365853659,
          0.22127659574468084,
          0.26865671641791045,
          0.8,
          0
         ]
        }
       ],
       "layout": {
        "coloraxis": {
         "colorbar": {
          "title": {
           "text": "%delta_totale_casi"
          }
         },
         "colorscale": [
          [
           0,
           "#0d0887"
          ],
          [
           0.1111111111111111,
           "#46039f"
          ],
          [
           0.2222222222222222,
           "#7201a8"
          ],
          [
           0.3333333333333333,
           "#9c179e"
          ],
          [
           0.4444444444444444,
           "#bd3786"
          ],
          [
           0.5555555555555556,
           "#d8576b"
          ],
          [
           0.6666666666666666,
           "#ed7953"
          ],
          [
           0.7777777777777778,
           "#fb9f3a"
          ],
          [
           0.8888888888888888,
           "#fdca26"
          ],
          [
           1,
           "#f0f921"
          ]
         ]
        },
        "height": 800,
        "legend": {
         "tracegroupgap": 0
        },
        "mapbox": {
         "center": {
          "lat": 42.92804048981132,
          "lon": 12.076275447679244
         },
         "domain": {
          "x": [
           0,
           1
          ],
          "y": [
           0,
           1
          ]
         },
         "style": "stamen-terrain",
         "zoom": 5
        },
        "template": {
         "data": {
          "bar": [
           {
            "error_x": {
             "color": "#2a3f5f"
            },
            "error_y": {
             "color": "#2a3f5f"
            },
            "marker": {
             "line": {
              "color": "#E5ECF6",
              "width": 0.5
             }
            },
            "type": "bar"
           }
          ],
          "barpolar": [
           {
            "marker": {
             "line": {
              "color": "#E5ECF6",
              "width": 0.5
             }
            },
            "type": "barpolar"
           }
          ],
          "carpet": [
           {
            "aaxis": {
             "endlinecolor": "#2a3f5f",
             "gridcolor": "white",
             "linecolor": "white",
             "minorgridcolor": "white",
             "startlinecolor": "#2a3f5f"
            },
            "baxis": {
             "endlinecolor": "#2a3f5f",
             "gridcolor": "white",
             "linecolor": "white",
             "minorgridcolor": "white",
             "startlinecolor": "#2a3f5f"
            },
            "type": "carpet"
           }
          ],
          "choropleth": [
           {
            "colorbar": {
             "outlinewidth": 0,
             "ticks": ""
            },
            "type": "choropleth"
           }
          ],
          "contour": [
           {
            "colorbar": {
             "outlinewidth": 0,
             "ticks": ""
            },
            "colorscale": [
             [
              0,
              "#0d0887"
             ],
             [
              0.1111111111111111,
              "#46039f"
             ],
             [
              0.2222222222222222,
              "#7201a8"
             ],
             [
              0.3333333333333333,
              "#9c179e"
             ],
             [
              0.4444444444444444,
              "#bd3786"
             ],
             [
              0.5555555555555556,
              "#d8576b"
             ],
             [
              0.6666666666666666,
              "#ed7953"
             ],
             [
              0.7777777777777778,
              "#fb9f3a"
             ],
             [
              0.8888888888888888,
              "#fdca26"
             ],
             [
              1,
              "#f0f921"
             ]
            ],
            "type": "contour"
           }
          ],
          "contourcarpet": [
           {
            "colorbar": {
             "outlinewidth": 0,
             "ticks": ""
            },
            "type": "contourcarpet"
           }
          ],
          "heatmap": [
           {
            "colorbar": {
             "outlinewidth": 0,
             "ticks": ""
            },
            "colorscale": [
             [
              0,
              "#0d0887"
             ],
             [
              0.1111111111111111,
              "#46039f"
             ],
             [
              0.2222222222222222,
              "#7201a8"
             ],
             [
              0.3333333333333333,
              "#9c179e"
             ],
             [
              0.4444444444444444,
              "#bd3786"
             ],
             [
              0.5555555555555556,
              "#d8576b"
             ],
             [
              0.6666666666666666,
              "#ed7953"
             ],
             [
              0.7777777777777778,
              "#fb9f3a"
             ],
             [
              0.8888888888888888,
              "#fdca26"
             ],
             [
              1,
              "#f0f921"
             ]
            ],
            "type": "heatmap"
           }
          ],
          "heatmapgl": [
           {
            "colorbar": {
             "outlinewidth": 0,
             "ticks": ""
            },
            "colorscale": [
             [
              0,
              "#0d0887"
             ],
             [
              0.1111111111111111,
              "#46039f"
             ],
             [
              0.2222222222222222,
              "#7201a8"
             ],
             [
              0.3333333333333333,
              "#9c179e"
             ],
             [
              0.4444444444444444,
              "#bd3786"
             ],
             [
              0.5555555555555556,
              "#d8576b"
             ],
             [
              0.6666666666666666,
              "#ed7953"
             ],
             [
              0.7777777777777778,
              "#fb9f3a"
             ],
             [
              0.8888888888888888,
              "#fdca26"
             ],
             [
              1,
              "#f0f921"
             ]
            ],
            "type": "heatmapgl"
           }
          ],
          "histogram": [
           {
            "marker": {
             "colorbar": {
              "outlinewidth": 0,
              "ticks": ""
             }
            },
            "type": "histogram"
           }
          ],
          "histogram2d": [
           {
            "colorbar": {
             "outlinewidth": 0,
             "ticks": ""
            },
            "colorscale": [
             [
              0,
              "#0d0887"
             ],
             [
              0.1111111111111111,
              "#46039f"
             ],
             [
              0.2222222222222222,
              "#7201a8"
             ],
             [
              0.3333333333333333,
              "#9c179e"
             ],
             [
              0.4444444444444444,
              "#bd3786"
             ],
             [
              0.5555555555555556,
              "#d8576b"
             ],
             [
              0.6666666666666666,
              "#ed7953"
             ],
             [
              0.7777777777777778,
              "#fb9f3a"
             ],
             [
              0.8888888888888888,
              "#fdca26"
             ],
             [
              1,
              "#f0f921"
             ]
            ],
            "type": "histogram2d"
           }
          ],
          "histogram2dcontour": [
           {
            "colorbar": {
             "outlinewidth": 0,
             "ticks": ""
            },
            "colorscale": [
             [
              0,
              "#0d0887"
             ],
             [
              0.1111111111111111,
              "#46039f"
             ],
             [
              0.2222222222222222,
              "#7201a8"
             ],
             [
              0.3333333333333333,
              "#9c179e"
             ],
             [
              0.4444444444444444,
              "#bd3786"
             ],
             [
              0.5555555555555556,
              "#d8576b"
             ],
             [
              0.6666666666666666,
              "#ed7953"
             ],
             [
              0.7777777777777778,
              "#fb9f3a"
             ],
             [
              0.8888888888888888,
              "#fdca26"
             ],
             [
              1,
              "#f0f921"
             ]
            ],
            "type": "histogram2dcontour"
           }
          ],
          "mesh3d": [
           {
            "colorbar": {
             "outlinewidth": 0,
             "ticks": ""
            },
            "type": "mesh3d"
           }
          ],
          "parcoords": [
           {
            "line": {
             "colorbar": {
              "outlinewidth": 0,
              "ticks": ""
             }
            },
            "type": "parcoords"
           }
          ],
          "pie": [
           {
            "automargin": true,
            "type": "pie"
           }
          ],
          "scatter": [
           {
            "marker": {
             "colorbar": {
              "outlinewidth": 0,
              "ticks": ""
             }
            },
            "type": "scatter"
           }
          ],
          "scatter3d": [
           {
            "line": {
             "colorbar": {
              "outlinewidth": 0,
              "ticks": ""
             }
            },
            "marker": {
             "colorbar": {
              "outlinewidth": 0,
              "ticks": ""
             }
            },
            "type": "scatter3d"
           }
          ],
          "scattercarpet": [
           {
            "marker": {
             "colorbar": {
              "outlinewidth": 0,
              "ticks": ""
             }
            },
            "type": "scattercarpet"
           }
          ],
          "scattergeo": [
           {
            "marker": {
             "colorbar": {
              "outlinewidth": 0,
              "ticks": ""
             }
            },
            "type": "scattergeo"
           }
          ],
          "scattergl": [
           {
            "marker": {
             "colorbar": {
              "outlinewidth": 0,
              "ticks": ""
             }
            },
            "type": "scattergl"
           }
          ],
          "scattermapbox": [
           {
            "marker": {
             "colorbar": {
              "outlinewidth": 0,
              "ticks": ""
             }
            },
            "type": "scattermapbox"
           }
          ],
          "scatterpolar": [
           {
            "marker": {
             "colorbar": {
              "outlinewidth": 0,
              "ticks": ""
             }
            },
            "type": "scatterpolar"
           }
          ],
          "scatterpolargl": [
           {
            "marker": {
             "colorbar": {
              "outlinewidth": 0,
              "ticks": ""
             }
            },
            "type": "scatterpolargl"
           }
          ],
          "scatterternary": [
           {
            "marker": {
             "colorbar": {
              "outlinewidth": 0,
              "ticks": ""
             }
            },
            "type": "scatterternary"
           }
          ],
          "surface": [
           {
            "colorbar": {
             "outlinewidth": 0,
             "ticks": ""
            },
            "colorscale": [
             [
              0,
              "#0d0887"
             ],
             [
              0.1111111111111111,
              "#46039f"
             ],
             [
              0.2222222222222222,
              "#7201a8"
             ],
             [
              0.3333333333333333,
              "#9c179e"
             ],
             [
              0.4444444444444444,
              "#bd3786"
             ],
             [
              0.5555555555555556,
              "#d8576b"
             ],
             [
              0.6666666666666666,
              "#ed7953"
             ],
             [
              0.7777777777777778,
              "#fb9f3a"
             ],
             [
              0.8888888888888888,
              "#fdca26"
             ],
             [
              1,
              "#f0f921"
             ]
            ],
            "type": "surface"
           }
          ],
          "table": [
           {
            "cells": {
             "fill": {
              "color": "#EBF0F8"
             },
             "line": {
              "color": "white"
             }
            },
            "header": {
             "fill": {
              "color": "#C8D4E3"
             },
             "line": {
              "color": "white"
             }
            },
            "type": "table"
           }
          ]
         },
         "layout": {
          "annotationdefaults": {
           "arrowcolor": "#2a3f5f",
           "arrowhead": 0,
           "arrowwidth": 1
          },
          "coloraxis": {
           "colorbar": {
            "outlinewidth": 0,
            "ticks": ""
           }
          },
          "colorscale": {
           "diverging": [
            [
             0,
             "#8e0152"
            ],
            [
             0.1,
             "#c51b7d"
            ],
            [
             0.2,
             "#de77ae"
            ],
            [
             0.3,
             "#f1b6da"
            ],
            [
             0.4,
             "#fde0ef"
            ],
            [
             0.5,
             "#f7f7f7"
            ],
            [
             0.6,
             "#e6f5d0"
            ],
            [
             0.7,
             "#b8e186"
            ],
            [
             0.8,
             "#7fbc41"
            ],
            [
             0.9,
             "#4d9221"
            ],
            [
             1,
             "#276419"
            ]
           ],
           "sequential": [
            [
             0,
             "#0d0887"
            ],
            [
             0.1111111111111111,
             "#46039f"
            ],
            [
             0.2222222222222222,
             "#7201a8"
            ],
            [
             0.3333333333333333,
             "#9c179e"
            ],
            [
             0.4444444444444444,
             "#bd3786"
            ],
            [
             0.5555555555555556,
             "#d8576b"
            ],
            [
             0.6666666666666666,
             "#ed7953"
            ],
            [
             0.7777777777777778,
             "#fb9f3a"
            ],
            [
             0.8888888888888888,
             "#fdca26"
            ],
            [
             1,
             "#f0f921"
            ]
           ],
           "sequentialminus": [
            [
             0,
             "#0d0887"
            ],
            [
             0.1111111111111111,
             "#46039f"
            ],
            [
             0.2222222222222222,
             "#7201a8"
            ],
            [
             0.3333333333333333,
             "#9c179e"
            ],
            [
             0.4444444444444444,
             "#bd3786"
            ],
            [
             0.5555555555555556,
             "#d8576b"
            ],
            [
             0.6666666666666666,
             "#ed7953"
            ],
            [
             0.7777777777777778,
             "#fb9f3a"
            ],
            [
             0.8888888888888888,
             "#fdca26"
            ],
            [
             1,
             "#f0f921"
            ]
           ]
          },
          "colorway": [
           "#636efa",
           "#EF553B",
           "#00cc96",
           "#ab63fa",
           "#FFA15A",
           "#19d3f3",
           "#FF6692",
           "#B6E880",
           "#FF97FF",
           "#FECB52"
          ],
          "font": {
           "color": "#2a3f5f"
          },
          "geo": {
           "bgcolor": "white",
           "lakecolor": "white",
           "landcolor": "#E5ECF6",
           "showlakes": true,
           "showland": true,
           "subunitcolor": "white"
          },
          "hoverlabel": {
           "align": "left"
          },
          "hovermode": "closest",
          "mapbox": {
           "style": "light"
          },
          "paper_bgcolor": "white",
          "plot_bgcolor": "#E5ECF6",
          "polar": {
           "angularaxis": {
            "gridcolor": "white",
            "linecolor": "white",
            "ticks": ""
           },
           "bgcolor": "#E5ECF6",
           "radialaxis": {
            "gridcolor": "white",
            "linecolor": "white",
            "ticks": ""
           }
          },
          "scene": {
           "xaxis": {
            "backgroundcolor": "#E5ECF6",
            "gridcolor": "white",
            "gridwidth": 2,
            "linecolor": "white",
            "showbackground": true,
            "ticks": "",
            "zerolinecolor": "white"
           },
           "yaxis": {
            "backgroundcolor": "#E5ECF6",
            "gridcolor": "white",
            "gridwidth": 2,
            "linecolor": "white",
            "showbackground": true,
            "ticks": "",
            "zerolinecolor": "white"
           },
           "zaxis": {
            "backgroundcolor": "#E5ECF6",
            "gridcolor": "white",
            "gridwidth": 2,
            "linecolor": "white",
            "showbackground": true,
            "ticks": "",
            "zerolinecolor": "white"
           }
          },
          "shapedefaults": {
           "line": {
            "color": "#2a3f5f"
           }
          },
          "ternary": {
           "aaxis": {
            "gridcolor": "white",
            "linecolor": "white",
            "ticks": ""
           },
           "baxis": {
            "gridcolor": "white",
            "linecolor": "white",
            "ticks": ""
           },
           "bgcolor": "#E5ECF6",
           "caxis": {
            "gridcolor": "white",
            "linecolor": "white",
            "ticks": ""
           }
          },
          "title": {
           "x": 0.05
          },
          "xaxis": {
           "automargin": true,
           "gridcolor": "white",
           "linecolor": "white",
           "ticks": "",
           "title": {
            "standoff": 15
           },
           "zerolinecolor": "white",
           "zerolinewidth": 2
          },
          "yaxis": {
           "automargin": true,
           "gridcolor": "white",
           "linecolor": "white",
           "ticks": "",
           "title": {
            "standoff": 15
           },
           "zerolinecolor": "white",
           "zerolinewidth": 2
          }
         }
        },
        "title": {
         "text": "%delta_totale_casi on 03/16/2020"
        }
       }
      },
      "text/html": [
       "<div>\n",
       "        \n",
       "        \n",
       "            <div id=\"a2335033-4113-492d-9890-1d5d80691c4e\" class=\"plotly-graph-div\" style=\"height:800px; width:100%;\"></div>\n",
       "            <script type=\"text/javascript\">\n",
       "                require([\"plotly\"], function(Plotly) {\n",
       "                    window.PLOTLYENV=window.PLOTLYENV || {};\n",
       "                    \n",
       "                if (document.getElementById(\"a2335033-4113-492d-9890-1d5d80691c4e\")) {\n",
       "                    Plotly.newPlot(\n",
       "                        'a2335033-4113-492d-9890-1d5d80691c4e',\n",
       "                        [{\"coloraxis\": \"coloraxis\", \"hoverlabel\": {\"namelength\": 0}, \"hovertemplate\": \"<b>%{hovertext}</b><br><br>%delta_totale_casi=%{z}<br>lat=%{lat}<br>long=%{lon}\", \"hovertext\": [\"Agrigento\", \"Alessandria\", \"Ancona\", \"Aosta\", \"Ascoli Piceno\", \"L'Aquila\", \"Arezzo\", \"Asti\", \"Avellino\", \"Bari\", \"Bergamo\", \"Biella\", \"Belluno\", \"Benevento\", \"Bologna\", \"Brindisi\", \"Brescia\", \"Barletta-Andria-Trani\", \"Bolzano\", \"Cagliari\", \"Campobasso\", \"Caserta\", \"Chieti\", \"Caltanissetta\", \"Cuneo\", \"Como\", \"Cremona\", \"Cosenza\", \"Catania\", \"Catanzaro\", \"Enna\", \"Forl\\u00ec-Cesena\", \"Ferrara\", \"Foggia\", \"Firenze\", \"Fermo\", \"Frosinone\", \"Genova\", \"Gorizia\", \"Grosseto\", \"Imperia\", \"Isernia\", \"Crotone\", \"Lecco\", \"Lecce\", \"Livorno\", \"Lodi\", \"Latina\", \"Lucca\", \"Monza e della Brianza\", \"Macerata\", \"Messina\", \"Milano\", \"Mantova\", \"Modena\", \"Massa Carrara\", \"Matera\", \"Novara\", \"Nuoro\", \"Oristano\", \"Palermo\", \"Piacenza\", \"Padova\", \"Pescara\", \"Perugia\", \"Pisa\", \"Pordenone\", \"Prato\", \"Parma\", \"Pistoia\", \"Pesaro e Urbino\", \"Pavia\", \"Potenza\", \"Ravenna\", \"Reggio di Calabria\", \"Reggio nell'Emilia\", \"Ragusa\", \"Rieti\", \"Roma\", \"Rimini\", \"Rovigo\", \"Salerno\", \"Siena\", \"Sondrio\", \"La Spezia\", \"Siracusa\", \"Sassari\", \"Sud Sardegna\", \"Savona\", \"Taranto\", \"Teramo\", \"Trento\", \"Torino\", \"Trapani\", \"Terni\", \"Trieste\", \"Treviso\", \"Udine\", \"Varese\", \"Verbano-Cusio-Ossola\", \"Vercelli\", \"Venezia\", \"Vicenza\", \"Verona\", \"Viterbo\", \"Vibo Valentia\"], \"lat\": [37.30971088, 44.91297351, 43.61675973, 45.73750286, 42.85322304, 42.35122196, 43.46642752, 44.89912921, 40.91404699, 41.12559576, 45.69441368, 45.5665112, 46.13837528, 41.12969987, 44.49436681, 40.63848545, 45.53993052, 41.22705039, 46.49933453, 39.21531192, 41.55774754, 41.07465878, 42.35103167, 37.49213171, 44.39329625, 45.8099912, 45.13336675, 39.29308681, 37.50287803, 38.90597598, 37.56705701, 44.22268559, 44.83599085, 41.46226865, 43.76923077, 43.16058534, 41.63964569, 44.41149314, 45.94149817, 42.76026758, 43.88570648, 41.58800826, 39.08036878, 45.85575781, 40.35354285, 43.55234873, 45.31440693, 41.46759465, 43.84432283, 45.58439043, 43.30023926, 38.19395845, 45.46679409, 45.15726772, 44.64600009, 44.03674425, 40.66751177, 45.44588506, 40.32318834, 39.90381075, 38.11569725, 45.05193462, 45.40692987, 42.46458398, 43.10675841, 43.71553206, 45.95443546, 43.88062274, 44.80107394, 43.933465000000005, 43.91014021, 45.18509264, 40.63947052, 44.41722493, 38.10922769, 44.69735289, 36.92509198, 42.40488444, 41.89277044, 44.06090087, 45.07107289, 40.67821961, 43.31816374, 46.17099261, 44.10704991, 37.05991687, 40.72667657, 39.16641462, 44.30750461, 40.47354739, 42.6589177, 46.06893511, 45.0732745, 38.01850065, 42.56071258, 45.6494354, 45.66754571, 46.06255516, 45.81701677, 45.921445500000004, 45.32398135, 45.43490485, 45.547497, 45.43839046, 42.4173828, 38.67624147], \"lon\": [13.584574900000002, 8.615401155, 13.5188753, 7.320149366, 13.57691127, 13.39843823, 11.88228844, 8.204142547, 14.79528803, 16.86736689, 9.668424528, 8.054082167, 12.21704167, 14.78151683, 11.341720800000001, 17.94601575, 10.21910323, 16.29520432, 11.35662422, 9.110616306, 14.65916051, 14.33240464, 14.16754574, 14.06184973, 7.551171632000001, 9.085159546, 10.02420865, 16.25609692, 15.08704691, 16.59440194, 14.27909375, 12.04068608, 11.61868934, 15.54305094, 11.25588885, 13.71839535, 13.35117161, 8.9326992, 13.62212502, 11.11356398, 8.027850297999999, 14.22575407, 17.12538864, 9.393392246, 18.1718973, 10.3086781, 9.503720769, 12.90368482, 10.50151366, 9.273582472000001, 13.45307182, 15.55572302, 9.190347404, 10.79277363, 10.92615487, 10.14173829, 16.59792442, 8.621915884, 9.330296393, 8.591183151000001, 13.362356699999998, 9.692632596000001, 11.87608718, 14.21364822, 12.38824698, 10.40127259, 12.66002909, 11.09703315, 10.32834985, 10.91734146, 12.91345989, 9.160157191, 15.80514834, 12.19913936, 15.643452700000001, 10.63007973, 14.73069891, 12.86205939, 12.48366722, 12.5656295, 11.79007, 14.759402599999998, 11.33190988, 9.87147489, 9.8281897, 15.29333182, 8.559667131, 8.526242676, 8.481108654, 17.23237181, 13.70439971, 11.12123097, 7.680687483, 12.51365684, 12.6466875, 13.76813649, 12.24507363, 13.2348383, 8.822868344, 8.551078752999999, 8.423234312, 12.33845213, 11.54597109, 10.99352685, 12.10473416, 16.10157414], \"name\": \"\", \"radius\": 10, \"subplot\": \"mapbox\", \"type\": \"densitymapbox\", \"z\": [0.1, 0.3188405797101449, 0.20973782771535582, 0.8421052631578947, 0.5, 0.2, 0.04878048780487805, 0.0, 0.32432432432432434, 0.0, 0.10070257611241218, 0.34, 0.23170731707317074, 0.0, 0.26521739130434785, 0.0, 0.17994338859684594, 0.0, 0.18137254901960784, 0.3333333333333333, 0.23529411764705882, 0.3333333333333333, 0.26666666666666666, 1.0, 0.4918032786885246, 0.1956521739130435, 0.04966517857142857, 0.0, 0.054945054945054944, 0.0, 1.5, 0.32051282051282054, 0.29411764705882354, 0.0, 0.14814814814814814, 0.0, 0.29411764705882354, 0.0, -0.4838709677419355, 0.3157894736842105, 0.0, 0.0, 0.0, 0.12209302325581395, 0.0, 0.06, 0.031818181818181815, 0.0, 0.06153846153846154, 0.0581039755351682, 0.24468085106382978, 0.1, 0.13314285714285715, 0.12684365781710916, 0.1989100817438692, 0.08333333333333333, 0.0, 0.5352112676056338, 0.0, 0.0, 0.12121212121212122, 0.06027667984189723, 0.08662613981762918, 0.23170731707317074, 0.20930232558139536, 0.09859154929577464, 0.2857142857142857, 0.07142857142857142, 0.06797583081570997, 0.13924050632911392, 0.02949438202247191, 0.10941828254847645, 0.14285714285714285, 0.14, 0.0, 0.3027027027027027, 0.0, 1.75, 0.1638418079096045, 0.1976470588235294, 0.0, 0.16326530612244897, 0.1, 0.022222222222222223, 0.0, 0.4, 0.6285714285714286, 0.6666666666666666, 0.0, 0.0, 0.9, 0.0, 0.5097493036211699, 0.18181818181818182, 0.05263157894736842, 0.17142857142857143, 0.09443099273607748, 0.17829457364341086, 0.09782608695652174, 0.16, 0.17857142857142858, 0.08536585365853659, 0.22127659574468084, 0.26865671641791045, 0.8, 0.0]}],\n",
       "                        {\"coloraxis\": {\"colorbar\": {\"title\": {\"text\": \"%delta_totale_casi\"}}, \"colorscale\": [[0.0, \"#0d0887\"], [0.1111111111111111, \"#46039f\"], [0.2222222222222222, \"#7201a8\"], [0.3333333333333333, \"#9c179e\"], [0.4444444444444444, \"#bd3786\"], [0.5555555555555556, \"#d8576b\"], [0.6666666666666666, \"#ed7953\"], [0.7777777777777778, \"#fb9f3a\"], [0.8888888888888888, \"#fdca26\"], [1.0, \"#f0f921\"]]}, \"height\": 800, \"legend\": {\"tracegroupgap\": 0}, \"mapbox\": {\"center\": {\"lat\": 42.92804048981132, \"lon\": 12.076275447679244}, \"domain\": {\"x\": [0.0, 1.0], \"y\": [0.0, 1.0]}, \"style\": \"stamen-terrain\", \"zoom\": 5}, \"template\": {\"data\": {\"bar\": [{\"error_x\": {\"color\": \"#2a3f5f\"}, \"error_y\": {\"color\": \"#2a3f5f\"}, \"marker\": {\"line\": {\"color\": \"#E5ECF6\", \"width\": 0.5}}, \"type\": \"bar\"}], \"barpolar\": [{\"marker\": {\"line\": {\"color\": \"#E5ECF6\", \"width\": 0.5}}, \"type\": \"barpolar\"}], \"carpet\": [{\"aaxis\": {\"endlinecolor\": \"#2a3f5f\", \"gridcolor\": \"white\", \"linecolor\": \"white\", \"minorgridcolor\": \"white\", \"startlinecolor\": \"#2a3f5f\"}, \"baxis\": {\"endlinecolor\": \"#2a3f5f\", \"gridcolor\": \"white\", \"linecolor\": \"white\", \"minorgridcolor\": \"white\", \"startlinecolor\": \"#2a3f5f\"}, \"type\": \"carpet\"}], \"choropleth\": [{\"colorbar\": {\"outlinewidth\": 0, \"ticks\": \"\"}, \"type\": \"choropleth\"}], \"contour\": [{\"colorbar\": {\"outlinewidth\": 0, \"ticks\": \"\"}, \"colorscale\": [[0.0, \"#0d0887\"], [0.1111111111111111, \"#46039f\"], [0.2222222222222222, \"#7201a8\"], [0.3333333333333333, \"#9c179e\"], [0.4444444444444444, \"#bd3786\"], [0.5555555555555556, \"#d8576b\"], [0.6666666666666666, \"#ed7953\"], [0.7777777777777778, \"#fb9f3a\"], [0.8888888888888888, \"#fdca26\"], [1.0, \"#f0f921\"]], \"type\": \"contour\"}], \"contourcarpet\": [{\"colorbar\": {\"outlinewidth\": 0, \"ticks\": \"\"}, \"type\": \"contourcarpet\"}], \"heatmap\": [{\"colorbar\": {\"outlinewidth\": 0, \"ticks\": \"\"}, \"colorscale\": [[0.0, \"#0d0887\"], [0.1111111111111111, \"#46039f\"], [0.2222222222222222, \"#7201a8\"], [0.3333333333333333, \"#9c179e\"], [0.4444444444444444, \"#bd3786\"], [0.5555555555555556, \"#d8576b\"], [0.6666666666666666, \"#ed7953\"], [0.7777777777777778, \"#fb9f3a\"], [0.8888888888888888, \"#fdca26\"], [1.0, \"#f0f921\"]], \"type\": \"heatmap\"}], \"heatmapgl\": [{\"colorbar\": {\"outlinewidth\": 0, \"ticks\": \"\"}, \"colorscale\": [[0.0, \"#0d0887\"], [0.1111111111111111, \"#46039f\"], [0.2222222222222222, \"#7201a8\"], [0.3333333333333333, \"#9c179e\"], [0.4444444444444444, \"#bd3786\"], [0.5555555555555556, \"#d8576b\"], [0.6666666666666666, \"#ed7953\"], [0.7777777777777778, \"#fb9f3a\"], [0.8888888888888888, \"#fdca26\"], [1.0, \"#f0f921\"]], \"type\": \"heatmapgl\"}], \"histogram\": [{\"marker\": {\"colorbar\": {\"outlinewidth\": 0, \"ticks\": \"\"}}, \"type\": \"histogram\"}], \"histogram2d\": [{\"colorbar\": {\"outlinewidth\": 0, \"ticks\": \"\"}, \"colorscale\": [[0.0, \"#0d0887\"], [0.1111111111111111, \"#46039f\"], [0.2222222222222222, \"#7201a8\"], [0.3333333333333333, \"#9c179e\"], [0.4444444444444444, \"#bd3786\"], [0.5555555555555556, \"#d8576b\"], [0.6666666666666666, \"#ed7953\"], [0.7777777777777778, \"#fb9f3a\"], [0.8888888888888888, \"#fdca26\"], [1.0, \"#f0f921\"]], \"type\": \"histogram2d\"}], \"histogram2dcontour\": [{\"colorbar\": {\"outlinewidth\": 0, \"ticks\": \"\"}, \"colorscale\": [[0.0, \"#0d0887\"], [0.1111111111111111, \"#46039f\"], [0.2222222222222222, \"#7201a8\"], [0.3333333333333333, \"#9c179e\"], [0.4444444444444444, \"#bd3786\"], [0.5555555555555556, \"#d8576b\"], [0.6666666666666666, \"#ed7953\"], [0.7777777777777778, \"#fb9f3a\"], [0.8888888888888888, \"#fdca26\"], [1.0, \"#f0f921\"]], \"type\": \"histogram2dcontour\"}], \"mesh3d\": [{\"colorbar\": {\"outlinewidth\": 0, \"ticks\": \"\"}, \"type\": \"mesh3d\"}], \"parcoords\": [{\"line\": {\"colorbar\": {\"outlinewidth\": 0, \"ticks\": \"\"}}, \"type\": \"parcoords\"}], \"pie\": [{\"automargin\": true, \"type\": \"pie\"}], \"scatter\": [{\"marker\": {\"colorbar\": {\"outlinewidth\": 0, \"ticks\": \"\"}}, \"type\": \"scatter\"}], \"scatter3d\": [{\"line\": {\"colorbar\": {\"outlinewidth\": 0, \"ticks\": \"\"}}, \"marker\": {\"colorbar\": {\"outlinewidth\": 0, \"ticks\": \"\"}}, \"type\": \"scatter3d\"}], \"scattercarpet\": [{\"marker\": {\"colorbar\": {\"outlinewidth\": 0, \"ticks\": \"\"}}, \"type\": \"scattercarpet\"}], \"scattergeo\": [{\"marker\": {\"colorbar\": {\"outlinewidth\": 0, \"ticks\": \"\"}}, \"type\": \"scattergeo\"}], \"scattergl\": [{\"marker\": {\"colorbar\": {\"outlinewidth\": 0, \"ticks\": \"\"}}, \"type\": \"scattergl\"}], \"scattermapbox\": [{\"marker\": {\"colorbar\": {\"outlinewidth\": 0, \"ticks\": \"\"}}, \"type\": \"scattermapbox\"}], \"scatterpolar\": [{\"marker\": {\"colorbar\": {\"outlinewidth\": 0, \"ticks\": \"\"}}, \"type\": \"scatterpolar\"}], \"scatterpolargl\": [{\"marker\": {\"colorbar\": {\"outlinewidth\": 0, \"ticks\": \"\"}}, \"type\": \"scatterpolargl\"}], \"scatterternary\": [{\"marker\": {\"colorbar\": {\"outlinewidth\": 0, \"ticks\": \"\"}}, \"type\": \"scatterternary\"}], \"surface\": [{\"colorbar\": {\"outlinewidth\": 0, \"ticks\": \"\"}, \"colorscale\": [[0.0, \"#0d0887\"], [0.1111111111111111, \"#46039f\"], [0.2222222222222222, \"#7201a8\"], [0.3333333333333333, \"#9c179e\"], [0.4444444444444444, \"#bd3786\"], [0.5555555555555556, \"#d8576b\"], [0.6666666666666666, \"#ed7953\"], [0.7777777777777778, \"#fb9f3a\"], [0.8888888888888888, \"#fdca26\"], [1.0, \"#f0f921\"]], \"type\": \"surface\"}], \"table\": [{\"cells\": {\"fill\": {\"color\": \"#EBF0F8\"}, \"line\": {\"color\": \"white\"}}, \"header\": {\"fill\": {\"color\": \"#C8D4E3\"}, \"line\": {\"color\": \"white\"}}, \"type\": \"table\"}]}, \"layout\": {\"annotationdefaults\": {\"arrowcolor\": \"#2a3f5f\", \"arrowhead\": 0, \"arrowwidth\": 1}, \"coloraxis\": {\"colorbar\": {\"outlinewidth\": 0, \"ticks\": \"\"}}, \"colorscale\": {\"diverging\": [[0, \"#8e0152\"], [0.1, \"#c51b7d\"], [0.2, \"#de77ae\"], [0.3, \"#f1b6da\"], [0.4, \"#fde0ef\"], [0.5, \"#f7f7f7\"], [0.6, \"#e6f5d0\"], [0.7, \"#b8e186\"], [0.8, \"#7fbc41\"], [0.9, \"#4d9221\"], [1, \"#276419\"]], \"sequential\": [[0.0, \"#0d0887\"], [0.1111111111111111, \"#46039f\"], [0.2222222222222222, \"#7201a8\"], [0.3333333333333333, \"#9c179e\"], [0.4444444444444444, \"#bd3786\"], [0.5555555555555556, \"#d8576b\"], [0.6666666666666666, \"#ed7953\"], [0.7777777777777778, \"#fb9f3a\"], [0.8888888888888888, \"#fdca26\"], [1.0, \"#f0f921\"]], \"sequentialminus\": [[0.0, \"#0d0887\"], [0.1111111111111111, \"#46039f\"], [0.2222222222222222, \"#7201a8\"], [0.3333333333333333, \"#9c179e\"], [0.4444444444444444, \"#bd3786\"], [0.5555555555555556, \"#d8576b\"], [0.6666666666666666, \"#ed7953\"], [0.7777777777777778, \"#fb9f3a\"], [0.8888888888888888, \"#fdca26\"], [1.0, \"#f0f921\"]]}, \"colorway\": [\"#636efa\", \"#EF553B\", \"#00cc96\", \"#ab63fa\", \"#FFA15A\", \"#19d3f3\", \"#FF6692\", \"#B6E880\", \"#FF97FF\", \"#FECB52\"], \"font\": {\"color\": \"#2a3f5f\"}, \"geo\": {\"bgcolor\": \"white\", \"lakecolor\": \"white\", \"landcolor\": \"#E5ECF6\", \"showlakes\": true, \"showland\": true, \"subunitcolor\": \"white\"}, \"hoverlabel\": {\"align\": \"left\"}, \"hovermode\": \"closest\", \"mapbox\": {\"style\": \"light\"}, \"paper_bgcolor\": \"white\", \"plot_bgcolor\": \"#E5ECF6\", \"polar\": {\"angularaxis\": {\"gridcolor\": \"white\", \"linecolor\": \"white\", \"ticks\": \"\"}, \"bgcolor\": \"#E5ECF6\", \"radialaxis\": {\"gridcolor\": \"white\", \"linecolor\": \"white\", \"ticks\": \"\"}}, \"scene\": {\"xaxis\": {\"backgroundcolor\": \"#E5ECF6\", \"gridcolor\": \"white\", \"gridwidth\": 2, \"linecolor\": \"white\", \"showbackground\": true, \"ticks\": \"\", \"zerolinecolor\": \"white\"}, \"yaxis\": {\"backgroundcolor\": \"#E5ECF6\", \"gridcolor\": \"white\", \"gridwidth\": 2, \"linecolor\": \"white\", \"showbackground\": true, \"ticks\": \"\", \"zerolinecolor\": \"white\"}, \"zaxis\": {\"backgroundcolor\": \"#E5ECF6\", \"gridcolor\": \"white\", \"gridwidth\": 2, \"linecolor\": \"white\", \"showbackground\": true, \"ticks\": \"\", \"zerolinecolor\": \"white\"}}, \"shapedefaults\": {\"line\": {\"color\": \"#2a3f5f\"}}, \"ternary\": {\"aaxis\": {\"gridcolor\": \"white\", \"linecolor\": \"white\", \"ticks\": \"\"}, \"baxis\": {\"gridcolor\": \"white\", \"linecolor\": \"white\", \"ticks\": \"\"}, \"bgcolor\": \"#E5ECF6\", \"caxis\": {\"gridcolor\": \"white\", \"linecolor\": \"white\", \"ticks\": \"\"}}, \"title\": {\"x\": 0.05}, \"xaxis\": {\"automargin\": true, \"gridcolor\": \"white\", \"linecolor\": \"white\", \"ticks\": \"\", \"title\": {\"standoff\": 15}, \"zerolinecolor\": \"white\", \"zerolinewidth\": 2}, \"yaxis\": {\"automargin\": true, \"gridcolor\": \"white\", \"linecolor\": \"white\", \"ticks\": \"\", \"title\": {\"standoff\": 15}, \"zerolinecolor\": \"white\", \"zerolinewidth\": 2}}}, \"title\": {\"text\": \"%delta_totale_casi on 03/16/2020\"}},\n",
       "                        {\"responsive\": true}\n",
       "                    ).then(function(){\n",
       "                            \n",
       "var gd = document.getElementById('a2335033-4113-492d-9890-1d5d80691c4e');\n",
       "var x = new MutationObserver(function (mutations, observer) {{\n",
       "        var display = window.getComputedStyle(gd).display;\n",
       "        if (!display || display === 'none') {{\n",
       "            console.log([gd, 'removed!']);\n",
       "            Plotly.purge(gd);\n",
       "            observer.disconnect();\n",
       "        }}\n",
       "}});\n",
       "\n",
       "// Listen for the removal of the full notebook cells\n",
       "var notebookContainer = gd.closest('#notebook-container');\n",
       "if (notebookContainer) {{\n",
       "    x.observe(notebookContainer, {childList: true});\n",
       "}}\n",
       "\n",
       "// Listen for the clearing of the current output cell\n",
       "var outputEl = gd.closest('.output');\n",
       "if (outputEl) {{\n",
       "    x.observe(outputEl, {childList: true});\n",
       "}}\n",
       "\n",
       "                        })\n",
       "                };\n",
       "                });\n",
       "            </script>\n",
       "        </div>"
      ]
     },
     "metadata": {},
     "output_type": "display_data"
    }
   ],
   "source": [
    "col = '%delta_totale_casi'\n",
    "fig = px.density_mapbox(df_prov[df_prov.index==df_prov.index.max()], \n",
    "                        lat='lat', lon='long', z=col, radius=10, \n",
    "                        hover_name='denominazione_provincia',\n",
    "                        zoom=5,  height=800,\n",
    "                        #animation_frame=df_prov.index,\n",
    "                        mapbox_style=\"stamen-terrain\",\n",
    "                        title = col + ' on ' + str(df_prov.index.max()))\n",
    "fig.show()"
   ]
  },
  {
   "cell_type": "markdown",
   "metadata": {},
   "source": [
    "### National evolution"
   ]
  },
  {
   "cell_type": "code",
   "execution_count": 14,
   "metadata": {
    "scrolled": true
   },
   "outputs": [
    {
     "data": {
      "image/png": "[encoded data removed]",
      "text/plain": [
       "<Figure size 432x288 with 1 Axes>"
      ]
     },
     "metadata": {
      "needs_background": "light"
     },
     "output_type": "display_data"
    },
    {
     "data": {
      "image/png": "[encoded data removed]",
      "text/plain": [
       "<Figure size 432x288 with 1 Axes>"
      ]
     },
     "metadata": {
      "needs_background": "light"
     },
     "output_type": "display_data"
    },
    {
     "data": {
      "image/png": "[encoded data removed]",
      "text/plain": [
       "<Figure size 432x288 with 1 Axes>"
      ]
     },
     "metadata": {
      "needs_background": "light"
     },
     "output_type": "display_data"
    },
    {
     "data": {
      "image/png": "[encoded data removed]",
      "text/plain": [
       "<Figure size 432x288 with 1 Axes>"
      ]
     },
     "metadata": {
      "needs_background": "light"
     },
     "output_type": "display_data"
    },
    {
     "data": {
      "image/png": "[encoded data removed]",
      "text/plain": [
       "<Figure size 432x288 with 1 Axes>"
      ]
     },
     "metadata": {
      "needs_background": "light"
     },
     "output_type": "display_data"
    },
    {
     "data": {
      "image/png": "[encoded data removed]",
      "text/plain": [
       "<Figure size 432x288 with 1 Axes>"
      ]
     },
     "metadata": {
      "needs_background": "light"
     },
     "output_type": "display_data"
    },
    {
     "data": {
      "image/png": "[encoded data removed]",
      "text/plain": [
       "<Figure size 432x288 with 1 Axes>"
      ]
     },
     "metadata": {
      "needs_background": "light"
     },
     "output_type": "display_data"
    },
    {
     "data": {
      "image/png": "[encoded data removed]",
      "text/plain": [
       "<Figure size 432x288 with 1 Axes>"
      ]
     },
     "metadata": {
      "needs_background": "light"
     },
     "output_type": "display_data"
    },
    {
     "data": {
      "image/png": "[encoded data removed]",
      "text/plain": [
       "<Figure size 432x288 with 1 Axes>"
      ]
     },
     "metadata": {
      "needs_background": "light"
     },
     "output_type": "display_data"
    },
    {
     "data": {
      "image/png": "[encoded data removed]",
      "text/plain": [
       "<Figure size 432x288 with 1 Axes>"
      ]
     },
     "metadata": {
      "needs_background": "light"
     },
     "output_type": "display_data"
    },
    {
     "data": {
      "image/png": "[encoded data removed]",
      "text/plain": [
       "<Figure size 432x288 with 1 Axes>"
      ]
     },
     "metadata": {
      "needs_background": "light"
     },
     "output_type": "display_data"
    },
    {
     "data": {
      "image/png": "[encoded data removed]",
      "text/plain": [
       "<Figure size 432x288 with 1 Axes>"
      ]
     },
     "metadata": {
      "needs_background": "light"
     },
     "output_type": "display_data"
    },
    {
     "data": {
      "image/png": "[encoded data removed]",
      "text/plain": [
       "<Figure size 432x288 with 1 Axes>"
      ]
     },
     "metadata": {
      "needs_background": "light"
     },
     "output_type": "display_data"
    },
    {
     "data": {
      "image/png": "[encoded data removed]",
      "text/plain": [
       "<Figure size 432x288 with 1 Axes>"
      ]
     },
     "metadata": {
      "needs_background": "light"
     },
     "output_type": "display_data"
    },
    {
     "data": {
      "image/png": "[encoded data removed]",
      "text/plain": [
       "<Figure size 432x288 with 1 Axes>"
      ]
     },
     "metadata": {
      "needs_background": "light"
     },
     "output_type": "display_data"
    },
    {
     "data": {
      "image/png": "[encoded data removed]",
      "text/plain": [
       "<Figure size 432x288 with 1 Axes>"
      ]
     },
     "metadata": {
      "needs_background": "light"
     },
     "output_type": "display_data"
    },
    {
     "data": {
      "image/png": "[encoded data removed]",
      "text/plain": [
       "<Figure size 432x288 with 1 Axes>"
      ]
     },
     "metadata": {
      "needs_background": "light"
     },
     "output_type": "display_data"
    },
    {
     "data": {
      "image/png": "[encoded data removed]",
      "text/plain": [
       "<Figure size 432x288 with 1 Axes>"
      ]
     },
     "metadata": {
      "needs_background": "light"
     },
     "output_type": "display_data"
    },
    {
     "data": {
      "image/png": "[encoded data removed]",
      "text/plain": [
       "<Figure size 432x288 with 1 Axes>"
      ]
     },
     "metadata": {
      "needs_background": "light"
     },
     "output_type": "display_data"
    }
   ],
   "source": [
    "for col in df_naz.columns:\n",
    "    plt.figure()\n",
    "    df_naz[col].plot(kind='bar', title=col)    "
   ]
  },
  {
   "cell_type": "code",
   "execution_count": 15,
   "metadata": {},
   "outputs": [
    {
     "data": {
      "text/plain": [
       "<matplotlib.axes._subplots.AxesSubplot at 0x1c6e1222fc8>"
      ]
     },
     "execution_count": 15,
     "metadata": {},
     "output_type": "execute_result"
    },
    {
     "data": {
      "image/png": "[encoded data removed]",
      "text/plain": [
       "<Figure size 432x288 with 1 Axes>"
      ]
     },
     "metadata": {
      "needs_background": "light"
     },
     "output_type": "display_data"
    }
   ],
   "source": [
    "df_naz[['nuovi_attualmente_positivi', 'delta_totale_casi','delta_dimessi_guariti','delta_deceduti']].plot(kind='bar')"
   ]
  },
  {
   "cell_type": "code",
   "execution_count": 16,
   "metadata": {},
   "outputs": [
    {
     "data": {
      "text/plain": [
       "<matplotlib.axes._subplots.AxesSubplot at 0x1c6e10a4148>"
      ]
     },
     "execution_count": 16,
     "metadata": {},
     "output_type": "execute_result"
    },
    {
     "data": {
      "image/png": "[encoded data removed]",
      "text/plain": [
       "<Figure size 432x288 with 1 Axes>"
      ]
     },
     "metadata": {
      "needs_background": "light"
     },
     "output_type": "display_data"
    }
   ],
   "source": [
    "df_naz[['nuovi_attualmente_positivi', 'delta_totale_casi','delta_dimessi_guariti','delta_deceduti']].iloc[-1].plot(kind='barh')"
   ]
  },
  {
   "cell_type": "code",
   "execution_count": 17,
   "metadata": {},
   "outputs": [
    {
     "data": {
      "text/plain": [
       "Text(0.5, 1.0, \"variazione giornaliera nuovi casi per l'Abruzzo\")"
      ]
     },
     "execution_count": 17,
     "metadata": {},
     "output_type": "execute_result"
    },
    {
     "data": {
      "image/png": "[encoded data removed]",
      "text/plain": [
       "<Figure size 432x288 with 1 Axes>"
      ]
     },
     "metadata": {
      "needs_background": "light"
     },
     "output_type": "display_data"
    }
   ],
   "source": [
    "df_reg['Abruzzo']['delta_totale_casi'].plot(kind='bar')\n",
    "plt.title(\"variazione giornaliera nuovi casi per l'Abruzzo\")"
   ]
  },
  {
   "cell_type": "code",
   "execution_count": 86,
   "metadata": {},
   "outputs": [],
   "source": [
    "from scipy.optimize import curve_fit\n",
    "\n",
    "def func_exp(x, a, b, c):\n",
    "    return np.exp(a + b * x) + c\n",
    "\n",
    "def func_log(x, r, K, P0):\n",
    "    return (K*P0*np.exp(r*x)) / (K + P0*(np.exp(x*r)-1))\n",
    "col = 'deceduti'\n",
    "backward_fit = 0\n",
    "forward_look = 10\n",
    "showlimit = True\n",
    "y = df_naz[col].values\n",
    "ndays = df_naz.shape[0]\n",
    "x = np.linspace(1, ndays, ndays)\n",
    "\n",
    "max_fit = len(x)\n",
    "x_fit = x[-backward_fit:max_fit + 1]\n",
    "y_fit = y[-backward_fit:max_fit + 1]\n",
    "x_pred = np.linspace(1, ndays + forward_look, (ndays + forward_look))\n",
    "\n",
    "popt_log, pcov_log = curve_fit(func_log, x_fit, y_fit,  bounds=([0., 0., 0.], [np.inf, np.inf, np.inf]))\n",
    "popt_exp, pcov_exp = curve_fit(func_exp, x_fit, y_fit,  bounds=([0., 0., 0.], [np.inf, np.inf, np.inf]))\n",
    "y_pred_log = func_log(x_pred, *popt_log)\n",
    "y_pred_exp = func_exp(x_pred, *popt_exp)\n",
    "#curve_fit(func_log_verhulst, x_fit, y_fit)"
   ]
  },
  {
   "cell_type": "code",
   "execution_count": 87,
   "metadata": {},
   "outputs": [
    {
     "data": {
      "text/plain": [
       "<matplotlib.legend.Legend at 0x1edc156cd88>"
      ]
     },
     "execution_count": 87,
     "metadata": {},
     "output_type": "execute_result"
    },
    {
     "data": {
      "image/png": "[encoded data removed]",
      "text/plain": [
       "<Figure size 864x864 with 1 Axes>"
      ]
     },
     "metadata": {
      "needs_background": "light"
     },
     "output_type": "display_data"
    }
   ],
   "source": [
    "plt.figure(figsize=(12, 12))\n",
    "plt.subplot(211)\n",
    "plt.title(col)\n",
    "plt.plot(x, y, 'ko', label=\"Original Data\")\n",
    "\n",
    "if ~np.isinf(pcov_log).max():\n",
    "    log_rmse = np.sqrt(np.mean((y_fit - func_log_verhulst(x_fit, *popt_log)) ** 2))\n",
    "    plt.plot(x_pred, y_pred_log, 'g-', label=\"log model rmse %f.4\"%log_rmse)\n",
    "    perr = np.sqrt(np.diag(pcov_log))\n",
    "    popt_log_up = popt_log + perr\n",
    "    popt_log_down = popt_log - perr\n",
    "    plt.fill_between(x_pred, func_log_verhulst(x_pred, *popt_log_down), func_log_verhulst(x_pred, *popt_log_up), alpha=0.2)\n",
    "loglimit = func_log_verhulst(500, *popt_log)\n",
    "log_limit = np.array([loglimit for i in range(len(x_pred))])\n",
    "if showlimit: plt.plot(x_pred, log_limit, 'g--', label='log limit: %i' % (loglimit))\n",
    "\n",
    "plt.plot(x_pred, y_pred_exp, 'r-')\n",
    "    \n",
    "plt.legend(loc='upper left')    "
   ]
  },
  {
   "cell_type": "code",
   "execution_count": 18,
   "metadata": {
    "scrolled": false
   },
   "outputs": [
    {
     "data": {
      "image/png": "[encoded data removed]",
      "text/plain": [
       "<Figure size 864x864 with 3 Axes>"
      ]
     },
     "metadata": {
      "needs_background": "light"
     },
     "output_type": "display_data"
    },
    {
     "name": "stdout",
     "output_type": "stream",
     "text": [
      "next day prediction for log model:  2436\n",
      "next day prediction for exp model:  2709\n",
      "next day prediction for pol model:  2534\n",
      "data\n",
      "03/12/2020    1016\n",
      "03/13/2020    1266\n",
      "03/14/2020    1441\n",
      "03/15/2020    1809\n",
      "03/16/2020    2158\n",
      "Name: deceduti, dtype: int64\n"
     ]
    }
   ],
   "source": [
    "tools.plot_model(df_naz, 'deceduti', backward_fit=0, forward_look=10, plotlimit=True, show_pol=True)"
   ]
  },
  {
   "cell_type": "code",
   "execution_count": 19,
   "metadata": {},
   "outputs": [
    {
     "data": {
      "image/png": "[encoded data removed]",
      "text/plain": [
       "<Figure size 864x864 with 3 Axes>"
      ]
     },
     "metadata": {
      "needs_background": "light"
     },
     "output_type": "display_data"
    },
    {
     "name": "stdout",
     "output_type": "stream",
     "text": [
      "next day prediction for log model:  31869\n",
      "next day prediction for exp model:  33697\n",
      "next day prediction for pol model:  32532\n",
      "data\n",
      "03/12/2020    15113\n",
      "03/13/2020    17660\n",
      "03/14/2020    21157\n",
      "03/15/2020    24747\n",
      "03/16/2020    27980\n",
      "Name: totale_casi, dtype: int64\n"
     ]
    }
   ],
   "source": [
    "tools.plot_model(df_naz.replace(0,0.01), 'totale_casi', backward_fit=-1, forward_look=10, plotlimit=True, show_log=True, show_exp=True, show_pol=True)"
   ]
  },
  {
   "cell_type": "code",
   "execution_count": null,
   "metadata": {},
   "outputs": [],
   "source": []
  }
 ],
 "metadata": {
  "kernelspec": {
   "display_name": "Python 3",
   "language": "python",
   "name": "python3"
  },
  "toc": {
   "base_numbering": 1,
   "nav_menu": {},
   "number_sections": true,
   "sideBar": true,
   "skip_h1_title": false,
   "title_cell": "Table of Contents",
   "title_sidebar": "Contents",
   "toc_cell": false,
   "toc_position": {},
   "toc_section_display": true,
   "toc_window_display": false
  },
  "varInspector": {
   "cols": {
    "lenName": 16,
    "lenType": 16,
    "lenVar": 40
   },
   "kernels_config": {
    "python": {
     "delete_cmd_postfix": "",
     "delete_cmd_prefix": "del ",
     "library": "var_list.py",
     "varRefreshCmd": "print(var_dic_list())"
    },
    "r": {
     "delete_cmd_postfix": ") ",
     "delete_cmd_prefix": "rm(",
     "library": "var_list.r",
     "varRefreshCmd": "cat(var_dic_list()) "
    }
   },
   "types_to_exclude": [
    "module",
    "function",
    "builtin_function_or_method",
    "instance",
    "_Feature"
   ],
   "window_display": false
  }
 },
 "nbformat": 4,
 "nbformat_minor": 2
}
