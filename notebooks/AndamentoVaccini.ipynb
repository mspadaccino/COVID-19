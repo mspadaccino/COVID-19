{
 "cells": [
  {
   "cell_type": "markdown",
   "metadata": {},
   "source": [
    "# Evoluzione Vaccinazioni Covid19 Italia"
   ]
  },
  {
   "cell_type": "code",
   "execution_count": 1,
   "metadata": {},
   "outputs": [],
   "source": [
    "import pandas as pd\n",
    "import os\n",
    "import git\n",
    "import sys\n",
    "sys.path.append('../')\n",
    "from src.data_downloader import download_from_repo, rmtree\n",
    "import plotly.express as px\n",
    "import plotly.graph_objects as go\n",
    "from plotly.subplots import make_subplots\n",
    "\n",
    "import ipywidgets as widgets\n",
    "from ipywidgets import interact, interactive, interactive_output"
   ]
  },
  {
   "cell_type": "code",
   "execution_count": 2,
   "metadata": {},
   "outputs": [],
   "source": [
    "repopath = 'https://github.com/italia/covid19-opendata-vaccini'\n",
    "csvlist = ['vaccini-summary-latest.csv', 'somministrazioni-vaccini-summary-latest.csv','somministrazioni-vaccini-latest.csv','consegne-vaccini-latest.csv']\n",
    "filenames = ['dati/'+file for file in csvlist]\n",
    "dest = '../data/vaccini'"
   ]
  },
  {
   "cell_type": "code",
   "execution_count": 3,
   "metadata": {},
   "outputs": [
    {
     "name": "stdout",
     "output_type": "stream",
     "text": [
      "updated  dati/vaccini-summary-latest.csv\n",
      "updated  dati/somministrazioni-vaccini-summary-latest.csv\n",
      "updated  dati/somministrazioni-vaccini-latest.csv\n",
      "updated  dati/consegne-vaccini-latest.csv\n",
      "last commit  2021-04-10 10:09:00\n"
     ]
    }
   ],
   "source": [
    "download_from_repo(repopath, filenames, dest)"
   ]
  },
  {
   "cell_type": "code",
   "execution_count": 4,
   "metadata": {},
   "outputs": [],
   "source": [
    "data = {}\n",
    "datanames = []\n",
    "for file in os.listdir(dest):\n",
    "    datanames.append(file.replace('.csv',''))\n",
    "    data[file.replace('.csv','')] = pd.read_csv(os.path.join(dest,file))"
   ]
  },
  {
   "cell_type": "code",
   "execution_count": 5,
   "metadata": {},
   "outputs": [],
   "source": [
    "pop = pd.read_csv(\"../data/popitaregions.csv\")\n",
    "pop_dict = {reg: num for (reg, num) in zip(pop['Regione'], pop['Popolazione'])}\n",
    "pop_dict['Provincia Autonoma Bolzano / Bozen'] = pop_dict['Trentino-Alto Adige']/2\n",
    "pop_dict['Provincia Autonoma Trento'] = pop_dict['Trentino-Alto Adige']/2\n",
    "pop_dict[\"Valle d'Aosta / Vallée d'Aoste\"] = pop_dict[\"Valle d'Aosta\"]\n",
    "pop_dict[\"Friuli-Venezia Giulia\"] = pop_dict['Friuli Venezia Giulia']"
   ]
  },
  {
   "cell_type": "markdown",
   "metadata": {},
   "source": [
    "## Quadro di sintesi"
   ]
  },
  {
   "cell_type": "code",
   "execution_count": 6,
   "metadata": {},
   "outputs": [
    {
     "data": {
      "application/vnd.jupyter.widget-view+json": {
       "model_id": "e404815bdbdd47d1a4afbbb8016dbcaa",
       "version_major": 2,
       "version_minor": 0
      },
      "text/plain": [
       "interactive(children=(Dropdown(description='groups', options=('dosi_assolute', 'dosi_per_abitante'), value='do…"
      ]
     },
     "metadata": {},
     "output_type": "display_data"
    }
   ],
   "source": [
    "df_summary = data['vaccini-summary-latest'].copy()\n",
    "df_summary['population'] = df_summary['nome_area'].map(pop_dict)\n",
    "df_summary['dosi_somministrate_per_mln_abitante'] = df_summary['dosi_somministrate']/df_summary['population']\n",
    "df_summary['dosi_consegnate_per_mln_abitante'] = df_summary['dosi_consegnate']/df_summary['population']\n",
    "df_summary.loc[-1] = df_summary.sum()\n",
    "df_summary.loc[-1,\"area\"] = 'ITA'\n",
    "df_summary.loc[-1,\"nome_area\"] = 'Italia'\n",
    "@interact\n",
    "def plot_summary(groups=['dosi_assolute', 'dosi_per_abitante'],sort_by=['somministrate','consegnate','percentuale_somministrazione']):    \n",
    "    if groups == 'dosi_assolute':\n",
    "        ys = \"\"\n",
    "    elif groups == 'dosi_per_abitante':\n",
    "        ys = \"_per_mln_abitante\"\n",
    "    fig = make_subplots(specs=[[{\"secondary_y\": True}]])\n",
    "    if sort_by == 'percentuale_somministrazione':\n",
    "        sortby = 'percentuale_somministrazione'\n",
    "    else:\n",
    "        sortby = 'dosi_'+sort_by+ys\n",
    "    tempdf= df_summary.sort_values(sortby, ascending=False)\n",
    "    fig.add_trace(go.Bar(x=tempdf['nome_area'],y=tempdf['dosi_somministrate'+ys], name='dosi somministrate'),secondary_y=False)\n",
    "    fig.add_trace(go.Bar(x=tempdf['nome_area'],y=tempdf['dosi_consegnate'+ys], name='dosi consegnate'),secondary_y=False)\n",
    "    fig.update_yaxes(title_text=\"<b>dosi</b>\", secondary_y=False)\n",
    "    fig.update_yaxes(title_text=\"<i>percentuale</i>\", secondary_y=True)\n",
    "    fig.add_trace(go.Scatter(x=tempdf['nome_area'],y=tempdf['percentuale_somministrazione'],name='perc somministrata'),secondary_y=True)  \n",
    "    fig.show()\n"
   ]
  },
  {
   "cell_type": "markdown",
   "metadata": {},
   "source": [
    "## Andamento Distribuzione Vaccini per regioni"
   ]
  },
  {
   "cell_type": "code",
   "execution_count": 7,
   "metadata": {},
   "outputs": [
    {
     "data": {
      "application/vnd.jupyter.widget-view+json": {
       "model_id": "fc76c36ded2c4b748c271cf068e47170",
       "version_major": 2,
       "version_minor": 0
      },
      "text/plain": [
       "interactive(children=(Dropdown(description='region', options=('Abruzzo', 'Basilicata', 'Calabria', 'Campania',…"
      ]
     },
     "metadata": {},
     "output_type": "display_data"
    }
   ],
   "source": [
    "df_consegne = data['consegne-vaccini-latest'].groupby('nome_area')\n",
    "@interact\n",
    "def plot_forniture(region = list(df_consegne.groups.keys())):    \n",
    "    plotdf = df_consegne.get_group(region)[['data_consegna','fornitore','numero_dosi']]\n",
    "    fig = px.bar(plotdf, x='data_consegna', y=\"numero_dosi\", color=\"fornitore\", title=\"Forniture Vaccini per \"+region)\n",
    "    fig.show()"
   ]
  },
  {
   "cell_type": "markdown",
   "metadata": {},
   "source": [
    "## Andamento Somministrazioni per regione"
   ]
  },
  {
   "cell_type": "code",
   "execution_count": 8,
   "metadata": {
    "scrolled": false
   },
   "outputs": [
    {
     "data": {
      "application/vnd.jupyter.widget-view+json": {
       "model_id": "bb81ae9c4fd647cfbf1e1b6d2299e05d",
       "version_major": 2,
       "version_minor": 0
      },
      "text/plain": [
       "interactive(children=(Dropdown(description='region', options=('Italia', 'Abruzzo', 'Basilicata', 'Calabria', '…"
      ]
     },
     "metadata": {},
     "output_type": "display_data"
    }
   ],
   "source": [
    "df_somm = data['somministrazioni-vaccini-latest'].groupby('nome_area')\n",
    "\n",
    "@interact\n",
    "def plot_somm(region = ['Italia']+list(df_somm.groups.keys()),groups=['sex', 'categories', 'stages']):\n",
    "    if region=='Italia':\n",
    "        plotdf = data['somministrazioni-vaccini-summary-latest'].groupby('data_somministrazione').sum().drop('codice_regione_ISTAT',1)\n",
    "    else:\n",
    "        plotdf = df_somm.get_group(region).groupby('data_somministrazione').sum().drop('codice_regione_ISTAT',1)\n",
    "\n",
    "    if groups == 'sex':\n",
    "        ys = [col for col in plotdf.columns if 'sesso' in col]\n",
    "    elif groups == 'categories':\n",
    "        ys = [col for col in plotdf.columns if 'categoria' in col]\n",
    "    elif groups == 'stages':\n",
    "        ys = [col for col in plotdf.columns if 'dose' in col]\n",
    "    fig = px.bar(plotdf, x=plotdf.index, y=ys, title=\"somministrazioni per \"+region)\n",
    "    fig.show()"
   ]
  },
  {
   "cell_type": "code",
   "execution_count": null,
   "metadata": {},
   "outputs": [],
   "source": []
  }
 ],
 "metadata": {
  "kernelspec": {
   "display_name": "Python 3",
   "language": "python",
   "name": "python3"
  },
  "language_info": {
   "codemirror_mode": {
    "name": "ipython",
    "version": 3
   },
   "file_extension": ".py",
   "mimetype": "text/x-python",
   "name": "python",
   "nbconvert_exporter": "python",
   "pygments_lexer": "ipython3",
   "version": "3.7.7"
  },
  "latex_envs": {
   "LaTeX_envs_menu_present": true,
   "autoclose": false,
   "autocomplete": true,
   "bibliofile": "biblio.bib",
   "cite_by": "apalike",
   "current_citInitial": 1,
   "eqLabelWithNumbers": true,
   "eqNumInitial": 1,
   "hotkeys": {
    "equation": "Ctrl-E",
    "itemize": "Ctrl-I"
   },
   "labels_anchors": false,
   "latex_user_defs": false,
   "report_style_numbering": false,
   "user_envs_cfg": false
  },
  "toc": {
   "base_numbering": 1,
   "nav_menu": {},
   "number_sections": true,
   "sideBar": true,
   "skip_h1_title": false,
   "title_cell": "Table of Contents",
   "title_sidebar": "Contents",
   "toc_cell": false,
   "toc_position": {},
   "toc_section_display": true,
   "toc_window_display": false
  }
 },
 "nbformat": 4,
 "nbformat_minor": 4
}
