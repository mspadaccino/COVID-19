{
 "cells": [
  {
   "cell_type": "code",
   "execution_count": 1,
   "metadata": {},
   "outputs": [],
   "source": [
    "%load_ext autoreload\n",
    "%autoreload 2\n",
    "import sys\n",
    "sys.path.append(\"/home/maurizio/Documents/projects/coronavirus\")\n",
    "import pandas as pd\n",
    "import numpy as np\n",
    "import matplotlib.pyplot as plt\n",
    "import matplotlib.dates as mdates\n",
    "import src.tools as tools\n",
    "import plotly.express as px\n",
    "from scipy.integrate import odeint\n",
    "from scipy.optimize import curve_fit\n",
    "from scipy.optimize import differential_evolution\n",
    "import scipy.integrate as integrate\n",
    "from src.data_downloader import DATA_REPOS, download_from_repo"
   ]
  },
  {
   "cell_type": "markdown",
   "metadata": {
    "heading_collapsed": true
   },
   "source": [
    "### update data from repos"
   ]
  },
  {
   "cell_type": "code",
   "execution_count": 2,
   "metadata": {
    "hidden": true
   },
   "outputs": [],
   "source": [
    "dest='/home/maurizio/Documents/projects/coronavirus/data'"
   ]
  },
  {
   "cell_type": "code",
   "execution_count": 3,
   "metadata": {
    "hidden": true
   },
   "outputs": [
    {
     "data": {
      "text/plain": [
       "{'world': {'url': 'https://github.com/CSSEGISandData/COVID-19',\n",
       "  'streams': {'deaths': '/csse_covid_19_data/csse_covid_19_time_series/time_series_19-covid-Deaths.csv',\n",
       "   'confirmed': '/csse_covid_19_data/csse_covid_19_time_series/time_series_19-covid-Confirmed.csv',\n",
       "   'recovered': '/csse_covid_19_data/csse_covid_19_time_series/time_series_19-covid-Recovered.csv'}},\n",
       " 'italy': {'url': 'https://github.com/pcm-dpc/COVID-19',\n",
       "  'streams': {'andamento-nazionale': '/dati-andamento-nazionale/dpc-covid19-ita-andamento-nazionale.csv',\n",
       "   'regioni': '/dati-regioni/dpc-covid19-ita-regioni.csv',\n",
       "   'province': '/dati-province/dpc-covid19-ita-province.csv'}}}"
      ]
     },
     "execution_count": 3,
     "metadata": {},
     "output_type": "execute_result"
    }
   ],
   "source": [
    "DATA_REPOS"
   ]
  },
  {
   "cell_type": "code",
   "execution_count": 4,
   "metadata": {
    "hidden": true,
    "scrolled": true
   },
   "outputs": [],
   "source": [
    "download_from_repo(DATA_REPOS['world']['url'], filename=DATA_REPOS['world']['streams']['deaths'], \n",
    "                   dest='/home/maurizio/Documents/projects/coronavirus/data')\n",
    "download_from_repo(DATA_REPOS['world']['url'], filename=DATA_REPOS['world']['streams']['confirmed'], \n",
    "                   dest='/home/maurizio/Documents/projects/coronavirus/data')\n",
    "download_from_repo(DATA_REPOS['world']['url'], filename=DATA_REPOS['world']['streams']['recovered'], \n",
    "                   dest='/home/maurizio/Documents/projects/coronavirus/data')\n",
    "download_from_repo(DATA_REPOS['italy']['url'], filename=DATA_REPOS['italy']['streams']['andamento-nazionale'], \n",
    "                   dest='/home/maurizio/Documents/projects/coronavirus/data')\n",
    "download_from_repo(DATA_REPOS['italy']['url'], filename=DATA_REPOS['italy']['streams']['regioni'], \n",
    "                   dest='/home/maurizio/Documents/projects/coronavirus/data')\n",
    "download_from_repo(DATA_REPOS['italy']['url'], filename=DATA_REPOS['italy']['streams']['province'], \n",
    "                   dest='/home/maurizio/Documents/projects/coronavirus/data')"
   ]
  },
  {
   "cell_type": "markdown",
   "metadata": {
    "heading_collapsed": true
   },
   "source": [
    "## SIRD Model definition"
   ]
  },
  {
   "cell_type": "code",
   "execution_count": 17,
   "metadata": {
    "hidden": true
   },
   "outputs": [],
   "source": [
    "# SIR model differential equations\n",
    "def SIR_deriv(y, t, N, beta, gamma, theta):\n",
    "    S, I, R, D = y\n",
    "    dSdt = -beta * S * I / N\n",
    "    dIdt = beta * S * I / N - gamma * I\n",
    "    dRdt = gamma * I\n",
    "    dDdt = theta * I\n",
    "    return dSdt, dIdt, dRdt, dDdt\n",
    "\n",
    "def SIRModel_solver(t, beta, gamma, theta):\n",
    "    return SIRModel(t, beta, gamma, theta)[3] # returns just D for optimizer\n",
    "\n",
    "def SIRModel(t, beta, gamma, theta):\n",
    "    # Initial conditions vector\n",
    "    y0 = S0, I0, R0, D0\n",
    "    # Integrate the SIR equations over time t\n",
    "    ret = odeint(SIR_deriv, y0, t, args=(N, beta, gamma, theta))\n",
    "    S, I, R, D = ret.T\n",
    "    return S, I, R, D\n",
    "\n",
    "def diff_ev_solver(params):\n",
    "    beta, gamma, theta = params\n",
    "    return np.mean(np.abs(SIRModel_solver(x_fit, beta, gamma, theta) - y_fit))"
   ]
  },
  {
   "cell_type": "markdown",
   "metadata": {
    "hidden": true
   },
   "source": [
    "### toy example"
   ]
  },
  {
   "cell_type": "code",
   "execution_count": 18,
   "metadata": {
    "hidden": true
   },
   "outputs": [
    {
     "name": "stdout",
     "output_type": "stream",
     "text": [
      "beta:  0.2\n",
      "gamma:  0.1\n",
      "theta:  0.015\n",
      "r0:  2.0\n",
      "mean period of time of infection:  10.0\n"
     ]
    },
    {
     "data": {
      "text/plain": [
       "<matplotlib.legend.Legend at 0x7f90e9ec4fd0>"
      ]
     },
     "execution_count": 18,
     "metadata": {},
     "output_type": "execute_result"
    },
    {
     "data": {
      "image/png": "[encoded data removed]",
      "text/plain": [
       "<Figure size 432x288 with 1 Axes>"
      ]
     },
     "metadata": {
      "needs_background": "light"
     },
     "output_type": "display_data"
    }
   ],
   "source": [
    "N = 1000 # total population Italy\n",
    "I0 = 16 # Initial number of infected people (10x official estimates hypothesis)\n",
    "R0 = 0 # Initial number of recovered\n",
    "S0 = N - I0 - R0 # Initial susceptible population to infection.\n",
    "D0 = 0 # number of deaths at initial time\n",
    "\n",
    "params = (0.2, 0.1, 0.015)\n",
    "S, I , R, D = SIRModel(range(200), *params)\n",
    "print('beta: ', params[0])\n",
    "print('gamma: ', params[1])\n",
    "print('theta: ', params[2])\n",
    "print('r0: ', params[0]/params[1])\n",
    "print('mean period of time of infection: ', 1/params[1])\n",
    "\n",
    "plt.plot(I, label='infected')\n",
    "plt.plot(D, label='deaths')\n",
    "plt.plot(R, label='recovered')\n",
    "plt.plot(S, label='susceptible')\n",
    "#plt.yscale('log')\n",
    "#ax.yaxis.set_major_formatter(ScalarFormatter())\n",
    "\n",
    "#plt.ylim(0,10000)\n",
    "plt.legend()"
   ]
  },
  {
   "cell_type": "markdown",
   "metadata": {
    "hidden": true
   },
   "source": [
    "### fit to official death data"
   ]
  },
  {
   "cell_type": "code",
   "execution_count": 19,
   "metadata": {
    "hidden": true,
    "scrolled": false
   },
   "outputs": [
    {
     "name": "stdout",
     "output_type": "stream",
     "text": [
      "calibrating with genetic algorithm...\n",
      "beta:  -2.3908903908300796\n",
      "gamma:  -2.624675267850694\n",
      "theta:  0.0017962257302843534\n",
      "r0:  0.9115519062965314\n",
      "mean period of time of infection:  -0.3809995134441468\n",
      "max number of infections  281789.17634056613\n",
      "max number of deaths  8362.413669763124\n",
      "mae  39.55046752641027\n"
     ]
    },
    {
     "data": {
      "text/plain": [
       "<matplotlib.legend.Legend at 0x7f90e9775cd0>"
      ]
     },
     "execution_count": 19,
     "metadata": {},
     "output_type": "execute_result"
    },
    {
     "data": {
      "image/png": "[encoded data removed]",
      "text/plain": [
       "<Figure size 432x288 with 2 Axes>"
      ]
     },
     "metadata": {
      "needs_background": "light"
     },
     "output_type": "display_data"
    }
   ],
   "source": [
    "use_differential_evolution = True\n",
    "cases_multiplier = 10\n",
    "df = pd.read_csv('../data/dpc-covid19-ita-andamento-nazionale.csv').drop('stato',1)\n",
    "y_fit = df['deceduti'].values\n",
    "x_fit = np.linspace(0, len(y_fit), len(y_fit))\n",
    "N = 60431283 # total population Italy\n",
    "I0 = cases_multiplier*df['totale_attualmente_positivi'].iloc[0] # Initial number of infected people (10x official estimates hypothesis)\n",
    "R0 = 0 #df['dimessi_guariti'].iloc[0] # Initial number of recovered\n",
    "S0 = N - I0 - R0 # Initial susceptible population to infection.\n",
    "D0 = 0 # number of deaths at initial time\n",
    "\n",
    "bounds = [(-5,5), (-5, 5), (-5, 5)]\n",
    "if use_differential_evolution:\n",
    "    print('calibrating with genetic algorithm...')\n",
    "    optimization = differential_evolution(diff_ev_solver, bounds)\n",
    "    params = optimization.x\n",
    "else:\n",
    "    params, covariances = curve_fit(f=SIRModel_solver, xdata=x_fit, ydata=y_fit, method='trf', bounds=bounds[0])\n",
    "S, I , R, D = SIRModel(range(90), *params)\n",
    "print('beta: ', params[0])\n",
    "print('gamma: ', params[1])\n",
    "print('theta: ', params[2])\n",
    "print('r0: ', params[0]/(params[1]+params[2]))\n",
    "print('mean period of time of infection: ', 1/params[1])\n",
    "print('max number of infections ', np.max(I))\n",
    "print('max number of deaths ', np.max(D))\n",
    "print('mae ', np.mean(np.abs(y_fit - SIRModel_solver(x_fit, *params))))\n",
    "fig, ax1 = plt.subplots()\n",
    "ax1.plot(D,'r', label='deaths '+str(int(np.max(D))))\n",
    "ax1.plot(y_fit,'x', label='true deaths')\n",
    "ax1.legend(loc='upper left')\n",
    "ax2 = ax1.twinx()\n",
    "plt.ylim(0,1.2*np.max(I))\n",
    "ax2.plot(I,'b', label='infected '+str(int(np.max(I))))\n",
    "ax2.plot(R,'g', label='recovered')\n",
    "ax2.plot(S,'y', label='susceptible')\n",
    "\n",
    "\n",
    "ax2.legend()"
   ]
  },
  {
   "cell_type": "markdown",
   "metadata": {},
   "source": [
    "## SEIR Model definition"
   ]
  },
  {
   "cell_type": "code",
   "execution_count": 42,
   "metadata": {
    "scrolled": true
   },
   "outputs": [],
   "source": [
    "def SEIRModel(t, S0, E0, I0, R0, r0, dur_inf, dur_inc):\n",
    "    # SEIR model differential equations\n",
    "    def SEIR_deriv(y, t, r0, dur_inf, dur_inc):\n",
    "        S, E, I, R = y\n",
    "        alpha = 1/dur_inc\n",
    "        gamma = 1/dur_inf\n",
    "        beta = r0 * gamma\n",
    "        dSdt = -beta * S * I/N\n",
    "        dEdt = beta * S * I/N - alpha * E\n",
    "        dIdt = alpha * E - gamma * I\n",
    "        dRdt = gamma * I\n",
    "        return dSdt, dEdt, dIdt, dRdt\n",
    "    # Initial conditions vector\n",
    "    y0 = S0, E0, I0, R0\n",
    "    # Integrate the SIR equations over time t\n",
    "    ret = odeint(SEIR_deriv, y0, t, args=(r0, dur_inf, dur_inc))\n",
    "    S, E, I, R = ret.T\n",
    "    return S, E, I, R\n",
    "\n",
    "def calibrate_SEIR(y_fit,\n",
    "                   N,\n",
    "                   I0,\n",
    "                   R0 = 0,\n",
    "                   E0 = 0,\n",
    "                   CFR = 0.02,\n",
    "                   time_horizon = 365,\n",
    "                   bounds= [(0,5), (1, 30), (1, 30)],\n",
    "                   use_differential_evolution = True):\n",
    "    \n",
    "    # SEIR model differential equations\n",
    "    def SEIR_deriv(y, t, r0, dur_inf, dur_inc):\n",
    "        S, E, I, R = y\n",
    "        alpha = 1/dur_inc\n",
    "        gamma = 1/dur_inf\n",
    "        beta = r0 * gamma\n",
    "        dSdt = -beta * S * I/N\n",
    "        dEdt = beta * S * I/N - alpha * E\n",
    "        dIdt = alpha * E - gamma * I\n",
    "        dRdt = gamma * I\n",
    "        return dSdt, dEdt, dIdt, dRdt\n",
    "\n",
    "    def SEIRModel_solver(t, r0, dur_inf, dur_inc):\n",
    "        # Initial conditions vector\n",
    "        y0 = S0, E0, I0, R0\n",
    "        # Integrate the SIR equations over time t\n",
    "        ret = odeint(SEIR_deriv, y0, t, args=(r0, dur_inf, dur_inc))\n",
    "        S, E, I, R = ret.T\n",
    "        return I\n",
    "\n",
    "    def diff_ev_solver(params):\n",
    "        r0, dur_inf, dur_inc = params\n",
    "        return np.mean(np.abs(SEIRModel_solver(x_fit, r0, dur_inf, dur_inc) - y_fit))    \n",
    "    \n",
    "    x_fit = np.linspace(0, len(y_fit), len(y_fit))\n",
    "    S0 = N - I0 - R0 - E0 # Initial susceptible population to infection.\n",
    "    if use_differential_evolution:\n",
    "        print('calibrating with genetic algorithm...')\n",
    "        optimization = differential_evolution(diff_ev_solver, bounds, popsize=150, maxiter=10000)\n",
    "        params = optimization.x\n",
    "    else:\n",
    "        lo_bound = []\n",
    "        up_bound = []\n",
    "        for bound in bounds:\n",
    "            lo_bound.append(bound[0])\n",
    "            up_bound.append(bound[1])\n",
    "        params, _ = curve_fit(f=SEIRModel_solver, xdata=x_fit, ydata=y_fit,\n",
    "                                method='trf', bounds=(lo_bound, up_bound))\n",
    "    r0, dur_inf, dur_inc = params\n",
    "    \n",
    "    total_deaths = integrate.quad(lambda x: CFR*SEIRModel((x,), S0, E0, I0, R0, r0, dur_inf, dur_inc)[2], 0, time_horizon)[0]\n",
    "\n",
    "    print('total deaths', total_deaths)\n",
    "    print('r0', params[0])\n",
    "    print('infection period in days', params[1])\n",
    "    print('incubation period in days', params[2])\n",
    "    print('mae ',int(np.mean(np.abs(y_fit-SEIRModel_solver(x_fit, *params)))))\n",
    "    return r0, dur_inf, dur_inc\n",
    "\n",
    "def plot_SEIR(time_range, E0, I0, R0, r0, dur_inf, dur_inc, y = None):\n",
    "    \n",
    "    S0 = N - I0 - R0 - E0\n",
    "    S, E, I, R = SEIRModel(time_range, S0, E0, I0, R0, r0, dur_inf, dur_inc)\n",
    "    print('max number of infections ', int(np.max(I)))\n",
    "    print('peak of infections ', np.argmax(I))\n",
    "    print('max number of exposed ', int(np.max(E)))\n",
    "    print('max number of recovered ', int(np.max(R)))\n",
    "    \n",
    "    fig, ax1 = plt.subplots()\n",
    "    if y is not None:\n",
    "        ax1.plot(y,'x', label='actual infected')\n",
    "    ax1.plot(I,'b', label='infected - max '+str(int(np.max(I))))\n",
    "    #ax1.plot(R,'g', label='recovered')\n",
    "    #x1.plot(E,'y', label='exposed')\n",
    "    ax1.legend(loc='upper left')\n",
    "\n",
    "    "
   ]
  },
  {
   "cell_type": "markdown",
   "metadata": {},
   "source": [
    "### check model params"
   ]
  },
  {
   "cell_type": "code",
   "execution_count": 43,
   "metadata": {},
   "outputs": [
    {
     "name": "stdout",
     "output_type": "stream",
     "text": [
      "max number of infections  3151525\n",
      "peak of infections  121\n",
      "max number of exposed  5282738\n",
      "max number of recovered  47437516\n"
     ]
    },
    {
     "data": {
      "image/png": "[encoded data removed]",
      "text/plain": [
       "<Figure size 432x288 with 1 Axes>"
      ]
     },
     "metadata": {
      "needs_background": "light"
     },
     "output_type": "display_data"
    }
   ],
   "source": [
    "cases_multiplier = 10\n",
    "df = pd.read_csv('../data/dpc-covid19-ita-andamento-nazionale.csv').drop('stato',1)\n",
    "N = 61836230\n",
    "I0 = 2209\n",
    "R0 = 0\n",
    "E0 = 0\n",
    "time_range = range(250)\n",
    "r0, dur_inf, dur_inc = (1.9, 3.61, 5.95)\n",
    "plot_SEIR(time_range, E0, I0, R0, r0, dur_inf, dur_inc)"
   ]
  },
  {
   "cell_type": "markdown",
   "metadata": {},
   "source": [
    "### calibrate to italian case"
   ]
  },
  {
   "cell_type": "code",
   "execution_count": 46,
   "metadata": {},
   "outputs": [
    {
     "name": "stdout",
     "output_type": "stream",
     "text": [
      "total deaths 10276.499999999998\n",
      "r0 4.24780480992618\n",
      "infection period in days 11.919409784602582\n",
      "incubation period in days 1.0211835394073914\n",
      "mae  28884\n",
      "max number of infections  24008046\n",
      "peak of infections  54\n",
      "max number of exposed  3182991\n",
      "max number of recovered  60893100\n"
     ]
    },
    {
     "data": {
      "image/png": "[encoded data removed]",
      "text/plain": [
       "<Figure size 432x288 with 1 Axes>"
      ]
     },
     "metadata": {
      "needs_background": "light"
     },
     "output_type": "display_data"
    }
   ],
   "source": [
    "cases_multiplier = 10\n",
    "df = pd.read_csv('../data/dpc-covid19-ita-andamento-nazionale.csv').drop('stato',1)\n",
    "N = 61836230# 60431283\n",
    "I0 = cases_multiplier*df['totale_attualmente_positivi'].iloc[0]\n",
    "y_fit = cases_multiplier * df['totale_attualmente_positivi'].values\n",
    "R0 = 0\n",
    "E0 = 0\n",
    "time_range = range(250)\n",
    "r0, dur_inf, dur_inc = calibrate_SEIR(y_fit = y_fit,               \n",
    "                                      N = N,\n",
    "                                      I0 = I0,\n",
    "                                      R0 = R0,\n",
    "                                      E0 = E0,\n",
    "                                      CFR = 0.0186,\n",
    "                                      time_horizon = 365,\n",
    "                                      bounds= [(0,5), (1, 30), (1, 30)],\n",
    "                                      use_differential_evolution = False)\n",
    "plot_SEIR(time_range, E0, I0, R0, r0, dur_inf, dur_inc, y_fit)"
   ]
  },
  {
   "cell_type": "markdown",
   "metadata": {},
   "source": [
    "## SEIRD Model definition"
   ]
  },
  {
   "cell_type": "code",
   "execution_count": 69,
   "metadata": {
    "scrolled": true
   },
   "outputs": [],
   "source": [
    "def SEIRDModel(t, S0, E0, I0, R0, D0, r0, dur_inf, dur_inc, theta):\n",
    "    # SEIR model differential equations\n",
    "    def SEIRD_deriv(y, t, r0, dur_inf, dur_inc, theta):\n",
    "        S, E, I, R, D = y\n",
    "        alpha = 1/dur_inc\n",
    "        gamma = 1/dur_inf\n",
    "        beta = r0 * (gamma + theta)\n",
    "        dSdt = -beta * S * I/N\n",
    "        dEdt = beta * S * I/N - alpha * E\n",
    "        dIdt = alpha * E - gamma * I - theta * I\n",
    "        dRdt = gamma * I\n",
    "        dDdt = theta * I\n",
    "        return dSdt, dEdt, dIdt, dRdt, dDdt\n",
    "    # Initial conditions vector\n",
    "    y0 = S0, E0, I0, R0, D0\n",
    "    # Integrate the SIR equations over time t\n",
    "    ret = odeint(SEIRD_deriv, y0, t, args=(r0, dur_inf, dur_inc, theta))\n",
    "    S, E, I, R, D = ret.T\n",
    "    return S, E, I, R, D\n",
    "\n",
    "def calibrate_SEIRD(y_fit,\n",
    "                   N,\n",
    "                   I0,\n",
    "                   R0 = 0,\n",
    "                   E0 = 0,\n",
    "                   D0 = 0,                   \n",
    "                   time_horizon = 365,\n",
    "                   bounds= [(0,5), (1, 30), (1, 30), (0,1.)],\n",
    "                   use_differential_evolution = True):\n",
    "    \n",
    "    # SEIR model differential equations\n",
    "    def SEIRD_deriv(y, t, r0, dur_inf, dur_inc, theta):\n",
    "        S, E, I, R, D = y\n",
    "        alpha = 1/dur_inc\n",
    "        gamma = 1/dur_inf\n",
    "        beta = r0 * (gamma + theta)\n",
    "        dSdt = -beta * S * I/N\n",
    "        dEdt = beta * S * I/N - alpha * E\n",
    "        dIdt = alpha * E - gamma * I - theta * I\n",
    "        dRdt = gamma * I\n",
    "        dDdt = theta * I\n",
    "        return dSdt, dEdt, dIdt, dRdt, dDdt\n",
    "\n",
    "    def SEIRDModel_solver(t, r0, dur_inf, dur_inc, theta):\n",
    "        # Initial conditions vector\n",
    "        y0 = S0, E0, I0, R0, D0\n",
    "        # Integrate the SIR equations over time t\n",
    "        ret = odeint(SEIRD_deriv, y0, t, args=(r0, dur_inf, dur_inc, theta))\n",
    "        S, E, I, R, D = ret.T\n",
    "        return D\n",
    "\n",
    "    def diff_ev_solver(params):\n",
    "        r0, dur_inf, dur_inc, theta = params\n",
    "        return np.mean(np.abs(SEIRDModel_solver(x_fit, r0, dur_inf, dur_inc, theta) - y_fit))    \n",
    "    \n",
    "    x_fit = np.linspace(0, len(y_fit), len(y_fit))\n",
    "    S0 = N - I0 - R0 - E0 - D0 # Initial susceptible population to infection.\n",
    "    if use_differential_evolution:\n",
    "        print('calibrating with genetic algorithm...')\n",
    "        optimization = differential_evolution(diff_ev_solver, bounds, popsize=150, maxiter=10000)\n",
    "        params = optimization.x\n",
    "    else:\n",
    "        lo_bound = []\n",
    "        up_bound = []\n",
    "        for bound in bounds:\n",
    "            lo_bound.append(bound[0])\n",
    "            up_bound.append(bound[1])\n",
    "        params, _ = curve_fit(f=SEIRDModel_solver, xdata=x_fit, ydata=y_fit,\n",
    "                                method='trf', bounds=(lo_bound, up_bound))\n",
    "    r0, dur_inf, dur_inc, theta = params\n",
    "    \n",
    "    #total_deaths = integrate.quad(lambda x: CFR*SEIRModel((x,), S0, E0, I0, R0, r0, dur_inf, dur_inc)[2], 0, 250)[0]\n",
    "\n",
    "    print('CFR ', theta)\n",
    "    print('r0', params[0])\n",
    "    print('infection period in days', params[1])\n",
    "    print('incubation period in days', params[2])\n",
    "    print('mae ',int(np.mean(np.abs(y_fit-SEIRDModel_solver(x_fit, *params)))))\n",
    "    return r0, dur_inf, dur_inc, theta\n",
    "\n",
    "def plot_SEIRD(time_range, E0, I0, R0, D0, r0, dur_inf, dur_inc, theta, y = None):\n",
    "    \n",
    "    S0 = N - I0 - R0 - E0 - D0\n",
    "    S, E, I, R, D = SEIRDModel(time_range, S0, E0, I0, R0, D0, r0, dur_inf, dur_inc, theta)\n",
    "    print('max number of infections ', int(np.max(I)))\n",
    "    print('peak of infections ', np.argmax(I))\n",
    "    print('max number of exposed ', int(np.max(E)))\n",
    "    print('max number of recovered ', int(np.max(R)))\n",
    "    print('max number of deaths ', int(np.max(D)))\n",
    "    \n",
    "    fig, ax1 = plt.subplots()\n",
    "    if y is not None:\n",
    "        ax1.plot(y,'x', label='actual infected')\n",
    "    ax1.plot(I,'b', label='infected - max '+str(int(np.max(I))))\n",
    "    ax1.plot(D,'r', label='deaths')\n",
    "    #x1.plot(E,'y', label='exposed')\n",
    "    ax1.legend(loc='upper left')\n",
    "\n",
    "    "
   ]
  },
  {
   "cell_type": "markdown",
   "metadata": {},
   "source": [
    "### check model params"
   ]
  },
  {
   "cell_type": "code",
   "execution_count": 70,
   "metadata": {
    "scrolled": true
   },
   "outputs": [
    {
     "name": "stdout",
     "output_type": "stream",
     "text": [
      "max number of infections  3048688\n",
      "peak of infections  118\n",
      "max number of exposed  5384145\n",
      "max number of recovered  45002592\n",
      "max number of deaths  2436890\n"
     ]
    },
    {
     "data": {
      "image/png": "[encoded data removed]",
      "text/plain": [
       "<Figure size 432x288 with 1 Axes>"
      ]
     },
     "metadata": {
      "needs_background": "light"
     },
     "output_type": "display_data"
    }
   ],
   "source": [
    "cases_multiplier = 10\n",
    "df = pd.read_csv('../data/dpc-covid19-ita-andamento-nazionale.csv').drop('stato',1)\n",
    "N = 61836230\n",
    "I0 = 2209\n",
    "R0 = 0\n",
    "E0 = 0\n",
    "D0 = 0\n",
    "time_range = range(250)\n",
    "r0, dur_inf, dur_inc, theta = (1.9, 3.61, 5.95, 0.015)\n",
    "plot_SEIRD(time_range, E0, I0, R0, D0, r0, dur_inf, dur_inc, theta)"
   ]
  },
  {
   "cell_type": "markdown",
   "metadata": {},
   "source": [
    "### calibrate to italian case"
   ]
  },
  {
   "cell_type": "code",
   "execution_count": 72,
   "metadata": {},
   "outputs": [
    {
     "name": "stdout",
     "output_type": "stream",
     "text": [
      "CFR  0.020968687479594923\n",
      "r0 3.6297670259028996\n",
      "infection period in days 1.042744660452096\n",
      "incubation period in days 12.21140300105332\n",
      "mae  79\n",
      "max number of infections  1755130\n",
      "peak of infections  60\n",
      "max number of exposed  21087366\n",
      "max number of recovered  58726640\n",
      "max number of deaths  1284057\n"
     ]
    },
    {
     "data": {
      "image/png": "[encoded data removed]",
      "text/plain": [
       "<Figure size 432x288 with 1 Axes>"
      ]
     },
     "metadata": {
      "needs_background": "light"
     },
     "output_type": "display_data"
    }
   ],
   "source": [
    "cases_multiplier = 10\n",
    "df = pd.read_csv('../data/dpc-covid19-ita-andamento-nazionale.csv').drop('stato',1)\n",
    "N = 61836230# 60431283\n",
    "I0 = cases_multiplier*df['totale_attualmente_positivi'].iloc[0]\n",
    "y_fit = df['deceduti'].values\n",
    "R0 = 0\n",
    "E0 = 0\n",
    "D0 = 0\n",
    "time_range = range(250)\n",
    "r0, dur_inf, dur_inc, theta = calibrate_SEIRD(y_fit = y_fit,               \n",
    "                                      N = N,\n",
    "                                      I0 = I0,\n",
    "                                      R0 = R0,\n",
    "                                      E0 = E0,\n",
    "                                      D0 = D0,\n",
    "                                      time_horizon = 365,\n",
    "                                      bounds= [(0,5), (1, 30), (1, 30), (0,1)],\n",
    "                                      use_differential_evolution = False)\n",
    "plot_SEIRD(time_range, E0, I0, R0, D0, r0, dur_inf, dur_inc, theta, y_fit)"
   ]
  },
  {
   "cell_type": "code",
   "execution_count": null,
   "metadata": {},
   "outputs": [],
   "source": []
  },
  {
   "cell_type": "code",
   "execution_count": null,
   "metadata": {},
   "outputs": [],
   "source": []
  },
  {
   "cell_type": "code",
   "execution_count": null,
   "metadata": {},
   "outputs": [],
   "source": []
  },
  {
   "cell_type": "code",
   "execution_count": null,
   "metadata": {},
   "outputs": [],
   "source": []
  },
  {
   "cell_type": "code",
   "execution_count": null,
   "metadata": {},
   "outputs": [],
   "source": []
  },
  {
   "cell_type": "code",
   "execution_count": 161,
   "metadata": {},
   "outputs": [],
   "source": [
    "def func(y, t, N, I0, R0, D_incubation, D_infectious, D_recovery_mild, \n",
    "         D_hospital_lag, D_recovery_severe, D_death, P_SEVERE, CFR, \n",
    "         InterventionTime, InterventionAmt, duration):\n",
    "    \n",
    "    interpolation_steps = 40\n",
    "    steps = 110*interpolation_steps\n",
    "    dt = dt/interpolation_steps\n",
    "    sample_step = interpolation_steps\n",
    "# SEIR ODE\n",
    "    if (t > InterventionTime & t < InterventionTime + duration):\n",
    "        beta = (InterventionAmt)*R0/(D_infectious)\n",
    "    elif(t > InterventionTime + duration):\n",
    "        beta = 0.5*R0/(D_infectious)        \n",
    "    else:\n",
    "        beta = R0/(D_infectious)\n",
    "\n",
    "    a     = 1/D_incubation\n",
    "    gamma = 1/D_infectious\n",
    "\n",
    "    S         = y[0] # Susectable\n",
    "    E         = y[1] # Exposed\n",
    "    I         = y[2] # Infectious \n",
    "    Mild      = y[3] # Recovering (Mild)     \n",
    "    Severe    = y[4] # Recovering (Severe at home)\n",
    "    Severe_H  = y[5] # Recovering (Severe in hospital)\n",
    "    Fatal     = y[6] # Recovering (Fatal)\n",
    "    R_Mild    = y[7] # Recovered\n",
    "    R_Severe  = y[8] # Recovered\n",
    "    R_Fatal   = y[9] # Dead\n",
    "    p_severe  = P_SEVERE\n",
    "    p_fatal   = CFR\n",
    "    p_mild    = 1 - P_SEVERE - CFR\n",
    "    dS        = -beta*I*S\n",
    "    dE        =  beta*I*S - a*E\n",
    "    dI        =  a*E - gamma*I\n",
    "    dMild     =  p_mild*gamma*I   - (1/D_recovery_mild)*Mild\n",
    "    dSevere   =  p_severe*gamma*I - (1/D_hospital_lag)*Severe\n",
    "    dSevere_H =  (1/D_hospital_lag)*Severe - (1/D_recovery_severe)*Severe_H\n",
    "    dFatal    =  p_fatal*gamma*I  - (1/D_death)*Fatal\n",
    "    dR_Mild   =  (1/D_recovery_mild)*Mild\n",
    "    dR_Severe =  (1/D_recovery_severe)*Severe_H\n",
    "    dR_Fatal  =  (1/D_death)*Fatal\n",
    "    \n",
    "    return dS, dE, dI, dMild, dSevere, dSevere_H, dFatal, dR_Mild, dR_Severe, dR_Fatal"
   ]
  },
  {
   "cell_type": "code",
   "execution_count": 23,
   "metadata": {},
   "outputs": [],
   "source": [
    "#https://towardsdatascience.com/social-distancing-to-slow-the-coronavirus-768292f04296\n",
    "def base_seir_model(init_vals, params, t):\n",
    "    S_0, E_0, I_0, R_0 = init_vals\n",
    "    S, E, I, R = [S_0], [E_0], [I_0], [R_0]\n",
    "    alpha, beta, gamma = params\n",
    "    dt = t[1] - t[0]\n",
    "    for _ in t[1:]:\n",
    "        next_S = S[-1] - (beta*S[-1]*I[-1])*dt\n",
    "        next_E = E[-1] + (beta*S[-1]*I[-1] - alpha*E[-1])*dt\n",
    "        next_I = I[-1] + (alpha*E[-1] - gamma*I[-1])*dt\n",
    "        next_R = R[-1] + (gamma*I[-1])*dt\n",
    "        S.append(next_S)\n",
    "        E.append(next_E)\n",
    "        I.append(next_I)\n",
    "        R.append(next_R)\n",
    "    return np.stack([S, E, I, R]).T"
   ]
  },
  {
   "cell_type": "code",
   "execution_count": 28,
   "metadata": {},
   "outputs": [],
   "source": [
    "# Define parameters\n",
    "t_max = 100\n",
    "dt = .1\n",
    "t = np.linspace(0, t_max, int(t_max/dt) + 1)\n",
    "N = 10000\n",
    "init_vals = 1 - 1/N, 1/N, 0, 0\n",
    "alpha = 0.2\n",
    "beta = 1.75\n",
    "gamma = 0.5\n",
    "params = alpha, beta, gamma\n",
    "# Run simulation\n",
    "results = base_seir_model(init_vals, params, t)"
   ]
  },
  {
   "cell_type": "code",
   "execution_count": 29,
   "metadata": {},
   "outputs": [
    {
     "data": {
      "text/plain": [
       "[<matplotlib.lines.Line2D at 0x7f90bc3e29d0>]"
      ]
     },
     "execution_count": 29,
     "metadata": {},
     "output_type": "execute_result"
    },
    {
     "data": {
      "image/png": "[encoded data removed]",
      "text/plain": [
       "<Figure size 432x288 with 1 Axes>"
      ]
     },
     "metadata": {
      "needs_background": "light"
     },
     "output_type": "display_data"
    }
   ],
   "source": [
    "plt.plot(results[0], label='S')\n",
    "plt.plot(results[1], label='E')\n",
    "plt.plot(results[2], label='I')\n",
    "plt.plot(results[3], label='R')"
   ]
  },
  {
   "cell_type": "code",
   "execution_count": null,
   "metadata": {},
   "outputs": [],
   "source": []
  }
 ],
 "metadata": {
  "kernelspec": {
   "display_name": "Python 3",
   "language": "python",
   "name": "python3"
  },
  "language_info": {
   "codemirror_mode": {
    "name": "ipython",
    "version": 3
   },
   "file_extension": ".py",
   "mimetype": "text/x-python",
   "name": "python",
   "nbconvert_exporter": "python",
   "pygments_lexer": "ipython3",
   "version": "3.7.6"
  },
  "toc": {
   "base_numbering": 1,
   "nav_menu": {},
   "number_sections": true,
   "sideBar": true,
   "skip_h1_title": false,
   "title_cell": "Table of Contents",
   "title_sidebar": "Contents",
   "toc_cell": false,
   "toc_position": {},
   "toc_section_display": true,
   "toc_window_display": false
  },
  "varInspector": {
   "cols": {
    "lenName": 16,
    "lenType": 16,
    "lenVar": 40
   },
   "kernels_config": {
    "python": {
     "delete_cmd_postfix": "",
     "delete_cmd_prefix": "del ",
     "library": "var_list.py",
     "varRefreshCmd": "print(var_dic_list())"
    },
    "r": {
     "delete_cmd_postfix": ") ",
     "delete_cmd_prefix": "rm(",
     "library": "var_list.r",
     "varRefreshCmd": "cat(var_dic_list()) "
    }
   },
   "types_to_exclude": [
    "module",
    "function",
    "builtin_function_or_method",
    "instance",
    "_Feature"
   ],
   "window_display": false
  }
 },
 "nbformat": 4,
 "nbformat_minor": 4
}
