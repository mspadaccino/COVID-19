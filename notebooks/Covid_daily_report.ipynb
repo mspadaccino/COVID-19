{
 "cells": [
  {
   "cell_type": "markdown",
   "metadata": {
    "toc": true
   },
   "source": [
    "<h1>COVID19 World and Italy monitor<span class=\"tocSkip\"></span></h1>\n",
    "<div class=\"toc\"><ul class=\"toc-item\"><li><span><a href=\"#Notebook-Description\" data-toc-modified-id=\"Notebook-Description-1\"><span class=\"toc-item-num\">1&nbsp;&nbsp;</span>Notebook Description</a></span></li><li><span><a href=\"#Italy-Monitor\" data-toc-modified-id=\"Italy-Monitor-2\"><span class=\"toc-item-num\">2&nbsp;&nbsp;</span>Italy Monitor</a></span><ul class=\"toc-item\"><li><span><a href=\"#provinces-analysis\" data-toc-modified-id=\"provinces-analysis-2.1\"><span class=\"toc-item-num\">2.1&nbsp;&nbsp;</span>provinces analysis</a></span></li><li><span><a href=\"#regional-analysis\" data-toc-modified-id=\"regional-analysis-2.2\"><span class=\"toc-item-num\">2.2&nbsp;&nbsp;</span>regional analysis</a></span></li><li><span><a href=\"#Model-fitting\" data-toc-modified-id=\"Model-fitting-2.3\"><span class=\"toc-item-num\">2.3&nbsp;&nbsp;</span>Model fitting</a></span></li></ul></li><li><span><a href=\"#World-Monitor\" data-toc-modified-id=\"World-Monitor-3\"><span class=\"toc-item-num\">3&nbsp;&nbsp;</span>World Monitor</a></span><ul class=\"toc-item\"><li><span><a href=\"#Country-comparisons\" data-toc-modified-id=\"Country-comparisons-3.1\"><span class=\"toc-item-num\">3.1&nbsp;&nbsp;</span>Country comparisons</a></span></li><li><span><a href=\"#Model-fitting\" data-toc-modified-id=\"Model-fitting-3.2\"><span class=\"toc-item-num\">3.2&nbsp;&nbsp;</span>Model fitting</a></span></li><li><span><a href=\"#SIR-epidemic-model\" data-toc-modified-id=\"SIR-epidemic-model-3.3\"><span class=\"toc-item-num\">3.3&nbsp;&nbsp;</span>SIR epidemic model</a></span></li></ul></li></ul></div>"
   ]
  },
  {
   "cell_type": "markdown",
   "metadata": {},
   "source": [
    "# Notebook Description"
   ]
  },
  {
   "cell_type": "markdown",
   "metadata": {},
   "source": [
    "<img src=\"image.png\">"
   ]
  },
  {
   "cell_type": "markdown",
   "metadata": {},
   "source": [
    "This repo contains analysis built around data about global and italian diffusion of COVID-19 that might be useful in monitoring the spread of coronavirus around the world.\n",
    "This monitor does not by any means intend to provide any attempt to predict future evolutions of the virus but only to offer a visual tool to capture its dynamics.\n",
    "Data are automatically downloaded from publicly available repos such as:\n",
    "\n",
    "1) John Hopkins CSSE (https://github.com/CSSEGISandData/COVID-19) for world data\n",
    "\n",
    "2) Protezione Civile Italiana (https://github.com/pcm-dpc/COVID-19) for national data\n",
    "\n",
    "Just scroll down the notebook to perform various analysis on both worldwide and italian data\n",
    "\n",
    "Code available at my repo:\n",
    "https://github.com/mspadaccino/COVID-19\n",
    "\n",
    "(jupyter notebook by Maurizio Spadaccino, april 2020)"
   ]
  },
  {
   "cell_type": "code",
   "execution_count": 48,
   "metadata": {},
   "outputs": [
    {
     "name": "stdout",
     "output_type": "stream",
     "text": [
      "The autoreload extension is already loaded. To reload it, use:\n",
      "  %reload_ext autoreload\n"
     ]
    }
   ],
   "source": [
    "%load_ext autoreload\n",
    "%autoreload 2\n",
    "import sys\n",
    "import os\n",
    "import types\n",
    "sys.path.append('../')\n",
    "import pandas as pd\n",
    "import numpy as np\n",
    "import matplotlib.pyplot as plt\n",
    "import matplotlib.dates as mdates\n",
    "from src import tools\n",
    "from src.tools import func_log, func_gomp, func_exp, func_ext_log\n",
    "from src.models import calibrate_SIR\n",
    "import inspect\n",
    "import plotly.express as px\n",
    "from sklearn.linear_model import LinearRegression\n",
    "from scipy.integrate import odeint\n",
    "from scipy.optimize import curve_fit\n",
    "from scipy.optimize import differential_evolution\n",
    "from src.data_downloader import DATA_REPOS, download_from_repo\n",
    "from matplotlib.ticker import ScalarFormatter\n",
    "import matplotlib.ticker as ticker\n",
    "import ipywidgets as widgets\n",
    "from ipywidgets import interact, interactive, fixed, interact_manual\n",
    "import plotly.graph_objects as go\n",
    "pd.set_option('display.max_columns', None)\n",
    "from scipy.optimize import differential_evolution"
   ]
  },
  {
   "cell_type": "code",
   "execution_count": 14,
   "metadata": {},
   "outputs": [],
   "source": [
    "dest=os.path.expanduser(os.path.join('~','Documents', 'projects', 'COVID-19', 'data'))"
   ]
  },
  {
   "cell_type": "code",
   "execution_count": 15,
   "metadata": {},
   "outputs": [
    {
     "name": "stdout",
     "output_type": "stream",
     "text": [
      "updating datasets from repos...\n"
     ]
    }
   ],
   "source": [
    "print('updating datasets from repos...')"
   ]
  },
  {
   "cell_type": "code",
   "execution_count": 16,
   "metadata": {},
   "outputs": [
    {
     "name": "stdout",
     "output_type": "stream",
     "text": [
      "downloading world data\n",
      "last commit  2020-04-05 01:55:38\n"
     ]
    }
   ],
   "source": [
    "print('downloading world data')\n",
    "download_from_repo(DATA_REPOS['world']['url'], filenames=DATA_REPOS['world']['streams'], dest=dest)"
   ]
  },
  {
   "cell_type": "code",
   "execution_count": 17,
   "metadata": {},
   "outputs": [
    {
     "name": "stdout",
     "output_type": "stream",
     "text": [
      "downloading Italian data\n",
      "last commit  2020-04-05 18:20:27\n"
     ]
    }
   ],
   "source": [
    "print('downloading Italian data')\n",
    "download_from_repo(DATA_REPOS['italy']['url'], filenames=DATA_REPOS['italy']['streams'], dest=dest)"
   ]
  },
  {
   "cell_type": "code",
   "execution_count": 23,
   "metadata": {
    "scrolled": true
   },
   "outputs": [],
   "source": [
    "df_naz = pd.read_csv('../data/dpc-covid19-ita-andamento-nazionale.csv').drop('stato',1)\n",
    "reg = pd.read_csv('../data/dpc-covid19-ita-regioni.csv')\n",
    "prov = pd.read_csv('../data/dpc-covid19-ita-province.csv').drop('stato',1)\n",
    "df_naz.index = pd.to_datetime(df_naz.index)\n",
    "reg['data'] = pd.to_datetime(reg['data'])\n",
    "prov['data'] = pd.to_datetime(prov['data'])\n",
    "df_world_confirmed = pd.read_csv('../data/time_series_covid19_confirmed_global.csv')\n",
    "df_world_deaths = pd.read_csv('../data/time_series_covid19_deaths_global.csv')\n",
    "df_world_recovered = pd.read_csv('../data/time_series_covid19_recovered_global.csv')\n",
    "populations = pd.read_csv('../data/API_SP.POP.TOTL_DS2_en_csv_v2.csv', skiprows=4, engine='python').set_index('Country Name')['2018']\n",
    "ita_populations = pd.read_csv('../data/popitaregions.csv')\n",
    "df_world_confirmed['pop'] = df_world_confirmed['Country/Region'].map(populations)\n",
    "df_world_deaths['pop'] = df_world_deaths['Country/Region'].map(populations)\n",
    "df_world_recovered['pop'] = df_world_recovered['Country/Region'].map(populations)\n",
    "df_naz = tools.add_extra_features(df_naz)\n",
    "regions = reg.groupby('denominazione_regione')\n",
    "df_reg = {}\n",
    "df_reg['Italy'] = df_naz\n",
    "for item in regions.groups:\n",
    "    df_reg[item] = tools.add_extra_features(regions.get_group(item)).replace((np.inf, np.nan), 0)\n",
    "\n",
    "provinces = prov.groupby('sigla_provincia')\n",
    "df_prov = pd.DataFrame()\n",
    "for item in provinces.groups:\n",
    "    df_prov = pd.concat((df_prov,tools.add_extra_features(provinces.get_group(item)).replace((np.inf, np.nan), 0)),0)"
   ]
  },
  {
   "cell_type": "code",
   "execution_count": 24,
   "metadata": {},
   "outputs": [],
   "source": [
    "pop_replace = [('US', 'United States'), ('Korea, South', 'Korea, Rep.'), \n",
    "               ('Venezuela','Venezuela, RB'), ('Bahamas','Bahamas, The'), \n",
    "               ('Iran','Iran, Islamic Rep.'), ('Russia','Russian Federation'), \n",
    "               ('Egypt','Egypt, Arab Rep.'), ('Syria','Syrian Arab Republic'),\n",
    "               ('Slovakia','Slovak Republic'),('Czechia','Czech Republic'),\n",
    "               ('Congo (Brazzaville)','Congo, Rep.'),\n",
    "               ('Congo (Kinshasa)','Congo, Dem. Rep.'),('Kyrgyzstan','Kyrgyz Republic'),\n",
    "               ('Laos','Lao PDR'),('Brunei','Brunei Darussalam'),\n",
    "               ('Gambia', 'Gambia, The')]\n",
    "for item in pop_replace:\n",
    "    try:\n",
    "        populations.loc[item[0]] = populations.loc[item[1]]\n",
    "        del populations[item[1]]\n",
    "    except Exception as e:\n",
    "        print(e)\n",
    "        \n",
    "pops = ita_populations.loc[ita_populations['Regione']=='Trentino-Alto Adige', ['Popolazione','Superficie sqkm','ab/sqkm','Numero_comuni','Numero_province']].values/2\n",
    "newdf = pd.DataFrame(index = ['P.A. Trento', 'P.A. Bolzano', 'Italy'], columns=ita_populations.set_index('Regione').columns)\n",
    "newdf.loc['P.A. Trento']=pops[0]\n",
    "newdf.loc['P.A. Bolzano']=pops[0]\n",
    "newdf.loc['Italy']= [populations.loc['Italy'], 0., 0., 0., 0.]\n",
    "newdf.reset_index(inplace=True)\n",
    "newdf.rename(columns={'index': 'Regione'}, inplace=True)\n",
    "ita_populations = pd.concat((ita_populations,newdf)).set_index('Regione')"
   ]
  },
  {
   "cell_type": "code",
   "execution_count": 25,
   "metadata": {},
   "outputs": [],
   "source": [
    "data_columns = ['ricoverati_con_sintomi','terapia_intensiva','totale_ospedalizzati','isolamento_domiciliare','totale_positivi',\n",
    "           'variazione_totale_positivi','nuovi_positivi','dimessi_guariti','deceduti','totale_casi','tamponi',\n",
    "           'delta_totale_casi','%delta_totale_casi','growth_factor','delta_dimessi_guariti','%delta_dimessi_guariti',\n",
    "           'delta_deceduti','%delta_deceduti','deceduti_su_tot','deceduti_su_dimessi']\n",
    "prov_data_columns = ['totale_casi', 'delta_totale_casi', '%delta_totale_casi', 'growth_factor']\n",
    "model_columns = ['ricoverati_con_sintomi', 'terapia_intensiva', 'totale_ospedalizzati', 'isolamento_domiciliare', \n",
    "                 'totale_positivi','nuovi_positivi', 'dimessi_guariti', 'deceduti', 'delta_deceduti', 'totale_casi', \n",
    "                 'tamponi', 'deceduti_su_tot', 'deceduti_su_dimessi']\n",
    "models = {'gompertz': func_gomp, 'logistic':func_log, 'extended logistic':func_ext_log, \n",
    "          'exponential':func_exp, 'log_linear': 'log', 'no_fit':'actual'}\n",
    "countries_columns = df_world_confirmed['Country/Region'].unique()\n",
    "countries_labels = ['confirmed', 'recovered', 'deaths']"
   ]
  },
  {
   "cell_type": "markdown",
   "metadata": {},
   "source": [
    "# Italy Monitor"
   ]
  },
  {
   "cell_type": "markdown",
   "metadata": {},
   "source": [
    "## provinces analysis"
   ]
  },
  {
   "cell_type": "markdown",
   "metadata": {},
   "source": [
    "In this section you can view on any selected date, the geographical distribution around the italian provinces.\n",
    "\n",
    "See which provinces show the highest number of selected cases for the day:"
   ]
  },
  {
   "cell_type": "code",
   "execution_count": 26,
   "metadata": {
    "scrolled": false
   },
   "outputs": [
    {
     "data": {
      "application/vnd.jupyter.widget-view+json": {
       "model_id": "20301cfd794d478fb6d4ebfc64f71daa",
       "version_major": 2,
       "version_minor": 0
      },
      "text/plain": [
       "interactive(children=(Dropdown(description='label', options=('totale_casi', 'delta_totale_casi', '%delta_total…"
      ]
     },
     "metadata": {},
     "output_type": "display_data"
    }
   ],
   "source": [
    "@interact\n",
    "def get_top_provinces(label= prov_data_columns, \n",
    "                      top_prov=widgets.IntSlider(min=1,max=20,step=1,value=10), date=widgets.DatePicker(\n",
    "                      description='Pick a Date',value=pd.to_datetime(df_prov.index.max())),\n",
    "                      show_map=True):\n",
    "    try:\n",
    "        df_prov.index = pd.to_datetime(df_prov.index)\n",
    "\n",
    "        if len(label) == 0:\n",
    "            label = prov_data_columns[:1]\n",
    "        label = list([label])\n",
    "\n",
    "        tempdf = df_prov.loc[str(date)][['sigla_provincia','denominazione_provincia', 'lat', 'long']+ label].sort_values(by=label, \n",
    "             ascending=False)[:top_prov].set_index('sigla_provincia')\n",
    "\n",
    "        if label == ['%delta_totale_casi']:\n",
    "            tempdf[label] = tempdf[label]*100.\n",
    "\n",
    "        if show_map:\n",
    "            fig = px.density_mapbox(tempdf, \n",
    "                        lat='lat', lon='long', z=label[0], radius=10, \n",
    "                        labels = label[0],\n",
    "                        hover_name='denominazione_provincia',\n",
    "                        zoom=4.5,  height=800,\n",
    "                        mapbox_style=\"open-street-map\",\n",
    "                        title='top {} provinces on day {} for {}'.format(top_prov, date.strftime(\"%m/%d/%Y\"), label[0])\n",
    "               )\n",
    "            fig.show()\n",
    "        else:\n",
    "            fig = px.bar(tempdf[label].reset_index(), x=label[0], y='sigla_provincia', orientation='h')\n",
    "            fig.update_layout(showlegend=True,title='top {} provinces on day {}'.format(top_prov, date.strftime(\"%m/%d/%Y\")))\n",
    "            fig.show()\n",
    "    except Exception as e:\n",
    "        print(e)"
   ]
  },
  {
   "cell_type": "markdown",
   "metadata": {},
   "source": [
    "In this monitor, we can analyse virus statistics for the provinces in each of the selected region on a given date:"
   ]
  },
  {
   "cell_type": "code",
   "execution_count": 33,
   "metadata": {},
   "outputs": [
    {
     "data": {
      "application/vnd.jupyter.widget-view+json": {
       "model_id": "400b74c3f0064c558949654ca00cdaa6",
       "version_major": 2,
       "version_minor": 0
      },
      "text/plain": [
       "interactive(children=(Dropdown(description='label', options=('totale_casi', 'delta_totale_casi', '%delta_total…"
      ]
     },
     "metadata": {},
     "output_type": "display_data"
    }
   ],
   "source": [
    "@interact\n",
    "def get_prov_data(label=prov_data_columns, region = list(df_prov.denominazione_regione.unique()),date=widgets.DatePicker(\n",
    "                      description='Pick a Date',value=pd.to_datetime(df_prov.index.max()))):\n",
    "    try:\n",
    "        df_prov.index = pd.to_datetime(df_prov.index)\n",
    "        temp = df_prov.groupby('denominazione_regione').get_group(region).loc[date\n",
    "            ].set_index('denominazione_provincia')[label].sort_values()#.plot(kind='barh', \n",
    "        fig = px.bar(temp.reset_index(), x=label, y='denominazione_provincia', orientation='h')\n",
    "        fig.update_layout(showlegend=True,title='{} on day {}'.format(label, date.strftime(\"%m/%d/%Y\")))\n",
    "        fig.show()\n",
    "    except Exception as e:\n",
    "        print(e)"
   ]
  },
  {
   "cell_type": "markdown",
   "metadata": {},
   "source": [
    "## regional analysis"
   ]
  },
  {
   "cell_type": "markdown",
   "metadata": {},
   "source": [
    "In this monitor, you can compare data on a given date for one or more regions on both absolute and relative values). \n",
    "\n",
    "Please note: more items can be selected, on both region and data fields."
   ]
  },
  {
   "cell_type": "code",
   "execution_count": 34,
   "metadata": {},
   "outputs": [
    {
     "data": {
      "application/vnd.jupyter.widget-view+json": {
       "model_id": "d047e600d2214c5392884833059a3578",
       "version_major": 2,
       "version_minor": 0
      },
      "text/plain": [
       "interactive(children=(SelectMultiple(description='regions', options=('Italy', 'Abruzzo', 'Basilicata', 'Calabr…"
      ]
     },
     "metadata": {},
     "output_type": "display_data"
    }
   ],
   "source": [
    "@interact\n",
    "def get_values_for_day(regions = widgets.SelectMultiple(description=\"regions\",options=list(df_reg.keys())),\n",
    "                       labels = widgets.SelectMultiple(description=\"data\",options=data_columns),\n",
    "                       date=widgets.DatePicker(description='Pick a Date',value=pd.to_datetime(df_prov.index.max())),\n",
    "                       cases_per_mln_people=False):\n",
    "    try:\n",
    "        if len(regions) == 0:\n",
    "            regions = ['Italy']\n",
    "        regions = list(regions)    \n",
    "        if len(labels) == 0:\n",
    "            labels = ['nuovi_positivi', 'delta_deceduti','delta_dimessi_guariti']\n",
    "        labels = list(labels)\n",
    "        mult = 1.\n",
    "        fig = go.Figure()\n",
    "        for region in regions:    \n",
    "            if cases_per_mln_people: \n",
    "                mult = 1e06/ita_populations.loc[region, 'Popolazione']\n",
    "            for item in labels: \n",
    "                df_reg[region].index = pd.to_datetime(df_reg[region].index)\n",
    "            fig.add_traces(go.Bar(y=labels, x=df_reg[region][labels].loc[date]*mult, name=region, orientation='h'))\n",
    "            fig.update_layout(showlegend=True,title='day ' + str(date.strftime(\"%m/%d/%Y\")))\n",
    "\n",
    "        fig.show()\n",
    "    except Exception as e:\n",
    "        print(e)"
   ]
  },
  {
   "cell_type": "markdown",
   "metadata": {},
   "source": [
    "In this section, it is possible to visualize evolution of selected cases and compare it between different regions (multiple selection allowed). When flag relative_date is selected, time series are normalized on their x_axis in order to compare cases starting from their first appearance date."
   ]
  },
  {
   "cell_type": "code",
   "execution_count": 29,
   "metadata": {
    "scrolled": false
   },
   "outputs": [
    {
     "data": {
      "application/vnd.jupyter.widget-view+json": {
       "model_id": "dfa5d9077e7b4f1e9ee9dcf59f63cac0",
       "version_major": 2,
       "version_minor": 0
      },
      "text/plain": [
       "interactive(children=(SelectMultiple(description='regions', options=('Italy', 'Abruzzo', 'Basilicata', 'Calabr…"
      ]
     },
     "metadata": {},
     "output_type": "display_data"
    }
   ],
   "source": [
    "@interact\n",
    "def plt_region(regions = widgets.SelectMultiple(description=\"regions\",options=list(df_reg.keys())), \n",
    "               labels = widgets.SelectMultiple(description=\"data\",options=data_columns),\n",
    "              log=False, relative_dates=False, cases_per_mln_people=False):    \n",
    "    try:\n",
    "        if len(labels) == 0:\n",
    "            labels = data_columns[:1] \n",
    "        labels = list(labels)\n",
    "        if len(regions) == 0:\n",
    "            regions = ['Italy']\n",
    "        regions = list(regions)    \n",
    "        fig = go.Figure()\n",
    "        mult = 1.\n",
    "        for item in labels:\n",
    "            for region in regions:\n",
    "                if cases_per_mln_people: \n",
    "                    mult = 1e06/ita_populations.loc[region, 'Popolazione']\n",
    "                df_reg[region].index = pd.to_datetime(df_reg[region].index)\n",
    "                temp = df_reg[region]\n",
    "                if relative_dates: temp = temp.loc[~(temp[item]==0)].reset_index(drop=True).iloc[:-1] \n",
    "                if log:\n",
    "                    fig.add_traces(go.Scatter(x=temp.index, y=temp[item]*mult, name=item+'_'+region))\n",
    "                else:\n",
    "                    fig.add_traces(go.Bar(x=temp.index, y=temp[item]*mult, name=item+'_'+region))\n",
    "        fig.update_layout(showlegend=True)\n",
    "        if log: fig.update_layout(yaxis_type=\"log\")\n",
    "        fig.show()\n",
    "    except Exception as e:\n",
    "        print(e)   "
   ]
  },
  {
   "cell_type": "markdown",
   "metadata": {},
   "source": [
    "## Model fitting"
   ]
  },
  {
   "cell_type": "markdown",
   "metadata": {},
   "source": [
    "In this section, it is possible to fit various models in order to provide a visual forecasting according to the selected model.\n",
    "\n",
    "Various options are available:\n",
    "\n",
    "1) Generalized logistic\n",
    "\n",
    "2) Extended logistic\n",
    "\n",
    "3) Gompertz growth model\n",
    "\n",
    "4) Exponential model\n",
    "\n",
    "5) Logarithmic-linear regression model\n",
    "\n",
    "6) No fit (just actual data)\n",
    "\n",
    "for cases where there is no reason to expect a saturation (\"plateau\"), such as daily new infected data, it is possibile to fit the data a as a derivative by setting fit_differential flag to True\n"
   ]
  },
  {
   "cell_type": "code",
   "execution_count": 30,
   "metadata": {},
   "outputs": [
    {
     "data": {
      "application/vnd.jupyter.widget-view+json": {
       "model_id": "ad21c16ef94143f6954525e05770fefd",
       "version_major": 2,
       "version_minor": 0
      },
      "text/plain": [
       "interactive(children=(Dropdown(description='region', options=('Italy', 'Italy', 'Abruzzo', 'Basilicata', 'Cala…"
      ]
     },
     "metadata": {},
     "output_type": "display_data"
    }
   ],
   "source": [
    "@interact\n",
    "def get_model(region=['Italy']+list(df_reg.keys()), \n",
    "              start_fit=widgets.DatePicker(value=pd.to_datetime(df_naz.index[0])), \n",
    "              end_fit=widgets.DatePicker(value=pd.to_datetime(df_naz.index[-1])), fwd_look=50, \n",
    "              func=models, label = model_columns, stdev=widgets.IntSlider(min=0, max=3, value=1),\n",
    "              fit_differential=False):\n",
    "    try:\n",
    "        if region=='Italy':\n",
    "            df = df_naz\n",
    "        else:\n",
    "            df = df_reg[region]\n",
    "        df.index = pd.to_datetime(df.index)\n",
    "        start_fit = pd.Timestamp(start_fit)\n",
    "        end_fit = pd.Timestamp(end_fit)\n",
    "        y_fit = df[label].loc[start_fit:end_fit].dropna()\n",
    "        x_fit = range(len(y_fit.index))\n",
    "        if isinstance(func, types.FunctionType):\n",
    "            x_pred2 = range(len(df.index)+fwd_look)\n",
    "            x_pred1 = range(len(df.index))\n",
    "            sig = inspect.signature(func)\n",
    "            n_params = len(sig.parameters.items()) -1\n",
    "            if fit_differential:\n",
    "                y_fit = y_fit.cumsum()\n",
    "            params, params_cov = curve_fit(func, x_fit, y_fit, \n",
    "                                bounds=([0. for item in range(n_params)], \n",
    "                                        [np.inf for item in range(n_params)]), \n",
    "                                           method='trf', maxfev=10000)\n",
    "            stderr = np.sqrt(np.diag(params_cov))\n",
    "            params_up = params + stderr * stdev\n",
    "            params_down = params - stderr * stdev\n",
    "            y_pred1 = func(x_pred1, *params)\n",
    "            y_pred2 = func(x_pred2, *params)\n",
    "            y_pred_up = func(x_pred2, *params_up)\n",
    "            y_pred_down = func(x_pred2, *params_down)\n",
    "            if fit_differential:\n",
    "                y_pred1 = np.diff(y_pred1)\n",
    "                y_pred2 = np.diff(y_pred2)\n",
    "                y_pred_up = np.diff(y_pred_up)\n",
    "                y_pred_down = np.diff(y_pred_down)\n",
    "            errors = (y_pred_up - y_pred_down)\n",
    "            rmse = np.sqrt(np.mean((y_fit - func(x_fit, *params)) ** 2))\n",
    "        elif func=='log':\n",
    "            x_pred2 = range(len(df.index)+fwd_look)\n",
    "            x_pred1 = range(len(df.index))\n",
    "            model = LinearRegression()\n",
    "            model.fit(np.array(x_fit).reshape(-1,1), np.log(y_fit))\n",
    "            r2 = model.score(np.array(x_fit).reshape(-1, 1), np.log(y_fit))\n",
    "            params = model.coef_\n",
    "            y_pred1 = model.predict(np.array(x_pred1).reshape(-1,1))\n",
    "            y_pred2 = model.predict(np.array(x_pred2).reshape(-1,1))\n",
    "            errors = 0.\n",
    "        fig = go.Figure()\n",
    "        if isinstance(func, types.FunctionType):\n",
    "            fig.add_traces(go.Scatter(x=pd.date_range(start=df.index.min(), end=df.index.max()), y=df[label].values, \n",
    "                                  name=label, mode='markers'))\n",
    "            fig.add_traces(go.Scatter(x=pd.date_range(start=start_fit, end=end_fit), \n",
    "                                  y=y_pred1[:(end_fit-start_fit).days], name='model rmse: '+str(int(rmse))))\n",
    "            fig.add_traces(go.Scatter(x=pd.date_range(start=end_fit, end=df.index.max()+pd.Timedelta(str(fwd_look)+'d')), \n",
    "                                  y=y_pred2[(end_fit-start_fit).days:],error_y=dict(array=errors,color='green',\n",
    "                                        thickness=.2,width=0.5), name='forecast'))   \n",
    "        elif func=='log':\n",
    "            fig.add_traces(go.Scatter(x=pd.date_range(start=df.index.min(), \n",
    "                                end=df.index.max()), y=np.log(df[label].values), \n",
    "                                  name=label, mode='markers'))\n",
    "            fig.add_traces(go.Scatter(x=pd.date_range(start=start_fit, end=end_fit), \n",
    "                                  y=y_pred1[:(end_fit-start_fit).days], \n",
    "                                      name='model rmse: '+str(np.round(r2,2))))\n",
    "            fig.add_traces(go.Scatter(x=pd.date_range(start=end_fit, end=df.index.max()+pd.Timedelta(str(fwd_look)+'d')), \n",
    "                                  y=y_pred2[(end_fit-start_fit).days:]\n",
    "                                      , name='log forecast'))   \n",
    "\n",
    "        else:\n",
    "            fig.add_traces(go.Bar(x=pd.date_range(start=df.index.min(), end=df.index.max()), y=df[label].values, \n",
    "                                  name=label))\n",
    "\n",
    "\n",
    "        fig.update_layout(showlegend=True)\n",
    "        fig.show()\n",
    "    except Exception as e:\n",
    "        print(e)"
   ]
  },
  {
   "cell_type": "markdown",
   "metadata": {},
   "source": [
    "# World Monitor"
   ]
  },
  {
   "cell_type": "markdown",
   "metadata": {},
   "source": [
    "## Country comparisons"
   ]
  },
  {
   "cell_type": "markdown",
   "metadata": {},
   "source": [
    "In this section we provide comparison analysise between different countries"
   ]
  },
  {
   "cell_type": "code",
   "execution_count": 31,
   "metadata": {},
   "outputs": [
    {
     "data": {
      "application/vnd.jupyter.widget-view+json": {
       "model_id": "6ea498867eca488f97f4cafd36858516",
       "version_major": 2,
       "version_minor": 0
      },
      "text/plain": [
       "interactive(children=(SelectMultiple(description='regions', options=('Afghanistan', 'Albania', 'Algeria', 'And…"
      ]
     },
     "metadata": {},
     "output_type": "display_data"
    }
   ],
   "source": [
    "@interact\n",
    "def world_comparison(regions = widgets.SelectMultiple(description=\"regions\",options=countries_columns), \n",
    "               labels = widgets.SelectMultiple(description=\"data\",options=countries_labels),\n",
    "              log=False, relative_dates=False, cases_per_mln_people=False):    \n",
    "    try:\n",
    "        if len(labels) == 0:\n",
    "            labels = countries_labels[:1] \n",
    "        labels = list(labels)\n",
    "        if len(regions) == 0:\n",
    "            regions = ['Italy']\n",
    "        regions = list(regions)\n",
    "        df = {}\n",
    "        df['confirmed'] = df_world_confirmed.copy().groupby('Country/Region').sum().drop(['Lat', 'Long', 'pop'], 1).T\n",
    "        df['recovered'] = df_world_recovered.copy().groupby('Country/Region').sum().drop(['Lat', 'Long', 'pop'], 1).T        \n",
    "        df['deaths'] = df_world_deaths.copy().groupby('Country/Region').sum().drop(['Lat', 'Long', 'pop'], 1).T\n",
    "        mult = 1.\n",
    "        fig = go.Figure()\n",
    "        for item in labels:\n",
    "            for region in regions:            \n",
    "                temp = df[item][region]\n",
    "                temp.index = pd.to_datetime(temp.index)\n",
    "                if cases_per_mln_people: \n",
    "                    mult = 1e06/populations.loc[region]\n",
    "                if relative_dates: temp = temp.loc[~(temp==0)].reset_index(drop=True).iloc[:-1] \n",
    "                if log:\n",
    "                    fig.add_traces(go.Scatter(x=temp.index, y=temp*mult, name=item+'_'+region))\n",
    "                else:\n",
    "                    fig.add_traces(go.Bar(x=temp.index, y=temp*mult, name=item+'_'+region))\n",
    "        fig.update_layout(showlegend=True)\n",
    "        if log: fig.update_layout(yaxis_type=\"log\")\n",
    "        fig.show()\n",
    "    except Exception as e:\n",
    "        print(e)"
   ]
  },
  {
   "cell_type": "markdown",
   "metadata": {},
   "source": [
    "## Model fitting"
   ]
  },
  {
   "cell_type": "markdown",
   "metadata": {},
   "source": [
    "The same model fitting can be performed for world countries"
   ]
  },
  {
   "cell_type": "code",
   "execution_count": 32,
   "metadata": {},
   "outputs": [
    {
     "data": {
      "application/vnd.jupyter.widget-view+json": {
       "model_id": "0283820c164c4b439351a75c4b6b66e2",
       "version_major": 2,
       "version_minor": 0
      },
      "text/plain": [
       "interactive(children=(Dropdown(description='region', options=('Afghanistan', 'Albania', 'Algeria', 'Andorra', …"
      ]
     },
     "metadata": {},
     "output_type": "display_data"
    }
   ],
   "source": [
    "@interact\n",
    "def get_model_world(region=countries_columns, \n",
    "              start_fit=widgets.DatePicker(value=pd.to_datetime(df_naz.index[0])), \n",
    "              end_fit=widgets.DatePicker(value=pd.to_datetime(df_naz.index[-1])), fwd_look=50, \n",
    "              func=models, label = countries_labels, stdev=widgets.IntSlider(min=0, max=3, value=1),\n",
    "              fit_differential=False):\n",
    "    if label=='confirmed':\n",
    "        df = df_world_confirmed.groupby('Country/Region').sum().drop(['Lat', 'Long', 'pop'], 1).T[region]\n",
    "    elif label=='recovered':\n",
    "        df = df_world_recovered.groupby('Country/Region').sum().drop(['Lat', 'Long', 'pop'], 1).T[region]\n",
    "    elif label=='deaths':\n",
    "        df = df_world_deaths.groupby('Country/Region').sum().drop(['Lat', 'Long', 'pop'], 1).T[region]\n",
    "    try:\n",
    "        df.index = pd.to_datetime(df.index)\n",
    "        start_fit = pd.Timestamp(start_fit)\n",
    "        end_fit = pd.Timestamp(end_fit)\n",
    "        y_fit = df.loc[start_fit:end_fit].dropna()\n",
    "        x_fit = range(len(y_fit.index))\n",
    "        if isinstance(func, types.FunctionType):\n",
    "            x_pred2 = range(len(df.index)+fwd_look)\n",
    "            x_pred1 = range(len(df.index))\n",
    "            sig = inspect.signature(func)\n",
    "            n_params = len(sig.parameters.items()) -1\n",
    "            if fit_differential:\n",
    "                y_fit = y_fit.cumsum()\n",
    "            params, params_cov = curve_fit(func, x_fit, y_fit, \n",
    "                                bounds=([0. for item in range(n_params)], \n",
    "                                        [np.inf for item in range(n_params)]), \n",
    "                                           method='trf',  maxfev=10000)\n",
    "            stderr = np.sqrt(np.diag(params_cov))\n",
    "            params_up = params + stderr * stdev\n",
    "            params_down = params - stderr * stdev\n",
    "            y_pred1 = func(x_pred1, *params)\n",
    "            y_pred2 = func(x_pred2, *params)\n",
    "            y_pred_up = func(x_pred2, *params_up)\n",
    "            y_pred_down = func(x_pred2, *params_down)\n",
    "            if fit_differential:\n",
    "                y_pred1 = np.diff(y_pred1)\n",
    "                y_pred2 = np.diff(y_pred2)\n",
    "                y_pred_up = np.diff(y_pred_up)\n",
    "                y_pred_down = np.diff(y_pred_down)\n",
    "            errors = (y_pred_up - y_pred_down)\n",
    "            rmse = np.sqrt(np.mean((y_fit - func(x_fit, *params)) ** 2))\n",
    "        elif func=='log':\n",
    "            x_pred2 = range(len(df.index)+fwd_look)\n",
    "            x_pred1 = range(len(df.index))\n",
    "            model = LinearRegression()\n",
    "            model.fit(np.array(x_fit).reshape(-1,1), np.log1p(y_fit))\n",
    "            r2 = model.score(np.array(x_fit).reshape(-1, 1), np.log1p(y_fit))\n",
    "            params = model.coef_\n",
    "            y_pred1 = model.predict(np.array(x_pred1).reshape(-1,1))\n",
    "            y_pred2 = model.predict(np.array(x_pred2).reshape(-1,1))\n",
    "            errors = 0.\n",
    "        fig = go.Figure()\n",
    "        if isinstance(func, types.FunctionType):\n",
    "            fig.add_traces(go.Scatter(x=pd.date_range(start=df.index.min(), end=df.index.max()), y=df.values, \n",
    "                                  name=label, mode='markers'))\n",
    "            fig.add_traces(go.Scatter(x=pd.date_range(start=start_fit, end=end_fit), \n",
    "                                  y=y_pred1[:(end_fit-start_fit).days], name='model rmse: '+str(int(rmse))))\n",
    "            fig.add_traces(go.Scatter(x=pd.date_range(start=end_fit, end=df.index.max()+pd.Timedelta(str(fwd_look)+'d')), \n",
    "                                  y=y_pred2[(end_fit-start_fit).days:],error_y=dict(array=errors,color='green',\n",
    "                                        thickness=.2,width=0.5), name='forecast'))   \n",
    "        elif func=='log':\n",
    "            fig.add_traces(go.Scatter(x=pd.date_range(start=df.index.min(), \n",
    "                                end=df.index.max()), y=np.log1p(df.values), \n",
    "                                  name=label, mode='markers'))\n",
    "            fig.add_traces(go.Scatter(x=pd.date_range(start=start_fit, end=end_fit), \n",
    "                                  y=y_pred1[:(end_fit-start_fit).days], \n",
    "                                      name='model rmse: '+str(np.round(r2,2))))\n",
    "            fig.add_traces(go.Scatter(x=pd.date_range(start=end_fit, end=df.index.max()+pd.Timedelta(str(fwd_look)+'d')), \n",
    "                                  y=y_pred2[(end_fit-start_fit).days:]\n",
    "                                      , name='log forecast'))   \n",
    "\n",
    "        else:\n",
    "            fig.add_traces(go.Bar(x=pd.date_range(start=df.index.min(), end=df.index.max()), y=df.values, \n",
    "                                  name=label))\n",
    "\n",
    "        fig.update_layout(showlegend=True, title=region)\n",
    "        fig.show()\n",
    "    except Exception as e:\n",
    "        print(e)"
   ]
  },
  {
   "cell_type": "markdown",
   "metadata": {},
   "source": [
    "## SIR epidemic model"
   ]
  },
  {
   "cell_type": "code",
   "execution_count": 73,
   "metadata": {},
   "outputs": [
    {
     "name": "stdout",
     "output_type": "stream",
     "text": [
      "beta 5.542173764629654\n",
      "gamma 5.3660502032889985\n",
      "theta 0.04408935333277382\n",
      "r0 1.0328218251168624\n",
      "mae  87\n"
     ]
    },
    {
     "data": {
      "application/vnd.plotly.v1+json": {
       "config": {
        "plotlyServerURL": "https://plot.ly"
       },
       "data": [
        {
         "mode": "lines",
         "name": "Susceptibles",
         "type": "scatter",
         "x": [
          0,
          1,
          2,
          3,
          4,
          5,
          6,
          7,
          8,
          9,
          10,
          11,
          12,
          13,
          14,
          15,
          16,
          17,
          18,
          19,
          20,
          21,
          22,
          23,
          24,
          25,
          26,
          27,
          28,
          29,
          30,
          31,
          32,
          33,
          34,
          35,
          36,
          37,
          38,
          39,
          40,
          41,
          42,
          43,
          44,
          45,
          46,
          47,
          48,
          49,
          50,
          51,
          52,
          53,
          54,
          55,
          56,
          57,
          58,
          59,
          60,
          61,
          62,
          63,
          64,
          65,
          66,
          67,
          68,
          69,
          70,
          71,
          72,
          73,
          74,
          75,
          76,
          77,
          78,
          79,
          80,
          81,
          82,
          83,
          84,
          85,
          86,
          87,
          88,
          89,
          90,
          91,
          92,
          93,
          94,
          95,
          96,
          97,
          98,
          99,
          100,
          101,
          102,
          103,
          104,
          105,
          106,
          107,
          108,
          109,
          110,
          111,
          112,
          113,
          114,
          115,
          116,
          117,
          118,
          119,
          120,
          121,
          122,
          123,
          124,
          125,
          126,
          127,
          128,
          129,
          130,
          131,
          132,
          133,
          134,
          135,
          136,
          137,
          138,
          139,
          140,
          141,
          142,
          143,
          144,
          145,
          146,
          147,
          148,
          149
         ],
         "y": [
          60431054,
          60429714.76035812,
          60428117.87743294,
          60426214.07500814,
          60423944.77425434,
          60421240.38929304,
          60418018.331825785,
          60414180.68510997,
          60409611.505433746,
          60404173.71038472,
          60397705.51776666,
          60390016.40789508,
          60380882.600335576,
          60370042.06394093,
          60357189.123433456,
          60341968.790157,
          60323971.034706205,
          60302725.34479316,
          60277696.07392685,
          60248279.293836616,
          60213802.10990259,
          60173525.675737955,
          60126653.42254133,
          60072346.24539898,
          60009746.48408116,
          59938012.38433613,
          59856364.17980505,
          59764141.857728854,
          59660872.96677838,
          59546346.496305384,
          59420686.16317418,
          59284413.8758055,
          59138492.447180845,
          58984336.71078926,
          58823784.6989432,
          58659025.63432961,
          58492488.44269405,
          58326701.76493838,
          58164142.14159972,
          58007089.389694676,
          57857506.59657861,
          57716957.053093605,
          57586563.41520187,
          57467007.410816364,
          57358562.92271609,
          57261152.34556976,
          57174415.4928914,
          57097781.63551589,
          57030537.55347064,
          56971887.04633813,
          56920999.69585133,
          56877048.43582311,
          56839236.69116486,
          56806816.550796755,
          56779099.58130996,
          56755462.05824326,
          56735346.03974086,
          56718257.59165481,
          56703763.15925792,
          56691484.855311625,
          56681095.22625285,
          56672311.892285034,
          56664892.323349066,
          56658628.91525625,
          56653344.45934962,
          56648888.047786385,
          56645131.42304113,
          56641965.75814556,
          56639298.84089412,
          56637052.62794072,
          56635161.13215668,
          56633568.60570053,
          56632227.98385963,
          56631099.55542273,
          56630149.829948686,
          56629350.57493454,
          56628677.99830516,
          56628112.056027494,
          56627635.865661256,
          56627235.210596666,
          56626898.12113405,
          56626614.52085089,
          56626375.92813585,
          56626175.20452493,
          56626006.34250745,
          56625864.28671068,
          56625744.78326249,
          56625644.252887316,
          56625559.68406781,
          56625488.54306753,
          56625428.69819946,
          56625378.35607528,
          56625336.007946566,
          56625300.38455546,
          56625270.41813092,
          56625245.21041883,
          56625224.005776234,
          56625206.168535665,
          56625191.16396133,
          56625178.54222439,
          56625167.92492493,
          56625158.99374975,
          56625151.48093291,
          56625145.16122964,
          56625139.84516434,
          56625135.37334976,
          56625131.611711025,
          56625128.44746516,
          56625125.78573986,
          56625123.54672935,
          56625121.66330161,
          56625120.078985944,
          56625118.74627977,
          56625117.62522443,
          56625116.68220715,
          56625115.88895326,
          56625115.221678436,
          56625114.660375655,
          56625114.18821508,
          56625113.79103982,
          56625113.45694123,
          56625113.175901905,
          56625112.939495355,
          56625112.740633294,
          56625112.57335317,
          56625112.43263935,
          56625112.31427278,
          56625112.21470437,
          56625112.13094877,
          56625112.060494654,
          56625112.00122959,
          56625111.95137661,
          56625111.90944095,
          56625111.87416523,
          56625111.84449176,
          56625111.81953084,
          56625111.79853404,
          56625111.780871816,
          56625111.76601459,
          56625111.7535169,
          56625111.74300399,
          56625111.734160654,
          56625111.72672177,
          56625111.72046428,
          56625111.715200566,
          56625111.7107728,
          56625111.70704823,
          56625111.70391517,
          56625111.70127967,
          56625111.699062735
         ]
        },
        {
         "mode": "lines",
         "name": "Total Infections",
         "type": "scatter",
         "x": [
          0,
          1,
          2,
          3,
          4,
          5,
          6,
          7,
          8,
          9,
          10,
          11,
          12,
          13,
          14,
          15,
          16,
          17,
          18,
          19,
          20,
          21,
          22,
          23,
          24,
          25,
          26,
          27,
          28,
          29,
          30,
          31,
          32,
          33,
          34,
          35,
          36,
          37,
          38,
          39,
          40,
          41,
          42,
          43,
          44,
          45,
          46,
          47,
          48,
          49,
          50,
          51,
          52,
          53,
          54,
          55,
          56,
          57,
          58,
          59,
          60,
          61,
          62,
          63,
          64,
          65,
          66,
          67,
          68,
          69,
          70,
          71,
          72,
          73,
          74,
          75,
          76,
          77,
          78,
          79,
          80,
          81,
          82,
          83,
          84,
          85,
          86,
          87,
          88,
          89,
          90,
          91,
          92,
          93,
          94,
          95,
          96,
          97,
          98,
          99,
          100,
          101,
          102,
          103,
          104,
          105,
          106,
          107,
          108,
          109,
          110,
          111,
          112,
          113,
          114,
          115,
          116,
          117,
          118,
          119,
          120,
          121,
          122,
          123,
          124,
          125,
          126,
          127,
          128,
          129,
          130,
          131,
          132,
          133,
          134,
          135,
          136,
          137,
          138,
          139,
          140,
          141,
          142,
          143,
          144,
          145,
          146,
          147,
          148,
          149
         ],
         "y": [
          221,
          263.54012962365465,
          314.226578201419,
          374.6015225424201,
          446.4915729181506,
          532.0570432554473,
          633.8484050757809,
          754.8703517457665,
          898.6536314309336,
          1069.3343234903625,
          1271.739494862154,
          1511.477051072784,
          1795.0259687124546,
          2129.82083068022,
          2524.3214098617796,
          2988.0539026962197,
          3531.6051040940133,
          4166.54418636682,
          4905.239186085041,
          5760.527211928423,
          6745.190149601917,
          7871.183303097595,
          9148.566478643026,
          10584.100429498945,
          12179.50231131457,
          13929.407427122145,
          15819.167051747578,
          17822.71794898933,
          19900.880745278297,
          22000.54948991443,
          24055.283715846614,
          25987.7508563813,
          27714.252242593768,
          29151.189235767954,
          30222.845798003324,
          30869.403670751057,
          31053.829326727948,
          30766.321519660978,
          30025.421444717846,
          28875.570555250655,
          27381.649371824482,
          25621.601836048623,
          23678.502085226584,
          21633.309105914333,
          19559.189237742172,
          17517.816964442485,
          15557.631415627397,
          13713.732529753719,
          12008.952665442608,
          10455.629147741009,
          9057.671634711745,
          7812.62572391113,
          6713.542250833065,
          5750.560823941346,
          4912.168262998088,
          4186.157108208426,
          3560.3133427001685,
          3022.884431425074,
          2562.8739480115905,
          2170.2059353740515,
          1835.7952097074424,
          1551.5528082876137,
          1310.3489355788354,
          1105.9500247774265,
          932.9419354549217,
          786.6475643548002,
          663.0444157096595,
          558.6856518947764,
          470.62667684420927,
          396.3583007953413,
          333.7468492933969,
          280.9811433473735,
          236.5260096779492,
          199.0818121298895,
          167.54944034360315,
          141.0001703240497,
          118.64981159000888,
          99.83661887423997,
          84.00245395140371,
          70.67676515151243,
          59.462983776633315,
          50.026993355395376,
          42.08736465484033,
          35.407098248613096,
          29.786645573746195,
          25.05801599778451,
          21.079804160336366,
          17.73299490264343,
          14.917427312898079,
          12.548813879126222,
          10.556229490295488,
          8.8799962087255,
          7.469901842161594,
          6.283700281927111,
          5.285848666173392,
          4.446444670424078,
          3.7403318735143007,
          3.1463469241325135,
          2.6466860322630823,
          2.2263718050961634,
          1.872804743869773,
          1.5753857734985364,
          1.325198729697135,
          1.1147431968838954,
          0.9377097391888004,
          0.7887907782707156,
          0.6635215871555394,
          0.5581464300395222,
          0.469505982756512,
          0.39494263126849266,
          0.3322207982470295,
          0.2794599329118775,
          0.23507812914968101,
          0.19774469963759414,
          0.16634028335708304,
          0.13992328335637946,
          0.117701638708095,
          0.09900907827290457,
          0.08328513562214065,
          0.07005835915165334,
          0.058932167023163354,
          0.04957295928181022,
          0.04170011677548516,
          0.035077585270538475,
          0.029506798971902403,
          0.02482072733999089,
          0.020878866262421858,
          0.01756302447893599,
          0.01477378261660246,
          0.012427509260011784,
          0.010453855160334402,
          0.00879364366219495,
          0.007397095886347344,
          0.006222338425462326,
          0.005234148154460997,
          0.004402895676154638,
          0.003703657106852479,
          0.003115466960854163,
          0.0026206894445088514,
          0.002204489262546172,
          0.0018543868000903887,
          0.0015598846233707585,
          0.0013121537421221983,
          0.0011037659688371893,
          0.0009284728967814582,
          0.0007810187346233817,
          0.0006569824669330512,
          0.0005526447324978626,
          0.0004648768915665073,
          0.0003910481299331721
         ]
        },
        {
         "mode": "lines",
         "name": "Deaths",
         "type": "scatter",
         "x": [
          0,
          1,
          2,
          3,
          4,
          5,
          6,
          7,
          8,
          9,
          10,
          11,
          12,
          13,
          14,
          15,
          16,
          17,
          18,
          19,
          20,
          21,
          22,
          23,
          24,
          25,
          26,
          27,
          28,
          29,
          30,
          31,
          32,
          33,
          34,
          35,
          36,
          37,
          38,
          39,
          40,
          41,
          42,
          43,
          44,
          45,
          46,
          47,
          48,
          49,
          50,
          51,
          52,
          53,
          54,
          55,
          56,
          57,
          58,
          59,
          60,
          61,
          62,
          63,
          64,
          65,
          66,
          67,
          68,
          69,
          70,
          71,
          72,
          73,
          74,
          75,
          76,
          77,
          78,
          79,
          80,
          81,
          82,
          83,
          84,
          85,
          86,
          87,
          88,
          89,
          90,
          91,
          92,
          93,
          94,
          95,
          96,
          97,
          98,
          99,
          100,
          101,
          102,
          103,
          104,
          105,
          106,
          107,
          108,
          109,
          110,
          111,
          112,
          113,
          114,
          115,
          116,
          117,
          118,
          119,
          120,
          121,
          122,
          123,
          124,
          125,
          126,
          127,
          128,
          129,
          130,
          131,
          132,
          133,
          134,
          135,
          136,
          137,
          138,
          139,
          140,
          141,
          142,
          143,
          144,
          145,
          146,
          147,
          148,
          149
         ],
         "y": [
          7,
          17.654138667530297,
          30.358232031591108,
          45.50447972784747,
          63.55917792298692,
          85.076318739327,
          110.7135210767571,
          141.25061567040186,
          177.61122691570813,
          220.88768858319736,
          272.36959914675634,
          333.57625873381363,
          406.29309245040037,
          492.61195509794396,
          594.9748736626219,
          716.2202890598552,
          859.6301620837786,
          1028.975330579333,
          1228.555234133439,
          1463.2264853576994,
          1738.4128023453015,
          2060.0865775582115,
          2434.710045167432,
          2869.122037162059,
          3370.355282494885,
          3945.370008004999,
          4600.693407066369,
          5341.962521045143,
          6173.381087508754,
          7097.119181207038,
          8112.706199141204,
          9216.489349934278,
          10401.245521599025,
          11656.036820999598,
          12966.383438598417,
          14314.789439643528,
          15681.602197500843,
          17046.1260408001,
          18387.860501613763,
          19687.708655940816,
          20929.0080073748,
          22098.27359443771,
          23185.59871511089,
          24184.716865928734,
          25092.776569429207,
          25909.908719051673,
          26638.67474057929,
          27283.47555188187,
          27849.9836200994,
          28344.639439736846,
          28774.233895842463,
          29145.582620955116,
          29465.287652581887,
          29739.575107304066,
          29974.195992158333,
          30174.3753471834,
          30344.79777330024,
          30489.618169922484,
          30612.489125479406,
          30716.59828186121,
          30804.710759623962,
          30879.2131521231,
          30942.15675241897,
          30995.298526623003,
          31040.138967786093,
          31077.95641647507,
          31109.837731808522,
          31136.705394812605,
          31159.341247194094,
          31178.407136882095,
          31194.46276832325,
          31207.981066647302,
          31219.361345588324,
          31228.940564673852,
          31237.00292380885,
          31243.788021877022,
          31249.497786109394,
          31254.30234245345,
          31258.34498882857,
          31261.74640011202,
          31264.608181908585,
          31267.0158708633,
          31269.041467195722,
          31270.74557030388,
          31272.17917956682,
          31273.385211972687,
          31274.399780665222,
          31275.253272100104,
          31275.971252918902,
          31276.575233725896,
          31277.083311956176,
          31277.510713052943,
          31277.8702459842,
          31278.172686527203,
          31278.427099896482,
          31278.64111215135,
          31278.821138613966,
          31278.972576036904,
          31279.09996427955,
          31279.20712235297,
          31279.297262845943,
          31279.3730882171,
          31279.436871783815,
          31279.490525862293,
          31279.53565909114,
          31279.573624660967,
          31279.605560861775,
          31279.632425216594,
          31279.65502318763,
          31279.674032323073,
          31279.69002257152,
          31279.703473367343,
          31279.71478800585,
          31279.724305734937,
          31279.732311925814,
          31279.739046629784,
          31279.744711774973,
          31279.749477220375,
          31279.753485850968,
          31279.75685785822,
          31279.75969434626,
          31279.762080362627,
          31279.764087447948,
          31279.76577578151,
          31279.767195985332,
          31279.768390641875,
          31279.76939557099,
          31279.770240904112,
          31279.770951987026,
          31279.77155014054,
          31279.772053299344,
          31279.772476549806,
          31279.772832582443,
          31279.77313207237,
          31279.773383999283,
          31279.773595916842,
          31279.77377417908,
          31279.7739241309,
          31279.774050268312,
          31279.774156373405,
          31279.7742456277,
          31279.77432070739,
          31279.774383863318,
          31279.774436989206,
          31279.774481678007,
          31279.774519269624,
          31279.77455089114,
          31279.774577490756,
          31279.774599866083,
          31279.774618687814
         ]
        },
        {
         "mode": "lines",
         "name": "Actual",
         "type": "scatter",
         "x": [
          0,
          1,
          2,
          3,
          4,
          5,
          6,
          7,
          8,
          9,
          10,
          11,
          12,
          13,
          14,
          15,
          16,
          17,
          18,
          19,
          20,
          21,
          22,
          23,
          24,
          25,
          26,
          27,
          28,
          29
         ],
         "y": [
          7,
          10,
          12,
          17,
          21,
          29,
          34,
          52,
          79,
          107,
          148,
          197,
          233,
          366,
          463,
          631,
          827,
          1016,
          1266,
          1441,
          1809,
          2158,
          2503,
          2978,
          3405,
          4032,
          4825,
          5476,
          6077,
          6820
         ]
        }
       ],
       "layout": {
        "font": {
         "color": "#7f7f7f",
         "family": "Courier New, monospace",
         "size": 12
        },
        "template": {
         "data": {
          "bar": [
           {
            "error_x": {
             "color": "#2a3f5f"
            },
            "error_y": {
             "color": "#2a3f5f"
            },
            "marker": {
             "line": {
              "color": "#E5ECF6",
              "width": 0.5
             }
            },
            "type": "bar"
           }
          ],
          "barpolar": [
           {
            "marker": {
             "line": {
              "color": "#E5ECF6",
              "width": 0.5
             }
            },
            "type": "barpolar"
           }
          ],
          "carpet": [
           {
            "aaxis": {
             "endlinecolor": "#2a3f5f",
             "gridcolor": "white",
             "linecolor": "white",
             "minorgridcolor": "white",
             "startlinecolor": "#2a3f5f"
            },
            "baxis": {
             "endlinecolor": "#2a3f5f",
             "gridcolor": "white",
             "linecolor": "white",
             "minorgridcolor": "white",
             "startlinecolor": "#2a3f5f"
            },
            "type": "carpet"
           }
          ],
          "choropleth": [
           {
            "colorbar": {
             "outlinewidth": 0,
             "ticks": ""
            },
            "type": "choropleth"
           }
          ],
          "contour": [
           {
            "colorbar": {
             "outlinewidth": 0,
             "ticks": ""
            },
            "colorscale": [
             [
              0,
              "#0d0887"
             ],
             [
              0.1111111111111111,
              "#46039f"
             ],
             [
              0.2222222222222222,
              "#7201a8"
             ],
             [
              0.3333333333333333,
              "#9c179e"
             ],
             [
              0.4444444444444444,
              "#bd3786"
             ],
             [
              0.5555555555555556,
              "#d8576b"
             ],
             [
              0.6666666666666666,
              "#ed7953"
             ],
             [
              0.7777777777777778,
              "#fb9f3a"
             ],
             [
              0.8888888888888888,
              "#fdca26"
             ],
             [
              1,
              "#f0f921"
             ]
            ],
            "type": "contour"
           }
          ],
          "contourcarpet": [
           {
            "colorbar": {
             "outlinewidth": 0,
             "ticks": ""
            },
            "type": "contourcarpet"
           }
          ],
          "heatmap": [
           {
            "colorbar": {
             "outlinewidth": 0,
             "ticks": ""
            },
            "colorscale": [
             [
              0,
              "#0d0887"
             ],
             [
              0.1111111111111111,
              "#46039f"
             ],
             [
              0.2222222222222222,
              "#7201a8"
             ],
             [
              0.3333333333333333,
              "#9c179e"
             ],
             [
              0.4444444444444444,
              "#bd3786"
             ],
             [
              0.5555555555555556,
              "#d8576b"
             ],
             [
              0.6666666666666666,
              "#ed7953"
             ],
             [
              0.7777777777777778,
              "#fb9f3a"
             ],
             [
              0.8888888888888888,
              "#fdca26"
             ],
             [
              1,
              "#f0f921"
             ]
            ],
            "type": "heatmap"
           }
          ],
          "heatmapgl": [
           {
            "colorbar": {
             "outlinewidth": 0,
             "ticks": ""
            },
            "colorscale": [
             [
              0,
              "#0d0887"
             ],
             [
              0.1111111111111111,
              "#46039f"
             ],
             [
              0.2222222222222222,
              "#7201a8"
             ],
             [
              0.3333333333333333,
              "#9c179e"
             ],
             [
              0.4444444444444444,
              "#bd3786"
             ],
             [
              0.5555555555555556,
              "#d8576b"
             ],
             [
              0.6666666666666666,
              "#ed7953"
             ],
             [
              0.7777777777777778,
              "#fb9f3a"
             ],
             [
              0.8888888888888888,
              "#fdca26"
             ],
             [
              1,
              "#f0f921"
             ]
            ],
            "type": "heatmapgl"
           }
          ],
          "histogram": [
           {
            "marker": {
             "colorbar": {
              "outlinewidth": 0,
              "ticks": ""
             }
            },
            "type": "histogram"
           }
          ],
          "histogram2d": [
           {
            "colorbar": {
             "outlinewidth": 0,
             "ticks": ""
            },
            "colorscale": [
             [
              0,
              "#0d0887"
             ],
             [
              0.1111111111111111,
              "#46039f"
             ],
             [
              0.2222222222222222,
              "#7201a8"
             ],
             [
              0.3333333333333333,
              "#9c179e"
             ],
             [
              0.4444444444444444,
              "#bd3786"
             ],
             [
              0.5555555555555556,
              "#d8576b"
             ],
             [
              0.6666666666666666,
              "#ed7953"
             ],
             [
              0.7777777777777778,
              "#fb9f3a"
             ],
             [
              0.8888888888888888,
              "#fdca26"
             ],
             [
              1,
              "#f0f921"
             ]
            ],
            "type": "histogram2d"
           }
          ],
          "histogram2dcontour": [
           {
            "colorbar": {
             "outlinewidth": 0,
             "ticks": ""
            },
            "colorscale": [
             [
              0,
              "#0d0887"
             ],
             [
              0.1111111111111111,
              "#46039f"
             ],
             [
              0.2222222222222222,
              "#7201a8"
             ],
             [
              0.3333333333333333,
              "#9c179e"
             ],
             [
              0.4444444444444444,
              "#bd3786"
             ],
             [
              0.5555555555555556,
              "#d8576b"
             ],
             [
              0.6666666666666666,
              "#ed7953"
             ],
             [
              0.7777777777777778,
              "#fb9f3a"
             ],
             [
              0.8888888888888888,
              "#fdca26"
             ],
             [
              1,
              "#f0f921"
             ]
            ],
            "type": "histogram2dcontour"
           }
          ],
          "mesh3d": [
           {
            "colorbar": {
             "outlinewidth": 0,
             "ticks": ""
            },
            "type": "mesh3d"
           }
          ],
          "parcoords": [
           {
            "line": {
             "colorbar": {
              "outlinewidth": 0,
              "ticks": ""
             }
            },
            "type": "parcoords"
           }
          ],
          "pie": [
           {
            "automargin": true,
            "type": "pie"
           }
          ],
          "scatter": [
           {
            "marker": {
             "colorbar": {
              "outlinewidth": 0,
              "ticks": ""
             }
            },
            "type": "scatter"
           }
          ],
          "scatter3d": [
           {
            "line": {
             "colorbar": {
              "outlinewidth": 0,
              "ticks": ""
             }
            },
            "marker": {
             "colorbar": {
              "outlinewidth": 0,
              "ticks": ""
             }
            },
            "type": "scatter3d"
           }
          ],
          "scattercarpet": [
           {
            "marker": {
             "colorbar": {
              "outlinewidth": 0,
              "ticks": ""
             }
            },
            "type": "scattercarpet"
           }
          ],
          "scattergeo": [
           {
            "marker": {
             "colorbar": {
              "outlinewidth": 0,
              "ticks": ""
             }
            },
            "type": "scattergeo"
           }
          ],
          "scattergl": [
           {
            "marker": {
             "colorbar": {
              "outlinewidth": 0,
              "ticks": ""
             }
            },
            "type": "scattergl"
           }
          ],
          "scattermapbox": [
           {
            "marker": {
             "colorbar": {
              "outlinewidth": 0,
              "ticks": ""
             }
            },
            "type": "scattermapbox"
           }
          ],
          "scatterpolar": [
           {
            "marker": {
             "colorbar": {
              "outlinewidth": 0,
              "ticks": ""
             }
            },
            "type": "scatterpolar"
           }
          ],
          "scatterpolargl": [
           {
            "marker": {
             "colorbar": {
              "outlinewidth": 0,
              "ticks": ""
             }
            },
            "type": "scatterpolargl"
           }
          ],
          "scatterternary": [
           {
            "marker": {
             "colorbar": {
              "outlinewidth": 0,
              "ticks": ""
             }
            },
            "type": "scatterternary"
           }
          ],
          "surface": [
           {
            "colorbar": {
             "outlinewidth": 0,
             "ticks": ""
            },
            "colorscale": [
             [
              0,
              "#0d0887"
             ],
             [
              0.1111111111111111,
              "#46039f"
             ],
             [
              0.2222222222222222,
              "#7201a8"
             ],
             [
              0.3333333333333333,
              "#9c179e"
             ],
             [
              0.4444444444444444,
              "#bd3786"
             ],
             [
              0.5555555555555556,
              "#d8576b"
             ],
             [
              0.6666666666666666,
              "#ed7953"
             ],
             [
              0.7777777777777778,
              "#fb9f3a"
             ],
             [
              0.8888888888888888,
              "#fdca26"
             ],
             [
              1,
              "#f0f921"
             ]
            ],
            "type": "surface"
           }
          ],
          "table": [
           {
            "cells": {
             "fill": {
              "color": "#EBF0F8"
             },
             "line": {
              "color": "white"
             }
            },
            "header": {
             "fill": {
              "color": "#C8D4E3"
             },
             "line": {
              "color": "white"
             }
            },
            "type": "table"
           }
          ]
         },
         "layout": {
          "annotationdefaults": {
           "arrowcolor": "#2a3f5f",
           "arrowhead": 0,
           "arrowwidth": 1
          },
          "coloraxis": {
           "colorbar": {
            "outlinewidth": 0,
            "ticks": ""
           }
          },
          "colorscale": {
           "diverging": [
            [
             0,
             "#8e0152"
            ],
            [
             0.1,
             "#c51b7d"
            ],
            [
             0.2,
             "#de77ae"
            ],
            [
             0.3,
             "#f1b6da"
            ],
            [
             0.4,
             "#fde0ef"
            ],
            [
             0.5,
             "#f7f7f7"
            ],
            [
             0.6,
             "#e6f5d0"
            ],
            [
             0.7,
             "#b8e186"
            ],
            [
             0.8,
             "#7fbc41"
            ],
            [
             0.9,
             "#4d9221"
            ],
            [
             1,
             "#276419"
            ]
           ],
           "sequential": [
            [
             0,
             "#0d0887"
            ],
            [
             0.1111111111111111,
             "#46039f"
            ],
            [
             0.2222222222222222,
             "#7201a8"
            ],
            [
             0.3333333333333333,
             "#9c179e"
            ],
            [
             0.4444444444444444,
             "#bd3786"
            ],
            [
             0.5555555555555556,
             "#d8576b"
            ],
            [
             0.6666666666666666,
             "#ed7953"
            ],
            [
             0.7777777777777778,
             "#fb9f3a"
            ],
            [
             0.8888888888888888,
             "#fdca26"
            ],
            [
             1,
             "#f0f921"
            ]
           ],
           "sequentialminus": [
            [
             0,
             "#0d0887"
            ],
            [
             0.1111111111111111,
             "#46039f"
            ],
            [
             0.2222222222222222,
             "#7201a8"
            ],
            [
             0.3333333333333333,
             "#9c179e"
            ],
            [
             0.4444444444444444,
             "#bd3786"
            ],
            [
             0.5555555555555556,
             "#d8576b"
            ],
            [
             0.6666666666666666,
             "#ed7953"
            ],
            [
             0.7777777777777778,
             "#fb9f3a"
            ],
            [
             0.8888888888888888,
             "#fdca26"
            ],
            [
             1,
             "#f0f921"
            ]
           ]
          },
          "colorway": [
           "#636efa",
           "#EF553B",
           "#00cc96",
           "#ab63fa",
           "#FFA15A",
           "#19d3f3",
           "#FF6692",
           "#B6E880",
           "#FF97FF",
           "#FECB52"
          ],
          "font": {
           "color": "#2a3f5f"
          },
          "geo": {
           "bgcolor": "white",
           "lakecolor": "white",
           "landcolor": "#E5ECF6",
           "showlakes": true,
           "showland": true,
           "subunitcolor": "white"
          },
          "hoverlabel": {
           "align": "left"
          },
          "hovermode": "closest",
          "mapbox": {
           "style": "light"
          },
          "paper_bgcolor": "white",
          "plot_bgcolor": "#E5ECF6",
          "polar": {
           "angularaxis": {
            "gridcolor": "white",
            "linecolor": "white",
            "ticks": ""
           },
           "bgcolor": "#E5ECF6",
           "radialaxis": {
            "gridcolor": "white",
            "linecolor": "white",
            "ticks": ""
           }
          },
          "scene": {
           "xaxis": {
            "backgroundcolor": "#E5ECF6",
            "gridcolor": "white",
            "gridwidth": 2,
            "linecolor": "white",
            "showbackground": true,
            "ticks": "",
            "zerolinecolor": "white"
           },
           "yaxis": {
            "backgroundcolor": "#E5ECF6",
            "gridcolor": "white",
            "gridwidth": 2,
            "linecolor": "white",
            "showbackground": true,
            "ticks": "",
            "zerolinecolor": "white"
           },
           "zaxis": {
            "backgroundcolor": "#E5ECF6",
            "gridcolor": "white",
            "gridwidth": 2,
            "linecolor": "white",
            "showbackground": true,
            "ticks": "",
            "zerolinecolor": "white"
           }
          },
          "shapedefaults": {
           "line": {
            "color": "#2a3f5f"
           }
          },
          "ternary": {
           "aaxis": {
            "gridcolor": "white",
            "linecolor": "white",
            "ticks": ""
           },
           "baxis": {
            "gridcolor": "white",
            "linecolor": "white",
            "ticks": ""
           },
           "bgcolor": "#E5ECF6",
           "caxis": {
            "gridcolor": "white",
            "linecolor": "white",
            "ticks": ""
           }
          },
          "title": {
           "x": 0.05
          },
          "xaxis": {
           "automargin": true,
           "gridcolor": "white",
           "linecolor": "white",
           "ticks": "",
           "title": {
            "standoff": 15
           },
           "zerolinecolor": "white",
           "zerolinewidth": 2
          },
          "yaxis": {
           "automargin": true,
           "gridcolor": "white",
           "linecolor": "white",
           "ticks": "",
           "title": {
            "standoff": 15
           },
           "zerolinecolor": "white",
           "zerolinewidth": 2
          }
         }
        },
        "title": {
         "text": "extended SEIRD Model"
        },
        "xaxis": {
         "title": {
          "text": "days of spreading"
         }
        },
        "yaxis": {
         "title": {
          "text": "population"
         }
        }
       }
      },
      "text/html": [
       "<div>\n",
       "        \n",
       "        \n",
       "            <div id=\"70907907-6331-4a1e-b095-fd85e1351ecc\" class=\"plotly-graph-div\" style=\"height:525px; width:100%;\"></div>\n",
       "            <script type=\"text/javascript\">\n",
       "                require([\"plotly\"], function(Plotly) {\n",
       "                    window.PLOTLYENV=window.PLOTLYENV || {};\n",
       "                    \n",
       "                if (document.getElementById(\"70907907-6331-4a1e-b095-fd85e1351ecc\")) {\n",
       "                    Plotly.newPlot(\n",
       "                        '70907907-6331-4a1e-b095-fd85e1351ecc',\n",
       "                        [{\"mode\": \"lines\", \"name\": \"Susceptibles\", \"type\": \"scatter\", \"x\": [0, 1, 2, 3, 4, 5, 6, 7, 8, 9, 10, 11, 12, 13, 14, 15, 16, 17, 18, 19, 20, 21, 22, 23, 24, 25, 26, 27, 28, 29, 30, 31, 32, 33, 34, 35, 36, 37, 38, 39, 40, 41, 42, 43, 44, 45, 46, 47, 48, 49, 50, 51, 52, 53, 54, 55, 56, 57, 58, 59, 60, 61, 62, 63, 64, 65, 66, 67, 68, 69, 70, 71, 72, 73, 74, 75, 76, 77, 78, 79, 80, 81, 82, 83, 84, 85, 86, 87, 88, 89, 90, 91, 92, 93, 94, 95, 96, 97, 98, 99, 100, 101, 102, 103, 104, 105, 106, 107, 108, 109, 110, 111, 112, 113, 114, 115, 116, 117, 118, 119, 120, 121, 122, 123, 124, 125, 126, 127, 128, 129, 130, 131, 132, 133, 134, 135, 136, 137, 138, 139, 140, 141, 142, 143, 144, 145, 146, 147, 148, 149], \"y\": [60431054.0, 60429714.76035812, 60428117.87743294, 60426214.07500814, 60423944.77425434, 60421240.38929304, 60418018.331825785, 60414180.68510997, 60409611.505433746, 60404173.71038472, 60397705.51776666, 60390016.40789508, 60380882.600335576, 60370042.06394093, 60357189.123433456, 60341968.790157, 60323971.034706205, 60302725.34479316, 60277696.07392685, 60248279.293836616, 60213802.10990259, 60173525.675737955, 60126653.42254133, 60072346.24539898, 60009746.48408116, 59938012.38433613, 59856364.17980505, 59764141.857728854, 59660872.96677838, 59546346.496305384, 59420686.16317418, 59284413.8758055, 59138492.447180845, 58984336.71078926, 58823784.6989432, 58659025.63432961, 58492488.44269405, 58326701.76493838, 58164142.14159972, 58007089.389694676, 57857506.59657861, 57716957.053093605, 57586563.41520187, 57467007.410816364, 57358562.92271609, 57261152.34556976, 57174415.4928914, 57097781.63551589, 57030537.55347064, 56971887.04633813, 56920999.69585133, 56877048.43582311, 56839236.69116486, 56806816.550796755, 56779099.58130996, 56755462.05824326, 56735346.03974086, 56718257.59165481, 56703763.15925792, 56691484.855311625, 56681095.22625285, 56672311.892285034, 56664892.323349066, 56658628.91525625, 56653344.45934962, 56648888.047786385, 56645131.42304113, 56641965.75814556, 56639298.84089412, 56637052.62794072, 56635161.13215668, 56633568.60570053, 56632227.98385963, 56631099.55542273, 56630149.829948686, 56629350.57493454, 56628677.99830516, 56628112.056027494, 56627635.865661256, 56627235.210596666, 56626898.12113405, 56626614.52085089, 56626375.92813585, 56626175.20452493, 56626006.34250745, 56625864.28671068, 56625744.78326249, 56625644.252887316, 56625559.68406781, 56625488.54306753, 56625428.69819946, 56625378.35607528, 56625336.007946566, 56625300.38455546, 56625270.41813092, 56625245.21041883, 56625224.005776234, 56625206.168535665, 56625191.16396133, 56625178.54222439, 56625167.92492493, 56625158.99374975, 56625151.48093291, 56625145.16122964, 56625139.84516434, 56625135.37334976, 56625131.611711025, 56625128.44746516, 56625125.78573986, 56625123.54672935, 56625121.66330161, 56625120.078985944, 56625118.74627977, 56625117.62522443, 56625116.68220715, 56625115.88895326, 56625115.221678436, 56625114.660375655, 56625114.18821508, 56625113.79103982, 56625113.45694123, 56625113.175901905, 56625112.939495355, 56625112.740633294, 56625112.57335317, 56625112.43263935, 56625112.31427278, 56625112.21470437, 56625112.13094877, 56625112.060494654, 56625112.00122959, 56625111.95137661, 56625111.90944095, 56625111.87416523, 56625111.84449176, 56625111.81953084, 56625111.79853404, 56625111.780871816, 56625111.76601459, 56625111.7535169, 56625111.74300399, 56625111.734160654, 56625111.72672177, 56625111.72046428, 56625111.715200566, 56625111.7107728, 56625111.70704823, 56625111.70391517, 56625111.70127967, 56625111.699062735]}, {\"mode\": \"lines\", \"name\": \"Total Infections\", \"type\": \"scatter\", \"x\": [0, 1, 2, 3, 4, 5, 6, 7, 8, 9, 10, 11, 12, 13, 14, 15, 16, 17, 18, 19, 20, 21, 22, 23, 24, 25, 26, 27, 28, 29, 30, 31, 32, 33, 34, 35, 36, 37, 38, 39, 40, 41, 42, 43, 44, 45, 46, 47, 48, 49, 50, 51, 52, 53, 54, 55, 56, 57, 58, 59, 60, 61, 62, 63, 64, 65, 66, 67, 68, 69, 70, 71, 72, 73, 74, 75, 76, 77, 78, 79, 80, 81, 82, 83, 84, 85, 86, 87, 88, 89, 90, 91, 92, 93, 94, 95, 96, 97, 98, 99, 100, 101, 102, 103, 104, 105, 106, 107, 108, 109, 110, 111, 112, 113, 114, 115, 116, 117, 118, 119, 120, 121, 122, 123, 124, 125, 126, 127, 128, 129, 130, 131, 132, 133, 134, 135, 136, 137, 138, 139, 140, 141, 142, 143, 144, 145, 146, 147, 148, 149], \"y\": [221.0, 263.54012962365465, 314.226578201419, 374.6015225424201, 446.4915729181506, 532.0570432554473, 633.8484050757809, 754.8703517457665, 898.6536314309336, 1069.3343234903625, 1271.739494862154, 1511.477051072784, 1795.0259687124546, 2129.82083068022, 2524.3214098617796, 2988.0539026962197, 3531.6051040940133, 4166.54418636682, 4905.239186085041, 5760.527211928423, 6745.190149601917, 7871.183303097595, 9148.566478643026, 10584.100429498945, 12179.50231131457, 13929.407427122145, 15819.167051747578, 17822.71794898933, 19900.880745278297, 22000.54948991443, 24055.283715846614, 25987.7508563813, 27714.252242593768, 29151.189235767954, 30222.845798003324, 30869.403670751057, 31053.829326727948, 30766.321519660978, 30025.421444717846, 28875.570555250655, 27381.649371824482, 25621.601836048623, 23678.502085226584, 21633.309105914333, 19559.189237742172, 17517.816964442485, 15557.631415627397, 13713.732529753719, 12008.952665442608, 10455.629147741009, 9057.671634711745, 7812.62572391113, 6713.542250833065, 5750.560823941346, 4912.168262998088, 4186.157108208426, 3560.3133427001685, 3022.884431425074, 2562.8739480115905, 2170.2059353740515, 1835.7952097074424, 1551.5528082876137, 1310.3489355788354, 1105.9500247774265, 932.9419354549217, 786.6475643548002, 663.0444157096595, 558.6856518947764, 470.62667684420927, 396.3583007953413, 333.7468492933969, 280.9811433473735, 236.5260096779492, 199.0818121298895, 167.54944034360315, 141.0001703240497, 118.64981159000888, 99.83661887423997, 84.00245395140371, 70.67676515151243, 59.462983776633315, 50.026993355395376, 42.08736465484033, 35.407098248613096, 29.786645573746195, 25.05801599778451, 21.079804160336366, 17.73299490264343, 14.917427312898079, 12.548813879126222, 10.556229490295488, 8.8799962087255, 7.469901842161594, 6.283700281927111, 5.285848666173392, 4.446444670424078, 3.7403318735143007, 3.1463469241325135, 2.6466860322630823, 2.2263718050961634, 1.872804743869773, 1.5753857734985364, 1.325198729697135, 1.1147431968838954, 0.9377097391888004, 0.7887907782707156, 0.6635215871555394, 0.5581464300395222, 0.469505982756512, 0.39494263126849266, 0.3322207982470295, 0.2794599329118775, 0.23507812914968101, 0.19774469963759414, 0.16634028335708304, 0.13992328335637946, 0.117701638708095, 0.09900907827290457, 0.08328513562214065, 0.07005835915165334, 0.058932167023163354, 0.04957295928181022, 0.04170011677548516, 0.035077585270538475, 0.029506798971902403, 0.02482072733999089, 0.020878866262421858, 0.01756302447893599, 0.01477378261660246, 0.012427509260011784, 0.010453855160334402, 0.00879364366219495, 0.007397095886347344, 0.006222338425462326, 0.005234148154460997, 0.004402895676154638, 0.003703657106852479, 0.003115466960854163, 0.0026206894445088514, 0.002204489262546172, 0.0018543868000903887, 0.0015598846233707585, 0.0013121537421221983, 0.0011037659688371893, 0.0009284728967814582, 0.0007810187346233817, 0.0006569824669330512, 0.0005526447324978626, 0.0004648768915665073, 0.0003910481299331721]}, {\"mode\": \"lines\", \"name\": \"Deaths\", \"type\": \"scatter\", \"x\": [0, 1, 2, 3, 4, 5, 6, 7, 8, 9, 10, 11, 12, 13, 14, 15, 16, 17, 18, 19, 20, 21, 22, 23, 24, 25, 26, 27, 28, 29, 30, 31, 32, 33, 34, 35, 36, 37, 38, 39, 40, 41, 42, 43, 44, 45, 46, 47, 48, 49, 50, 51, 52, 53, 54, 55, 56, 57, 58, 59, 60, 61, 62, 63, 64, 65, 66, 67, 68, 69, 70, 71, 72, 73, 74, 75, 76, 77, 78, 79, 80, 81, 82, 83, 84, 85, 86, 87, 88, 89, 90, 91, 92, 93, 94, 95, 96, 97, 98, 99, 100, 101, 102, 103, 104, 105, 106, 107, 108, 109, 110, 111, 112, 113, 114, 115, 116, 117, 118, 119, 120, 121, 122, 123, 124, 125, 126, 127, 128, 129, 130, 131, 132, 133, 134, 135, 136, 137, 138, 139, 140, 141, 142, 143, 144, 145, 146, 147, 148, 149], \"y\": [7.0, 17.654138667530297, 30.358232031591108, 45.50447972784747, 63.55917792298692, 85.076318739327, 110.7135210767571, 141.25061567040186, 177.61122691570813, 220.88768858319736, 272.36959914675634, 333.57625873381363, 406.29309245040037, 492.61195509794396, 594.9748736626219, 716.2202890598552, 859.6301620837786, 1028.975330579333, 1228.555234133439, 1463.2264853576994, 1738.4128023453015, 2060.0865775582115, 2434.710045167432, 2869.122037162059, 3370.355282494885, 3945.370008004999, 4600.693407066369, 5341.962521045143, 6173.381087508754, 7097.119181207038, 8112.706199141204, 9216.489349934278, 10401.245521599025, 11656.036820999598, 12966.383438598417, 14314.789439643528, 15681.602197500843, 17046.1260408001, 18387.860501613763, 19687.708655940816, 20929.0080073748, 22098.27359443771, 23185.59871511089, 24184.716865928734, 25092.776569429207, 25909.908719051673, 26638.67474057929, 27283.47555188187, 27849.9836200994, 28344.639439736846, 28774.233895842463, 29145.582620955116, 29465.287652581887, 29739.575107304066, 29974.195992158333, 30174.3753471834, 30344.79777330024, 30489.618169922484, 30612.489125479406, 30716.59828186121, 30804.710759623962, 30879.2131521231, 30942.15675241897, 30995.298526623003, 31040.138967786093, 31077.95641647507, 31109.837731808522, 31136.705394812605, 31159.341247194094, 31178.407136882095, 31194.46276832325, 31207.981066647302, 31219.361345588324, 31228.940564673852, 31237.00292380885, 31243.788021877022, 31249.497786109394, 31254.30234245345, 31258.34498882857, 31261.74640011202, 31264.608181908585, 31267.0158708633, 31269.041467195722, 31270.74557030388, 31272.17917956682, 31273.385211972687, 31274.399780665222, 31275.253272100104, 31275.971252918902, 31276.575233725896, 31277.083311956176, 31277.510713052943, 31277.8702459842, 31278.172686527203, 31278.427099896482, 31278.64111215135, 31278.821138613966, 31278.972576036904, 31279.09996427955, 31279.20712235297, 31279.297262845943, 31279.3730882171, 31279.436871783815, 31279.490525862293, 31279.53565909114, 31279.573624660967, 31279.605560861775, 31279.632425216594, 31279.65502318763, 31279.674032323073, 31279.69002257152, 31279.703473367343, 31279.71478800585, 31279.724305734937, 31279.732311925814, 31279.739046629784, 31279.744711774973, 31279.749477220375, 31279.753485850968, 31279.75685785822, 31279.75969434626, 31279.762080362627, 31279.764087447948, 31279.76577578151, 31279.767195985332, 31279.768390641875, 31279.76939557099, 31279.770240904112, 31279.770951987026, 31279.77155014054, 31279.772053299344, 31279.772476549806, 31279.772832582443, 31279.77313207237, 31279.773383999283, 31279.773595916842, 31279.77377417908, 31279.7739241309, 31279.774050268312, 31279.774156373405, 31279.7742456277, 31279.77432070739, 31279.774383863318, 31279.774436989206, 31279.774481678007, 31279.774519269624, 31279.77455089114, 31279.774577490756, 31279.774599866083, 31279.774618687814]}, {\"mode\": \"lines\", \"name\": \"Actual\", \"type\": \"scatter\", \"x\": [0, 1, 2, 3, 4, 5, 6, 7, 8, 9, 10, 11, 12, 13, 14, 15, 16, 17, 18, 19, 20, 21, 22, 23, 24, 25, 26, 27, 28, 29], \"y\": [7, 10, 12, 17, 21, 29, 34, 52, 79, 107, 148, 197, 233, 366, 463, 631, 827, 1016, 1266, 1441, 1809, 2158, 2503, 2978, 3405, 4032, 4825, 5476, 6077, 6820]}],\n",
       "                        {\"font\": {\"color\": \"#7f7f7f\", \"family\": \"Courier New, monospace\", \"size\": 12}, \"template\": {\"data\": {\"bar\": [{\"error_x\": {\"color\": \"#2a3f5f\"}, \"error_y\": {\"color\": \"#2a3f5f\"}, \"marker\": {\"line\": {\"color\": \"#E5ECF6\", \"width\": 0.5}}, \"type\": \"bar\"}], \"barpolar\": [{\"marker\": {\"line\": {\"color\": \"#E5ECF6\", \"width\": 0.5}}, \"type\": \"barpolar\"}], \"carpet\": [{\"aaxis\": {\"endlinecolor\": \"#2a3f5f\", \"gridcolor\": \"white\", \"linecolor\": \"white\", \"minorgridcolor\": \"white\", \"startlinecolor\": \"#2a3f5f\"}, \"baxis\": {\"endlinecolor\": \"#2a3f5f\", \"gridcolor\": \"white\", \"linecolor\": \"white\", \"minorgridcolor\": \"white\", \"startlinecolor\": \"#2a3f5f\"}, \"type\": \"carpet\"}], \"choropleth\": [{\"colorbar\": {\"outlinewidth\": 0, \"ticks\": \"\"}, \"type\": \"choropleth\"}], \"contour\": [{\"colorbar\": {\"outlinewidth\": 0, \"ticks\": \"\"}, \"colorscale\": [[0.0, \"#0d0887\"], [0.1111111111111111, \"#46039f\"], [0.2222222222222222, \"#7201a8\"], [0.3333333333333333, \"#9c179e\"], [0.4444444444444444, \"#bd3786\"], [0.5555555555555556, \"#d8576b\"], [0.6666666666666666, \"#ed7953\"], [0.7777777777777778, \"#fb9f3a\"], [0.8888888888888888, \"#fdca26\"], [1.0, \"#f0f921\"]], \"type\": \"contour\"}], \"contourcarpet\": [{\"colorbar\": {\"outlinewidth\": 0, \"ticks\": \"\"}, \"type\": \"contourcarpet\"}], \"heatmap\": [{\"colorbar\": {\"outlinewidth\": 0, \"ticks\": \"\"}, \"colorscale\": [[0.0, \"#0d0887\"], [0.1111111111111111, \"#46039f\"], [0.2222222222222222, \"#7201a8\"], [0.3333333333333333, \"#9c179e\"], [0.4444444444444444, \"#bd3786\"], [0.5555555555555556, \"#d8576b\"], [0.6666666666666666, \"#ed7953\"], [0.7777777777777778, \"#fb9f3a\"], [0.8888888888888888, \"#fdca26\"], [1.0, \"#f0f921\"]], \"type\": \"heatmap\"}], \"heatmapgl\": [{\"colorbar\": {\"outlinewidth\": 0, \"ticks\": \"\"}, \"colorscale\": [[0.0, \"#0d0887\"], [0.1111111111111111, \"#46039f\"], [0.2222222222222222, \"#7201a8\"], [0.3333333333333333, \"#9c179e\"], [0.4444444444444444, \"#bd3786\"], [0.5555555555555556, \"#d8576b\"], [0.6666666666666666, \"#ed7953\"], [0.7777777777777778, \"#fb9f3a\"], [0.8888888888888888, \"#fdca26\"], [1.0, \"#f0f921\"]], \"type\": \"heatmapgl\"}], \"histogram\": [{\"marker\": {\"colorbar\": {\"outlinewidth\": 0, \"ticks\": \"\"}}, \"type\": \"histogram\"}], \"histogram2d\": [{\"colorbar\": {\"outlinewidth\": 0, \"ticks\": \"\"}, \"colorscale\": [[0.0, \"#0d0887\"], [0.1111111111111111, \"#46039f\"], [0.2222222222222222, \"#7201a8\"], [0.3333333333333333, \"#9c179e\"], [0.4444444444444444, \"#bd3786\"], [0.5555555555555556, \"#d8576b\"], [0.6666666666666666, \"#ed7953\"], [0.7777777777777778, \"#fb9f3a\"], [0.8888888888888888, \"#fdca26\"], [1.0, \"#f0f921\"]], \"type\": \"histogram2d\"}], \"histogram2dcontour\": [{\"colorbar\": {\"outlinewidth\": 0, \"ticks\": \"\"}, \"colorscale\": [[0.0, \"#0d0887\"], [0.1111111111111111, \"#46039f\"], [0.2222222222222222, \"#7201a8\"], [0.3333333333333333, \"#9c179e\"], [0.4444444444444444, \"#bd3786\"], [0.5555555555555556, \"#d8576b\"], [0.6666666666666666, \"#ed7953\"], [0.7777777777777778, \"#fb9f3a\"], [0.8888888888888888, \"#fdca26\"], [1.0, \"#f0f921\"]], \"type\": \"histogram2dcontour\"}], \"mesh3d\": [{\"colorbar\": {\"outlinewidth\": 0, \"ticks\": \"\"}, \"type\": \"mesh3d\"}], \"parcoords\": [{\"line\": {\"colorbar\": {\"outlinewidth\": 0, \"ticks\": \"\"}}, \"type\": \"parcoords\"}], \"pie\": [{\"automargin\": true, \"type\": \"pie\"}], \"scatter\": [{\"marker\": {\"colorbar\": {\"outlinewidth\": 0, \"ticks\": \"\"}}, \"type\": \"scatter\"}], \"scatter3d\": [{\"line\": {\"colorbar\": {\"outlinewidth\": 0, \"ticks\": \"\"}}, \"marker\": {\"colorbar\": {\"outlinewidth\": 0, \"ticks\": \"\"}}, \"type\": \"scatter3d\"}], \"scattercarpet\": [{\"marker\": {\"colorbar\": {\"outlinewidth\": 0, \"ticks\": \"\"}}, \"type\": \"scattercarpet\"}], \"scattergeo\": [{\"marker\": {\"colorbar\": {\"outlinewidth\": 0, \"ticks\": \"\"}}, \"type\": \"scattergeo\"}], \"scattergl\": [{\"marker\": {\"colorbar\": {\"outlinewidth\": 0, \"ticks\": \"\"}}, \"type\": \"scattergl\"}], \"scattermapbox\": [{\"marker\": {\"colorbar\": {\"outlinewidth\": 0, \"ticks\": \"\"}}, \"type\": \"scattermapbox\"}], \"scatterpolar\": [{\"marker\": {\"colorbar\": {\"outlinewidth\": 0, \"ticks\": \"\"}}, \"type\": \"scatterpolar\"}], \"scatterpolargl\": [{\"marker\": {\"colorbar\": {\"outlinewidth\": 0, \"ticks\": \"\"}}, \"type\": \"scatterpolargl\"}], \"scatterternary\": [{\"marker\": {\"colorbar\": {\"outlinewidth\": 0, \"ticks\": \"\"}}, \"type\": \"scatterternary\"}], \"surface\": [{\"colorbar\": {\"outlinewidth\": 0, \"ticks\": \"\"}, \"colorscale\": [[0.0, \"#0d0887\"], [0.1111111111111111, \"#46039f\"], [0.2222222222222222, \"#7201a8\"], [0.3333333333333333, \"#9c179e\"], [0.4444444444444444, \"#bd3786\"], [0.5555555555555556, \"#d8576b\"], [0.6666666666666666, \"#ed7953\"], [0.7777777777777778, \"#fb9f3a\"], [0.8888888888888888, \"#fdca26\"], [1.0, \"#f0f921\"]], \"type\": \"surface\"}], \"table\": [{\"cells\": {\"fill\": {\"color\": \"#EBF0F8\"}, \"line\": {\"color\": \"white\"}}, \"header\": {\"fill\": {\"color\": \"#C8D4E3\"}, \"line\": {\"color\": \"white\"}}, \"type\": \"table\"}]}, \"layout\": {\"annotationdefaults\": {\"arrowcolor\": \"#2a3f5f\", \"arrowhead\": 0, \"arrowwidth\": 1}, \"coloraxis\": {\"colorbar\": {\"outlinewidth\": 0, \"ticks\": \"\"}}, \"colorscale\": {\"diverging\": [[0, \"#8e0152\"], [0.1, \"#c51b7d\"], [0.2, \"#de77ae\"], [0.3, \"#f1b6da\"], [0.4, \"#fde0ef\"], [0.5, \"#f7f7f7\"], [0.6, \"#e6f5d0\"], [0.7, \"#b8e186\"], [0.8, \"#7fbc41\"], [0.9, \"#4d9221\"], [1, \"#276419\"]], \"sequential\": [[0.0, \"#0d0887\"], [0.1111111111111111, \"#46039f\"], [0.2222222222222222, \"#7201a8\"], [0.3333333333333333, \"#9c179e\"], [0.4444444444444444, \"#bd3786\"], [0.5555555555555556, \"#d8576b\"], [0.6666666666666666, \"#ed7953\"], [0.7777777777777778, \"#fb9f3a\"], [0.8888888888888888, \"#fdca26\"], [1.0, \"#f0f921\"]], \"sequentialminus\": [[0.0, \"#0d0887\"], [0.1111111111111111, \"#46039f\"], [0.2222222222222222, \"#7201a8\"], [0.3333333333333333, \"#9c179e\"], [0.4444444444444444, \"#bd3786\"], [0.5555555555555556, \"#d8576b\"], [0.6666666666666666, \"#ed7953\"], [0.7777777777777778, \"#fb9f3a\"], [0.8888888888888888, \"#fdca26\"], [1.0, \"#f0f921\"]]}, \"colorway\": [\"#636efa\", \"#EF553B\", \"#00cc96\", \"#ab63fa\", \"#FFA15A\", \"#19d3f3\", \"#FF6692\", \"#B6E880\", \"#FF97FF\", \"#FECB52\"], \"font\": {\"color\": \"#2a3f5f\"}, \"geo\": {\"bgcolor\": \"white\", \"lakecolor\": \"white\", \"landcolor\": \"#E5ECF6\", \"showlakes\": true, \"showland\": true, \"subunitcolor\": \"white\"}, \"hoverlabel\": {\"align\": \"left\"}, \"hovermode\": \"closest\", \"mapbox\": {\"style\": \"light\"}, \"paper_bgcolor\": \"white\", \"plot_bgcolor\": \"#E5ECF6\", \"polar\": {\"angularaxis\": {\"gridcolor\": \"white\", \"linecolor\": \"white\", \"ticks\": \"\"}, \"bgcolor\": \"#E5ECF6\", \"radialaxis\": {\"gridcolor\": \"white\", \"linecolor\": \"white\", \"ticks\": \"\"}}, \"scene\": {\"xaxis\": {\"backgroundcolor\": \"#E5ECF6\", \"gridcolor\": \"white\", \"gridwidth\": 2, \"linecolor\": \"white\", \"showbackground\": true, \"ticks\": \"\", \"zerolinecolor\": \"white\"}, \"yaxis\": {\"backgroundcolor\": \"#E5ECF6\", \"gridcolor\": \"white\", \"gridwidth\": 2, \"linecolor\": \"white\", \"showbackground\": true, \"ticks\": \"\", \"zerolinecolor\": \"white\"}, \"zaxis\": {\"backgroundcolor\": \"#E5ECF6\", \"gridcolor\": \"white\", \"gridwidth\": 2, \"linecolor\": \"white\", \"showbackground\": true, \"ticks\": \"\", \"zerolinecolor\": \"white\"}}, \"shapedefaults\": {\"line\": {\"color\": \"#2a3f5f\"}}, \"ternary\": {\"aaxis\": {\"gridcolor\": \"white\", \"linecolor\": \"white\", \"ticks\": \"\"}, \"baxis\": {\"gridcolor\": \"white\", \"linecolor\": \"white\", \"ticks\": \"\"}, \"bgcolor\": \"#E5ECF6\", \"caxis\": {\"gridcolor\": \"white\", \"linecolor\": \"white\", \"ticks\": \"\"}}, \"title\": {\"x\": 0.05}, \"xaxis\": {\"automargin\": true, \"gridcolor\": \"white\", \"linecolor\": \"white\", \"ticks\": \"\", \"title\": {\"standoff\": 15}, \"zerolinecolor\": \"white\", \"zerolinewidth\": 2}, \"yaxis\": {\"automargin\": true, \"gridcolor\": \"white\", \"linecolor\": \"white\", \"ticks\": \"\", \"title\": {\"standoff\": 15}, \"zerolinecolor\": \"white\", \"zerolinewidth\": 2}}}, \"title\": {\"text\": \"extended SEIRD Model\"}, \"xaxis\": {\"title\": {\"text\": \"days of spreading\"}}, \"yaxis\": {\"title\": {\"text\": \"population\"}}},\n",
       "                        {\"responsive\": true}\n",
       "                    ).then(function(){\n",
       "                            \n",
       "var gd = document.getElementById('70907907-6331-4a1e-b095-fd85e1351ecc');\n",
       "var x = new MutationObserver(function (mutations, observer) {{\n",
       "        var display = window.getComputedStyle(gd).display;\n",
       "        if (!display || display === 'none') {{\n",
       "            console.log([gd, 'removed!']);\n",
       "            Plotly.purge(gd);\n",
       "            observer.disconnect();\n",
       "        }}\n",
       "}});\n",
       "\n",
       "// Listen for the removal of the full notebook cells\n",
       "var notebookContainer = gd.closest('#notebook-container');\n",
       "if (notebookContainer) {{\n",
       "    x.observe(notebookContainer, {childList: true});\n",
       "}}\n",
       "\n",
       "// Listen for the clearing of the current output cell\n",
       "var outputEl = gd.closest('.output');\n",
       "if (outputEl) {{\n",
       "    x.observe(outputEl, {childList: true});\n",
       "}}\n",
       "\n",
       "                        })\n",
       "                };\n",
       "                });\n",
       "            </script>\n",
       "        </div>"
      ]
     },
     "metadata": {},
     "output_type": "display_data"
    },
    {
     "data": {
      "image/png": "[encoded data removed]",
      "text/plain": [
       "<Figure size 432x288 with 1 Axes>"
      ]
     },
     "metadata": {
      "needs_background": "light"
     },
     "output_type": "display_data"
    }
   ],
   "source": [
    "deaths_multiplier = 1\n",
    "fit_range = (0, 30)\n",
    "df = pd.read_csv('../data/dpc-covid19-ita-andamento-nazionale.csv').drop('stato',1)\n",
    "N = populations['Italy']\n",
    "y_fit = deaths_multiplier*df['deceduti'].iloc[fit_range[0]:fit_range[1]].values # variable to fit\n",
    "D0 = deaths_multiplier*df['deceduti'].iloc[fit_range[0]]\n",
    "I0 = df['totale_positivi'].iloc[fit_range[0]]\n",
    "R0 = df['dimessi_guariti'].iloc[fit_range[0]]\n",
    "S0 = N - I0 - R0 - D0 \n",
    "time_range = 300\n",
    "beta, gamma, theta = calibrate_SIR(\n",
    "    y = y_fit,\n",
    "    fit_range = fit_range,\n",
    "    N = N,\n",
    "    S0 = S0,\n",
    "    I0 = I0,\n",
    "    R0 = R0,\n",
    "    D0 = D0,\n",
    "    bounds= [\n",
    "        (-90000, 90000), #beta\n",
    "        (-90000, 90000),#gamma\n",
    "        (-90000, 90000),#theta\n",
    "       ],\n",
    "    plot_range = 150,\n",
    "    plot_output = ['S','I','D']\n",
    ")"
   ]
  },
  {
   "cell_type": "code",
   "execution_count": null,
   "metadata": {},
   "outputs": [],
   "source": []
  }
 ],
 "metadata": {
  "hide_input": false,
  "kernelspec": {
   "display_name": "Python 3",
   "language": "python",
   "name": "python3"
  },
  "language_info": {
   "codemirror_mode": {
    "name": "ipython",
    "version": 3
   },
   "file_extension": ".py",
   "mimetype": "text/x-python",
   "name": "python",
   "nbconvert_exporter": "python",
   "pygments_lexer": "ipython3",
   "version": "3.7.6"
  },
  "toc": {
   "base_numbering": "1",
   "nav_menu": {},
   "number_sections": true,
   "sideBar": true,
   "skip_h1_title": false,
   "title_cell": "COVID19 World and Italy monitor",
   "title_sidebar": "Contents",
   "toc_cell": true,
   "toc_position": {},
   "toc_section_display": true,
   "toc_window_display": true
  },
  "varInspector": {
   "cols": {
    "lenName": 16,
    "lenType": 16,
    "lenVar": 40
   },
   "kernels_config": {
    "python": {
     "delete_cmd_postfix": "",
     "delete_cmd_prefix": "del ",
     "library": "var_list.py",
     "varRefreshCmd": "print(var_dic_list())"
    },
    "r": {
     "delete_cmd_postfix": ") ",
     "delete_cmd_prefix": "rm(",
     "library": "var_list.r",
     "varRefreshCmd": "cat(var_dic_list()) "
    }
   },
   "types_to_exclude": [
    "module",
    "function",
    "builtin_function_or_method",
    "instance",
    "_Feature"
   ],
   "window_display": false
  }
 },
 "nbformat": 4,
 "nbformat_minor": 2
}
