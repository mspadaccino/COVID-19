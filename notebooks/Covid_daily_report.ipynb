{
 "cells": [
  {
   "cell_type": "markdown",
   "metadata": {
    "toc": true
   },
   "source": [
    "<h1>COVID19 World and Italy monitor<span class=\"tocSkip\"></span></h1>\n",
    "<div class=\"toc\"><ul class=\"toc-item\"><li><span><a href=\"#Notebook-Description\" data-toc-modified-id=\"Notebook-Description-1\"><span class=\"toc-item-num\">1&nbsp;&nbsp;</span>Notebook Description</a></span></li><li><span><a href=\"#Italy-Monitor\" data-toc-modified-id=\"Italy-Monitor-2\"><span class=\"toc-item-num\">2&nbsp;&nbsp;</span>Italy Monitor</a></span><ul class=\"toc-item\"><li><span><a href=\"#Provinces\" data-toc-modified-id=\"Provinces-2.1\"><span class=\"toc-item-num\">2.1&nbsp;&nbsp;</span>Provinces</a></span><ul class=\"toc-item\"><li><span><a href=\"#Top-provinces-for-the-day\" data-toc-modified-id=\"Top-provinces-for-the-day-2.1.1\"><span class=\"toc-item-num\">2.1.1&nbsp;&nbsp;</span>Top provinces for the day</a></span></li><li><span><a href=\"#Provinces-analysis-per-region\" data-toc-modified-id=\"Provinces-analysis-per-region-2.1.2\"><span class=\"toc-item-num\">2.1.2&nbsp;&nbsp;</span>Provinces analysis per region</a></span></li></ul></li><li><span><a href=\"#Regional-analysis\" data-toc-modified-id=\"Regional-analysis-2.2\"><span class=\"toc-item-num\">2.2&nbsp;&nbsp;</span>Regional analysis</a></span><ul class=\"toc-item\"><li><span><a href=\"#Daily-cases\" data-toc-modified-id=\"Daily-cases-2.2.1\"><span class=\"toc-item-num\">2.2.1&nbsp;&nbsp;</span>Daily cases</a></span></li><li><span><a href=\"#Total-cases-decomposition\" data-toc-modified-id=\"Total-cases-decomposition-2.2.2\"><span class=\"toc-item-num\">2.2.2&nbsp;&nbsp;</span>Total cases decomposition</a></span></li><li><span><a href=\"#Evolution-analysis\" data-toc-modified-id=\"Evolution-analysis-2.2.3\"><span class=\"toc-item-num\">2.2.3&nbsp;&nbsp;</span>Evolution analysis</a></span></li><li><span><a href=\"#Model-fitting\" data-toc-modified-id=\"Model-fitting-2.2.4\"><span class=\"toc-item-num\">2.2.4&nbsp;&nbsp;</span>Model fitting</a></span></li></ul></li></ul></li><li><span><a href=\"#World-Monitor\" data-toc-modified-id=\"World-Monitor-3\"><span class=\"toc-item-num\">3&nbsp;&nbsp;</span>World Monitor</a></span><ul class=\"toc-item\"><li><span><a href=\"#Top-countries\" data-toc-modified-id=\"Top-countries-3.1\"><span class=\"toc-item-num\">3.1&nbsp;&nbsp;</span>Top countries</a></span></li><li><span><a href=\"#Total-cases-decomposition\" data-toc-modified-id=\"Total-cases-decomposition-3.2\"><span class=\"toc-item-num\">3.2&nbsp;&nbsp;</span>Total cases decomposition</a></span></li><li><span><a href=\"#Country-comparisons\" data-toc-modified-id=\"Country-comparisons-3.3\"><span class=\"toc-item-num\">3.3&nbsp;&nbsp;</span>Country comparisons</a></span></li><li><span><a href=\"#Model-fitting\" data-toc-modified-id=\"Model-fitting-3.4\"><span class=\"toc-item-num\">3.4&nbsp;&nbsp;</span>Model fitting</a></span></li></ul></li></ul></div>"
   ]
  },
  {
   "cell_type": "markdown",
   "metadata": {},
   "source": [
    "# Notebook Description"
   ]
  },
  {
   "cell_type": "markdown",
   "metadata": {},
   "source": [
    "<img src=\"image.png\">"
   ]
  },
  {
   "cell_type": "markdown",
   "metadata": {},
   "source": [
    "This repo contains analysis built around data about global and italian diffusion of COVID-19 that might be useful in monitoring the spread of coronavirus around the world.\n",
    "\n",
    "This monitor does not by any means intend to provide any attempt to predict future evolutions of the virus but only to offer a visual tool to capture its dynamics.\n",
    "\n",
    "Data are automatically downloaded from publicly available repos such as:\n",
    "\n",
    "1) John Hopkins CSSE (https://github.com/CSSEGISandData/COVID-19) for world data\n",
    "\n",
    "2) Protezione Civile Italiana (https://github.com/pcm-dpc/COVID-19) for national data\n",
    "\n",
    "Just scroll down the notebook to perform various analysis on both worldwide and italian data\n",
    "\n",
    "Code available at my repo:\n",
    "https://github.com/mspadaccino/COVID-19\n",
    "\n",
    "(jupyter notebook and code by Maurizio Spadaccino, april 2020)"
   ]
  },
  {
   "cell_type": "code",
   "execution_count": 1,
   "metadata": {},
   "outputs": [],
   "source": [
    "%load_ext autoreload\n",
    "%autoreload 2\n",
    "import sys\n",
    "import os\n",
    "import types\n",
    "sys.path.append('../')\n",
    "import pandas as pd\n",
    "import numpy as np\n",
    "import matplotlib.pyplot as plt\n",
    "import matplotlib.dates as mdates\n",
    "from src.models import func_log, func_gomp, func_exp, func_ext_log\n",
    "import inspect\n",
    "import plotly.express as px\n",
    "from sklearn.linear_model import LinearRegression\n",
    "from scipy.integrate import odeint\n",
    "from scipy.optimize import curve_fit\n",
    "from scipy.optimize import differential_evolution\n",
    "from src.data_downloader import DATA_REPOS, download_from_repo\n",
    "from src.tools import add_extra_features\n",
    "from matplotlib.ticker import ScalarFormatter\n",
    "import matplotlib.ticker as ticker\n",
    "from ipywidgets import interact, interactive, fixed, interact_manual\n",
    "import ipywidgets as widgets\n",
    "import plotly.graph_objects as go\n",
    "from plotly.graph_objs import Layout\n",
    "pd.set_option('display.max_columns', None)"
   ]
  },
  {
   "cell_type": "code",
   "execution_count": 2,
   "metadata": {},
   "outputs": [],
   "source": [
    "dest='../data'"
   ]
  },
  {
   "cell_type": "code",
   "execution_count": 7,
   "metadata": {},
   "outputs": [
    {
     "name": "stdout",
     "output_type": "stream",
     "text": [
      "updating datasets from repos...\n",
      "downloading world data\n",
      "downloading Italian data\n",
      "could not retrieve repo infos,  Error -5 while decompressing data: incomplete or truncated stream\n"
     ]
    }
   ],
   "source": [
    "print('updating datasets from repos...')\n",
    "print('downloading Italian data')\n",
    "download_from_repo(DATA_REPOS['italy']['url'], filenames=DATA_REPOS['italy']['streams'], dest=dest)\n",
    "print('downloading world data')\n",
    "download_from_repo(DATA_REPOS['world']['url'], filenames=DATA_REPOS['world']['streams'], dest=dest)"
   ]
  },
  {
   "cell_type": "code",
   "execution_count": 3,
   "metadata": {
    "scrolled": true
   },
   "outputs": [],
   "source": [
    "# loading datasets\n",
    "df_naz = pd.read_csv(os.path.join(dest,'dpc-covid19-ita-andamento-nazionale.csv')).drop('stato',1)\n",
    "reg = pd.read_csv(os.path.join(dest,'dpc-covid19-ita-regioni.csv'))\n",
    "prov = pd.read_csv(os.path.join(dest,'dpc-covid19-ita-province.csv')).drop('stato',1)\n",
    "df_naz.index = pd.to_datetime(df_naz.index)\n",
    "reg['data'] = pd.to_datetime(reg['data'])\n",
    "prov['data'] = pd.to_datetime(prov['data'])\n",
    "df_world_confirmed = pd.read_csv(os.path.join(dest,'time_series_covid19_confirmed_global.csv'))\n",
    "df_world_deaths = pd.read_csv(os.path.join(dest,'time_series_covid19_deaths_global.csv'))\n",
    "df_world_recovered = pd.read_csv(os.path.join(dest,'time_series_covid19_recovered_global.csv'))\n",
    "populations = pd.read_csv(os.path.join(dest,'API_SP.POP.TOTL_DS2_en_csv_v2.csv'), skiprows=4, engine='python').set_index('Country Name')['2018']\n",
    "ita_populations = pd.read_csv(os.path.join(dest,'popitaregions.csv'))\n",
    "df_world_confirmed['pop'] = df_world_confirmed['Country/Region'].map(populations)\n",
    "df_world_deaths['pop'] = df_world_deaths['Country/Region'].map(populations)\n",
    "df_world_recovered['pop'] = df_world_recovered['Country/Region'].map(populations)\n",
    "df_naz = add_extra_features(df_naz)\n",
    "regions = reg.groupby('denominazione_regione')\n",
    "df_reg = {}\n",
    "df_reg['Italy'] = df_naz\n",
    "for item in regions.groups:\n",
    "    df_reg[item] = add_extra_features(regions.get_group(item)).replace((np.inf, np.nan), 0)\n",
    "\n",
    "provinces = prov.groupby('sigla_provincia')\n",
    "df_prov = pd.DataFrame()\n",
    "for item in provinces.groups:\n",
    "    df_prov = pd.concat((df_prov,add_extra_features(provinces.get_group(item)).replace((np.inf, np.nan), 0)),0)"
   ]
  },
  {
   "cell_type": "code",
   "execution_count": 4,
   "metadata": {},
   "outputs": [],
   "source": [
    "#fixing country and province different names from different datasets\n",
    "pop_replace = [('US', 'United States'), ('Korea, South', 'Korea, Rep.'), \n",
    "               ('Venezuela','Venezuela, RB'), ('Bahamas','Bahamas, The'), \n",
    "               ('Iran','Iran, Islamic Rep.'), ('Russia','Russian Federation'), \n",
    "               ('Egypt','Egypt, Arab Rep.'), ('Syria','Syrian Arab Republic'),\n",
    "               ('Slovakia','Slovak Republic'),('Czechia','Czech Republic'),\n",
    "               ('Congo (Brazzaville)','Congo, Rep.'),\n",
    "               ('Congo (Kinshasa)','Congo, Dem. Rep.'),('Kyrgyzstan','Kyrgyz Republic'),\n",
    "               ('Laos','Lao PDR'),('Brunei','Brunei Darussalam'),\n",
    "               ('Gambia', 'Gambia, The')]\n",
    "for item in pop_replace:\n",
    "    try:\n",
    "        populations.loc[item[0]] = populations.loc[item[1]]\n",
    "        del populations[item[1]]\n",
    "    except Exception as e:\n",
    "        print(e)\n",
    "        \n",
    "pops = ita_populations.loc[ita_populations['Regione']=='Trentino-Alto Adige', ['Popolazione','Superficie sqkm','ab/sqkm','Numero_comuni','Numero_province']].values/2\n",
    "newdf = pd.DataFrame(index = ['P.A. Trento', 'P.A. Bolzano', 'Italy'], columns=ita_populations.set_index('Regione').columns)\n",
    "newdf.loc['P.A. Trento']=pops[0]\n",
    "newdf.loc['P.A. Bolzano']=pops[0]\n",
    "newdf.loc['Italy']= [populations.loc['Italy'], 0., 0., 0., 0.]\n",
    "newdf.reset_index(inplace=True)\n",
    "newdf.rename(columns={'index': 'Regione'}, inplace=True)\n",
    "ita_populations = pd.concat((ita_populations,newdf)).set_index('Regione')"
   ]
  },
  {
   "cell_type": "code",
   "execution_count": 5,
   "metadata": {},
   "outputs": [],
   "source": [
    "# defining labels for use in next functions\n",
    "orig_data_columns = ['ricoverati_con_sintomi','terapia_intensiva','totale_ospedalizzati','isolamento_domiciliare',\n",
    "                    'totale_positivi',\n",
    "                     #'variazione_totale_positivi',\n",
    "                     'nuovi_positivi',\n",
    "                     'dimessi_guariti','deceduti','totale_casi','tamponi']                    \n",
    "extra_data_columns = ['growth_factor','deceduti_su_tot','deceduti_su_dimessi', 'totale_casi_su_tamponi',\n",
    "                      'totale_ospedalizzati_su_tamponi','deceduti_su_tamponi']\n",
    "delta_data_columns = ['daily_'+item for item in orig_data_columns]\n",
    "percent_delta_data_columns = ['%daily_'+item for item in orig_data_columns]\n",
    "data_columns = orig_data_columns + extra_data_columns + delta_data_columns + percent_delta_data_columns\n",
    "prov_data_columns = ['totale_casi', 'daily_totale_casi', '%daily_totale_casi', 'growth_factor']\n",
    "models = {'gompertz': func_gomp, 'logistic':func_log, 'extended logistic':func_ext_log, \n",
    "          'exponential':func_exp, 'log_linear': 'log', 'no_fit':'actual'}\n",
    "countries_columns = df_world_confirmed['Country/Region'].unique()\n",
    "countries_labels = ['confirmed', 'recovered', 'deaths', 'daily_confirmed', 'daily_recovered', 'daily_deaths',\n",
    "                   '%daily_confirmed', '%daily_recovered', '%daily_deaths']"
   ]
  },
  {
   "cell_type": "markdown",
   "metadata": {},
   "source": [
    "# Italy Monitor"
   ]
  },
  {
   "cell_type": "markdown",
   "metadata": {},
   "source": [
    "## Provinces"
   ]
  },
  {
   "cell_type": "markdown",
   "metadata": {},
   "source": [
    "### Top provinces for the day"
   ]
  },
  {
   "cell_type": "markdown",
   "metadata": {},
   "source": [
    "In this section you can view on any selected date, the geographical distribution around the italian provinces.\n",
    "\n",
    "See which provinces recorder the highest number of selected cases for the day:"
   ]
  },
  {
   "cell_type": "code",
   "execution_count": 6,
   "metadata": {
    "scrolled": false
   },
   "outputs": [
    {
     "data": {
      "application/vnd.jupyter.widget-view+json": {
       "model_id": "a003f8ed2faf4596bace2a686ca051a4",
       "version_major": 2,
       "version_minor": 0
      },
      "text/plain": [
       "interactive(children=(Dropdown(description='label', options=('totale_casi', 'daily_totale_casi', '%daily_total…"
      ]
     },
     "metadata": {},
     "output_type": "display_data"
    }
   ],
   "source": [
    "@interact\n",
    "def get_top_provinces(label= prov_data_columns, \n",
    "                      top_prov=widgets.IntSlider(min=1,max=50,step=1,value=10), date=widgets.DatePicker(\n",
    "                      description='Pick a Date',value=pd.to_datetime(df_prov.index.max())),\n",
    "                      show_map=True, show_grid=False):\n",
    "    try:\n",
    "        df_prov.index = pd.to_datetime(df_prov.index)\n",
    "\n",
    "        if len(label) == 0:\n",
    "            label = prov_data_columns[:1]\n",
    "        label = list([label])\n",
    "\n",
    "        tempdf = df_prov.loc[str(date)][['sigla_provincia','denominazione_provincia', 'lat', 'long']+ label].sort_values(by=label, \n",
    "             ascending=False)[:top_prov].set_index('sigla_provincia')\n",
    "\n",
    "        if show_map:\n",
    "            fig = px.density_mapbox(tempdf, \n",
    "                        lat='lat', lon='long', z=label[0], radius=10, \n",
    "                        labels = label[0],\n",
    "                        hover_name='denominazione_provincia',\n",
    "                        zoom=4.5,  height=800,\n",
    "                        mapbox_style=\"open-street-map\",                        \n",
    "                        title='top {} provinces on day {} for {}'.format(top_prov, date.strftime(\"%m/%d/%Y\"), label[0]),\n",
    "               )\n",
    "            fig.update_layout(paper_bgcolor='rgba(0,0,0,0)',font = dict(color = 'lightgray'))\n",
    "            fig.show()\n",
    "        else:\n",
    "            fig = px.bar(tempdf[label].reset_index(), x=label[0], y='sigla_provincia', orientation='h')\n",
    "            fig.update_layout(showlegend=True,title='top {} provinces on day {}'.format(top_prov, date.strftime(\"%m/%d/%Y\")),\n",
    "                             paper_bgcolor='rgba(0,0,0,0)',font = dict(color = 'lightgray'),plot_bgcolor='rgba(0,0,0,0)')\n",
    "            fig.update_xaxes(showgrid=show_grid, gridwidth=1, gridcolor='gray')\n",
    "            fig.update_yaxes(showgrid=show_grid, gridwidth=1, gridcolor='gray')\n",
    "\n",
    "            fig.show()\n",
    "    except Exception as e:\n",
    "        print(e)"
   ]
  },
  {
   "cell_type": "markdown",
   "metadata": {},
   "source": [
    "### Provinces analysis per region"
   ]
  },
  {
   "cell_type": "markdown",
   "metadata": {},
   "source": [
    "In this monitor, we can analyse virus statistics for the provinces in each of the selected region on a given date:"
   ]
  },
  {
   "cell_type": "code",
   "execution_count": 8,
   "metadata": {},
   "outputs": [
    {
     "data": {
      "application/vnd.jupyter.widget-view+json": {
       "model_id": "0027ea67d8e34ebea3a8ff154ef209b1",
       "version_major": 2,
       "version_minor": 0
      },
      "text/plain": [
       "interactive(children=(Dropdown(description='label', options=('totale_casi', 'daily_totale_casi', '%daily_total…"
      ]
     },
     "metadata": {},
     "output_type": "display_data"
    }
   ],
   "source": [
    "@interact\n",
    "def get_prov_data(label=prov_data_columns, region = list(df_prov.denominazione_regione.unique()),date=widgets.DatePicker(\n",
    "                      description='Pick a Date',value=pd.to_datetime(df_prov.index.max())), show_grid=False):\n",
    "    try:\n",
    "        df_prov.index = pd.to_datetime(df_prov.index)\n",
    "        if isinstance(df_prov.groupby('denominazione_regione').get_group(region).loc[date\n",
    "            ], pd.Series):\n",
    "            temp = pd.DataFrame(df_prov.groupby('denominazione_regione').get_group(region).loc[date]).T\n",
    "        else:    \n",
    "            temp = df_prov.groupby('denominazione_regione').get_group(region).loc[date\n",
    "            ].set_index('denominazione_provincia')[label].sort_values()#.plot(kind='barh', \n",
    "        fig = px.bar(temp.reset_index(), x=label, y='denominazione_provincia', orientation='h')\n",
    "        fig.update_layout(showlegend=True,title='{} on day {}'.format(label, date.strftime(\"%m/%d/%Y\")),\n",
    "                             paper_bgcolor='rgba(0,0,0,0)',font = dict(color = 'lightgray'),plot_bgcolor='rgba(0,0,0,0)')\n",
    "        fig.update_xaxes(showgrid=show_grid, gridwidth=1, gridcolor='lightgray')\n",
    "        fig.update_yaxes(showgrid=show_grid, gridwidth=1, gridcolor='lightgray')\n",
    "\n",
    "        fig.show()\n",
    "    except Exception as e:\n",
    "        print(e)"
   ]
  },
  {
   "cell_type": "markdown",
   "metadata": {},
   "source": [
    "## Regional analysis"
   ]
  },
  {
   "cell_type": "markdown",
   "metadata": {},
   "source": [
    "### Daily cases"
   ]
  },
  {
   "cell_type": "markdown",
   "metadata": {},
   "source": [
    "In this monitor, you can compare data on a given date for one or more regions on both absolute and relative values). \n",
    "\n",
    "Please note: more items can be selected, on both region and data fields."
   ]
  },
  {
   "cell_type": "code",
   "execution_count": 9,
   "metadata": {},
   "outputs": [
    {
     "data": {
      "application/vnd.jupyter.widget-view+json": {
       "model_id": "91b25796a97d4ff2846ee26838332d2d",
       "version_major": 2,
       "version_minor": 0
      },
      "text/plain": [
       "interactive(children=(SelectMultiple(description='regions', options=('Italy', 'Abruzzo', 'Basilicata', 'Calabr…"
      ]
     },
     "metadata": {},
     "output_type": "display_data"
    }
   ],
   "source": [
    "@interact\n",
    "def get_values_for_day(regions = widgets.SelectMultiple(description=\"regions\",options=list(df_reg.keys())),\n",
    "                       labels = widgets.SelectMultiple(description=\"data\",options=data_columns),\n",
    "                       date=widgets.DatePicker(description='Pick a Date',value=pd.to_datetime(df_prov.index.max())),\n",
    "                       cases_per_mln_people=False, show_grid=False):\n",
    "    try:\n",
    "        if len(regions) == 0:\n",
    "            regions = ['Italy']\n",
    "        regions = list(regions)    \n",
    "        if len(labels) == 0:\n",
    "            labels = ['nuovi_positivi', 'deceduti','dimessi_guariti']\n",
    "        labels = list(labels)\n",
    "        mult = 1.\n",
    "        fig = go.Figure()\n",
    "        for region in regions:    \n",
    "            if cases_per_mln_people: \n",
    "                mult = 1e06/ita_populations.loc[region, 'Popolazione']\n",
    "            for item in labels: \n",
    "                df_reg[region].index = pd.to_datetime(df_reg[region].index)\n",
    "            fig.add_traces(go.Bar(y=labels, x=df_reg[region][labels].loc[date]*mult, name=region, orientation='h'))\n",
    "            fig.update_layout(showlegend=True,title='day ' + str(date.strftime(\"%m/%d/%Y\")),\n",
    "                             paper_bgcolor='rgba(0,0,0,0)',font = dict(color = 'lightgray'),plot_bgcolor='rgba(0,0,0,0)')\n",
    "        fig.update_xaxes(showgrid=show_grid, gridwidth=1, gridcolor='lightgray')\n",
    "        fig.update_yaxes(showgrid=show_grid, gridwidth=1, gridcolor='lightgray')\n",
    "        fig.show()\n",
    "    except Exception as e:\n",
    "        print(e)"
   ]
  },
  {
   "cell_type": "markdown",
   "metadata": {},
   "source": [
    "### Total cases decomposition"
   ]
  },
  {
   "cell_type": "code",
   "execution_count": 13,
   "metadata": {},
   "outputs": [
    {
     "data": {
      "application/vnd.jupyter.widget-view+json": {
       "model_id": "956a0347d6334189b948b1c1e080c79c",
       "version_major": 2,
       "version_minor": 0
      },
      "text/plain": [
       "interactive(children=(Dropdown(description='region', options=('Italy', 'Abruzzo', 'Basilicata', 'Calabria', 'C…"
      ]
     },
     "metadata": {},
     "output_type": "display_data"
    }
   ],
   "source": [
    "@interact\n",
    "def get_regional_pie(region = df_reg.keys(),\n",
    "                     case = ['totale casi', 'attualmente positivi'],\n",
    "                     date=widgets.DatePicker(description='Pick a Date',value=pd.to_datetime(df_reg['Italy'].index.max())),):\n",
    "    try:\n",
    "        if len(region) == 0:\n",
    "            region = 'Italy'\n",
    "        if case == 'attualmente positivi':\n",
    "            labels = ['ricoverati_con_sintomi','terapia_intensiva', 'isolamento_domiciliare']\n",
    "        else:\n",
    "            labels = ['totale_positivi','dimessi_guariti', 'deceduti']\n",
    "    #     df = df_reg[region][labels]\n",
    "    #     df = pd.concat((df[['ricoverati_con_sintomi','terapia_intensiva', 'isolamento_domiciliare']].sum(1), df['totale_positivi']),1)\n",
    "    #     df = pd.concat((df[['totale_positivi','dimessi_guariti', 'deceduti']].sum(1), df['totale_casi']),1)   \n",
    "        df_reg[region].index = pd.to_datetime(df_reg[region].index)\n",
    "        fig = px.pie(df_reg[region].loc[str(date)], labels=labels, names=labels, \n",
    "                     values = df_reg[region][labels].loc[str(date)].values, \n",
    "                     title = '{} decomposition on date {} for {}'.format(case, date.strftime(\"%m/%d/%Y\"), region)\n",
    "                    )\n",
    "        fig.update_layout(paper_bgcolor='rgba(0,0,0,0)',font = dict(color = 'lightgray'),plot_bgcolor='rgba(0,0,0,0)')\n",
    "        fig.update_traces(textposition='inside', textinfo='percent+label')\n",
    "        fig.show()\n",
    "    except Exception as e:\n",
    "        print(e)"
   ]
  },
  {
   "cell_type": "markdown",
   "metadata": {},
   "source": [
    "### Evolution analysis"
   ]
  },
  {
   "cell_type": "markdown",
   "metadata": {},
   "source": [
    "In this section, it is possible to visualize evolution of selected cases and compare it between different regions (multiple selection allowed). When flag relative_date is selected, time series are normalized on their x_axis in order to compare cases starting from their first appearance date."
   ]
  },
  {
   "cell_type": "code",
   "execution_count": 16,
   "metadata": {
    "scrolled": false
   },
   "outputs": [
    {
     "data": {
      "application/vnd.jupyter.widget-view+json": {
       "model_id": "f365a95dbeb0427db5916b3e1fd04004",
       "version_major": 2,
       "version_minor": 0
      },
      "text/plain": [
       "interactive(children=(SelectMultiple(description='regions', options=('Italy', 'Abruzzo', 'Basilicata', 'Calabr…"
      ]
     },
     "metadata": {},
     "output_type": "display_data"
    }
   ],
   "source": [
    "@interact\n",
    "def plt_region(regions = widgets.SelectMultiple(description=\"regions\",options=list(df_reg.keys())), \n",
    "               labels = widgets.SelectMultiple(description=\"fields\",options=data_columns),\n",
    "               log=False, relative_dates=False, cases_per_mln_people=False, plot_bars=True, show_grid=False,\n",
    "               aggregate=False):    \n",
    "    try:\n",
    "        if len(labels) == 0:\n",
    "            labels = data_columns[:1] \n",
    "        labels = list(labels)\n",
    "        if len(regions) == 0:\n",
    "            regions = ['Italy']\n",
    "        regions = list(regions)  \n",
    "        fig = go.Figure()\n",
    "        mult = 1.\n",
    "        for item in labels:\n",
    "            if aggregate:\n",
    "                if cases_per_mln_people: \n",
    "                    mult = 1e06/ita_populations.loc[regions, 'Popolazione'].sum()                \n",
    "                temp = df_reg[regions[0]][item].copy()                \n",
    "                for region in regions[1:]:\n",
    "                    temp = temp.add(df_reg[region][item])\n",
    "                temp = pd.DataFrame(temp)\n",
    "                if relative_dates: temp = temp.loc[~(temp[item]==0)].reset_index(drop=True).iloc[:-1] \n",
    "                if log:\n",
    "                    if plot_bars:\n",
    "                        fig.add_traces(go.Bar(x=temp.index, y=temp[item]*mult, name=item+'_'+'-'.join(regions)))\n",
    "                    else: \n",
    "                        fig.add_traces(go.Scatter(x=temp.index, y=temp[item]*mult, name=item+'_'+'-'.join(regions)))\n",
    "                else:\n",
    "                    if plot_bars:\n",
    "                        fig.add_traces(go.Bar(x=temp.index, y=temp[item]*mult, name=item+'_'+'-'.join(regions)))\n",
    "                    else:\n",
    "                        fig.add_traces(go.Scatter(x=temp.index, y=temp[item]*mult, name=item+'_'+'-'.join(regions)))\n",
    "                fig.update_layout(legend_orientation=\"h\")\n",
    "\n",
    "            else:\n",
    "                for region in regions:\n",
    "                    if cases_per_mln_people: \n",
    "                        mult = 1e06/ita_populations.loc[region, 'Popolazione']\n",
    "                    df_reg[region].index = pd.to_datetime(df_reg[region].index)\n",
    "                    temp = df_reg[region]\n",
    "                    \n",
    "                    if relative_dates: temp = temp.loc[~(temp[item]==0)].reset_index(drop=True).iloc[:-1] \n",
    "                    if log:\n",
    "                        if plot_bars:\n",
    "                            fig.add_traces(go.Bar(x=temp.index, y=temp[item]*mult, name=item+'_'+region))\n",
    "                        else: \n",
    "                            fig.add_traces(go.Scatter(x=temp.index, y=temp[item]*mult, name=item+'_'+region))\n",
    "                    else:\n",
    "                        if plot_bars:\n",
    "                            fig.add_traces(go.Bar(x=temp.index, y=temp[item]*mult, name=item+'_'+region))\n",
    "                        else:\n",
    "                            fig.add_traces(go.Scatter(x=temp.index, y=temp[item]*mult, name=item+'_'+region))\n",
    "                    \n",
    "        fig.update_layout(showlegend=True,paper_bgcolor='rgba(0,0,0,0)',font = dict(color = 'lightgray'),plot_bgcolor='rgba(0,0,0,0)')\n",
    "        if log: fig.update_layout(yaxis_type=\"log\")\n",
    "        fig.update_xaxes(showgrid=show_grid, gridwidth=1, gridcolor='lightgray')\n",
    "        fig.update_yaxes(showgrid=show_grid, gridwidth=1, gridcolor='lightgray')\n",
    "\n",
    "        fig.show()\n",
    "    except Exception as e:\n",
    "        print(e)   "
   ]
  },
  {
   "cell_type": "markdown",
   "metadata": {},
   "source": [
    "### Model fitting"
   ]
  },
  {
   "cell_type": "markdown",
   "metadata": {},
   "source": [
    "In this section, it is possible to fit various models in order to provide a visual forecasting according to the selected model.\n",
    "\n",
    "Various options are available:\n",
    "\n",
    "1) Generalized logistic\n",
    "\n",
    "2) Extended logistic\n",
    "\n",
    "3) Gompertz growth model\n",
    "\n",
    "4) Exponential model\n",
    "\n",
    "5) Logarithmic-linear regression model\n",
    "\n",
    "6) No fit (just actual data)\n",
    "\n",
    "for cases where there is no reason to expect a saturation (\"plateau\"), such as daily new infected data, it is possibile to fit the data a as a derivative by setting fit_differential flag to True\n"
   ]
  },
  {
   "cell_type": "code",
   "execution_count": 17,
   "metadata": {},
   "outputs": [
    {
     "data": {
      "application/vnd.jupyter.widget-view+json": {
       "model_id": "e6969fba93164e61b52eabd18d552d16",
       "version_major": 2,
       "version_minor": 0
      },
      "text/plain": [
       "interactive(children=(Dropdown(description='region', options=('Italy', 'Abruzzo', 'Basilicata', 'Calabria', 'C…"
      ]
     },
     "metadata": {},
     "output_type": "display_data"
    }
   ],
   "source": [
    "@interact\n",
    "def get_model(region=list(df_reg.keys()), \n",
    "              start_fit=widgets.DatePicker(value=pd.to_datetime(df_naz.index[0])), \n",
    "              end_fit=widgets.DatePicker(value=pd.to_datetime(df_naz.index[-1])), fwd_look=50, \n",
    "              func=models, label = data_columns, \n",
    "              stdev=widgets.IntSlider(min=0, max=3, value=1),\n",
    "              fit_differential=False, plot_bars=False, show_grid=False):\n",
    "    try:\n",
    "        if region=='Italy':\n",
    "            df = df_naz\n",
    "        else:\n",
    "            df = df_reg[region]\n",
    "        df.index = pd.to_datetime(df.index)\n",
    "        start_fit = pd.Timestamp(start_fit)\n",
    "        end_fit = pd.Timestamp(end_fit)\n",
    "        y_fit = df[label].loc[start_fit:end_fit].dropna()\n",
    "        x_fit = range(len(y_fit.index))\n",
    "        if isinstance(func, types.FunctionType):\n",
    "            x_pred2 = range(len(df.index)+fwd_look)\n",
    "            x_pred1 = range(len(df.index))\n",
    "            sig = inspect.signature(func)\n",
    "            n_params = len(sig.parameters.items()) -1\n",
    "            if fit_differential:\n",
    "                y_fit = y_fit.cumsum()\n",
    "            params, params_cov = curve_fit(func, x_fit, y_fit, \n",
    "                                bounds=([0. for item in range(n_params)], \n",
    "                                        [np.inf for item in range(n_params)]), \n",
    "                                           method='trf', maxfev=10000)\n",
    "            stderr = np.sqrt(np.diag(params_cov))\n",
    "            params_up = params + stderr * stdev\n",
    "            params_down = params - stderr * stdev\n",
    "            y_pred1 = func(x_pred1, *params)\n",
    "            y_pred2 = func(x_pred2, *params)\n",
    "            y_pred_up = func(x_pred2, *params_up)\n",
    "            y_pred_down = func(x_pred2, *params_down)\n",
    "            if fit_differential:\n",
    "                y_pred1 = np.diff(y_pred1)\n",
    "                y_pred2 = np.diff(y_pred2)\n",
    "                y_pred_up = np.diff(y_pred_up)\n",
    "                y_pred_down = np.diff(y_pred_down)\n",
    "            errors = (y_pred_up - y_pred_down)\n",
    "            rmse = np.sqrt(np.mean((y_fit - func(x_fit, *params)) ** 2))\n",
    "        elif func=='log':\n",
    "            x_pred2 = range(len(df.index)+fwd_look)\n",
    "            x_pred1 = range(len(df.index))\n",
    "            model = LinearRegression()\n",
    "            model.fit(np.array(x_fit).reshape(-1,1), np.log1p(y_fit))\n",
    "            r2 = model.score(np.array(x_fit).reshape(-1, 1), np.log1p(y_fit))\n",
    "            params = model.coef_\n",
    "            y_pred1 = model.predict(np.array(x_pred1).reshape(-1,1))\n",
    "            y_pred2 = model.predict(np.array(x_pred2).reshape(-1,1))\n",
    "            errors = 0.\n",
    "        fig = go.Figure()\n",
    "        if isinstance(func, types.FunctionType):\n",
    "            if plot_bars:\n",
    "                fig.add_traces(go.Bar(x=pd.date_range(start=df.index.min(), end=df.index.max()), y=df[label].values, \n",
    "                                      name=label))\n",
    "            else:\n",
    "                fig.add_traces(go.Scatter(x=pd.date_range(start=df.index.min(), end=df.index.max()), y=df[label].values, \n",
    "                                  name=label, mode='markers'))\n",
    "\n",
    "            fig.add_traces(go.Scatter(x=pd.date_range(start=start_fit, end=end_fit), \n",
    "                                  y=y_pred1[:(end_fit-start_fit).days], name='model rmse: '+str(int(rmse))))\n",
    "            fig.add_traces(go.Scatter(x=pd.date_range(start=end_fit, end=df.index.max()+pd.Timedelta(str(fwd_look)+'d')), \n",
    "                                  y=y_pred2[(end_fit-start_fit).days:],error_y=dict(array=errors,color='green',\n",
    "                                        thickness=.2,width=0.5), name='forecast'))   \n",
    "        elif func=='log':\n",
    "            fig.add_traces(go.Scatter(x=pd.date_range(start=df.index.min(), \n",
    "                                end=df.index.max()), y=np.log1p(df[label].values), \n",
    "                                  name=label, mode='markers'))\n",
    "            fig.add_traces(go.Scatter(x=pd.date_range(start=start_fit, end=end_fit), \n",
    "                                  y=y_pred1[:(end_fit-start_fit).days], \n",
    "                                      name='model rmse: '+str(np.round(r2,2))))\n",
    "            fig.add_traces(go.Scatter(x=pd.date_range(start=end_fit, end=df.index.max()+pd.Timedelta(str(fwd_look)+'d')), \n",
    "                                  y=y_pred2[(end_fit-start_fit).days:]\n",
    "                                      , name='log forecast'))   \n",
    "\n",
    "        else:\n",
    "            if plot_bars:\n",
    "                fig.add_traces(go.Bar(x=pd.date_range(start=df.index.min(), end=df.index.max()), y=df[label].values, \n",
    "                                  name=label))                \n",
    "            else:\n",
    "                fig.add_traces(go.Scatter(x=pd.date_range(start=df.index.min(), end=df.index.max()), y=df[label].values, \n",
    "                                  name=label))\n",
    "\n",
    "\n",
    "        fig.update_layout(showlegend=True,paper_bgcolor='rgba(0,0,0,0)',font = dict(color = 'lightgray'),plot_bgcolor='rgba(0,0,0,0)')\n",
    "        fig.update_xaxes(showgrid=show_grid, gridwidth=1, gridcolor='lightgray')\n",
    "        fig.update_yaxes(showgrid=show_grid, gridwidth=1, gridcolor='lightgray')\n",
    "        fig.show()\n",
    "    except Exception as e:\n",
    "        print(e)"
   ]
  },
  {
   "cell_type": "markdown",
   "metadata": {},
   "source": [
    "# World Monitor"
   ]
  },
  {
   "cell_type": "markdown",
   "metadata": {},
   "source": [
    "## Top countries"
   ]
  },
  {
   "cell_type": "markdown",
   "metadata": {},
   "source": [
    "Analysing top countries for given date on selected cases"
   ]
  },
  {
   "cell_type": "code",
   "execution_count": 18,
   "metadata": {},
   "outputs": [
    {
     "data": {
      "application/vnd.jupyter.widget-view+json": {
       "model_id": "b1eecdcf688541b599e3a9d1431e40f1",
       "version_major": 2,
       "version_minor": 0
      },
      "text/plain": [
       "interactive(children=(Dropdown(description='labels', options=('confirmed', 'recovered', 'deaths', 'daily_confi…"
      ]
     },
     "metadata": {},
     "output_type": "display_data"
    }
   ],
   "source": [
    "@interact\n",
    "def get_top_countries(labels=countries_labels, \n",
    "                      top_prov=widgets.IntSlider(min=1,max=80,step=1,value=10), date=widgets.DatePicker(\n",
    "                      description='Pick a Date',value=pd.to_datetime(pd.to_datetime([item for item in df_world_confirmed.columns if '/' in item][-1]))),\n",
    "                      show_grid=False, show_map=True):\n",
    "    try:\n",
    "            datecols = df_world_confirmed.columns.difference(['Province/State','Country/Region','Lat','Long', 'pop'])\n",
    "            df_geo = df_world_confirmed[df_world_confirmed['Province/State'].isna()].groupby('Country/Region').first()\n",
    "            df = {}\n",
    "            df['confirmed'] = df_world_confirmed.groupby('Country/Region').agg('sum')[datecols].T\n",
    "            df['recovered'] = df_world_recovered.groupby('Country/Region').agg('sum')[datecols].T\n",
    "            df['deaths'] = df_world_deaths.groupby('Country/Region').agg('sum')[datecols].T\n",
    "            df['daily_deaths'] = df['deaths'].diff()\n",
    "            df['daily_confirmed'] = df['confirmed'].diff()\n",
    "            df['daily_recovered'] = df['recovered'].diff()\n",
    "            df['%daily_deaths'] = df['deaths'].diff()/df['deaths'].shift()\n",
    "            df['%daily_confirmed'] = df['confirmed'].diff()/df['confirmed'].shift()\n",
    "            df['%daily_recovered'] = df['recovered'].diff()/df['recovered'].shift()\n",
    "            for item in df.keys():\n",
    "                df[item].index = pd.to_datetime(df[item].index)     \n",
    "            mult = 1.\n",
    "            fig = go.Figure()        \n",
    "            tempdf = df[labels].loc[date.strftime(\"%Y-%m-%d\")].T\n",
    "            tempdf['lat'] = tempdf.index.map(df_geo['Lat'])\n",
    "            tempdf['long'] = tempdf.index.map(df_geo['Long'])\n",
    "            tempdf.columns = [labels, 'lat', 'long']\n",
    "            tempdf = tempdf.sort_values(by=labels, ascending=False)[:top_prov]        \n",
    "            if show_map:\n",
    "                fig = px.density_mapbox(tempdf.reset_index(), \n",
    "                            lat='lat', lon='long', z=labels, radius=10, \n",
    "                            labels = labels,\n",
    "                            hover_name='Country/Region',\n",
    "                            zoom=0,  height=800,\n",
    "                            mapbox_style=\"open-street-map\",                        \n",
    "                            title='top {} countries on day {} for {}'.format(top_prov, date.strftime(\"%m/%d/%Y\"), labels),\n",
    "                   )\n",
    "                fig.update_layout(paper_bgcolor='rgba(0,0,0,0)',font = dict(color = 'lightgray'))\n",
    "                fig.show()\n",
    "            else:\n",
    "                fig = px.bar(tempdf.reset_index(), x=labels, y='Country/Region', orientation='h')\n",
    "                fig.update_layout(showlegend=True,title='top {} countries on day {}'.format(top_prov, date.strftime(\"%m/%d/%Y\")),\n",
    "                                 paper_bgcolor='rgba(0,0,0,0)',font = dict(color = 'lightgray'),plot_bgcolor='rgba(0,0,0,0)')\n",
    "                fig.update_xaxes(showgrid=show_grid, gridwidth=1, gridcolor='gray')\n",
    "                fig.update_yaxes(showgrid=show_grid, gridwidth=1, gridcolor='gray')\n",
    "\n",
    "                fig.show()\n",
    "    except Exception as e:\n",
    "        print(e)"
   ]
  },
  {
   "cell_type": "markdown",
   "metadata": {},
   "source": [
    "## Total cases decomposition"
   ]
  },
  {
   "cell_type": "code",
   "execution_count": 14,
   "metadata": {},
   "outputs": [
    {
     "data": {
      "application/vnd.jupyter.widget-view+json": {
       "model_id": "8dc1c78d852a4bd1a4e5e9402dbfb920",
       "version_major": 2,
       "version_minor": 0
      },
      "text/plain": [
       "interactive(children=(Dropdown(description='region', options=('Afghanistan', 'Albania', 'Algeria', 'Andorra', …"
      ]
     },
     "metadata": {},
     "output_type": "display_data"
    }
   ],
   "source": [
    "@interact\n",
    "def get_world_pie(region = countries_columns,\n",
    "                  date=widgets.DatePicker(description='Pick a Date',\n",
    "                        value=pd.to_datetime([item for item in df_world_confirmed.columns if '/' in item][-1])),):\n",
    "    try:\n",
    "        if len(region) == 0:\n",
    "            region = 'Italy'\n",
    "        df = {}\n",
    "        df['confirmed'] = df_world_confirmed.copy().groupby('Country/Region').sum().drop(['Lat', 'Long', 'pop'], 1).T\n",
    "        df['recovered'] = df_world_recovered.copy().groupby('Country/Region').sum().drop(['Lat', 'Long', 'pop'], 1).T        \n",
    "        df['deaths'] = df_world_deaths.copy().groupby('Country/Region').sum().drop(['Lat', 'Long', 'pop'], 1).T\n",
    "        df['active'] = df['confirmed'] - df['recovered'] - df['deaths']        \n",
    "        labels = ['recovered', 'deaths', 'active']\n",
    "        df = pd.concat((df['recovered'][region], df['deaths'][region], df['active'][region]),1)\n",
    "        df.columns = labels\n",
    "        for item in df.keys():\n",
    "            df.index = pd.to_datetime(df.index)  \n",
    "        fig = px.pie(df.loc[date.strftime(\"%Y-%m-%d\")], labels=labels, names=labels, \n",
    "                     values = df[labels].loc[date.strftime(\"%Y-%m-%d\")].values, title = 'total cases decomposition on date {} for {}'.format(date.strftime(\"%m/%d/%Y\"), region))\n",
    "        fig.update_layout(paper_bgcolor='rgba(0,0,0,0)',font = dict(color = 'lightgray'),plot_bgcolor='rgba(0,0,0,0)')\n",
    "        fig.update_traces(textposition='inside', textinfo='percent+label')\n",
    "        fig.show()\n",
    "    except Exception as e:\n",
    "        print(e)"
   ]
  },
  {
   "cell_type": "markdown",
   "metadata": {},
   "source": [
    "## Country comparisons"
   ]
  },
  {
   "cell_type": "markdown",
   "metadata": {},
   "source": [
    "In this section we provide comparison analysise between different countries"
   ]
  },
  {
   "cell_type": "code",
   "execution_count": 20,
   "metadata": {},
   "outputs": [
    {
     "data": {
      "application/vnd.jupyter.widget-view+json": {
       "model_id": "f0009fbd54314e70a7fe900b61f56e7d",
       "version_major": 2,
       "version_minor": 0
      },
      "text/plain": [
       "interactive(children=(SelectMultiple(description='regions', options=('Afghanistan', 'Albania', 'Algeria', 'And…"
      ]
     },
     "metadata": {},
     "output_type": "display_data"
    }
   ],
   "source": [
    "@interact\n",
    "def world_comparison(regions = widgets.SelectMultiple(description=\"regions\",options=countries_columns), \n",
    "                     labels = widgets.SelectMultiple(description=\"data\",options=countries_labels),\n",
    "                     log=False, relative_dates=False, cases_per_mln_people=False, plot_bars=False, show_grid=False,\n",
    "                     aggregate=False):    \n",
    "    try:\n",
    "        if len(labels) == 0:\n",
    "            labels = countries_labels[:1]\n",
    "        labels = list(labels)\n",
    "        if len(regions) == 0:\n",
    "            regions = ['Italy', 'France', 'Spain', 'Germany', 'United Kingdom', 'US']\n",
    "        regions = list(regions)\n",
    "        df = {}\n",
    "        df['confirmed'] = df_world_confirmed.copy().groupby('Country/Region').sum().drop(['Lat', 'Long', 'pop'], 1).T\n",
    "        df['recovered'] = df_world_recovered.copy().groupby('Country/Region').sum().drop(['Lat', 'Long', 'pop'], 1).T        \n",
    "        df['deaths'] = df_world_deaths.copy().groupby('Country/Region').sum().drop(['Lat', 'Long', 'pop'], 1).T\n",
    "        df['daily_deaths'] = df['deaths'].diff()\n",
    "        df['daily_confirmed'] = df['confirmed'].diff()\n",
    "        df['daily_recovered'] = df['recovered'].diff()\n",
    "        df['%daily_deaths'] = df['deaths'].diff()/df['deaths'].shift()\n",
    "        df['%daily_confirmed'] = df['confirmed'].diff()/df['confirmed'].shift()\n",
    "        df['%daily_recovered'] = df['recovered'].diff()/df['recovered'].shift()\n",
    "        \n",
    "        mult = 1.\n",
    "        fig = go.Figure()\n",
    "        for item in labels:\n",
    "            if aggregate:\n",
    "                if cases_per_mln_people: \n",
    "                    mult = 1e06/populations.loc[regions].sum()\n",
    "                temp = df[item][regions[0]].copy()        \n",
    "                for region in regions[1:]:                    \n",
    "                    temp = temp.add(df[item][region])\n",
    "                temp.index = pd.to_datetime(temp.index)\n",
    "                if relative_dates: temp = temp.loc[~(temp==0)].reset_index(drop=True).iloc[:-1] \n",
    "                if log:\n",
    "                    if plot_bars:\n",
    "                        fig.add_traces(go.Bar(x=temp.index, y=temp*mult, name=item+'_'+'-'.join(regions)))\n",
    "                    else:\n",
    "                        fig.add_traces(go.Scatter(x=temp.index, y=temp*mult, name=item+'_'+'-'.join(regions)))\n",
    "                else:\n",
    "                    if plot_bars:\n",
    "                        fig.add_traces(go.Bar(x=temp.index, y=temp*mult, name=item+'_'+'-'.join(regions)))\n",
    "                    else:\n",
    "                        fig.add_traces(go.Scatter(x=temp.index, y=temp*mult, name=item+'_'+'-'.join(regions)))\n",
    "                fig.update_layout(legend_orientation=\"h\")\n",
    "            else:\n",
    "                for region in regions:            \n",
    "                    temp = df[item][region]\n",
    "                    temp.index = pd.to_datetime(temp.index)\n",
    "                    if cases_per_mln_people: \n",
    "                        mult = 1e06/populations.loc[region]\n",
    "                    if relative_dates: temp = temp.loc[~(temp==0)].reset_index(drop=True).iloc[:-1] \n",
    "                    if log:\n",
    "                        if plot_bars:\n",
    "                            fig.add_traces(go.Bar(x=temp.index, y=temp*mult, name=item+'_'+region))\n",
    "                        else:\n",
    "                            fig.add_traces(go.Scatter(x=temp.index, y=temp*mult, name=item+'_'+region))\n",
    "                    else:\n",
    "                        if plot_bars:\n",
    "                            fig.add_traces(go.Bar(x=temp.index, y=temp*mult, name=item+'_'+region))\n",
    "                        else:\n",
    "                            fig.add_traces(go.Scatter(x=temp.index, y=temp*mult, name=item+'_'+region))\n",
    "        fig.update_layout(showlegend=True,paper_bgcolor='rgba(0,0,0,0)',font = dict(color = 'lightgray'),plot_bgcolor='rgba(0,0,0,0)')\n",
    "        if log: fig.update_layout(yaxis_type=\"log\")\n",
    "        fig.update_xaxes(showgrid=show_grid, gridwidth=1, gridcolor='lightgray')\n",
    "        fig.update_yaxes(showgrid=show_grid, gridwidth=1, gridcolor='lightgray')\n",
    "        fig.show()\n",
    "    except Exception as e:\n",
    "        print(e)"
   ]
  },
  {
   "cell_type": "markdown",
   "metadata": {},
   "source": [
    "## Model fitting"
   ]
  },
  {
   "cell_type": "markdown",
   "metadata": {},
   "source": [
    "The same model fitting can be performed for world countries"
   ]
  },
  {
   "cell_type": "code",
   "execution_count": 21,
   "metadata": {},
   "outputs": [
    {
     "data": {
      "application/vnd.jupyter.widget-view+json": {
       "model_id": "28d36f27dfb449af87ee1b256fabd3a1",
       "version_major": 2,
       "version_minor": 0
      },
      "text/plain": [
       "interactive(children=(Dropdown(description='region', options=('Afghanistan', 'Albania', 'Algeria', 'Andorra', …"
      ]
     },
     "metadata": {},
     "output_type": "display_data"
    }
   ],
   "source": [
    "@interact\n",
    "def get_model_world(region=countries_columns, \n",
    "              start_fit=widgets.DatePicker(value=pd.to_datetime(df_naz.index[0])), \n",
    "              end_fit=widgets.DatePicker(value=pd.to_datetime(df_naz.index[-1])), fwd_look=50, \n",
    "              func=models, label = countries_labels, stdev=widgets.IntSlider(min=0, max=3, value=1),\n",
    "              fit_differential=False, plot_bars=False, show_grid=False):\n",
    "    if 'confirmed' in label:\n",
    "        df = df_world_confirmed.groupby('Country/Region').sum().drop(['Lat', 'Long', 'pop'], 1).T[region]\n",
    "        if label == 'daily_confirmed':\n",
    "            df = df.diff()\n",
    "        if label == '%daily_confirmed':\n",
    "            df = df.dropna().diff()/df.dropna().shift()            \n",
    "    elif 'recovered' in label:\n",
    "        df = df_world_recovered.groupby('Country/Region').sum().drop(['Lat', 'Long', 'pop'], 1).T[region]\n",
    "        if label == 'daily_recovered':\n",
    "            df = df.diff()\n",
    "        if label == '%daily_recovered':\n",
    "            df = df.dropna().diff()/df.dropna().shift()  \n",
    "    elif 'deaths' in label:\n",
    "        df = df_world_deaths.groupby('Country/Region').sum().drop(['Lat', 'Long', 'pop'], 1).T[region]    \n",
    "        if label == 'daily_deaths':\n",
    "            df = df.diff()\n",
    "        if label == '%daily_deaths':\n",
    "            df = df.dropna().diff()/df.dropna().shift()  \n",
    "    try:\n",
    "        df.index = pd.to_datetime(df.index)\n",
    "        start_fit = pd.Timestamp(start_fit)\n",
    "        end_fit = pd.Timestamp(end_fit)\n",
    "        y_fit = df.loc[start_fit:end_fit].dropna()\n",
    "        x_fit = range(len(y_fit.index))\n",
    "        if isinstance(func, types.FunctionType):\n",
    "            x_pred2 = range(len(df.index)+fwd_look)\n",
    "            x_pred1 = range(len(df.index))\n",
    "            sig = inspect.signature(func)\n",
    "            n_params = len(sig.parameters.items()) -1\n",
    "            if fit_differential:\n",
    "                y_fit = y_fit.cumsum()\n",
    "            params, params_cov = curve_fit(func, x_fit, y_fit, \n",
    "                                bounds=([0. for item in range(n_params)], \n",
    "                                        [np.inf for item in range(n_params)]), \n",
    "                                           method='trf',  maxfev=10000)\n",
    "            stderr = np.sqrt(np.diag(params_cov))\n",
    "            params_up = params + stderr * stdev\n",
    "            params_down = params - stderr * stdev\n",
    "            y_pred1 = func(x_pred1, *params)\n",
    "            y_pred2 = func(x_pred2, *params)\n",
    "            y_pred_up = func(x_pred2, *params_up)\n",
    "            y_pred_down = func(x_pred2, *params_down)\n",
    "            if fit_differential:\n",
    "                y_pred1 = np.diff(y_pred1)\n",
    "                y_pred2 = np.diff(y_pred2)\n",
    "                y_pred_up = np.diff(y_pred_up)\n",
    "                y_pred_down = np.diff(y_pred_down)\n",
    "            errors = (y_pred_up - y_pred_down)\n",
    "            rmse = np.sqrt(np.mean((y_fit - func(x_fit, *params)) ** 2))\n",
    "        elif func=='log':\n",
    "            x_pred2 = range(len(df.index)+fwd_look)\n",
    "            x_pred1 = range(len(df.index))\n",
    "            model = LinearRegression()\n",
    "            model.fit(np.array(x_fit).reshape(-1,1), np.log1p(y_fit))\n",
    "            r2 = model.score(np.array(x_fit).reshape(-1, 1), np.log1p(y_fit))\n",
    "            params = model.coef_\n",
    "            y_pred1 = model.predict(np.array(x_pred1).reshape(-1,1))\n",
    "            y_pred2 = model.predict(np.array(x_pred2).reshape(-1,1))\n",
    "            errors = 0.\n",
    "        fig = go.Figure()\n",
    "        if isinstance(func, types.FunctionType):\n",
    "            if plot_bars:\n",
    "                fig.add_traces(go.Bar(x=pd.date_range(start=df.index.min(), end=df.index.max()), y=df.values, \n",
    "                                  name=label))\n",
    "            else:\n",
    "                fig.add_traces(go.Scatter(x=pd.date_range(start=df.index.min(), end=df.index.max()), y=df.values, \n",
    "                                  name=label, mode='markers'))\n",
    "            fig.add_traces(go.Scatter(x=pd.date_range(start=start_fit, end=end_fit), \n",
    "                                  y=y_pred1[:(end_fit-start_fit).days], name='model rmse: '+str(int(rmse))))\n",
    "            fig.add_traces(go.Scatter(x=pd.date_range(start=end_fit, end=df.index.max()+pd.Timedelta(str(fwd_look)+'d')), \n",
    "                                  y=y_pred2[(end_fit-start_fit).days:],error_y=dict(array=errors,color='green',\n",
    "                                        thickness=.2,width=0.5), name='forecast'))   \n",
    "        elif func=='log':\n",
    "            if plot_bars:\n",
    "                fig.add_traces(go.Bar(x=pd.date_range(start=df.index.min(), \n",
    "                                end=df.index.max()), y=np.log1p(df.values), \n",
    "                                  name=label))\n",
    "            else:\n",
    "                fig.add_traces(go.Scatter(x=pd.date_range(start=df.index.min(), \n",
    "                                end=df.index.max()), y=np.log1p(df.values), \n",
    "                                  name=label, mode='markers'))\n",
    "            fig.add_traces(go.Scatter(x=pd.date_range(start=start_fit, end=end_fit), \n",
    "                                  y=y_pred1[:(end_fit-start_fit).days], \n",
    "                                      name='model rmse: '+str(np.round(r2,2))))\n",
    "            fig.add_traces(go.Scatter(x=pd.date_range(start=end_fit, end=df.index.max()+pd.Timedelta(str(fwd_look)+'d')), \n",
    "                                  y=y_pred2[(end_fit-start_fit).days:]\n",
    "                                      , name='log forecast'))   \n",
    "\n",
    "        else:\n",
    "            if plot_bars:\n",
    "                fig.add_traces(go.Bar(x=pd.date_range(start=df.index.min(), end=df.index.max()), y=df.values, \n",
    "                                  name=label))\n",
    "            else:\n",
    "                fig.add_traces(go.Scatter(x=pd.date_range(start=df.index.min(), end=df.index.max()), y=df.values, \n",
    "                                  name=label))\n",
    "\n",
    "        fig.update_layout(showlegend=True, title=region,paper_bgcolor='rgba(0,0,0,0)',font = dict(color = 'lightgray'),\n",
    "                          plot_bgcolor='rgba(0,0,0,0)')\n",
    "        fig.update_xaxes(showgrid=show_grid, gridwidth=1, gridcolor='lightgray')\n",
    "        fig.update_yaxes(showgrid=show_grid, gridwidth=1, gridcolor='lightgray')\n",
    "        fig.show()\n",
    "    except Exception as e:\n",
    "        print(e)"
   ]
  },
  {
   "cell_type": "code",
   "execution_count": null,
   "metadata": {},
   "outputs": [],
   "source": []
  }
 ],
 "metadata": {
  "hide_input": false,
  "kernelspec": {
   "display_name": "Python 3",
   "language": "python",
   "name": "python3"
  },
  "language_info": {
   "codemirror_mode": {
    "name": "ipython",
    "version": 3
   },
   "file_extension": ".py",
   "mimetype": "text/x-python",
   "name": "python",
   "nbconvert_exporter": "python",
   "pygments_lexer": "ipython3",
   "version": "3.7.6"
  },
  "toc": {
   "base_numbering": "1",
   "nav_menu": {},
   "number_sections": true,
   "sideBar": true,
   "skip_h1_title": false,
   "title_cell": "COVID19 World and Italy monitor",
   "title_sidebar": "Contents",
   "toc_cell": true,
   "toc_position": {
    "height": "calc(100% - 180px)",
    "left": "10px",
    "top": "150px",
    "width": "318px"
   },
   "toc_section_display": true,
   "toc_window_display": true
  },
  "varInspector": {
   "cols": {
    "lenName": 16,
    "lenType": 16,
    "lenVar": 40
   },
   "kernels_config": {
    "python": {
     "delete_cmd_postfix": "",
     "delete_cmd_prefix": "del ",
     "library": "var_list.py",
     "varRefreshCmd": "print(var_dic_list())"
    },
    "r": {
     "delete_cmd_postfix": ") ",
     "delete_cmd_prefix": "rm(",
     "library": "var_list.r",
     "varRefreshCmd": "cat(var_dic_list()) "
    }
   },
   "types_to_exclude": [
    "module",
    "function",
    "builtin_function_or_method",
    "instance",
    "_Feature"
   ],
   "window_display": false
  }
 },
 "nbformat": 4,
 "nbformat_minor": 2
}
