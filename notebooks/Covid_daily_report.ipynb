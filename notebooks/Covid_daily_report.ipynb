{
 "cells": [
  {
   "cell_type": "markdown",
   "metadata": {},
   "source": [
    "<a id='top'></a>"
   ]
  },
  {
   "cell_type": "markdown",
   "metadata": {},
   "source": [
    "<a id='index'></a>"
   ]
  },
  {
   "cell_type": "markdown",
   "metadata": {
    "toc": true
   },
   "source": [
    "<h1>COVID19 World and Italy monitor<span class=\"tocSkip\"></span></h1>\n",
    "<div class=\"toc\"><ul class=\"toc-item\"><li><span><a href=\"#Notebook-Description\" data-toc-modified-id=\"Notebook-Description-1\"><span class=\"toc-item-num\">1&nbsp;&nbsp;</span>Notebook Description</a></span></li><li><span><a href=\"#Italy-Monitor\" data-toc-modified-id=\"Italy-Monitor-2\"><span class=\"toc-item-num\">2&nbsp;&nbsp;</span>Italy Monitor</a></span><ul class=\"toc-item\"><li><span><a href=\"#Provinces\" data-toc-modified-id=\"Provinces-2.1\"><span class=\"toc-item-num\">2.1&nbsp;&nbsp;</span>Provinces</a></span><ul class=\"toc-item\"><li><span><a href=\"#Mortality-analysis-for-first-quarter-of-2020\" data-toc-modified-id=\"Mortality-analysis-for-first-quarter-of-2020-2.1.1\"><span class=\"toc-item-num\">2.1.1&nbsp;&nbsp;</span>Mortality analysis for first quarter of 2020</a></span></li><li><span><a href=\"#Top-provinces-for-the-day\" data-toc-modified-id=\"Top-provinces-for-the-day-2.1.2\"><span class=\"toc-item-num\">2.1.2&nbsp;&nbsp;</span>Top provinces for the day</a></span></li><li><span><a href=\"#Provinces-analysis-per-region\" data-toc-modified-id=\"Provinces-analysis-per-region-2.1.3\"><span class=\"toc-item-num\">2.1.3&nbsp;&nbsp;</span>Provinces analysis per region</a></span></li></ul></li><li><span><a href=\"#Regional-analysis\" data-toc-modified-id=\"Regional-analysis-2.2\"><span class=\"toc-item-num\">2.2&nbsp;&nbsp;</span>Regional analysis</a></span><ul class=\"toc-item\"><li><span><a href=\"#Daily-cases\" data-toc-modified-id=\"Daily-cases-2.2.1\"><span class=\"toc-item-num\">2.2.1&nbsp;&nbsp;</span>Daily cases</a></span></li><li><span><a href=\"#Total-cases-decomposition\" data-toc-modified-id=\"Total-cases-decomposition-2.2.2\"><span class=\"toc-item-num\">2.2.2&nbsp;&nbsp;</span>Total cases decomposition</a></span></li><li><span><a href=\"#Evolution-analysis\" data-toc-modified-id=\"Evolution-analysis-2.2.3\"><span class=\"toc-item-num\">2.2.3&nbsp;&nbsp;</span>Evolution analysis</a></span></li><li><span><a href=\"#Model-fitting\" data-toc-modified-id=\"Model-fitting-2.2.4\"><span class=\"toc-item-num\">2.2.4&nbsp;&nbsp;</span>Model fitting</a></span></li></ul></li></ul></li><li><span><a href=\"#World-Monitor\" data-toc-modified-id=\"World-Monitor-3\"><span class=\"toc-item-num\">3&nbsp;&nbsp;</span>World Monitor</a></span><ul class=\"toc-item\"><li><span><a href=\"#Top-countries\" data-toc-modified-id=\"Top-countries-3.1\"><span class=\"toc-item-num\">3.1&nbsp;&nbsp;</span>Top countries</a></span></li><li><span><a href=\"#Total-cases-decomposition\" data-toc-modified-id=\"Total-cases-decomposition-3.2\"><span class=\"toc-item-num\">3.2&nbsp;&nbsp;</span>Total cases decomposition</a></span></li><li><span><a href=\"#Country-comparisons\" data-toc-modified-id=\"Country-comparisons-3.3\"><span class=\"toc-item-num\">3.3&nbsp;&nbsp;</span>Country comparisons</a></span></li><li><span><a href=\"#Model-fitting\" data-toc-modified-id=\"Model-fitting-3.4\"><span class=\"toc-item-num\">3.4&nbsp;&nbsp;</span>Model fitting</a></span></li><li><span><a href=\"#SEIRD-Epidemioligic-Model-Simulator\" data-toc-modified-id=\"SEIRD-Epidemioligic-Model-Simulator-3.5\"><span class=\"toc-item-num\">3.5&nbsp;&nbsp;</span>SEIRD Epidemioligic Model Simulator</a></span><ul class=\"toc-item\"><li><ul class=\"toc-item\"><li><span><a href=\"#begin-remove-section\" data-toc-modified-id=\"begin-remove-section-3.5.0.1\"><span class=\"toc-item-num\">3.5.0.1&nbsp;&nbsp;</span>begin remove section</a></span></li></ul></li></ul></li></ul></li></ul></div>"
   ]
  },
  {
   "cell_type": "markdown",
   "metadata": {},
   "source": [
    "# Notebook Description"
   ]
  },
  {
   "cell_type": "markdown",
   "metadata": {},
   "source": [
    "<img src=\"image.png\">"
   ]
  },
  {
   "cell_type": "markdown",
   "metadata": {},
   "source": [
    "This repo contains analysis built around data about global and italian diffusion of COVID-19 that might be useful in monitoring the spread of coronavirus around the world.\n",
    "\n",
    "This monitor does not by any means intend to provide any attempt to predict future evolutions of the virus but only to offer a visual tool to capture its dynamics.\n",
    "\n",
    "Data are automatically downloaded from publicly available repos such as:\n",
    "\n",
    "1) John Hopkins CSSE (https://github.com/CSSEGISandData/COVID-19) for world data\n",
    "\n",
    "2) Protezione Civile Italiana (https://github.com/pcm-dpc/COVID-19) for national data\n",
    "\n",
    "Just scroll down the notebook to perform various analysis on both worldwide and italian data\n",
    "\n",
    "Code available at my repo:\n",
    "https://github.com/mspadaccino/COVID-19\n",
    "\n",
    "(jupyter notebook and code by Maurizio Spadaccino, april 2020)"
   ]
  },
  {
   "cell_type": "code",
   "execution_count": 1,
   "metadata": {},
   "outputs": [],
   "source": [
    "%load_ext autoreload\n",
    "%autoreload 2\n",
    "import sys\n",
    "import os\n",
    "import types\n",
    "sys.path.append('../')\n",
    "import pandas as pd\n",
    "import numpy as np\n",
    "import matplotlib.pyplot as plt\n",
    "import matplotlib.dates as mdates\n",
    "import datetime\n",
    "from src.models import func_log, func_gomp, func_exp, func_ext_log, func_pol\n",
    "import inspect\n",
    "import plotly.express as px\n",
    "from sklearn.linear_model import LinearRegression\n",
    "from scipy.integrate import odeint\n",
    "from scipy.optimize import curve_fit\n",
    "from scipy.optimize import differential_evolution\n",
    "from src.data_downloader import DATA_REPOS, download_from_repo\n",
    "from src.tools import add_extra_features\n",
    "from matplotlib.ticker import ScalarFormatter\n",
    "import matplotlib.ticker as ticker\n",
    "from ipywidgets import interact, interactive, fixed, interact_manual\n",
    "import ipywidgets as widgets\n",
    "import plotly.graph_objects as go\n",
    "from plotly.graph_objs import Layout\n",
    "from plotly.subplots import make_subplots\n",
    "import ast\n",
    "#import folium\n",
    "#from fuzzywuzzy import fuzz, process\n",
    "pd.set_option('display.max_columns', None)"
   ]
  },
  {
   "cell_type": "code",
   "execution_count": 2,
   "metadata": {},
   "outputs": [],
   "source": [
    "dest='../data'"
   ]
  },
  {
   "cell_type": "code",
   "execution_count": 3,
   "metadata": {},
   "outputs": [
    {
     "name": "stdout",
     "output_type": "stream",
     "text": [
      "updating datasets from repos...\n",
      "downloading Italian data\n",
      "updated  /dati-andamento-nazionale/dpc-covid19-ita-andamento-nazionale.csv\n",
      "updated  /dati-regioni/dpc-covid19-ita-regioni.csv\n",
      "updated  /dati-province/dpc-covid19-ita-province.csv\n",
      "could not retrieve repo infos,  Error -5 while decompressing data: incomplete or truncated stream\n",
      "downloading world data\n",
      "updated  /csse_covid_19_data/csse_covid_19_time_series/time_series_covid19_deaths_global.csv\n",
      "updated  /csse_covid_19_data/csse_covid_19_time_series/time_series_covid19_confirmed_global.csv\n",
      "updated  /csse_covid_19_data/csse_covid_19_time_series/time_series_covid19_recovered_global.csv\n",
      "last commit  2020-05-01 04:55:43\n"
     ]
    }
   ],
   "source": [
    "print('updating datasets from repos...')\n",
    "print('downloading Italian data')\n",
    "download_from_repo(DATA_REPOS['italy']['url'], filenames=DATA_REPOS['italy']['streams'], dest=dest)\n",
    "print('downloading world data')\n",
    "download_from_repo(DATA_REPOS['world']['url'], filenames=DATA_REPOS['world']['streams'], dest=dest)"
   ]
  },
  {
   "cell_type": "code",
   "execution_count": 4,
   "metadata": {},
   "outputs": [],
   "source": [
    "# uncomment this to change xls to faster loading csv for istat data\n",
    "#df_comuni_sett = pd.read_excel(os.path.join(dest, 'comuni_settimana.xlsx'))\n",
    "#df_comuni_sett.to_csv('df_comuni_sett.csv')"
   ]
  },
  {
   "cell_type": "code",
   "execution_count": 5,
   "metadata": {
    "scrolled": true
   },
   "outputs": [
    {
     "name": "stdout",
     "output_type": "stream",
     "text": [
      "last available date for Italy data 2020-04-30T17:00:00\n",
      "last available date for World data 4/30/20\n"
     ]
    }
   ],
   "source": [
    "# loading datasets\n",
    "df_naz = pd.read_csv(os.path.join(dest,'dpc-covid19-ita-andamento-nazionale.csv')).drop('stato',1)\n",
    "print('last available date for Italy data',df_naz['data'].iloc[-1])\n",
    "reg = pd.read_csv(os.path.join(dest,'dpc-covid19-ita-regioni.csv'))\n",
    "prov = pd.read_csv(os.path.join(dest,'dpc-covid19-ita-province.csv')).drop('stato',1)\n",
    "df_naz.index = pd.to_datetime(df_naz.index)\n",
    "reg['data'] = pd.to_datetime(reg['data'])\n",
    "prov['data'] = pd.to_datetime(prov['data'])\n",
    "# df_comuni_sett = pd.read_excel(os.path.join(dest, 'comuni_settimana.xlsx'))\n",
    "df_comuni_sett = pd.read_csv(os.path.join(dest, 'df_comuni_sett.csv'))\n",
    "df_world_confirmed = pd.read_csv(os.path.join(dest,'time_series_covid19_confirmed_global.csv'))\n",
    "df_world_deaths = pd.read_csv(os.path.join(dest,'time_series_covid19_deaths_global.csv'))\n",
    "df_world_recovered = pd.read_csv(os.path.join(dest,'time_series_covid19_recovered_global.csv'))\n",
    "populations = pd.read_csv(os.path.join(dest,'API_SP.POP.TOTL_DS2_en_csv_v2.csv'), skiprows=4, engine='python').set_index('Country Name')['2018']\n",
    "ita_populations = pd.read_csv(os.path.join(dest,'popitaregions.csv'))\n",
    "df_world_confirmed['pop'] = df_world_confirmed['Country/Region'].map(populations)\n",
    "df_world_deaths['pop'] = df_world_deaths['Country/Region'].map(populations)\n",
    "df_world_recovered['pop'] = df_world_recovered['Country/Region'].map(populations)\n",
    "print('last available date for World data',df_world_confirmed.columns[-2])\n",
    "df_naz = add_extra_features(df_naz)\n",
    "regions = reg.groupby('denominazione_regione')\n",
    "df_reg = {}\n",
    "df_reg['Italy'] = df_naz\n",
    "for item in regions.groups:\n",
    "    df_reg[item] = add_extra_features(regions.get_group(item)).replace((np.inf, np.nan), 0)\n",
    "\n",
    "provinces = prov.groupby('sigla_provincia')\n",
    "df_prov = pd.DataFrame()\n",
    "for item in provinces.groups:\n",
    "    df_prov = pd.concat((df_prov,add_extra_features(provinces.get_group(item)).replace((np.inf, np.nan), 0)),0)\n"
   ]
  },
  {
   "cell_type": "code",
   "execution_count": 6,
   "metadata": {},
   "outputs": [],
   "source": [
    "#fixing country and province different names from different datasets\n",
    "pop_replace = [('US', 'United States'), ('Korea, South', 'Korea, Rep.'), \n",
    "               ('Venezuela','Venezuela, RB'), ('Bahamas','Bahamas, The'), \n",
    "               ('Iran','Iran, Islamic Rep.'), ('Russia','Russian Federation'), \n",
    "               ('Egypt','Egypt, Arab Rep.'), ('Syria','Syrian Arab Republic'),\n",
    "               ('Slovakia','Slovak Republic'),('Czechia','Czech Republic'),\n",
    "               ('Congo (Brazzaville)','Congo, Rep.'),\n",
    "               ('Congo (Kinshasa)','Congo, Dem. Rep.'),('Kyrgyzstan','Kyrgyz Republic'),\n",
    "               ('Laos','Lao PDR'),('Brunei','Brunei Darussalam'),\n",
    "               ('Gambia', 'Gambia, The')]\n",
    "for item in pop_replace:\n",
    "    try:\n",
    "        populations.loc[item[0]] = populations.loc[item[1]]\n",
    "        del populations[item[1]]\n",
    "    except Exception as e:\n",
    "        print(e)\n",
    "        \n",
    "pops = ita_populations.loc[ita_populations['Regione']=='Trentino-Alto Adige', ['Popolazione','Superficie sqkm','ab/sqkm','Numero_comuni','Numero_province']].values/2\n",
    "newdf = pd.DataFrame(index = ['P.A. Trento', 'P.A. Bolzano', 'Italy'], columns=ita_populations.set_index('Regione').columns)\n",
    "newdf.loc['P.A. Trento']=pops[0]\n",
    "newdf.loc['P.A. Bolzano']=pops[0]\n",
    "newdf.loc['Italy']= [populations.loc['Italy'], 0., 0., 0., 0.]\n",
    "newdf.reset_index(inplace=True)\n",
    "newdf.rename(columns={'index': 'Regione'}, inplace=True)\n",
    "ita_populations = pd.concat((ita_populations,newdf)).set_index('Regione')"
   ]
  },
  {
   "cell_type": "code",
   "execution_count": 7,
   "metadata": {},
   "outputs": [],
   "source": [
    "# defining labels for use in next functions\n",
    "orig_data_columns = ['ricoverati_con_sintomi','terapia_intensiva','totale_ospedalizzati','isolamento_domiciliare',\n",
    "                    'totale_positivi',\n",
    "                     #'variazione_totale_positivi',\n",
    "                     'nuovi_positivi',\n",
    "                     'dimessi_guariti','deceduti','totale_casi','tamponi','casi_testati']                    \n",
    "extra_data_columns = ['growth_factor','deceduti_su_tot','deceduti_su_dimessi', 'totale_casi_su_tamponi',\n",
    "                      'totale_ospedalizzati_su_tamponi','deceduti_su_tamponi', 'casi_testati_su_tamponi',\n",
    "                      'deceduti_su_casi_testati', 'totale_casi_su_casi_testati', 'totale_ospedalizzati_su_casi_testati']\n",
    "delta_data_columns = ['daily_'+item for item in orig_data_columns]\n",
    "percent_delta_data_columns = ['%daily_'+item for item in orig_data_columns]\n",
    "data_columns = orig_data_columns + extra_data_columns + delta_data_columns + percent_delta_data_columns\n",
    "prov_data_columns = ['totale_casi', 'daily_totale_casi', '%daily_totale_casi', 'growth_factor']\n",
    "models = {'gompertz': func_gomp, 'logistic':func_log, 'extended logistic':func_ext_log, \n",
    "          'exponential':func_exp, 'log_linear': 'log', 'no_fit':'actual'}\n",
    "countries_columns = df_world_confirmed['Country/Region'].unique()\n",
    "countries_labels = ['confirmed', 'recovered', 'deaths', 'daily_confirmed', 'daily_recovered', 'daily_deaths',\n",
    "                   '%daily_confirmed', '%daily_recovered', '%daily_deaths']"
   ]
  },
  {
   "cell_type": "markdown",
   "metadata": {},
   "source": [
    "# Italy Monitor"
   ]
  },
  {
   "cell_type": "markdown",
   "metadata": {},
   "source": [
    "## Provinces"
   ]
  },
  {
   "cell_type": "markdown",
   "metadata": {},
   "source": [
    "### Mortality analysis for first quarter of 2020"
   ]
  },
  {
   "cell_type": "code",
   "execution_count": 36,
   "metadata": {
    "scrolled": false
   },
   "outputs": [
    {
     "data": {
      "application/vnd.jupyter.widget-view+json": {
       "model_id": "614704822dca451587fd1990d86e52c7",
       "version_major": 2,
       "version_minor": 0
      },
      "text/plain": [
       "interactive(children=(Dropdown(description='region', options=('Italy', 'Piemonte', \"Valle d'Aosta/Vallée d'Aos…"
      ]
     },
     "metadata": {},
     "output_type": "display_data"
    }
   ],
   "source": [
    "provinces = widgets.Dropdown(options=['all'])\n",
    "cities = widgets.Dropdown(options=['all'])\n",
    "\n",
    "def get_provinces(item):\n",
    "    if item == 'Italy':\n",
    "        provinces.options=['all']\n",
    "    else:\n",
    "        provinces.options=['all']+list(df_comuni_sett[df_comuni_sett['NOME_REGIONE']==item]['NOME_PROVINCIA'].unique())\n",
    "def get_cities(item1,item2):\n",
    "    if item1 == 'Italy':\n",
    "        cities.options=['all']\n",
    "    else:\n",
    "        cities.options=['all']+list(df_comuni_sett[(df_comuni_sett['NOME_REGIONE']==\n",
    "                    item1) & (df_comuni_sett['NOME_PROVINCIA']==item2)]['NOME_COMUNE'].unique())\n",
    "\n",
    "@interact\n",
    "def plot_weekly_deaths(region = ['Italy'] + list(df_comuni_sett['NOME_REGIONE'].unique()),\n",
    "                       province = provinces,\n",
    "                       city = cities,\n",
    "                       show_excess_deaths = False):\n",
    "    get_provinces(region)\n",
    "    get_cities(region,province)\n",
    "    if region == 'Italy':\n",
    "        province = ['all']\n",
    "        city = ['all']\n",
    "        get_provinces(region)\n",
    "        get_cities(region,province)\n",
    "    df_prov_deaths = df_comuni_sett.groupby(['NOME_REGIONE','NOME_PROVINCIA','NOME_COMUNE', 'SETTIMANA']).sum()[[item for item in df_comuni_sett.columns if 'TOTALE' in item]]\n",
    "    df_prov_deaths['excess_over_avg'] = df_prov_deaths['TOTALE_2020'] - df_prov_deaths[df_prov_deaths.columns[:-1]].mean(1)\n",
    "    if region == 'Italy':\n",
    "        tempdf =df_prov_deaths.reset_index().groupby('SETTIMANA').sum()\n",
    "    elif province == 'all':\n",
    "        tempdf = df_prov_deaths.loc[region].reset_index().groupby('SETTIMANA').sum()\n",
    "    elif city == 'all':\n",
    "        tempdf = df_prov_deaths.loc[region, province].reset_index().groupby('SETTIMANA').sum()    \n",
    "    else:\n",
    "        tempdf = df_prov_deaths.loc[region, province, city].reset_index().groupby('SETTIMANA').sum()\n",
    "    tempdf['start_week'] = [item[:5] for item in tempdf.index]\n",
    "    tempdf['start_week'] = tempdf['start_week'].apply(lambda x: datetime.datetime.strptime(x, '%d/%m'))\n",
    "    tempdf.sort_values(by='start_week',inplace=True)\n",
    "    tempdf.drop(['start_week'], axis=1, inplace=True)\n",
    "    if show_excess_deaths:\n",
    "        fig = make_subplots(rows=2, cols=1)    \n",
    "    else:\n",
    "        fig = go.Figure()\n",
    "    for item in [item for item in tempdf.columns[:-1]]:\n",
    "        fig.add_trace(go.Scatter(x=tempdf.index, y=tempdf[item], name=item, fill='tozeroy', opacity=0.2))\n",
    "    fig.update_layout(title={\n",
    "        'text': 'weekly deaths for 2015-2020 for {}, {}, {}, excess deaths on 2020 {}'.format(region, province, city, \n",
    "            int(tempdf['excess_over_avg'].sum())),\n",
    "            'y':0.9,\n",
    "            'x':0.5,\n",
    "            'xanchor': 'center',\n",
    "            'yanchor': 'top'},\n",
    "            paper_bgcolor='rgba(0,0,0,0)',font = dict(color = 'lightgray'),plot_bgcolor='rgba(0,0,0,0)'\n",
    "                 )\n",
    "    fig.update_xaxes(showgrid=False, gridwidth=1, gridcolor='gray')\n",
    "    fig.update_yaxes(showgrid=False, gridwidth=1, gridcolor='gray')\n",
    "\n",
    "    if show_excess_deaths:\n",
    "        fig.add_trace(go.Bar(x=tempdf.index, y=tempdf['excess_over_avg'], \n",
    "                    name='excess_deaths', opacity=1, marker_color='indianred'),\n",
    "                             row=2, col=1)\n",
    "\n",
    "\n",
    "    fig.show()"
   ]
  },
  {
   "cell_type": "markdown",
   "metadata": {},
   "source": [
    "[Top](#index)"
   ]
  },
  {
   "cell_type": "code",
   "execution_count": 37,
   "metadata": {
    "scrolled": false
   },
   "outputs": [
    {
     "data": {
      "application/vnd.plotly.v1+json": {
       "config": {
        "plotlyServerURL": "https://plot.ly"
       },
       "data": [
        {
         "coloraxis": "coloraxis",
         "featureidkey": "properties.prov_name",
         "geo": "geo",
         "geojson": "https://raw.githubusercontent.com/openpolis/geojson-italy/master/geojson/limits_IT_provinces.geojson",
         "hoverlabel": {
          "namelength": 0
         },
         "hovertemplate": "index=%{location}<br>excess_over_avg=%{z}",
         "locations": [
          "Chieti",
          "L'Aquila",
          "Pescara",
          "Teramo",
          "Matera",
          "Potenza",
          "Catanzaro",
          "Cosenza",
          "Crotone",
          "Reggio di Calabria",
          "Vibo Valentia",
          "Avellino",
          "Benevento",
          "Caserta",
          "Napoli",
          "Salerno",
          "Bologna",
          "Ferrara",
          "Forlì-Cesena",
          "Modena",
          "Parma",
          "Piacenza",
          "Ravenna",
          "Reggio nell'Emilia",
          "Rimini",
          "Gorizia",
          "Pordenone",
          "Udine",
          "Frosinone",
          "Latina",
          "Roma",
          "Viterbo",
          "Genova",
          "Imperia",
          "La Spezia",
          "Savona",
          "Bergamo",
          "Brescia",
          "Como",
          "Cremona",
          "Lecco",
          "Lodi",
          "Mantova",
          "Milano",
          "Monza e della Brianza",
          "Pavia",
          "Sondrio",
          "Varese",
          "Ancona",
          "Ascoli Piceno",
          "Fermo",
          "Macerata",
          "Pesaro e Urbino",
          "Campobasso",
          "Isernia",
          "Alessandria",
          "Asti",
          "Biella",
          "Cuneo",
          "Novara",
          "Torino",
          "Verbano-Cusio-Ossola",
          "Vercelli",
          "Bari",
          "Barletta-Andria-Trani",
          "Brindisi",
          "Foggia",
          "Lecce",
          "Taranto",
          "Cagliari",
          "Nuoro",
          "Oristano",
          "Sassari",
          "Sud Sardegna",
          "Agrigento",
          "Caltanissetta",
          "Catania",
          "Enna",
          "Messina",
          "Palermo",
          "Ragusa",
          "Siracusa",
          "Trapani",
          "Arezzo",
          "Firenze",
          "Grosseto",
          "Livorno",
          "Lucca",
          "Massa-Carrara",
          "Pisa",
          "Pistoia",
          "Siena",
          "Trento",
          "Perugia",
          "Terni",
          "Valle d'Aosta/Vallée d'Aoste",
          "Belluno",
          "Padova",
          "Rovigo",
          "Treviso",
          "Venezia",
          "Verona",
          "Vicenza",
          "Bolzano/Bozen",
          "Prato",
          "Rieti",
          "Trieste"
         ],
         "name": "",
         "type": "choropleth",
         "z": [
          39.599999999999994,
          12.200000000000003,
          32.2,
          27,
          3.6000000000000014,
          6.599999999999994,
          3,
          20.799999999999997,
          2.799999999999997,
          12,
          15.799999999999997,
          41.2,
          5.400000000000006,
          11,
          30,
          10,
          66.59999999999991,
          31,
          31.200000000000045,
          261.79999999999995,
          921.2,
          695.8,
          11.600000000000023,
          282.4,
          171.60000000000002,
          6.399999999999999,
          -7,
          50.39999999999998,
          42.80000000000001,
          -0.1999999999999993,
          -3.8000000000000114,
          7.400000000000006,
          255.5999999999999,
          83.80000000000001,
          53.60000000000002,
          11.800000000000011,
          3979.8,
          2204.6,
          187.20000000000005,
          1181,
          280.4,
          653.6,
          403.79999999999995,
          1672.3999999999996,
          536.4000000000001,
          576,
          77.80000000000001,
          90,
          57.80000000000001,
          5,
          14.400000000000006,
          15.600000000000023,
          401,
          22.799999999999997,
          3.1999999999999993,
          318.20000000000005,
          38.19999999999999,
          175.20000000000005,
          99.79999999999995,
          229.79999999999995,
          281.79999999999995,
          42.39999999999998,
          60.19999999999999,
          47,
          31.599999999999994,
          19.600000000000023,
          43.60000000000002,
          -3.3999999999999773,
          -14.599999999999994,
          29.19999999999999,
          33.80000000000001,
          14,
          81.60000000000002,
          55.80000000000001,
          -1,
          -3.3999999999999986,
          11.800000000000011,
          22,
          9.599999999999994,
          29.400000000000006,
          -4,
          -0.4000000000000057,
          21.80000000000001,
          8.400000000000006,
          94.79999999999995,
          42.39999999999998,
          41.80000000000001,
          22.399999999999977,
          27.200000000000045,
          17.600000000000023,
          17.200000000000045,
          9,
          205.79999999999995,
          1.2000000000000455,
          26.200000000000003,
          68.4,
          14,
          128.79999999999995,
          28,
          117.40000000000009,
          105.39999999999998,
          222.20000000000005,
          160,
          0,
          0,
          0,
          0
         ]
        }
       ],
       "layout": {
        "coloraxis": {
         "cmax": 3979.8,
         "cmin": 0,
         "colorbar": {
          "title": {
           "text": "excess_over_avg"
          }
         },
         "colorscale": [
          [
           0,
           "rgb(255,245,240)"
          ],
          [
           0.125,
           "rgb(254,224,210)"
          ],
          [
           0.25,
           "rgb(252,187,161)"
          ],
          [
           0.375,
           "rgb(252,146,114)"
          ],
          [
           0.5,
           "rgb(251,106,74)"
          ],
          [
           0.625,
           "rgb(239,59,44)"
          ],
          [
           0.75,
           "rgb(203,24,29)"
          ],
          [
           0.875,
           "rgb(165,15,21)"
          ],
          [
           1,
           "rgb(103,0,13)"
          ]
         ]
        },
        "font": {
         "color": "lightgray"
        },
        "geo": {
         "center": {},
         "countrycolor": "lightgray",
         "domain": {
          "x": [
           0,
           1
          ],
          "y": [
           0,
           1
          ]
         },
         "fitbounds": "locations",
         "landcolor": "Black",
         "oceancolor": "Black",
         "resolution": 50,
         "showcountries": true,
         "showland": true,
         "showocean": true,
         "showsubunits": true,
         "subunitcolor": "Blue",
         "visible": false
        },
        "legend": {
         "tracegroupgap": 0
        },
        "margin": {
         "t": 60
        },
        "paper_bgcolor": "rgba(0,0,0,0)",
        "plot_bgcolor": "rgba(0,0,0,0)",
        "showlegend": true,
        "template": {
         "data": {
          "bar": [
           {
            "error_x": {
             "color": "#2a3f5f"
            },
            "error_y": {
             "color": "#2a3f5f"
            },
            "marker": {
             "line": {
              "color": "#E5ECF6",
              "width": 0.5
             }
            },
            "type": "bar"
           }
          ],
          "barpolar": [
           {
            "marker": {
             "line": {
              "color": "#E5ECF6",
              "width": 0.5
             }
            },
            "type": "barpolar"
           }
          ],
          "carpet": [
           {
            "aaxis": {
             "endlinecolor": "#2a3f5f",
             "gridcolor": "white",
             "linecolor": "white",
             "minorgridcolor": "white",
             "startlinecolor": "#2a3f5f"
            },
            "baxis": {
             "endlinecolor": "#2a3f5f",
             "gridcolor": "white",
             "linecolor": "white",
             "minorgridcolor": "white",
             "startlinecolor": "#2a3f5f"
            },
            "type": "carpet"
           }
          ],
          "choropleth": [
           {
            "colorbar": {
             "outlinewidth": 0,
             "ticks": ""
            },
            "type": "choropleth"
           }
          ],
          "contour": [
           {
            "colorbar": {
             "outlinewidth": 0,
             "ticks": ""
            },
            "colorscale": [
             [
              0,
              "#0d0887"
             ],
             [
              0.1111111111111111,
              "#46039f"
             ],
             [
              0.2222222222222222,
              "#7201a8"
             ],
             [
              0.3333333333333333,
              "#9c179e"
             ],
             [
              0.4444444444444444,
              "#bd3786"
             ],
             [
              0.5555555555555556,
              "#d8576b"
             ],
             [
              0.6666666666666666,
              "#ed7953"
             ],
             [
              0.7777777777777778,
              "#fb9f3a"
             ],
             [
              0.8888888888888888,
              "#fdca26"
             ],
             [
              1,
              "#f0f921"
             ]
            ],
            "type": "contour"
           }
          ],
          "contourcarpet": [
           {
            "colorbar": {
             "outlinewidth": 0,
             "ticks": ""
            },
            "type": "contourcarpet"
           }
          ],
          "heatmap": [
           {
            "colorbar": {
             "outlinewidth": 0,
             "ticks": ""
            },
            "colorscale": [
             [
              0,
              "#0d0887"
             ],
             [
              0.1111111111111111,
              "#46039f"
             ],
             [
              0.2222222222222222,
              "#7201a8"
             ],
             [
              0.3333333333333333,
              "#9c179e"
             ],
             [
              0.4444444444444444,
              "#bd3786"
             ],
             [
              0.5555555555555556,
              "#d8576b"
             ],
             [
              0.6666666666666666,
              "#ed7953"
             ],
             [
              0.7777777777777778,
              "#fb9f3a"
             ],
             [
              0.8888888888888888,
              "#fdca26"
             ],
             [
              1,
              "#f0f921"
             ]
            ],
            "type": "heatmap"
           }
          ],
          "heatmapgl": [
           {
            "colorbar": {
             "outlinewidth": 0,
             "ticks": ""
            },
            "colorscale": [
             [
              0,
              "#0d0887"
             ],
             [
              0.1111111111111111,
              "#46039f"
             ],
             [
              0.2222222222222222,
              "#7201a8"
             ],
             [
              0.3333333333333333,
              "#9c179e"
             ],
             [
              0.4444444444444444,
              "#bd3786"
             ],
             [
              0.5555555555555556,
              "#d8576b"
             ],
             [
              0.6666666666666666,
              "#ed7953"
             ],
             [
              0.7777777777777778,
              "#fb9f3a"
             ],
             [
              0.8888888888888888,
              "#fdca26"
             ],
             [
              1,
              "#f0f921"
             ]
            ],
            "type": "heatmapgl"
           }
          ],
          "histogram": [
           {
            "marker": {
             "colorbar": {
              "outlinewidth": 0,
              "ticks": ""
             }
            },
            "type": "histogram"
           }
          ],
          "histogram2d": [
           {
            "colorbar": {
             "outlinewidth": 0,
             "ticks": ""
            },
            "colorscale": [
             [
              0,
              "#0d0887"
             ],
             [
              0.1111111111111111,
              "#46039f"
             ],
             [
              0.2222222222222222,
              "#7201a8"
             ],
             [
              0.3333333333333333,
              "#9c179e"
             ],
             [
              0.4444444444444444,
              "#bd3786"
             ],
             [
              0.5555555555555556,
              "#d8576b"
             ],
             [
              0.6666666666666666,
              "#ed7953"
             ],
             [
              0.7777777777777778,
              "#fb9f3a"
             ],
             [
              0.8888888888888888,
              "#fdca26"
             ],
             [
              1,
              "#f0f921"
             ]
            ],
            "type": "histogram2d"
           }
          ],
          "histogram2dcontour": [
           {
            "colorbar": {
             "outlinewidth": 0,
             "ticks": ""
            },
            "colorscale": [
             [
              0,
              "#0d0887"
             ],
             [
              0.1111111111111111,
              "#46039f"
             ],
             [
              0.2222222222222222,
              "#7201a8"
             ],
             [
              0.3333333333333333,
              "#9c179e"
             ],
             [
              0.4444444444444444,
              "#bd3786"
             ],
             [
              0.5555555555555556,
              "#d8576b"
             ],
             [
              0.6666666666666666,
              "#ed7953"
             ],
             [
              0.7777777777777778,
              "#fb9f3a"
             ],
             [
              0.8888888888888888,
              "#fdca26"
             ],
             [
              1,
              "#f0f921"
             ]
            ],
            "type": "histogram2dcontour"
           }
          ],
          "mesh3d": [
           {
            "colorbar": {
             "outlinewidth": 0,
             "ticks": ""
            },
            "type": "mesh3d"
           }
          ],
          "parcoords": [
           {
            "line": {
             "colorbar": {
              "outlinewidth": 0,
              "ticks": ""
             }
            },
            "type": "parcoords"
           }
          ],
          "pie": [
           {
            "automargin": true,
            "type": "pie"
           }
          ],
          "scatter": [
           {
            "marker": {
             "colorbar": {
              "outlinewidth": 0,
              "ticks": ""
             }
            },
            "type": "scatter"
           }
          ],
          "scatter3d": [
           {
            "line": {
             "colorbar": {
              "outlinewidth": 0,
              "ticks": ""
             }
            },
            "marker": {
             "colorbar": {
              "outlinewidth": 0,
              "ticks": ""
             }
            },
            "type": "scatter3d"
           }
          ],
          "scattercarpet": [
           {
            "marker": {
             "colorbar": {
              "outlinewidth": 0,
              "ticks": ""
             }
            },
            "type": "scattercarpet"
           }
          ],
          "scattergeo": [
           {
            "marker": {
             "colorbar": {
              "outlinewidth": 0,
              "ticks": ""
             }
            },
            "type": "scattergeo"
           }
          ],
          "scattergl": [
           {
            "marker": {
             "colorbar": {
              "outlinewidth": 0,
              "ticks": ""
             }
            },
            "type": "scattergl"
           }
          ],
          "scattermapbox": [
           {
            "marker": {
             "colorbar": {
              "outlinewidth": 0,
              "ticks": ""
             }
            },
            "type": "scattermapbox"
           }
          ],
          "scatterpolar": [
           {
            "marker": {
             "colorbar": {
              "outlinewidth": 0,
              "ticks": ""
             }
            },
            "type": "scatterpolar"
           }
          ],
          "scatterpolargl": [
           {
            "marker": {
             "colorbar": {
              "outlinewidth": 0,
              "ticks": ""
             }
            },
            "type": "scatterpolargl"
           }
          ],
          "scatterternary": [
           {
            "marker": {
             "colorbar": {
              "outlinewidth": 0,
              "ticks": ""
             }
            },
            "type": "scatterternary"
           }
          ],
          "surface": [
           {
            "colorbar": {
             "outlinewidth": 0,
             "ticks": ""
            },
            "colorscale": [
             [
              0,
              "#0d0887"
             ],
             [
              0.1111111111111111,
              "#46039f"
             ],
             [
              0.2222222222222222,
              "#7201a8"
             ],
             [
              0.3333333333333333,
              "#9c179e"
             ],
             [
              0.4444444444444444,
              "#bd3786"
             ],
             [
              0.5555555555555556,
              "#d8576b"
             ],
             [
              0.6666666666666666,
              "#ed7953"
             ],
             [
              0.7777777777777778,
              "#fb9f3a"
             ],
             [
              0.8888888888888888,
              "#fdca26"
             ],
             [
              1,
              "#f0f921"
             ]
            ],
            "type": "surface"
           }
          ],
          "table": [
           {
            "cells": {
             "fill": {
              "color": "#EBF0F8"
             },
             "line": {
              "color": "white"
             }
            },
            "header": {
             "fill": {
              "color": "#C8D4E3"
             },
             "line": {
              "color": "white"
             }
            },
            "type": "table"
           }
          ]
         },
         "layout": {
          "annotationdefaults": {
           "arrowcolor": "#2a3f5f",
           "arrowhead": 0,
           "arrowwidth": 1
          },
          "coloraxis": {
           "colorbar": {
            "outlinewidth": 0,
            "ticks": ""
           }
          },
          "colorscale": {
           "diverging": [
            [
             0,
             "#8e0152"
            ],
            [
             0.1,
             "#c51b7d"
            ],
            [
             0.2,
             "#de77ae"
            ],
            [
             0.3,
             "#f1b6da"
            ],
            [
             0.4,
             "#fde0ef"
            ],
            [
             0.5,
             "#f7f7f7"
            ],
            [
             0.6,
             "#e6f5d0"
            ],
            [
             0.7,
             "#b8e186"
            ],
            [
             0.8,
             "#7fbc41"
            ],
            [
             0.9,
             "#4d9221"
            ],
            [
             1,
             "#276419"
            ]
           ],
           "sequential": [
            [
             0,
             "#0d0887"
            ],
            [
             0.1111111111111111,
             "#46039f"
            ],
            [
             0.2222222222222222,
             "#7201a8"
            ],
            [
             0.3333333333333333,
             "#9c179e"
            ],
            [
             0.4444444444444444,
             "#bd3786"
            ],
            [
             0.5555555555555556,
             "#d8576b"
            ],
            [
             0.6666666666666666,
             "#ed7953"
            ],
            [
             0.7777777777777778,
             "#fb9f3a"
            ],
            [
             0.8888888888888888,
             "#fdca26"
            ],
            [
             1,
             "#f0f921"
            ]
           ],
           "sequentialminus": [
            [
             0,
             "#0d0887"
            ],
            [
             0.1111111111111111,
             "#46039f"
            ],
            [
             0.2222222222222222,
             "#7201a8"
            ],
            [
             0.3333333333333333,
             "#9c179e"
            ],
            [
             0.4444444444444444,
             "#bd3786"
            ],
            [
             0.5555555555555556,
             "#d8576b"
            ],
            [
             0.6666666666666666,
             "#ed7953"
            ],
            [
             0.7777777777777778,
             "#fb9f3a"
            ],
            [
             0.8888888888888888,
             "#fdca26"
            ],
            [
             1,
             "#f0f921"
            ]
           ]
          },
          "colorway": [
           "#636efa",
           "#EF553B",
           "#00cc96",
           "#ab63fa",
           "#FFA15A",
           "#19d3f3",
           "#FF6692",
           "#B6E880",
           "#FF97FF",
           "#FECB52"
          ],
          "font": {
           "color": "#2a3f5f"
          },
          "geo": {
           "bgcolor": "white",
           "lakecolor": "white",
           "landcolor": "#E5ECF6",
           "showlakes": true,
           "showland": true,
           "subunitcolor": "white"
          },
          "hoverlabel": {
           "align": "left"
          },
          "hovermode": "closest",
          "mapbox": {
           "style": "light"
          },
          "paper_bgcolor": "white",
          "plot_bgcolor": "#E5ECF6",
          "polar": {
           "angularaxis": {
            "gridcolor": "white",
            "linecolor": "white",
            "ticks": ""
           },
           "bgcolor": "#E5ECF6",
           "radialaxis": {
            "gridcolor": "white",
            "linecolor": "white",
            "ticks": ""
           }
          },
          "scene": {
           "xaxis": {
            "backgroundcolor": "#E5ECF6",
            "gridcolor": "white",
            "gridwidth": 2,
            "linecolor": "white",
            "showbackground": true,
            "ticks": "",
            "zerolinecolor": "white"
           },
           "yaxis": {
            "backgroundcolor": "#E5ECF6",
            "gridcolor": "white",
            "gridwidth": 2,
            "linecolor": "white",
            "showbackground": true,
            "ticks": "",
            "zerolinecolor": "white"
           },
           "zaxis": {
            "backgroundcolor": "#E5ECF6",
            "gridcolor": "white",
            "gridwidth": 2,
            "linecolor": "white",
            "showbackground": true,
            "ticks": "",
            "zerolinecolor": "white"
           }
          },
          "shapedefaults": {
           "line": {
            "color": "#2a3f5f"
           }
          },
          "ternary": {
           "aaxis": {
            "gridcolor": "white",
            "linecolor": "white",
            "ticks": ""
           },
           "baxis": {
            "gridcolor": "white",
            "linecolor": "white",
            "ticks": ""
           },
           "bgcolor": "#E5ECF6",
           "caxis": {
            "gridcolor": "white",
            "linecolor": "white",
            "ticks": ""
           }
          },
          "title": {
           "x": 0.05
          },
          "xaxis": {
           "automargin": true,
           "gridcolor": "white",
           "linecolor": "white",
           "ticks": "",
           "title": {
            "standoff": 15
           },
           "zerolinecolor": "white",
           "zerolinewidth": 2
          },
          "yaxis": {
           "automargin": true,
           "gridcolor": "white",
           "linecolor": "white",
           "ticks": "",
           "title": {
            "standoff": 15
           },
           "zerolinecolor": "white",
           "zerolinewidth": 2
          }
         }
        },
        "title": {
         "text": "Geographical representation of excess mortality across italian provinces"
        }
       }
      },
      "text/html": [
       "<div>\n",
       "        \n",
       "        \n",
       "            <div id=\"0661fcef-7238-4a7d-9751-b990be7ddec4\" class=\"plotly-graph-div\" style=\"height:525px; width:100%;\"></div>\n",
       "            <script type=\"text/javascript\">\n",
       "                require([\"plotly\"], function(Plotly) {\n",
       "                    window.PLOTLYENV=window.PLOTLYENV || {};\n",
       "                    \n",
       "                if (document.getElementById(\"0661fcef-7238-4a7d-9751-b990be7ddec4\")) {\n",
       "                    Plotly.newPlot(\n",
       "                        '0661fcef-7238-4a7d-9751-b990be7ddec4',\n",
       "                        [{\"coloraxis\": \"coloraxis\", \"featureidkey\": \"properties.prov_name\", \"geo\": \"geo\", \"geojson\": \"https://raw.githubusercontent.com/openpolis/geojson-italy/master/geojson/limits_IT_provinces.geojson\", \"hoverlabel\": {\"namelength\": 0}, \"hovertemplate\": \"index=%{location}<br>excess_over_avg=%{z}\", \"locations\": [\"Chieti\", \"L'Aquila\", \"Pescara\", \"Teramo\", \"Matera\", \"Potenza\", \"Catanzaro\", \"Cosenza\", \"Crotone\", \"Reggio di Calabria\", \"Vibo Valentia\", \"Avellino\", \"Benevento\", \"Caserta\", \"Napoli\", \"Salerno\", \"Bologna\", \"Ferrara\", \"Forl\\u00ec-Cesena\", \"Modena\", \"Parma\", \"Piacenza\", \"Ravenna\", \"Reggio nell'Emilia\", \"Rimini\", \"Gorizia\", \"Pordenone\", \"Udine\", \"Frosinone\", \"Latina\", \"Roma\", \"Viterbo\", \"Genova\", \"Imperia\", \"La Spezia\", \"Savona\", \"Bergamo\", \"Brescia\", \"Como\", \"Cremona\", \"Lecco\", \"Lodi\", \"Mantova\", \"Milano\", \"Monza e della Brianza\", \"Pavia\", \"Sondrio\", \"Varese\", \"Ancona\", \"Ascoli Piceno\", \"Fermo\", \"Macerata\", \"Pesaro e Urbino\", \"Campobasso\", \"Isernia\", \"Alessandria\", \"Asti\", \"Biella\", \"Cuneo\", \"Novara\", \"Torino\", \"Verbano-Cusio-Ossola\", \"Vercelli\", \"Bari\", \"Barletta-Andria-Trani\", \"Brindisi\", \"Foggia\", \"Lecce\", \"Taranto\", \"Cagliari\", \"Nuoro\", \"Oristano\", \"Sassari\", \"Sud Sardegna\", \"Agrigento\", \"Caltanissetta\", \"Catania\", \"Enna\", \"Messina\", \"Palermo\", \"Ragusa\", \"Siracusa\", \"Trapani\", \"Arezzo\", \"Firenze\", \"Grosseto\", \"Livorno\", \"Lucca\", \"Massa-Carrara\", \"Pisa\", \"Pistoia\", \"Siena\", \"Trento\", \"Perugia\", \"Terni\", \"Valle d'Aosta/Vall\\u00e9e d'Aoste\", \"Belluno\", \"Padova\", \"Rovigo\", \"Treviso\", \"Venezia\", \"Verona\", \"Vicenza\", \"Bolzano/Bozen\", \"Prato\", \"Rieti\", \"Trieste\"], \"name\": \"\", \"type\": \"choropleth\", \"z\": [39.599999999999994, 12.200000000000003, 32.2, 27.0, 3.6000000000000014, 6.599999999999994, 3.0, 20.799999999999997, 2.799999999999997, 12.0, 15.799999999999997, 41.2, 5.400000000000006, 11.0, 30.0, 10.0, 66.59999999999991, 31.0, 31.200000000000045, 261.79999999999995, 921.2, 695.8, 11.600000000000023, 282.4, 171.60000000000002, 6.399999999999999, -7.0, 50.39999999999998, 42.80000000000001, -0.1999999999999993, -3.8000000000000114, 7.400000000000006, 255.5999999999999, 83.80000000000001, 53.60000000000002, 11.800000000000011, 3979.8, 2204.6, 187.20000000000005, 1181.0, 280.4, 653.6, 403.79999999999995, 1672.3999999999996, 536.4000000000001, 576.0, 77.80000000000001, 90.0, 57.80000000000001, 5.0, 14.400000000000006, 15.600000000000023, 401.0, 22.799999999999997, 3.1999999999999993, 318.20000000000005, 38.19999999999999, 175.20000000000005, 99.79999999999995, 229.79999999999995, 281.79999999999995, 42.39999999999998, 60.19999999999999, 47.0, 31.599999999999994, 19.600000000000023, 43.60000000000002, -3.3999999999999773, -14.599999999999994, 29.19999999999999, 33.80000000000001, 14.0, 81.60000000000002, 55.80000000000001, -1.0, -3.3999999999999986, 11.800000000000011, 22.0, 9.599999999999994, 29.400000000000006, -4.0, -0.4000000000000057, 21.80000000000001, 8.400000000000006, 94.79999999999995, 42.39999999999998, 41.80000000000001, 22.399999999999977, 27.200000000000045, 17.600000000000023, 17.200000000000045, 9.0, 205.79999999999995, 1.2000000000000455, 26.200000000000003, 68.4, 14.0, 128.79999999999995, 28.0, 117.40000000000009, 105.39999999999998, 222.20000000000005, 160.0, 0.0, 0.0, 0.0, 0.0]}],\n",
       "                        {\"coloraxis\": {\"cmax\": 3979.8, \"cmin\": 0, \"colorbar\": {\"title\": {\"text\": \"excess_over_avg\"}}, \"colorscale\": [[0.0, \"rgb(255,245,240)\"], [0.125, \"rgb(254,224,210)\"], [0.25, \"rgb(252,187,161)\"], [0.375, \"rgb(252,146,114)\"], [0.5, \"rgb(251,106,74)\"], [0.625, \"rgb(239,59,44)\"], [0.75, \"rgb(203,24,29)\"], [0.875, \"rgb(165,15,21)\"], [1.0, \"rgb(103,0,13)\"]]}, \"font\": {\"color\": \"lightgray\"}, \"geo\": {\"center\": {}, \"countrycolor\": \"lightgray\", \"domain\": {\"x\": [0.0, 1.0], \"y\": [0.0, 1.0]}, \"fitbounds\": \"locations\", \"landcolor\": \"Black\", \"oceancolor\": \"Black\", \"resolution\": 50, \"showcountries\": true, \"showland\": true, \"showocean\": true, \"showsubunits\": true, \"subunitcolor\": \"Blue\", \"visible\": false}, \"legend\": {\"tracegroupgap\": 0}, \"margin\": {\"t\": 60}, \"paper_bgcolor\": \"rgba(0,0,0,0)\", \"plot_bgcolor\": \"rgba(0,0,0,0)\", \"showlegend\": true, \"template\": {\"data\": {\"bar\": [{\"error_x\": {\"color\": \"#2a3f5f\"}, \"error_y\": {\"color\": \"#2a3f5f\"}, \"marker\": {\"line\": {\"color\": \"#E5ECF6\", \"width\": 0.5}}, \"type\": \"bar\"}], \"barpolar\": [{\"marker\": {\"line\": {\"color\": \"#E5ECF6\", \"width\": 0.5}}, \"type\": \"barpolar\"}], \"carpet\": [{\"aaxis\": {\"endlinecolor\": \"#2a3f5f\", \"gridcolor\": \"white\", \"linecolor\": \"white\", \"minorgridcolor\": \"white\", \"startlinecolor\": \"#2a3f5f\"}, \"baxis\": {\"endlinecolor\": \"#2a3f5f\", \"gridcolor\": \"white\", \"linecolor\": \"white\", \"minorgridcolor\": \"white\", \"startlinecolor\": \"#2a3f5f\"}, \"type\": \"carpet\"}], \"choropleth\": [{\"colorbar\": {\"outlinewidth\": 0, \"ticks\": \"\"}, \"type\": \"choropleth\"}], \"contour\": [{\"colorbar\": {\"outlinewidth\": 0, \"ticks\": \"\"}, \"colorscale\": [[0.0, \"#0d0887\"], [0.1111111111111111, \"#46039f\"], [0.2222222222222222, \"#7201a8\"], [0.3333333333333333, \"#9c179e\"], [0.4444444444444444, \"#bd3786\"], [0.5555555555555556, \"#d8576b\"], [0.6666666666666666, \"#ed7953\"], [0.7777777777777778, \"#fb9f3a\"], [0.8888888888888888, \"#fdca26\"], [1.0, \"#f0f921\"]], \"type\": \"contour\"}], \"contourcarpet\": [{\"colorbar\": {\"outlinewidth\": 0, \"ticks\": \"\"}, \"type\": \"contourcarpet\"}], \"heatmap\": [{\"colorbar\": {\"outlinewidth\": 0, \"ticks\": \"\"}, \"colorscale\": [[0.0, \"#0d0887\"], [0.1111111111111111, \"#46039f\"], [0.2222222222222222, \"#7201a8\"], [0.3333333333333333, \"#9c179e\"], [0.4444444444444444, \"#bd3786\"], [0.5555555555555556, \"#d8576b\"], [0.6666666666666666, \"#ed7953\"], [0.7777777777777778, \"#fb9f3a\"], [0.8888888888888888, \"#fdca26\"], [1.0, \"#f0f921\"]], \"type\": \"heatmap\"}], \"heatmapgl\": [{\"colorbar\": {\"outlinewidth\": 0, \"ticks\": \"\"}, \"colorscale\": [[0.0, \"#0d0887\"], [0.1111111111111111, \"#46039f\"], [0.2222222222222222, \"#7201a8\"], [0.3333333333333333, \"#9c179e\"], [0.4444444444444444, \"#bd3786\"], [0.5555555555555556, \"#d8576b\"], [0.6666666666666666, \"#ed7953\"], [0.7777777777777778, \"#fb9f3a\"], [0.8888888888888888, \"#fdca26\"], [1.0, \"#f0f921\"]], \"type\": \"heatmapgl\"}], \"histogram\": [{\"marker\": {\"colorbar\": {\"outlinewidth\": 0, \"ticks\": \"\"}}, \"type\": \"histogram\"}], \"histogram2d\": [{\"colorbar\": {\"outlinewidth\": 0, \"ticks\": \"\"}, \"colorscale\": [[0.0, \"#0d0887\"], [0.1111111111111111, \"#46039f\"], [0.2222222222222222, \"#7201a8\"], [0.3333333333333333, \"#9c179e\"], [0.4444444444444444, \"#bd3786\"], [0.5555555555555556, \"#d8576b\"], [0.6666666666666666, \"#ed7953\"], [0.7777777777777778, \"#fb9f3a\"], [0.8888888888888888, \"#fdca26\"], [1.0, \"#f0f921\"]], \"type\": \"histogram2d\"}], \"histogram2dcontour\": [{\"colorbar\": {\"outlinewidth\": 0, \"ticks\": \"\"}, \"colorscale\": [[0.0, \"#0d0887\"], [0.1111111111111111, \"#46039f\"], [0.2222222222222222, \"#7201a8\"], [0.3333333333333333, \"#9c179e\"], [0.4444444444444444, \"#bd3786\"], [0.5555555555555556, \"#d8576b\"], [0.6666666666666666, \"#ed7953\"], [0.7777777777777778, \"#fb9f3a\"], [0.8888888888888888, \"#fdca26\"], [1.0, \"#f0f921\"]], \"type\": \"histogram2dcontour\"}], \"mesh3d\": [{\"colorbar\": {\"outlinewidth\": 0, \"ticks\": \"\"}, \"type\": \"mesh3d\"}], \"parcoords\": [{\"line\": {\"colorbar\": {\"outlinewidth\": 0, \"ticks\": \"\"}}, \"type\": \"parcoords\"}], \"pie\": [{\"automargin\": true, \"type\": \"pie\"}], \"scatter\": [{\"marker\": {\"colorbar\": {\"outlinewidth\": 0, \"ticks\": \"\"}}, \"type\": \"scatter\"}], \"scatter3d\": [{\"line\": {\"colorbar\": {\"outlinewidth\": 0, \"ticks\": \"\"}}, \"marker\": {\"colorbar\": {\"outlinewidth\": 0, \"ticks\": \"\"}}, \"type\": \"scatter3d\"}], \"scattercarpet\": [{\"marker\": {\"colorbar\": {\"outlinewidth\": 0, \"ticks\": \"\"}}, \"type\": \"scattercarpet\"}], \"scattergeo\": [{\"marker\": {\"colorbar\": {\"outlinewidth\": 0, \"ticks\": \"\"}}, \"type\": \"scattergeo\"}], \"scattergl\": [{\"marker\": {\"colorbar\": {\"outlinewidth\": 0, \"ticks\": \"\"}}, \"type\": \"scattergl\"}], \"scattermapbox\": [{\"marker\": {\"colorbar\": {\"outlinewidth\": 0, \"ticks\": \"\"}}, \"type\": \"scattermapbox\"}], \"scatterpolar\": [{\"marker\": {\"colorbar\": {\"outlinewidth\": 0, \"ticks\": \"\"}}, \"type\": \"scatterpolar\"}], \"scatterpolargl\": [{\"marker\": {\"colorbar\": {\"outlinewidth\": 0, \"ticks\": \"\"}}, \"type\": \"scatterpolargl\"}], \"scatterternary\": [{\"marker\": {\"colorbar\": {\"outlinewidth\": 0, \"ticks\": \"\"}}, \"type\": \"scatterternary\"}], \"surface\": [{\"colorbar\": {\"outlinewidth\": 0, \"ticks\": \"\"}, \"colorscale\": [[0.0, \"#0d0887\"], [0.1111111111111111, \"#46039f\"], [0.2222222222222222, \"#7201a8\"], [0.3333333333333333, \"#9c179e\"], [0.4444444444444444, \"#bd3786\"], [0.5555555555555556, \"#d8576b\"], [0.6666666666666666, \"#ed7953\"], [0.7777777777777778, \"#fb9f3a\"], [0.8888888888888888, \"#fdca26\"], [1.0, \"#f0f921\"]], \"type\": \"surface\"}], \"table\": [{\"cells\": {\"fill\": {\"color\": \"#EBF0F8\"}, \"line\": {\"color\": \"white\"}}, \"header\": {\"fill\": {\"color\": \"#C8D4E3\"}, \"line\": {\"color\": \"white\"}}, \"type\": \"table\"}]}, \"layout\": {\"annotationdefaults\": {\"arrowcolor\": \"#2a3f5f\", \"arrowhead\": 0, \"arrowwidth\": 1}, \"coloraxis\": {\"colorbar\": {\"outlinewidth\": 0, \"ticks\": \"\"}}, \"colorscale\": {\"diverging\": [[0, \"#8e0152\"], [0.1, \"#c51b7d\"], [0.2, \"#de77ae\"], [0.3, \"#f1b6da\"], [0.4, \"#fde0ef\"], [0.5, \"#f7f7f7\"], [0.6, \"#e6f5d0\"], [0.7, \"#b8e186\"], [0.8, \"#7fbc41\"], [0.9, \"#4d9221\"], [1, \"#276419\"]], \"sequential\": [[0.0, \"#0d0887\"], [0.1111111111111111, \"#46039f\"], [0.2222222222222222, \"#7201a8\"], [0.3333333333333333, \"#9c179e\"], [0.4444444444444444, \"#bd3786\"], [0.5555555555555556, \"#d8576b\"], [0.6666666666666666, \"#ed7953\"], [0.7777777777777778, \"#fb9f3a\"], [0.8888888888888888, \"#fdca26\"], [1.0, \"#f0f921\"]], \"sequentialminus\": [[0.0, \"#0d0887\"], [0.1111111111111111, \"#46039f\"], [0.2222222222222222, \"#7201a8\"], [0.3333333333333333, \"#9c179e\"], [0.4444444444444444, \"#bd3786\"], [0.5555555555555556, \"#d8576b\"], [0.6666666666666666, \"#ed7953\"], [0.7777777777777778, \"#fb9f3a\"], [0.8888888888888888, \"#fdca26\"], [1.0, \"#f0f921\"]]}, \"colorway\": [\"#636efa\", \"#EF553B\", \"#00cc96\", \"#ab63fa\", \"#FFA15A\", \"#19d3f3\", \"#FF6692\", \"#B6E880\", \"#FF97FF\", \"#FECB52\"], \"font\": {\"color\": \"#2a3f5f\"}, \"geo\": {\"bgcolor\": \"white\", \"lakecolor\": \"white\", \"landcolor\": \"#E5ECF6\", \"showlakes\": true, \"showland\": true, \"subunitcolor\": \"white\"}, \"hoverlabel\": {\"align\": \"left\"}, \"hovermode\": \"closest\", \"mapbox\": {\"style\": \"light\"}, \"paper_bgcolor\": \"white\", \"plot_bgcolor\": \"#E5ECF6\", \"polar\": {\"angularaxis\": {\"gridcolor\": \"white\", \"linecolor\": \"white\", \"ticks\": \"\"}, \"bgcolor\": \"#E5ECF6\", \"radialaxis\": {\"gridcolor\": \"white\", \"linecolor\": \"white\", \"ticks\": \"\"}}, \"scene\": {\"xaxis\": {\"backgroundcolor\": \"#E5ECF6\", \"gridcolor\": \"white\", \"gridwidth\": 2, \"linecolor\": \"white\", \"showbackground\": true, \"ticks\": \"\", \"zerolinecolor\": \"white\"}, \"yaxis\": {\"backgroundcolor\": \"#E5ECF6\", \"gridcolor\": \"white\", \"gridwidth\": 2, \"linecolor\": \"white\", \"showbackground\": true, \"ticks\": \"\", \"zerolinecolor\": \"white\"}, \"zaxis\": {\"backgroundcolor\": \"#E5ECF6\", \"gridcolor\": \"white\", \"gridwidth\": 2, \"linecolor\": \"white\", \"showbackground\": true, \"ticks\": \"\", \"zerolinecolor\": \"white\"}}, \"shapedefaults\": {\"line\": {\"color\": \"#2a3f5f\"}}, \"ternary\": {\"aaxis\": {\"gridcolor\": \"white\", \"linecolor\": \"white\", \"ticks\": \"\"}, \"baxis\": {\"gridcolor\": \"white\", \"linecolor\": \"white\", \"ticks\": \"\"}, \"bgcolor\": \"#E5ECF6\", \"caxis\": {\"gridcolor\": \"white\", \"linecolor\": \"white\", \"ticks\": \"\"}}, \"title\": {\"x\": 0.05}, \"xaxis\": {\"automargin\": true, \"gridcolor\": \"white\", \"linecolor\": \"white\", \"ticks\": \"\", \"title\": {\"standoff\": 15}, \"zerolinecolor\": \"white\", \"zerolinewidth\": 2}, \"yaxis\": {\"automargin\": true, \"gridcolor\": \"white\", \"linecolor\": \"white\", \"ticks\": \"\", \"title\": {\"standoff\": 15}, \"zerolinecolor\": \"white\", \"zerolinewidth\": 2}}}, \"title\": {\"text\": \"Geographical representation of excess mortality across italian provinces\"}},\n",
       "                        {\"responsive\": true}\n",
       "                    ).then(function(){\n",
       "                            \n",
       "var gd = document.getElementById('0661fcef-7238-4a7d-9751-b990be7ddec4');\n",
       "var x = new MutationObserver(function (mutations, observer) {{\n",
       "        var display = window.getComputedStyle(gd).display;\n",
       "        if (!display || display === 'none') {{\n",
       "            console.log([gd, 'removed!']);\n",
       "            Plotly.purge(gd);\n",
       "            observer.disconnect();\n",
       "        }}\n",
       "}});\n",
       "\n",
       "// Listen for the removal of the full notebook cells\n",
       "var notebookContainer = gd.closest('#notebook-container');\n",
       "if (notebookContainer) {{\n",
       "    x.observe(notebookContainer, {childList: true});\n",
       "}}\n",
       "\n",
       "// Listen for the clearing of the current output cell\n",
       "var outputEl = gd.closest('.output');\n",
       "if (outputEl) {{\n",
       "    x.observe(outputEl, {childList: true});\n",
       "}}\n",
       "\n",
       "                        })\n",
       "                };\n",
       "                });\n",
       "            </script>\n",
       "        </div>"
      ]
     },
     "metadata": {},
     "output_type": "display_data"
    }
   ],
   "source": [
    "df_prov_deaths = df_comuni_sett.groupby(['NOME_REGIONE','NOME_PROVINCIA']).sum()[[item for item in df_comuni_sett.columns if 'TOTALE' in item]]\n",
    "df_prov_deaths['avg'] = df_prov_deaths[df_prov_deaths.columns[:-1]].mean(1)\n",
    "df_prov_deaths['excess_over_avg'] = df_prov_deaths['TOTALE_2020'] - df_prov_deaths['avg'] \n",
    "df_prov_deaths['excess_over_avg%'] = df_prov_deaths['excess_over_avg'] / df_prov_deaths['avg']  \n",
    "df_prov_deaths['excess'] = df_prov_deaths['excess_over_avg'].apply(lambda x: max(0, x)).astype(int)\n",
    "df_prov_deaths = df_prov_deaths.reset_index()#.drop(['NOME_REGIONE'],1)[['NOME_PROVINCIA','excess_over_avg', 'excess_over_avg%', 'avg', 'TOTALE_2020']]\n",
    "df_prov_deaths = df_prov_deaths.merge(df_prov.groupby('denominazione_provincia').agg({'lat':'first', 'long':'first'}),left_on='NOME_PROVINCIA', right_index=True, how='left')\n",
    "df_prov_deaths.loc[df_prov_deaths['NOME_PROVINCIA']=='Reggio Calabria', 'NOME_PROVINCIA'] = 'Reggio di Calabria'\n",
    "df_prov_deaths = df_prov_deaths.set_index('NOME_PROVINCIA').append(pd.DataFrame(index=['Bolzano/Bozen', 'Prato', 'Rieti', 'Trieste'], columns=df_prov_deaths.columns)).fillna(0).reset_index()\n",
    "# fig = px.scatter_mapbox(df_prov_deaths, \n",
    "#             lat='lat', lon='long', color='excess_over_avg', size='excess',\n",
    "#             labels = 'excess_over_avg%',\n",
    "#             hover_name='NOME_PROVINCIA',\n",
    "#             zoom=4.5,  height=800,\n",
    "#             mapbox_style=\"open-street-map\",                        \n",
    "#             title='excess mortality in 1Q-2020 over average 2015-19 for provinces',\n",
    "#    )\n",
    "# fig.update_layout(paper_bgcolor='rgba(0,0,0,0)',font = dict(color = 'lightgray'))\n",
    "# fig.show()\n",
    "fig = px.choropleth(df_prov_deaths, \n",
    "                    geojson='https://raw.githubusercontent.com/openpolis/geojson-italy/master/geojson/limits_IT_provinces.geojson', \n",
    "                    locations='index', \n",
    "                    color='excess_over_avg', \n",
    "                    color_continuous_scale='Reds', \n",
    "                    featureidkey='properties.prov_name',                                   \n",
    "                    range_color=(0, max(df_prov_deaths['excess_over_avg'])))\n",
    "# fig.update_layout(margin={\"r\": 0, \"t\": 0, \"l\": 0, \"b\": 0})\n",
    "fig.update_layout(showlegend=True,title='Geographical representation of excess mortality across italian provinces',\n",
    "                  paper_bgcolor='rgba(0,0,0,0)',font = dict(color = 'lightgray'),plot_bgcolor='rgba(0,0,0,0)')\n",
    "fig.update_geos(resolution=50, showcountries=True, countrycolor=\"lightgray\", showland=True, \n",
    "                landcolor=\"Black\", showsubunits=True, subunitcolor=\"Blue\", showocean=True, oceancolor=\"Black\",)\n",
    "fig.update_geos(fitbounds=\"locations\", visible=False)\n",
    "fig.show()"
   ]
  },
  {
   "cell_type": "markdown",
   "metadata": {},
   "source": [
    "[Top](#index)"
   ]
  },
  {
   "cell_type": "markdown",
   "metadata": {},
   "source": [
    "### Top provinces for the day"
   ]
  },
  {
   "cell_type": "markdown",
   "metadata": {},
   "source": [
    "In this section you can view on any selected date, the geographical distribution around the italian provinces.\n",
    "\n",
    "See which provinces recorder the highest number of selected cases for the day:"
   ]
  },
  {
   "cell_type": "code",
   "execution_count": 38,
   "metadata": {
    "scrolled": false
   },
   "outputs": [
    {
     "data": {
      "application/vnd.jupyter.widget-view+json": {
       "model_id": "aaa9e9a0fc874ac3a49190b9ecb90831",
       "version_major": 2,
       "version_minor": 0
      },
      "text/plain": [
       "interactive(children=(Dropdown(description='label', options=('totale_casi', 'daily_totale_casi', '%daily_total…"
      ]
     },
     "metadata": {},
     "output_type": "display_data"
    }
   ],
   "source": [
    "@interact\n",
    "def get_top_provinces(label= prov_data_columns, \n",
    "                      top_prov=widgets.IntSlider(min=1,max=50,step=1,value=20), date=widgets.DatePicker(\n",
    "                      description='Pick a Date',value=pd.to_datetime(df_prov.index.max())),\n",
    "                      show_map=True, show_grid=False):\n",
    "    try:\n",
    "        df_prov.index = pd.to_datetime(df_prov.index)\n",
    "\n",
    "        if len(label) == 0:\n",
    "            label = prov_data_columns[:1]\n",
    "        label = list([label])\n",
    "\n",
    "        tempdf = df_prov.loc[str(date)][['sigla_provincia','denominazione_provincia', 'lat', 'long']+ label].sort_values(by=label, \n",
    "             ascending=False)[:top_prov].set_index('sigla_provincia')\n",
    "\n",
    "        if show_map:\n",
    "            fig = px.scatter_mapbox(tempdf, \n",
    "#                         lat='lat', lon='long', z=label[0], radius=10, \n",
    "                        lat='lat', lon='long', color=label[0], size=label[0],\n",
    "                        labels = label[0],\n",
    "                        hover_name='denominazione_provincia',\n",
    "                        zoom=4.5,  height=800,\n",
    "                        mapbox_style=\"open-street-map\",                        \n",
    "                        title='top {} provinces on day {} for {}'.format(top_prov, date.strftime(\"%m/%d/%Y\"), label[0]),\n",
    "               )\n",
    "            fig.update_layout(paper_bgcolor='rgba(0,0,0,0)',font = dict(color = 'lightgray'))\n",
    "            fig.show()\n",
    "        else:\n",
    "            fig = px.bar(tempdf[label].reset_index(), x=label[0], y='sigla_provincia', orientation='h')\n",
    "            fig.update_layout(showlegend=True,title='top {} provinces on day {}'.format(top_prov, date.strftime(\"%m/%d/%Y\")),\n",
    "                             paper_bgcolor='rgba(0,0,0,0)',font = dict(color = 'lightgray'),plot_bgcolor='rgba(0,0,0,0)')\n",
    "            fig.update_xaxes(showgrid=show_grid, gridwidth=1, gridcolor='gray')\n",
    "            fig.update_yaxes(showgrid=show_grid, gridwidth=1, gridcolor='gray')\n",
    "\n",
    "            fig.show()\n",
    "    except Exception as e:\n",
    "        print(e)"
   ]
  },
  {
   "cell_type": "markdown",
   "metadata": {},
   "source": [
    "[Top](#index)"
   ]
  },
  {
   "cell_type": "markdown",
   "metadata": {},
   "source": [
    "### Provinces analysis per region"
   ]
  },
  {
   "cell_type": "markdown",
   "metadata": {},
   "source": [
    "In this monitor, we can analyse virus statistics for the provinces in each of the selected region on a given date:"
   ]
  },
  {
   "cell_type": "code",
   "execution_count": 39,
   "metadata": {},
   "outputs": [
    {
     "data": {
      "application/vnd.jupyter.widget-view+json": {
       "model_id": "a04e437b1e8c40f9b2b6757d52ffb4e0",
       "version_major": 2,
       "version_minor": 0
      },
      "text/plain": [
       "interactive(children=(Dropdown(description='label', options=('totale_casi', 'daily_totale_casi', '%daily_total…"
      ]
     },
     "metadata": {},
     "output_type": "display_data"
    }
   ],
   "source": [
    "@interact\n",
    "def get_prov_data(label=prov_data_columns, region = list(df_prov.denominazione_regione.unique()),date=widgets.DatePicker(\n",
    "                      description='Pick a Date',value=pd.to_datetime(df_prov.index.max())), show_grid=False):\n",
    "    try:\n",
    "        df_prov.index = pd.to_datetime(df_prov.index)\n",
    "        if isinstance(df_prov.groupby('denominazione_regione').get_group(region).loc[date\n",
    "            ], pd.Series):\n",
    "            temp = pd.DataFrame(df_prov.groupby('denominazione_regione').get_group(region).loc[date]).T\n",
    "        else:    \n",
    "            temp = df_prov.groupby('denominazione_regione').get_group(region).loc[date\n",
    "            ].set_index('denominazione_provincia')[label].sort_values()#.plot(kind='barh', \n",
    "        fig = px.bar(temp.reset_index(), x=label, y='denominazione_provincia', orientation='h')\n",
    "        fig.update_layout(showlegend=True,title='{} on day {}'.format(label, date.strftime(\"%m/%d/%Y\")),\n",
    "                             paper_bgcolor='rgba(0,0,0,0)',font = dict(color = 'lightgray'),plot_bgcolor='rgba(0,0,0,0)')\n",
    "        fig.update_xaxes(showgrid=show_grid, gridwidth=1, gridcolor='lightgray')\n",
    "        fig.update_yaxes(showgrid=show_grid, gridwidth=1, gridcolor='lightgray')\n",
    "\n",
    "        fig.show()\n",
    "    except Exception as e:\n",
    "        print(e)"
   ]
  },
  {
   "cell_type": "markdown",
   "metadata": {},
   "source": [
    "[Top](#top)"
   ]
  },
  {
   "cell_type": "markdown",
   "metadata": {},
   "source": [
    "## Regional analysis"
   ]
  },
  {
   "cell_type": "markdown",
   "metadata": {},
   "source": [
    "### Daily cases"
   ]
  },
  {
   "cell_type": "markdown",
   "metadata": {},
   "source": [
    "In this monitor, you can compare data on a given date for one or more regions on both absolute and relative values). \n",
    "\n",
    "Please note: more items can be selected, on both region and data fields."
   ]
  },
  {
   "cell_type": "code",
   "execution_count": 40,
   "metadata": {
    "scrolled": false
   },
   "outputs": [
    {
     "data": {
      "application/vnd.jupyter.widget-view+json": {
       "model_id": "eb093966926c4235970e4168f5208468",
       "version_major": 2,
       "version_minor": 0
      },
      "text/plain": [
       "interactive(children=(SelectMultiple(description='regions', options=('Italy', 'Abruzzo', 'Basilicata', 'Calabr…"
      ]
     },
     "metadata": {},
     "output_type": "display_data"
    }
   ],
   "source": [
    "@interact\n",
    "def get_values_for_day(regions = widgets.SelectMultiple(description=\"regions\",options=list(df_reg.keys())),\n",
    "                       labels = widgets.SelectMultiple(description=\"data\",options=data_columns),\n",
    "                       date=widgets.DatePicker(description='Pick a Date',value=pd.to_datetime(df_prov.index.max())),\n",
    "                       cases_per_mln_people=False, show_grid=False):\n",
    "    try:\n",
    "        if len(regions) == 0:\n",
    "            regions = ['Italy']\n",
    "        regions = list(regions)    \n",
    "        if len(labels) == 0:\n",
    "            labels = [item for item in data_columns if ('daily' in item) & ('%' not in item)]\n",
    "        labels = list(labels)\n",
    "        mult = 1.\n",
    "        fig = go.Figure()\n",
    "        for region in regions:    \n",
    "            if cases_per_mln_people: \n",
    "                mult = 1e06/ita_populations.loc[region, 'Popolazione']\n",
    "            for item in labels: \n",
    "                df_reg[region].index = pd.to_datetime(df_reg[region].index)\n",
    "            fig.add_traces(go.Bar(y=labels, x=df_reg[region][labels].loc[date]*mult, name=region, orientation='h'))\n",
    "            fig.update_layout(showlegend=True,title='day ' + str(date.strftime(\"%m/%d/%Y\")),\n",
    "                             paper_bgcolor='rgba(0,0,0,0)',font = dict(color = 'lightgray'),plot_bgcolor='rgba(0,0,0,0)')\n",
    "        fig.update_xaxes(showgrid=show_grid, gridwidth=1, gridcolor='lightgray')\n",
    "        fig.update_yaxes(showgrid=show_grid, gridwidth=1, gridcolor='lightgray')\n",
    "        fig.show()\n",
    "    except Exception as e:\n",
    "        print(e)"
   ]
  },
  {
   "cell_type": "markdown",
   "metadata": {},
   "source": [
    "[Top](#top)"
   ]
  },
  {
   "cell_type": "markdown",
   "metadata": {},
   "source": [
    "### Total cases decomposition"
   ]
  },
  {
   "cell_type": "code",
   "execution_count": 42,
   "metadata": {},
   "outputs": [
    {
     "data": {
      "application/vnd.jupyter.widget-view+json": {
       "model_id": "723acc9676594b709299366cac87167f",
       "version_major": 2,
       "version_minor": 0
      },
      "text/plain": [
       "interactive(children=(Dropdown(description='region', options=('Italy', 'Abruzzo', 'Basilicata', 'Calabria', 'C…"
      ]
     },
     "metadata": {},
     "output_type": "display_data"
    }
   ],
   "source": [
    "@interact\n",
    "def get_regional_pie(region = df_reg.keys(),\n",
    "                     case = ['totale casi', 'attualmente positivi'],\n",
    "                     date=widgets.DatePicker(description='Pick a Date',value=pd.to_datetime(df_reg['Italy'].index.max())),):\n",
    "    try:\n",
    "        if len(region) == 0:\n",
    "            region = 'Italy'\n",
    "        if case == 'attualmente positivi':\n",
    "            labels = ['ricoverati_con_sintomi','terapia_intensiva', 'isolamento_domiciliare']\n",
    "        else:\n",
    "            labels = ['totale_positivi','dimessi_guariti', 'deceduti']\n",
    "\n",
    "        df_reg[region].index = pd.to_datetime(df_reg[region].index)\n",
    "        fig = px.pie(df_reg[region].loc[str(date)], labels=labels, names=labels, \n",
    "                     values = df_reg[region][labels].loc[str(date)].values, \n",
    "                     title = '{} decomposition on date {} for {}'.format(case, date.strftime(\"%m/%d/%Y\"), region)\n",
    "                    )\n",
    "        fig.update_layout(paper_bgcolor='rgba(0,0,0,0)',font = dict(color = 'lightgray'),plot_bgcolor='rgba(0,0,0,0)')\n",
    "        fig.update_traces(textposition='inside', textinfo='percent+label')\n",
    "        fig.show()\n",
    "    except Exception as e:\n",
    "        print(e)"
   ]
  },
  {
   "cell_type": "markdown",
   "metadata": {},
   "source": [
    "[Top](#top)"
   ]
  },
  {
   "cell_type": "markdown",
   "metadata": {},
   "source": [
    "### Evolution analysis"
   ]
  },
  {
   "cell_type": "markdown",
   "metadata": {},
   "source": [
    "In this section, it is possible to visualize evolution of selected cases and compare it between different regions (multiple selection allowed). When flag relative_date is selected, time series are normalized on their x_axis in order to compare cases starting from their first appearance date."
   ]
  },
  {
   "cell_type": "code",
   "execution_count": 43,
   "metadata": {
    "scrolled": false
   },
   "outputs": [
    {
     "data": {
      "application/vnd.jupyter.widget-view+json": {
       "model_id": "79dd06280cf342dab1380b8135cf9cfa",
       "version_major": 2,
       "version_minor": 0
      },
      "text/plain": [
       "interactive(children=(SelectMultiple(description='regions', options=('Italy', 'Abruzzo', 'Basilicata', 'Calabr…"
      ]
     },
     "metadata": {},
     "output_type": "display_data"
    }
   ],
   "source": [
    "@interact\n",
    "def plt_region(regions = widgets.SelectMultiple(description=\"regions\",options=list(df_reg.keys())), \n",
    "               labels = widgets.SelectMultiple(description=\"fields\",options=data_columns),\n",
    "               log=False, relative_dates=False, cases_per_mln_people=False, plot_bars=True, show_grid=False,\n",
    "               aggregate=False):    \n",
    "    try:\n",
    "        if len(labels) == 0:\n",
    "            labels = data_columns[:1] \n",
    "        labels = list(labels)\n",
    "        if len(regions) == 0:\n",
    "            regions = ['Italy']\n",
    "        regions = list(regions)  \n",
    "        fig = go.Figure()\n",
    "        mult = 1.\n",
    "        for item in labels:\n",
    "            if aggregate:\n",
    "                if cases_per_mln_people: \n",
    "                    mult = 1e06/ita_populations.loc[regions, 'Popolazione'].sum()                \n",
    "                temp = df_reg[regions[0]][item].copy() \n",
    "                for region in regions[1:]:\n",
    "                    temp = temp.add(df_reg[region][item])\n",
    "                temp = pd.DataFrame(temp)\n",
    "                if relative_dates: temp = temp.loc[~(temp[item]==0)].reset_index(drop=True).iloc[:-1] \n",
    "                if log:\n",
    "                    if plot_bars:\n",
    "                        fig.add_traces(go.Bar(x=temp.index, y=temp[item]*mult, name=item+'_'+'-'.join(regions)))\n",
    "                    else: \n",
    "                        fig.add_traces(go.Scatter(x=temp.index, y=temp[item]*mult, name=item+'_'+'-'.join(regions)))\n",
    "                else:\n",
    "                    if plot_bars:\n",
    "                        fig.add_traces(go.Bar(x=temp.index, y=temp[item]*mult, name=item+'_'+'-'.join(regions)))\n",
    "                    else:\n",
    "                        fig.add_traces(go.Scatter(x=temp.index, y=temp[item]*mult, name=item+'_'+'-'.join(regions)))\n",
    "                fig.update_layout(legend_orientation=\"h\")\n",
    "\n",
    "            else:\n",
    "                for region in regions:\n",
    "                    if cases_per_mln_people: \n",
    "                        mult = 1e06/ita_populations.loc[region, 'Popolazione']\n",
    "                    df_reg[region].index = pd.to_datetime(df_reg[region].index)\n",
    "                    temp = df_reg[region]\n",
    "                    \n",
    "                    if relative_dates: temp = temp.loc[~(temp[item]==0)].reset_index(drop=True).iloc[:-1] \n",
    "                    if log:\n",
    "                        if plot_bars:\n",
    "                            fig.add_traces(go.Bar(x=temp.index, y=temp[item]*mult, name=item+'_'+region))\n",
    "                        else: \n",
    "                            fig.add_traces(go.Scatter(x=temp.index, y=temp[item]*mult, name=item+'_'+region))\n",
    "                    else:\n",
    "                        if plot_bars:\n",
    "                            fig.add_traces(go.Bar(x=temp.index, y=temp[item]*mult, name=item+'_'+region))\n",
    "                        else:\n",
    "                            fig.add_traces(go.Scatter(x=temp.index, y=temp[item]*mult, name=item+'_'+region))\n",
    "                    \n",
    "        fig.update_layout(showlegend=True,paper_bgcolor='rgba(0,0,0,0)',font = dict(color = 'lightgray'),plot_bgcolor='rgba(0,0,0,0)')\n",
    "        if log: fig.update_layout(yaxis_type=\"log\")\n",
    "        fig.update_xaxes(showgrid=show_grid, gridwidth=1, gridcolor='lightgray')\n",
    "        fig.update_yaxes(showgrid=show_grid, gridwidth=1, gridcolor='lightgray')\n",
    "\n",
    "        fig.show()\n",
    "    except Exception as e:\n",
    "        print(e)   "
   ]
  },
  {
   "cell_type": "markdown",
   "metadata": {},
   "source": [
    "[Top](#top)"
   ]
  },
  {
   "cell_type": "markdown",
   "metadata": {},
   "source": [
    "### Model fitting"
   ]
  },
  {
   "cell_type": "markdown",
   "metadata": {},
   "source": [
    "In this section, it is possible to fit various models in order to provide a visual forecasting according to the selected model.\n",
    "\n",
    "Various options are available:\n",
    "\n",
    "1) Generalized logistic\n",
    "\n",
    "2) Extended logistic\n",
    "\n",
    "3) Gompertz growth model\n",
    "\n",
    "4) Exponential model\n",
    "\n",
    "5) Logarithmic-linear regression model\n",
    "\n",
    "6) No fit (just actual data)\n",
    "\n",
    "for cases where there is no reason to expect a saturation (\"plateau\"), such as daily new infected data, it is possibile to fit the data a as a derivative by setting fit_differential flag to True\n"
   ]
  },
  {
   "cell_type": "code",
   "execution_count": 44,
   "metadata": {},
   "outputs": [
    {
     "data": {
      "application/vnd.jupyter.widget-view+json": {
       "model_id": "9b2febc82f1a4762a990d28f267a99a1",
       "version_major": 2,
       "version_minor": 0
      },
      "text/plain": [
       "interactive(children=(Dropdown(description='region', options=('Italy', 'Abruzzo', 'Basilicata', 'Calabria', 'C…"
      ]
     },
     "metadata": {},
     "output_type": "display_data"
    }
   ],
   "source": [
    "@interact\n",
    "def get_model(region=list(df_reg.keys()), \n",
    "              start_fit=widgets.DatePicker(value=pd.to_datetime(df_naz.index[0])), \n",
    "              end_fit=widgets.DatePicker(value=pd.to_datetime(df_naz.index[-1])), fwd_look=50, \n",
    "              func=models, label = data_columns, \n",
    "              stdev=widgets.IntSlider(min=0, max=3, value=0),\n",
    "              fit_differential=False, plot_bars=False, show_grid=False):\n",
    "    try:\n",
    "        if region=='Italy':\n",
    "            df = df_naz\n",
    "        else:\n",
    "            df = df_reg[region]\n",
    "        df.index = pd.to_datetime(df.index)\n",
    "        start_fit = pd.Timestamp(start_fit)\n",
    "        end_fit = pd.Timestamp(end_fit)\n",
    "        y_fit = df[label].loc[start_fit:end_fit].dropna()\n",
    "        x_fit = range(len(y_fit.index))\n",
    "        if isinstance(func, types.FunctionType):\n",
    "            x_pred2 = range(len(df.index)+fwd_look)\n",
    "            x_pred1 = range(len(df.index))\n",
    "            sig = inspect.signature(func)\n",
    "            n_params = len(sig.parameters.items()) -1\n",
    "            if fit_differential:\n",
    "                y_fit = y_fit.cumsum()\n",
    "            params, params_cov = curve_fit(func, x_fit, y_fit, \n",
    "                                bounds=([0. for item in range(n_params)], \n",
    "                                        [np.inf for item in range(n_params)]), \n",
    "                                           method='trf', maxfev=10000)            \n",
    "            stderr = np.sqrt(np.diag(params_cov))\n",
    "            params_up = params + stderr * stdev\n",
    "            params_down = params - stderr * stdev\n",
    "            y_pred1 = func(x_pred1, *params)\n",
    "            y_pred2 = func(x_pred2, *params)\n",
    "            y_pred_up = func(x_pred2, *params_up)\n",
    "            y_pred_down = func(x_pred2, *params_down)\n",
    "            if fit_differential:\n",
    "                y_pred1 = np.diff(y_pred1)\n",
    "                y_pred2 = np.diff(y_pred2)\n",
    "                y_pred_up = np.diff(y_pred_up)\n",
    "                y_pred_down = np.diff(y_pred_down)\n",
    "            errors = (y_pred_up - y_pred_down)\n",
    "            rmse = np.sqrt(np.mean((y_fit - func(x_fit, *params)) ** 2))\n",
    "        elif func=='log':\n",
    "            x_pred2 = range(len(df.index)+fwd_look)\n",
    "            x_pred1 = range(len(df.index))\n",
    "            model = LinearRegression()\n",
    "            model.fit(np.array(x_fit).reshape(-1,1), np.log1p(y_fit))\n",
    "            r2 = model.score(np.array(x_fit).reshape(-1, 1), np.log1p(y_fit))\n",
    "            params = model.coef_\n",
    "            y_pred1 = model.predict(np.array(x_pred1).reshape(-1,1))\n",
    "            y_pred2 = model.predict(np.array(x_pred2).reshape(-1,1))\n",
    "            errors = 0.\n",
    "        fig = go.Figure()\n",
    "        if isinstance(func, types.FunctionType):\n",
    "            if plot_bars:\n",
    "                fig.add_traces(go.Bar(x=pd.date_range(start=df.index.min(), end=df.index.max()), y=df[label].values, \n",
    "                                      name=label))\n",
    "            else:\n",
    "                fig.add_traces(go.Scatter(x=pd.date_range(start=df.index.min(), end=df.index.max()), y=df[label].values, \n",
    "                                  name=label, mode='markers'))\n",
    "\n",
    "            fig.add_traces(go.Scatter(x=pd.date_range(start=start_fit, end=end_fit), \n",
    "                                  y=y_pred1[:(end_fit-start_fit).days], name='model rmse: '+str(int(rmse))))\n",
    "            fig.add_traces(go.Scatter(x=pd.date_range(start=end_fit, end=df.index.max()+pd.Timedelta(str(fwd_look)+'d')), \n",
    "                                  y=y_pred2[(end_fit-start_fit).days:],error_y=dict(array=errors,color='green',\n",
    "                                        thickness=.2,width=0.5), name='forecast'))   \n",
    "        elif func=='log':\n",
    "            fig.add_traces(go.Scatter(x=pd.date_range(start=df.index.min(), \n",
    "                                end=df.index.max()), y=np.log1p(df[label].values), \n",
    "                                  name=label, mode='markers'))\n",
    "            fig.add_traces(go.Scatter(x=pd.date_range(start=start_fit, end=end_fit), \n",
    "                                  y=y_pred1[:(end_fit-start_fit).days], \n",
    "                                      name='model rmse: '+str(np.round(r2,2))))\n",
    "            fig.add_traces(go.Scatter(x=pd.date_range(start=end_fit, end=df.index.max()+pd.Timedelta(str(fwd_look)+'d')), \n",
    "                                  y=y_pred2[(end_fit-start_fit).days:]\n",
    "                                      , name='log forecast'))   \n",
    "\n",
    "        else:\n",
    "            if plot_bars:\n",
    "                fig.add_traces(go.Bar(x=pd.date_range(start=df.index.min(), end=df.index.max()), y=df[label].values, \n",
    "                                  name=label))                \n",
    "            else:\n",
    "                fig.add_traces(go.Scatter(x=pd.date_range(start=df.index.min(), end=df.index.max()), y=df[label].values, \n",
    "                                  name=label))\n",
    "\n",
    "\n",
    "        fig.update_layout(showlegend=True,paper_bgcolor='rgba(0,0,0,0)',font = dict(color = 'lightgray'),plot_bgcolor='rgba(0,0,0,0)')\n",
    "        fig.update_xaxes(showgrid=show_grid, gridwidth=1, gridcolor='lightgray')\n",
    "        fig.update_yaxes(showgrid=show_grid, gridwidth=1, gridcolor='lightgray')\n",
    "        fig.show()\n",
    "    except Exception as e:\n",
    "        print(e)"
   ]
  },
  {
   "cell_type": "markdown",
   "metadata": {},
   "source": [
    "[Top](#top)"
   ]
  },
  {
   "cell_type": "markdown",
   "metadata": {},
   "source": [
    "# World Monitor"
   ]
  },
  {
   "cell_type": "markdown",
   "metadata": {},
   "source": [
    "## Top countries"
   ]
  },
  {
   "cell_type": "markdown",
   "metadata": {},
   "source": [
    "Analysing top countries for given date on selected cases"
   ]
  },
  {
   "cell_type": "code",
   "execution_count": 31,
   "metadata": {},
   "outputs": [
    {
     "data": {
      "application/vnd.jupyter.widget-view+json": {
       "model_id": "5e1fae1af6084ef6a9d3496e1d371faf",
       "version_major": 2,
       "version_minor": 0
      },
      "text/plain": [
       "interactive(children=(Dropdown(description='labels', options=('confirmed', 'recovered', 'deaths', 'daily_confi…"
      ]
     },
     "metadata": {},
     "output_type": "display_data"
    }
   ],
   "source": [
    "@interact\n",
    "def get_top_countries(labels=countries_labels, \n",
    "                      top_prov=widgets.IntSlider(min=1,max=80,step=1,value=10), date=widgets.DatePicker(\n",
    "                      description='Pick a Date',value=pd.to_datetime(pd.to_datetime([item for item in df_world_confirmed.columns if '/' in item][-1]))),\n",
    "                      show_grid=False, show_map=True):\n",
    "    try:\n",
    "            datecols = df_world_confirmed.columns.difference(['Province/State','Country/Region','Lat','Long', 'pop'])\n",
    "            df_geo = df_world_confirmed[df_world_confirmed['Province/State'].isna()].groupby('Country/Region').first()\n",
    "            df = {}\n",
    "            df['confirmed'] = df_world_confirmed.groupby('Country/Region').agg('sum')[datecols].T\n",
    "            df['recovered'] = df_world_recovered.groupby('Country/Region').agg('sum')[datecols].T\n",
    "            df['deaths'] = df_world_deaths.groupby('Country/Region').agg('sum')[datecols].T\n",
    "            df['daily_deaths'] = df['deaths'].diff()\n",
    "            df['daily_confirmed'] = df['confirmed'].diff()\n",
    "            df['daily_recovered'] = df['recovered'].diff()\n",
    "            df['%daily_deaths'] = df['deaths'].diff()/df['deaths'].shift()\n",
    "            df['%daily_confirmed'] = df['confirmed'].diff()/df['confirmed'].shift()\n",
    "            df['%daily_recovered'] = df['recovered'].diff()/df['recovered'].shift()\n",
    "            for item in df.keys():\n",
    "                df[item].index = pd.to_datetime(df[item].index)     \n",
    "            mult = 1.\n",
    "            fig = go.Figure()        \n",
    "            tempdf = df[labels].loc[date.strftime(\"%Y-%m-%d\")].T\n",
    "            tempdf['lat'] = tempdf.index.map(df_geo['Lat'])\n",
    "            tempdf['long'] = tempdf.index.map(df_geo['Long'])\n",
    "            tempdf.columns = [labels, 'lat', 'long']\n",
    "            tempdf = tempdf.sort_values(by=labels, ascending=False)[:top_prov]        \n",
    "            if show_map:\n",
    "                fig = px.scatter_mapbox(tempdf.reset_index(), \n",
    "                            lat='lat', lon='long', color=labels, size=labels, \n",
    "                            labels = labels,\n",
    "                            hover_name='Country/Region',\n",
    "                            zoom=0,  height=800,\n",
    "                            mapbox_style=\"open-street-map\",                        \n",
    "                            title='top {} countries on day {} for {}'.format(top_prov, date.strftime(\"%m/%d/%Y\"), labels),\n",
    "                   )\n",
    "                fig.update_layout(paper_bgcolor='rgba(0,0,0,0)',font = dict(color = 'lightgray'))\n",
    "                fig.show()\n",
    "            else:\n",
    "                fig = px.bar(tempdf.reset_index(), x=labels, y='Country/Region', orientation='h')\n",
    "                fig.update_layout(showlegend=True,title='top {} countries on day {}'.format(top_prov, date.strftime(\"%m/%d/%Y\")),\n",
    "                                 paper_bgcolor='rgba(0,0,0,0)',font = dict(color = 'lightgray'),plot_bgcolor='rgba(0,0,0,0)')\n",
    "                fig.update_xaxes(showgrid=show_grid, gridwidth=1, gridcolor='gray')\n",
    "                fig.update_yaxes(showgrid=show_grid, gridwidth=1, gridcolor='gray')\n",
    "\n",
    "                fig.show()\n",
    "    except Exception as e:\n",
    "        print(e)"
   ]
  },
  {
   "cell_type": "markdown",
   "metadata": {},
   "source": [
    "[Top](#top)"
   ]
  },
  {
   "cell_type": "markdown",
   "metadata": {},
   "source": [
    "## Total cases decomposition"
   ]
  },
  {
   "cell_type": "code",
   "execution_count": 32,
   "metadata": {},
   "outputs": [
    {
     "data": {
      "application/vnd.jupyter.widget-view+json": {
       "model_id": "1937d7a7b77145bab592374200513e1e",
       "version_major": 2,
       "version_minor": 0
      },
      "text/plain": [
       "interactive(children=(Dropdown(description='region', options=('Afghanistan', 'Albania', 'Algeria', 'Andorra', …"
      ]
     },
     "metadata": {},
     "output_type": "display_data"
    }
   ],
   "source": [
    "@interact\n",
    "def get_world_pie(region = countries_columns,\n",
    "                  date=widgets.DatePicker(description='Pick a Date',\n",
    "                        value=pd.to_datetime([item for item in df_world_confirmed.columns if '/' in item][-1])),):\n",
    "    try:\n",
    "        if len(region) == 0:\n",
    "            region = 'Italy'\n",
    "        df = {}\n",
    "        df['confirmed'] = df_world_confirmed.copy().groupby('Country/Region').sum().drop(['Lat', 'Long', 'pop'], 1).T\n",
    "        df['recovered'] = df_world_recovered.copy().groupby('Country/Region').sum().drop(['Lat', 'Long', 'pop'], 1).T        \n",
    "        df['deaths'] = df_world_deaths.copy().groupby('Country/Region').sum().drop(['Lat', 'Long', 'pop'], 1).T\n",
    "        df['active'] = df['confirmed'] - df['recovered'] - df['deaths']        \n",
    "        labels = ['recovered', 'deaths', 'active']\n",
    "        df = pd.concat((df['recovered'][region], df['deaths'][region], df['active'][region]),1)\n",
    "        df.columns = labels\n",
    "        for item in df.keys():\n",
    "            df.index = pd.to_datetime(df.index)  \n",
    "        fig = px.pie(df.loc[date.strftime(\"%Y-%m-%d\")], labels=labels, names=labels, \n",
    "                     values = df[labels].loc[date.strftime(\"%Y-%m-%d\")].values, title = 'total cases decomposition on date {} for {}'.format(date.strftime(\"%m/%d/%Y\"), region))\n",
    "        fig.update_layout(paper_bgcolor='rgba(0,0,0,0)',font = dict(color = 'lightgray'),plot_bgcolor='rgba(0,0,0,0)')\n",
    "        fig.update_traces(textposition='inside', textinfo='percent+label')\n",
    "        fig.show()\n",
    "    except Exception as e:\n",
    "        print(e)"
   ]
  },
  {
   "cell_type": "markdown",
   "metadata": {},
   "source": [
    "[Top](#top)"
   ]
  },
  {
   "cell_type": "markdown",
   "metadata": {},
   "source": [
    "## Country comparisons"
   ]
  },
  {
   "cell_type": "markdown",
   "metadata": {},
   "source": [
    "In this section we provide comparison analysise between different countries"
   ]
  },
  {
   "cell_type": "code",
   "execution_count": 33,
   "metadata": {},
   "outputs": [
    {
     "data": {
      "application/vnd.jupyter.widget-view+json": {
       "model_id": "7d376bfc616d4e1992adb24f2df4a697",
       "version_major": 2,
       "version_minor": 0
      },
      "text/plain": [
       "interactive(children=(SelectMultiple(description='regions', options=('Afghanistan', 'Albania', 'Algeria', 'And…"
      ]
     },
     "metadata": {},
     "output_type": "display_data"
    }
   ],
   "source": [
    "@interact\n",
    "def world_comparison(regions = widgets.SelectMultiple(description=\"regions\",options=countries_columns), \n",
    "                     labels = widgets.SelectMultiple(description=\"data\",options=countries_labels),\n",
    "                     log=False, relative_dates=False, cases_per_mln_people=False, plot_bars=False, show_grid=False,\n",
    "                     aggregate=False, hide_below=widgets.BoundedIntText(value=0,min=0,max=100, description='min cases')):    \n",
    "    try:\n",
    "        if len(labels) == 0:\n",
    "            labels = countries_labels[:1]\n",
    "        labels = list(labels)\n",
    "        if len(regions) == 0:\n",
    "            regions = ['Italy', 'France', 'Spain', 'Germany', 'United Kingdom', 'US']\n",
    "        regions = list(regions)\n",
    "        df = {}\n",
    "        df['confirmed'] = df_world_confirmed.copy().groupby('Country/Region').sum().drop(['Lat', 'Long', 'pop'], 1).T\n",
    "        df['recovered'] = df_world_recovered.copy().groupby('Country/Region').sum().drop(['Lat', 'Long', 'pop'], 1).T        \n",
    "        df['deaths'] = df_world_deaths.copy().groupby('Country/Region').sum().drop(['Lat', 'Long', 'pop'], 1).T\n",
    "        df['daily_deaths'] = df['deaths'].diff()\n",
    "        df['daily_confirmed'] = df['confirmed'].diff()\n",
    "        df['daily_recovered'] = df['recovered'].diff()\n",
    "        df['%daily_deaths'] = df['deaths'].diff()/df['deaths'].shift()\n",
    "        df['%daily_confirmed'] = df['confirmed'].diff()/df['confirmed'].shift()\n",
    "        df['%daily_recovered'] = df['recovered'].diff()/df['recovered'].shift()\n",
    "        \n",
    "        mult = 1.\n",
    "        fig = go.Figure()\n",
    "        for item in labels:\n",
    "            if aggregate:\n",
    "                if cases_per_mln_people: \n",
    "                    mult = 1e06/populations.loc[regions].sum()\n",
    "                temp = df[item][regions[0]].copy()        \n",
    "                for region in regions[1:]:                    \n",
    "                    temp = temp.add(df[item][region])\n",
    "                temp.index = pd.to_datetime(temp.index)\n",
    "                if relative_dates: temp = temp.loc[(temp>hide_below)].reset_index(drop=True).iloc[:-1] \n",
    "                if log:\n",
    "                    if plot_bars:\n",
    "                        fig.add_traces(go.Bar(x=temp.index, y=temp*mult, name=item+'_'+'-'.join(regions)))\n",
    "                    else:\n",
    "                        fig.add_traces(go.Scatter(x=temp.index, y=temp*mult, name=item+'_'+'-'.join(regions)))\n",
    "                else:\n",
    "                    if plot_bars:\n",
    "                        fig.add_traces(go.Bar(x=temp.index, y=temp*mult, name=item+'_'+'-'.join(regions)))\n",
    "                    else:\n",
    "                        fig.add_traces(go.Scatter(x=temp.index, y=temp*mult, name=item+'_'+'-'.join(regions)))\n",
    "                fig.update_layout(legend_orientation=\"h\")\n",
    "            else:\n",
    "                for region in regions:            \n",
    "                    temp = df[item][region]\n",
    "                    temp.index = pd.to_datetime(temp.index)\n",
    "                    if cases_per_mln_people: \n",
    "                        mult = 1e06/populations.loc[region]\n",
    "                    if relative_dates: temp = temp.loc[(temp>hide_below)].reset_index(drop=True).iloc[:-1] \n",
    "                    if log:\n",
    "                        if plot_bars:\n",
    "                            fig.add_traces(go.Bar(x=temp.index, y=temp*mult, name=item+'_'+region))\n",
    "                        else:\n",
    "                            fig.add_traces(go.Scatter(x=temp.index, y=temp*mult, name=item+'_'+region))\n",
    "                    else:\n",
    "                        if plot_bars:\n",
    "                            fig.add_traces(go.Bar(x=temp.index, y=temp*mult, name=item+'_'+region))\n",
    "                        else:\n",
    "                            fig.add_traces(go.Scatter(x=temp.index, y=temp*mult, name=item+'_'+region))\n",
    "        fig.update_layout(showlegend=True,paper_bgcolor='rgba(0,0,0,0)',font = dict(color = 'lightgray'),plot_bgcolor='rgba(0,0,0,0)')\n",
    "        if log: fig.update_layout(yaxis_type=\"log\")\n",
    "        fig.update_xaxes(showgrid=show_grid, gridwidth=1, gridcolor='lightgray')\n",
    "        fig.update_yaxes(showgrid=show_grid, gridwidth=1, gridcolor='lightgray')\n",
    "        fig.show()\n",
    "    except Exception as e:\n",
    "        print(e)"
   ]
  },
  {
   "cell_type": "markdown",
   "metadata": {},
   "source": [
    "[Top](#top)"
   ]
  },
  {
   "cell_type": "markdown",
   "metadata": {},
   "source": [
    "## Model fitting"
   ]
  },
  {
   "cell_type": "markdown",
   "metadata": {},
   "source": [
    "The same model fitting can be performed for world countries"
   ]
  },
  {
   "cell_type": "code",
   "execution_count": 34,
   "metadata": {
    "scrolled": false
   },
   "outputs": [
    {
     "data": {
      "application/vnd.jupyter.widget-view+json": {
       "model_id": "a055da6bb3474b6f84d05e2cfff4aa41",
       "version_major": 2,
       "version_minor": 0
      },
      "text/plain": [
       "interactive(children=(Dropdown(description='region', options=('Afghanistan', 'Albania', 'Algeria', 'Andorra', …"
      ]
     },
     "metadata": {},
     "output_type": "display_data"
    }
   ],
   "source": [
    "@interact\n",
    "def get_model_world(region=countries_columns, \n",
    "              start_fit=widgets.DatePicker(value=pd.to_datetime(df_naz.index[0])), \n",
    "              end_fit=widgets.DatePicker(value=pd.to_datetime(df_naz.index[-1])), fwd_look=50, \n",
    "              func=models, label = countries_labels, stdev=widgets.IntSlider(min=0, max=3, value=0),\n",
    "              fit_differential=False, plot_bars=False, show_grid=False):\n",
    "    if 'confirmed' in label:\n",
    "        df = df_world_confirmed.groupby('Country/Region').sum().drop(['Lat', 'Long', 'pop'], 1).T[region]\n",
    "        if label == 'daily_confirmed':\n",
    "            df = df.diff()\n",
    "        if label == '%daily_confirmed':\n",
    "            df = df.dropna().diff()/df.dropna().shift()            \n",
    "    elif 'recovered' in label:\n",
    "        df = df_world_recovered.groupby('Country/Region').sum().drop(['Lat', 'Long', 'pop'], 1).T[region]\n",
    "        if label == 'daily_recovered':\n",
    "            df = df.diff()\n",
    "        if label == '%daily_recovered':\n",
    "            df = df.dropna().diff()/df.dropna().shift()  \n",
    "    elif 'deaths' in label:\n",
    "        df = df_world_deaths.groupby('Country/Region').sum().drop(['Lat', 'Long', 'pop'], 1).T[region]    \n",
    "        if label == 'daily_deaths':\n",
    "            df = df.diff()\n",
    "        if label == '%daily_deaths':\n",
    "            df = df.dropna().diff()/df.dropna().shift()  \n",
    "    try:\n",
    "        df.index = pd.to_datetime(df.index)\n",
    "        start_fit = pd.Timestamp(start_fit)\n",
    "        end_fit = pd.Timestamp(end_fit)\n",
    "        y_fit = df.loc[start_fit:end_fit].dropna()\n",
    "        x_fit = range(len(y_fit.index))\n",
    "        if isinstance(func, types.FunctionType):\n",
    "            x_pred2 = range(len(df.index)+fwd_look)\n",
    "            x_pred1 = range(len(df.index))\n",
    "            sig = inspect.signature(func)\n",
    "            n_params = len(sig.parameters.items()) -1\n",
    "            if fit_differential:\n",
    "                y_fit = y_fit.cumsum()\n",
    "            params, params_cov = curve_fit(func, x_fit, y_fit, \n",
    "                                bounds=([0. for item in range(n_params)], \n",
    "                                        [np.inf for item in range(n_params)]), \n",
    "                                           method='trf',  maxfev=10000)\n",
    "            stderr = np.sqrt(np.diag(params_cov))\n",
    "            params_up = params + stderr * stdev\n",
    "            params_down = params - stderr * stdev\n",
    "            y_pred1 = func(x_pred1, *params)\n",
    "            y_pred2 = func(x_pred2, *params)\n",
    "            y_pred_up = func(x_pred2, *params_up)\n",
    "            y_pred_down = func(x_pred2, *params_down)\n",
    "            if fit_differential:\n",
    "                y_pred1 = np.diff(y_pred1)\n",
    "                y_pred2 = np.diff(y_pred2)\n",
    "                y_pred_up = np.diff(y_pred_up)\n",
    "                y_pred_down = np.diff(y_pred_down)\n",
    "            errors = (y_pred_up - y_pred_down)\n",
    "            rmse = np.sqrt(np.mean((y_fit - func(x_fit, *params)) ** 2))\n",
    "        elif func=='log':\n",
    "            x_pred2 = range(len(df.index)+fwd_look)\n",
    "            x_pred1 = range(len(df.index))\n",
    "            model = LinearRegression()\n",
    "            model.fit(np.array(x_fit).reshape(-1,1), np.log1p(y_fit))\n",
    "            r2 = model.score(np.array(x_fit).reshape(-1, 1), np.log1p(y_fit))\n",
    "            params = model.coef_\n",
    "            y_pred1 = model.predict(np.array(x_pred1).reshape(-1,1))\n",
    "            y_pred2 = model.predict(np.array(x_pred2).reshape(-1,1))\n",
    "            errors = 0.\n",
    "        fig = go.Figure()\n",
    "        if isinstance(func, types.FunctionType):\n",
    "            if plot_bars:\n",
    "                fig.add_traces(go.Bar(x=pd.date_range(start=df.index.min(), end=df.index.max()), y=df.values, \n",
    "                                  name=label))\n",
    "            else:\n",
    "                fig.add_traces(go.Scatter(x=pd.date_range(start=df.index.min(), end=df.index.max()), y=df.values, \n",
    "                                  name=label, mode='markers'))\n",
    "            fig.add_traces(go.Scatter(x=pd.date_range(start=start_fit, end=end_fit), \n",
    "                                  y=y_pred1[:(end_fit-start_fit).days], name='model rmse: '+str(int(rmse))))\n",
    "            fig.add_traces(go.Scatter(x=pd.date_range(start=end_fit, end=df.index.max()+pd.Timedelta(str(fwd_look)+'d')), \n",
    "                                  y=y_pred2[(end_fit-start_fit).days:],error_y=dict(array=errors,color='green',\n",
    "                                        thickness=.2,width=0.5), name='forecast'))   \n",
    "        elif func=='log':\n",
    "            if plot_bars:\n",
    "                fig.add_traces(go.Bar(x=pd.date_range(start=df.index.min(), \n",
    "                                end=df.index.max()), y=np.log1p(df.values), \n",
    "                                  name=label))\n",
    "            else:\n",
    "                fig.add_traces(go.Scatter(x=pd.date_range(start=df.index.min(), \n",
    "                                end=df.index.max()), y=np.log1p(df.values), \n",
    "                                  name=label, mode='markers'))\n",
    "            fig.add_traces(go.Scatter(x=pd.date_range(start=start_fit, end=end_fit), \n",
    "                                  y=y_pred1[:(end_fit-start_fit).days], \n",
    "                                      name='model rmse: '+str(np.round(r2,2))))\n",
    "            fig.add_traces(go.Scatter(x=pd.date_range(start=end_fit, end=df.index.max()+pd.Timedelta(str(fwd_look)+'d')), \n",
    "                                  y=y_pred2[(end_fit-start_fit).days:]\n",
    "                                      , name='log forecast'))   \n",
    "\n",
    "        else:\n",
    "            if plot_bars:\n",
    "                fig.add_traces(go.Bar(x=pd.date_range(start=df.index.min(), end=df.index.max()), y=df.values, \n",
    "                                  name=label))\n",
    "            else:\n",
    "                fig.add_traces(go.Scatter(x=pd.date_range(start=df.index.min(), end=df.index.max()), y=df.values, \n",
    "                                  name=label))\n",
    "\n",
    "        fig.update_layout(showlegend=True, title=region,paper_bgcolor='rgba(0,0,0,0)',font = dict(color = 'lightgray'),\n",
    "                          plot_bgcolor='rgba(0,0,0,0)')\n",
    "        fig.update_xaxes(showgrid=show_grid, gridwidth=1, gridcolor='lightgray')\n",
    "        fig.update_yaxes(showgrid=show_grid, gridwidth=1, gridcolor='lightgray')\n",
    "        fig.show()\n",
    "    except Exception as e:\n",
    "        print(e)"
   ]
  },
  {
   "cell_type": "markdown",
   "metadata": {},
   "source": [
    "[Top](#top)"
   ]
  },
  {
   "cell_type": "markdown",
   "metadata": {},
   "source": [
    "## SEIRD Epidemioligic Model Simulator"
   ]
  },
  {
   "cell_type": "code",
   "execution_count": 13,
   "metadata": {},
   "outputs": [],
   "source": [
    "from IPython.display import HTML\n",
    "style = {'description_width': '100px'}\n",
    "slider_layout = widgets.Layout(width='99%')"
   ]
  },
  {
   "cell_type": "code",
   "execution_count": 14,
   "metadata": {},
   "outputs": [],
   "source": [
    "def ode_model(z, t, beta, sigma, gamma, mu):\n",
    "    S, E, I, R, D = z\n",
    "    N = S + E + I + R + D\n",
    "    dSdt = -beta*S*I/N\n",
    "    dEdt = beta*S*I/N - sigma*E\n",
    "    dIdt = sigma*E - gamma*I - mu*I\n",
    "    dRdt = gamma*I\n",
    "    dDdt = mu*I\n",
    "    return [dSdt, dEdt, dIdt, dRdt, dDdt]"
   ]
  },
  {
   "cell_type": "code",
   "execution_count": 15,
   "metadata": {},
   "outputs": [],
   "source": [
    "def ode_solver(t, initial_conditions, params):\n",
    "    initE, initI, initR, initN, initD = initial_conditions\n",
    "    beta, sigma, gamma, mu = params\n",
    "    initS = initN - (initE + initI + initR + initD)\n",
    "    res = odeint(ode_model, [initS, initE, initI, initR, initD], t, args=(beta, sigma, gamma, mu))\n",
    "    return res"
   ]
  },
  {
   "cell_type": "code",
   "execution_count": 141,
   "metadata": {},
   "outputs": [
    {
     "name": "stderr",
     "output_type": "stream",
     "text": [
      "/home/maurizio/anaconda3/envs/covid19/lib/python3.7/site-packages/scipy/integrate/odepack.py:248: ODEintWarning:\n",
      "\n",
      "Excess work done on this call (perhaps wrong Dfun type). Run with full_output = 1 to get quantitative information.\n",
      "\n"
     ]
    },
    {
     "data": {
      "text/plain": [
       "<matplotlib.legend.Legend at 0x7f3040656590>"
      ]
     },
     "execution_count": 141,
     "metadata": {},
     "output_type": "execute_result"
    },
    {
     "data": {
      "image/png": "[encoded data removed]",
      "text/plain": [
       "<Figure size 432x288 with 1 Axes>"
      ]
     },
     "metadata": {
      "needs_background": "light"
     },
     "output_type": "display_data"
    }
   ],
   "source": [
    "# actual data fitting\n",
    "totdays = len(df_naz['deceduti'])\n",
    "days = 60\n",
    "tspan = np.arange(0, days, 1)\n",
    "ydata = 1. * df_naz['deceduti'].iloc[:days]\n",
    "initial_conditions = [initE, initI, initR, initN, initD]\n",
    "def myfunc(t, beta, sigma, gamma, mu):\n",
    "    initE, initI, initR, initN, initD = initial_conditions\n",
    "    initS = initN - (initE + initI + initR + initD)\n",
    "    res = odeint(ode_model, [initS, initE, initI, initR, initD], t, args=(beta, sigma, gamma, mu))\n",
    "    return [item[-1] for item in res]\n",
    "myfunc(tspan, 0.4, 0.2, 0.2, 0.2)\n",
    "beta, sigma, gamma, mu = curve_fit(myfunc, xdata=tspan, ydata=ydata)[0]#, p0 = [0.4, 0.2, 0.2, 0.2])\n",
    "model_deaths = pd.DataFrame(myfunc(range(totdays), beta, sigma, gamma, mu), index=df_naz['deceduti'].iloc[:totdays].index, columns=['model'])\n",
    "model_deaths.plot(label='model')\n",
    "df_naz['deceduti'].iloc[:totdays].plot(label='actual')\n",
    "plt.legend()"
   ]
  },
  {
   "cell_type": "code",
   "execution_count": 133,
   "metadata": {},
   "outputs": [],
   "source": [
    "def main(initE, initI, initR, initD, initN, R0, sigma_t, gamma_t, mu, days):\n",
    "    sigma = 1/sigma_t\n",
    "    gamma = 1/gamma_t\n",
    "    beta = R0 * gamma\n",
    "    initial_conditions = [initE, initI, initR, initN, initD]\n",
    "    params = [beta, sigma, gamma, mu]\n",
    "    tspan = np.arange(0, days, 1)\n",
    "    sol = ode_solver(tspan, initial_conditions, params)\n",
    "    S, E, I, R, D = sol[:, 0], sol[:, 1], sol[:, 2], sol[:, 3], sol[:, 4]\n",
    "    \n",
    "    # Create traces\n",
    "    fig = go.Figure()\n",
    "    fig.add_trace(go.Scatter(x=tspan, y=S, mode='lines', name='Susceptible'))#,yaxis='y1'))\n",
    "    fig.add_trace(go.Scatter(x=tspan, y=E, mode='lines', name='Exposed'))#,yaxis='y1'))\n",
    "    fig.add_trace(go.Scatter(x=tspan, y=I, mode='lines', name='Infected'))#,yaxis='y1'))\n",
    "    fig.add_trace(go.Scatter(x=tspan, y=R, mode='lines',name='Recovered'))#,yaxis='y1'))\n",
    "    fig.add_trace(go.Scatter(x=tspan, y=D, mode='lines',name='Death'))#,yaxis='y2'))\n",
    "    fig.add_trace(go.Scatter(x=tspan, y=1.5*df_naz['deceduti'].iloc[:days], \n",
    "                             mode='markers',name='actual infected'))#,yaxis='y2'))\n",
    "    \n",
    "    if days <= 30:\n",
    "        step = 1\n",
    "    elif days <= 90:\n",
    "        step = 7\n",
    "    else:\n",
    "        step = 30\n",
    "    \n",
    "    fig.update_layout(title='Simulation of SEIRD Model',\n",
    "                       xaxis_title='Day',\n",
    "                       yaxis_title='Counts',\n",
    "                       title_x=0.5,\n",
    "                      width=900, height=600\n",
    "                     )\n",
    "    fig.update_xaxes(tickangle=-90, tickformat = None, tickmode='array', tickvals=np.arange(0, days + 1, step))\n",
    "    fig.show()"
   ]
  },
  {
   "cell_type": "code",
   "execution_count": 134,
   "metadata": {},
   "outputs": [
    {
     "name": "stderr",
     "output_type": "stream",
     "text": [
      "/home/maurizio/anaconda3/envs/covid19/lib/python3.7/site-packages/scipy/integrate/odepack.py:248: ODEintWarning:\n",
      "\n",
      "Excess work done on this call (perhaps wrong Dfun type). Run with full_output = 1 to get quantitative information.\n",
      "\n"
     ]
    }
   ],
   "source": [
    "beta, sigma, gamma, mu = curve_fit(myfunc, xdata=tspan, ydata=ydata)[0]#, p0 = [0.4, 0.2, 0.2, 0.2])\n",
    "initN = 60000000\n",
    "# S0 = 966000000\n",
    "initE = 1\n",
    "initI = 120\n",
    "initR = 0\n",
    "initD = 0\n",
    "sigma_t = 1/sigma\n",
    "gamma_t = 1/gamma\n",
    "# mu = 0.014\n",
    "R0 = beta/gamma\n",
    "# beta = R0 * gamma\n",
    "days = 150"
   ]
  },
  {
   "cell_type": "code",
   "execution_count": 135,
   "metadata": {
    "scrolled": true
   },
   "outputs": [
    {
     "data": {
      "application/vnd.jupyter.widget-view+json": {
       "model_id": "cb14b053ae0c41c690559f1cb1b4d57d",
       "version_major": 2,
       "version_minor": 0
      },
      "text/plain": [
       "interactive(children=(IntSlider(value=1, description='initE', layout=Layout(width='99%'), max=100000, style=Sl…"
      ]
     },
     "metadata": {},
     "output_type": "display_data"
    }
   ],
   "source": [
    "interact(main, \n",
    "         initE=widgets.IntSlider(min=0, max=100000, step=1, value=initE, description='initE', style=style, layout=slider_layout),\n",
    "         initI=widgets.IntSlider(min=0, max=100000, step=10, value=initI, description='initI', style=style, layout=slider_layout),\n",
    "         initR=widgets.IntSlider(min=0, max=100000, step=10, value=initR, description='initR', style=style, layout=slider_layout),\n",
    "         initD=widgets.IntSlider(min=0, max=100000, step=10, value=initD, description='initD', style=style, layout=slider_layout),\n",
    "         initN=widgets.IntSlider(min=0, max=1380000000, step=1000, value=initN, description='initN', style=style, layout=slider_layout),\n",
    "#          beta=widgets.FloatSlider(min=0, max=4, step=0.01, value=beta, description='Infection rate', style=style, layout=slider_layout),\n",
    "         R0 = widgets.FloatSlider(min=0, max=4, step=0.01, value=R0, description='Initial Reproduction number R0', style=style, layout=slider_layout),\n",
    "         sigma_t=widgets.FloatSlider(min=0, max=40, step=0.01, value=sigma_t, description='Incubation period', style=style, layout=slider_layout),\n",
    "         gamma_t=widgets.FloatSlider(min=0, max=40, step=0.01, value=gamma_t, description='Recovery period', style=style, layout=slider_layout),\n",
    "         mu=widgets.FloatSlider(min=0, max=1, step=0.001, value=mu, description='Mortality rate', style=style, layout=slider_layout),\n",
    "         days=widgets.IntSlider(min=1, max=600, step=7, value=days, description='Days', style=style, layout=slider_layout)\n",
    "        );"
   ]
  },
  {
   "cell_type": "markdown",
   "metadata": {},
   "source": [
    "#### begin remove section"
   ]
  },
  {
   "cell_type": "code",
   "execution_count": 8,
   "metadata": {},
   "outputs": [],
   "source": [
    "new_cases = df_naz['nuovi_positivi'].rolling(7).mean().dropna()"
   ]
  },
  {
   "cell_type": "code",
   "execution_count": 9,
   "metadata": {},
   "outputs": [],
   "source": [
    "def IDEA(t,R_0,d):\n",
    "    return (R_0 / (1+d)**t)**t"
   ]
  },
  {
   "cell_type": "code",
   "execution_count": 10,
   "metadata": {},
   "outputs": [
    {
     "name": "stdout",
     "output_type": "stream",
     "text": [
      "1.6995351381224317\n",
      "0.00805933230361858\n"
     ]
    },
    {
     "name": "stderr",
     "output_type": "stream",
     "text": [
      "/home/maurizio/anaconda3/envs/covid19/lib/python3.7/site-packages/ipykernel_launcher.py:2: RuntimeWarning:\n",
      "\n",
      "overflow encountered in power\n",
      "\n"
     ]
    }
   ],
   "source": [
    "R_0, d = curve_fit(IDEA, xdata=range(len(new_cases)), ydata=new_cases)[0]\n",
    "print(R_0)\n",
    "print(d)"
   ]
  },
  {
   "cell_type": "code",
   "execution_count": 11,
   "metadata": {},
   "outputs": [],
   "source": [
    "I_t = pd.Series(np.array([IDEA(t, R_0, d) for t in range(len(new_cases))]), index=new_cases.index)"
   ]
  },
  {
   "cell_type": "code",
   "execution_count": 12,
   "metadata": {},
   "outputs": [
    {
     "data": {
      "text/plain": [
       "[<matplotlib.lines.Line2D at 0x7f307125f490>]"
      ]
     },
     "execution_count": 12,
     "metadata": {},
     "output_type": "execute_result"
    },
    {
     "data": {
      "image/png": "[encoded data removed]",
      "text/plain": [
       "<Figure size 432x288 with 1 Axes>"
      ]
     },
     "metadata": {
      "needs_background": "light"
     },
     "output_type": "display_data"
    }
   ],
   "source": [
    "new_cases.plot()\n",
    "plt.plot(I_t)"
   ]
  },
  {
   "cell_type": "markdown",
   "metadata": {},
   "source": [
    "[Top](#top)"
   ]
  }
 ],
 "metadata": {
  "hide_input": false,
  "kernelspec": {
   "display_name": "Python 3",
   "language": "python",
   "name": "python3"
  },
  "language_info": {
   "codemirror_mode": {
    "name": "ipython",
    "version": 3
   },
   "file_extension": ".py",
   "mimetype": "text/x-python",
   "name": "python",
   "nbconvert_exporter": "python",
   "pygments_lexer": "ipython3",
   "version": "3.7.6"
  },
  "toc": {
   "base_numbering": "1",
   "nav_menu": {},
   "number_sections": true,
   "sideBar": true,
   "skip_h1_title": false,
   "title_cell": "COVID19 World and Italy monitor",
   "title_sidebar": "Contents",
   "toc_cell": true,
   "toc_position": {
    "height": "448px",
    "left": "38px",
    "top": "110px",
    "width": "287px"
   },
   "toc_section_display": true,
   "toc_window_display": true
  },
  "varInspector": {
   "cols": {
    "lenName": 16,
    "lenType": 16,
    "lenVar": 40
   },
   "kernels_config": {
    "python": {
     "delete_cmd_postfix": "",
     "delete_cmd_prefix": "del ",
     "library": "var_list.py",
     "varRefreshCmd": "print(var_dic_list())"
    },
    "r": {
     "delete_cmd_postfix": ") ",
     "delete_cmd_prefix": "rm(",
     "library": "var_list.r",
     "varRefreshCmd": "cat(var_dic_list()) "
    }
   },
   "types_to_exclude": [
    "module",
    "function",
    "builtin_function_or_method",
    "instance",
    "_Feature"
   ],
   "window_display": false
  }
 },
 "nbformat": 4,
 "nbformat_minor": 2
}
