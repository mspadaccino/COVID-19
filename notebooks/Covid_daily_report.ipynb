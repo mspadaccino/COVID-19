{
 "cells": [
  {
   "cell_type": "markdown",
   "metadata": {},
   "source": [
    "# COVID19 World and Italy monitor"
   ]
  },
  {
   "cell_type": "markdown",
   "metadata": {},
   "source": [
    "<img src=\"image.png\">"
   ]
  },
  {
   "cell_type": "markdown",
   "metadata": {},
   "source": [
    "This repo contains analysis built around data about global and italian diffusion of COVID-19 that might be useful in monitoring the spread of coronavirus around the world.\n",
    "This monitor does not by any means intend to provide any attempt to predict future evolutions of the virus but only to offer a visual tool to capture its dynamics.\n",
    "Data are automatically downloaded from publicly available repos such as:\n",
    "\n",
    "1) John Hopkins CSSE (https://github.com/CSSEGISandData/COVID-19) for world data\n",
    "\n",
    "2) Protezione Civile Italiana (https://github.com/pcm-dpc/COVID-19) for national data\n",
    "\n",
    "Just scroll down the notebook to perform various analysis on both worldwide and italian data\n",
    "\n",
    "Code available at my repo:\n",
    "https://github.com/mspadaccino/COVID-19\n"
   ]
  },
  {
   "cell_type": "code",
   "execution_count": 2,
   "metadata": {},
   "outputs": [],
   "source": [
    "%load_ext autoreload\n",
    "%autoreload 2\n",
    "import sys\n",
    "import os\n",
    "import types\n",
    "sys.path.append('../')\n",
    "import pandas as pd\n",
    "import numpy as np\n",
    "import matplotlib.pyplot as plt\n",
    "import matplotlib.dates as mdates\n",
    "from src import tools\n",
    "from src.tools import func_log, func_gomp, func_exp, func_ext_log\n",
    "import inspect\n",
    "import plotly.express as px\n",
    "from sklearn.linear_model import LinearRegression\n",
    "from scipy.integrate import odeint\n",
    "from scipy.optimize import curve_fit\n",
    "from scipy.optimize import differential_evolution\n",
    "from src.data_downloader import DATA_REPOS, download_from_repo\n",
    "from matplotlib.ticker import ScalarFormatter\n",
    "import matplotlib.ticker as ticker\n",
    "from ipywidgets import interact, interactive, fixed, interact_manual\n",
    "import ipywidgets as widgets\n",
    "from ipywidgets import interact, interactive, fixed, interact_manual\n",
    "import plotly.graph_objects as go\n",
    "pd.set_option('display.max_columns', None)"
   ]
  },
  {
   "cell_type": "code",
   "execution_count": 3,
   "metadata": {},
   "outputs": [],
   "source": [
    "dest=os.path.expanduser(os.path.join('~','Documents', 'projects', 'coronavirus', 'data'))"
   ]
  },
  {
   "cell_type": "code",
   "execution_count": 3,
   "metadata": {},
   "outputs": [
    {
     "name": "stdout",
     "output_type": "stream",
     "text": [
      "updating datasets from repos...\n"
     ]
    }
   ],
   "source": [
    "print('updating datasets from repos...')"
   ]
  },
  {
   "cell_type": "code",
   "execution_count": 4,
   "metadata": {},
   "outputs": [
    {
     "name": "stdout",
     "output_type": "stream",
     "text": [
      "downloading world data\n",
      "last commit  2020-04-05 01:55:38\n"
     ]
    }
   ],
   "source": [
    "print('downloading world data')\n",
    "download_from_repo(DATA_REPOS['world']['url'], filenames=DATA_REPOS['world']['streams'], dest=dest)"
   ]
  },
  {
   "cell_type": "code",
   "execution_count": 5,
   "metadata": {},
   "outputs": [
    {
     "name": "stdout",
     "output_type": "stream",
     "text": [
      "downloading Italian data\n",
      "could not retrieve repo infos,  Error -5 while decompressing data: incomplete or truncated stream\n"
     ]
    }
   ],
   "source": [
    "print('downloading Italian data')\n",
    "download_from_repo(DATA_REPOS['italy']['url'], filenames=DATA_REPOS['italy']['streams'], dest=dest)"
   ]
  },
  {
   "cell_type": "code",
   "execution_count": 4,
   "metadata": {
    "scrolled": true
   },
   "outputs": [],
   "source": [
    "df_naz = pd.read_csv('../data/dpc-covid19-ita-andamento-nazionale.csv').drop('stato',1)\n",
    "reg = pd.read_csv('../data/dpc-covid19-ita-regioni.csv')\n",
    "prov = pd.read_csv('../data/dpc-covid19-ita-province.csv').drop('stato',1)\n",
    "df_naz.index = pd.to_datetime(df_naz.index)\n",
    "reg['data'] = pd.to_datetime(reg['data'])\n",
    "prov['data'] = pd.to_datetime(prov['data'])\n",
    "df_world_confirmed = pd.read_csv('../data/time_series_covid19_confirmed_global.csv')\n",
    "df_world_deaths = pd.read_csv('../data/time_series_covid19_deaths_global.csv')\n",
    "df_world_recovered = pd.read_csv('../data/time_series_covid19_recovered_global.csv')\n",
    "populations = pd.read_csv('../data/API_SP.POP.TOTL_DS2_en_csv_v2.csv', skiprows=4, engine='python').set_index('Country Name')['2018']\n",
    "ita_populations = pd.read_csv('../data/popitaregions.csv')\n",
    "df_world_confirmed['pop'] = df_world_confirmed['Country/Region'].map(populations)\n",
    "df_world_deaths['pop'] = df_world_deaths['Country/Region'].map(populations)\n",
    "df_world_recovered['pop'] = df_world_recovered['Country/Region'].map(populations)\n",
    "df_naz = tools.add_extra_features(df_naz)\n",
    "regions = reg.groupby('denominazione_regione')\n",
    "df_reg = {}\n",
    "df_reg['Italy'] = df_naz\n",
    "for item in regions.groups:\n",
    "    df_reg[item] = tools.add_extra_features(regions.get_group(item)).replace((np.inf, np.nan), 0)\n",
    "\n",
    "provinces = prov.groupby('sigla_provincia')\n",
    "df_prov = pd.DataFrame()\n",
    "for item in provinces.groups:\n",
    "    df_prov = pd.concat((df_prov,tools.add_extra_features(provinces.get_group(item)).replace((np.inf, np.nan), 0)),0)"
   ]
  },
  {
   "cell_type": "code",
   "execution_count": 5,
   "metadata": {},
   "outputs": [],
   "source": [
    "pop_replace = [('US', 'United States'), ('Korea, South', 'Korea, Rep.'), \n",
    "               ('Venezuela','Venezuela, RB'), ('Bahamas','Bahamas, The'), \n",
    "               ('Iran','Iran, Islamic Rep.'), ('Russia','Russian Federation'), \n",
    "               ('Egypt','Egypt, Arab Rep.'), ('Syria','Syrian Arab Republic'),\n",
    "               ('Slovakia','Slovak Republic'),('Czechia','Czech Republic'),\n",
    "               ('Congo (Brazzaville)','Congo, Rep.'),\n",
    "               ('Congo (Kinshasa)','Congo, Dem. Rep.'),('Kyrgyzstan','Kyrgyz Republic'),\n",
    "               ('Laos','Lao PDR'),('Brunei','Brunei Darussalam'),\n",
    "               ('Gambia', 'Gambia, The')]\n",
    "for item in pop_replace:\n",
    "    try:\n",
    "        populations.loc[item[0]] = populations.loc[item[1]]\n",
    "        del populations[item[1]]\n",
    "    except Exception as e:\n",
    "        print(e)\n",
    "        \n",
    "pops = ita_populations.loc[ita_populations['Regione']=='Trentino-Alto Adige', ['Popolazione','Superficie sqkm','ab/sqkm','Numero_comuni','Numero_province']].values/2\n",
    "newdf = pd.DataFrame(index = ['P.A. Trento', 'P.A. Bolzano', 'Italy'], columns=ita_populations.set_index('Regione').columns)\n",
    "newdf.loc['P.A. Trento']=pops[0]\n",
    "newdf.loc['P.A. Bolzano']=pops[0]\n",
    "newdf.loc['Italy']= [populations.loc['Italy'], 0., 0., 0., 0.]\n",
    "newdf.reset_index(inplace=True)\n",
    "newdf.rename(columns={'index': 'Regione'}, inplace=True)\n",
    "ita_populations = pd.concat((ita_populations,newdf)).set_index('Regione')"
   ]
  },
  {
   "cell_type": "code",
   "execution_count": 6,
   "metadata": {},
   "outputs": [],
   "source": [
    "data_columns = ['ricoverati_con_sintomi','terapia_intensiva','totale_ospedalizzati','isolamento_domiciliare','totale_positivi',\n",
    "           'variazione_totale_positivi','nuovi_positivi','dimessi_guariti','deceduti','totale_casi','tamponi',\n",
    "           'delta_totale_casi','%delta_totale_casi','growth_factor','delta_dimessi_guariti','%delta_dimessi_guariti',\n",
    "           'delta_deceduti','%delta_deceduti','deceduti_su_tot','deceduti_su_dimessi']\n",
    "prov_data_columns = ['totale_casi', 'delta_totale_casi', '%delta_totale_casi', 'growth_factor']\n",
    "model_columns = ['ricoverati_con_sintomi', 'terapia_intensiva', 'totale_ospedalizzati', 'isolamento_domiciliare', \n",
    "                 'totale_positivi','nuovi_positivi', 'dimessi_guariti', 'deceduti', 'delta_deceduti', 'totale_casi', \n",
    "                 'tamponi', 'deceduti_su_tot', 'deceduti_su_dimessi']\n",
    "models = {'gompertz': func_gomp, 'logistic':func_log, 'extended logistic':func_ext_log, \n",
    "          'exponential':func_exp, 'log_linear': 'log', 'no_fit':'actual'}\n",
    "countries_columns = df_world_confirmed['Country/Region'].unique()\n",
    "countries_labels = ['confirmed', 'recovered', 'deaths']"
   ]
  },
  {
   "cell_type": "markdown",
   "metadata": {},
   "source": [
    "# Italy Monitor"
   ]
  },
  {
   "cell_type": "markdown",
   "metadata": {},
   "source": [
    "## provinces analysis"
   ]
  },
  {
   "cell_type": "markdown",
   "metadata": {},
   "source": [
    "In this section you can view on any selected date, the geographical distribution around the italian provinces.\n",
    "\n",
    "See which provinces recorder the highest number of selected cases for the day:"
   ]
  },
  {
   "cell_type": "code",
   "execution_count": 28,
   "metadata": {
    "scrolled": false
   },
   "outputs": [
    {
     "data": {
      "application/vnd.jupyter.widget-view+json": {
       "model_id": "267c2b7285d349479e45ffd2a01e9462",
       "version_major": 2,
       "version_minor": 0
      },
      "text/plain": [
       "interactive(children=(SelectMultiple(description='data', options=('totale_casi', 'delta_totale_casi', '%delta_…"
      ]
     },
     "metadata": {},
     "output_type": "display_data"
    }
   ],
   "source": [
    "@interact\n",
    "def get_top_provinces(label= widgets.SelectMultiple(description=\"data\",options=prov_data_columns), \n",
    "                      top_prov=widgets.IntSlider(min=1,max=20,step=1,value=10), date=widgets.DatePicker(\n",
    "                      description='Pick a Date',value=pd.to_datetime(df_prov.index.max())),\n",
    "                      show_map=True):\n",
    "    try:\n",
    "        df_prov.index = pd.to_datetime(df_prov.index)\n",
    "        if len(label) == 0:\n",
    "            label = prov_data_columns[:1]\n",
    "        label = list(label)\n",
    "        tempdf = df_prov.loc[str(date)][['sigla_provincia','denominazione_provincia', 'lat', 'long']+ label].sort_values(by=label, \n",
    "             ascending=False)[:top_prov].set_index('sigla_provincia')\n",
    "\n",
    "        if label == ['%delta_totale_casi']:\n",
    "            tempdf[label] = tempdf[label]*100.\n",
    "\n",
    "        if show_map:\n",
    "            fig = px.density_mapbox(tempdf, \n",
    "                        lat='lat', lon='long', z=label[0], radius=10, \n",
    "                        labels = label[0],\n",
    "                        hover_name='denominazione_provincia',\n",
    "                        zoom=4.5,  height=800,\n",
    "                        mapbox_style=\"open-street-map\",\n",
    "                        title='top {} provinces on day {}'.format(top_prov, date.strftime(\"%m/%d/%Y\"))\n",
    "               )\n",
    "            fig.show()\n",
    "        else:\n",
    "            fig = px.bar(tempdf[label].reset_index(), x=label[0], y='sigla_provincia', orientation='h')\n",
    "            fig.update_layout(showlegend=True,title='top {} provinces on day {}'.format(top_prov, date.strftime(\"%m/%d/%Y\")))\n",
    "            fig.show()\n",
    "    except Exception as e:\n",
    "        print(e)"
   ]
  },
  {
   "cell_type": "markdown",
   "metadata": {},
   "source": [
    "In this monitor, we can analyse virus statistics for the provinces in each of the selected region on a given date:"
   ]
  },
  {
   "cell_type": "code",
   "execution_count": 20,
   "metadata": {},
   "outputs": [
    {
     "data": {
      "application/vnd.jupyter.widget-view+json": {
       "model_id": "cf3bbd396d10494fb3c42452555f2528",
       "version_major": 2,
       "version_minor": 0
      },
      "text/plain": [
       "interactive(children=(Dropdown(description='label', options=('totale_casi', 'delta_totale_casi', '%delta_total…"
      ]
     },
     "metadata": {},
     "output_type": "display_data"
    }
   ],
   "source": [
    "@interact\n",
    "def get_prov_data(label=prov_data_columns, region = list(df_prov.denominazione_regione.unique()),date=widgets.DatePicker(\n",
    "                      description='Pick a Date',value=pd.to_datetime(df_prov.index.max()))):\n",
    "    try:\n",
    "        df_prov.index = pd.to_datetime(df_prov.index)\n",
    "        temp = df_prov.groupby('denominazione_regione').get_group(region).loc[date\n",
    "            ].set_index('denominazione_provincia')[label].sort_values()#.plot(kind='barh', \n",
    "        fig = px.bar(temp.reset_index(), x=label, y='denominazione_provincia', orientation='h')\n",
    "        fig.update_layout(showlegend=True,title='{} on day {}'.format(label, date.strftime(\"%m/%d/%Y\")))\n",
    "        fig.show()\n",
    "    except Exception as e:\n",
    "        print(e)"
   ]
  },
  {
   "cell_type": "markdown",
   "metadata": {},
   "source": [
    "## regional analysis"
   ]
  },
  {
   "cell_type": "markdown",
   "metadata": {},
   "source": [
    "In this monitor, you can compare data on a given date for one or more regions on both absolute and relative values). \n",
    "\n",
    "Please note: more items can be selected, on both region and data fields."
   ]
  },
  {
   "cell_type": "code",
   "execution_count": 29,
   "metadata": {},
   "outputs": [
    {
     "data": {
      "application/vnd.jupyter.widget-view+json": {
       "model_id": "4ab7106756c94ff6bde4de208ce089ab",
       "version_major": 2,
       "version_minor": 0
      },
      "text/plain": [
       "interactive(children=(SelectMultiple(description='regions', options=('Italy', 'Abruzzo', 'Basilicata', 'Calabr…"
      ]
     },
     "metadata": {},
     "output_type": "display_data"
    }
   ],
   "source": [
    "@interact\n",
    "def get_values_for_day(regions = widgets.SelectMultiple(description=\"regions\",options=list(df_reg.keys())),\n",
    "                       labels = widgets.SelectMultiple(description=\"data\",options=data_columns),\n",
    "                       date=widgets.DatePicker(description='Pick a Date',value=pd.to_datetime(df_prov.index.max())),\n",
    "                       cases_per_mln_people=False):\n",
    "    try:\n",
    "        if len(regions) == 0:\n",
    "            regions = ['Italy']\n",
    "        regions = list(regions)    \n",
    "        if len(labels) == 0:\n",
    "            labels = ['nuovi_positivi', 'delta_deceduti','delta_dimessi_guariti']\n",
    "        labels = list(labels)\n",
    "        mult = 1.\n",
    "        fig = go.Figure()\n",
    "        for region in regions:    \n",
    "            if cases_per_mln_people: \n",
    "                mult = 1e06/ita_populations.loc[region, 'Popolazione']\n",
    "            for item in labels: \n",
    "                df_reg[region].index = pd.to_datetime(df_reg[region].index)\n",
    "            fig.add_traces(go.Bar(y=labels, x=df_reg[region][labels].loc[date]*mult, name=region, orientation='h'))\n",
    "            fig.update_layout(showlegend=True,title='day ' + str(date.strftime(\"%m/%d/%Y\")))\n",
    "\n",
    "        fig.show()\n",
    "    except Exception as e:\n",
    "        print(e)"
   ]
  },
  {
   "cell_type": "markdown",
   "metadata": {},
   "source": [
    "In this section, it is possible to visualize evolution of selected cases and compare it between different regions (multiple selection allowed). When flag relative_date is selected, time series are normalized on their x_axis in order to compare cases starting from their first appearance date."
   ]
  },
  {
   "cell_type": "code",
   "execution_count": 25,
   "metadata": {
    "scrolled": true
   },
   "outputs": [
    {
     "data": {
      "application/vnd.jupyter.widget-view+json": {
       "model_id": "679aee6bcf0d4e0481c2ff92b5fb2ed8",
       "version_major": 2,
       "version_minor": 0
      },
      "text/plain": [
       "interactive(children=(SelectMultiple(description='regions', options=('Italy', 'Abruzzo', 'Basilicata', 'Calabr…"
      ]
     },
     "metadata": {},
     "output_type": "display_data"
    }
   ],
   "source": [
    "@interact\n",
    "def plt_region(regions = widgets.SelectMultiple(description=\"regions\",options=list(df_reg.keys())), \n",
    "               labels = widgets.SelectMultiple(description=\"data\",options=data_columns),\n",
    "              log=False, relative_dates=False, cases_per_mln_people=False):    \n",
    "    try:\n",
    "        if len(labels) == 0:\n",
    "            labels = data_columns[:1] \n",
    "        labels = list(labels)\n",
    "        if len(regions) == 0:\n",
    "            regions = ['Italy']\n",
    "        regions = list(regions)    \n",
    "        fig = go.Figure()\n",
    "        mult = 1.\n",
    "        for item in labels:\n",
    "            for region in regions:\n",
    "                if cases_per_mln_people: \n",
    "                    mult = 1e06/ita_populations.loc[region, 'Popolazione']\n",
    "                df_reg[region].index = pd.to_datetime(df_reg[region].index)\n",
    "                temp = df_reg[region]\n",
    "                if relative_dates: temp = temp.loc[~(temp[item]==0)].reset_index(drop=True).iloc[:-1] \n",
    "                if log:\n",
    "                    fig.add_traces(go.Scatter(x=temp.index, y=temp[item]*mult, name=item+'_'+region))\n",
    "                else:\n",
    "                    fig.add_traces(go.Bar(x=temp.index, y=temp[item]*mult, name=item+'_'+region))\n",
    "        fig.update_layout(showlegend=True)\n",
    "        if log: fig.update_layout(yaxis_type=\"log\")\n",
    "        fig.show()\n",
    "    except Exception as e:\n",
    "        print(e)   "
   ]
  },
  {
   "cell_type": "markdown",
   "metadata": {},
   "source": [
    "## Model fitting"
   ]
  },
  {
   "cell_type": "markdown",
   "metadata": {},
   "source": [
    "In this section, it is possible to fit various models in order to provide a visual forecasting according to the selected model.\n",
    "\n",
    "Various options are available:\n",
    "\n",
    "1) Generalized logistic\n",
    "\n",
    "2) Extended logistic\n",
    "\n",
    "3) Gompertz growth model\n",
    "\n",
    "4) Exponential model\n",
    "\n",
    "5) Logarithmic-linear regression model\n",
    "\n",
    "6) No fit (just actual data)\n",
    "\n",
    "for cases where there is no reason to expect a saturation (\"plateau\"), such as daily new infected data, it is possibile to fit the data a as a derivative by setting fit_differential flag to True\n"
   ]
  },
  {
   "cell_type": "code",
   "execution_count": 27,
   "metadata": {},
   "outputs": [
    {
     "data": {
      "application/vnd.jupyter.widget-view+json": {
       "model_id": "11e990dc351044e6ac7fe71b9f6494bc",
       "version_major": 2,
       "version_minor": 0
      },
      "text/plain": [
       "interactive(children=(Dropdown(description='region', options=('Italy', 'Italy', 'Abruzzo', 'Basilicata', 'Cala…"
      ]
     },
     "metadata": {},
     "output_type": "display_data"
    }
   ],
   "source": [
    "@interact\n",
    "def get_model(region=['Italy']+list(df_reg.keys()), \n",
    "              start_fit=widgets.DatePicker(value=pd.to_datetime(df_naz.index[0])), \n",
    "              end_fit=widgets.DatePicker(value=pd.to_datetime(df_naz.index[-1])), fwd_look=50, \n",
    "              func=models, label = model_columns, stdev=widgets.IntSlider(min=0, max=3, value=1),\n",
    "              fit_differential=False):\n",
    "    try:\n",
    "        if region=='Italy':\n",
    "            df = df_naz\n",
    "        else:\n",
    "            df = df_reg[region]\n",
    "        df.index = pd.to_datetime(df.index)\n",
    "        start_fit = pd.Timestamp(start_fit)\n",
    "        end_fit = pd.Timestamp(end_fit)\n",
    "        y_fit = df[label].loc[start_fit:end_fit].dropna()\n",
    "        x_fit = range(len(y_fit.index))\n",
    "        if isinstance(func, types.FunctionType):\n",
    "            x_pred2 = range(len(df.index)+fwd_look)\n",
    "            x_pred1 = range(len(df.index))\n",
    "            sig = inspect.signature(func)\n",
    "            n_params = len(sig.parameters.items()) -1\n",
    "            if fit_differential:\n",
    "                y_fit = y_fit.cumsum()\n",
    "            params, params_cov = curve_fit(func, x_fit, y_fit, \n",
    "                                bounds=([0. for item in range(n_params)], \n",
    "                                        [np.inf for item in range(n_params)]), \n",
    "                                           method='trf', maxfev=10000)\n",
    "            stderr = np.sqrt(np.diag(params_cov))\n",
    "            params_up = params + stderr * stdev\n",
    "            params_down = params - stderr * stdev\n",
    "            y_pred1 = func(x_pred1, *params)\n",
    "            y_pred2 = func(x_pred2, *params)\n",
    "            y_pred_up = func(x_pred2, *params_up)\n",
    "            y_pred_down = func(x_pred2, *params_down)\n",
    "            if fit_differential:\n",
    "                y_pred1 = np.diff(y_pred1)\n",
    "                y_pred2 = np.diff(y_pred2)\n",
    "                y_pred_up = np.diff(y_pred_up)\n",
    "                y_pred_down = np.diff(y_pred_down)\n",
    "            errors = (y_pred_up - y_pred_down)\n",
    "            rmse = np.sqrt(np.mean((y_fit - func(x_fit, *params)) ** 2))\n",
    "        elif func=='log':\n",
    "            x_pred2 = range(len(df.index)+fwd_look)\n",
    "            x_pred1 = range(len(df.index))\n",
    "            model = LinearRegression()\n",
    "            model.fit(np.array(x_fit).reshape(-1,1), np.log(y_fit))\n",
    "            r2 = model.score(np.array(x_fit).reshape(-1, 1), np.log(y_fit))\n",
    "            params = model.coef_\n",
    "            y_pred1 = model.predict(np.array(x_pred1).reshape(-1,1))\n",
    "            y_pred2 = model.predict(np.array(x_pred2).reshape(-1,1))\n",
    "            errors = 0.\n",
    "        fig = go.Figure()\n",
    "        if isinstance(func, types.FunctionType):\n",
    "            fig.add_traces(go.Scatter(x=pd.date_range(start=df.index.min(), end=df.index.max()), y=df[label].values, \n",
    "                                  name=label, mode='markers'))\n",
    "            fig.add_traces(go.Scatter(x=pd.date_range(start=start_fit, end=end_fit), \n",
    "                                  y=y_pred1[:(end_fit-start_fit).days], name='model rmse: '+str(int(rmse))))\n",
    "            fig.add_traces(go.Scatter(x=pd.date_range(start=end_fit, end=df.index.max()+pd.Timedelta(str(fwd_look)+'d')), \n",
    "                                  y=y_pred2[(end_fit-start_fit).days:],error_y=dict(array=errors,color='green',\n",
    "                                        thickness=.2,width=0.5), name='forecast'))   \n",
    "        elif func=='log':\n",
    "            fig.add_traces(go.Scatter(x=pd.date_range(start=df.index.min(), \n",
    "                                end=df.index.max()), y=np.log(df[label].values), \n",
    "                                  name=label, mode='markers'))\n",
    "            fig.add_traces(go.Scatter(x=pd.date_range(start=start_fit, end=end_fit), \n",
    "                                  y=y_pred1[:(end_fit-start_fit).days], \n",
    "                                      name='model rmse: '+str(np.round(r2,2))))\n",
    "            fig.add_traces(go.Scatter(x=pd.date_range(start=end_fit, end=df.index.max()+pd.Timedelta(str(fwd_look)+'d')), \n",
    "                                  y=y_pred2[(end_fit-start_fit).days:]\n",
    "                                      , name='log forecast'))   \n",
    "\n",
    "        else:\n",
    "            fig.add_traces(go.Bar(x=pd.date_range(start=df.index.min(), end=df.index.max()), y=df[label].values, \n",
    "                                  name=label))\n",
    "\n",
    "\n",
    "        fig.update_layout(showlegend=True)\n",
    "        fig.show()\n",
    "    except Exception as e:\n",
    "        print(e)"
   ]
  },
  {
   "cell_type": "markdown",
   "metadata": {},
   "source": [
    "# World Monitor"
   ]
  },
  {
   "cell_type": "markdown",
   "metadata": {},
   "source": [
    "## Country comparisons"
   ]
  },
  {
   "cell_type": "markdown",
   "metadata": {},
   "source": [
    "In this section we provide comparison analysise between different countries"
   ]
  },
  {
   "cell_type": "code",
   "execution_count": 28,
   "metadata": {},
   "outputs": [
    {
     "data": {
      "application/vnd.jupyter.widget-view+json": {
       "model_id": "ad1dfa5243f4475f822a65df3e1a8a31",
       "version_major": 2,
       "version_minor": 0
      },
      "text/plain": [
       "interactive(children=(SelectMultiple(description='regions', options=('Afghanistan', 'Albania', 'Algeria', 'And…"
      ]
     },
     "metadata": {},
     "output_type": "display_data"
    }
   ],
   "source": [
    "@interact\n",
    "def world_comparison(regions = widgets.SelectMultiple(description=\"regions\",options=countries_columns), \n",
    "               labels = widgets.SelectMultiple(description=\"data\",options=countries_labels),\n",
    "              log=False, relative_dates=False, cases_per_mln_people=False):    \n",
    "    try:\n",
    "        if len(labels) == 0:\n",
    "            labels = countries_labels[:1] \n",
    "        labels = list(labels)\n",
    "        if len(regions) == 0:\n",
    "            regions = ['Italy']\n",
    "        regions = list(regions)\n",
    "        df = {}\n",
    "        df['confirmed'] = df_world_confirmed.copy().groupby('Country/Region').sum().drop(['Lat', 'Long', 'pop'], 1).T\n",
    "        df['recovered'] = df_world_recovered.copy().groupby('Country/Region').sum().drop(['Lat', 'Long', 'pop'], 1).T        \n",
    "        df['deaths'] = df_world_deaths.copy().groupby('Country/Region').sum().drop(['Lat', 'Long', 'pop'], 1).T\n",
    "        mult = 1.\n",
    "        fig = go.Figure()\n",
    "        for item in labels:\n",
    "            for region in regions:            \n",
    "                temp = df[item][region]\n",
    "                temp.index = pd.to_datetime(temp.index)\n",
    "                if cases_per_mln_people: \n",
    "                    mult = 1e06/populations.loc[region]\n",
    "                if relative_dates: temp = temp.loc[~(temp==0)].reset_index(drop=True).iloc[:-1] \n",
    "                if log:\n",
    "                    fig.add_traces(go.Scatter(x=temp.index, y=temp*mult, name=item+'_'+region))\n",
    "                else:\n",
    "                    fig.add_traces(go.Bar(x=temp.index, y=temp*mult, name=item+'_'+region))\n",
    "        fig.update_layout(showlegend=True)\n",
    "        if log: fig.update_layout(yaxis_type=\"log\")\n",
    "        fig.show()\n",
    "    except Exception as e:\n",
    "        print(e)"
   ]
  },
  {
   "cell_type": "markdown",
   "metadata": {},
   "source": [
    "## Model fitting"
   ]
  },
  {
   "cell_type": "markdown",
   "metadata": {},
   "source": [
    "The same model fitting can be performed for world countries"
   ]
  },
  {
   "cell_type": "code",
   "execution_count": 29,
   "metadata": {},
   "outputs": [
    {
     "data": {
      "application/vnd.jupyter.widget-view+json": {
       "model_id": "c6840097cea74a8dac11a519c5bc34b5",
       "version_major": 2,
       "version_minor": 0
      },
      "text/plain": [
       "interactive(children=(Dropdown(description='region', options=('Afghanistan', 'Albania', 'Algeria', 'Andorra', …"
      ]
     },
     "metadata": {},
     "output_type": "display_data"
    }
   ],
   "source": [
    "@interact\n",
    "def get_model_world(region=countries_columns, \n",
    "              start_fit=widgets.DatePicker(value=pd.to_datetime(df_naz.index[0])), \n",
    "              end_fit=widgets.DatePicker(value=pd.to_datetime(df_naz.index[-1])), fwd_look=50, \n",
    "              func=models, label = countries_labels, stdev=widgets.IntSlider(min=0, max=3, value=1),\n",
    "              fit_differential=False):\n",
    "    if label=='confirmed':\n",
    "        df = df_world_confirmed.groupby('Country/Region').sum().drop(['Lat', 'Long', 'pop'], 1).T[region]\n",
    "    elif label=='recovered':\n",
    "        df = df_world_recovered.groupby('Country/Region').sum().drop(['Lat', 'Long', 'pop'], 1).T[region]\n",
    "    elif label=='deaths':\n",
    "        df = df_world_deaths.groupby('Country/Region').sum().drop(['Lat', 'Long', 'pop'], 1).T[region]\n",
    "    try:\n",
    "        df.index = pd.to_datetime(df.index)\n",
    "        start_fit = pd.Timestamp(start_fit)\n",
    "        end_fit = pd.Timestamp(end_fit)\n",
    "        y_fit = df.loc[start_fit:end_fit].dropna()\n",
    "        x_fit = range(len(y_fit.index))\n",
    "        if isinstance(func, types.FunctionType):\n",
    "            x_pred2 = range(len(df.index)+fwd_look)\n",
    "            x_pred1 = range(len(df.index))\n",
    "            sig = inspect.signature(func)\n",
    "            n_params = len(sig.parameters.items()) -1\n",
    "            if fit_differential:\n",
    "                y_fit = y_fit.cumsum()\n",
    "            params, params_cov = curve_fit(func, x_fit, y_fit, \n",
    "                                bounds=([0. for item in range(n_params)], \n",
    "                                        [np.inf for item in range(n_params)]), \n",
    "                                           method='trf',  maxfev=10000)\n",
    "            stderr = np.sqrt(np.diag(params_cov))\n",
    "            params_up = params + stderr * stdev\n",
    "            params_down = params - stderr * stdev\n",
    "            y_pred1 = func(x_pred1, *params)\n",
    "            y_pred2 = func(x_pred2, *params)\n",
    "            y_pred_up = func(x_pred2, *params_up)\n",
    "            y_pred_down = func(x_pred2, *params_down)\n",
    "            if fit_differential:\n",
    "                y_pred1 = np.diff(y_pred1)\n",
    "                y_pred2 = np.diff(y_pred2)\n",
    "                y_pred_up = np.diff(y_pred_up)\n",
    "                y_pred_down = np.diff(y_pred_down)\n",
    "            errors = (y_pred_up - y_pred_down)\n",
    "            rmse = np.sqrt(np.mean((y_fit - func(x_fit, *params)) ** 2))\n",
    "        elif func=='log':\n",
    "            x_pred2 = range(len(df.index)+fwd_look)\n",
    "            x_pred1 = range(len(df.index))\n",
    "            model = LinearRegression()\n",
    "            model.fit(np.array(x_fit).reshape(-1,1), np.log1p(y_fit))\n",
    "            r2 = model.score(np.array(x_fit).reshape(-1, 1), np.log1p(y_fit))\n",
    "            params = model.coef_\n",
    "            y_pred1 = model.predict(np.array(x_pred1).reshape(-1,1))\n",
    "            y_pred2 = model.predict(np.array(x_pred2).reshape(-1,1))\n",
    "            errors = 0.\n",
    "        fig = go.Figure()\n",
    "        if isinstance(func, types.FunctionType):\n",
    "            fig.add_traces(go.Scatter(x=pd.date_range(start=df.index.min(), end=df.index.max()), y=df.values, \n",
    "                                  name=label, mode='markers'))\n",
    "            fig.add_traces(go.Scatter(x=pd.date_range(start=start_fit, end=end_fit), \n",
    "                                  y=y_pred1[:(end_fit-start_fit).days], name='model rmse: '+str(int(rmse))))\n",
    "            fig.add_traces(go.Scatter(x=pd.date_range(start=end_fit, end=df.index.max()+pd.Timedelta(str(fwd_look)+'d')), \n",
    "                                  y=y_pred2[(end_fit-start_fit).days:],error_y=dict(array=errors,color='green',\n",
    "                                        thickness=.2,width=0.5), name='forecast'))   \n",
    "        elif func=='log':\n",
    "            fig.add_traces(go.Scatter(x=pd.date_range(start=df.index.min(), \n",
    "                                end=df.index.max()), y=np.log1p(df.values), \n",
    "                                  name=label, mode='markers'))\n",
    "            fig.add_traces(go.Scatter(x=pd.date_range(start=start_fit, end=end_fit), \n",
    "                                  y=y_pred1[:(end_fit-start_fit).days], \n",
    "                                      name='model rmse: '+str(np.round(r2,2))))\n",
    "            fig.add_traces(go.Scatter(x=pd.date_range(start=end_fit, end=df.index.max()+pd.Timedelta(str(fwd_look)+'d')), \n",
    "                                  y=y_pred2[(end_fit-start_fit).days:]\n",
    "                                      , name='log forecast'))   \n",
    "\n",
    "        else:\n",
    "            fig.add_traces(go.Bar(x=pd.date_range(start=df.index.min(), end=df.index.max()), y=df.values, \n",
    "                                  name=label))\n",
    "\n",
    "        fig.update_layout(showlegend=True, title=region)\n",
    "        fig.show()\n",
    "    except Exception as e:\n",
    "        print(e)"
   ]
  },
  {
   "cell_type": "code",
   "execution_count": null,
   "metadata": {},
   "outputs": [],
   "source": []
  }
 ],
 "metadata": {
  "kernelspec": {
   "display_name": "Python 3",
   "language": "python",
   "name": "python3"
  },
  "language_info": {
   "codemirror_mode": {
    "name": "ipython",
    "version": 3
   },
   "file_extension": ".py",
   "mimetype": "text/x-python",
   "name": "python",
   "nbconvert_exporter": "python",
   "pygments_lexer": "ipython3",
   "version": "3.7.6"
  },
  "toc": {
   "base_numbering": 1,
   "nav_menu": {},
   "number_sections": true,
   "sideBar": true,
   "skip_h1_title": false,
   "title_cell": "Table of Contents",
   "title_sidebar": "Contents",
   "toc_cell": false,
   "toc_position": {},
   "toc_section_display": true,
   "toc_window_display": false
  },
  "varInspector": {
   "cols": {
    "lenName": 16,
    "lenType": 16,
    "lenVar": 40
   },
   "kernels_config": {
    "python": {
     "delete_cmd_postfix": "",
     "delete_cmd_prefix": "del ",
     "library": "var_list.py",
     "varRefreshCmd": "print(var_dic_list())"
    },
    "r": {
     "delete_cmd_postfix": ") ",
     "delete_cmd_prefix": "rm(",
     "library": "var_list.r",
     "varRefreshCmd": "cat(var_dic_list()) "
    }
   },
   "types_to_exclude": [
    "module",
    "function",
    "builtin_function_or_method",
    "instance",
    "_Feature"
   ],
   "window_display": false
  }
 },
 "nbformat": 4,
 "nbformat_minor": 2
}
