{
 "cells": [
  {
   "cell_type": "code",
   "execution_count": 2,
   "metadata": {
    "scrolled": true
   },
   "outputs": [
    {
     "name": "stderr",
     "output_type": "stream",
     "text": [
      "c:\\anaconda3\\envs\\coronavirus\\lib\\site-packages\\ipykernel_launcher.py:23: YAMLLoadWarning:\n",
      "\n",
      "calling yaml.load() without Loader=... is deprecated, as the default Loader is unsafe. Please read https://msg.pyyaml.org/load for full details.\n",
      "\n"
     ]
    }
   ],
   "source": [
    "%load_ext autoreload\n",
    "%autoreload 2\n",
    "import sys\n",
    "import os\n",
    "import time\n",
    "import types\n",
    "sys.path.append('../')\n",
    "import pandas as pd\n",
    "import numpy as np\n",
    "import ipywidgets as widgets\n",
    "from ipywidgets import interact, interactive, interactive_output\n",
    "from traitlets import traitlets\n",
    "import matplotlib.pyplot as plt\n",
    "from fbprophet import Prophet\n",
    "import yaml\n",
    "from src.data_downloader import DATA_REPOS, download_from_repo, get_dataframes\n",
    "import plotly.graph_objects as go\n",
    "from plotly.graph_objs import Layout\n",
    "from plotly.subplots import make_subplots\n",
    "import plotly.express as px\n",
    "from IPython.display import display, clear_output\n",
    "with open(\"columns_names.yaml\", 'r') as stream:\n",
    "    out = yaml.load(stream)\n",
    "    orig_data_columns = out['LABELS']['orig_data_columns']\n",
    "    extra_data_columns = out['LABELS']['extra_data_columns']\n",
    "    prov_data_columns = out['LABELS']['prov_data_columns']\n",
    "    trend_labels = out['LABELS']['trend_labels']\n",
    "daily_cols = ['daily_'+col for col in orig_data_columns]\n",
    "import warnings\n",
    "warnings.filterwarnings('ignore')\n",
    "dest='../data'"
   ]
  },
  {
   "cell_type": "code",
   "execution_count": 3,
   "metadata": {},
   "outputs": [
    {
     "data": {
      "application/vnd.jupyter.widget-view+json": {
       "model_id": "87a20c603fda4caf9f56a11cf7a7a8fc",
       "version_major": 2,
       "version_minor": 0
      },
      "text/plain": [
       "HBox(children=(Image(value=b'\\x89PNG\\r\\n\\x1a\\n\\x00\\x00\\x00\\rIHDR\\x00\\x00\\x02\\x1e\\x00\\x00\\x00\\xfa\\x08\\x06\\x00\\x…"
      ]
     },
     "metadata": {},
     "output_type": "display_data"
    }
   ],
   "source": [
    "## Read images from file (because this is binary, maybe you can find how to use ByteIO) but this is more easy\n",
    "img1 = open('image.png', 'rb').read()\n",
    "## Create image widgets. You can use layout of ipywidgets only with widgets.\n",
    "## Set image variable, image format and dimension.\n",
    "wi1 = widgets.Image(value=img1, format='png', width=700, height=100)\n",
    "wi2 = widgets.HTML('COVID-19 MONITOR')\n",
    "wi3 = widgets.HTML('Data are automatically downloaded from publicly available repos:')\n",
    "wi4 = widgets.HTML('1) John Hopkins CSSE (https://github.com/CSSEGISandData/COVID-19) for world data')\n",
    "wi5 = widgets.HTML('2) Protezione Civile Italiana (https://github.com/pcm-dpc/COVID-19) for national data')\n",
    "wi6 = widgets.HTML('Code available at my repo:')\n",
    "wi7 = widgets.HTML('https://github.com/mspadaccino/COVID-19')\n",
    "wi8 = widgets.HTML('jupyter notebook and code by Maurizio Spadaccino, april 2020')\n",
    "\n",
    "descr = widgets.VBox([wi2,wi3,wi4,wi5,wi6,wi7,wi8])\n",
    "\n",
    "header = widgets.HBox([wi1,descr])\n",
    "display(header)"
   ]
  },
  {
   "cell_type": "code",
   "execution_count": 15,
   "metadata": {},
   "outputs": [],
   "source": [
    "# first, set the main page as a Tab container\n",
    "main_tab = widgets.Tab()\n",
    "main_tab.set_title(0, 'Data')\n",
    "main_tab.set_title(1, 'Italy')\n",
    "main_tab.set_title(2, 'World')"
   ]
  },
  {
   "cell_type": "code",
   "execution_count": 16,
   "metadata": {},
   "outputs": [],
   "source": [
    "# first tab is for data download\n",
    "download_tab = widgets.VBox()\n",
    "download_out = widgets.Output(layout={'border': '1px solid black'})\n",
    "\n",
    "update_button = widgets.Button(description='Update data from repos')\n",
    "@update_button.on_click\n",
    "def update_repo(b=None):\n",
    "    with download_out:\n",
    "        print('updating data from repositories')\n",
    "        df_naz, reg, prov, df_reg, df_prov, df_world_confirmed, df_world_deaths, df_world_recovered, populations, ita_populations, df_comuni_sett = get_dataframes(dest, npt_rth=5, smooth=True)\n",
    "\n",
    "download_tab.children = [widgets.HBox(children=[download_out, update_button])]"
   ]
  },
  {
   "cell_type": "code",
   "execution_count": 17,
   "metadata": {},
   "outputs": [],
   "source": [
    "with download_out:\n",
    "    df_naz, reg, prov, df_reg, df_prov, df_world_confirmed, df_world_deaths, df_world_recovered, populations, ita_populations, df_comuni_sett = get_dataframes(dest, npt_rth=5, smooth=True)"
   ]
  },
  {
   "cell_type": "code",
   "execution_count": 18,
   "metadata": {},
   "outputs": [],
   "source": [
    "# second tab for italy\n",
    "italy_tab = widgets.Tab()"
   ]
  },
  {
   "cell_type": "code",
   "execution_count": 19,
   "metadata": {},
   "outputs": [],
   "source": [
    "geo_tab = widgets.VBox()\n",
    "province_out = widgets.Output(layout = {\n",
    "            'width': '100%',\n",
    "            'height': '600px',\n",
    "            'border': '1px solid black'\n",
    "        })\n",
    "\n",
    "def get_top_provinces(label, top_prov,date, show_map, show_grid):    \n",
    "    with province_out:\n",
    "        clear_output()\n",
    "        label = [label]\n",
    "        df_prov.index = pd.to_datetime(df_prov.index)\n",
    "        tempdf = df_prov.loc[str(date)][['sigla_provincia','denominazione_provincia', 'lat', 'long']+ label].sort_values(by=label, \n",
    "             ascending=False)[:top_prov].set_index('sigla_provincia')\n",
    "\n",
    "        if show_map:\n",
    "            fig = px.choropleth(tempdf, \n",
    "                                geojson='https://raw.githubusercontent.com/openpolis/geojson-italy/master/geojson/limits_IT_provinces.geojson', \n",
    "                                locations='denominazione_provincia', \n",
    "                                color=label[0], \n",
    "                                color_continuous_scale='Reds',\n",
    "                                featureidkey='properties.prov_name',                                   \n",
    "                                range_color=(0, max(tempdf[label[0]])))\n",
    "            \n",
    "            fig.update_layout(showlegend=True,title='italian provinces',\n",
    "                              paper_bgcolor='rgba(0,0,0,0)',font = dict(color = 'lightgray'),plot_bgcolor='rgba(0,0,0,0)')\n",
    "            fig.update_geos(resolution=50, showcountries=True, countrycolor=\"lightgray\", showland=True, \n",
    "                            showsubunits=True, subunitcolor=\"Blue\", #showocean=True, oceancolor=\"lightblue\"\n",
    "                           )\n",
    "            fig.update_geos(fitbounds=\"locations\", visible=False)\n",
    "            fig.update_layout(height=600)\n",
    "        else:\n",
    "            fig = px.bar(tempdf[label].reset_index(), x=label[0], y='sigla_provincia', orientation='h')\n",
    "            fig.update_layout(showlegend=True,title='top {} provinces on day {}'.format(top_prov, date.strftime(\"%m/%d/%Y\")),\n",
    "                             paper_bgcolor='rgba(0,0,0,0)',font = dict(color = 'lightgray'),plot_bgcolor='rgba(0,0,0,0)')\n",
    "            fig.update_xaxes(showgrid=show_grid, gridwidth=1, gridcolor='gray')\n",
    "            fig.update_yaxes(showgrid=show_grid, gridwidth=1, gridcolor='gray')\n",
    "        fig.show()\n",
    "        \n",
    "prov_widget = interactive(get_top_provinces,label=widgets.Select(options=prov_data_columns),\n",
    "                            top_prov=widgets.IntSlider(min=1,max=150,step=1,value=150),\n",
    "                            date=widgets.DatePicker(description='Pick a Date',value=pd.to_datetime(df_prov.index.max())),\n",
    "                            show_map=widgets.Checkbox(value=True),\n",
    "                            show_grid=widgets.Checkbox(value=True),\n",
    "                            continuous_update=False\n",
    "                            )\n",
    "prov_box = widgets.HBox(prov_widget.children[:-1], layout = widgets.Layout(flex_flow='row wrap'))\n",
    "geo_tab.children = [prov_box, province_out]"
   ]
  },
  {
   "cell_type": "code",
   "execution_count": 20,
   "metadata": {},
   "outputs": [],
   "source": [
    "forecast_tab = widgets.VBox()\n",
    "forecast_out = widgets.Output(layout = {\n",
    "            'width': '100%',\n",
    "            'height': '600px',\n",
    "            'border': '1px solid black'\n",
    "        })\n",
    "\n",
    "def get_forecast(region,start_fit,end_fit,label,forecast_periods,smoothing):\n",
    "    with forecast_out:\n",
    "        clear_output()\n",
    "        df = df_reg[region][label].rolling(smoothing).mean()\n",
    "        y = label\n",
    "        train_data = pd.DataFrame()\n",
    "        train_data['ds']=pd.to_datetime(df.index)\n",
    "        train_data['y']=np.log1p(df.reset_index(drop=True).values)\n",
    "        train_data['floor'] = 0.\n",
    "        m = Prophet(growth='linear', daily_seasonality=True, weekly_seasonality=True, yearly_seasonality=False)\n",
    "        m.fit(train_data.set_index('ds').loc[start_fit:end_fit].reset_index())\n",
    "        future = m.make_future_dataframe(periods=forecast_periods)\n",
    "        future['floor'] = train_data['floor']\n",
    "        forecast = m.predict(future)\n",
    "        forecast['yhat'] = np.expm1(forecast['yhat'])\n",
    "        forecast['yhat_lower'] = np.expm1(forecast['yhat_lower'])\n",
    "        forecast['yhat_upper'] = np.expm1(forecast['yhat_upper'])\n",
    "        train_data['y'] = np.expm1(train_data['y'])\n",
    "        df = pd.merge(left=train_data, right=forecast, on='ds', how='outer').set_index('ds')\n",
    "        df.index = pd.to_datetime(df.index)\n",
    "        fig = go.Figure()\n",
    "        fig.add_trace(go.Scatter(x=df.index, y=df['yhat_lower'],fill=None,mode='lines',line_color='lightgrey',name='confidence_lev_down'))\n",
    "        fig.add_trace(go.Scatter(x=df.index, y=df['yhat_upper'],fill='tonexty',mode='lines',line_color='lightgrey', name='confidence_lev_up'))\n",
    "        fig.add_traces(go.Scatter(x=df.index, y=df['y'], name='{}'.format(y), mode='lines+markers', marker=dict(size=5)))\n",
    "        fig.add_traces(go.Scatter(x=df.loc[start_fit:end_fit].index, y=df['yhat'].loc[start_fit:end_fit], line_color='goldenrod',\n",
    "                                  mode='lines',name='model fit'))\n",
    "        fig.add_traces(go.Scatter(x=df.loc[end_fit:].index, y=df['yhat'].loc[end_fit:], line_color='darkblue', mode='markers',\n",
    "                                  marker=dict(size=2), name='forecast'))\n",
    "        fig.update_layout(showlegend=True,title={'text':label.replace('_', ' ') + ' for ' + region, 'xanchor': 'left'})\n",
    "                         \n",
    "        fig.update_xaxes(showgrid=False, gridwidth=1, gridcolor='gray')\n",
    "        fig.update_yaxes(showgrid=False, gridwidth=1, gridcolor='gray')\n",
    "        fig.show()\n",
    "        \n",
    "\n",
    "\n",
    "forecast_widget=interactive(get_forecast, {'manual': True},\n",
    "                              region=widgets.Dropdown(options=df_reg.keys(), value='Italy'), \n",
    "                              start_fit=widgets.DatePicker(value=pd.to_datetime(df_naz.index[0])), \n",
    "                              end_fit=widgets.DatePicker(value=pd.to_datetime(df_naz.index[-10])), \n",
    "                              label = widgets.Dropdown(options=trend_labels, value='nuovi_positivi'),\n",
    "                              forecast_periods=50, smoothing=widgets.IntText(1),\n",
    "                              continuous_update=False)\n",
    "forecast_widget.children[-2].description = 'Launch Forecast'\n",
    "forecast_box = widgets.HBox(forecast_widget.children[:-1], layout = widgets.Layout(flex_flow='row wrap'))\n",
    "\n",
    "forecast_tab.children = [forecast_box, forecast_out]"
   ]
  },
  {
   "cell_type": "code",
   "execution_count": 21,
   "metadata": {},
   "outputs": [],
   "source": [
    "evo_tab = widgets.VBox()\n",
    "\n",
    "evo_out = widgets.Output(layout = {\n",
    "            'width': '100%',\n",
    "            'height': '600px',\n",
    "            'border': '1px solid black'\n",
    "        })\n",
    "\n",
    "def plt_region(regions,labels,log,relative_dates,cases_per_mln_people,plot_bars,show_grid,aggregate,apply_ma):    \n",
    "    with evo_out:\n",
    "        clear_output()\n",
    "        if len(labels) == 0:\n",
    "            labels = ['Rth'] \n",
    "        labels = list(labels)\n",
    "        if len(regions) == 0:\n",
    "            regions = ['Italy']\n",
    "        regions = list(regions)  \n",
    "        fig = go.Figure()\n",
    "        mult = 1.\n",
    "        for item in labels:\n",
    "            if aggregate:\n",
    "                if cases_per_mln_people: \n",
    "                    mult = 1e06/ita_populations.loc[regions, 'Popolazione'].sum()                \n",
    "                temp = df_reg[regions[0]][item].copy() \n",
    "                for region in regions[1:]:\n",
    "                    temp = temp.add(df_reg[region][item])\n",
    "                if item == 'Rth':\n",
    "                    if (len(regions[1:])) > 0:                        \n",
    "                        temp = temp/len(regions[1:])\n",
    "                temp = pd.DataFrame(temp)\n",
    "                if relative_dates: temp = temp.loc[~(temp[item]==0)].reset_index(drop=True).iloc[:-1] \n",
    "                temp = temp.rolling(apply_ma).mean().shift(-0)\n",
    "                if plot_bars:\n",
    "                    fig.add_traces(go.Bar(x=temp.index, y=temp[item]*mult, name=item+'_'+'-'.join(regions)))\n",
    "                else:\n",
    "                    fig.add_traces(go.Scatter(x=temp.index, y=temp[item]*mult, name=item+'_'+'-'.join(regions)))\n",
    "\n",
    "            else:\n",
    "                for region in regions:\n",
    "                    if cases_per_mln_people: \n",
    "                        mult = 1e06/ita_populations.loc[region, 'Popolazione']\n",
    "                    df_reg[region].index = pd.to_datetime(df_reg[region].index)\n",
    "                    temp = df_reg[region].copy() \n",
    "                    temp[item] = temp[item].rolling(apply_ma).mean().shift(-0)\n",
    "                    if relative_dates: temp = temp.loc[~(temp[item]==0)].reset_index(drop=True).iloc[:-1] \n",
    "                        \n",
    "                    if plot_bars:\n",
    "                        fig.add_traces(go.Bar(x=temp.index, y=temp[item]*mult, name=item+'_'+region))\n",
    "                    else:\n",
    "                        fig.add_traces(go.Scatter(x=temp.index, y=temp[item]*mult, name=item+'_'+region))\n",
    "        fig.update_layout(showlegend=True,\n",
    "                          legend_orientation=\"h\",\n",
    "                          title='Regional Evolution')\n",
    "        if log: fig.update_layout(yaxis_type=\"log\")\n",
    "        fig.show()\n",
    "        \n",
    "evo_widget = interactive(plt_region,\n",
    "                         regions = widgets.SelectMultiple(description=\"regions\",\n",
    "                                                          options=list(df_reg.keys()), value=['Italy']), \n",
    "                         labels = widgets.SelectMultiple(description=\"fields\",\n",
    "                                                         options=orig_data_columns+extra_data_columns+daily_cols, value=['nuovi_positivi']),\n",
    "                         log=False, \n",
    "                         relative_dates=False, \n",
    "                         cases_per_mln_people=False, \n",
    "                         plot_bars=True, \n",
    "                         show_grid=False,\n",
    "                         aggregate=False, \n",
    "                         apply_ma=widgets.IntText(value=1, min=1, max=150))\n",
    "evo_box = widgets.HBox(evo_widget.children[:-1], layout = widgets.Layout(flex_flow='row wrap'))\n",
    "\n",
    "evo_tab.children = [evo_box, evo_out]"
   ]
  },
  {
   "cell_type": "code",
   "execution_count": 22,
   "metadata": {},
   "outputs": [],
   "source": [
    "daily_tab = widgets.VBox()\n",
    "\n",
    "daily_out = widgets.Output(layout = {\n",
    "            'width': '100%',\n",
    "            'height': '600px',\n",
    "            'border': '1px solid black'\n",
    "        })\n",
    "\n",
    "def get_values_for_day(regions,labels,date,cases_per_mln_people):\n",
    "    with daily_out:\n",
    "        clear_output()\n",
    "        data_columns = orig_data_columns+extra_data_columns\n",
    "        if len(regions) == 0:\n",
    "            regions = ['Italy']\n",
    "        regions = list(regions)    \n",
    "        if len(labels) == 0:\n",
    "            labels = [item for item in data_columns if ('daily' in item) & ('%' not in item)]\n",
    "        labels = list(labels)\n",
    "        mult = 1.\n",
    "        fig = go.Figure()\n",
    "        for region in regions:    \n",
    "            if cases_per_mln_people: \n",
    "                mult = 1e06/ita_populations.loc[region, 'Popolazione']\n",
    "            for item in labels: \n",
    "                df_reg[region].index = pd.to_datetime(df_reg[region].index)\n",
    "            fig.add_traces(go.Bar(y=labels, x=df_reg[region][labels].loc[date]*mult, name=region, orientation='h'))\n",
    "            fig.update_layout(showlegend=True,title='day ' + str(date.strftime(\"%m/%d/%Y\")))\n",
    "        fig.show()\n",
    "\n",
    "default_regions = pd.DataFrame({reg: df_reg[reg]['Rth'].iloc[-1] for reg in df_reg.keys()}, index=[0]).T.sort_values(by=0, ascending=False).iloc[:10].index\n",
    "    \n",
    "daily_widget = interactive(get_values_for_day,\n",
    "                           regions = widgets.SelectMultiple(description=\"regions\",\n",
    "                                                            options=list(df_reg.keys()), value=list(default_regions)),\n",
    "                           labels = widgets.SelectMultiple(description=\"data\",\n",
    "                                                           options=orig_data_columns+extra_data_columns+daily_cols, \n",
    "                                                           value=['Rth']),\n",
    "                           date=widgets.DatePicker(description='Pick a Date',\n",
    "                                                   value=pd.to_datetime(df_prov.index.max())),\n",
    "                           cases_per_mln_people=False, \n",
    "                           )\n",
    "daily_box = widgets.HBox(daily_widget.children[:-1], layout = widgets.Layout(flex_flow='row wrap'))\n",
    "\n",
    "daily_tab.children = [daily_box, daily_out]"
   ]
  },
  {
   "cell_type": "code",
   "execution_count": 23,
   "metadata": {},
   "outputs": [],
   "source": [
    "province_tab = widgets.VBox()\n",
    "province2_out = widgets.Output(layout = {\n",
    "            'width': '100%',\n",
    "            'height': '600px',\n",
    "            'border': '1px solid black'\n",
    "        })\n",
    "\n",
    "    \n",
    "def get_prov_data_evolution(label, region,\n",
    "                           show_grid,\n",
    "                           cumulated_bars,\n",
    "                           log,\n",
    "                           plot_bars):\n",
    "    with province2_out:\n",
    "        clear_output()\n",
    "        df_prov.index = pd.to_datetime(df_prov.index)        \n",
    "        if cumulated_bars:\n",
    "            label='daily_totale_casi'\n",
    "            temp = df_prov.groupby('denominazione_regione').get_group(region).set_index('denominazione_provincia')[label].sort_values()\n",
    "            fig = px.bar(temp.reset_index(), x=label, y='denominazione_provincia', orientation='h')\n",
    "        else:\n",
    "            temp = df_prov.groupby('denominazione_regione').get_group(region).groupby('denominazione_provincia')[label]\n",
    "            fig = go.Figure()\n",
    "            for province in temp.groups.keys():   \n",
    "                if plot_bars:\n",
    "                    fig.add_traces(go.Bar(x=temp.get_group(province).index, y=temp.get_group(province), name=province))\n",
    "                else:                \n",
    "                    fig.add_traces(go.Scatter(y=temp.get_group(province), name=province))\n",
    "            if log: fig.update_layout(yaxis_type=\"log\")  \n",
    "        fig.update_layout(showlegend=True,title='province details evolution')                             \n",
    "        fig.show()\n",
    "        \n",
    "prov2_widget = interactive(get_prov_data_evolution,\n",
    "                           label=prov_data_columns, region = list(df_prov.denominazione_regione.unique()),\n",
    "                           show_grid=False,\n",
    "                           cumulated_bars = False,\n",
    "                           log=False,\n",
    "                           plot_bars=False,\n",
    "                           continuous_update=False\n",
    "                           )\n",
    "prov2_box = widgets.HBox(prov2_widget.children[:-1], layout = widgets.Layout(flex_flow='row wrap'))\n",
    "province_tab.children = [prov2_box, province2_out]"
   ]
  },
  {
   "cell_type": "code",
   "execution_count": 24,
   "metadata": {},
   "outputs": [],
   "source": [
    "italy_tab.children = [geo_tab, daily_tab, evo_tab, forecast_tab, province_tab]\n",
    "italy_tab.set_title(0, 'geo evolution')\n",
    "italy_tab.set_title(1, 'daily cases')\n",
    "italy_tab.set_title(2, 'evolution')\n",
    "italy_tab.set_title(3, 'forecast')\n",
    "italy_tab.set_title(4, 'province evolution')"
   ]
  },
  {
   "cell_type": "code",
   "execution_count": 25,
   "metadata": {},
   "outputs": [],
   "source": [
    "# add all components to main_tab page\n",
    "main_tab.children=[download_tab, italy_tab]"
   ]
  },
  {
   "cell_type": "code",
   "execution_count": 26,
   "metadata": {
    "scrolled": false
   },
   "outputs": [
    {
     "data": {
      "application/vnd.jupyter.widget-view+json": {
       "model_id": "cfcec40fe527417faaa93ab3a63494ff",
       "version_major": 2,
       "version_minor": 0
      },
      "text/plain": [
       "Tab(children=(VBox(children=(HBox(children=(Output(layout=Layout(border='1px solid black')), Button(descriptio…"
      ]
     },
     "metadata": {},
     "output_type": "display_data"
    }
   ],
   "source": [
    "main_tab"
   ]
  },
  {
   "cell_type": "code",
   "execution_count": null,
   "metadata": {},
   "outputs": [],
   "source": []
  }
 ],
 "metadata": {
  "hide_input": false,
  "kernelspec": {
   "display_name": "Python 3",
   "language": "python",
   "name": "python3"
  },
  "language_info": {
   "codemirror_mode": {
    "name": "ipython",
    "version": 3
   },
   "file_extension": ".py",
   "mimetype": "text/x-python",
   "name": "python",
   "nbconvert_exporter": "python",
   "pygments_lexer": "ipython3",
   "version": "3.7.6"
  },
  "toc": {
   "base_numbering": 1,
   "nav_menu": {},
   "number_sections": true,
   "sideBar": true,
   "skip_h1_title": false,
   "title_cell": "Table of Contents",
   "title_sidebar": "Contents",
   "toc_cell": false,
   "toc_position": {},
   "toc_section_display": true,
   "toc_window_display": false
  },
  "varInspector": {
   "cols": {
    "lenName": 16,
    "lenType": 16,
    "lenVar": 40
   },
   "kernels_config": {
    "python": {
     "delete_cmd_postfix": "",
     "delete_cmd_prefix": "del ",
     "library": "var_list.py",
     "varRefreshCmd": "print(var_dic_list())"
    },
    "r": {
     "delete_cmd_postfix": ") ",
     "delete_cmd_prefix": "rm(",
     "library": "var_list.r",
     "varRefreshCmd": "cat(var_dic_list()) "
    }
   },
   "types_to_exclude": [
    "module",
    "function",
    "builtin_function_or_method",
    "instance",
    "_Feature"
   ],
   "window_display": false
  }
 },
 "nbformat": 4,
 "nbformat_minor": 4
}
